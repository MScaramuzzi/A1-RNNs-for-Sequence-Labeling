{
  "cells": [
    {
      "cell_type": "markdown",
      "metadata": {
        "id": "view-in-github",
        "colab_type": "text"
      },
      "source": [
        "<a href=\"https://colab.research.google.com/github/MScaramuzzi/A1-RNNs-for-Sequence-Labeling/blob/main/Ass_1_DEFINITIVO.ipynb\" target=\"_parent\"><img src=\"https://colab.research.google.com/assets/colab-badge.svg\" alt=\"Open In Colab\"/></a>"
      ]
    },
    {
      "cell_type": "markdown",
      "metadata": {
        "id": "05M2wh8VfEZb"
      },
      "source": [
        "# Assignment 1\n",
        "\n",
        "**Due to**: 11/01/2023 (dd/mm/yyyy)\n",
        "\n",
        "**Credits**: Andrea Galassi, Federico Ruggeri, Paolo Torroni\n",
        "\n",
        "**Summary**: Part-of Speech (POS) tagging as Sequence Labelling using Recurrent Neural Architectures"
      ]
    },
    {
      "cell_type": "markdown",
      "metadata": {
        "id": "XGZkN2WkX4Cn"
      },
      "source": [
        "**Authors**:\n",
        "\n",
        "* Sergio Barezzani: sergio.barezzani@studio.unibo.it\n",
        "* Giuseppe Morgese: giuseppe.morgese2@studio.unibo.it\n",
        "* Marco Scaramuzzi: marco.scaramuzzi@studio.unibo.it"
      ]
    },
    {
      "cell_type": "markdown",
      "metadata": {
        "id": "dyQDqTvLeE4-"
      },
      "source": [
        "**Task**: given a corpus of documents, predict the POS tag for each word\n",
        "\n",
        "**Corpus**: Ignore the numeric value in the third column, use only the words/symbols and its label. The corpus is available at: https://raw.githubusercontent.com/nltk/nltk_data/gh-pages/packages/corpora/dependency_treebank.zip"
      ]
    },
    {
      "cell_type": "markdown",
      "metadata": {
        "id": "R6nuwKkoJyrC"
      },
      "source": [
        "Importing and installing useful libraries"
      ]
    },
    {
      "cell_type": "code",
      "execution_count": null,
      "metadata": {
        "colab": {
          "base_uri": "https://localhost:8080/"
        },
        "id": "YzUyHkgSJ-B4",
        "outputId": "9ce89e98-33f1-4196-ffae-092e33854d0d"
      },
      "outputs": [
        {
          "output_type": "stream",
          "name": "stdout",
          "text": [
            "Looking in indexes: https://pypi.org/simple, https://us-python.pkg.dev/colab-wheels/public/simple/\n",
            "Collecting keras_tuner\n",
            "  Downloading keras_tuner-1.1.3-py3-none-any.whl (135 kB)\n",
            "\u001b[?25l     \u001b[90m━━━━━━━━━━━━━━━━━━━━━━━━━━━━━━━━━━━━━━━━\u001b[0m \u001b[32m0.0/135.7 KB\u001b[0m \u001b[31m?\u001b[0m eta \u001b[36m-:--:--\u001b[0m\r\u001b[2K     \u001b[90m━━━━━━━━━━━━━━━━━━━━━━━━━━━━━━━━━━━━━━━\u001b[0m \u001b[32m135.7/135.7 KB\u001b[0m \u001b[31m4.2 MB/s\u001b[0m eta \u001b[36m0:00:00\u001b[0m\n",
            "\u001b[?25hRequirement already satisfied: numpy in /usr/local/lib/python3.8/dist-packages (from keras_tuner) (1.21.6)\n",
            "Requirement already satisfied: tensorboard in /usr/local/lib/python3.8/dist-packages (from keras_tuner) (2.9.1)\n",
            "Requirement already satisfied: requests in /usr/local/lib/python3.8/dist-packages (from keras_tuner) (2.25.1)\n",
            "Requirement already satisfied: packaging in /usr/local/lib/python3.8/dist-packages (from keras_tuner) (21.3)\n",
            "Collecting kt-legacy\n",
            "  Downloading kt_legacy-1.0.4-py3-none-any.whl (9.6 kB)\n",
            "Requirement already satisfied: ipython in /usr/local/lib/python3.8/dist-packages (from keras_tuner) (7.9.0)\n",
            "Requirement already satisfied: pickleshare in /usr/local/lib/python3.8/dist-packages (from ipython->keras_tuner) (0.7.5)\n",
            "Requirement already satisfied: backcall in /usr/local/lib/python3.8/dist-packages (from ipython->keras_tuner) (0.2.0)\n",
            "Requirement already satisfied: prompt-toolkit<2.1.0,>=2.0.0 in /usr/local/lib/python3.8/dist-packages (from ipython->keras_tuner) (2.0.10)\n",
            "Requirement already satisfied: pygments in /usr/local/lib/python3.8/dist-packages (from ipython->keras_tuner) (2.6.1)\n",
            "Collecting jedi>=0.10\n",
            "  Downloading jedi-0.18.2-py2.py3-none-any.whl (1.6 MB)\n",
            "\u001b[2K     \u001b[90m━━━━━━━━━━━━━━━━━━━━━━━━━━━━━━━━━━━━━━━━\u001b[0m \u001b[32m1.6/1.6 MB\u001b[0m \u001b[31m28.6 MB/s\u001b[0m eta \u001b[36m0:00:00\u001b[0m\n",
            "\u001b[?25hRequirement already satisfied: pexpect in /usr/local/lib/python3.8/dist-packages (from ipython->keras_tuner) (4.8.0)\n",
            "Requirement already satisfied: decorator in /usr/local/lib/python3.8/dist-packages (from ipython->keras_tuner) (4.4.2)\n",
            "Requirement already satisfied: setuptools>=18.5 in /usr/local/lib/python3.8/dist-packages (from ipython->keras_tuner) (57.4.0)\n",
            "Requirement already satisfied: traitlets>=4.2 in /usr/local/lib/python3.8/dist-packages (from ipython->keras_tuner) (5.7.1)\n",
            "Requirement already satisfied: pyparsing!=3.0.5,>=2.0.2 in /usr/local/lib/python3.8/dist-packages (from packaging->keras_tuner) (3.0.9)\n",
            "Requirement already satisfied: chardet<5,>=3.0.2 in /usr/local/lib/python3.8/dist-packages (from requests->keras_tuner) (4.0.0)\n",
            "Requirement already satisfied: idna<3,>=2.5 in /usr/local/lib/python3.8/dist-packages (from requests->keras_tuner) (2.10)\n",
            "Requirement already satisfied: certifi>=2017.4.17 in /usr/local/lib/python3.8/dist-packages (from requests->keras_tuner) (2022.12.7)\n",
            "Requirement already satisfied: urllib3<1.27,>=1.21.1 in /usr/local/lib/python3.8/dist-packages (from requests->keras_tuner) (1.24.3)\n",
            "Requirement already satisfied: absl-py>=0.4 in /usr/local/lib/python3.8/dist-packages (from tensorboard->keras_tuner) (1.3.0)\n",
            "Requirement already satisfied: tensorboard-plugin-wit>=1.6.0 in /usr/local/lib/python3.8/dist-packages (from tensorboard->keras_tuner) (1.8.1)\n",
            "Requirement already satisfied: grpcio>=1.24.3 in /usr/local/lib/python3.8/dist-packages (from tensorboard->keras_tuner) (1.51.1)\n",
            "Requirement already satisfied: markdown>=2.6.8 in /usr/local/lib/python3.8/dist-packages (from tensorboard->keras_tuner) (3.4.1)\n",
            "Requirement already satisfied: tensorboard-data-server<0.7.0,>=0.6.0 in /usr/local/lib/python3.8/dist-packages (from tensorboard->keras_tuner) (0.6.1)\n",
            "Requirement already satisfied: wheel>=0.26 in /usr/local/lib/python3.8/dist-packages (from tensorboard->keras_tuner) (0.38.4)\n",
            "Requirement already satisfied: google-auth-oauthlib<0.5,>=0.4.1 in /usr/local/lib/python3.8/dist-packages (from tensorboard->keras_tuner) (0.4.6)\n",
            "Requirement already satisfied: protobuf<3.20,>=3.9.2 in /usr/local/lib/python3.8/dist-packages (from tensorboard->keras_tuner) (3.19.6)\n",
            "Requirement already satisfied: werkzeug>=1.0.1 in /usr/local/lib/python3.8/dist-packages (from tensorboard->keras_tuner) (1.0.1)\n",
            "Requirement already satisfied: google-auth<3,>=1.6.3 in /usr/local/lib/python3.8/dist-packages (from tensorboard->keras_tuner) (2.15.0)\n",
            "Requirement already satisfied: cachetools<6.0,>=2.0.0 in /usr/local/lib/python3.8/dist-packages (from google-auth<3,>=1.6.3->tensorboard->keras_tuner) (5.2.0)\n",
            "Requirement already satisfied: six>=1.9.0 in /usr/local/lib/python3.8/dist-packages (from google-auth<3,>=1.6.3->tensorboard->keras_tuner) (1.15.0)\n",
            "Requirement already satisfied: pyasn1-modules>=0.2.1 in /usr/local/lib/python3.8/dist-packages (from google-auth<3,>=1.6.3->tensorboard->keras_tuner) (0.2.8)\n",
            "Requirement already satisfied: rsa<5,>=3.1.4 in /usr/local/lib/python3.8/dist-packages (from google-auth<3,>=1.6.3->tensorboard->keras_tuner) (4.9)\n",
            "Requirement already satisfied: requests-oauthlib>=0.7.0 in /usr/local/lib/python3.8/dist-packages (from google-auth-oauthlib<0.5,>=0.4.1->tensorboard->keras_tuner) (1.3.1)\n",
            "Requirement already satisfied: parso<0.9.0,>=0.8.0 in /usr/local/lib/python3.8/dist-packages (from jedi>=0.10->ipython->keras_tuner) (0.8.3)\n",
            "Requirement already satisfied: importlib-metadata>=4.4 in /usr/local/lib/python3.8/dist-packages (from markdown>=2.6.8->tensorboard->keras_tuner) (5.2.0)\n",
            "Requirement already satisfied: wcwidth in /usr/local/lib/python3.8/dist-packages (from prompt-toolkit<2.1.0,>=2.0.0->ipython->keras_tuner) (0.2.5)\n",
            "Requirement already satisfied: ptyprocess>=0.5 in /usr/local/lib/python3.8/dist-packages (from pexpect->ipython->keras_tuner) (0.7.0)\n",
            "Requirement already satisfied: zipp>=0.5 in /usr/local/lib/python3.8/dist-packages (from importlib-metadata>=4.4->markdown>=2.6.8->tensorboard->keras_tuner) (3.11.0)\n",
            "Requirement already satisfied: pyasn1<0.5.0,>=0.4.6 in /usr/local/lib/python3.8/dist-packages (from pyasn1-modules>=0.2.1->google-auth<3,>=1.6.3->tensorboard->keras_tuner) (0.4.8)\n",
            "Requirement already satisfied: oauthlib>=3.0.0 in /usr/local/lib/python3.8/dist-packages (from requests-oauthlib>=0.7.0->google-auth-oauthlib<0.5,>=0.4.1->tensorboard->keras_tuner) (3.2.2)\n",
            "Installing collected packages: kt-legacy, jedi, keras_tuner\n",
            "Successfully installed jedi-0.18.2 keras_tuner-1.1.3 kt-legacy-1.0.4\n",
            "Looking in indexes: https://pypi.org/simple, https://us-python.pkg.dev/colab-wheels/public/simple/\n",
            "Requirement already satisfied: keras-tuner in /usr/local/lib/python3.8/dist-packages (1.1.3)\n",
            "Collecting tensorflow-addons\n",
            "  Downloading tensorflow_addons-0.19.0-cp38-cp38-manylinux_2_17_x86_64.manylinux2014_x86_64.whl (1.1 MB)\n",
            "\u001b[2K     \u001b[90m━━━━━━━━━━━━━━━━━━━━━━━━━━━━━━━━━━━━━━━━\u001b[0m \u001b[32m1.1/1.1 MB\u001b[0m \u001b[31m18.0 MB/s\u001b[0m eta \u001b[36m0:00:00\u001b[0m\n",
            "\u001b[?25hRequirement already satisfied: tensorboard in /usr/local/lib/python3.8/dist-packages (from keras-tuner) (2.9.1)\n",
            "Requirement already satisfied: packaging in /usr/local/lib/python3.8/dist-packages (from keras-tuner) (21.3)\n",
            "Requirement already satisfied: requests in /usr/local/lib/python3.8/dist-packages (from keras-tuner) (2.25.1)\n",
            "Requirement already satisfied: numpy in /usr/local/lib/python3.8/dist-packages (from keras-tuner) (1.21.6)\n",
            "Requirement already satisfied: ipython in /usr/local/lib/python3.8/dist-packages (from keras-tuner) (7.9.0)\n",
            "Requirement already satisfied: kt-legacy in /usr/local/lib/python3.8/dist-packages (from keras-tuner) (1.0.4)\n",
            "Requirement already satisfied: typeguard>=2.7 in /usr/local/lib/python3.8/dist-packages (from tensorflow-addons) (2.7.1)\n",
            "Requirement already satisfied: jedi>=0.10 in /usr/local/lib/python3.8/dist-packages (from ipython->keras-tuner) (0.18.2)\n",
            "Requirement already satisfied: pexpect in /usr/local/lib/python3.8/dist-packages (from ipython->keras-tuner) (4.8.0)\n",
            "Requirement already satisfied: backcall in /usr/local/lib/python3.8/dist-packages (from ipython->keras-tuner) (0.2.0)\n",
            "Requirement already satisfied: decorator in /usr/local/lib/python3.8/dist-packages (from ipython->keras-tuner) (4.4.2)\n",
            "Requirement already satisfied: pygments in /usr/local/lib/python3.8/dist-packages (from ipython->keras-tuner) (2.6.1)\n",
            "Requirement already satisfied: traitlets>=4.2 in /usr/local/lib/python3.8/dist-packages (from ipython->keras-tuner) (5.7.1)\n",
            "Requirement already satisfied: prompt-toolkit<2.1.0,>=2.0.0 in /usr/local/lib/python3.8/dist-packages (from ipython->keras-tuner) (2.0.10)\n",
            "Requirement already satisfied: pickleshare in /usr/local/lib/python3.8/dist-packages (from ipython->keras-tuner) (0.7.5)\n",
            "Requirement already satisfied: setuptools>=18.5 in /usr/local/lib/python3.8/dist-packages (from ipython->keras-tuner) (57.4.0)\n",
            "Requirement already satisfied: pyparsing!=3.0.5,>=2.0.2 in /usr/local/lib/python3.8/dist-packages (from packaging->keras-tuner) (3.0.9)\n",
            "Requirement already satisfied: idna<3,>=2.5 in /usr/local/lib/python3.8/dist-packages (from requests->keras-tuner) (2.10)\n",
            "Requirement already satisfied: certifi>=2017.4.17 in /usr/local/lib/python3.8/dist-packages (from requests->keras-tuner) (2022.12.7)\n",
            "Requirement already satisfied: chardet<5,>=3.0.2 in /usr/local/lib/python3.8/dist-packages (from requests->keras-tuner) (4.0.0)\n",
            "Requirement already satisfied: urllib3<1.27,>=1.21.1 in /usr/local/lib/python3.8/dist-packages (from requests->keras-tuner) (1.24.3)\n",
            "Requirement already satisfied: absl-py>=0.4 in /usr/local/lib/python3.8/dist-packages (from tensorboard->keras-tuner) (1.3.0)\n",
            "Requirement already satisfied: google-auth<3,>=1.6.3 in /usr/local/lib/python3.8/dist-packages (from tensorboard->keras-tuner) (2.15.0)\n",
            "Requirement already satisfied: markdown>=2.6.8 in /usr/local/lib/python3.8/dist-packages (from tensorboard->keras-tuner) (3.4.1)\n",
            "Requirement already satisfied: protobuf<3.20,>=3.9.2 in /usr/local/lib/python3.8/dist-packages (from tensorboard->keras-tuner) (3.19.6)\n",
            "Requirement already satisfied: google-auth-oauthlib<0.5,>=0.4.1 in /usr/local/lib/python3.8/dist-packages (from tensorboard->keras-tuner) (0.4.6)\n",
            "Requirement already satisfied: grpcio>=1.24.3 in /usr/local/lib/python3.8/dist-packages (from tensorboard->keras-tuner) (1.51.1)\n",
            "Requirement already satisfied: tensorboard-data-server<0.7.0,>=0.6.0 in /usr/local/lib/python3.8/dist-packages (from tensorboard->keras-tuner) (0.6.1)\n",
            "Requirement already satisfied: wheel>=0.26 in /usr/local/lib/python3.8/dist-packages (from tensorboard->keras-tuner) (0.38.4)\n",
            "Requirement already satisfied: werkzeug>=1.0.1 in /usr/local/lib/python3.8/dist-packages (from tensorboard->keras-tuner) (1.0.1)\n",
            "Requirement already satisfied: tensorboard-plugin-wit>=1.6.0 in /usr/local/lib/python3.8/dist-packages (from tensorboard->keras-tuner) (1.8.1)\n",
            "Requirement already satisfied: cachetools<6.0,>=2.0.0 in /usr/local/lib/python3.8/dist-packages (from google-auth<3,>=1.6.3->tensorboard->keras-tuner) (5.2.0)\n",
            "Requirement already satisfied: rsa<5,>=3.1.4 in /usr/local/lib/python3.8/dist-packages (from google-auth<3,>=1.6.3->tensorboard->keras-tuner) (4.9)\n",
            "Requirement already satisfied: six>=1.9.0 in /usr/local/lib/python3.8/dist-packages (from google-auth<3,>=1.6.3->tensorboard->keras-tuner) (1.15.0)\n",
            "Requirement already satisfied: pyasn1-modules>=0.2.1 in /usr/local/lib/python3.8/dist-packages (from google-auth<3,>=1.6.3->tensorboard->keras-tuner) (0.2.8)\n",
            "Requirement already satisfied: requests-oauthlib>=0.7.0 in /usr/local/lib/python3.8/dist-packages (from google-auth-oauthlib<0.5,>=0.4.1->tensorboard->keras-tuner) (1.3.1)\n",
            "Requirement already satisfied: parso<0.9.0,>=0.8.0 in /usr/local/lib/python3.8/dist-packages (from jedi>=0.10->ipython->keras-tuner) (0.8.3)\n",
            "Requirement already satisfied: importlib-metadata>=4.4 in /usr/local/lib/python3.8/dist-packages (from markdown>=2.6.8->tensorboard->keras-tuner) (5.2.0)\n",
            "Requirement already satisfied: wcwidth in /usr/local/lib/python3.8/dist-packages (from prompt-toolkit<2.1.0,>=2.0.0->ipython->keras-tuner) (0.2.5)\n",
            "Requirement already satisfied: ptyprocess>=0.5 in /usr/local/lib/python3.8/dist-packages (from pexpect->ipython->keras-tuner) (0.7.0)\n",
            "Requirement already satisfied: zipp>=0.5 in /usr/local/lib/python3.8/dist-packages (from importlib-metadata>=4.4->markdown>=2.6.8->tensorboard->keras-tuner) (3.11.0)\n",
            "Requirement already satisfied: pyasn1<0.5.0,>=0.4.6 in /usr/local/lib/python3.8/dist-packages (from pyasn1-modules>=0.2.1->google-auth<3,>=1.6.3->tensorboard->keras-tuner) (0.4.8)\n",
            "Requirement already satisfied: oauthlib>=3.0.0 in /usr/local/lib/python3.8/dist-packages (from requests-oauthlib>=0.7.0->google-auth-oauthlib<0.5,>=0.4.1->tensorboard->keras-tuner) (3.2.2)\n",
            "Installing collected packages: tensorflow-addons\n",
            "Successfully installed tensorflow-addons-0.19.0\n"
          ]
        }
      ],
      "source": [
        "!pip3 install keras_tuner\n",
        "!pip install keras-tuner tensorflow-addons"
      ]
    },
    {
      "cell_type": "code",
      "execution_count": null,
      "metadata": {
        "id": "0Ku46OvKmbIU"
      },
      "outputs": [],
      "source": [
        "import urllib.request  #  download files\n",
        "import tarfile  #  unzip files\n",
        "import shutil\n",
        "import os\n",
        "import urllib.request  #  download files\n",
        "import zipfile  #  unzip files\n",
        "import matplotlib.pyplot as plt\n",
        "import numpy as np\n",
        "import pandas as pd\n",
        "import tensorflow as tf\n",
        "import random\n",
        "from sklearn.preprocessing import OneHotEncoder\n",
        "from tensorflow import keras\n",
        "import tensorflow as tf\n",
        "import keras_tuner as kt\n",
        "from keras.optimizers import Adam\n",
        "import tensorflow_addons as tfa\n",
        "import tensorflow.keras.backend as K\n",
        "from tensorflow.keras.regularizers import L2\n",
        "from tensorflow.keras.models import Sequential\n",
        "from tensorflow.keras.layers import InputLayer,Dropout, LSTM, Bidirectional, GRU, Dense, TimeDistributed, Activation,Masking\n",
        "from keras_tuner import RandomSearch, Objective\n",
        "from keras.utils.vis_utils import plot_model\n",
        "from keras.models import load_model\n",
        "from sklearn.metrics import confusion_matrix, ConfusionMatrixDisplay, f1_score,classification_report,accuracy_score\n",
        "from keras.utils.vis_utils import plot_model"
      ]
    },
    {
      "cell_type": "markdown",
      "metadata": {
        "id": "5TgJjk6leDK3"
      },
      "source": [
        "#### Ensuring reproducibility"
      ]
    },
    {
      "cell_type": "code",
      "execution_count": null,
      "metadata": {
        "id": "Km7P166Zd3AN"
      },
      "outputs": [],
      "source": [
        "def set_reproducibility(seed):\n",
        "    random.seed(seed)\n",
        "    np.random.seed(seed)\n",
        "    tf.random.set_seed(seed)\n",
        "    os.environ['TF_DETERMINISTIC_OPS'] = '1'"
      ]
    },
    {
      "cell_type": "code",
      "execution_count": null,
      "metadata": {
        "id": "zE5yNEmKmiQh"
      },
      "outputs": [],
      "source": [
        "set_reproducibility(42)"
      ]
    },
    {
      "cell_type": "markdown",
      "metadata": {
        "id": "GcJOWF-YKNkc"
      },
      "source": [
        "## 1. Download the corpora and split it in training and test sets, structuring a dataframe.\n",
        "\n",
        "\n"
      ]
    },
    {
      "cell_type": "markdown",
      "metadata": {
        "id": "_FBWQ10jr0h8"
      },
      "source": [
        "**Splits**: documents 1-100 are the train set, 101-150 validation set, 151-199 test set."
      ]
    },
    {
      "cell_type": "markdown",
      "metadata": {
        "id": "hZmBv4xvsagY"
      },
      "source": [
        "**Splitting**: you can decide to split documents into sentences or not, the choice is yours.\n"
      ]
    },
    {
      "cell_type": "markdown",
      "metadata": {
        "id": "kJQZWXoksvfu"
      },
      "source": [
        "**I/O structure**: The input data will have three dimensions: 1-documents/sentences, 2-token, 3-features; for the output there are 2 possibilities: if you use one-hot encoding it will be 1-documents/sentences, 2-token labels, 3-classes, if you use a single integer that indicates the number of the class it will be 1-documents/sentences, 2-token labels."
      ]
    },
    {
      "cell_type": "markdown",
      "metadata": {
        "id": "jjKmTTeWKRjO"
      },
      "source": [
        "#### Dataset downloading"
      ]
    },
    {
      "cell_type": "code",
      "execution_count": null,
      "metadata": {
        "colab": {
          "base_uri": "https://localhost:8080/"
        },
        "id": "lh42hngDaT_c",
        "outputId": "3c179bed-1637-4367-c6df-58beb8dbecd2"
      },
      "outputs": [
        {
          "output_type": "stream",
          "name": "stdout",
          "text": [
            "Successful download\n",
            "Successful extraction\n"
          ]
        }
      ],
      "source": [
        "data_folder = os.path.join(os.getcwd(), \"Documents\")\n",
        "\n",
        "if not os.path.exists(data_folder):\n",
        "    os.makedirs(data_folder)\n",
        "\n",
        "url = \"https://raw.githubusercontent.com/nltk/nltk_data/gh-pages/packages/corpora/dependency_treebank.zip\"\n",
        "\n",
        "dataset_path = os.path.join(data_folder, \"dependency_treebank.zip\")\n",
        "\n",
        "if not os.path.exists(dataset_path):\n",
        "    urllib.request.urlretrieve(url, dataset_path)\n",
        "    print(\"Successful download\")\n",
        "\n",
        "with zipfile.ZipFile(dataset_path,\"r\") as zip_ref:\n",
        "    zip_ref.extractall(\"Documents\")\n",
        "\n",
        "docs_folder = os.path.join(data_folder, \"dependency_treebank\")\n",
        "\n",
        "print(\"Successful extraction\")"
      ]
    },
    {
      "cell_type": "markdown",
      "metadata": {
        "id": "Ozw67jZpc3dG"
      },
      "source": [
        "Changing the directory the the one of the data "
      ]
    },
    {
      "cell_type": "code",
      "execution_count": null,
      "metadata": {
        "id": "BHwuOnuAcxqd"
      },
      "outputs": [],
      "source": [
        "os.chdir(docs_folder)"
      ]
    },
    {
      "cell_type": "code",
      "execution_count": null,
      "metadata": {
        "id": "rEJhY-CLOvmy"
      },
      "outputs": [],
      "source": [
        "# Retrieving file names\n",
        "data = []\n",
        "\n",
        "for filename in sorted(os.listdir(docs_folder)):\n",
        "        data.append(filename)\n",
        "\n",
        "train_files, val_files, test_files = data[0:100],data[100:150],data[150:200]\n",
        "file_names = train_files+ val_files+ test_files"
      ]
    },
    {
      "cell_type": "code",
      "execution_count": null,
      "metadata": {
        "id": "vEFXnENQNmTc"
      },
      "outputs": [],
      "source": [
        "def extract_data(files):\n",
        "    \"\"\"\n",
        "    With this function we create an array of arrays for the tokens and \n",
        "    an array of arrays for the tags.\n",
        "    \"\"\"\n",
        "    sentences = []\n",
        "    tags_sents = []\n",
        "    for file in files:\n",
        "        with open(file, mode=\"r\", encoding=\"utf-8\") as file_str:\n",
        "            tkns = []\n",
        "            tags = []\n",
        "            for line in file_str.readlines():\n",
        "                if line.strip() == \"\": # retrieve end of line \n",
        "                            sentences.append(np.array(tkns))\n",
        "                            tags_sents.append(np.array(tags))\n",
        "                            tkns = []\n",
        "                            tags = []\n",
        "                else:\n",
        "                    # add token to sentence if the line is not empty \n",
        "                    token, tag, _ = line.split(\"\\t\")\n",
        "                    tkns.append(token.lower())\n",
        "                    tags.append(tag)\n",
        "            sentences.append(np.array(tkns))\n",
        "            tags_sents.append(np.array(tags))\n",
        "    return np.array(sentences,dtype=object), np.array(tags_sents,dtype=object)"
      ]
    },
    {
      "cell_type": "code",
      "execution_count": null,
      "metadata": {
        "id": "KRUUFlnPSLSU"
      },
      "outputs": [],
      "source": [
        "X_train_sents, y_train_tags = extract_data(train_files)\n",
        "X_val_sents, y_val_tags = extract_data(val_files)\n",
        "X_test_sents, y_test_tags = extract_data(test_files)"
      ]
    },
    {
      "cell_type": "markdown",
      "metadata": {
        "id": "OO57_VXveLxf"
      },
      "source": [
        "### Dataframe creation"
      ]
    },
    {
      "cell_type": "code",
      "execution_count": null,
      "metadata": {
        "id": "MXQs4U_Iw4BS"
      },
      "outputs": [],
      "source": [
        "# Creating the structure of the dataframe rows\n",
        "dataframe_rows = {\n",
        "    'sentences': np.concatenate([X_train_sents, X_val_sents, X_test_sents],axis=0),\n",
        "    'tags':np.concatenate([y_train_tags, y_val_tags, y_test_tags],axis=0) \n",
        "}"
      ]
    },
    {
      "cell_type": "code",
      "execution_count": null,
      "metadata": {
        "colab": {
          "base_uri": "https://localhost:8080/",
          "height": 363
        },
        "id": "luAqu0gHw3mz",
        "outputId": "97c451b0-4d58-4873-d090-5648a831de0c"
      },
      "outputs": [
        {
          "output_type": "execute_result",
          "data": {
            "text/plain": [
              "                                           sentences  \\\n",
              "0  [pierre, vinken, ,, 61, years, old, ,, will, j...   \n",
              "1  [mr., vinken, is, chairman, of, elsevier, n.v....   \n",
              "2  [rudolph, agnew, ,, 55, years, old, and, forme...   \n",
              "3  [a, form, of, asbestos, once, used, to, make, ...   \n",
              "4  [the, asbestos, fiber, ,, crocidolite, ,, is, ...   \n",
              "5  [lorillard, inc., ,, the, unit, of, new, york-...   \n",
              "6  [although, preliminary, findings, were, report...   \n",
              "7  [a, lorillard, spokewoman, said, ,, ``, this, ...   \n",
              "8  [we, 're, talking, about, years, ago, before, ...   \n",
              "9  [there, is, no, asbestos, in, our, products, n...   \n",
              "\n",
              "                                                tags  \n",
              "0  [NNP, NNP, ,, CD, NNS, JJ, ,, MD, VB, DT, NN, ...  \n",
              "1  [NNP, NNP, VBZ, NN, IN, NNP, NNP, ,, DT, NNP, ...  \n",
              "2  [NNP, NNP, ,, CD, NNS, JJ, CC, JJ, NN, IN, NNP...  \n",
              "3  [DT, NN, IN, NN, RB, VBN, TO, VB, NNP, NN, NNS...  \n",
              "4  [DT, NN, NN, ,, NN, ,, VBZ, RB, JJ, IN, PRP, V...  \n",
              "5  [NNP, NNP, ,, DT, NN, IN, JJ, JJ, NNP, NNP, WD...  \n",
              "6  [IN, JJ, NNS, VBD, VBN, RBR, IN, DT, NN, IN, ,...  \n",
              "7  [DT, NNP, NN, VBD, ,, ``, DT, VBZ, DT, JJ, NN, .]  \n",
              "8  [PRP, VBP, VBG, IN, NNS, IN, IN, NN, VBD, IN, ...  \n",
              "9        [EX, VBZ, DT, NN, IN, PRP$, NNS, RB, ., '']  "
            ],
            "text/html": [
              "\n",
              "  <div id=\"df-844408de-e21f-449c-b8b1-b8e630cb4d8c\">\n",
              "    <div class=\"colab-df-container\">\n",
              "      <div>\n",
              "<style scoped>\n",
              "    .dataframe tbody tr th:only-of-type {\n",
              "        vertical-align: middle;\n",
              "    }\n",
              "\n",
              "    .dataframe tbody tr th {\n",
              "        vertical-align: top;\n",
              "    }\n",
              "\n",
              "    .dataframe thead th {\n",
              "        text-align: right;\n",
              "    }\n",
              "</style>\n",
              "<table border=\"1\" class=\"dataframe\">\n",
              "  <thead>\n",
              "    <tr style=\"text-align: right;\">\n",
              "      <th></th>\n",
              "      <th>sentences</th>\n",
              "      <th>tags</th>\n",
              "    </tr>\n",
              "  </thead>\n",
              "  <tbody>\n",
              "    <tr>\n",
              "      <th>0</th>\n",
              "      <td>[pierre, vinken, ,, 61, years, old, ,, will, j...</td>\n",
              "      <td>[NNP, NNP, ,, CD, NNS, JJ, ,, MD, VB, DT, NN, ...</td>\n",
              "    </tr>\n",
              "    <tr>\n",
              "      <th>1</th>\n",
              "      <td>[mr., vinken, is, chairman, of, elsevier, n.v....</td>\n",
              "      <td>[NNP, NNP, VBZ, NN, IN, NNP, NNP, ,, DT, NNP, ...</td>\n",
              "    </tr>\n",
              "    <tr>\n",
              "      <th>2</th>\n",
              "      <td>[rudolph, agnew, ,, 55, years, old, and, forme...</td>\n",
              "      <td>[NNP, NNP, ,, CD, NNS, JJ, CC, JJ, NN, IN, NNP...</td>\n",
              "    </tr>\n",
              "    <tr>\n",
              "      <th>3</th>\n",
              "      <td>[a, form, of, asbestos, once, used, to, make, ...</td>\n",
              "      <td>[DT, NN, IN, NN, RB, VBN, TO, VB, NNP, NN, NNS...</td>\n",
              "    </tr>\n",
              "    <tr>\n",
              "      <th>4</th>\n",
              "      <td>[the, asbestos, fiber, ,, crocidolite, ,, is, ...</td>\n",
              "      <td>[DT, NN, NN, ,, NN, ,, VBZ, RB, JJ, IN, PRP, V...</td>\n",
              "    </tr>\n",
              "    <tr>\n",
              "      <th>5</th>\n",
              "      <td>[lorillard, inc., ,, the, unit, of, new, york-...</td>\n",
              "      <td>[NNP, NNP, ,, DT, NN, IN, JJ, JJ, NNP, NNP, WD...</td>\n",
              "    </tr>\n",
              "    <tr>\n",
              "      <th>6</th>\n",
              "      <td>[although, preliminary, findings, were, report...</td>\n",
              "      <td>[IN, JJ, NNS, VBD, VBN, RBR, IN, DT, NN, IN, ,...</td>\n",
              "    </tr>\n",
              "    <tr>\n",
              "      <th>7</th>\n",
              "      <td>[a, lorillard, spokewoman, said, ,, ``, this, ...</td>\n",
              "      <td>[DT, NNP, NN, VBD, ,, ``, DT, VBZ, DT, JJ, NN, .]</td>\n",
              "    </tr>\n",
              "    <tr>\n",
              "      <th>8</th>\n",
              "      <td>[we, 're, talking, about, years, ago, before, ...</td>\n",
              "      <td>[PRP, VBP, VBG, IN, NNS, IN, IN, NN, VBD, IN, ...</td>\n",
              "    </tr>\n",
              "    <tr>\n",
              "      <th>9</th>\n",
              "      <td>[there, is, no, asbestos, in, our, products, n...</td>\n",
              "      <td>[EX, VBZ, DT, NN, IN, PRP$, NNS, RB, ., '']</td>\n",
              "    </tr>\n",
              "  </tbody>\n",
              "</table>\n",
              "</div>\n",
              "      <button class=\"colab-df-convert\" onclick=\"convertToInteractive('df-844408de-e21f-449c-b8b1-b8e630cb4d8c')\"\n",
              "              title=\"Convert this dataframe to an interactive table.\"\n",
              "              style=\"display:none;\">\n",
              "        \n",
              "  <svg xmlns=\"http://www.w3.org/2000/svg\" height=\"24px\"viewBox=\"0 0 24 24\"\n",
              "       width=\"24px\">\n",
              "    <path d=\"M0 0h24v24H0V0z\" fill=\"none\"/>\n",
              "    <path d=\"M18.56 5.44l.94 2.06.94-2.06 2.06-.94-2.06-.94-.94-2.06-.94 2.06-2.06.94zm-11 1L8.5 8.5l.94-2.06 2.06-.94-2.06-.94L8.5 2.5l-.94 2.06-2.06.94zm10 10l.94 2.06.94-2.06 2.06-.94-2.06-.94-.94-2.06-.94 2.06-2.06.94z\"/><path d=\"M17.41 7.96l-1.37-1.37c-.4-.4-.92-.59-1.43-.59-.52 0-1.04.2-1.43.59L10.3 9.45l-7.72 7.72c-.78.78-.78 2.05 0 2.83L4 21.41c.39.39.9.59 1.41.59.51 0 1.02-.2 1.41-.59l7.78-7.78 2.81-2.81c.8-.78.8-2.07 0-2.86zM5.41 20L4 18.59l7.72-7.72 1.47 1.35L5.41 20z\"/>\n",
              "  </svg>\n",
              "      </button>\n",
              "      \n",
              "  <style>\n",
              "    .colab-df-container {\n",
              "      display:flex;\n",
              "      flex-wrap:wrap;\n",
              "      gap: 12px;\n",
              "    }\n",
              "\n",
              "    .colab-df-convert {\n",
              "      background-color: #E8F0FE;\n",
              "      border: none;\n",
              "      border-radius: 50%;\n",
              "      cursor: pointer;\n",
              "      display: none;\n",
              "      fill: #1967D2;\n",
              "      height: 32px;\n",
              "      padding: 0 0 0 0;\n",
              "      width: 32px;\n",
              "    }\n",
              "\n",
              "    .colab-df-convert:hover {\n",
              "      background-color: #E2EBFA;\n",
              "      box-shadow: 0px 1px 2px rgba(60, 64, 67, 0.3), 0px 1px 3px 1px rgba(60, 64, 67, 0.15);\n",
              "      fill: #174EA6;\n",
              "    }\n",
              "\n",
              "    [theme=dark] .colab-df-convert {\n",
              "      background-color: #3B4455;\n",
              "      fill: #D2E3FC;\n",
              "    }\n",
              "\n",
              "    [theme=dark] .colab-df-convert:hover {\n",
              "      background-color: #434B5C;\n",
              "      box-shadow: 0px 1px 3px 1px rgba(0, 0, 0, 0.15);\n",
              "      filter: drop-shadow(0px 1px 2px rgba(0, 0, 0, 0.3));\n",
              "      fill: #FFFFFF;\n",
              "    }\n",
              "  </style>\n",
              "\n",
              "      <script>\n",
              "        const buttonEl =\n",
              "          document.querySelector('#df-844408de-e21f-449c-b8b1-b8e630cb4d8c button.colab-df-convert');\n",
              "        buttonEl.style.display =\n",
              "          google.colab.kernel.accessAllowed ? 'block' : 'none';\n",
              "\n",
              "        async function convertToInteractive(key) {\n",
              "          const element = document.querySelector('#df-844408de-e21f-449c-b8b1-b8e630cb4d8c');\n",
              "          const dataTable =\n",
              "            await google.colab.kernel.invokeFunction('convertToInteractive',\n",
              "                                                     [key], {});\n",
              "          if (!dataTable) return;\n",
              "\n",
              "          const docLinkHtml = 'Like what you see? Visit the ' +\n",
              "            '<a target=\"_blank\" href=https://colab.research.google.com/notebooks/data_table.ipynb>data table notebook</a>'\n",
              "            + ' to learn more about interactive tables.';\n",
              "          element.innerHTML = '';\n",
              "          dataTable['output_type'] = 'display_data';\n",
              "          await google.colab.output.renderOutput(dataTable, element);\n",
              "          const docLink = document.createElement('div');\n",
              "          docLink.innerHTML = docLinkHtml;\n",
              "          element.appendChild(docLink);\n",
              "        }\n",
              "      </script>\n",
              "    </div>\n",
              "  </div>\n",
              "  "
            ]
          },
          "metadata": {},
          "execution_count": 12
        }
      ],
      "source": [
        "df = pd.DataFrame(dataframe_rows)\n",
        "df.head(10)"
      ]
    },
    {
      "cell_type": "markdown",
      "metadata": {
        "id": "IIVOt12Jk37c"
      },
      "source": [
        "Dataframe inspection"
      ]
    },
    {
      "cell_type": "code",
      "execution_count": null,
      "metadata": {
        "colab": {
          "base_uri": "https://localhost:8080/",
          "height": 333
        },
        "id": "b3sM9PDn1kDu",
        "outputId": "6906af3d-e803-4afb-e7fd-2149f703db9e"
      },
      "outputs": [
        {
          "output_type": "stream",
          "name": "stdout",
          "text": [
            "Dataset shape: (3914, 2) \n",
            "\n",
            "Dataset columns: ['sentences' 'tags'] \n",
            "\n",
            "Dataset Head: \n",
            "\n",
            "--------------------------------------------------\n"
          ]
        },
        {
          "output_type": "display_data",
          "data": {
            "text/plain": [
              "                                           sentences  \\\n",
              "0  [pierre, vinken, ,, 61, years, old, ,, will, j...   \n",
              "1  [mr., vinken, is, chairman, of, elsevier, n.v....   \n",
              "2  [rudolph, agnew, ,, 55, years, old, and, forme...   \n",
              "3  [a, form, of, asbestos, once, used, to, make, ...   \n",
              "4  [the, asbestos, fiber, ,, crocidolite, ,, is, ...   \n",
              "\n",
              "                                                tags  \n",
              "0  [NNP, NNP, ,, CD, NNS, JJ, ,, MD, VB, DT, NN, ...  \n",
              "1  [NNP, NNP, VBZ, NN, IN, NNP, NNP, ,, DT, NNP, ...  \n",
              "2  [NNP, NNP, ,, CD, NNS, JJ, CC, JJ, NN, IN, NNP...  \n",
              "3  [DT, NN, IN, NN, RB, VBN, TO, VB, NNP, NN, NNS...  \n",
              "4  [DT, NN, NN, ,, NN, ,, VBZ, RB, JJ, IN, PRP, V...  "
            ],
            "text/html": [
              "\n",
              "  <div id=\"df-efa6a286-25e0-4950-b695-33d7cf664b4e\">\n",
              "    <div class=\"colab-df-container\">\n",
              "      <div>\n",
              "<style scoped>\n",
              "    .dataframe tbody tr th:only-of-type {\n",
              "        vertical-align: middle;\n",
              "    }\n",
              "\n",
              "    .dataframe tbody tr th {\n",
              "        vertical-align: top;\n",
              "    }\n",
              "\n",
              "    .dataframe thead th {\n",
              "        text-align: right;\n",
              "    }\n",
              "</style>\n",
              "<table border=\"1\" class=\"dataframe\">\n",
              "  <thead>\n",
              "    <tr style=\"text-align: right;\">\n",
              "      <th></th>\n",
              "      <th>sentences</th>\n",
              "      <th>tags</th>\n",
              "    </tr>\n",
              "  </thead>\n",
              "  <tbody>\n",
              "    <tr>\n",
              "      <th>0</th>\n",
              "      <td>[pierre, vinken, ,, 61, years, old, ,, will, j...</td>\n",
              "      <td>[NNP, NNP, ,, CD, NNS, JJ, ,, MD, VB, DT, NN, ...</td>\n",
              "    </tr>\n",
              "    <tr>\n",
              "      <th>1</th>\n",
              "      <td>[mr., vinken, is, chairman, of, elsevier, n.v....</td>\n",
              "      <td>[NNP, NNP, VBZ, NN, IN, NNP, NNP, ,, DT, NNP, ...</td>\n",
              "    </tr>\n",
              "    <tr>\n",
              "      <th>2</th>\n",
              "      <td>[rudolph, agnew, ,, 55, years, old, and, forme...</td>\n",
              "      <td>[NNP, NNP, ,, CD, NNS, JJ, CC, JJ, NN, IN, NNP...</td>\n",
              "    </tr>\n",
              "    <tr>\n",
              "      <th>3</th>\n",
              "      <td>[a, form, of, asbestos, once, used, to, make, ...</td>\n",
              "      <td>[DT, NN, IN, NN, RB, VBN, TO, VB, NNP, NN, NNS...</td>\n",
              "    </tr>\n",
              "    <tr>\n",
              "      <th>4</th>\n",
              "      <td>[the, asbestos, fiber, ,, crocidolite, ,, is, ...</td>\n",
              "      <td>[DT, NN, NN, ,, NN, ,, VBZ, RB, JJ, IN, PRP, V...</td>\n",
              "    </tr>\n",
              "  </tbody>\n",
              "</table>\n",
              "</div>\n",
              "      <button class=\"colab-df-convert\" onclick=\"convertToInteractive('df-efa6a286-25e0-4950-b695-33d7cf664b4e')\"\n",
              "              title=\"Convert this dataframe to an interactive table.\"\n",
              "              style=\"display:none;\">\n",
              "        \n",
              "  <svg xmlns=\"http://www.w3.org/2000/svg\" height=\"24px\"viewBox=\"0 0 24 24\"\n",
              "       width=\"24px\">\n",
              "    <path d=\"M0 0h24v24H0V0z\" fill=\"none\"/>\n",
              "    <path d=\"M18.56 5.44l.94 2.06.94-2.06 2.06-.94-2.06-.94-.94-2.06-.94 2.06-2.06.94zm-11 1L8.5 8.5l.94-2.06 2.06-.94-2.06-.94L8.5 2.5l-.94 2.06-2.06.94zm10 10l.94 2.06.94-2.06 2.06-.94-2.06-.94-.94-2.06-.94 2.06-2.06.94z\"/><path d=\"M17.41 7.96l-1.37-1.37c-.4-.4-.92-.59-1.43-.59-.52 0-1.04.2-1.43.59L10.3 9.45l-7.72 7.72c-.78.78-.78 2.05 0 2.83L4 21.41c.39.39.9.59 1.41.59.51 0 1.02-.2 1.41-.59l7.78-7.78 2.81-2.81c.8-.78.8-2.07 0-2.86zM5.41 20L4 18.59l7.72-7.72 1.47 1.35L5.41 20z\"/>\n",
              "  </svg>\n",
              "      </button>\n",
              "      \n",
              "  <style>\n",
              "    .colab-df-container {\n",
              "      display:flex;\n",
              "      flex-wrap:wrap;\n",
              "      gap: 12px;\n",
              "    }\n",
              "\n",
              "    .colab-df-convert {\n",
              "      background-color: #E8F0FE;\n",
              "      border: none;\n",
              "      border-radius: 50%;\n",
              "      cursor: pointer;\n",
              "      display: none;\n",
              "      fill: #1967D2;\n",
              "      height: 32px;\n",
              "      padding: 0 0 0 0;\n",
              "      width: 32px;\n",
              "    }\n",
              "\n",
              "    .colab-df-convert:hover {\n",
              "      background-color: #E2EBFA;\n",
              "      box-shadow: 0px 1px 2px rgba(60, 64, 67, 0.3), 0px 1px 3px 1px rgba(60, 64, 67, 0.15);\n",
              "      fill: #174EA6;\n",
              "    }\n",
              "\n",
              "    [theme=dark] .colab-df-convert {\n",
              "      background-color: #3B4455;\n",
              "      fill: #D2E3FC;\n",
              "    }\n",
              "\n",
              "    [theme=dark] .colab-df-convert:hover {\n",
              "      background-color: #434B5C;\n",
              "      box-shadow: 0px 1px 3px 1px rgba(0, 0, 0, 0.15);\n",
              "      filter: drop-shadow(0px 1px 2px rgba(0, 0, 0, 0.3));\n",
              "      fill: #FFFFFF;\n",
              "    }\n",
              "  </style>\n",
              "\n",
              "      <script>\n",
              "        const buttonEl =\n",
              "          document.querySelector('#df-efa6a286-25e0-4950-b695-33d7cf664b4e button.colab-df-convert');\n",
              "        buttonEl.style.display =\n",
              "          google.colab.kernel.accessAllowed ? 'block' : 'none';\n",
              "\n",
              "        async function convertToInteractive(key) {\n",
              "          const element = document.querySelector('#df-efa6a286-25e0-4950-b695-33d7cf664b4e');\n",
              "          const dataTable =\n",
              "            await google.colab.kernel.invokeFunction('convertToInteractive',\n",
              "                                                     [key], {});\n",
              "          if (!dataTable) return;\n",
              "\n",
              "          const docLinkHtml = 'Like what you see? Visit the ' +\n",
              "            '<a target=\"_blank\" href=https://colab.research.google.com/notebooks/data_table.ipynb>data table notebook</a>'\n",
              "            + ' to learn more about interactive tables.';\n",
              "          element.innerHTML = '';\n",
              "          dataTable['output_type'] = 'display_data';\n",
              "          await google.colab.output.renderOutput(dataTable, element);\n",
              "          const docLink = document.createElement('div');\n",
              "          docLink.innerHTML = docLinkHtml;\n",
              "          element.appendChild(docLink);\n",
              "        }\n",
              "      </script>\n",
              "    </div>\n",
              "  </div>\n",
              "  "
            ]
          },
          "metadata": {}
        }
      ],
      "source": [
        "print(f'Dataset shape: {df.shape} \\n')\n",
        "\n",
        "print(f'Dataset columns: {df.columns.values} \\n')\n",
        "\n",
        "print('Dataset Head: \\n')\n",
        "print(\"-\"*50)\n",
        "display(df.head())"
      ]
    },
    {
      "cell_type": "markdown",
      "metadata": {
        "id": "aLPFRgywmarC"
      },
      "source": [
        "### Data exploration\n",
        "We now wish to understand the structure of the data before encoding it with the GloVe embedding and one-hot encoding the labels. \n",
        "\n",
        "We are going to perform some visualization of the distribution of the **tags** in order to make error  analysis more robust."
      ]
    },
    {
      "cell_type": "code",
      "execution_count": null,
      "metadata": {
        "colab": {
          "base_uri": "https://localhost:8080/"
        },
        "id": "F0I4YLu-HRvr",
        "outputId": "dc01184c-3be7-465b-caad-d05659256888"
      },
      "outputs": [
        {
          "output_type": "stream",
          "name": "stdout",
          "text": [
            "- Sentences in the train set: 1963 sentences\n",
            "- Sentences in the validation set: 1299 sentences\n",
            "- Sentences in the test set: 652 sentences\n"
          ]
        }
      ],
      "source": [
        "# Counting the sentences of each sets\n",
        "print(f\"- Sentences in the train set: {X_train_sents.shape[0]} sentences\")\n",
        "print(f\"- Sentences in the validation set: {X_val_sents.shape[0]} sentences\")\n",
        "print(f\"- Sentences in the test set: {X_test_sents.shape[0]} sentences\")"
      ]
    },
    {
      "cell_type": "code",
      "execution_count": null,
      "metadata": {
        "colab": {
          "base_uri": "https://localhost:8080/"
        },
        "id": "3qBucLRIEEaU",
        "outputId": "b7161935-91fe-4732-d799-3be215b9ff3a"
      },
      "outputs": [
        {
          "output_type": "stream",
          "name": "stdout",
          "text": [
            "Example structure of the arrays: \n",
            " [array(['pierre', 'vinken', ',', '61', 'years', 'old', ',', 'will', 'join',\n",
            "        'the', 'board', 'as', 'a', 'nonexecutive', 'director', 'nov.',\n",
            "        '29', '.'], dtype='<U12')\n",
            " array(['mr.', 'vinken', 'is', 'chairman', 'of', 'elsevier', 'n.v.', ',',\n",
            "        'the', 'dutch', 'publishing', 'group', '.'], dtype='<U10')\n",
            " array(['rudolph', 'agnew', ',', '55', 'years', 'old', 'and', 'former',\n",
            "        'chairman', 'of', 'consolidated', 'gold', 'fields', 'plc', ',',\n",
            "        'was', 'named', 'a', 'nonexecutive', 'director', 'of', 'this',\n",
            "        'british', 'industrial', 'conglomerate', '.'], dtype='<U12')\n",
            " array(['a', 'form', 'of', 'asbestos', 'once', 'used', 'to', 'make',\n",
            "        'kent', 'cigarette', 'filters', 'has', 'caused', 'a', 'high',\n",
            "        'percentage', 'of', 'cancer', 'deaths', 'among', 'a', 'group',\n",
            "        'of', 'workers', 'exposed', 'to', 'it', 'more', 'than', '30',\n",
            "        'years', 'ago', ',', 'researchers', 'reported', '.'], dtype='<U11')\n",
            " array(['the', 'asbestos', 'fiber', ',', 'crocidolite', ',', 'is',\n",
            "        'unusually', 'resilient', 'once', 'it', 'enters', 'the', 'lungs',\n",
            "        ',', 'with', 'even', 'brief', 'exposures', 'to', 'it', 'causing',\n",
            "        'symptoms', 'that', 'show', 'up', 'decades', 'later', ',',\n",
            "        'researchers', 'said', '.'], dtype='<U11')                       ] \n"
          ]
        }
      ],
      "source": [
        "print(f\"Example structure of the arrays: \\n {X_train_sents[0:5]} \")"
      ]
    },
    {
      "cell_type": "markdown",
      "metadata": {
        "id": "0HQtla_TEXe2"
      },
      "source": [
        "The structure is an array (`X_train_sents`) of arrays. The elements of each subarray are the words in each sentence). "
      ]
    },
    {
      "cell_type": "code",
      "execution_count": null,
      "metadata": {
        "colab": {
          "base_uri": "https://localhost:8080/"
        },
        "id": "89m3prjHZv-E",
        "outputId": "616e383c-bc44-4fa8-ad6c-f37cfb08e637"
      },
      "outputs": [
        {
          "output_type": "stream",
          "name": "stdout",
          "text": [
            "Example of a document:  the potential sales are nearly $ 9.3 million , and house majority whip william gray -lrb- d. , pa . -rrb- began the bidding this year by proposing language that the quota be allocated to english-speaking countries of the caribbean , such as jamaica and barbados .\n",
            "Example tags:  ['DT' 'JJ' 'NNS' 'VBP' 'RB' '$' 'CD' 'CD' ',' 'CC' 'NNP' 'NNP' 'NNP' 'NNP'\n",
            " 'NNP' '-LRB-' 'NNP' ',' 'NNP' '.' '-RRB-' 'VBD' 'DT' 'NN' 'DT' 'NN' 'IN'\n",
            " 'VBG' 'NN' 'IN' 'DT' 'NN' 'VB' 'VBN' 'TO' 'JJ' 'NNS' 'IN' 'DT' 'NNP' ','\n",
            " 'JJ' 'IN' 'NNP' 'CC' 'NNP' '.']\n"
          ]
        }
      ],
      "source": [
        "print(\"Example of a document: \", ' '.join(X_val_sents[13]))\n",
        "print(\"Example tags: \", (y_val_tags[13]))"
      ]
    },
    {
      "cell_type": "markdown",
      "metadata": {
        "id": "otgnNlkOA5U3"
      },
      "source": [
        "From the above example we can see that in order to reduce the number of tokens in the OOV dictionaries we have lowercased every word. \n",
        "\n",
        "Later we will need to deal with removing ALL the tags that are non explicitly a word (so symbols and punctuation)."
      ]
    },
    {
      "cell_type": "code",
      "execution_count": null,
      "metadata": {
        "id": "94Xx3K4-IQ4w"
      },
      "outputs": [],
      "source": [
        "all_tags = np.concatenate(np.concatenate([y_train_tags,y_val_tags,y_test_tags])) # flatten tag subarrays"
      ]
    },
    {
      "cell_type": "code",
      "execution_count": null,
      "metadata": {
        "colab": {
          "base_uri": "https://localhost:8080/"
        },
        "id": "Mzwbe1GDN5-t",
        "outputId": "a9a0c102-83cf-45f9-9ab7-13759d212ae8"
      },
      "outputs": [
        {
          "output_type": "stream",
          "name": "stdout",
          "text": [
            "The ten most frequent tags are: \n",
            "[('NN', 13166), ('IN', 9857), ('NNP', 9410), ('DT', 8165), ('NNS', 6047), ('JJ', 5834), (',', 4886), ('.', 3874), ('CD', 3546), ('VBD', 3043)]\n"
          ]
        }
      ],
      "source": [
        "tags, counts = list(np.unique(all_tags, return_counts=True)) # count instances of each single tag\n",
        "tags_cnt= dict(zip(tags,counts))                              # merge tags and counts into a dictionary\n",
        "\n",
        "print(\"The ten most frequent tags are: \")\n",
        "sorted_tags = dict(sorted(tags_cnt.items(), key=lambda item: item[1],reverse=True))\n",
        "print(list(sorted_tags.items())[0:10])"
      ]
    },
    {
      "cell_type": "markdown",
      "metadata": {
        "id": "Et3KeDaCdUDv"
      },
      "source": [
        "As expected the most frequent tags are such as nouns(NN,NNP,NNS),adverbs(JJ), determiners(DT) and punctation."
      ]
    },
    {
      "cell_type": "markdown",
      "metadata": {
        "id": "tvkDEojtMOPH"
      },
      "source": [
        "### Understanding content of tag arrays"
      ]
    },
    {
      "cell_type": "markdown",
      "metadata": {
        "id": "Ob7OJYr4D8N1"
      },
      "source": [
        "We need to flatten each arrays with concatenate and then calculate the number of unique tags."
      ]
    },
    {
      "cell_type": "code",
      "execution_count": null,
      "metadata": {
        "id": "gu_rKZPbbdIR"
      },
      "outputs": [],
      "source": [
        "unique_tags_train = np.unique(np.concatenate(y_train_tags))\n",
        "unique_tags_val = np.unique(np.concatenate(y_val_tags))\n",
        "unique_tags_test = np.unique(np.concatenate(y_test_tags))"
      ]
    },
    {
      "cell_type": "code",
      "execution_count": null,
      "metadata": {
        "colab": {
          "base_uri": "https://localhost:8080/"
        },
        "id": "oy_3WN4I1FpA",
        "outputId": "7dc9a406-0b2c-4c6a-d83b-de8c976438ed"
      },
      "outputs": [
        {
          "output_type": "stream",
          "name": "stdout",
          "text": [
            "- Unique tags in train set: 45 tags \n",
            "\n",
            "- Unique tags in validation set: 44 tags \n",
            "\n",
            "- Unique tags in test set: 40 tags\n"
          ]
        }
      ],
      "source": [
        "print(f\"- Unique tags in train set: {len(unique_tags_train)} tags \\n\")\n",
        "print(f\"- Unique tags in validation set: {len(unique_tags_val)} tags \\n\")\n",
        "print(f\"- Unique tags in test set: {len(unique_tags_test)} tags\")"
      ]
    },
    {
      "cell_type": "code",
      "execution_count": null,
      "metadata": {
        "colab": {
          "base_uri": "https://localhost:8080/"
        },
        "id": "u7bfLTx41G9p",
        "outputId": "b907bb0c-e477-498f-f90e-512be6a98887"
      },
      "outputs": [
        {
          "output_type": "stream",
          "name": "stdout",
          "text": [
            "- Tags that are present in the train set and are not present in the validation set: ['SYM']\n",
            "\n",
            "- Tags that are present in the train set and are not present in the test set: ['LS', 'SYM', '#', 'FW', 'UH']\n",
            "\n",
            "- Tags that are present in the validation set and are not present in the test set: ['LS', 'UH', '#', 'FW']\n"
          ]
        }
      ],
      "source": [
        "print(\"- Tags that are present in the train set and are not present in the validation set:\",list(set(unique_tags_train).difference(set(unique_tags_val))))\n",
        "print()\n",
        "print(\"- Tags that are present in the train set and are not present in the test set:\",list(set(unique_tags_train).difference(set(unique_tags_test))))\n",
        "print()\n",
        "print(\"- Tags that are present in the validation set and are not present in the test set:\",list(set(unique_tags_val).difference(set(unique_tags_test))))"
      ]
    },
    {
      "cell_type": "markdown",
      "metadata": {
        "id": "AdRnh-QDnaQF"
      },
      "source": [
        "### Getting max sentence length\n",
        "\n",
        "We need to retrieve the maximum sentence lenght in order to perform the correct encoding of the data with the necessary padding. \n",
        "\n",
        "Each sentence has different lenght therefore we need to encode each sentence with the maximum size possible."
      ]
    },
    {
      "cell_type": "code",
      "execution_count": null,
      "metadata": {
        "colab": {
          "base_uri": "https://localhost:8080/"
        },
        "id": "yduCpP3ropc_",
        "outputId": "2a18ff23-c72c-4551-c9f7-e3f76540ce0c"
      },
      "outputs": [
        {
          "output_type": "stream",
          "name": "stdout",
          "text": [
            "Max sentence length is: 249\n"
          ]
        }
      ],
      "source": [
        "print(f\"Max sentence length is: {df.sentences.str.len().max()}\")"
      ]
    },
    {
      "cell_type": "code",
      "execution_count": null,
      "metadata": {
        "id": "4DNZSHlXp4Ph"
      },
      "outputs": [],
      "source": [
        "max_size = 250"
      ]
    },
    {
      "cell_type": "markdown",
      "metadata": {
        "id": "61BgctX8OQLM"
      },
      "source": [
        "### Retrieving punctuation indices \n",
        "\n",
        "This will be useful later for error analysis"
      ]
    },
    {
      "cell_type": "code",
      "execution_count": null,
      "metadata": {
        "id": "JEV-EtmhUVXU"
      },
      "outputs": [],
      "source": [
        "sort_tags = np.array(sorted(unique_tags_train))"
      ]
    },
    {
      "cell_type": "code",
      "execution_count": null,
      "metadata": {
        "id": "Tv3bItPaFt0-"
      },
      "outputs": [],
      "source": [
        "sort_tags = np.append(sort_tags,'UNK')"
      ]
    },
    {
      "cell_type": "code",
      "execution_count": null,
      "metadata": {
        "colab": {
          "base_uri": "https://localhost:8080/"
        },
        "id": "BBhq0isgQjn8",
        "outputId": "237994b5-9772-4096-e946-63b9f17625c6"
      },
      "outputs": [
        {
          "output_type": "stream",
          "name": "stdout",
          "text": [
            "['#' '$' \"''\" ',' '-LRB-' '-RRB-' '.' ':' 'CC' 'CD' 'DT' 'EX' 'FW' 'IN'\n",
            " 'JJ' 'JJR' 'JJS' 'LS' 'MD' 'NN' 'NNP' 'NNPS' 'NNS' 'PDT' 'POS' 'PRP'\n",
            " 'PRP$' 'RB' 'RBR' 'RBS' 'RP' 'SYM' 'TO' 'UH' 'VB' 'VBD' 'VBG' 'VBN' 'VBP'\n",
            " 'VBZ' 'WDT' 'WP' 'WP$' 'WRB' '``' 'UNK']\n"
          ]
        }
      ],
      "source": [
        "print(sort_tags)"
      ]
    },
    {
      "cell_type": "markdown",
      "metadata": {
        "id": "STXnZfSdeCpJ"
      },
      "source": [
        "COMPLETA QUESTO"
      ]
    },
    {
      "cell_type": "markdown",
      "metadata": {
        "id": "QIk69LZ6Ip2F"
      },
      "source": [
        "UNK is last for generalization purposes of the encoding approach. We have used it even though it will not be employed in the assignment for .... purposes."
      ]
    },
    {
      "cell_type": "markdown",
      "metadata": {
        "id": "RpmhDUKIeGqa"
      },
      "source": [
        "### Understanding punctuation and symbols"
      ]
    },
    {
      "cell_type": "markdown",
      "metadata": {
        "id": "2n0L_fQTQmoT"
      },
      "source": [
        "We need to the remove the indices associated with the following symbols:\n",
        "\n",
        "* Punctuation:\n",
        "  - -LRB- &rarr; \"Left Round Bracket\" &rarr; \"({\"\n",
        "  - -RRB- &rarr; \"Right Round Bracket\" &rarr; \"){\"\n",
        "  - # \n",
        "  - $\n",
        "  - ' ' \n",
        "  - , \n",
        "  - . \n",
        "  - : \n",
        "\n",
        "\n",
        "* Symbols:\n",
        "\n",
        "  - LS &rarr; List item marker\n",
        "  - SYM &rarr; Symbol\n",
        "  - ``"
      ]
    },
    {
      "cell_type": "code",
      "execution_count": null,
      "metadata": {
        "colab": {
          "base_uri": "https://localhost:8080/"
        },
        "id": "ynOrXkb9xlu2",
        "outputId": "3832fbc2-3f34-4723-fb75-dbb38cff77c2"
      },
      "outputs": [
        {
          "output_type": "stream",
          "name": "stdout",
          "text": [
            "Displaying the tags to remove and their associated index: \n",
            "\n",
            "{'#': 0, '$': 1, \"''\": 2, ',': 3, '-LRB-': 4, '-RRB-': 5, '.': 6, ':': 7, 'LS': 17, 'SYM': 31, '``': 44}\n"
          ]
        }
      ],
      "source": [
        "indices = [0, 1, 2, 3, 4, 5, 6,7, 17, 31, 44] # symbols and punctuation\n",
        "print(\"Displaying the tags to remove and their associated index: \\n\")\n",
        "print(dict(zip(sort_tags[indices],indices)))"
      ]
    },
    {
      "cell_type": "markdown",
      "metadata": {
        "id": "U-ETLFeDtWhz"
      },
      "source": [
        "## Encoding the dataset\n"
      ]
    },
    {
      "cell_type": "markdown",
      "metadata": {
        "id": "oavb6HuOzB1i"
      },
      "source": [
        "Generating embedding dictionary for GloVe "
      ]
    },
    {
      "cell_type": "code",
      "execution_count": null,
      "metadata": {
        "colab": {
          "base_uri": "https://localhost:8080/"
        },
        "id": "1dC8IuIGxbqU",
        "outputId": "aac94397-b5d7-468e-e04c-f08587422a5d"
      },
      "outputs": [
        {
          "output_type": "stream",
          "name": "stdout",
          "text": [
            "Downloading...\n",
            "From: https://nlp.stanford.edu/data/glove.6B.zip\n",
            "To: /content/Documents/dependency_treebank/glove.6B.zip\n",
            "100% 862M/862M [02:39<00:00, 5.42MB/s]\n"
          ]
        }
      ],
      "source": [
        "# Download the GloVe embeddings\n",
        "!gdown https://nlp.stanford.edu/data/glove.6B.zip\n",
        "\n",
        "# Unzip the GloVe embeddings file\n",
        "!unzip -q -o glove.6B.zip -d embeddings"
      ]
    },
    {
      "cell_type": "markdown",
      "metadata": {
        "id": "r1pImaUSxfXY"
      },
      "source": [
        "We choose an embedding dimension of size 100d in order to have a good tradeoff between performance and time spent training.\n",
        "\n",
        "It is also possible to experiment with other sizes such as 50,200 or 300. Through experimenting we have found that 100 is enough for our purposes."
      ]
    },
    {
      "cell_type": "code",
      "execution_count": null,
      "metadata": {
        "id": "KTA4O_GQxh0I"
      },
      "outputs": [],
      "source": [
        "\"\"\" \n",
        "Retrieving GloVe embedding from file and then generating a dictionary\n",
        "where each word is a key and the value is the embedding vector. \n",
        "\"\"\"\n",
        "V1 = {}\n",
        "with open(docs_folder+\"/embeddings/glove.6B.100d.txt\", 'r') as f:\n",
        "    for line in f:\n",
        "        vals = line.split()\n",
        "        token = vals[0]\n",
        "        embedding = np.asarray(vals[1:], \"float32\")\n",
        "        V1[token] = embedding"
      ]
    },
    {
      "cell_type": "markdown",
      "metadata": {
        "id": "PCVPt6alvqKY"
      },
      "source": [
        "### OOV handling"
      ]
    },
    {
      "cell_type": "markdown",
      "metadata": {
        "id": "LHdsjNzOlpII"
      },
      "source": [
        "The OOV words will be assigned a random embedding sampled from uniform distribution, in the range `[-0.5,+0.5]` in order to match it with the numerical range of GloVe embeddings. It is also possible to experiment with other types of embedding for OOV."
      ]
    },
    {
      "cell_type": "code",
      "execution_count": null,
      "metadata": {
        "id": "QpLHybhv2PU6"
      },
      "outputs": [],
      "source": [
        "embedding_dim = 100 # chosen as compromise between time spent training and performance"
      ]
    },
    {
      "cell_type": "markdown",
      "source": [
        "UNIFORM BECAUSE WE DO NOT KNOW THE SHAPE OF EMBEDDINGS ( have no idea of mean and std to use gaussian)"
      ],
      "metadata": {
        "id": "NNUL4RAEZXOk"
      }
    },
    {
      "cell_type": "code",
      "execution_count": null,
      "metadata": {
        "id": "UIwtZg-g7S7z"
      },
      "outputs": [],
      "source": [
        "def generate_oov(emb_dictionary, tokens,embedding_dim):\n",
        "    \"\"\"\n",
        "    Checks whether a token is not present in the vocabulary containing the embeddings,\n",
        "    if it is not present, then insert it in the dictionary of the OOV words with a random value\n",
        "    sampled from an uniform distribution in the correct range of values (the one of glove embeddings).\n",
        "    \"\"\"\n",
        "    oov_dict = {} # create oov dict\n",
        "    for token in tokens: \n",
        "        if token not in emb_dictionary:\n",
        "            oov_dict[token]= np.random.uniform(-0.5, 0.5, size=embedding_dim)\n",
        "    return oov_dict"
      ]
    },
    {
      "cell_type": "code",
      "execution_count": null,
      "metadata": {
        "id": "rRJJnWUjX_8x"
      },
      "outputs": [],
      "source": [
        "# Flatten the arrays of each data split to get all the tokens \n",
        "train_toks = np.concatenate(np.concatenate([X_train_sents]))\n",
        "val_toks = np.concatenate(np.concatenate([X_val_sents]))\n",
        "test_toks = np.concatenate(np.concatenate([X_test_sents]))"
      ]
    },
    {
      "cell_type": "code",
      "execution_count": null,
      "metadata": {
        "id": "pAcgCkLFuxBn"
      },
      "outputs": [],
      "source": [
        "# From the above flattened arrays retrieve the unique tags \n",
        "unique_train_toks = np.unique(train_toks)\n",
        "unique_val_toks = np.unique(val_toks)\n",
        "unique_test_toks = np.unique(test_toks)"
      ]
    },
    {
      "cell_type": "markdown",
      "metadata": {
        "id": "IqMzNZS-_WSP"
      },
      "source": [
        "\n",
        "We now need to encode the features and the labels in numeric format in order to be able to process it with a neural network. \n",
        "\n",
        "* The features (*X_train_sents* and all others features arrays) will be encoded through a GloVe embedding if they are in the dictionary. If they are OOV they will be encoded with a random value sampled from an uniform distribution.\n",
        "    * the *X_train_sents* array has a structure of being an array of arrays with only one dimension. We wish to encode this in a 3D format with the following shape:\n",
        "\n",
        "    ```\n",
        "    (number_of_sentences,max_sentence_lenght,embedding_dimension)\n",
        "    ```"
      ]
    },
    {
      "cell_type": "markdown",
      "metadata": {
        "id": "TR4mPWrSVB7M"
      },
      "source": [
        "## Another way of embedding could have been to use a Co-Occurrance matrix (METTI SPIEGAZIONE CLAUDIO BON ETC.)"
      ]
    },
    {
      "cell_type": "code",
      "execution_count": null,
      "metadata": {
        "id": "ofcnVJHIVTK0"
      },
      "outputs": [],
      "source": [
        "# Defining an helper function for padding the y_tags later\n",
        "\n",
        "\"\"\"\n",
        "This function uses numpy padding on an input array and pads it with a custom defined\n",
        "padding. In our case it is an array of zeros which shape that is based on the difference\n",
        "between the max lenght of a sentence (250) and the actual shape of the sentence.\n",
        "\"\"\"\n",
        "\n",
        "def pad(array, target_shape):\n",
        "    return np.pad(array,\n",
        "        [(0, target_shape[i] - array.shape[i]) for i in range(len(array.shape))],\n",
        "        \"constant\",\n",
        "    )"
      ]
    },
    {
      "cell_type": "code",
      "execution_count": null,
      "metadata": {
        "id": "Rf39KHW0Hf9W"
      },
      "outputs": [],
      "source": [
        "# encode each word of a sentence in a numpy array\n",
        "def encode_sentence(sentence,vocab):\n",
        "    return np.array([vocab[token] for token in sentence])"
      ]
    },
    {
      "cell_type": "code",
      "execution_count": null,
      "metadata": {
        "id": "a8cYXVb4UExA"
      },
      "outputs": [],
      "source": [
        "\"\"\"\n",
        "this function uses the above defined function to encode each word in a sentence \n",
        "and then appending it to an array, then this array is constructed with the right shape defined above.\n",
        "\n",
        "the padding size is used for making a sentence reach the maximum lenght(250)\n",
        "and to have the correct shape we need for our analysis(100).\n",
        "\"\"\"\n",
        "def encode_features(array,vocabulary):\n",
        "  transf_sentence = []\n",
        "  for sentence in array:\n",
        "    pad_size = (max_size-len(sentence), embedding_dim)\n",
        "    encoded = encode_sentence(sentence,vocabulary) \n",
        "    transf_sentence.append(\n",
        "              np.row_stack((encoded, np.zeros(pad_size)))\n",
        "            )\n",
        "  return np.array(transf_sentence)"
      ]
    },
    {
      "cell_type": "markdown",
      "metadata": {
        "id": "dqpBrLdWCFRd"
      },
      "source": [
        "### Handling of OOV tokens"
      ]
    },
    {
      "cell_type": "markdown",
      "source": [
        "We proceeded to perform the OOV encoding as per requested by the assignment request."
      ],
      "metadata": {
        "id": "VnrS4hN7aU8V"
      }
    },
    {
      "cell_type": "markdown",
      "metadata": {
        "id": "8MZ9-3MFhH98"
      },
      "source": [
        "1. Starting vocabulary *V1* (in this assignment, GloVe vocabulary)\n",
        "2. Compute embeddings for terms out of vocabulary *OOV1* of the training split\n",
        "3. Add embeddings to the vocabulary, so to obtain vocabulary *V2* which is the concatenation of *V1* and *OOV1*\n",
        "4. Compute embeddings for terms  of the validation split *OOV2*\n",
        "5. Add embeddings to the vocabulary, so to obtain vocabulary *V3* = *V2* + *OOV2*\n",
        "6. Compute embeddings for terms  of the test split *OOV3*\n",
        "7. Add embeddings to the vocabulary, so to obtain vocabulary *V4* = *V3* + *OOV3*"
      ]
    },
    {
      "cell_type": "code",
      "execution_count": null,
      "metadata": {
        "colab": {
          "base_uri": "https://localhost:8080/"
        },
        "id": "2K15epIDU17e",
        "outputId": "b9acd4a5-e0fc-44c9-95f0-04f2db3a952d"
      },
      "outputs": [
        {
          "output_type": "stream",
          "name": "stdout",
          "text": [
            "- Generating the OOV for train set... \n",
            "\n",
            "- Merging initial vocabulary and OOV1... \n",
            "\n",
            "- Shape of the training set: (1963, 250, 100) \n",
            "\n",
            "- Generating the OOV for validation set... \n",
            "\n",
            "- Merging V2 and OOV2: \n",
            "\n",
            "- Shape of the validation set: (1299, 250, 100) \n",
            "\n",
            "- Generating the OOV for test set... \n",
            "\n",
            "- Merging V4 and OOV4... \n",
            "\n",
            "- Shape of the test set: (652, 250, 100) \n",
            "\n"
          ]
        }
      ],
      "source": [
        "print(\"- Generating the OOV for train set... \\n\")\n",
        "OOV1 = generate_oov(V1,unique_train_toks,embedding_dim)\n",
        "\n",
        "\n",
        "print(\"- Merging initial vocabulary and OOV1... \")\n",
        "V2 = {**V1,**OOV1} # using dictionary synthax to merge dictionaries\n",
        "X_train= encode_features(X_train_sents,V2)\n",
        "print(f\"\\n- Shape of the training set: {X_train.shape} \\n\")\n",
        "\n",
        "print(\"- Generating the OOV for validation set... \\n\")\n",
        "OOV2 = generate_oov(V2,unique_val_toks,embedding_dim)\n",
        "\n",
        "print(\"- Merging V2 and OOV2: \")\n",
        "V3 = {**V2,**OOV2}\n",
        "X_val= encode_features(X_val_sents,V3)\n",
        "print(f\"\\n- Shape of the validation set: {X_val.shape} \\n\")\n",
        "\n",
        "print(\"- Generating the OOV for test set... \\n\")\n",
        "OOV3 = generate_oov(V3,unique_test_toks,embedding_dim)\n",
        "\n",
        "print(\"- Merging V4 and OOV4... \")\n",
        "V4 = {**V3,**OOV3}\n",
        "X_test= encode_features(X_test_sents,V4)\n",
        "print(f\"\\n- Shape of the test set: {X_test.shape} \\n\")"
      ]
    },
    {
      "cell_type": "markdown",
      "metadata": {
        "id": "-kNaM2Zafo9Z"
      },
      "source": [
        "Retrieve the OOV sets and then use a set data structure for storing it."
      ]
    },
    {
      "cell_type": "code",
      "execution_count": null,
      "metadata": {
        "id": "vVAZpcqzZQzx"
      },
      "outputs": [],
      "source": [
        "train_oov_terms = set(OOV1.keys())\n",
        "val_oov_terms = set(OOV2.keys())\n",
        "test_oov_terms = set(OOV3.keys())"
      ]
    },
    {
      "cell_type": "markdown",
      "metadata": {
        "id": "cKG6UHTDfeJs"
      },
      "source": [
        "Get the OOV terms unique for the val set and the test set."
      ]
    },
    {
      "cell_type": "code",
      "execution_count": null,
      "metadata": {
        "id": "eu47hlyPZUnf"
      },
      "outputs": [],
      "source": [
        "val_only_oov_terms = val_oov_terms - train_oov_terms\n",
        "test_only_oov_terms = test_oov_terms - train_oov_terms - val_oov_terms"
      ]
    },
    {
      "cell_type": "markdown",
      "source": [
        "Check the percentage of OOV for each data split."
      ],
      "metadata": {
        "id": "_OOvqpdHbRE5"
      }
    },
    {
      "cell_type": "code",
      "execution_count": null,
      "metadata": {
        "colab": {
          "base_uri": "https://localhost:8080/"
        },
        "id": "Czpv4aYuYwUG",
        "outputId": "c6ac386e-b06f-48ea-aaea-bac0e32f0989"
      },
      "outputs": [
        {
          "output_type": "stream",
          "name": "stdout",
          "text": [
            "Total training OOV terms: 359 words, 0.05% of the total train set tags\n",
            "Total validation OOV terms: 189 words, 0.03% of the total validation set tags\n",
            "Total testing OOV terms: 128 words, 0.04% of the total test set tags\n"
          ]
        }
      ],
      "source": [
        "print(\n",
        "    f\"Total training OOV terms: {len(train_oov_terms)} words, {round(len(train_oov_terms) / len(unique_train_toks), 2)}% of the total train set tags\")\n",
        "\n",
        "print(\n",
        "    f\"Total validation OOV terms: {len(val_only_oov_terms)} words, {round(len(val_only_oov_terms) / len(unique_val_toks), 2)}% of the total validation set tags\")\n",
        "\n",
        "print(\n",
        "    f\"Total testing OOV terms: {len(test_only_oov_terms)} words, {round(len(test_only_oov_terms) / len(unique_test_toks), 2)}% of the total test set tags\")"
      ]
    },
    {
      "cell_type": "markdown",
      "metadata": {
        "id": "cXP1_vEVvIdV"
      },
      "source": [
        "The percentage of OOV for each data split is negligible, let's inspect content of OOV arrays."
      ]
    },
    {
      "cell_type": "code",
      "execution_count": null,
      "metadata": {
        "colab": {
          "base_uri": "https://localhost:8080/"
        },
        "id": "Ss6c_zVVvSA1",
        "outputId": "88fbf84a-5d42-4fe3-80d6-1d284a172bbf"
      },
      "outputs": [
        {
          "output_type": "stream",
          "name": "stdout",
          "text": [
            "- Train set OOV words: ['-lcb-', '-lrb-', '-rcb-', '-rrb-', '1.457', '1.5755', '1.8415', '100,980', '11,762', '12,252', '127.03', '13,056', '14,821', '142.85', '143.08', '143.80', '143.93', '16,072', '16.125', '18,444', '1\\\\/10th', '1\\\\/2', '1\\\\/4', '2,303,328', '230-215', '234.4', '236.74', '236.79', '2645.90', '271,124', '278.7', '3,288,453', '3.253', '30,841', '3057', '352.7', '361,376', '37-a-share', '374.19', '374.20', '38.375', '382-37', '3\\\\/4', '4,393,237', '4.898', '415.6', '415.8', '436.01', '446.62', '449.04', '456.64', '497.34', '5.276', '500,004', '520-lawyer', '5\\\\/8', '62%-owned', '62.625', '69-point', '70-a-share', '705.6', '737.5', '7\\\\/8', '82,389', '8300s', '84-month', '9,118', '90-cent-an-hour', '95,142', 'abortion-related', 'ac-130u', 'achievement-test', 'akerfeldt', 'alurralde', 'amphobiles', 'anti-abortionists', 'anti-china', 'anti-takeover', 'antitrust-law', 'ariail', 'aslacton', 'asset-sale', 'autions', 'auto-safety', 'automotive-lighting', 'automotive-parts', 'bald-faced', 'beer-belly', 'bell-ringer', 'bellringers', 'bermuda-based', 'besuboru', 'big-ticket', 'biondi-santi', 'boorse', 'bridgestone\\\\/firestone', 'building-products', 'built-from-kit', 'bumkins', 'buttoned-down', 'c-90', 'c.j.b.', 'capital-gains', 'car-safety', 'cash-rich', 'centerbank', 'chafic', 'change-ringing', 'chemplus', 'chilver', 'chinchon', 'chong-sik', 'church-goers', 'circuit-breaker', 'co-developers', 'coche-dury', 'collective-bargaining', 'college-bowl', 'colonsville', 'computer-driven', 'computer-system-design', 'cop-killer', 'corton-charlemagne', 'cotran', 'cray-3', \"creator's\", 'crocidolite', 'ctbs', 'custom-chip', 'dead-eyed', 'delwin', 'deposits-a', 'derel', 'detective-story', 'direct-investment', 'dollar-yen', 'drag-down', 'drobnick', 'durable-goods', 'dust-up', 'eight-count', 'electric-utility', 'energy-services', 'ensrud', 'equal-opportunity', 'erbamont', 'family-planning', 'fetal-tissue', 'flightiness', 'floating-rate', 'food-shop', 'foreign-led', 'foreign-stock', 'forest-product', 'forest-products', 'front-seat', 'ft-se', 'futures-related', 'ghkm', 'gingl', 'glenham', 'government-certified', 'greenmailer', 'hallwood', 'high-balance', 'high-rate', 'higher-salaried', 'highest-pitched', 'home-market', 'hummerstone', 'identity-management', 'incentive-bonus', 'index-arbitrage', 'index-options', 'index-related', 'industrial-production', 'ingersoll-rand', 'integra-a', 'intellectual-property', 'investor-relations', 'iran\\\\/contra', 'jalaalwalikraam', 'jerritts', 'junk-bond', 'kalipharma', 'lafite-rothschild', 'landonne', 'language-housekeeper', 'lap-shoulder', 'less-serious', 'lezovich', 'life-insurance', 'light-truck', 'limited-partnership', 'low-ability', 'low-ball', 'lower-priority', 'macheski', 'machine-gun-toting', 'macmillan\\\\/mcgraw', 'macmillan\\\\/mcgraw-hill', 'makato', 'malizia', 'market-share', 'marketing-communications', 'mehrens', 'meinders', 'merger-related', 'micronite', 'mininum-wage', 'moleculon', 'monchecourt', 'money-center', 'money-fund', 'money-market', 'morale-damaging', 'more-efficient', 'mortgage-based', 'mouth-up', 'muscolina', 'nagymaros', 'nearly-30', 'nekoosa', 'nesb', 'new-home', 'nih-appointed', 'nipponese', 'nissho-iwai', 'non-biodegradable', 'non-encapsulating', 'northy', 'norwick', 'ntg', 'odd-sounding', 'old-house', 'one-country', 'one-upsmanship', 'one-yen', 'page-one', 'pathlogy', 'pattenden', 'pennview', 'pianist-comedian', 'polyproplene', 'post-hearing', 'pramual', 'pre-1917', 'pre-1933', 'preparatives', 'prize-fighter', 'pro-forma', 'product-design', 'program-trading', 'purepac', 'purhasing', 'rapanelli', 'rate-sensitive', 'ratners', 're-thought', 'recession-inspired', 'red-blooded', 'red-flag', 'replacement-car', 'retin-a', 'revenue-desperate', 'rexinger', 'romanee-conti', 'roof-crush', 'rope-sight', 'rubinfien', 'sacramento-based', 'safe-deposit', 'samnick', 'sanderoff', 'satrum', 'savers\\\\/investors', 'savings-and-loan', 'school-board', 'school-district', 'school-improvement', 'school-research', 'search-and-seizure', 'secilia', 'securities-based', 'security-type', 'sell-offs', 'senate-house', 'sharedata', 'shirt-sleeved', 'side-crash', 'sino-u.s.', 'six-bottle', 'six-packs', 'small-company', 'social-studies', 'sogo-shosha', 'solaia', 'sometimes-exhausting', 'sometimes-tawdry', 'sport-utility', 'state-supervised', 'sticker-shock', 'stirlen', 'stock-index', 'stock-manipulation', 'student-test', 'sub-markets', 'sub-segments', 'subindustry', 'subminimum', 'subskill', 'subskills', 'summer\\\\/winter', 'superpremiums', 'synergistics', 'tarwhine', 'teacher-cadet', 'telephone-information', 'test-coaching', 'test-practice', 'test-prep', 'test-preparation', 'thin-lipped', 'three-lawyer', 'three-sevenths', 'times-stock', 'tiphook', 'tissue-transplant', 'top-yielding', 'trading-company', 'training-wage', 'trettien', 'trockenbeerenauslesen', 'twin-jet', 'twindam', 'two-sevenths', 'unenticing', 'unfair-trade', 'univest', 'uzi-model', 'veselich', 'video-viewing', 'vinken', 'vitulli', 'war-rationed', 'water-authority', 'we-japanese', 'weisfield', 'wfrr', 'wheel-loader', 'wheeland', 'when-issued', 'wine-buying', 'wtd', 'year-ago', 'year-earlier', 'yeargin', 'yen-denominated', 'yen-support']\n",
            "\n",
            "- Validation set OOV words: ['11\\\\/16', '12\\\\/32', '13.625', '13\\\\/16', '14.', '14\\\\/32', '16\\\\/32', '1738.1', '190-point', '1928-33', '1937-40', '1\\\\/8', '20-stock', '2003\\\\/2007', '2141.7', '2160.1', '2163.2', '22\\\\/32', '23,403', '238,000-circulation', '2691.19', '271-147', '29year', '2\\\\/32', '3,040,000', '3,250,000', '30,537', '300-113', '300-a-share', '352.9', '35500.64', '35564.43', '3648.82', '372.9', '3\\\\/8', '47.125', '5.435', '6\\\\/2', '7.272', '7.422', '7.458', '71,309', '7\\\\/16', '8.467', '8.575', '877,663', '95.09', '9\\\\/32', 'acid-rain', 'airline-related', 'anku', 'anti-deficiency', 'anti-miscarriage', 'anti-morning-sickness', 'anti-program', 'anti-programmers', 'arbitraging', 'arighi', 'ballantine\\\\/del', 'band-wagon', 'bank-backed', 'boogieman', 'bottom-line', 'breakey', 'buy-outs', 'c.d.s', 'capital-markets', 'car-care', 'car-development', 'card-member', 'certin', 'circuit-board', 'citizen-sparked', 'clean-air', 'cleaner-burning', 'contingency-fee', 'continuingly', 'corporate-wide', 'crane-safety', 'credit-rating', 'crystal-lattice', 'cup-tote', 'diceon', 'disaster-assistance', 'double-c', 'dydee', 'ednie', 'egnuss', 'electrical-safety', 'enzor', 'equity-purchase', 'executive-office', 'express-buick', 'fiber-end', 'financial-services', 'flim-flammery', 'foldability', 'food-industry', 'four-foot-high', 'free-enterprise', 'freshbake', 'freudtoy', 'gates-warren', 'hart-scott-rodino', 'heebie-jeebies', 'heiwado', 'herald-american', 'high-polluting', 'house-senate', 'housing-assistance', 'incentive-backed', 'index-fund', 'industry-supported', 'insider-trading', 'insurance-company', 'intecknings', 'investment-grade', 'labor-backed', 'land-idling', 'larger-than-normal', 'less-than-brilliant', 'lightning-fast', 'liquid-nitrogen', 'long-tenured', 'lookee-loos', 'lynch-mob', 'market-makers', 'mega-stadium', 'melt-textured', 'middle-ground', 'midwesco', 'million-a-year', 'minicrash', 'most-likely-successor', 'motor-home', 'much-larger', 'multi-crystal', 'mutchin', 'mutual-fund', 'n.v', 'new-car', 'news-american', 'non-callable', 'nylev', 'odd-year', 'one-house', 'one-newspaper', 'parts-engineering', 'pension-fund', 'phacoflex', 'potables', 'prevalance', 'price-depressing', 'price-support', 'pricings', 'profit-taking', 'propagandizes', 'property\\\\/casualty', 'prudential-bache', 'quantitive', 'radio-station', 'rey\\\\/fawcett', 'scypher', 'seven-million-ton', 'severable', 'shokubai', 'sidak', 'single-lot', 'stock-picking', 'stock-price', 'stock-selection', 'stock-specialist', 'substance-abusing', 'sulfur-dioxide', 'super-absorbent', 'superdot', 'takeover-stock', 'test-drive', 'then-speaker', 'tire-kickers', 'triple-a-rated', 'triple-c', 'truth-in-lending', 'two-time-losers', 'veraldi', 'walbrecher', 'wamre', 'write-downs', 'yttrium-containing']\n",
            "\n",
            "- Test set OOV words: ['0.0085', '1.1650', '1.637', '1.916', '100-megabyte', '11,390,000', '11-month-old', '120-a-share', '1206.26', '126.15', '129.91', '131.01', '142.84', '154,240,000', '158,666', '170,262', '18-a-share', '188.84', '19-month-old', '2,050-passenger', '220.45', '226,570,380', '237-seat', '26,956', '263.07', '292.32', '300-day', '319.75', '34.625', '341.20', '3436.58', '36-store', '361.8', '372.14', '377.60', '38.875', '387.8', '40-megabyte', '43.875', '434.4', '45-a-share', '494.50', '5,699', '5.2180', '50\\\\/50', '55-a-share', '566.54', '6,799', '608,413', '618.1', '630.9', '734.9', '811.9', '83,206', '87-store', '967,809', 'above-market', 'acquisition-minded', 'arbitrage-related', 'asset-valuation', 'bankruptcy-law', 'blood-cell', 'blue-chips', 'bread-and-butter', 'bronces', 'cash-and-stock', 'cents-a-unit', 'colorliner', 'computer-services', 'conn.based', 'constitutional-law', 'copper-rich', 'corn-buying', 'cost-control', 'crookery', 'derchin', 'diloreto', 'disputada', 'disputado', 'early-retirement', 'ex-dividend', 'exxon-owned', 'g.m.b', 'garden-variety', 'guber\\\\/peters', 'hadson', 'hasbrouk', 'headcount-control', 'heavy-truck', 'high-rolling', 'information-services', 'intelogic', 'inter-tel', 'interleukin-3', 'johnson-era', 'launch-vehicle', 'lentjes', 'life-of-contract', 'lobsenz', 'louisiana-pacific', 'manmade-fiber', 'mariotta', 'minimum-wage', 'more-advanced', 'near-limit', 'newspaper-printing', 'nofzinger', 'noncompetitively', 'passenger-car', 'per-share', 'prior-year', 'pro-iranian', 'protein-1', 'reupke', 'sept.30', 'seven-yen', 'several-year', 'sewing-machine', 'shareholder-rights', 'staff-reduction', 'tete-a-tete', 'txo', 'unicorp', 'waertsilae', 'waymar', 'weapons-modernization', 'yet-to-be-formed', 'yoshihashi']\n"
          ]
        }
      ],
      "source": [
        "print(\"- Train set OOV words:\",list(OOV1.keys()))\n",
        "print()\n",
        "print(\"- Validation set OOV words:\",list(OOV2.keys()))\n",
        "print()\n",
        "print(\"- Test set OOV words:\",list(OOV3.keys()))"
      ]
    },
    {
      "cell_type": "markdown",
      "metadata": {
        "id": "yvWFlH_Rr7gR"
      },
      "source": [
        "We can see that most of the OOV words are numbers and composite words. Also there is a POS wrongly represented in the sentence ( the word 'lrb' is present in the GloVe embedding instead '-lcb-' is not). \n",
        "\n",
        "We will not pre-process these OOV words  given that they are very infrequent."
      ]
    },
    {
      "cell_type": "markdown",
      "metadata": {
        "id": "E5c5LeQ6ufm4"
      },
      "source": [
        "###  One Hot Encoding of POS Tags\n",
        "\n",
        "\n",
        "The task to the performed by the model is a multi-class classification therefore the labels are not encoded assigning integer values to each different class, but rather by one hot encoding."
      ]
    },
    {
      "cell_type": "markdown",
      "metadata": {
        "id": "AFDFMm98E9U3"
      },
      "source": [
        "* The labels (*y_train_tags* and all others labels arrays) will be one hot encoded and will need to have the following shape:\n",
        "\n",
        "    ```\n",
        "    (number_of_sentences,max_sentence_lenght,number_of_tags )\n",
        "    ```"
      ]
    },
    {
      "cell_type": "code",
      "execution_count": null,
      "metadata": {
        "colab": {
          "base_uri": "https://localhost:8080/"
        },
        "id": "sISLzosfGdw4",
        "outputId": "11035576-aadf-41a7-cd6d-89443af9221e"
      },
      "outputs": [
        {
          "output_type": "execute_result",
          "data": {
            "text/plain": [
              "OneHotEncoder(sparse=False)"
            ]
          },
          "metadata": {},
          "execution_count": 42
        }
      ],
      "source": [
        "ohe = OneHotEncoder(sparse=False) # Get one hot encoding for POS tags in the training dataset\n",
        "ohe.fit(sort_tags.reshape(-1,1))"
      ]
    },
    {
      "cell_type": "code",
      "execution_count": null,
      "metadata": {
        "id": "uOYyrwPUqHvJ"
      },
      "outputs": [],
      "source": [
        "max_tags = len(sort_tags) "
      ]
    },
    {
      "cell_type": "code",
      "execution_count": null,
      "metadata": {
        "id": "M6Ca7FCZmkyL"
      },
      "outputs": [],
      "source": [
        "\"\"\"\n",
        "This function \n",
        "array: Input array should be the an array \n",
        "which contains the tags of each sentence that will be one hot encoded\n",
        "\n",
        "max_size is the max sentence lenght: 250\n",
        "max_tags is the maximum number of tags: 46\n",
        "\"\"\"\n",
        "\n",
        "def ohe_convert_shape(array):\n",
        "    result = []\n",
        "    for i,tags in enumerate(array):\n",
        "        encoded = ohe.transform(tags.reshape(-1,1))\n",
        "        padding = (max_size,max_tags)\n",
        "        result.append(pad(encoded,padding))\n",
        "    return np.array(result)"
      ]
    },
    {
      "cell_type": "code",
      "execution_count": null,
      "metadata": {
        "id": "SdSkd-Iaij5T"
      },
      "outputs": [],
      "source": [
        "y_train = ohe_convert_shape(y_train_tags)\n",
        "y_val = ohe_convert_shape(y_val_tags)\n",
        "y_test = ohe_convert_shape(y_test_tags)"
      ]
    },
    {
      "cell_type": "markdown",
      "metadata": {
        "id": "BwpNgFdrqaxO"
      },
      "source": [
        "### Displaying the OneHotEncoded arrays"
      ]
    },
    {
      "cell_type": "code",
      "execution_count": null,
      "metadata": {
        "colab": {
          "base_uri": "https://localhost:8080/"
        },
        "id": "4GTvHZaLq-QD",
        "outputId": "71e4594f-d9fb-4d52-b48f-14ab8be432a7"
      },
      "outputs": [
        {
          "output_type": "stream",
          "name": "stdout",
          "text": [
            "['pierre' 'vinken' ',' '61' 'years' 'old' ',' 'will' 'join' 'the' 'board'\n",
            " 'as' 'a' 'nonexecutive' 'director' 'nov.' '29' '.']\n",
            "\n",
            "['NNP' 'NNP' ',' 'CD' 'NNS' 'JJ' ',' 'MD' 'VB' 'DT' 'NN' 'IN' 'DT' 'JJ'\n",
            " 'NN' 'NNP' 'CD' '.']\n",
            "\n",
            "Displaying One Hot Encoding of the first words in the first sentence of the train set:\n",
            "\n",
            "\n",
            "Encoding of first tag: NNP\n",
            "[0. 0. 0. 0. 0. 0. 0. 0. 0. 0. 0. 0. 0. 0. 0. 0. 0. 0. 0. 0. 1. 0. 0. 0.\n",
            " 0. 0. 0. 0. 0. 0. 0. 0. 0. 0. 0. 0. 0. 0. 0. 0. 0. 0. 0. 0. 0. 0.]\n",
            "\n",
            "Encoding of second tag: NNP\n",
            "[0. 0. 0. 0. 0. 0. 0. 0. 0. 0. 0. 0. 0. 0. 0. 0. 0. 0. 0. 0. 1. 0. 0. 0.\n",
            " 0. 0. 0. 0. 0. 0. 0. 0. 0. 0. 0. 0. 0. 0. 0. 0. 0. 0. 0. 0. 0. 0.]\n",
            "\n",
            "Encoding of the third tag: ,\n",
            "[0. 0. 0. 1. 0. 0. 0. 0. 0. 0. 0. 0. 0. 0. 0. 0. 0. 0. 0. 0. 0. 0. 0. 0.\n",
            " 0. 0. 0. 0. 0. 0. 0. 0. 0. 0. 0. 0. 0. 0. 0. 0. 0. 0. 0. 0. 0. 0.]\n"
          ]
        }
      ],
      "source": [
        "print(X_train_sents[0])\n",
        "print()\n",
        "print(y_train_tags[0])\n",
        "print(\"\\nDisplaying One Hot Encoding of the first words in the first sentence of the train set:\\n\")\n",
        "\n",
        "print(f\"\\nEncoding of first tag: {y_train_tags[0][0]}\")\n",
        "print(y_train[0][0])\n",
        "print()\n",
        "print(f\"Encoding of second tag: {y_train_tags[0][1]}\")\n",
        "print(y_train[0][1])\n",
        "print()\n",
        "print(f\"Encoding of the third tag: {y_train_tags[0][2]}\")\n",
        "print(y_train[0][2])\n"
      ]
    },
    {
      "cell_type": "markdown",
      "metadata": {
        "id": "EJwmRrv5rof3"
      },
      "source": [
        "The first two tags have the same one hot encoding given that they are NNP. The third tag is a comma and it is represented with a different encoding."
      ]
    },
    {
      "cell_type": "code",
      "execution_count": null,
      "metadata": {
        "colab": {
          "base_uri": "https://localhost:8080/"
        },
        "id": "kArXPZrgqvXZ",
        "outputId": "b70becba-ae67-4063-acf7-87ed6ec2904f"
      },
      "outputs": [
        {
          "output_type": "stream",
          "name": "stdout",
          "text": [
            "- Shape of the train set: (1963, 250, 46)\n",
            "\n",
            "- Shape of the validation set: (1299, 250, 46)\n",
            "\n",
            "- Shape of the test set: (652, 250, 46)\n"
          ]
        }
      ],
      "source": [
        "print(f\"- Shape of the train set: {y_train.shape}\")\n",
        "print()\n",
        "print(f\"- Shape of the validation set: {y_val.shape}\")\n",
        "print()\n",
        "print(f\"- Shape of the test set: {y_test.shape}\")"
      ]
    },
    {
      "cell_type": "markdown",
      "metadata": {
        "id": "iOX1HCUXroLD"
      },
      "source": [
        "# 3. Modeling\n",
        "\n",
        "\n"
      ]
    },
    {
      "cell_type": "markdown",
      "metadata": {
        "id": "E44-VwGBrrXc"
      },
      "source": [
        "### Architectures used:\n",
        "#### Baseline model\n",
        "* Bidirectional LSTM + Dense layer \n",
        "\n",
        "#### Variations\n",
        "* Bidirectional GRU + Dense layer\n",
        "* Two Bidirectional LSTM + Dense layer\n",
        "* Bidirectional LSTM + Two Dense layer"
      ]
    },
    {
      "cell_type": "code",
      "execution_count": null,
      "metadata": {
        "id": "Eo4e3rgwisjS"
      },
      "outputs": [],
      "source": [
        "n_classes = y_train.shape[2] # 46 tags"
      ]
    },
    {
      "cell_type": "code",
      "execution_count": null,
      "metadata": {
        "id": "ECWAo80AWBn0"
      },
      "outputs": [],
      "source": [
        "f1 = tfa.metrics.F1Score(num_classes = n_classes, name = 'f1_score')\n",
        "\n",
        "indices = [0, 1, 2, 3, 4, 5, 6, 7, 17, 31, 44] \n",
        "\n",
        "def compute_f1(groundtruth, prediction):\n",
        "    \"\"\"\n",
        "    Computes the F1 score. As requested, the punctuation is ignored.\n",
        "    \"\"\"\n",
        "    groundtruth = tf.reshape(groundtruth, (-1, n_classes))\n",
        "\n",
        "    punctuation = tf.gather(groundtruth, indices, axis=-1)\n",
        "\n",
        "    mask = tf.cast(tf.logical_not(tf.reduce_any(tf.cast(punctuation, tf.bool), axis=-1)), tf.float32)\n",
        "    \n",
        "    prediction = tf.reshape(prediction, (-1, n_classes))\n",
        "    \n",
        "    f1.update_state(groundtruth, prediction, sample_weight = mask)\n",
        "    \n",
        "    result = f1.result()\n",
        "    \n",
        "    K.batch_set_value([(v, np.zeros(v.shape.as_list())) for v in f1.variables])\n",
        "    return K.sum(result)/(n_classes-len(indices))"
      ]
    },
    {
      "cell_type": "markdown",
      "metadata": {
        "id": "K_Apzti3xKMi"
      },
      "source": [
        "## Baseline model"
      ]
    },
    {
      "cell_type": "markdown",
      "metadata": {
        "id": "PwKhULrrpCuR"
      },
      "source": [
        "### Model 1: BiLSTM with a Dense layer"
      ]
    },
    {
      "cell_type": "markdown",
      "metadata": {
        "id": "mAXdEvGoVogv"
      },
      "source": [
        "Below we define the model architecture with some hyperparameter specified. The Masking layers is useful for ignoring the padding of the X array."
      ]
    },
    {
      "cell_type": "code",
      "execution_count": null,
      "metadata": {
        "id": "hlQo_NKOi3t1"
      },
      "outputs": [],
      "source": [
        "  # Define the model architecture\n",
        "def BiLSTM(hp):\n",
        "    model = Sequential()\n",
        "    model.add(Masking(name='padding_x', mask_value=0., input_shape=X_train.shape[1:]))\n",
        "    model.add(Bidirectional(LSTM(units=hp.Int('units', min_value=64, max_value=256, step=64),kernel_regularizer=keras.regularizers.l2(0.01), return_sequences=True,name=\"bilstm_1\")))\n",
        "    model.add(Dropout(rate=hp.Float('dropout',min_value=0.0,max_value=0.5,default=0.2,step=0.1)))\n",
        "    model.add(TimeDistributed(Dense(n_classes, activation=\"softmax\", name=\"dense_1\")))\n",
        "    model.compile(optimizer=Adam(hp.Choice('learning_rate', values=[1e-2, 1e-3, 1e-4])), \n",
        "                loss='categorical_crossentropy', metrics=['categorical_accuracy',compute_f1])\n",
        "    return model"
      ]
    },
    {
      "cell_type": "markdown",
      "metadata": {
        "id": "F5Adc2-xu-er"
      },
      "source": [
        "## Other models"
      ]
    },
    {
      "cell_type": "markdown",
      "metadata": {
        "id": "RgyeB-CxiCoX"
      },
      "source": [
        "### Model 2: GRU"
      ]
    },
    {
      "cell_type": "code",
      "execution_count": null,
      "metadata": {
        "id": "qwcRxvXnrHEh"
      },
      "outputs": [],
      "source": [
        "# Create BiGRU and Dense layer\n",
        "def BiGRU(hp):\n",
        "    model = Sequential()\n",
        "    model.add(Masking(name='padding', mask_value=0., input_shape=X_train.shape[1:]))\n",
        "    model.add(Bidirectional(GRU(units=hp.Int('units', min_value=64, max_value=256, step=64),kernel_regularizer=keras.regularizers.l2(0.01), return_sequences=True,name=\"gru_1\")))\n",
        "    model.add(Dropout(rate=hp.Float('dropout',min_value=0.0,max_value=0.5,default=0.2,step=0.1)))   \n",
        "    model.add(TimeDistributed(Dense(n_classes, activation=\"softmax\", name=\"dense_1\")))\n",
        "    model.compile(optimizer=Adam(hp.Choice('learning_rate', values=[1e-2, 1e-3, 1e-4])), \n",
        "                loss='categorical_crossentropy', metrics=['categorical_accuracy',compute_f1])\n",
        "    return model"
      ]
    },
    {
      "cell_type": "markdown",
      "metadata": {
        "id": "gk5ksZUdiA6b"
      },
      "source": [
        "### Model 3: Double BILSTM"
      ]
    },
    {
      "cell_type": "code",
      "execution_count": null,
      "metadata": {
        "id": "MOYO2YQWruC2"
      },
      "outputs": [],
      "source": [
        "# Create model with two BiLSTM layers and Dense layer\n",
        "def double_BiLSTM(hp):\n",
        "    model = Sequential()\n",
        "    model.add(Masking(name='padding', mask_value=0., input_shape=X_train.shape[1:]))\n",
        "    model.add(Bidirectional(LSTM(units=hp.Int('units', min_value=64, max_value=256, step=64),kernel_regularizer=keras.regularizers.l2(0.01), return_sequences=True,name=\"bilstm_1\")))\n",
        "    model.add(Bidirectional(LSTM(units=hp.Int('units2', min_value=64, max_value=256, step=64),kernel_regularizer=keras.regularizers.l2(0.01), return_sequences=True,name=\"bilstm_2\")))\n",
        "    model.add(Dropout(rate=hp.Float('dropout',min_value=0.0,max_value=0.5,default=0.2,step=0.1)))   \n",
        "    model.add(TimeDistributed(Dense(n_classes, activation=\"softmax\", name=\"dense_1\")))\n",
        "    model.compile(optimizer=Adam(hp.Choice('learning_rate', values=[1e-2, 1e-3, 1e-4])), \n",
        "                loss='categorical_crossentropy', metrics=['categorical_accuracy',compute_f1])\n",
        "    return model"
      ]
    },
    {
      "cell_type": "markdown",
      "metadata": {
        "id": "jaWXFpJRpQPw"
      },
      "source": [
        "### Model 4: BILSTM + Double Dense Layer"
      ]
    },
    {
      "cell_type": "code",
      "execution_count": null,
      "metadata": {
        "id": "58yaXSRVuLuQ"
      },
      "outputs": [],
      "source": [
        "# Create model with one BiLSTM layers and two Dense layers\n",
        "def bilstm_double_dense(hp):\n",
        "    model = Sequential()\n",
        "    model.add(Masking(name='padding', mask_value=0., input_shape=X_train.shape[1:]))\n",
        "    model.add(Bidirectional(LSTM(units=hp.Int('units', min_value=64, max_value=256, step=64),kernel_regularizer=keras.regularizers.l2(0.01), return_sequences=True,name=\"bilstm_1\")))\n",
        "    model.add(Dropout(rate=hp.Float('dropout_1',min_value=0.0,max_value=0.5,default=0.2,step=0.1)))      \n",
        "    model.add(TimeDistributed(Dense(units=hp.Int('units2', min_value=64, max_value=256, step=64),activation=\"relu\",name=\"dense_1\")))\n",
        "    model.add(Dropout(rate=hp.Float('dropout_2',min_value=0.0,max_value=0.5,default=0.2,step=0.1)))   \n",
        "    model.add(TimeDistributed(Dense(n_classes, activation=\"softmax\", name=\"dense_2\")))\n",
        "    model.compile(optimizer=Adam(hp.Choice('learning_rate', values=[1e-2, 1e-3, 1e-4])), \n",
        "                loss='categorical_crossentropy', metrics=['categorical_accuracy',compute_f1])\n",
        "    return model"
      ]
    },
    {
      "cell_type": "markdown",
      "metadata": {
        "id": "xY5je0Whm51J"
      },
      "source": [
        "## 3.2 Hyperparameter tuning"
      ]
    },
    {
      "cell_type": "markdown",
      "metadata": {
        "id": "FY6Xhntwxry4"
      },
      "source": [
        "### Model 1: BILSTM with a Dense layer "
      ]
    },
    {
      "cell_type": "code",
      "execution_count": null,
      "metadata": {
        "colab": {
          "base_uri": "https://localhost:8080/"
        },
        "id": "b7zkpNu8rrCp",
        "outputId": "e47bee09-3e08-466b-c54b-32295aa92aa5"
      },
      "outputs": [
        {
          "output_type": "stream",
          "name": "stdout",
          "text": [
            "Trial 4 Complete [00h 00m 50s]\n",
            "val_compute_f1: 0.12459729611873627\n",
            "\n",
            "Best val_compute_f1 So Far: 0.4421629011631012\n",
            "Total elapsed time: 00h 02m 59s\n",
            "\n",
            "Hyper parameter tuning has completed.\n",
            "-------------------------------------\n",
            "The best rate found for the Dropout layer is 0.0.\n",
            "The best number of units found for the LSTM layer is 192.\n",
            "The best learning rate found for the optimizer is 0.001.\n"
          ]
        }
      ],
      "source": [
        "# Hyperparameter optimization using random search\n",
        "tuner_bilstm = RandomSearch(BiLSTM, objective = Objective('val_compute_f1', direction = 'max'), max_trials = 4, seed = 42, overwrite = True)\n",
        "tuner_bilstm.search(X_train, y_train, epochs=10, validation_data = (X_val, y_val))\n",
        "\n",
        "params_bilstm = tuner_bilstm.get_best_hyperparameters()[0]\n",
        "\n",
        "print()\n",
        "print(f\"Hyper parameter tuning has completed.\\n\" \n",
        "      f\"-------------------------------------\\n\"\n",
        "      f\"The best rate found for the Dropout layer is {params_bilstm.get('dropout')}.\\n\" \n",
        "      f\"The best number of units found for the LSTM layer is {params_bilstm.get('units')}.\\n\" \n",
        "      f\"The best learning rate found for the optimizer is {params_bilstm.get('learning_rate')}.\")"
      ]
    },
    {
      "cell_type": "code",
      "execution_count": null,
      "metadata": {
        "colab": {
          "base_uri": "https://localhost:8080/",
          "height": 662
        },
        "id": "dj4a8RrDwFX5",
        "outputId": "141b1c29-92e3-4db1-8ff0-529bf0aa1baf"
      },
      "outputs": [
        {
          "output_type": "stream",
          "name": "stderr",
          "text": [
            "WARNING:tensorflow:Detecting that an object or model or tf.train.Checkpoint is being deleted with unrestored values. See the following logs for the specific values in question. To silence these warnings, use `status.expect_partial()`. See https://www.tensorflow.org/api_docs/python/tf/train/Checkpoint#restorefor details about the status object returned by the restore function.\n",
            "WARNING:tensorflow:Value in checkpoint could not be found in the restored object: (root).optimizer.iter\n",
            "WARNING:tensorflow:Value in checkpoint could not be found in the restored object: (root).optimizer.beta_1\n",
            "WARNING:tensorflow:Value in checkpoint could not be found in the restored object: (root).optimizer.beta_2\n",
            "WARNING:tensorflow:Value in checkpoint could not be found in the restored object: (root).optimizer.decay\n",
            "WARNING:tensorflow:Value in checkpoint could not be found in the restored object: (root).optimizer.learning_rate\n"
          ]
        },
        {
          "output_type": "execute_result",
          "data": {
            "image/png": "[encoded data removed]",
            "text/plain": [
              "<IPython.core.display.Image object>"
            ]
          },
          "metadata": {},
          "execution_count": 55
        }
      ],
      "source": [
        "plot_model(tuner_bilstm.get_best_models()[0], show_shapes=True, show_layer_names=True)"
      ]
    },
    {
      "cell_type": "markdown",
      "metadata": {
        "id": "soiCMA8ix_Uh"
      },
      "source": [
        "### Model 2: Bidirectional GRU + Dense layer "
      ]
    },
    {
      "cell_type": "code",
      "execution_count": null,
      "metadata": {
        "colab": {
          "base_uri": "https://localhost:8080/"
        },
        "id": "TIiOnfB4WK9Y",
        "outputId": "03378711-3d2a-4b01-a26e-f193a1fafd5d"
      },
      "outputs": [
        {
          "output_type": "stream",
          "name": "stdout",
          "text": [
            "Trial 4 Complete [00h 00m 29s]\n",
            "val_compute_f1: 0.1927943229675293\n",
            "\n",
            "Best val_compute_f1 So Far: 0.4702557921409607\n",
            "Total elapsed time: 00h 01m 56s\n",
            "\n",
            "Hyper parameter tuning completed.\n",
            "-------------------------------------\n",
            "The best rate found for Dropout layer is 0.0.\n",
            "The best  number of units  found for LSTM layer is 192.\n",
            "The optimal learning rate for the optimizer is 0.001.\n"
          ]
        }
      ],
      "source": [
        "# Hyperparameter optimization using random search\n",
        "tuner_bigru = RandomSearch(BiGRU, objective = Objective('val_compute_f1', direction = 'max'), max_trials = 4, overwrite = True, seed = 42)\n",
        "tuner_bigru.search(X_train, y_train, epochs = 10, validation_data = (X_val, y_val))\n",
        "\n",
        "params_bigru = tuner_bigru.get_best_hyperparameters()[0]\n",
        "\n",
        "print()\n",
        "print(f\"Hyper parameter tuning completed.\\n\" \n",
        "      f\"-------------------------------------\\n\" \n",
        "      f\"The best rate found for Dropout layer is {params_bigru.get('dropout')}.\\n\" \n",
        "      f\"The best  number of units  found for LSTM layer is {params_bigru.get('units')}.\\n\" \n",
        "      f\"The optimal learning rate for the optimizer is {params_bigru.get('learning_rate')}.\")"
      ]
    },
    {
      "cell_type": "code",
      "execution_count": null,
      "metadata": {
        "colab": {
          "base_uri": "https://localhost:8080/",
          "height": 662
        },
        "id": "NmLeE8ByXf2L",
        "outputId": "521e6118-51f8-4d96-b367-982d21bc4270"
      },
      "outputs": [
        {
          "output_type": "stream",
          "name": "stderr",
          "text": [
            "WARNING:tensorflow:Detecting that an object or model or tf.train.Checkpoint is being deleted with unrestored values. See the following logs for the specific values in question. To silence these warnings, use `status.expect_partial()`. See https://www.tensorflow.org/api_docs/python/tf/train/Checkpoint#restorefor details about the status object returned by the restore function.\n",
            "WARNING:tensorflow:Value in checkpoint could not be found in the restored object: (root).optimizer.iter\n",
            "WARNING:tensorflow:Value in checkpoint could not be found in the restored object: (root).optimizer.beta_1\n",
            "WARNING:tensorflow:Value in checkpoint could not be found in the restored object: (root).optimizer.beta_2\n",
            "WARNING:tensorflow:Value in checkpoint could not be found in the restored object: (root).optimizer.decay\n",
            "WARNING:tensorflow:Value in checkpoint could not be found in the restored object: (root).optimizer.learning_rate\n"
          ]
        },
        {
          "output_type": "execute_result",
          "data": {
            "image/png": "[encoded data removed]",
            "text/plain": [
              "<IPython.core.display.Image object>"
            ]
          },
          "metadata": {},
          "execution_count": 57
        }
      ],
      "source": [
        "plot_model(tuner_bigru.get_best_models()[0], show_shapes=True, show_layer_names=True)"
      ]
    },
    {
      "cell_type": "markdown",
      "metadata": {
        "id": "AG8IVTWfyBXJ"
      },
      "source": [
        "### Model 3:  Two Bidirectional LSMT + Dense layer "
      ]
    },
    {
      "cell_type": "code",
      "execution_count": null,
      "metadata": {
        "colab": {
          "base_uri": "https://localhost:8080/"
        },
        "id": "T_NVEWIRLoMD",
        "outputId": "7cb0ff58-eefe-4a31-9ee2-9e63d332bc7f"
      },
      "outputs": [
        {
          "output_type": "stream",
          "name": "stdout",
          "text": [
            "Trial 4 Complete [00h 01m 38s]\n",
            "val_compute_f1: 0.02664463222026825\n",
            "\n",
            "Best val_compute_f1 So Far: 0.2359057366847992\n",
            "Total elapsed time: 00h 06m 07s\n",
            "\n",
            "Hyper parameter tuning completed.\n",
            "-------------------------------------\n",
            "The best number of units found for the LSTM layer is 128.\n",
            "The best rate found for  Dropout layer is 0.30000000000000004.\n",
            "The best number of units found for the second LSTM layer is 192.\n",
            "The best learning rate found for the optimizer is 0.001.\n"
          ]
        }
      ],
      "source": [
        "# Hyperparameter optimization using random search\n",
        "# increased number of search epochs because this model performed very poorly\n",
        "tuner_double_bilstm = RandomSearch(double_BiLSTM, objective = Objective('val_compute_f1', direction = 'max'), max_trials = 4, overwrite = True)\n",
        "tuner_double_bilstm.search(X_train, y_train, epochs = 15, validation_data = (X_val, y_val))\n",
        "\n",
        "params_double_bilstm = tuner_double_bilstm.get_best_hyperparameters()[0]\n",
        "\n",
        "print()\n",
        "print(f\"Hyper parameter tuning completed.\\n\" \n",
        "      f\"-------------------------------------\\n\"\n",
        "      f\"The best number of units found for the LSTM layer is {params_double_bilstm.get('units')}.\\n\" \n",
        "      f\"The best rate found for  Dropout layer is {params_double_bilstm.get('dropout')}.\\n\" \n",
        "      f\"The best number of units found for the second LSTM layer is {params_double_bilstm.get('units2')}.\\n\" \n",
        "      f\"The best learning rate found for the optimizer is {params_double_bilstm.get('learning_rate')}.\")"
      ]
    },
    {
      "cell_type": "code",
      "execution_count": null,
      "metadata": {
        "id": "uJhHQf-4zwpt",
        "colab": {
          "base_uri": "https://localhost:8080/",
          "height": 773
        },
        "outputId": "f3a54d45-8c2d-4790-c6ed-ac26cbd2aa81"
      },
      "outputs": [
        {
          "output_type": "stream",
          "name": "stderr",
          "text": [
            "WARNING:tensorflow:Detecting that an object or model or tf.train.Checkpoint is being deleted with unrestored values. See the following logs for the specific values in question. To silence these warnings, use `status.expect_partial()`. See https://www.tensorflow.org/api_docs/python/tf/train/Checkpoint#restorefor details about the status object returned by the restore function.\n",
            "WARNING:tensorflow:Value in checkpoint could not be found in the restored object: (root).optimizer.iter\n",
            "WARNING:tensorflow:Value in checkpoint could not be found in the restored object: (root).optimizer.beta_1\n",
            "WARNING:tensorflow:Value in checkpoint could not be found in the restored object: (root).optimizer.beta_2\n",
            "WARNING:tensorflow:Value in checkpoint could not be found in the restored object: (root).optimizer.decay\n",
            "WARNING:tensorflow:Value in checkpoint could not be found in the restored object: (root).optimizer.learning_rate\n"
          ]
        },
        {
          "output_type": "execute_result",
          "data": {
            "image/png": "[encoded data removed]",
            "text/plain": [
              "<IPython.core.display.Image object>"
            ]
          },
          "metadata": {},
          "execution_count": 59
        }
      ],
      "source": [
        "plot_model(tuner_double_bilstm.get_best_models()[0], show_shapes=True, show_layer_names=True)"
      ]
    },
    {
      "cell_type": "markdown",
      "metadata": {
        "id": "1KQdGyTtyW5g"
      },
      "source": [
        "### Model 4: Bidirectional LSMT + two Dense layer "
      ]
    },
    {
      "cell_type": "code",
      "execution_count": null,
      "metadata": {
        "id": "tPqLeChY1RZm",
        "colab": {
          "base_uri": "https://localhost:8080/"
        },
        "outputId": "d189b780-a343-4a11-b5f5-465029e7e69f"
      },
      "outputs": [
        {
          "output_type": "stream",
          "name": "stdout",
          "text": [
            "Trial 3 Complete [00h 00m 31s]\n",
            "val_compute_f1: 0.22470912337303162\n",
            "\n",
            "Best val_compute_f1 So Far: 0.5915235280990601\n",
            "Total elapsed time: 00h 01m 29s\n",
            "\n",
            "Hyper parameter tuning completed.\n",
            "-------------------------------------\n",
            "The best rate found for the first Dropout layer is 0.0.\n",
            "The best rate found for the second Dropout layer is 0.1.\n",
            "The best number of units for the LSTM layer is 192.\n",
            "The best number of units found for the second LSTM layer is 128.\n",
            "The best learning rate found for the optimizer is 0.01.\n"
          ]
        }
      ],
      "source": [
        "# Hyperparameter optimization using random search\n",
        "tuner_bilstm_double_dense = RandomSearch(bilstm_double_dense, objective=Objective('val_compute_f1', direction='max'), max_trials=3, seed=42, overwrite=True)\n",
        "tuner_bilstm_double_dense.search(X_train, y_train, epochs = 10, validation_data = (X_val, y_val))\n",
        "\n",
        "params_bilstm_double_dense = tuner_bilstm_double_dense.get_best_hyperparameters()[0]\n",
        "\n",
        "print()\n",
        "print(f\"Hyper parameter tuning completed.\\n\" \n",
        "      f\"-------------------------------------\\n\"\n",
        "      f\"The best rate found for the first Dropout layer is {params_bilstm_double_dense.get('dropout_1')}.\\n\" \n",
        "      f\"The best rate found for the second Dropout layer is {params_bilstm_double_dense.get('dropout_2')}.\\n\" \n",
        "      f\"The best number of units for the LSTM layer is {params_bilstm_double_dense.get('units')}.\\n\" \n",
        "      f\"The best number of units found for the second LSTM layer is {params_bilstm_double_dense.get('units2')}.\\n\" \n",
        "      f\"The best learning rate found for the optimizer is {params_bilstm_double_dense.get('learning_rate')}.\")"
      ]
    },
    {
      "cell_type": "code",
      "execution_count": null,
      "metadata": {
        "id": "PudR0VxhYO03",
        "colab": {
          "base_uri": "https://localhost:8080/",
          "height": 883
        },
        "outputId": "e9bbd13c-1d99-45d4-d7a4-f59f6dd1acd3"
      },
      "outputs": [
        {
          "output_type": "stream",
          "name": "stderr",
          "text": [
            "WARNING:tensorflow:Detecting that an object or model or tf.train.Checkpoint is being deleted with unrestored values. See the following logs for the specific values in question. To silence these warnings, use `status.expect_partial()`. See https://www.tensorflow.org/api_docs/python/tf/train/Checkpoint#restorefor details about the status object returned by the restore function.\n",
            "WARNING:tensorflow:Value in checkpoint could not be found in the restored object: (root).optimizer.iter\n",
            "WARNING:tensorflow:Value in checkpoint could not be found in the restored object: (root).optimizer.beta_1\n",
            "WARNING:tensorflow:Value in checkpoint could not be found in the restored object: (root).optimizer.beta_2\n",
            "WARNING:tensorflow:Value in checkpoint could not be found in the restored object: (root).optimizer.decay\n",
            "WARNING:tensorflow:Value in checkpoint could not be found in the restored object: (root).optimizer.learning_rate\n"
          ]
        },
        {
          "output_type": "execute_result",
          "data": {
            "image/png": "[encoded data removed]",
            "text/plain": [
              "<IPython.core.display.Image object>"
            ]
          },
          "metadata": {},
          "execution_count": 61
        }
      ],
      "source": [
        "plot_model(tuner_bilstm_double_dense.get_best_models()[0], show_shapes=True, show_layer_names=True)"
      ]
    },
    {
      "cell_type": "markdown",
      "metadata": {
        "id": "c6do2pWDsLPK"
      },
      "source": [
        "##  3.3 Model training"
      ]
    },
    {
      "cell_type": "code",
      "execution_count": null,
      "metadata": {
        "id": "4dFaNBcV65LA"
      },
      "outputs": [],
      "source": [
        "epochs_training = 100\n",
        "batch_size_training = 64\n",
        "callbacks_training = [keras.callbacks.EarlyStopping(monitor='val_categorical_accuracy', patience=10, mode=\"max\", restore_best_weights=True)]"
      ]
    },
    {
      "cell_type": "markdown",
      "metadata": {
        "id": "Mb-N5c6HXxPR"
      },
      "source": [
        "### Model 1: Bidirectional LSTM + Dense layer \n"
      ]
    },
    {
      "cell_type": "markdown",
      "metadata": {
        "id": "9RAMCEKtmXuL"
      },
      "source": [
        "Using accuracy for early stopping because it is not really possibile to gauge F1-score  on  mini-batches."
      ]
    },
    {
      "cell_type": "code",
      "execution_count": null,
      "metadata": {
        "id": "oVd2di6j4tls",
        "colab": {
          "base_uri": "https://localhost:8080/"
        },
        "outputId": "6454145b-2709-4e22-85d8-58b48aaf9604"
      },
      "outputs": [
        {
          "output_type": "stream",
          "name": "stdout",
          "text": [
            "Epoch 1/100\n",
            "31/31 [==============================] - 11s 129ms/step - loss: 2.3969 - categorical_accuracy: 0.1651 - compute_f1: 0.0215 - val_loss: 1.2482 - val_categorical_accuracy: 0.1974 - val_compute_f1: 0.0252\n",
            "Epoch 2/100\n",
            "31/31 [==============================] - 1s 35ms/step - loss: 0.7765 - categorical_accuracy: 0.2656 - compute_f1: 0.0431 - val_loss: 0.4477 - val_categorical_accuracy: 0.3345 - val_compute_f1: 0.0624\n",
            "Epoch 3/100\n",
            "31/31 [==============================] - 1s 34ms/step - loss: 0.3286 - categorical_accuracy: 0.3933 - compute_f1: 0.0829 - val_loss: 0.2491 - val_categorical_accuracy: 0.4614 - val_compute_f1: 0.1051\n",
            "Epoch 4/100\n",
            "31/31 [==============================] - 1s 34ms/step - loss: 0.2176 - categorical_accuracy: 0.5058 - compute_f1: 0.1447 - val_loss: 0.1990 - val_categorical_accuracy: 0.5337 - val_compute_f1: 0.1692\n",
            "Epoch 5/100\n",
            "31/31 [==============================] - 1s 35ms/step - loss: 0.1859 - categorical_accuracy: 0.5686 - compute_f1: 0.1950 - val_loss: 0.1794 - val_categorical_accuracy: 0.5911 - val_compute_f1: 0.2155\n",
            "Epoch 6/100\n",
            "31/31 [==============================] - 1s 34ms/step - loss: 0.1700 - categorical_accuracy: 0.6187 - compute_f1: 0.2448 - val_loss: 0.1668 - val_categorical_accuracy: 0.6259 - val_compute_f1: 0.2690\n",
            "Epoch 7/100\n",
            "31/31 [==============================] - 1s 35ms/step - loss: 0.1590 - categorical_accuracy: 0.6505 - compute_f1: 0.2863 - val_loss: 0.1582 - val_categorical_accuracy: 0.6511 - val_compute_f1: 0.2881\n",
            "Epoch 8/100\n",
            "31/31 [==============================] - 1s 34ms/step - loss: 0.1502 - categorical_accuracy: 0.6785 - compute_f1: 0.3151 - val_loss: 0.1505 - val_categorical_accuracy: 0.6602 - val_compute_f1: 0.3072\n",
            "Epoch 9/100\n",
            "31/31 [==============================] - 1s 34ms/step - loss: 0.1427 - categorical_accuracy: 0.6956 - compute_f1: 0.3347 - val_loss: 0.1442 - val_categorical_accuracy: 0.6915 - val_compute_f1: 0.3378\n",
            "Epoch 10/100\n",
            "31/31 [==============================] - 1s 35ms/step - loss: 0.1369 - categorical_accuracy: 0.7118 - compute_f1: 0.3526 - val_loss: 0.1392 - val_categorical_accuracy: 0.6949 - val_compute_f1: 0.3390\n",
            "Epoch 11/100\n",
            "31/31 [==============================] - 1s 34ms/step - loss: 0.1309 - categorical_accuracy: 0.7307 - compute_f1: 0.3712 - val_loss: 0.1340 - val_categorical_accuracy: 0.7223 - val_compute_f1: 0.3681\n",
            "Epoch 12/100\n",
            "31/31 [==============================] - 1s 34ms/step - loss: 0.1259 - categorical_accuracy: 0.7439 - compute_f1: 0.3873 - val_loss: 0.1290 - val_categorical_accuracy: 0.7250 - val_compute_f1: 0.3699\n",
            "Epoch 13/100\n",
            "31/31 [==============================] - 1s 34ms/step - loss: 0.1216 - categorical_accuracy: 0.7532 - compute_f1: 0.3990 - val_loss: 0.1252 - val_categorical_accuracy: 0.7391 - val_compute_f1: 0.3972\n",
            "Epoch 14/100\n",
            "31/31 [==============================] - 1s 35ms/step - loss: 0.1175 - categorical_accuracy: 0.7617 - compute_f1: 0.4087 - val_loss: 0.1211 - val_categorical_accuracy: 0.7453 - val_compute_f1: 0.3977\n",
            "Epoch 15/100\n",
            "31/31 [==============================] - 1s 34ms/step - loss: 0.1148 - categorical_accuracy: 0.7688 - compute_f1: 0.4210 - val_loss: 0.1188 - val_categorical_accuracy: 0.7452 - val_compute_f1: 0.4069\n",
            "Epoch 16/100\n",
            "31/31 [==============================] - 1s 35ms/step - loss: 0.1114 - categorical_accuracy: 0.7776 - compute_f1: 0.4286 - val_loss: 0.1152 - val_categorical_accuracy: 0.7581 - val_compute_f1: 0.4248\n",
            "Epoch 17/100\n",
            "31/31 [==============================] - 1s 34ms/step - loss: 0.1082 - categorical_accuracy: 0.7862 - compute_f1: 0.4429 - val_loss: 0.1127 - val_categorical_accuracy: 0.7660 - val_compute_f1: 0.4249\n",
            "Epoch 18/100\n",
            "31/31 [==============================] - 1s 35ms/step - loss: 0.1055 - categorical_accuracy: 0.7905 - compute_f1: 0.4478 - val_loss: 0.1100 - val_categorical_accuracy: 0.7730 - val_compute_f1: 0.4261\n",
            "Epoch 19/100\n",
            "31/31 [==============================] - 1s 35ms/step - loss: 0.1041 - categorical_accuracy: 0.7930 - compute_f1: 0.4522 - val_loss: 0.1095 - val_categorical_accuracy: 0.7756 - val_compute_f1: 0.4494\n",
            "Epoch 20/100\n",
            "31/31 [==============================] - 1s 35ms/step - loss: 0.1015 - categorical_accuracy: 0.7994 - compute_f1: 0.4633 - val_loss: 0.1062 - val_categorical_accuracy: 0.7816 - val_compute_f1: 0.4436\n",
            "Epoch 21/100\n",
            "31/31 [==============================] - 1s 34ms/step - loss: 0.0995 - categorical_accuracy: 0.8038 - compute_f1: 0.4705 - val_loss: 0.1046 - val_categorical_accuracy: 0.7794 - val_compute_f1: 0.4449\n",
            "Epoch 22/100\n",
            "31/31 [==============================] - 1s 34ms/step - loss: 0.0977 - categorical_accuracy: 0.8082 - compute_f1: 0.4737 - val_loss: 0.1044 - val_categorical_accuracy: 0.7812 - val_compute_f1: 0.4405\n",
            "Epoch 23/100\n",
            "31/31 [==============================] - 1s 36ms/step - loss: 0.0956 - categorical_accuracy: 0.8109 - compute_f1: 0.4789 - val_loss: 0.1018 - val_categorical_accuracy: 0.7864 - val_compute_f1: 0.4600\n",
            "Epoch 24/100\n",
            "31/31 [==============================] - 1s 35ms/step - loss: 0.0941 - categorical_accuracy: 0.8147 - compute_f1: 0.4880 - val_loss: 0.1000 - val_categorical_accuracy: 0.7887 - val_compute_f1: 0.4581\n",
            "Epoch 25/100\n",
            "31/31 [==============================] - 1s 35ms/step - loss: 0.0927 - categorical_accuracy: 0.8189 - compute_f1: 0.4920 - val_loss: 0.0976 - val_categorical_accuracy: 0.7966 - val_compute_f1: 0.4700\n",
            "Epoch 26/100\n",
            "31/31 [==============================] - 1s 34ms/step - loss: 0.0910 - categorical_accuracy: 0.8239 - compute_f1: 0.4966 - val_loss: 0.0962 - val_categorical_accuracy: 0.7988 - val_compute_f1: 0.4693\n",
            "Epoch 27/100\n",
            "31/31 [==============================] - 1s 35ms/step - loss: 0.0892 - categorical_accuracy: 0.8274 - compute_f1: 0.5035 - val_loss: 0.0953 - val_categorical_accuracy: 0.8001 - val_compute_f1: 0.4794\n",
            "Epoch 28/100\n",
            "31/31 [==============================] - 1s 34ms/step - loss: 0.0882 - categorical_accuracy: 0.8264 - compute_f1: 0.5061 - val_loss: 0.0949 - val_categorical_accuracy: 0.8012 - val_compute_f1: 0.4825\n",
            "Epoch 29/100\n",
            "31/31 [==============================] - 1s 34ms/step - loss: 0.0874 - categorical_accuracy: 0.8280 - compute_f1: 0.5129 - val_loss: 0.0952 - val_categorical_accuracy: 0.7953 - val_compute_f1: 0.4722\n",
            "Epoch 30/100\n",
            "31/31 [==============================] - 1s 35ms/step - loss: 0.0861 - categorical_accuracy: 0.8316 - compute_f1: 0.5170 - val_loss: 0.0919 - val_categorical_accuracy: 0.8073 - val_compute_f1: 0.4916\n",
            "Epoch 31/100\n",
            "31/31 [==============================] - 1s 34ms/step - loss: 0.0849 - categorical_accuracy: 0.8324 - compute_f1: 0.5201 - val_loss: 0.0908 - val_categorical_accuracy: 0.8102 - val_compute_f1: 0.4909\n",
            "Epoch 32/100\n",
            "31/31 [==============================] - 1s 34ms/step - loss: 0.0830 - categorical_accuracy: 0.8374 - compute_f1: 0.5199 - val_loss: 0.0899 - val_categorical_accuracy: 0.8101 - val_compute_f1: 0.4959\n",
            "Epoch 33/100\n",
            "31/31 [==============================] - 1s 35ms/step - loss: 0.0825 - categorical_accuracy: 0.8374 - compute_f1: 0.5298 - val_loss: 0.0893 - val_categorical_accuracy: 0.8077 - val_compute_f1: 0.4886\n",
            "Epoch 34/100\n",
            "31/31 [==============================] - 1s 34ms/step - loss: 0.0815 - categorical_accuracy: 0.8390 - compute_f1: 0.5322 - val_loss: 0.0886 - val_categorical_accuracy: 0.8119 - val_compute_f1: 0.4947\n",
            "Epoch 35/100\n",
            "31/31 [==============================] - 1s 35ms/step - loss: 0.0810 - categorical_accuracy: 0.8404 - compute_f1: 0.5371 - val_loss: 0.0881 - val_categorical_accuracy: 0.8146 - val_compute_f1: 0.5003\n",
            "Epoch 36/100\n",
            "31/31 [==============================] - 1s 34ms/step - loss: 0.0798 - categorical_accuracy: 0.8434 - compute_f1: 0.5363 - val_loss: 0.0864 - val_categorical_accuracy: 0.8136 - val_compute_f1: 0.4995\n",
            "Epoch 37/100\n",
            "31/31 [==============================] - 1s 34ms/step - loss: 0.0790 - categorical_accuracy: 0.8448 - compute_f1: 0.5416 - val_loss: 0.0873 - val_categorical_accuracy: 0.8110 - val_compute_f1: 0.4997\n",
            "Epoch 38/100\n",
            "31/31 [==============================] - 1s 34ms/step - loss: 0.0781 - categorical_accuracy: 0.8466 - compute_f1: 0.5429 - val_loss: 0.0854 - val_categorical_accuracy: 0.8183 - val_compute_f1: 0.5120\n",
            "Epoch 39/100\n",
            "31/31 [==============================] - 1s 34ms/step - loss: 0.0774 - categorical_accuracy: 0.8477 - compute_f1: 0.5497 - val_loss: 0.0843 - val_categorical_accuracy: 0.8182 - val_compute_f1: 0.5135\n",
            "Epoch 40/100\n",
            "31/31 [==============================] - 1s 34ms/step - loss: 0.0771 - categorical_accuracy: 0.8471 - compute_f1: 0.5531 - val_loss: 0.0837 - val_categorical_accuracy: 0.8254 - val_compute_f1: 0.5184\n",
            "Epoch 41/100\n",
            "31/31 [==============================] - 1s 34ms/step - loss: 0.0753 - categorical_accuracy: 0.8526 - compute_f1: 0.5545 - val_loss: 0.0841 - val_categorical_accuracy: 0.8148 - val_compute_f1: 0.5000\n",
            "Epoch 42/100\n",
            "31/31 [==============================] - 1s 34ms/step - loss: 0.0750 - categorical_accuracy: 0.8515 - compute_f1: 0.5570 - val_loss: 0.0829 - val_categorical_accuracy: 0.8212 - val_compute_f1: 0.5101\n",
            "Epoch 43/100\n",
            "31/31 [==============================] - 1s 34ms/step - loss: 0.0740 - categorical_accuracy: 0.8537 - compute_f1: 0.5577 - val_loss: 0.0820 - val_categorical_accuracy: 0.8253 - val_compute_f1: 0.5241\n",
            "Epoch 44/100\n",
            "31/31 [==============================] - 1s 34ms/step - loss: 0.0735 - categorical_accuracy: 0.8561 - compute_f1: 0.5634 - val_loss: 0.0820 - val_categorical_accuracy: 0.8221 - val_compute_f1: 0.5188\n",
            "Epoch 45/100\n",
            "31/31 [==============================] - 1s 34ms/step - loss: 0.0726 - categorical_accuracy: 0.8591 - compute_f1: 0.5687 - val_loss: 0.0804 - val_categorical_accuracy: 0.8256 - val_compute_f1: 0.5165\n",
            "Epoch 46/100\n",
            "31/31 [==============================] - 1s 35ms/step - loss: 0.0719 - categorical_accuracy: 0.8585 - compute_f1: 0.5690 - val_loss: 0.0803 - val_categorical_accuracy: 0.8276 - val_compute_f1: 0.5347\n",
            "Epoch 47/100\n",
            "31/31 [==============================] - 1s 35ms/step - loss: 0.0713 - categorical_accuracy: 0.8599 - compute_f1: 0.5737 - val_loss: 0.0796 - val_categorical_accuracy: 0.8255 - val_compute_f1: 0.5275\n",
            "Epoch 48/100\n",
            "31/31 [==============================] - 1s 33ms/step - loss: 0.0707 - categorical_accuracy: 0.8606 - compute_f1: 0.5757 - val_loss: 0.0802 - val_categorical_accuracy: 0.8242 - val_compute_f1: 0.5237\n",
            "Epoch 49/100\n",
            "31/31 [==============================] - 1s 34ms/step - loss: 0.0700 - categorical_accuracy: 0.8641 - compute_f1: 0.5754 - val_loss: 0.0794 - val_categorical_accuracy: 0.8246 - val_compute_f1: 0.5265\n",
            "Epoch 50/100\n",
            "31/31 [==============================] - 1s 34ms/step - loss: 0.0693 - categorical_accuracy: 0.8630 - compute_f1: 0.5762 - val_loss: 0.0781 - val_categorical_accuracy: 0.8274 - val_compute_f1: 0.5297\n",
            "Epoch 51/100\n",
            "31/31 [==============================] - 1s 34ms/step - loss: 0.0689 - categorical_accuracy: 0.8645 - compute_f1: 0.5840 - val_loss: 0.0807 - val_categorical_accuracy: 0.8152 - val_compute_f1: 0.5151\n",
            "Epoch 52/100\n",
            "31/31 [==============================] - 1s 36ms/step - loss: 0.0686 - categorical_accuracy: 0.8636 - compute_f1: 0.5878 - val_loss: 0.0785 - val_categorical_accuracy: 0.8247 - val_compute_f1: 0.5308\n",
            "Epoch 53/100\n",
            "31/31 [==============================] - 1s 35ms/step - loss: 0.0681 - categorical_accuracy: 0.8655 - compute_f1: 0.5813 - val_loss: 0.0769 - val_categorical_accuracy: 0.8292 - val_compute_f1: 0.5339\n",
            "Epoch 54/100\n",
            "31/31 [==============================] - 1s 35ms/step - loss: 0.0667 - categorical_accuracy: 0.8690 - compute_f1: 0.5880 - val_loss: 0.0769 - val_categorical_accuracy: 0.8271 - val_compute_f1: 0.5259\n",
            "Epoch 55/100\n",
            "31/31 [==============================] - 1s 34ms/step - loss: 0.0668 - categorical_accuracy: 0.8675 - compute_f1: 0.5884 - val_loss: 0.0770 - val_categorical_accuracy: 0.8276 - val_compute_f1: 0.5387\n",
            "Epoch 56/100\n",
            "31/31 [==============================] - 1s 35ms/step - loss: 0.0657 - categorical_accuracy: 0.8709 - compute_f1: 0.5915 - val_loss: 0.0770 - val_categorical_accuracy: 0.8265 - val_compute_f1: 0.5439\n",
            "Epoch 57/100\n",
            "31/31 [==============================] - 1s 34ms/step - loss: 0.0653 - categorical_accuracy: 0.8705 - compute_f1: 0.5905 - val_loss: 0.0765 - val_categorical_accuracy: 0.8303 - val_compute_f1: 0.5472\n",
            "Epoch 58/100\n",
            "31/31 [==============================] - 1s 35ms/step - loss: 0.0647 - categorical_accuracy: 0.8733 - compute_f1: 0.5939 - val_loss: 0.0761 - val_categorical_accuracy: 0.8286 - val_compute_f1: 0.5316\n",
            "Epoch 59/100\n",
            "31/31 [==============================] - 1s 35ms/step - loss: 0.0650 - categorical_accuracy: 0.8716 - compute_f1: 0.5886 - val_loss: 0.0775 - val_categorical_accuracy: 0.8240 - val_compute_f1: 0.5349\n",
            "Epoch 60/100\n",
            "31/31 [==============================] - 1s 35ms/step - loss: 0.0641 - categorical_accuracy: 0.8735 - compute_f1: 0.6217 - val_loss: 0.0749 - val_categorical_accuracy: 0.8333 - val_compute_f1: 0.5590\n",
            "Epoch 61/100\n",
            "31/31 [==============================] - 1s 35ms/step - loss: 0.0636 - categorical_accuracy: 0.8741 - compute_f1: 0.6317 - val_loss: 0.0748 - val_categorical_accuracy: 0.8344 - val_compute_f1: 0.5681\n",
            "Epoch 62/100\n",
            "31/31 [==============================] - 1s 34ms/step - loss: 0.0627 - categorical_accuracy: 0.8773 - compute_f1: 0.6275 - val_loss: 0.0744 - val_categorical_accuracy: 0.8297 - val_compute_f1: 0.5604\n",
            "Epoch 63/100\n",
            "31/31 [==============================] - 1s 34ms/step - loss: 0.0626 - categorical_accuracy: 0.8745 - compute_f1: 0.6288 - val_loss: 0.0777 - val_categorical_accuracy: 0.8180 - val_compute_f1: 0.5520\n",
            "Epoch 64/100\n",
            "31/31 [==============================] - 1s 34ms/step - loss: 0.0622 - categorical_accuracy: 0.8787 - compute_f1: 0.6299 - val_loss: 0.0749 - val_categorical_accuracy: 0.8286 - val_compute_f1: 0.5596\n",
            "Epoch 65/100\n",
            "31/31 [==============================] - 1s 34ms/step - loss: 0.0614 - categorical_accuracy: 0.8786 - compute_f1: 0.6260 - val_loss: 0.0736 - val_categorical_accuracy: 0.8337 - val_compute_f1: 0.5684\n",
            "Epoch 66/100\n",
            "31/31 [==============================] - 1s 36ms/step - loss: 0.0608 - categorical_accuracy: 0.8803 - compute_f1: 0.6340 - val_loss: 0.0734 - val_categorical_accuracy: 0.8353 - val_compute_f1: 0.5755\n",
            "Epoch 67/100\n",
            "31/31 [==============================] - 1s 35ms/step - loss: 0.0605 - categorical_accuracy: 0.8812 - compute_f1: 0.6416 - val_loss: 0.0740 - val_categorical_accuracy: 0.8338 - val_compute_f1: 0.5796\n",
            "Epoch 68/100\n",
            "31/31 [==============================] - 1s 34ms/step - loss: 0.0603 - categorical_accuracy: 0.8801 - compute_f1: 0.6345 - val_loss: 0.0733 - val_categorical_accuracy: 0.8341 - val_compute_f1: 0.5711\n",
            "Epoch 69/100\n",
            "31/31 [==============================] - 1s 34ms/step - loss: 0.0591 - categorical_accuracy: 0.8853 - compute_f1: 0.6445 - val_loss: 0.0730 - val_categorical_accuracy: 0.8330 - val_compute_f1: 0.5625\n",
            "Epoch 70/100\n",
            "31/31 [==============================] - 1s 35ms/step - loss: 0.0595 - categorical_accuracy: 0.8826 - compute_f1: 0.6410 - val_loss: 0.0748 - val_categorical_accuracy: 0.8261 - val_compute_f1: 0.5560\n",
            "Epoch 71/100\n",
            "31/31 [==============================] - 1s 36ms/step - loss: 0.0584 - categorical_accuracy: 0.8857 - compute_f1: 0.6476 - val_loss: 0.0739 - val_categorical_accuracy: 0.8290 - val_compute_f1: 0.5702\n",
            "Epoch 72/100\n",
            "31/31 [==============================] - 1s 36ms/step - loss: 0.0582 - categorical_accuracy: 0.8866 - compute_f1: 0.6420 - val_loss: 0.0738 - val_categorical_accuracy: 0.8303 - val_compute_f1: 0.5733\n",
            "Epoch 73/100\n",
            "31/31 [==============================] - 1s 34ms/step - loss: 0.0575 - categorical_accuracy: 0.8892 - compute_f1: 0.6568 - val_loss: 0.0726 - val_categorical_accuracy: 0.8337 - val_compute_f1: 0.5756\n",
            "Epoch 74/100\n",
            "31/31 [==============================] - 1s 35ms/step - loss: 0.0570 - categorical_accuracy: 0.8888 - compute_f1: 0.6466 - val_loss: 0.0729 - val_categorical_accuracy: 0.8327 - val_compute_f1: 0.5767\n",
            "Epoch 75/100\n",
            "31/31 [==============================] - 1s 35ms/step - loss: 0.0564 - categorical_accuracy: 0.8915 - compute_f1: 0.6560 - val_loss: 0.0732 - val_categorical_accuracy: 0.8310 - val_compute_f1: 0.5758\n",
            "Epoch 76/100\n",
            "31/31 [==============================] - 1s 37ms/step - loss: 0.0569 - categorical_accuracy: 0.8902 - compute_f1: 0.6501 - val_loss: 0.0726 - val_categorical_accuracy: 0.8333 - val_compute_f1: 0.5671\n"
          ]
        }
      ],
      "source": [
        "# Train the best model for 100 epochs\n",
        "best_bilstm = tuner_bilstm.hypermodel.build(params_bilstm)\n",
        "best_bilstm.fit(X_train, y_train, epochs=epochs_training,batch_size=batch_size_training ,validation_data=(X_val, y_val),callbacks=callbacks_training)\n",
        "best_bilstm.save('models/bilstm.h5')"
      ]
    },
    {
      "cell_type": "markdown",
      "metadata": {
        "id": "woZw5OORk1vy"
      },
      "source": [
        "### Model 2: Bidirectional GRU + Dense layer \n",
        "\n"
      ]
    },
    {
      "cell_type": "code",
      "execution_count": null,
      "metadata": {
        "colab": {
          "base_uri": "https://localhost:8080/"
        },
        "id": "sZSmoi6F-mjF",
        "outputId": "87ba527d-884d-4b96-e9e5-90e64e689aa9"
      },
      "outputs": [
        {
          "output_type": "stream",
          "name": "stdout",
          "text": [
            "Epoch 1/100\n",
            "31/31 [==============================] - 11s 125ms/step - loss: 2.4382 - categorical_accuracy: 0.2509 - compute_f1: 0.0376 - val_loss: 1.3705 - val_categorical_accuracy: 0.3457 - val_compute_f1: 0.0522\n",
            "Epoch 2/100\n",
            "31/31 [==============================] - 1s 33ms/step - loss: 0.8729 - categorical_accuracy: 0.4391 - compute_f1: 0.0881 - val_loss: 0.5032 - val_categorical_accuracy: 0.5243 - val_compute_f1: 0.1629\n",
            "Epoch 3/100\n",
            "31/31 [==============================] - 1s 33ms/step - loss: 0.3508 - categorical_accuracy: 0.5561 - compute_f1: 0.1930 - val_loss: 0.2471 - val_categorical_accuracy: 0.5740 - val_compute_f1: 0.2133\n",
            "Epoch 4/100\n",
            "31/31 [==============================] - 1s 34ms/step - loss: 0.2039 - categorical_accuracy: 0.6304 - compute_f1: 0.2741 - val_loss: 0.1791 - val_categorical_accuracy: 0.6318 - val_compute_f1: 0.2763\n",
            "Epoch 5/100\n",
            "31/31 [==============================] - 1s 33ms/step - loss: 0.1631 - categorical_accuracy: 0.6729 - compute_f1: 0.3250 - val_loss: 0.1572 - val_categorical_accuracy: 0.6817 - val_compute_f1: 0.3339\n",
            "Epoch 6/100\n",
            "31/31 [==============================] - 1s 33ms/step - loss: 0.1480 - categorical_accuracy: 0.7007 - compute_f1: 0.3552 - val_loss: 0.1467 - val_categorical_accuracy: 0.7026 - val_compute_f1: 0.3623\n",
            "Epoch 7/100\n",
            "31/31 [==============================] - 1s 34ms/step - loss: 0.1390 - categorical_accuracy: 0.7213 - compute_f1: 0.3812 - val_loss: 0.1397 - val_categorical_accuracy: 0.7054 - val_compute_f1: 0.3706\n",
            "Epoch 8/100\n",
            "31/31 [==============================] - 1s 34ms/step - loss: 0.1326 - categorical_accuracy: 0.7357 - compute_f1: 0.3974 - val_loss: 0.1344 - val_categorical_accuracy: 0.7138 - val_compute_f1: 0.3762\n",
            "Epoch 9/100\n",
            "31/31 [==============================] - 1s 33ms/step - loss: 0.1264 - categorical_accuracy: 0.7503 - compute_f1: 0.4155 - val_loss: 0.1285 - val_categorical_accuracy: 0.7361 - val_compute_f1: 0.4010\n",
            "Epoch 10/100\n",
            "31/31 [==============================] - 1s 32ms/step - loss: 0.1219 - categorical_accuracy: 0.7595 - compute_f1: 0.4276 - val_loss: 0.1247 - val_categorical_accuracy: 0.7402 - val_compute_f1: 0.4142\n",
            "Epoch 11/100\n",
            "31/31 [==============================] - 1s 33ms/step - loss: 0.1171 - categorical_accuracy: 0.7720 - compute_f1: 0.4416 - val_loss: 0.1207 - val_categorical_accuracy: 0.7596 - val_compute_f1: 0.4350\n",
            "Epoch 12/100\n",
            "31/31 [==============================] - 1s 33ms/step - loss: 0.1132 - categorical_accuracy: 0.7815 - compute_f1: 0.4571 - val_loss: 0.1171 - val_categorical_accuracy: 0.7573 - val_compute_f1: 0.4380\n",
            "Epoch 13/100\n",
            "31/31 [==============================] - 1s 34ms/step - loss: 0.1097 - categorical_accuracy: 0.7874 - compute_f1: 0.4652 - val_loss: 0.1142 - val_categorical_accuracy: 0.7700 - val_compute_f1: 0.4530\n",
            "Epoch 14/100\n",
            "31/31 [==============================] - 1s 33ms/step - loss: 0.1069 - categorical_accuracy: 0.7933 - compute_f1: 0.4726 - val_loss: 0.1118 - val_categorical_accuracy: 0.7692 - val_compute_f1: 0.4612\n",
            "Epoch 15/100\n",
            "31/31 [==============================] - 1s 33ms/step - loss: 0.1048 - categorical_accuracy: 0.7951 - compute_f1: 0.4806 - val_loss: 0.1091 - val_categorical_accuracy: 0.7798 - val_compute_f1: 0.4650\n",
            "Epoch 16/100\n",
            "31/31 [==============================] - 1s 33ms/step - loss: 0.1018 - categorical_accuracy: 0.8037 - compute_f1: 0.4866 - val_loss: 0.1057 - val_categorical_accuracy: 0.7902 - val_compute_f1: 0.4777\n",
            "Epoch 17/100\n",
            "31/31 [==============================] - 1s 32ms/step - loss: 0.0993 - categorical_accuracy: 0.8083 - compute_f1: 0.4971 - val_loss: 0.1034 - val_categorical_accuracy: 0.7916 - val_compute_f1: 0.4808\n",
            "Epoch 18/100\n",
            "31/31 [==============================] - 1s 34ms/step - loss: 0.0968 - categorical_accuracy: 0.8150 - compute_f1: 0.5045 - val_loss: 0.1020 - val_categorical_accuracy: 0.7960 - val_compute_f1: 0.4815\n",
            "Epoch 19/100\n",
            "31/31 [==============================] - 1s 33ms/step - loss: 0.0955 - categorical_accuracy: 0.8155 - compute_f1: 0.5068 - val_loss: 0.1003 - val_categorical_accuracy: 0.7942 - val_compute_f1: 0.4842\n",
            "Epoch 20/100\n",
            "31/31 [==============================] - 1s 33ms/step - loss: 0.0933 - categorical_accuracy: 0.8194 - compute_f1: 0.5125 - val_loss: 0.0978 - val_categorical_accuracy: 0.8065 - val_compute_f1: 0.4982\n",
            "Epoch 21/100\n",
            "31/31 [==============================] - 1s 33ms/step - loss: 0.0920 - categorical_accuracy: 0.8216 - compute_f1: 0.5210 - val_loss: 0.0979 - val_categorical_accuracy: 0.7992 - val_compute_f1: 0.4917\n",
            "Epoch 22/100\n",
            "31/31 [==============================] - 1s 33ms/step - loss: 0.0906 - categorical_accuracy: 0.8247 - compute_f1: 0.5220 - val_loss: 0.0957 - val_categorical_accuracy: 0.8019 - val_compute_f1: 0.4972\n",
            "Epoch 23/100\n",
            "31/31 [==============================] - 1s 33ms/step - loss: 0.0888 - categorical_accuracy: 0.8278 - compute_f1: 0.5264 - val_loss: 0.0944 - val_categorical_accuracy: 0.8038 - val_compute_f1: 0.5051\n",
            "Epoch 24/100\n",
            "31/31 [==============================] - 1s 32ms/step - loss: 0.0871 - categorical_accuracy: 0.8313 - compute_f1: 0.5347 - val_loss: 0.0927 - val_categorical_accuracy: 0.8098 - val_compute_f1: 0.5063\n",
            "Epoch 25/100\n",
            "31/31 [==============================] - 1s 34ms/step - loss: 0.0854 - categorical_accuracy: 0.8360 - compute_f1: 0.5379 - val_loss: 0.0911 - val_categorical_accuracy: 0.8107 - val_compute_f1: 0.5183\n",
            "Epoch 26/100\n",
            "31/31 [==============================] - 1s 46ms/step - loss: 0.0842 - categorical_accuracy: 0.8381 - compute_f1: 0.5481 - val_loss: 0.0904 - val_categorical_accuracy: 0.8139 - val_compute_f1: 0.5131\n",
            "Epoch 27/100\n",
            "31/31 [==============================] - 1s 33ms/step - loss: 0.0830 - categorical_accuracy: 0.8397 - compute_f1: 0.5494 - val_loss: 0.0891 - val_categorical_accuracy: 0.8172 - val_compute_f1: 0.5228\n",
            "Epoch 28/100\n",
            "31/31 [==============================] - 1s 34ms/step - loss: 0.0819 - categorical_accuracy: 0.8414 - compute_f1: 0.5509 - val_loss: 0.0882 - val_categorical_accuracy: 0.8162 - val_compute_f1: 0.5148\n",
            "Epoch 29/100\n",
            "31/31 [==============================] - 1s 32ms/step - loss: 0.0811 - categorical_accuracy: 0.8417 - compute_f1: 0.5572 - val_loss: 0.0887 - val_categorical_accuracy: 0.8106 - val_compute_f1: 0.5229\n",
            "Epoch 30/100\n",
            "31/31 [==============================] - 1s 33ms/step - loss: 0.0799 - categorical_accuracy: 0.8456 - compute_f1: 0.5612 - val_loss: 0.0858 - val_categorical_accuracy: 0.8252 - val_compute_f1: 0.5380\n",
            "Epoch 31/100\n",
            "31/31 [==============================] - 1s 32ms/step - loss: 0.0785 - categorical_accuracy: 0.8486 - compute_f1: 0.5717 - val_loss: 0.0850 - val_categorical_accuracy: 0.8215 - val_compute_f1: 0.5315\n",
            "Epoch 32/100\n",
            "31/31 [==============================] - 1s 33ms/step - loss: 0.0771 - categorical_accuracy: 0.8509 - compute_f1: 0.5715 - val_loss: 0.0844 - val_categorical_accuracy: 0.8230 - val_compute_f1: 0.5405\n",
            "Epoch 33/100\n",
            "31/31 [==============================] - 1s 33ms/step - loss: 0.0764 - categorical_accuracy: 0.8516 - compute_f1: 0.5789 - val_loss: 0.0838 - val_categorical_accuracy: 0.8242 - val_compute_f1: 0.5350\n",
            "Epoch 34/100\n",
            "31/31 [==============================] - 1s 33ms/step - loss: 0.0756 - categorical_accuracy: 0.8518 - compute_f1: 0.5773 - val_loss: 0.0825 - val_categorical_accuracy: 0.8274 - val_compute_f1: 0.5489\n",
            "Epoch 35/100\n",
            "31/31 [==============================] - 1s 33ms/step - loss: 0.0748 - categorical_accuracy: 0.8538 - compute_f1: 0.5818 - val_loss: 0.0826 - val_categorical_accuracy: 0.8238 - val_compute_f1: 0.5403\n",
            "Epoch 36/100\n",
            "31/31 [==============================] - 1s 33ms/step - loss: 0.0739 - categorical_accuracy: 0.8543 - compute_f1: 0.5851 - val_loss: 0.0809 - val_categorical_accuracy: 0.8279 - val_compute_f1: 0.5477\n",
            "Epoch 37/100\n",
            "31/31 [==============================] - 1s 33ms/step - loss: 0.0728 - categorical_accuracy: 0.8597 - compute_f1: 0.5913 - val_loss: 0.0823 - val_categorical_accuracy: 0.8220 - val_compute_f1: 0.5440\n",
            "Epoch 38/100\n",
            "31/31 [==============================] - 1s 33ms/step - loss: 0.0723 - categorical_accuracy: 0.8594 - compute_f1: 0.5892 - val_loss: 0.0805 - val_categorical_accuracy: 0.8311 - val_compute_f1: 0.5542\n",
            "Epoch 39/100\n",
            "31/31 [==============================] - 1s 33ms/step - loss: 0.0721 - categorical_accuracy: 0.8590 - compute_f1: 0.5909 - val_loss: 0.0795 - val_categorical_accuracy: 0.8282 - val_compute_f1: 0.5488\n",
            "Epoch 40/100\n",
            "31/31 [==============================] - 1s 40ms/step - loss: 0.0713 - categorical_accuracy: 0.8590 - compute_f1: 0.5924 - val_loss: 0.0796 - val_categorical_accuracy: 0.8274 - val_compute_f1: 0.5483\n",
            "Epoch 41/100\n",
            "31/31 [==============================] - 2s 55ms/step - loss: 0.0698 - categorical_accuracy: 0.8643 - compute_f1: 0.6020 - val_loss: 0.0792 - val_categorical_accuracy: 0.8284 - val_compute_f1: 0.5476\n",
            "Epoch 42/100\n",
            "31/31 [==============================] - 2s 56ms/step - loss: 0.0693 - categorical_accuracy: 0.8643 - compute_f1: 0.6032 - val_loss: 0.0782 - val_categorical_accuracy: 0.8282 - val_compute_f1: 0.5486\n",
            "Epoch 43/100\n",
            "31/31 [==============================] - 1s 43ms/step - loss: 0.0685 - categorical_accuracy: 0.8646 - compute_f1: 0.6000 - val_loss: 0.0778 - val_categorical_accuracy: 0.8343 - val_compute_f1: 0.5597\n",
            "Epoch 44/100\n",
            "31/31 [==============================] - 1s 33ms/step - loss: 0.0674 - categorical_accuracy: 0.8683 - compute_f1: 0.6036 - val_loss: 0.0768 - val_categorical_accuracy: 0.8330 - val_compute_f1: 0.5614\n",
            "Epoch 45/100\n",
            "31/31 [==============================] - 1s 34ms/step - loss: 0.0668 - categorical_accuracy: 0.8692 - compute_f1: 0.6118 - val_loss: 0.0762 - val_categorical_accuracy: 0.8331 - val_compute_f1: 0.5570\n",
            "Epoch 46/100\n",
            "31/31 [==============================] - 1s 34ms/step - loss: 0.0662 - categorical_accuracy: 0.8712 - compute_f1: 0.6123 - val_loss: 0.0766 - val_categorical_accuracy: 0.8306 - val_compute_f1: 0.5624\n",
            "Epoch 47/100\n",
            "31/31 [==============================] - 1s 33ms/step - loss: 0.0659 - categorical_accuracy: 0.8710 - compute_f1: 0.6112 - val_loss: 0.0759 - val_categorical_accuracy: 0.8324 - val_compute_f1: 0.5599\n",
            "Epoch 48/100\n",
            "31/31 [==============================] - 1s 33ms/step - loss: 0.0653 - categorical_accuracy: 0.8708 - compute_f1: 0.6184 - val_loss: 0.0777 - val_categorical_accuracy: 0.8240 - val_compute_f1: 0.5556\n",
            "Epoch 49/100\n",
            "31/31 [==============================] - 1s 33ms/step - loss: 0.0643 - categorical_accuracy: 0.8753 - compute_f1: 0.6158 - val_loss: 0.0758 - val_categorical_accuracy: 0.8303 - val_compute_f1: 0.5623\n",
            "Epoch 50/100\n",
            "31/31 [==============================] - 1s 34ms/step - loss: 0.0638 - categorical_accuracy: 0.8744 - compute_f1: 0.6197 - val_loss: 0.0744 - val_categorical_accuracy: 0.8349 - val_compute_f1: 0.5641\n",
            "Epoch 51/100\n",
            "31/31 [==============================] - 1s 33ms/step - loss: 0.0630 - categorical_accuracy: 0.8768 - compute_f1: 0.6286 - val_loss: 0.0758 - val_categorical_accuracy: 0.8291 - val_compute_f1: 0.5614\n",
            "Epoch 52/100\n",
            "31/31 [==============================] - 1s 33ms/step - loss: 0.0626 - categorical_accuracy: 0.8782 - compute_f1: 0.6270 - val_loss: 0.0745 - val_categorical_accuracy: 0.8330 - val_compute_f1: 0.5660\n",
            "Epoch 53/100\n",
            "31/31 [==============================] - 1s 33ms/step - loss: 0.0618 - categorical_accuracy: 0.8798 - compute_f1: 0.6267 - val_loss: 0.0737 - val_categorical_accuracy: 0.8312 - val_compute_f1: 0.5627\n",
            "Epoch 54/100\n",
            "31/31 [==============================] - 1s 33ms/step - loss: 0.0610 - categorical_accuracy: 0.8804 - compute_f1: 0.6314 - val_loss: 0.0735 - val_categorical_accuracy: 0.8354 - val_compute_f1: 0.5709\n",
            "Epoch 55/100\n",
            "31/31 [==============================] - 1s 32ms/step - loss: 0.0610 - categorical_accuracy: 0.8814 - compute_f1: 0.6282 - val_loss: 0.0735 - val_categorical_accuracy: 0.8339 - val_compute_f1: 0.5663\n",
            "Epoch 56/100\n",
            "31/31 [==============================] - 1s 34ms/step - loss: 0.0600 - categorical_accuracy: 0.8827 - compute_f1: 0.6336 - val_loss: 0.0748 - val_categorical_accuracy: 0.8289 - val_compute_f1: 0.5728\n",
            "Epoch 57/100\n",
            "31/31 [==============================] - 1s 34ms/step - loss: 0.0595 - categorical_accuracy: 0.8850 - compute_f1: 0.6401 - val_loss: 0.0736 - val_categorical_accuracy: 0.8330 - val_compute_f1: 0.5715\n",
            "Epoch 58/100\n",
            "31/31 [==============================] - 1s 33ms/step - loss: 0.0585 - categorical_accuracy: 0.8872 - compute_f1: 0.6398 - val_loss: 0.0740 - val_categorical_accuracy: 0.8295 - val_compute_f1: 0.5680\n",
            "Epoch 59/100\n",
            "31/31 [==============================] - 1s 33ms/step - loss: 0.0582 - categorical_accuracy: 0.8875 - compute_f1: 0.6419 - val_loss: 0.0756 - val_categorical_accuracy: 0.8229 - val_compute_f1: 0.5575\n",
            "Epoch 60/100\n",
            "31/31 [==============================] - 1s 33ms/step - loss: 0.0577 - categorical_accuracy: 0.8890 - compute_f1: 0.6478 - val_loss: 0.0734 - val_categorical_accuracy: 0.8316 - val_compute_f1: 0.5742\n",
            "Epoch 61/100\n",
            "31/31 [==============================] - 1s 33ms/step - loss: 0.0572 - categorical_accuracy: 0.8896 - compute_f1: 0.6519 - val_loss: 0.0722 - val_categorical_accuracy: 0.8366 - val_compute_f1: 0.5743\n",
            "Epoch 62/100\n",
            "31/31 [==============================] - 1s 32ms/step - loss: 0.0566 - categorical_accuracy: 0.8906 - compute_f1: 0.6507 - val_loss: 0.0727 - val_categorical_accuracy: 0.8312 - val_compute_f1: 0.5797\n",
            "Epoch 63/100\n",
            "31/31 [==============================] - 1s 33ms/step - loss: 0.0561 - categorical_accuracy: 0.8917 - compute_f1: 0.6572 - val_loss: 0.0728 - val_categorical_accuracy: 0.8296 - val_compute_f1: 0.5724\n",
            "Epoch 64/100\n",
            "31/31 [==============================] - 1s 34ms/step - loss: 0.0552 - categorical_accuracy: 0.8947 - compute_f1: 0.6592 - val_loss: 0.0731 - val_categorical_accuracy: 0.8308 - val_compute_f1: 0.5686\n",
            "Epoch 65/100\n",
            "31/31 [==============================] - 1s 33ms/step - loss: 0.0544 - categorical_accuracy: 0.8967 - compute_f1: 0.6604 - val_loss: 0.0736 - val_categorical_accuracy: 0.8276 - val_compute_f1: 0.5709\n",
            "Epoch 66/100\n",
            "31/31 [==============================] - 1s 34ms/step - loss: 0.0540 - categorical_accuracy: 0.8980 - compute_f1: 0.6627 - val_loss: 0.0726 - val_categorical_accuracy: 0.8326 - val_compute_f1: 0.5790\n",
            "Epoch 67/100\n",
            "31/31 [==============================] - 1s 34ms/step - loss: 0.0534 - categorical_accuracy: 0.9001 - compute_f1: 0.6695 - val_loss: 0.0740 - val_categorical_accuracy: 0.8259 - val_compute_f1: 0.5754\n",
            "Epoch 68/100\n",
            "31/31 [==============================] - 1s 33ms/step - loss: 0.0534 - categorical_accuracy: 0.8985 - compute_f1: 0.6710 - val_loss: 0.0731 - val_categorical_accuracy: 0.8288 - val_compute_f1: 0.5653\n",
            "Epoch 69/100\n",
            "31/31 [==============================] - 1s 32ms/step - loss: 0.0522 - categorical_accuracy: 0.9030 - compute_f1: 0.6695 - val_loss: 0.0740 - val_categorical_accuracy: 0.8258 - val_compute_f1: 0.5657\n",
            "Epoch 70/100\n",
            "31/31 [==============================] - 1s 33ms/step - loss: 0.0520 - categorical_accuracy: 0.9031 - compute_f1: 0.6750 - val_loss: 0.0740 - val_categorical_accuracy: 0.8257 - val_compute_f1: 0.5598\n",
            "Epoch 71/100\n",
            "31/31 [==============================] - 1s 33ms/step - loss: 0.0506 - categorical_accuracy: 0.9081 - compute_f1: 0.6843 - val_loss: 0.0744 - val_categorical_accuracy: 0.8212 - val_compute_f1: 0.5640\n"
          ]
        }
      ],
      "source": [
        "# Train the best model for 10 epochs\n",
        "best_bigru = tuner_bigru.hypermodel.build(params_bigru)\n",
        "best_bigru.fit(X_train, y_train, epochs=epochs_training,batch_size=batch_size_training ,validation_data=(X_val, y_val),callbacks=callbacks_training)\n",
        "best_bigru.save('models/bigru.h5')"
      ]
    },
    {
      "cell_type": "markdown",
      "metadata": {
        "id": "192ii6o_mflM"
      },
      "source": [
        "### Model 3:  Two Bidirectional LSTM + Dense layer "
      ]
    },
    {
      "cell_type": "code",
      "execution_count": null,
      "metadata": {
        "colab": {
          "base_uri": "https://localhost:8080/"
        },
        "id": "bW45UO6vJrG0",
        "outputId": "29625887-725f-4216-c3a5-1d2f928f3c44"
      },
      "outputs": [
        {
          "output_type": "stream",
          "name": "stdout",
          "text": [
            "Epoch 1/100\n",
            "31/31 [==============================] - 20s 218ms/step - loss: 6.7828 - categorical_accuracy: 0.1422 - compute_f1: 0.0186 - val_loss: 3.2700 - val_categorical_accuracy: 0.1768 - val_compute_f1: 0.0160\n",
            "Epoch 2/100\n",
            "31/31 [==============================] - 2s 55ms/step - loss: 1.8649 - categorical_accuracy: 0.1723 - compute_f1: 0.0215 - val_loss: 0.9034 - val_categorical_accuracy: 0.1801 - val_compute_f1: 0.0146\n",
            "Epoch 3/100\n",
            "31/31 [==============================] - 2s 53ms/step - loss: 0.5873 - categorical_accuracy: 0.1786 - compute_f1: 0.0229 - val_loss: 0.3832 - val_categorical_accuracy: 0.1903 - val_compute_f1: 0.0186\n",
            "Epoch 4/100\n",
            "31/31 [==============================] - 2s 54ms/step - loss: 0.3242 - categorical_accuracy: 0.1899 - compute_f1: 0.0267 - val_loss: 0.2869 - val_categorical_accuracy: 0.1930 - val_compute_f1: 0.0228\n",
            "Epoch 5/100\n",
            "31/31 [==============================] - 2s 55ms/step - loss: 0.2751 - categorical_accuracy: 0.2019 - compute_f1: 0.0303 - val_loss: 0.2650 - val_categorical_accuracy: 0.2098 - val_compute_f1: 0.0300\n",
            "Epoch 6/100\n",
            "31/31 [==============================] - 2s 54ms/step - loss: 0.2618 - categorical_accuracy: 0.2125 - compute_f1: 0.0370 - val_loss: 0.2560 - val_categorical_accuracy: 0.2203 - val_compute_f1: 0.0401\n",
            "Epoch 7/100\n",
            "31/31 [==============================] - 2s 54ms/step - loss: 0.2511 - categorical_accuracy: 0.2362 - compute_f1: 0.0524 - val_loss: 0.2459 - val_categorical_accuracy: 0.2456 - val_compute_f1: 0.0518\n",
            "Epoch 8/100\n",
            "31/31 [==============================] - 2s 54ms/step - loss: 0.2403 - categorical_accuracy: 0.2682 - compute_f1: 0.0694 - val_loss: 0.2325 - val_categorical_accuracy: 0.3025 - val_compute_f1: 0.0813\n",
            "Epoch 9/100\n",
            "31/31 [==============================] - 2s 55ms/step - loss: 0.2262 - categorical_accuracy: 0.3261 - compute_f1: 0.0948 - val_loss: 0.2143 - val_categorical_accuracy: 0.3785 - val_compute_f1: 0.1019\n",
            "Epoch 10/100\n",
            "31/31 [==============================] - 2s 56ms/step - loss: 0.2087 - categorical_accuracy: 0.3952 - compute_f1: 0.1199 - val_loss: 0.2049 - val_categorical_accuracy: 0.4129 - val_compute_f1: 0.1260\n",
            "Epoch 11/100\n",
            "31/31 [==============================] - 2s 55ms/step - loss: 0.1939 - categorical_accuracy: 0.4432 - compute_f1: 0.1435 - val_loss: 0.1854 - val_categorical_accuracy: 0.4653 - val_compute_f1: 0.1542\n",
            "Epoch 12/100\n",
            "31/31 [==============================] - 2s 54ms/step - loss: 0.1828 - categorical_accuracy: 0.4675 - compute_f1: 0.1629 - val_loss: 0.1796 - val_categorical_accuracy: 0.4727 - val_compute_f1: 0.1578\n",
            "Epoch 13/100\n",
            "31/31 [==============================] - 2s 54ms/step - loss: 0.1749 - categorical_accuracy: 0.4880 - compute_f1: 0.1751 - val_loss: 0.1714 - val_categorical_accuracy: 0.4931 - val_compute_f1: 0.1855\n",
            "Epoch 14/100\n",
            "31/31 [==============================] - 2s 54ms/step - loss: 0.1710 - categorical_accuracy: 0.4970 - compute_f1: 0.1829 - val_loss: 0.1691 - val_categorical_accuracy: 0.5017 - val_compute_f1: 0.1894\n",
            "Epoch 15/100\n",
            "31/31 [==============================] - 2s 54ms/step - loss: 0.1645 - categorical_accuracy: 0.5172 - compute_f1: 0.1975 - val_loss: 0.1625 - val_categorical_accuracy: 0.5139 - val_compute_f1: 0.2034\n",
            "Epoch 16/100\n",
            "31/31 [==============================] - 2s 55ms/step - loss: 0.1622 - categorical_accuracy: 0.5212 - compute_f1: 0.2040 - val_loss: 0.1614 - val_categorical_accuracy: 0.5236 - val_compute_f1: 0.2056\n",
            "Epoch 17/100\n",
            "31/31 [==============================] - 2s 54ms/step - loss: 0.1585 - categorical_accuracy: 0.5332 - compute_f1: 0.2108 - val_loss: 0.1671 - val_categorical_accuracy: 0.5126 - val_compute_f1: 0.1941\n",
            "Epoch 18/100\n",
            "31/31 [==============================] - 2s 55ms/step - loss: 0.1564 - categorical_accuracy: 0.5382 - compute_f1: 0.2171 - val_loss: 0.1556 - val_categorical_accuracy: 0.5340 - val_compute_f1: 0.2188\n",
            "Epoch 19/100\n",
            "31/31 [==============================] - 2s 54ms/step - loss: 0.1528 - categorical_accuracy: 0.5500 - compute_f1: 0.2283 - val_loss: 0.1553 - val_categorical_accuracy: 0.5449 - val_compute_f1: 0.2226\n",
            "Epoch 20/100\n",
            "31/31 [==============================] - 2s 54ms/step - loss: 0.1507 - categorical_accuracy: 0.5568 - compute_f1: 0.2349 - val_loss: 0.1525 - val_categorical_accuracy: 0.5467 - val_compute_f1: 0.2219\n",
            "Epoch 21/100\n",
            "31/31 [==============================] - 2s 54ms/step - loss: 0.1479 - categorical_accuracy: 0.5633 - compute_f1: 0.2417 - val_loss: 0.1504 - val_categorical_accuracy: 0.5575 - val_compute_f1: 0.2471\n",
            "Epoch 22/100\n",
            "31/31 [==============================] - 2s 55ms/step - loss: 0.1457 - categorical_accuracy: 0.5720 - compute_f1: 0.2507 - val_loss: 0.1483 - val_categorical_accuracy: 0.5597 - val_compute_f1: 0.2402\n",
            "Epoch 23/100\n",
            "31/31 [==============================] - 2s 55ms/step - loss: 0.1468 - categorical_accuracy: 0.5665 - compute_f1: 0.2429 - val_loss: 0.1451 - val_categorical_accuracy: 0.5769 - val_compute_f1: 0.2534\n",
            "Epoch 24/100\n",
            "31/31 [==============================] - 2s 54ms/step - loss: 0.1409 - categorical_accuracy: 0.5864 - compute_f1: 0.2619 - val_loss: 0.1435 - val_categorical_accuracy: 0.5765 - val_compute_f1: 0.2552\n",
            "Epoch 25/100\n",
            "31/31 [==============================] - 2s 55ms/step - loss: 0.1391 - categorical_accuracy: 0.5904 - compute_f1: 0.2644 - val_loss: 0.1424 - val_categorical_accuracy: 0.5794 - val_compute_f1: 0.2639\n",
            "Epoch 26/100\n",
            "31/31 [==============================] - 2s 55ms/step - loss: 0.1383 - categorical_accuracy: 0.5938 - compute_f1: 0.2682 - val_loss: 0.1392 - val_categorical_accuracy: 0.5916 - val_compute_f1: 0.2725\n",
            "Epoch 27/100\n",
            "31/31 [==============================] - 2s 55ms/step - loss: 0.1357 - categorical_accuracy: 0.6029 - compute_f1: 0.2783 - val_loss: 0.1382 - val_categorical_accuracy: 0.5907 - val_compute_f1: 0.2746\n",
            "Epoch 28/100\n",
            "31/31 [==============================] - 2s 56ms/step - loss: 0.1329 - categorical_accuracy: 0.6089 - compute_f1: 0.2861 - val_loss: 0.1351 - val_categorical_accuracy: 0.6065 - val_compute_f1: 0.2909\n",
            "Epoch 29/100\n",
            "31/31 [==============================] - 2s 57ms/step - loss: 0.1294 - categorical_accuracy: 0.6211 - compute_f1: 0.2964 - val_loss: 0.1335 - val_categorical_accuracy: 0.6010 - val_compute_f1: 0.2867\n",
            "Epoch 30/100\n",
            "31/31 [==============================] - 2s 54ms/step - loss: 0.1305 - categorical_accuracy: 0.6170 - compute_f1: 0.2936 - val_loss: 0.1334 - val_categorical_accuracy: 0.6127 - val_compute_f1: 0.2970\n",
            "Epoch 31/100\n",
            "31/31 [==============================] - 2s 54ms/step - loss: 0.1266 - categorical_accuracy: 0.6278 - compute_f1: 0.3049 - val_loss: 0.1303 - val_categorical_accuracy: 0.6126 - val_compute_f1: 0.2972\n",
            "Epoch 32/100\n",
            "31/31 [==============================] - 2s 54ms/step - loss: 0.1248 - categorical_accuracy: 0.6328 - compute_f1: 0.3128 - val_loss: 0.1315 - val_categorical_accuracy: 0.6078 - val_compute_f1: 0.2881\n",
            "Epoch 33/100\n",
            "31/31 [==============================] - 2s 54ms/step - loss: 0.1250 - categorical_accuracy: 0.6323 - compute_f1: 0.3129 - val_loss: 0.1304 - val_categorical_accuracy: 0.6088 - val_compute_f1: 0.2951\n",
            "Epoch 34/100\n",
            "31/31 [==============================] - 2s 55ms/step - loss: 0.1239 - categorical_accuracy: 0.6356 - compute_f1: 0.3208 - val_loss: 0.1287 - val_categorical_accuracy: 0.6132 - val_compute_f1: 0.3006\n",
            "Epoch 35/100\n",
            "31/31 [==============================] - 2s 55ms/step - loss: 0.1212 - categorical_accuracy: 0.6426 - compute_f1: 0.3285 - val_loss: 0.1254 - val_categorical_accuracy: 0.6313 - val_compute_f1: 0.3252\n",
            "Epoch 36/100\n",
            "31/31 [==============================] - 2s 55ms/step - loss: 0.1203 - categorical_accuracy: 0.6469 - compute_f1: 0.3301 - val_loss: 0.1246 - val_categorical_accuracy: 0.6391 - val_compute_f1: 0.3378\n",
            "Epoch 37/100\n",
            "31/31 [==============================] - 2s 55ms/step - loss: 0.1198 - categorical_accuracy: 0.6487 - compute_f1: 0.3360 - val_loss: 0.1255 - val_categorical_accuracy: 0.6307 - val_compute_f1: 0.3219\n",
            "Epoch 38/100\n",
            "31/31 [==============================] - 2s 55ms/step - loss: 0.1179 - categorical_accuracy: 0.6558 - compute_f1: 0.3452 - val_loss: 0.1252 - val_categorical_accuracy: 0.6292 - val_compute_f1: 0.3201\n",
            "Epoch 39/100\n",
            "31/31 [==============================] - 2s 55ms/step - loss: 0.1165 - categorical_accuracy: 0.6576 - compute_f1: 0.3447 - val_loss: 0.1211 - val_categorical_accuracy: 0.6435 - val_compute_f1: 0.3356\n",
            "Epoch 40/100\n",
            "31/31 [==============================] - 2s 55ms/step - loss: 0.1154 - categorical_accuracy: 0.6612 - compute_f1: 0.3500 - val_loss: 0.1251 - val_categorical_accuracy: 0.6309 - val_compute_f1: 0.3335\n",
            "Epoch 41/100\n",
            "31/31 [==============================] - 2s 55ms/step - loss: 0.1163 - categorical_accuracy: 0.6595 - compute_f1: 0.3537 - val_loss: 0.1228 - val_categorical_accuracy: 0.6424 - val_compute_f1: 0.3368\n",
            "Epoch 42/100\n",
            "31/31 [==============================] - 2s 55ms/step - loss: 0.1138 - categorical_accuracy: 0.6671 - compute_f1: 0.3596 - val_loss: 0.1201 - val_categorical_accuracy: 0.6482 - val_compute_f1: 0.3475\n",
            "Epoch 43/100\n",
            "31/31 [==============================] - 2s 54ms/step - loss: 0.1136 - categorical_accuracy: 0.6674 - compute_f1: 0.3579 - val_loss: 0.1190 - val_categorical_accuracy: 0.6513 - val_compute_f1: 0.3512\n",
            "Epoch 44/100\n",
            "31/31 [==============================] - 2s 54ms/step - loss: 0.1120 - categorical_accuracy: 0.6745 - compute_f1: 0.3707 - val_loss: 0.1195 - val_categorical_accuracy: 0.6462 - val_compute_f1: 0.3378\n",
            "Epoch 45/100\n",
            "31/31 [==============================] - 2s 54ms/step - loss: 0.1103 - categorical_accuracy: 0.6807 - compute_f1: 0.3757 - val_loss: 0.1169 - val_categorical_accuracy: 0.6593 - val_compute_f1: 0.3618\n",
            "Epoch 46/100\n",
            "31/31 [==============================] - 2s 55ms/step - loss: 0.1124 - categorical_accuracy: 0.6730 - compute_f1: 0.3666 - val_loss: 0.1171 - val_categorical_accuracy: 0.6610 - val_compute_f1: 0.3690\n",
            "Epoch 47/100\n",
            "31/31 [==============================] - 2s 54ms/step - loss: 0.1096 - categorical_accuracy: 0.6822 - compute_f1: 0.3758 - val_loss: 0.1163 - val_categorical_accuracy: 0.6580 - val_compute_f1: 0.3620\n",
            "Epoch 48/100\n",
            "31/31 [==============================] - 2s 53ms/step - loss: 0.1074 - categorical_accuracy: 0.6908 - compute_f1: 0.3827 - val_loss: 0.1162 - val_categorical_accuracy: 0.6565 - val_compute_f1: 0.3523\n",
            "Epoch 49/100\n",
            "31/31 [==============================] - 2s 53ms/step - loss: 0.1065 - categorical_accuracy: 0.6924 - compute_f1: 0.3896 - val_loss: 0.1142 - val_categorical_accuracy: 0.6674 - val_compute_f1: 0.3659\n",
            "Epoch 50/100\n",
            "31/31 [==============================] - 2s 54ms/step - loss: 0.1058 - categorical_accuracy: 0.6946 - compute_f1: 0.3889 - val_loss: 0.1131 - val_categorical_accuracy: 0.6725 - val_compute_f1: 0.3699\n",
            "Epoch 51/100\n",
            "31/31 [==============================] - 2s 53ms/step - loss: 0.1047 - categorical_accuracy: 0.6997 - compute_f1: 0.3965 - val_loss: 0.1123 - val_categorical_accuracy: 0.6720 - val_compute_f1: 0.3776\n",
            "Epoch 52/100\n",
            "31/31 [==============================] - 2s 54ms/step - loss: 0.1039 - categorical_accuracy: 0.7013 - compute_f1: 0.4001 - val_loss: 0.1138 - val_categorical_accuracy: 0.6674 - val_compute_f1: 0.3662\n",
            "Epoch 53/100\n",
            "31/31 [==============================] - 2s 55ms/step - loss: 0.1045 - categorical_accuracy: 0.7010 - compute_f1: 0.3970 - val_loss: 0.1118 - val_categorical_accuracy: 0.6809 - val_compute_f1: 0.3784\n",
            "Epoch 54/100\n",
            "31/31 [==============================] - 2s 54ms/step - loss: 0.1031 - categorical_accuracy: 0.7064 - compute_f1: 0.4061 - val_loss: 0.1112 - val_categorical_accuracy: 0.6817 - val_compute_f1: 0.3888\n",
            "Epoch 55/100\n",
            "31/31 [==============================] - 2s 54ms/step - loss: 0.1021 - categorical_accuracy: 0.7095 - compute_f1: 0.4089 - val_loss: 0.1106 - val_categorical_accuracy: 0.6841 - val_compute_f1: 0.3852\n",
            "Epoch 56/100\n",
            "31/31 [==============================] - 2s 55ms/step - loss: 0.1020 - categorical_accuracy: 0.7095 - compute_f1: 0.4053 - val_loss: 0.1086 - val_categorical_accuracy: 0.6885 - val_compute_f1: 0.3950\n",
            "Epoch 57/100\n",
            "31/31 [==============================] - 2s 54ms/step - loss: 0.0996 - categorical_accuracy: 0.7181 - compute_f1: 0.4128 - val_loss: 0.1093 - val_categorical_accuracy: 0.6894 - val_compute_f1: 0.3961\n",
            "Epoch 58/100\n",
            "31/31 [==============================] - 2s 53ms/step - loss: 0.1010 - categorical_accuracy: 0.7135 - compute_f1: 0.4082 - val_loss: 0.1101 - val_categorical_accuracy: 0.6855 - val_compute_f1: 0.3862\n",
            "Epoch 59/100\n",
            "31/31 [==============================] - 2s 55ms/step - loss: 0.0986 - categorical_accuracy: 0.7213 - compute_f1: 0.4214 - val_loss: 0.1065 - val_categorical_accuracy: 0.6972 - val_compute_f1: 0.4024\n",
            "Epoch 60/100\n",
            "31/31 [==============================] - 2s 55ms/step - loss: 0.0974 - categorical_accuracy: 0.7244 - compute_f1: 0.4219 - val_loss: 0.1059 - val_categorical_accuracy: 0.7012 - val_compute_f1: 0.4023\n",
            "Epoch 61/100\n",
            "31/31 [==============================] - 2s 55ms/step - loss: 0.0967 - categorical_accuracy: 0.7270 - compute_f1: 0.4275 - val_loss: 0.1044 - val_categorical_accuracy: 0.7036 - val_compute_f1: 0.4028\n",
            "Epoch 62/100\n",
            "31/31 [==============================] - 2s 55ms/step - loss: 0.0951 - categorical_accuracy: 0.7329 - compute_f1: 0.4303 - val_loss: 0.1055 - val_categorical_accuracy: 0.7000 - val_compute_f1: 0.3973\n",
            "Epoch 63/100\n",
            "31/31 [==============================] - 2s 54ms/step - loss: 0.0961 - categorical_accuracy: 0.7303 - compute_f1: 0.4258 - val_loss: 0.1048 - val_categorical_accuracy: 0.7066 - val_compute_f1: 0.4075\n",
            "Epoch 64/100\n",
            "31/31 [==============================] - 2s 55ms/step - loss: 0.0934 - categorical_accuracy: 0.7383 - compute_f1: 0.4330 - val_loss: 0.1035 - val_categorical_accuracy: 0.7090 - val_compute_f1: 0.4107\n",
            "Epoch 65/100\n",
            "31/31 [==============================] - 2s 58ms/step - loss: 0.0943 - categorical_accuracy: 0.7353 - compute_f1: 0.4343 - val_loss: 0.1034 - val_categorical_accuracy: 0.7093 - val_compute_f1: 0.4129\n",
            "Epoch 66/100\n",
            "31/31 [==============================] - 2s 55ms/step - loss: 0.0935 - categorical_accuracy: 0.7404 - compute_f1: 0.4391 - val_loss: 0.1015 - val_categorical_accuracy: 0.7152 - val_compute_f1: 0.4157\n",
            "Epoch 67/100\n",
            "31/31 [==============================] - 2s 55ms/step - loss: 0.0929 - categorical_accuracy: 0.7406 - compute_f1: 0.4350 - val_loss: 0.1002 - val_categorical_accuracy: 0.7223 - val_compute_f1: 0.4203\n",
            "Epoch 68/100\n",
            "31/31 [==============================] - 2s 54ms/step - loss: 0.0915 - categorical_accuracy: 0.7463 - compute_f1: 0.4452 - val_loss: 0.1010 - val_categorical_accuracy: 0.7167 - val_compute_f1: 0.4133\n",
            "Epoch 69/100\n",
            "31/31 [==============================] - 2s 55ms/step - loss: 0.0915 - categorical_accuracy: 0.7458 - compute_f1: 0.4398 - val_loss: 0.1021 - val_categorical_accuracy: 0.7138 - val_compute_f1: 0.4111\n",
            "Epoch 70/100\n",
            "31/31 [==============================] - 2s 55ms/step - loss: 0.0907 - categorical_accuracy: 0.7488 - compute_f1: 0.4498 - val_loss: 0.1012 - val_categorical_accuracy: 0.7158 - val_compute_f1: 0.4191\n",
            "Epoch 71/100\n",
            "31/31 [==============================] - 2s 56ms/step - loss: 0.0896 - categorical_accuracy: 0.7531 - compute_f1: 0.4543 - val_loss: 0.0997 - val_categorical_accuracy: 0.7228 - val_compute_f1: 0.4253\n",
            "Epoch 72/100\n",
            "31/31 [==============================] - 2s 55ms/step - loss: 0.0888 - categorical_accuracy: 0.7576 - compute_f1: 0.4516 - val_loss: 0.0980 - val_categorical_accuracy: 0.7271 - val_compute_f1: 0.4301\n",
            "Epoch 73/100\n",
            "31/31 [==============================] - 2s 54ms/step - loss: 0.0885 - categorical_accuracy: 0.7537 - compute_f1: 0.4580 - val_loss: 0.0991 - val_categorical_accuracy: 0.7223 - val_compute_f1: 0.4226\n",
            "Epoch 74/100\n",
            "31/31 [==============================] - 2s 56ms/step - loss: 0.0875 - categorical_accuracy: 0.7591 - compute_f1: 0.4585 - val_loss: 0.0980 - val_categorical_accuracy: 0.7262 - val_compute_f1: 0.4231\n",
            "Epoch 75/100\n",
            "31/31 [==============================] - 2s 56ms/step - loss: 0.0865 - categorical_accuracy: 0.7629 - compute_f1: 0.4638 - val_loss: 0.0977 - val_categorical_accuracy: 0.7280 - val_compute_f1: 0.4321\n",
            "Epoch 76/100\n",
            "31/31 [==============================] - 2s 54ms/step - loss: 0.0870 - categorical_accuracy: 0.7617 - compute_f1: 0.4605 - val_loss: 0.0976 - val_categorical_accuracy: 0.7294 - val_compute_f1: 0.4308\n",
            "Epoch 77/100\n",
            "31/31 [==============================] - 2s 56ms/step - loss: 0.0865 - categorical_accuracy: 0.7597 - compute_f1: 0.4603 - val_loss: 0.0992 - val_categorical_accuracy: 0.7235 - val_compute_f1: 0.4226\n",
            "Epoch 78/100\n",
            "31/31 [==============================] - 2s 55ms/step - loss: 0.0856 - categorical_accuracy: 0.7661 - compute_f1: 0.4642 - val_loss: 0.0968 - val_categorical_accuracy: 0.7290 - val_compute_f1: 0.4293\n",
            "Epoch 79/100\n",
            "31/31 [==============================] - 2s 55ms/step - loss: 0.0852 - categorical_accuracy: 0.7653 - compute_f1: 0.4703 - val_loss: 0.0964 - val_categorical_accuracy: 0.7354 - val_compute_f1: 0.4365\n",
            "Epoch 80/100\n",
            "31/31 [==============================] - 2s 54ms/step - loss: 0.0868 - categorical_accuracy: 0.7612 - compute_f1: 0.4637 - val_loss: 0.0969 - val_categorical_accuracy: 0.7314 - val_compute_f1: 0.4286\n",
            "Epoch 81/100\n",
            "31/31 [==============================] - 2s 54ms/step - loss: 0.0835 - categorical_accuracy: 0.7739 - compute_f1: 0.4742 - val_loss: 0.0963 - val_categorical_accuracy: 0.7300 - val_compute_f1: 0.4317\n",
            "Epoch 82/100\n",
            "31/31 [==============================] - 2s 54ms/step - loss: 0.0825 - categorical_accuracy: 0.7746 - compute_f1: 0.4821 - val_loss: 0.0967 - val_categorical_accuracy: 0.7306 - val_compute_f1: 0.4293\n",
            "Epoch 83/100\n",
            "31/31 [==============================] - 2s 55ms/step - loss: 0.0832 - categorical_accuracy: 0.7711 - compute_f1: 0.4764 - val_loss: 0.0959 - val_categorical_accuracy: 0.7376 - val_compute_f1: 0.4395\n",
            "Epoch 84/100\n",
            "31/31 [==============================] - 2s 55ms/step - loss: 0.0829 - categorical_accuracy: 0.7739 - compute_f1: 0.4745 - val_loss: 0.0960 - val_categorical_accuracy: 0.7345 - val_compute_f1: 0.4402\n",
            "Epoch 85/100\n",
            "31/31 [==============================] - 2s 54ms/step - loss: 0.0826 - categorical_accuracy: 0.7739 - compute_f1: 0.4754 - val_loss: 0.0946 - val_categorical_accuracy: 0.7407 - val_compute_f1: 0.4420\n",
            "Epoch 86/100\n",
            "31/31 [==============================] - 2s 53ms/step - loss: 0.0811 - categorical_accuracy: 0.7800 - compute_f1: 0.4844 - val_loss: 0.0948 - val_categorical_accuracy: 0.7357 - val_compute_f1: 0.4445\n",
            "Epoch 87/100\n",
            "31/31 [==============================] - 2s 55ms/step - loss: 0.0811 - categorical_accuracy: 0.7795 - compute_f1: 0.4859 - val_loss: 0.0941 - val_categorical_accuracy: 0.7420 - val_compute_f1: 0.4458\n",
            "Epoch 88/100\n",
            "31/31 [==============================] - 2s 55ms/step - loss: 0.0817 - categorical_accuracy: 0.7766 - compute_f1: 0.4809 - val_loss: 0.0966 - val_categorical_accuracy: 0.7337 - val_compute_f1: 0.4372\n",
            "Epoch 89/100\n",
            "31/31 [==============================] - 2s 56ms/step - loss: 0.0802 - categorical_accuracy: 0.7826 - compute_f1: 0.4895 - val_loss: 0.0947 - val_categorical_accuracy: 0.7379 - val_compute_f1: 0.4415\n",
            "Epoch 90/100\n",
            "31/31 [==============================] - 2s 54ms/step - loss: 0.0809 - categorical_accuracy: 0.7799 - compute_f1: 0.4796 - val_loss: 0.0962 - val_categorical_accuracy: 0.7326 - val_compute_f1: 0.4356\n",
            "Epoch 91/100\n",
            "31/31 [==============================] - 2s 55ms/step - loss: 0.0789 - categorical_accuracy: 0.7844 - compute_f1: 0.4770 - val_loss: 0.0948 - val_categorical_accuracy: 0.7376 - val_compute_f1: 0.4261\n",
            "Epoch 92/100\n",
            "31/31 [==============================] - 2s 55ms/step - loss: 0.0775 - categorical_accuracy: 0.7897 - compute_f1: 0.4704 - val_loss: 0.0918 - val_categorical_accuracy: 0.7453 - val_compute_f1: 0.4257\n",
            "Epoch 93/100\n",
            "31/31 [==============================] - 2s 54ms/step - loss: 0.0769 - categorical_accuracy: 0.7917 - compute_f1: 0.4988 - val_loss: 0.0911 - val_categorical_accuracy: 0.7480 - val_compute_f1: 0.4573\n",
            "Epoch 94/100\n",
            "31/31 [==============================] - 2s 56ms/step - loss: 0.0767 - categorical_accuracy: 0.7933 - compute_f1: 0.4760 - val_loss: 0.0913 - val_categorical_accuracy: 0.7510 - val_compute_f1: 0.4380\n",
            "Epoch 95/100\n",
            "31/31 [==============================] - 2s 55ms/step - loss: 0.0773 - categorical_accuracy: 0.7901 - compute_f1: 0.4777 - val_loss: 0.0926 - val_categorical_accuracy: 0.7438 - val_compute_f1: 0.4364\n",
            "Epoch 96/100\n",
            "31/31 [==============================] - 2s 56ms/step - loss: 0.0766 - categorical_accuracy: 0.7922 - compute_f1: 0.4759 - val_loss: 0.0923 - val_categorical_accuracy: 0.7454 - val_compute_f1: 0.4350\n",
            "Epoch 97/100\n",
            "31/31 [==============================] - 2s 56ms/step - loss: 0.0755 - categorical_accuracy: 0.7953 - compute_f1: 0.4822 - val_loss: 0.0904 - val_categorical_accuracy: 0.7494 - val_compute_f1: 0.4364\n",
            "Epoch 98/100\n",
            "31/31 [==============================] - 2s 55ms/step - loss: 0.0745 - categorical_accuracy: 0.7989 - compute_f1: 0.4849 - val_loss: 0.0912 - val_categorical_accuracy: 0.7465 - val_compute_f1: 0.4402\n",
            "Epoch 99/100\n",
            "31/31 [==============================] - 2s 56ms/step - loss: 0.0750 - categorical_accuracy: 0.7979 - compute_f1: 0.4893 - val_loss: 0.0909 - val_categorical_accuracy: 0.7498 - val_compute_f1: 0.4334\n",
            "Epoch 100/100\n",
            "31/31 [==============================] - 2s 56ms/step - loss: 0.0748 - categorical_accuracy: 0.7983 - compute_f1: 0.4836 - val_loss: 0.0911 - val_categorical_accuracy: 0.7486 - val_compute_f1: 0.4386\n"
          ]
        }
      ],
      "source": [
        "# Train the best model for 10 epochs\n",
        "best_double_bilstm= tuner_double_bilstm.hypermodel.build(params_double_bilstm)\n",
        "best_double_bilstm.fit(X_train, y_train, epochs=epochs_training,batch_size=batch_size_training ,validation_data=(X_val, y_val),callbacks=callbacks_training)\n",
        "best_double_bilstm.save('models/double_bilstm.h5')"
      ]
    },
    {
      "cell_type": "markdown",
      "metadata": {
        "id": "bI6HISQ9mzrT"
      },
      "source": [
        "### Model 4: Bidirectional LSMT + two Dense layer "
      ]
    },
    {
      "cell_type": "code",
      "execution_count": null,
      "metadata": {
        "colab": {
          "base_uri": "https://localhost:8080/"
        },
        "id": "o5pUsBvi_NDa",
        "outputId": "c5d2d08d-747e-4ba3-ff7c-83b9ff07bcee"
      },
      "outputs": [
        {
          "output_type": "stream",
          "name": "stdout",
          "text": [
            "Epoch 1/100\n",
            "31/31 [==============================] - 11s 125ms/step - loss: 0.7176 - categorical_accuracy: 0.2248 - compute_f1: 0.0322 - val_loss: 0.2642 - val_categorical_accuracy: 0.4419 - val_compute_f1: 0.1050\n",
            "Epoch 2/100\n",
            "31/31 [==============================] - 1s 36ms/step - loss: 0.1775 - categorical_accuracy: 0.5763 - compute_f1: 0.2203 - val_loss: 0.1210 - val_categorical_accuracy: 0.7228 - val_compute_f1: 0.3862\n",
            "Epoch 3/100\n",
            "31/31 [==============================] - 1s 36ms/step - loss: 0.1101 - categorical_accuracy: 0.7371 - compute_f1: 0.3955 - val_loss: 0.0987 - val_categorical_accuracy: 0.7593 - val_compute_f1: 0.4508\n",
            "Epoch 4/100\n",
            "31/31 [==============================] - 1s 37ms/step - loss: 0.0926 - categorical_accuracy: 0.7773 - compute_f1: 0.4591 - val_loss: 0.0809 - val_categorical_accuracy: 0.8095 - val_compute_f1: 0.5110\n",
            "Epoch 5/100\n",
            "31/31 [==============================] - 1s 36ms/step - loss: 0.0810 - categorical_accuracy: 0.8077 - compute_f1: 0.4959 - val_loss: 0.0761 - val_categorical_accuracy: 0.8220 - val_compute_f1: 0.5347\n",
            "Epoch 6/100\n",
            "31/31 [==============================] - 1s 36ms/step - loss: 0.0769 - categorical_accuracy: 0.8168 - compute_f1: 0.5128 - val_loss: 0.0729 - val_categorical_accuracy: 0.8265 - val_compute_f1: 0.5379\n",
            "Epoch 7/100\n",
            "31/31 [==============================] - 1s 36ms/step - loss: 0.0719 - categorical_accuracy: 0.8277 - compute_f1: 0.5226 - val_loss: 0.0763 - val_categorical_accuracy: 0.8089 - val_compute_f1: 0.5367\n",
            "Epoch 8/100\n",
            "31/31 [==============================] - 1s 38ms/step - loss: 0.0676 - categorical_accuracy: 0.8395 - compute_f1: 0.5412 - val_loss: 0.0683 - val_categorical_accuracy: 0.8299 - val_compute_f1: 0.5302\n",
            "Epoch 9/100\n",
            "31/31 [==============================] - 1s 38ms/step - loss: 0.0656 - categorical_accuracy: 0.8449 - compute_f1: 0.5561 - val_loss: 0.0648 - val_categorical_accuracy: 0.8439 - val_compute_f1: 0.5782\n",
            "Epoch 10/100\n",
            "31/31 [==============================] - 1s 38ms/step - loss: 0.0637 - categorical_accuracy: 0.8495 - compute_f1: 0.5591 - val_loss: 0.0662 - val_categorical_accuracy: 0.8417 - val_compute_f1: 0.5749\n",
            "Epoch 11/100\n",
            "31/31 [==============================] - 1s 38ms/step - loss: 0.0622 - categorical_accuracy: 0.8542 - compute_f1: 0.5680 - val_loss: 0.0599 - val_categorical_accuracy: 0.8550 - val_compute_f1: 0.5797\n",
            "Epoch 12/100\n",
            "31/31 [==============================] - 1s 38ms/step - loss: 0.0606 - categorical_accuracy: 0.8573 - compute_f1: 0.5699 - val_loss: 0.0601 - val_categorical_accuracy: 0.8578 - val_compute_f1: 0.6007\n",
            "Epoch 13/100\n",
            "31/31 [==============================] - 1s 37ms/step - loss: 0.0588 - categorical_accuracy: 0.8634 - compute_f1: 0.5791 - val_loss: 0.0583 - val_categorical_accuracy: 0.8633 - val_compute_f1: 0.6170\n",
            "Epoch 14/100\n",
            "31/31 [==============================] - 1s 37ms/step - loss: 0.0603 - categorical_accuracy: 0.8582 - compute_f1: 0.5700 - val_loss: 0.0581 - val_categorical_accuracy: 0.8672 - val_compute_f1: 0.6006\n",
            "Epoch 15/100\n",
            "31/31 [==============================] - 1s 37ms/step - loss: 0.0552 - categorical_accuracy: 0.8735 - compute_f1: 0.5869 - val_loss: 0.0575 - val_categorical_accuracy: 0.8631 - val_compute_f1: 0.6282\n",
            "Epoch 16/100\n",
            "31/31 [==============================] - 1s 37ms/step - loss: 0.0565 - categorical_accuracy: 0.8699 - compute_f1: 0.5869 - val_loss: 0.0579 - val_categorical_accuracy: 0.8585 - val_compute_f1: 0.6130\n",
            "Epoch 17/100\n",
            "31/31 [==============================] - 1s 38ms/step - loss: 0.0546 - categorical_accuracy: 0.8727 - compute_f1: 0.5891 - val_loss: 0.0545 - val_categorical_accuracy: 0.8722 - val_compute_f1: 0.6260\n",
            "Epoch 18/100\n",
            "31/31 [==============================] - 1s 38ms/step - loss: 0.0533 - categorical_accuracy: 0.8783 - compute_f1: 0.6010 - val_loss: 0.0582 - val_categorical_accuracy: 0.8588 - val_compute_f1: 0.6181\n",
            "Epoch 19/100\n",
            "31/31 [==============================] - 1s 37ms/step - loss: 0.0541 - categorical_accuracy: 0.8767 - compute_f1: 0.6031 - val_loss: 0.0586 - val_categorical_accuracy: 0.8649 - val_compute_f1: 0.6140\n",
            "Epoch 20/100\n",
            "31/31 [==============================] - 1s 38ms/step - loss: 0.0530 - categorical_accuracy: 0.8799 - compute_f1: 0.6082 - val_loss: 0.0553 - val_categorical_accuracy: 0.8721 - val_compute_f1: 0.6336\n",
            "Epoch 21/100\n",
            "31/31 [==============================] - 1s 36ms/step - loss: 0.0514 - categorical_accuracy: 0.8829 - compute_f1: 0.6041 - val_loss: 0.0552 - val_categorical_accuracy: 0.8693 - val_compute_f1: 0.6357\n",
            "Epoch 22/100\n",
            "31/31 [==============================] - 1s 36ms/step - loss: 0.0497 - categorical_accuracy: 0.8882 - compute_f1: 0.6180 - val_loss: 0.0559 - val_categorical_accuracy: 0.8639 - val_compute_f1: 0.6200\n",
            "Epoch 23/100\n",
            "31/31 [==============================] - 1s 37ms/step - loss: 0.0512 - categorical_accuracy: 0.8862 - compute_f1: 0.6191 - val_loss: 0.0523 - val_categorical_accuracy: 0.8803 - val_compute_f1: 0.6419\n",
            "Epoch 24/100\n",
            "31/31 [==============================] - 1s 37ms/step - loss: 0.0490 - categorical_accuracy: 0.8925 - compute_f1: 0.6240 - val_loss: 0.0574 - val_categorical_accuracy: 0.8584 - val_compute_f1: 0.6268\n",
            "Epoch 25/100\n",
            "31/31 [==============================] - 1s 37ms/step - loss: 0.0500 - categorical_accuracy: 0.8873 - compute_f1: 0.6283 - val_loss: 0.0521 - val_categorical_accuracy: 0.8826 - val_compute_f1: 0.6488\n",
            "Epoch 26/100\n",
            "31/31 [==============================] - 1s 36ms/step - loss: 0.0492 - categorical_accuracy: 0.8902 - compute_f1: 0.6310 - val_loss: 0.0534 - val_categorical_accuracy: 0.8787 - val_compute_f1: 0.6337\n",
            "Epoch 27/100\n",
            "31/31 [==============================] - 1s 37ms/step - loss: 0.0475 - categorical_accuracy: 0.8940 - compute_f1: 0.6439 - val_loss: 0.0520 - val_categorical_accuracy: 0.8816 - val_compute_f1: 0.6416\n",
            "Epoch 28/100\n",
            "31/31 [==============================] - 1s 37ms/step - loss: 0.0478 - categorical_accuracy: 0.8954 - compute_f1: 0.6390 - val_loss: 0.0542 - val_categorical_accuracy: 0.8708 - val_compute_f1: 0.6303\n",
            "Epoch 29/100\n",
            "31/31 [==============================] - 1s 37ms/step - loss: 0.0490 - categorical_accuracy: 0.8930 - compute_f1: 0.6379 - val_loss: 0.0520 - val_categorical_accuracy: 0.8847 - val_compute_f1: 0.6456\n",
            "Epoch 30/100\n",
            "31/31 [==============================] - 1s 37ms/step - loss: 0.0467 - categorical_accuracy: 0.8984 - compute_f1: 0.6394 - val_loss: 0.0523 - val_categorical_accuracy: 0.8812 - val_compute_f1: 0.6496\n",
            "Epoch 31/100\n",
            "31/31 [==============================] - 1s 36ms/step - loss: 0.0460 - categorical_accuracy: 0.9007 - compute_f1: 0.6483 - val_loss: 0.0521 - val_categorical_accuracy: 0.8800 - val_compute_f1: 0.6461\n",
            "Epoch 32/100\n",
            "31/31 [==============================] - 1s 37ms/step - loss: 0.0443 - categorical_accuracy: 0.9039 - compute_f1: 0.6521 - val_loss: 0.0500 - val_categorical_accuracy: 0.8852 - val_compute_f1: 0.6493\n",
            "Epoch 33/100\n",
            "31/31 [==============================] - 1s 36ms/step - loss: 0.0472 - categorical_accuracy: 0.8985 - compute_f1: 0.6470 - val_loss: 0.0528 - val_categorical_accuracy: 0.8840 - val_compute_f1: 0.6521\n",
            "Epoch 34/100\n",
            "31/31 [==============================] - 1s 36ms/step - loss: 0.0455 - categorical_accuracy: 0.9043 - compute_f1: 0.6508 - val_loss: 0.0509 - val_categorical_accuracy: 0.8846 - val_compute_f1: 0.6558\n",
            "Epoch 35/100\n",
            "31/31 [==============================] - 1s 37ms/step - loss: 0.0447 - categorical_accuracy: 0.9055 - compute_f1: 0.6595 - val_loss: 0.0509 - val_categorical_accuracy: 0.8883 - val_compute_f1: 0.6560\n",
            "Epoch 36/100\n",
            "31/31 [==============================] - 1s 37ms/step - loss: 0.0448 - categorical_accuracy: 0.9066 - compute_f1: 0.6589 - val_loss: 0.0515 - val_categorical_accuracy: 0.8877 - val_compute_f1: 0.6541\n",
            "Epoch 37/100\n",
            "31/31 [==============================] - 1s 37ms/step - loss: 0.0436 - categorical_accuracy: 0.9099 - compute_f1: 0.6645 - val_loss: 0.0510 - val_categorical_accuracy: 0.8889 - val_compute_f1: 0.6643\n",
            "Epoch 38/100\n",
            "31/31 [==============================] - 1s 38ms/step - loss: 0.0422 - categorical_accuracy: 0.9128 - compute_f1: 0.6698 - val_loss: 0.0519 - val_categorical_accuracy: 0.8850 - val_compute_f1: 0.6499\n",
            "Epoch 39/100\n",
            "31/31 [==============================] - 1s 36ms/step - loss: 0.0438 - categorical_accuracy: 0.9105 - compute_f1: 0.6719 - val_loss: 0.0552 - val_categorical_accuracy: 0.8821 - val_compute_f1: 0.6495\n",
            "Epoch 40/100\n",
            "31/31 [==============================] - 1s 37ms/step - loss: 0.0478 - categorical_accuracy: 0.9056 - compute_f1: 0.6654 - val_loss: 0.0544 - val_categorical_accuracy: 0.8844 - val_compute_f1: 0.6515\n",
            "Epoch 41/100\n",
            "31/31 [==============================] - 1s 37ms/step - loss: 0.0433 - categorical_accuracy: 0.9129 - compute_f1: 0.6735 - val_loss: 0.0550 - val_categorical_accuracy: 0.8762 - val_compute_f1: 0.6312\n",
            "Epoch 42/100\n",
            "31/31 [==============================] - 1s 37ms/step - loss: 0.0420 - categorical_accuracy: 0.9161 - compute_f1: 0.6745 - val_loss: 0.0538 - val_categorical_accuracy: 0.8844 - val_compute_f1: 0.6459\n",
            "Epoch 43/100\n",
            "31/31 [==============================] - 1s 37ms/step - loss: 0.0412 - categorical_accuracy: 0.9207 - compute_f1: 0.6837 - val_loss: 0.0531 - val_categorical_accuracy: 0.8850 - val_compute_f1: 0.6530\n",
            "Epoch 44/100\n",
            "31/31 [==============================] - 1s 38ms/step - loss: 0.0400 - categorical_accuracy: 0.9219 - compute_f1: 0.6852 - val_loss: 0.0544 - val_categorical_accuracy: 0.8810 - val_compute_f1: 0.6401\n",
            "Epoch 45/100\n",
            "31/31 [==============================] - 1s 37ms/step - loss: 0.0398 - categorical_accuracy: 0.9246 - compute_f1: 0.6936 - val_loss: 0.0542 - val_categorical_accuracy: 0.8844 - val_compute_f1: 0.6575\n",
            "Epoch 46/100\n",
            "31/31 [==============================] - 1s 36ms/step - loss: 0.0420 - categorical_accuracy: 0.9226 - compute_f1: 0.6919 - val_loss: 0.0548 - val_categorical_accuracy: 0.8852 - val_compute_f1: 0.6509\n",
            "Epoch 47/100\n",
            "31/31 [==============================] - 1s 36ms/step - loss: 0.0402 - categorical_accuracy: 0.9255 - compute_f1: 0.7033 - val_loss: 0.0621 - val_categorical_accuracy: 0.8681 - val_compute_f1: 0.6315\n"
          ]
        }
      ],
      "source": [
        "# Train the best model for 10 epochs\n",
        "best_bilstm_double_dense = tuner_bilstm_double_dense.hypermodel.build(params_bilstm_double_dense)\n",
        "best_bilstm_double_dense.fit(X_train, y_train, epochs=epochs_training,batch_size=batch_size_training ,validation_data=(X_val, y_val),callbacks=callbacks_training)\n",
        "best_bilstm_double_dense.save('models/bilstm_double_dense.h5')"
      ]
    },
    {
      "cell_type": "markdown",
      "metadata": {
        "id": "wHAEHuAOmSg9"
      },
      "source": [
        "Evaluating the performance of the models on the validation set."
      ]
    },
    {
      "cell_type": "markdown",
      "source": [
        "F1 score"
      ],
      "metadata": {
        "id": "jWCgWhAWLinU"
      }
    },
    {
      "cell_type": "code",
      "execution_count": null,
      "metadata": {
        "colab": {
          "base_uri": "https://localhost:8080/"
        },
        "id": "v3szaDxGcCOA",
        "outputId": "b0f86160-df8c-4cb0-d45a-6081171d79f5"
      },
      "outputs": [
        {
          "output_type": "stream",
          "name": "stdout",
          "text": [
            "- F1 score of BiLSTM model: 0.5796\n",
            "- F1 score of BiGRU model: 0.5797\n",
            "- F1 score of double BiLSTM: 0.4573\n",
            "- F1 score of BiLSTM double dense model: 0.6643\n"
          ]
        }
      ],
      "source": [
        "print(f\"- F1 score of BiLSTM model: {round(max(best_bilstm.history.history['val_compute_f1']),4)}\")\n",
        "print(f\"- F1 score of BiGRU model: {round(max(best_bigru.history.history['val_compute_f1']),4)}\")\n",
        "print(f\"- F1 score of double BiLSTM: {round(max(best_double_bilstm.history.history['val_compute_f1']),4)}\")\n",
        "print(f\"- F1 score of BiLSTM double dense model: {round(max(best_bilstm_double_dense.history.history['val_compute_f1']),4)}\")"
      ]
    },
    {
      "cell_type": "markdown",
      "source": [
        "Accuracy"
      ],
      "metadata": {
        "id": "FoRdkl8qLiN2"
      }
    },
    {
      "cell_type": "code",
      "source": [
        "print(f\"- Accuracy of BiLSTM model: {round(max(best_bilstm.history.history['val_categorical_accuracy']),4)}\")\n",
        "print(f\"- Accuracy of BiGRU model: {round(max(best_bigru.history.history['val_categorical_accuracy']),4)}\")\n",
        "print(f\"- Accuracy of double BiLSTM: { round(max(best_double_bilstm.history.history['val_categorical_accuracy']),4)}\")\n",
        "print(f\"- Accuracy of BiLSTM double dense model: {round(max(best_bilstm_double_dense.history.history['val_categorical_accuracy']),4)}\")"
      ],
      "metadata": {
        "colab": {
          "base_uri": "https://localhost:8080/"
        },
        "id": "eFFGiyA6Lm-o",
        "outputId": "49abb8fc-98be-4e7c-e3a1-dea8ed4eb6a2"
      },
      "execution_count": null,
      "outputs": [
        {
          "output_type": "stream",
          "name": "stdout",
          "text": [
            "- Accuracy of BiLSTM model: 0.8353\n",
            "- Accuracy of BiGRU model: 0.8366\n",
            "- Accuracy of double BiLSTM: 0.751\n",
            "- Accuracy of BiLSTM double dense model: 0.8889\n"
          ]
        }
      ]
    },
    {
      "cell_type": "markdown",
      "source": [
        "From the F1-score and the accuracy on the validation set the BiGRU and BiLSTM are performing really near each other, with the BiGRU having a slight edge."
      ],
      "metadata": {
        "id": "wmwY2LrzNl9O"
      }
    },
    {
      "cell_type": "markdown",
      "source": [
        "From this we can see the double BiLSTM is having some problems, it has a not accuracy not really that much lower from other models(6% less than BiGRU and BiLSTM), but is performing worse on the F1 Score. \n",
        "\n",
        "This is due to the overfitting of the double BiLSTM which is a network more complex than the problem at hand. \n",
        "\n",
        "Given that we know that the dataset is unbalenced towards some tags we can see that the other models are less prone to this kind of issue in the dataset whereas the double BiLSTM is really being affected by it and it is showing in the F1-score, clearly the double BiLSTM is making more errors on some classes than others."
      ],
      "metadata": {
        "id": "HjY2tIEYMky8"
      }
    },
    {
      "cell_type": "markdown",
      "source": [
        "The best two models chosen are:\n",
        "1. BiLSTM double dense\n",
        "2. BiGRU"
      ],
      "metadata": {
        "id": "-PrJGtdjoWZA"
      }
    },
    {
      "cell_type": "markdown",
      "metadata": {
        "id": "5PGyeScRmQzz"
      },
      "source": [
        "### History of the training"
      ]
    },
    {
      "cell_type": "code",
      "execution_count": null,
      "metadata": {
        "id": "wJPswZ9BaUFV"
      },
      "outputs": [],
      "source": [
        "def plot_accuracy_loss_f1(hist):\n",
        "    plt.rcParams[\"figure.figsize\"] = (15,20)\n",
        "    fig, ax1 = plt.subplots(3,1)\n",
        "    fig.suptitle('Training history')\n",
        "    ax1[0].plot(hist.history['categorical_accuracy'])\n",
        "    ax1[0].plot(hist.history['val_categorical_accuracy'])\n",
        "    ax1[0].set_title(\"model accuracy\")\n",
        "    ax1[0].set_ylabel('accuracy')\n",
        "    ax1[0].set_xlabel('epoch')\n",
        "    ax1[0].legend(['train', 'val'], loc='best')\n",
        "    \n",
        "\n",
        "    ax1[1].plot(hist.history['loss'])\n",
        "    ax1[1].plot(hist.history['val_loss'])\n",
        "    ax1[1].set_title(\"model loss\")\n",
        "    ax1[1].set_ylabel('loss')\n",
        "    ax1[1].set_xlabel('epoch')\n",
        "    ax1[1].legend(['train', 'val'], loc='best')\n",
        "\n",
        "    ax1[2].plot(hist.history['compute_f1'])\n",
        "    ax1[2].plot(hist.history['val_compute_f1'])\n",
        "    ax1[2].set_title(\"f1 score\")\n",
        "    ax1[2].set_ylabel('f1 score')\n",
        "    ax1[2].set_xlabel('epoch')\n",
        "    ax1[2].legend(['train', 'val'], loc='best')\n",
        "    plt.show()"
      ]
    },
    {
      "cell_type": "markdown",
      "metadata": {
        "id": "dTrhVak6bn_t"
      },
      "source": [
        "### History of the training for the best first model: *best_bilstm_double_dense*\n",
        "\n",
        "\n",
        "\n"
      ]
    },
    {
      "cell_type": "code",
      "execution_count": null,
      "metadata": {
        "colab": {
          "base_uri": "https://localhost:8080/",
          "height": 1000
        },
        "id": "NBGHHYHdadhh",
        "outputId": "6b580100-9613-4595-8c4b-08f8a36ee192"
      },
      "outputs": [
        {
          "output_type": "display_data",
          "data": {
            "text/plain": [
              "<Figure size 1080x1440 with 3 Axes>"
            ],
            "image/png": "[encoded data removed]"
          },
          "metadata": {
            "needs_background": "light"
          }
        }
      ],
      "source": [
        "plot_accuracy_loss_f1(best_bilstm_double_dense.history)"
      ]
    },
    {
      "cell_type": "markdown",
      "metadata": {
        "id": "DDrxxme1b9je"
      },
      "source": [
        "### History of the training for the  second best model: *best_bigru*"
      ]
    },
    {
      "cell_type": "code",
      "execution_count": null,
      "metadata": {
        "colab": {
          "base_uri": "https://localhost:8080/",
          "height": 1000
        },
        "id": "WVuxcmMhcxtW",
        "outputId": "003be5a7-2637-4f7e-cb72-962b9daf2a7e"
      },
      "outputs": [
        {
          "output_type": "display_data",
          "data": {
            "text/plain": [
              "<Figure size 1080x1440 with 3 Axes>"
            ],
            "image/png": "[encoded data removed]"
          },
          "metadata": {
            "needs_background": "light"
          }
        }
      ],
      "source": [
        "plot_accuracy_loss_f1(best_bigru.history)"
      ]
    },
    {
      "cell_type": "markdown",
      "metadata": {
        "id": "F5iAzLo6ftf1"
      },
      "source": [
        "We can see the second best model (i.e. the BiGRU) is overfitting whereas the first one is still overfitting but is less prone to it, in fact we can see that the f1-scores between train and val are more near each other."
      ]
    },
    {
      "cell_type": "markdown",
      "metadata": {
        "id": "cVAnSsUOnKEV"
      },
      "source": [
        "## Model Evaluation"
      ]
    },
    {
      "cell_type": "markdown",
      "metadata": {
        "id": "P9T8bNyGnTnd"
      },
      "source": [
        "Loading the two best performing models"
      ]
    },
    {
      "cell_type": "code",
      "execution_count": null,
      "metadata": {
        "id": "az2RQepRvOkk"
      },
      "outputs": [],
      "source": [
        "# Select the two best models based on the f1-score on validation set\n",
        "best_first_model = load_model(os.getcwd() + '/models/bilstm_double_dense.h5',compile=False)\n",
        "\n",
        "best_second_model = load_model(os.getcwd() + '/models/bigru.h5',compile=False)\n",
        "\n",
        "# Compile the models\n",
        "best_first_model.compile(optimizer='adam', loss='categorical_crossentropy', metrics=['val_categorical_accuracy','val_compute_f1'])\n",
        "best_second_model.compile(optimizer='adam', loss='categorical_crossentropy', metrics=['val_categorical_accuracy','val_compute_f1'])"
      ]
    },
    {
      "cell_type": "markdown",
      "metadata": {
        "id": "a2L3PuxzE2yY"
      },
      "source": [
        "Predicting labels for the test set"
      ]
    },
    {
      "cell_type": "code",
      "execution_count": null,
      "metadata": {
        "colab": {
          "base_uri": "https://localhost:8080/"
        },
        "id": "o9QSHBrqEioD",
        "outputId": "5666256a-8df0-4609-edbf-f63d1c6125ca"
      },
      "outputs": [
        {
          "output_type": "stream",
          "name": "stdout",
          "text": [
            "21/21 [==============================] - 3s 8ms/step\n",
            "21/21 [==============================] - 2s 7ms/step\n"
          ]
        }
      ],
      "source": [
        "first_pred_labels = best_first_model.predict(X_test) # bilstm with double dense layer\n",
        "second_pred_labels = best_second_model.predict(X_test) # bigru"
      ]
    },
    {
      "cell_type": "markdown",
      "metadata": {
        "id": "xkN1AYQAtzsa"
      },
      "source": [
        "### Final Error analysis"
      ]
    },
    {
      "cell_type": "markdown",
      "metadata": {
        "id": "4fOwbyWMf49r"
      },
      "source": [
        "* Performance on: \n",
        "    * the most frequent classes  \n",
        "    * the less frequent classes \n",
        "\n",
        "* precision  \n",
        "\n",
        "* recall \n"
      ]
    },
    {
      "cell_type": "markdown",
      "source": [
        "\n",
        "For the evaluation we need to get rid of tags representing symbols and punctuation, so we have to extract the correct tags that has to be involved in evaluation process. The metric chosen for the evaluation is the macro f1, computed token by token. Indeed, since the output of the network is one-hot encoded we had to collapse the list into an one and only one numpy array, which contains all the tokens without considering sentences."
      ],
      "metadata": {
        "id": "aPdfDINqI3Dp"
      }
    },
    {
      "cell_type": "markdown",
      "metadata": {
        "id": "nOF4gS2ZhNfY"
      },
      "source": [
        "#### Analyzing some misclassified example sentence from the test set"
      ]
    },
    {
      "cell_type": "markdown",
      "metadata": {
        "id": "xHIYfIZthW3S"
      },
      "source": [
        "We now retrieve some sample sentences from the test set to show some errors."
      ]
    },
    {
      "cell_type": "code",
      "execution_count": null,
      "metadata": {
        "id": "6Zx9vaoShQ-v"
      },
      "outputs": [],
      "source": [
        "def predict_and_inverse_labels(idx,model,X_sents,y_tags):\n",
        "    sample_tags = y_tags[idx]\n",
        "    sentence = X_sents[idx]\n",
        "    y_pred = model.predict(np.array([X_test[idx]]))\n",
        "    whole_pred =  np.concatenate(y_pred) # flatten the array of the predictions\n",
        "    above_threshold = whole_pred[np.std(whole_pred, axis=1) > 0.05] # get predicted values above 0.05\n",
        "    pred_tags = sort_tags[np.argmax(above_threshold,axis=1)] # get the biggest among these predicted values\n",
        "    y_true = ohe.inverse_transform(sample_tags[sample_tags.any(1)]).T  # inverse transform the label corresponding to the argmax\n",
        "    \n",
        "    return sentence,pred_tags, np.concatenate(y_true)"
      ]
    },
    {
      "cell_type": "code",
      "execution_count": null,
      "metadata": {
        "colab": {
          "base_uri": "https://localhost:8080/"
        },
        "id": "IA9yCOsa4RCM",
        "outputId": "d7f46c81-ed1a-4409-b338-dd8befcae569"
      },
      "outputs": [
        {
          "output_type": "stream",
          "name": "stdout",
          "text": [
            "1/1 [==============================] - 0s 22ms/step\n"
          ]
        }
      ],
      "source": [
        "sample_sentence, y_pred, y_gold = predict_and_inverse_labels(12,best_second_model,X_test_sents,y_test)"
      ]
    },
    {
      "cell_type": "code",
      "execution_count": null,
      "metadata": {
        "colab": {
          "base_uri": "https://localhost:8080/"
        },
        "id": "sUnwVi9-SECL",
        "outputId": "d1b08b9c-7406-48f2-de85-87f663f9b565"
      },
      "outputs": [
        {
          "output_type": "stream",
          "name": "stdout",
          "text": [
            "['in' 'composite' 'trading' 'on' 'the' 'new' 'york' 'stock' 'exchange' ','\n",
            " 'telerate' 'shares' 'closed' 'at' '$' '19.50' ',' 'up' '12.5' 'cents' '.']\n",
            "\n",
            "['IN' 'JJ' 'NN' 'IN' 'DT' 'NNP' 'NNP' 'NNP' 'NNP' ',' 'NNP' 'NNS' 'VBD'\n",
            " 'IN' '$' 'CD' ',' 'RB' 'CD' 'NNS' '.']\n",
            "\n",
            "['IN' 'CD' 'NN' 'IN' 'DT' 'NNP' 'NNP' 'NNP' 'NN' ',' 'NNP' 'NNP' 'VBG'\n",
            " 'IN' '$' 'CD' ',' 'RB' 'CD' 'NNS' '.']\n"
          ]
        }
      ],
      "source": [
        "print(sample_sentence)\n",
        "print()\n",
        "print(y_gold)\n",
        "print()\n",
        "print(y_pred)"
      ]
    },
    {
      "cell_type": "code",
      "execution_count": null,
      "metadata": {
        "colab": {
          "base_uri": "https://localhost:8080/"
        },
        "id": "2N4iY5LkrAIE",
        "outputId": "4e89bce3-fa1d-45a0-ac1a-e81a3bec4012"
      },
      "outputs": [
        {
          "output_type": "stream",
          "name": "stdout",
          "text": [
            "1/1 [==============================] - 0s 21ms/step\n"
          ]
        }
      ],
      "source": [
        "sample_sentence1, y_pred1, y_gold1 = predict_and_inverse_labels(28,best_first_model,X_test_sents,y_test)"
      ]
    },
    {
      "cell_type": "code",
      "execution_count": null,
      "metadata": {
        "colab": {
          "base_uri": "https://localhost:8080/"
        },
        "id": "KdV2rItXrEmr",
        "outputId": "544dae12-0dd7-452f-d98f-3a83fa3e2e3f"
      },
      "outputs": [
        {
          "output_type": "stream",
          "name": "stdout",
          "text": [
            "['for' 'the' 'year' ',' 'bolstered' 'by' 'the' 'introduction' 'of' 'the'\n",
            " 'colorliner' 'newspaper-printing' 'press' ',' 'graphics' 'earnings'\n",
            " 'almost' 'doubled' '.']\n",
            "\n",
            "['IN' 'DT' 'NN' ',' 'VBN' 'IN' 'DT' 'NN' 'IN' 'DT' 'NNP' 'NN' 'NN' ','\n",
            " 'NNS' 'NNS' 'RB' 'VBD' '.']\n",
            "\n",
            "['IN' 'DT' 'NN' ',' 'VBP' 'IN' 'DT' 'NN' 'IN' 'DT' 'NNP' 'NNP' 'NN' ','\n",
            " 'NNS' 'NNS' 'RB' 'VBP' '.']\n"
          ]
        }
      ],
      "source": [
        "print(sample_sentence1)\n",
        "print()\n",
        "print(y_gold1)\n",
        "print()\n",
        "print(y_pred1)"
      ]
    },
    {
      "cell_type": "code",
      "execution_count": null,
      "metadata": {
        "id": "-JaX30NE9oVy"
      },
      "outputs": [],
      "source": [
        "def get_errors(sentence, prediction, ground_truth, tags):\n",
        "    \"\"\"\n",
        "    Given a list of predicted tokens and their associated truths,\n",
        "    print the type of misclassifications of the model that produced the,\n",
        "    where tags names are extracted from the given vocabulary\n",
        "    \"\"\"\n",
        "    pred_tag = prediction[prediction != ground_truth]\n",
        "    real_tag = ground_truth[prediction != ground_truth]\n",
        "    wrong_words = sentence[prediction != ground_truth]\n",
        "    for pred, real, word in zip(pred_tag, real_tag, wrong_words):\n",
        "        print(f\"The tag {real} was marked as {pred} ==> word misclassified: {word}\")"
      ]
    },
    {
      "cell_type": "code",
      "execution_count": null,
      "metadata": {
        "colab": {
          "base_uri": "https://localhost:8080/"
        },
        "id": "1P_9xMaiihcB",
        "outputId": "89250881-2a71-49fb-fdae-43e2cd28fdce"
      },
      "outputs": [
        {
          "output_type": "stream",
          "name": "stdout",
          "text": [
            "The tag JJ was marked as CD ==> word misclassified: composite\n",
            "The tag NNP was marked as NN ==> word misclassified: exchange\n",
            "The tag NNS was marked as NNP ==> word misclassified: shares\n",
            "The tag VBD was marked as VBG ==> word misclassified: closed\n"
          ]
        }
      ],
      "source": [
        "get_errors(sample_sentence,y_pred,y_gold,sort_tags)"
      ]
    },
    {
      "cell_type": "code",
      "execution_count": null,
      "metadata": {
        "colab": {
          "base_uri": "https://localhost:8080/"
        },
        "id": "CApR4-wgrLsy",
        "outputId": "70b88910-1c30-43d5-925f-58eccbcfe27b"
      },
      "outputs": [
        {
          "output_type": "stream",
          "name": "stdout",
          "text": [
            "The tag VBN was marked as VBP ==> word misclassified: bolstered\n",
            "The tag NN was marked as NNP ==> word misclassified: newspaper-printing\n",
            "The tag VBD was marked as VBP ==> word misclassified: doubled\n"
          ]
        }
      ],
      "source": [
        "get_errors(sample_sentence1,y_pred1,y_gold1,sort_tags)"
      ]
    },
    {
      "cell_type": "markdown",
      "metadata": {
        "id": "QZZlqpGzsmde"
      },
      "source": [
        "We can see the errors from the two examples above are mostly connected to similar tags.\n",
        "\n",
        "\n",
        "\n",
        "* For example in the second sentence, which was classified by the best first model:\n",
        "    * The model wrongly classified the word ***doubled*** which has the tag *VBD* (*Verb, past tense*) which was tagged as *VBP* (*Verb, non-3rd person singular present*) therefore it seems the models seems to be confusing the present with the past tense. This has also happened in the prediction of the first sentence. \n",
        "\n",
        "    * The word ***press*** was wrongly classified as a NNP which is a *Proper noun, singular*, instead its tag was NN (\tNoun, singular or mass). This is due to the lowercasing which reduced the number of OOV but lead to some error on other cases.\n",
        "    * Same for the word ***shares***\n",
        "\n",
        "    * The word ***newspaper-printing*** was wrongly classified because it is an OOV word ( many OOV are compund words due to the hypen)\n"
      ]
    },
    {
      "cell_type": "markdown",
      "metadata": {
        "id": "AAlDHi4Ihfd1"
      },
      "source": [
        "## Confusion matrix"
      ]
    },
    {
      "cell_type": "code",
      "execution_count": null,
      "metadata": {
        "id": "7R7cLL_Rtbxz"
      },
      "outputs": [],
      "source": [
        "def reverse_ohe(labels):\n",
        "    \"\"\"Reverse transform the one hot encoding of a sentence \n",
        "     and ignore the padding through the use of \"any\" from the numpy library \n",
        "     \"\"\"\n",
        "    return np.array([ohe.inverse_transform(doc[doc.any(1)]) for doc in labels], dtype=object)"
      ]
    },
    {
      "cell_type": "code",
      "execution_count": null,
      "metadata": {
        "id": "uGwuFR3cPc0E"
      },
      "outputs": [],
      "source": [
        "def reverse_pred(labels):\n",
        "    \"\"\"\n",
        "    In this function we  fill a 3-d array (pred) with ones in the indices (i,j)\n",
        "    corresponding to the argmax of the predicted POS tag for the token. This is \n",
        "    need to get the one hot encoding corresponding from the prediction.\n",
        "    \"\"\"\n",
        "    n_classes = labels.shape[2]\n",
        "    labels = np.array([doc[np.std(doc, axis=1) > 0.05] for doc in labels], dtype=object)\n",
        "    pred = np.zeros((len(labels), max([len(doc) for doc in labels]), n_classes))\n",
        "    for i, doc in enumerate(labels):\n",
        "        for j, token in enumerate(doc):\n",
        "            pred[i, j, np.argmax(token)] = 1\n",
        "    return reverse_ohe(pred)"
      ]
    },
    {
      "cell_type": "code",
      "execution_count": null,
      "metadata": {
        "id": "mvq2KuABcLF3"
      },
      "outputs": [],
      "source": [
        "def compare(model, X, y):\n",
        "    \"\"\"\n",
        "    In this function we create a 1-d version array of the true and the labels.\n",
        "    This is needed to perform the test evaluation on the POS tags.\n",
        "    \"\"\" \n",
        "\n",
        "    raw_pred = model.predict(X)\n",
        "    y_true = reverse_ohe(y)\n",
        "    y_pred = reverse_pred(raw_pred)\n",
        "\n",
        "    l_y_true = []\n",
        "    l_y_pred = []\n",
        "    for predicted, ground_truth in zip(y_pred, y_true):\n",
        "        for pred_word, true_word in zip (predicted, ground_truth):\n",
        "            l_y_pred.append(pred_word)\n",
        "            l_y_true.append(true_word)\n",
        "    return l_y_true, l_y_pred"
      ]
    },
    {
      "cell_type": "code",
      "execution_count": null,
      "metadata": {
        "colab": {
          "base_uri": "https://localhost:8080/"
        },
        "id": "7RzsSkbkfPN-",
        "outputId": "2fec00f9-3d06-4801-cc86-e258cac1f3e2"
      },
      "outputs": [
        {
          "output_type": "stream",
          "name": "stdout",
          "text": [
            "21/21 [==============================] - 0s 8ms/step\n"
          ]
        }
      ],
      "source": [
        "y_true , y_pred = compare(best_first_model,X_test,y_test)"
      ]
    },
    {
      "cell_type": "code",
      "execution_count": null,
      "metadata": {
        "id": "bLmlAQK1Y11r"
      },
      "outputs": [],
      "source": [
        "def return_comparison(model, X, y):\n",
        "\n",
        "    raw_pred = model.predict(X)\n",
        "    y_true = reverse_ohe(y)\n",
        "    y_pred = reverse_pred(raw_pred)\n",
        "\n",
        "    l_y_true = []\n",
        "    l_y_pred = []\n",
        "    for predicted, ground_truth in zip(y_pred, y_true):\n",
        "        for token_predicted, token_true in zip (predicted, ground_truth):\n",
        "            l_y_pred.append(token_predicted)\n",
        "            l_y_true.append(token_true)\n",
        "    return l_y_true, l_y_pred"
      ]
    },
    {
      "cell_type": "markdown",
      "metadata": {
        "id": "v_1AJ1V5FTMV"
      },
      "source": [
        "Computing the tags to remove (punctuation and symbols) and then removing them."
      ]
    },
    {
      "cell_type": "code",
      "execution_count": null,
      "metadata": {
        "id": "3v7NSMC9VquE"
      },
      "outputs": [],
      "source": [
        "punct_symbol_tags=sort_tags[indices]\n",
        "excluded_symbols = np.array(sorted(set(sort_tags) - set(punct_symbol_tags)))"
      ]
    },
    {
      "cell_type": "code",
      "execution_count": null,
      "metadata": {
        "id": "JZm6-EPERCh0"
      },
      "outputs": [],
      "source": [
        "def evaluate(model, X, y, labels):\n",
        "    \"\"\"\n",
        "    computes the f-score and the confusion matrix of a given model on a test set\n",
        "    \"\"\"\n",
        "    # show confusion matrix\n",
        "    y_true, y_pred = compare(model, X, y)\n",
        "    conf_matr = confusion_matrix(y_true, y_pred, labels = labels)\n",
        "    displayed = ConfusionMatrixDisplay(conf_matr, display_labels = labels)\n",
        "    fig, ax = plt.subplots(figsize = (20,18))\n",
        "    displayed.plot(ax = ax)\n",
        "\n",
        "    print(\"\\nF1 score:\\n-------------------------------\")\n",
        "    print(round(f1_score(y_true, y_pred, labels = labels, average = 'macro', zero_division = 0),4))\n",
        "    print(\"\\nAccuracy score:\\n-------------------------------\")\n",
        "    print(round(accuracy_score(y_true, y_pred),4),\"\\n\")"
      ]
    },
    {
      "cell_type": "markdown",
      "metadata": {
        "id": "IDOvauhqu9XV"
      },
      "source": [
        "### Confusion matrix"
      ]
    },
    {
      "cell_type": "markdown",
      "metadata": {
        "id": "0Cd0V7Y0Fttm"
      },
      "source": [
        "#### Best first model"
      ]
    },
    {
      "cell_type": "code",
      "execution_count": null,
      "metadata": {
        "colab": {
          "base_uri": "https://localhost:8080/",
          "height": 1000
        },
        "id": "CWBliTV5RH0W",
        "outputId": "f5d1ac3a-a5ad-49cb-cbd6-3616b2f6abd9"
      },
      "outputs": [
        {
          "output_type": "stream",
          "name": "stdout",
          "text": [
            "21/21 [==============================] - 0s 8ms/step\n",
            "\n",
            "F1 score:\n",
            "-------------------------------\n",
            "0.7285\n",
            "\n",
            "Accuracy score:\n",
            "-------------------------------\n",
            "0.8957 \n",
            "\n"
          ]
        },
        {
          "output_type": "display_data",
          "data": {
            "text/plain": [
              "<Figure size 1440x1296 with 2 Axes>"
            ],
            "image/png": "[encoded data removed]"
          },
          "metadata": {
            "needs_background": "light"
          }
        }
      ],
      "source": [
        "evaluate(best_first_model,X_test,y_test,excluded_symbols)"
      ]
    },
    {
      "cell_type": "markdown",
      "metadata": {
        "id": "Rx9PG4pKFsTl"
      },
      "source": [
        "#### Second best model"
      ]
    },
    {
      "cell_type": "code",
      "execution_count": null,
      "metadata": {
        "id": "siUGO4LPFp-k",
        "colab": {
          "base_uri": "https://localhost:8080/",
          "height": 1000
        },
        "outputId": "f932db14-9e56-47ac-80d4-74bee3777141"
      },
      "outputs": [
        {
          "output_type": "stream",
          "name": "stdout",
          "text": [
            "21/21 [==============================] - 0s 8ms/step\n",
            "\n",
            "F1 score:\n",
            "-------------------------------\n",
            "0.5377\n",
            "\n",
            "Accuracy score:\n",
            "-------------------------------\n",
            "0.8068 \n",
            "\n"
          ]
        },
        {
          "output_type": "display_data",
          "data": {
            "text/plain": [
              "<Figure size 1440x1296 with 2 Axes>"
            ],
            "image/png": "[encoded data removed]"
          },
          "metadata": {
            "needs_background": "light"
          }
        }
      ],
      "source": [
        "evaluate(best_second_model,X_test,y_test,excluded_symbols)"
      ]
    },
    {
      "cell_type": "markdown",
      "source": [
        "Showing classification report in order to display the precision and recall among classes"
      ],
      "metadata": {
        "id": "VY9ztU6JScz8"
      }
    },
    {
      "cell_type": "code",
      "execution_count": null,
      "metadata": {
        "id": "b7lPQGnGaeZM"
      },
      "outputs": [],
      "source": [
        "def report(model, X, y, sorted_by=None, ascending=True):\n",
        "  \"\"\"\n",
        "  Show classification report using only classes in names\n",
        "  \"\"\"\n",
        "  ground_truth, predicted = compare(model, X, y)\n",
        "  class_report =  classification_report(ground_truth, predicted, output_dict=True, zero_division=0)\n",
        "  \n",
        "  # global performance\n",
        "  keys = ['weighted avg', 'accuracy', 'macro avg']\n",
        "  global_dict = {key: class_report[key] for key in keys}\n",
        "  for key in keys:\n",
        "    del class_report[key]\n",
        "\n",
        "  df = pd.DataFrame.from_dict(class_report).transpose().round(2)\n",
        "  if sorted_by:\n",
        "    df.sort_values(by=sorted_by, ascending=ascending, inplace=True)\n",
        "  print(df)\n",
        "\n",
        "  print(\"\\n\\n\")\n",
        "\n",
        "  df_glob = pd.DataFrame.from_dict(global_dict).transpose().round(2)\n",
        "  print(df_glob)"
      ]
    },
    {
      "cell_type": "code",
      "execution_count": null,
      "metadata": {
        "colab": {
          "base_uri": "https://localhost:8080/"
        },
        "id": "uPKMNJQ0alK-",
        "outputId": "53a930a8-9b8d-40cb-a4f8-183389789dfd"
      },
      "outputs": [
        {
          "output_type": "stream",
          "name": "stdout",
          "text": [
            "21/21 [==============================] - 0s 12ms/step\n",
            "       precision  recall  f1-score  support\n",
            "$           1.00    1.00      1.00    209.0\n",
            ":           1.00    1.00      1.00     56.0\n",
            "TO          1.00    1.00      1.00    386.0\n",
            "PRP$        1.00    1.00      1.00     99.0\n",
            "POS         1.00    1.00      1.00    152.0\n",
            "EX          1.00    1.00      1.00      5.0\n",
            "``          1.00    1.00      1.00     73.0\n",
            ",           1.00    1.00      1.00    787.0\n",
            "CC          0.99    0.99      0.99    366.0\n",
            ".           0.99    1.00      0.99    637.0\n",
            "PRP         0.98    0.98      0.98    192.0\n",
            "DT          0.97    0.99      0.98   1335.0\n",
            "-LRB-       1.00    0.94      0.97     18.0\n",
            "MD          0.96    0.95      0.96    167.0\n",
            "WDT         0.94    0.98      0.96     84.0\n",
            "IN          0.96    0.95      0.95   1630.0\n",
            "VBZ         0.96    0.93      0.95    280.0\n",
            "VB          0.94    0.93      0.94    403.0\n",
            "CD          0.94    0.92      0.93    858.0\n",
            "''          1.00    0.87      0.93     70.0\n",
            "VBD         0.90    0.90      0.90    634.0\n",
            "WP$         1.00    0.75      0.86      4.0\n",
            "WP          0.79    0.95      0.86     20.0\n",
            "NNS         0.83    0.87      0.85    941.0\n",
            "NNP         0.81    0.89      0.85   1504.0\n",
            "NN          0.87    0.82      0.85   2383.0\n",
            "VBP         0.84    0.80      0.82    134.0\n",
            "WRB         0.83    0.79      0.81     24.0\n",
            "VBN         0.75    0.81      0.78    366.0\n",
            "-RRB-       0.92    0.67      0.77     18.0\n",
            "RB          0.70    0.83      0.76    381.0\n",
            "JJ          0.78    0.71      0.74    918.0\n",
            "JJR         0.78    0.68      0.73     59.0\n",
            "VBG         0.74    0.71      0.72    221.0\n",
            "RBS         0.67    0.67      0.67      3.0\n",
            "JJS         0.88    0.45      0.60     31.0\n",
            "RP          0.49    0.58      0.53     33.0\n",
            "RBR         0.50    0.53      0.52     15.0\n",
            "NNPS        1.00    0.02      0.04     44.0\n",
            "PDT         0.00    0.00      0.00      4.0\n",
            "LS          0.00    0.00      0.00      0.0\n",
            "\n",
            "\n",
            "\n",
            "              precision  recall  f1-score  support\n",
            "weighted avg       0.90     0.9      0.89  15544.0\n",
            "accuracy           0.90     0.9      0.90      0.9\n",
            "macro avg          0.85     0.8      0.81  15544.0\n"
          ]
        }
      ],
      "source": [
        "report(best_first_model, X_test, y_test, sorted_by=['f1-score'], ascending=False)"
      ]
    },
    {
      "cell_type": "code",
      "source": [
        "report(best_second_model, X_test, y_test, sorted_by=['f1-score'], ascending=False)"
      ],
      "metadata": {
        "colab": {
          "base_uri": "https://localhost:8080/"
        },
        "id": "k48vMW_1Smc-",
        "outputId": "fe90109a-3bc3-49f8-d536-191ec34121b1"
      },
      "execution_count": null,
      "outputs": [
        {
          "output_type": "stream",
          "name": "stdout",
          "text": [
            "21/21 [==============================] - 0s 12ms/step\n",
            "       precision  recall  f1-score  support\n",
            "``          0.97    0.99      0.98     73.0\n",
            ":           0.98    0.93      0.95     56.0\n",
            "$           0.93    0.96      0.95    209.0\n",
            ",           0.95    0.95      0.95    787.0\n",
            "POS         0.94    0.95      0.94    152.0\n",
            "''          0.97    0.91      0.94     69.0\n",
            ".           0.88    0.99      0.94    572.0\n",
            "PRP$        0.93    0.93      0.93     99.0\n",
            "DT          0.90    0.92      0.91   1335.0\n",
            "TO          0.90    0.91      0.91    386.0\n",
            "PRP         0.86    0.91      0.89    192.0\n",
            "MD          0.90    0.86      0.88    167.0\n",
            "IN          0.85    0.89      0.87   1630.0\n",
            "CC          0.88    0.87      0.87    366.0\n",
            "VBZ         0.86    0.85      0.86    280.0\n",
            "CD          0.89    0.82      0.85    857.0\n",
            "VBD         0.79    0.86      0.83    633.0\n",
            "WDT         0.88    0.77      0.82     84.0\n",
            "VB          0.77    0.82      0.80    403.0\n",
            "NNP         0.75    0.80      0.78   1504.0\n",
            "NN          0.75    0.79      0.77   2381.0\n",
            "WP          1.00    0.60      0.75     20.0\n",
            "NNS         0.71    0.75      0.73    939.0\n",
            "VBP         0.74    0.69      0.71    134.0\n",
            "-LRB-       1.00    0.56      0.71     18.0\n",
            "VBN         0.72    0.55      0.63    366.0\n",
            "JJ          0.66    0.60      0.63    918.0\n",
            "RB          0.58    0.54      0.56    381.0\n",
            "-RRB-       1.00    0.39      0.56     18.0\n",
            "VBG         0.63    0.51      0.56    221.0\n",
            "EX          0.50    0.40      0.44      5.0\n",
            "RP          0.48    0.36      0.41     33.0\n",
            "JJR         0.63    0.20      0.31     59.0\n",
            "RBR         0.33    0.07      0.11     15.0\n",
            "WRB         1.00    0.04      0.08     24.0\n",
            "RBS         0.00    0.00      0.00      3.0\n",
            "NNPS        0.00    0.00      0.00     44.0\n",
            "JJS         0.00    0.00      0.00     31.0\n",
            "WP$         0.00    0.00      0.00      4.0\n",
            "PDT         0.00    0.00      0.00      4.0\n",
            "\n",
            "\n",
            "\n",
            "              precision  recall  f1-score   support\n",
            "weighted avg       0.80    0.81      0.80  15472.00\n",
            "accuracy           0.81    0.81      0.81      0.81\n",
            "macro avg          0.71    0.62      0.64  15472.00\n"
          ]
        }
      ]
    },
    {
      "cell_type": "markdown",
      "metadata": {
        "id": "I_QOFWXGdFxQ"
      },
      "source": [
        "* verify and discuss if the results on the test sets are coherent with those on the validation set"
      ]
    },
    {
      "cell_type": "markdown",
      "metadata": {
        "id": "vPnb6HY4dG-B"
      },
      "source": [
        "* analyze the errors done by your model "
      ]
    },
    {
      "cell_type": "markdown",
      "metadata": {
        "id": "9Xn8bDiHIi4B"
      },
      "source": [
        "\n",
        "* try to understand which may be the causes and think about how to improve it."
      ]
    }
  ],
  "metadata": {
    "accelerator": "GPU",
    "colab": {
      "collapsed_sections": [
        "WjbvtURHwu0i",
        "xkN1AYQAtzsa"
      ],
      "provenance": [],
      "include_colab_link": true
    },
    "gpuClass": "standard",
    "kernelspec": {
      "display_name": "Python 3.9.7 ('base')",
      "language": "python",
      "name": "python3"
    },
    "language_info": {
      "codemirror_mode": {
        "name": "ipython",
        "version": 3
      },
      "file_extension": ".py",
      "mimetype": "text/x-python",
      "name": "python",
      "nbconvert_exporter": "python",
      "pygments_lexer": "ipython3",
      "version": "3.9.7 (default, Sep 16 2021, 16:59:28) [MSC v.1916 64 bit (AMD64)]"
    },
    "vscode": {
      "interpreter": {
        "hash": "314ecf4e4f15fe22a658b1d57c99615ad4c86847edfd5102777831eb0be2d97e"
      }
    }
  },
  "nbformat": 4,
  "nbformat_minor": 0
}