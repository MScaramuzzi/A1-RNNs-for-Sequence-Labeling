{
  "nbformat": 4,
  "nbformat_minor": 0,
  "metadata": {
    "colab": {
      "provenance": [],
      "toc_visible": true
    },
    "kernelspec": {
      "name": "python3",
      "display_name": "Python 3"
    },
    "language_info": {
      "name": "python"
    },
    "accelerator": "GPU",
    "gpuClass": "standard"
  },
  "cells": [
    {
      "cell_type": "markdown",
      "source": [
        "### Download the corpora and split it in training and test sets, structuring a dataframe.\n",
        "\n",
        "\n"
      ],
      "metadata": {
        "id": "VK90OUc8mcgA"
      }
    },
    {
      "cell_type": "code",
      "execution_count": 1,
      "metadata": {
        "id": "0Ku46OvKmbIU"
      },
      "outputs": [],
      "source": [
        "import urllib.request  #  download files\n",
        "import tarfile  #  unzip files\n",
        "import shutil\n",
        "import os\n",
        "import urllib.request  #  download files\n",
        "import zipfile  #  unzip files\n"
      ]
    },
    {
      "cell_type": "markdown",
      "source": [
        "**Splits**: documents 1-100 are the train set, 101-150 validation set, 151-199 test set."
      ],
      "metadata": {
        "id": "_FBWQ10jr0h8"
      }
    },
    {
      "cell_type": "markdown",
      "source": [
        "**Splitting**: you can decide to split documents into sentences or not, the choice is yours.\n"
      ],
      "metadata": {
        "id": "hZmBv4xvsagY"
      }
    },
    {
      "cell_type": "markdown",
      "source": [
        "**I/O structure**: The input data will have three dimensions: 1-documents/sentences, 2-token, 3-features; for the output there are 2 possibilities: if you use one-hot encoding it will be 1-documents/sentences, 2-token labels, 3-classes, if you use a single integer that indicates the number of the class it will be 1-documents/sentences, 2-token labels."
      ],
      "metadata": {
        "id": "kJQZWXoksvfu"
      }
    },
    {
      "cell_type": "code",
      "source": [
        "dataset_folder = os.path.join(os.getcwd(), \"Dataset\")\n",
        "\n",
        "if not os.path.exists(dataset_folder):\n",
        "    os.makedirs(dataset_folder)\n",
        "\n",
        "url = \"https://raw.githubusercontent.com/nltk/nltk_data/gh-pages/packages/corpora/dependency_treebank.zip\"\n",
        "\n",
        "dataset_path = os.path.join(dataset_folder, \"dependency_treebank.zip\")\n",
        "\n",
        "if not os.path.exists(dataset_path):\n",
        "    urllib.request.urlretrieve(url, dataset_path)\n",
        "    print(\"Successful download\")\n",
        "\n",
        "with zipfile.ZipFile(dataset_path,\"r\") as zip_ref:\n",
        "    zip_ref.extractall(\"Dataset\")\n",
        "\n",
        "print(\"Successful extraction\")"
      ],
      "metadata": {
        "colab": {
          "base_uri": "https://localhost:8080/"
        },
        "id": "lh42hngDaT_c",
        "outputId": "98d5141e-3018-46a1-8ddb-be8127ebacdf"
      },
      "execution_count": 2,
      "outputs": [
        {
          "output_type": "stream",
          "name": "stdout",
          "text": [
            "Successful extraction\n"
          ]
        }
      ]
    },
    {
      "cell_type": "code",
      "source": [
        "data_folder=os.getcwd()+\"/Dataset/dependency_treebank/\""
      ],
      "metadata": {
        "id": "8YL3dhA2OzMw"
      },
      "execution_count": 3,
      "outputs": []
    },
    {
      "cell_type": "code",
      "source": [
        "# Just needed in case you'd like to append it to an array\n",
        "data = []\n",
        "\n",
        "for filename in os.listdir(data_folder):\n",
        "    if filename.endswith(\"dp\"): \n",
        "        data.append(filename)"
      ],
      "metadata": {
        "id": "rEJhY-CLOvmy"
      },
      "execution_count": 4,
      "outputs": []
    },
    {
      "cell_type": "markdown",
      "source": [
        "Cicla su una frase\n",
        "- Fintanto che non sei arrivato ad un punto seguito da uno spazio:\n",
        "    * Leggi tutti i caratteri di una parola fino a che non trovi un spazio\n",
        "    * Salta a riga dopo e ripeti\n"
      ],
      "metadata": {
        "id": "J8gcfxp7f5lG"
      }
    },
    {
      "cell_type": "markdown",
      "source": [
        "1. Trova indice righe splittate in train\n",
        "2. Trova indice righe splittate in test\n",
        "3. Trova indice righe splittate in validation\n"
      ],
      "metadata": {
        "id": "BeqpI2dqh6vQ"
      }
    },
    {
      "cell_type": "markdown",
      "source": [
        "Commento"
      ],
      "metadata": {
        "id": "PfK6_sHtlDIC"
      }
    },
    {
      "cell_type": "code",
      "source": [
        "import re"
      ],
      "metadata": {
        "id": "1g1wl8odj7Zl"
      },
      "execution_count": 5,
      "outputs": []
    },
    {
      "cell_type": "markdown",
      "source": [
        "Voglio tutti i file name tali che:\n",
        "1. Per il **train** devono iniziare con 00 o essere 0100\n",
        "2. Per il **val** devono iniziare con 01 piu (0..4) oppure essere 0150\n",
        "3. Per il **test** devono essere 015(1..9) oppure tutti quelli che iniziano che vanno da 01(6..9)(0..9)\n",
        "\n"
      ],
      "metadata": {
        "id": "nPMVMA1Skk-q"
      }
    },
    {
      "cell_type": "code",
      "source": [
        "# CODICE ORIGINALE (VEDERE CELLA SEGUENTE PER MODIFICHE PROPOSTE) \n",
        "sentences = []\n",
        "words = []\n",
        "unique_tags_train = []\n",
        "unique_tags_test = []\n",
        "unique_tags_val = []\n",
        "tags = []\n",
        "tag2 = []\n",
        "file_len = []\n",
        "cnt_sents = 0\n",
        "docs = sorted(os.listdir(data_folder))\n",
        "for filename in docs:\n",
        "    if filename.endswith(\".dp\"): \n",
        "        with open(os.path.join(data_folder, filename), mode='r', encoding='utf-8') as text:\n",
        "                for i,line in enumerate(text):\n",
        "                    if len(line.split())>0:\n",
        "                        word, tag, _ = line.split(\"\\t\")    # prova a inventare un altro modo split\n",
        "                        words.append(word)\n",
        "                        tags.append(tag)\n",
        "\n",
        "                        #regex train\n",
        "\n",
        "                        #regex val\n",
        "\n",
        "                        #regex test\n",
        "                        if tag not in unique_tags_train  and re.match(\"wsj([00]).*\", filename) or filename == \"wsj_100.dp\":\n",
        "                            unique_tags_train.append(tag)\n",
        "                        elif tag not in unique_tags_val  and filename.startswith(\"wsj_01\") and not filename.startswith(\"wsj_151.dp\"):\n",
        "                             unique_tags_val.append(tag)\n",
        "                        elif tag not in unique_tags_test:\n",
        "                            unique_tags_test.append(tag)\n",
        "                        if word == \".\": # condizione fine frase\n",
        "                            sentences.append(words[:i])\n",
        "                            cnt_sents+=1\n",
        "                            tag2.append(tags[:i])\n",
        "                            words = []\n",
        "                            tags =[]\n",
        "                file_len.append(cnt_sents)\n",
        "        cnt_sents = 0\n"
      ],
      "metadata": {
        "id": "2KWqDhdrLysA"
      },
      "execution_count": 6,
      "outputs": []
    },
    {
      "cell_type": "code",
      "source": [
        "# SB MODIFIED CODE - START\n",
        "sentences = []\n",
        "words = []\n",
        "unique_tags_train = []\n",
        "unique_tags_test = []\n",
        "unique_tags_val = []\n",
        "tags = []\n",
        "tag2 = []\n",
        "file_len = []\n",
        "file_len_sent = []\n",
        "file_len_tags = []\n",
        "\n",
        "cnt_words_train = 0\n",
        "cnt_words_val = 0\n",
        "cnt_words_test = 0\n",
        "cnt_words_sent = 0\n",
        "cnt_tags_sent = 0\n",
        "cnt_sents = 0\n",
        "cnt_sents_train = 0\n",
        "cnt_sents_val = 0\n",
        "cnt_sents_test = 0\n",
        "\n",
        "docs = sorted(os.listdir(data_folder))\n",
        "for filename in docs:\n",
        "    if filename.endswith(\".dp\"): \n",
        "        with open(os.path.join(data_folder, filename), mode='r', encoding='utf-8') as text:\n",
        "                for i,line in enumerate(text):\n",
        "                    if len(line.split())>0:\n",
        "                        word, tag, _ = line.split(\"\\t\")    # prova a inventare un altro modo split\n",
        "                        words.append(word)\n",
        "                        tags.append(tag)\n",
        "                        cnt_words_sent += 1                        \n",
        "                        cnt_tags_sent += 1\n",
        "                        #regex train\n",
        "\n",
        "                        #regex val\n",
        "                        \n",
        "                        #regex test\n",
        "                        #if tag not in unique_tags_train  and re.match(\"wsj([00]).*\", filename) or filename == \"wsj_100.dp\":\n",
        "                        if (filename.startswith(\"wsj_00\") or filename == \"wsj_0100.dp\"):\n",
        "                            cnt_words_train +=1\n",
        "                            if (tag not in unique_tags_train): \n",
        "                                unique_tags_train.append(tag)\n",
        "                            if word == \".\": # condizione fine frase\n",
        "                                sentences.append(words[:i])\n",
        "                                cnt_sents += 1\n",
        "                                cnt_sents_train+=1\n",
        "                                tag2.append(tags[:i])\n",
        "                                words = []\n",
        "                                tags =[]\n",
        "                                file_len_tags.append(cnt_tags_sent)\n",
        "                                file_len_sent.append(cnt_words_sent)\n",
        "                                cnt_words_sent = 0\n",
        "                                cnt_tags_sent = 0\n",
        "\n",
        "                        elif (not filename == \"wsj_0100.dp\") and (filename.startswith(\"wsj_010\") or filename.startswith(\"wsj_011\") or filename.startswith(\"wsj_012\") or filename.startswith(\"wsj_013\") or filename.startswith(\"wsj_014\") or filename.startswith(\"wsj_0150\")):\n",
        "                            cnt_words_val +=1\n",
        "                            if (tag not in unique_tags_val):\n",
        "                                unique_tags_val.append(tag)\n",
        "                            if word == \".\": # condizione fine frase\n",
        "                                sentences.append(words[:i])\n",
        "                                cnt_sents += 1\n",
        "                                cnt_sents_val+=1\n",
        "                                tag2.append(tags[:i])\n",
        "                                words = []\n",
        "                                tags =[]\n",
        "                                file_len_tags.append(cnt_tags_sent)\n",
        "                                file_len_sent.append(cnt_words_sent)\n",
        "                                cnt_words_sent = 0\n",
        "                                cnt_tags_sent = 0\n",
        "\n",
        "                        elif (not filename == \"wsj_0150.dp\") and (filename.startswith(\"wsj_015\") or filename.startswith(\"wsj_016\") or filename.startswith(\"wsj_017\") or filename.startswith(\"wsj_018\") or filename.startswith(\"wsj_019\")):\n",
        "                            cnt_words_test +=1\n",
        "                            if (tag not in unique_tags_test):\n",
        "                                unique_tags_test.append(tag)\n",
        "                            if word == \".\": # condizione fine frase\n",
        "                                sentences.append(words[:i])\n",
        "                                cnt_sents += 1\n",
        "                                cnt_sents_test+=1\n",
        "                                tag2.append(tags[:i])\n",
        "                                words = []\n",
        "                                tags =[]\n",
        "                                file_len_tags.append(cnt_tags_sent)\n",
        "                                file_len_sent.append(cnt_words_sent)\n",
        "                                cnt_words_sent = 0\n",
        "                                cnt_tags_sent = 0\n",
        "\n",
        "                file_len.append(cnt_sents)\n",
        "        cnt_sents = 0\n"
      ],
      "metadata": {
        "id": "5TO1quAufBxq"
      },
      "execution_count": 7,
      "outputs": []
    },
    {
      "cell_type": "markdown",
      "source": [
        "* Trova lunghezza righe documento\n",
        "* a ultima sentence aggiungi un marker per indicare che è end of file \n",
        "* fino a quella sentence saranno doc = nome doc"
      ],
      "metadata": {
        "id": "588ugZNdj2_N"
      }
    },
    {
      "cell_type": "code",
      "source": [
        "print(f\"train: {sorted(unique_tags_train)} \\n\")\n",
        "print(f\"validation: {sorted(unique_tags_val)} \\n\")\n",
        "print(f\"test: {sorted(unique_tags_test)}\")\n"
      ],
      "metadata": {
        "colab": {
          "base_uri": "https://localhost:8080/"
        },
        "id": "3nppwVsnh0O9",
        "outputId": "30f7d674-1d49-4914-dd04-e22b0465a3a5"
      },
      "execution_count": 8,
      "outputs": [
        {
          "output_type": "stream",
          "name": "stdout",
          "text": [
            "train: ['#', '$', \"''\", ',', '-LRB-', '-RRB-', '.', ':', 'CC', 'CD', 'DT', 'EX', 'FW', 'IN', 'JJ', 'JJR', 'JJS', 'LS', 'MD', 'NN', 'NNP', 'NNPS', 'NNS', 'PDT', 'POS', 'PRP', 'PRP$', 'RB', 'RBR', 'RBS', 'RP', 'SYM', 'TO', 'UH', 'VB', 'VBD', 'VBG', 'VBN', 'VBP', 'VBZ', 'WDT', 'WP', 'WP$', 'WRB', '``'] \n",
            "\n",
            "validation: ['#', '$', \"''\", ',', '-LRB-', '-RRB-', '.', ':', 'CC', 'CD', 'DT', 'EX', 'FW', 'IN', 'JJ', 'JJR', 'JJS', 'LS', 'MD', 'NN', 'NNP', 'NNPS', 'NNS', 'PDT', 'POS', 'PRP', 'PRP$', 'RB', 'RBR', 'RBS', 'RP', 'TO', 'UH', 'VB', 'VBD', 'VBG', 'VBN', 'VBP', 'VBZ', 'WDT', 'WP', 'WP$', 'WRB', '``'] \n",
            "\n",
            "test: ['$', \"''\", ',', '-LRB-', '-RRB-', '.', ':', 'CC', 'CD', 'DT', 'EX', 'IN', 'JJ', 'JJR', 'JJS', 'MD', 'NN', 'NNP', 'NNPS', 'NNS', 'PDT', 'POS', 'PRP', 'PRP$', 'RB', 'RBR', 'RBS', 'RP', 'TO', 'VB', 'VBD', 'VBG', 'VBN', 'VBP', 'VBZ', 'WDT', 'WP', 'WP$', 'WRB', '``']\n"
          ]
        }
      ]
    },
    {
      "cell_type": "code",
      "source": [
        "print(f\"train: {len(unique_tags_train)} \\n\")\n",
        "print(f\"validation: {len(unique_tags_val)} \\n\")\n",
        "print(f\"test: {len(unique_tags_test)}\")"
      ],
      "metadata": {
        "colab": {
          "base_uri": "https://localhost:8080/"
        },
        "id": "UjiUMFx7igdC",
        "outputId": "f6f0cb21-5f1c-4786-849c-15f386fbe715"
      },
      "execution_count": 9,
      "outputs": [
        {
          "output_type": "stream",
          "name": "stdout",
          "text": [
            "train: 45 \n",
            "\n",
            "validation: 44 \n",
            "\n",
            "test: 40\n"
          ]
        }
      ]
    },
    {
      "cell_type": "code",
      "source": [
        "print(list(set(unique_tags_train).difference(set(unique_tags_val))))\n",
        "print(list(set(unique_tags_train).difference(set(unique_tags_test))))\n",
        "print(list(set(unique_tags_val).difference(set(unique_tags_test))))"
      ],
      "metadata": {
        "colab": {
          "base_uri": "https://localhost:8080/"
        },
        "id": "t7Qinu2kiu9T",
        "outputId": "dec7186d-0855-41be-9b9d-a93225c6620a"
      },
      "execution_count": 10,
      "outputs": [
        {
          "output_type": "stream",
          "name": "stdout",
          "text": [
            "['SYM']\n",
            "['UH', '#', 'FW', 'LS', 'SYM']\n",
            "['#', 'UH', 'FW', 'LS']\n"
          ]
        }
      ]
    },
    {
      "cell_type": "code",
      "source": [
        "# SB Added Cell just to count sentences per each dataset\n",
        "print(cnt_sents_train)\n",
        "print(cnt_sents_val)\n",
        "print(cnt_sents_test)\n"
      ],
      "metadata": {
        "colab": {
          "base_uri": "https://localhost:8080/"
        },
        "id": "Bu7pCWpzu61o",
        "outputId": "4231a855-8b2a-4707-b43b-c74c3a7d469f"
      },
      "execution_count": 11,
      "outputs": [
        {
          "output_type": "stream",
          "name": "stdout",
          "text": [
            "1936\n",
            "1256\n",
            "636\n"
          ]
        }
      ]
    },
    {
      "cell_type": "code",
      "source": [
        "file_len[:5]"
      ],
      "metadata": {
        "colab": {
          "base_uri": "https://localhost:8080/"
        },
        "id": "AXuXoHXvp_0H",
        "outputId": "49349048-d50b-4bff-f91f-17e229964e77"
      },
      "execution_count": 12,
      "outputs": [
        {
          "output_type": "execute_result",
          "data": {
            "text/plain": [
              "[2, 1, 30, 17, 3]"
            ]
          },
          "metadata": {},
          "execution_count": 12
        }
      ]
    },
    {
      "cell_type": "code",
      "source": [
        "import pandas as pd\n",
        "import numpy as np"
      ],
      "metadata": {
        "id": "6JP-uXXOxNXz"
      },
      "execution_count": 13,
      "outputs": []
    },
    {
      "cell_type": "code",
      "source": [
        "# create single dataframe row\n",
        "dataframe_rows = {\n",
        "#    'docs': [doc for doc in docs],\n",
        "    'sentences': sentences,\n",
        "    'tags': tag2,\n",
        "    \"docs\": np.repeat(docs, file_len)\n",
        "}\n"
      ],
      "metadata": {
        "id": "MXQs4U_Iw4BS"
      },
      "execution_count": 14,
      "outputs": []
    },
    {
      "cell_type": "code",
      "source": [
        "df = pd.DataFrame(dataframe_rows)\n",
        "df.head(10)"
      ],
      "metadata": {
        "colab": {
          "base_uri": "https://localhost:8080/",
          "height": 407
        },
        "id": "luAqu0gHw3mz",
        "outputId": "2a58c352-ab4e-43ee-e840-a3be9b6d9247"
      },
      "execution_count": 15,
      "outputs": [
        {
          "output_type": "execute_result",
          "data": {
            "text/plain": [
              "                                           sentences  \\\n",
              "0  [Pierre, Vinken, ,, 61, years, old, ,, will, j...   \n",
              "1  [Mr., Vinken, is, chairman, of, Elsevier, N.V....   \n",
              "2  [Rudolph, Agnew, ,, 55, years, old, and, forme...   \n",
              "3  [A, form, of, asbestos, once, used, to, make, ...   \n",
              "4  [The, asbestos, fiber, ,, crocidolite, ,, is, ...   \n",
              "5  [Lorillard, Inc., ,, the, unit, of, New, York-...   \n",
              "6  [Although, preliminary, findings, were, report...   \n",
              "7  [A, Lorillard, spokewoman, said, ,, ``, This, ...   \n",
              "8  [We, 're, talking, about, years, ago, before, ...   \n",
              "9  [There, is, no, asbestos, in, our, products, n...   \n",
              "\n",
              "                                                tags         docs  \n",
              "0  [NNP, NNP, ,, CD, NNS, JJ, ,, MD, VB, DT, NN, ...  wsj_0001.dp  \n",
              "1  [NNP, NNP, VBZ, NN, IN, NNP, NNP, ,, DT, NNP, ...  wsj_0001.dp  \n",
              "2  [NNP, NNP, ,, CD, NNS, JJ, CC, JJ, NN, IN, NNP...  wsj_0002.dp  \n",
              "3  [DT, NN, IN, NN, RB, VBN, TO, VB, NNP, NN, NNS...  wsj_0003.dp  \n",
              "4  [DT, NN, NN, ,, NN, ,, VBZ, RB, JJ, IN, PRP, V...  wsj_0003.dp  \n",
              "5  [NNP, NNP, ,, DT, NN, IN, JJ, JJ, NNP, NNP, WD...  wsj_0003.dp  \n",
              "6  [IN, JJ, NNS, VBD, VBN, RBR, IN, DT, NN, IN, ,...  wsj_0003.dp  \n",
              "7  [DT, NNP, NN, VBD, ,, ``, DT, VBZ, DT, JJ, NN, .]  wsj_0003.dp  \n",
              "8  [PRP, VBP, VBG, IN, NNS, IN, IN, NN, VBD, IN, ...  wsj_0003.dp  \n",
              "9            [EX, VBZ, DT, NN, IN, PRP$, NNS, RB, .]  wsj_0003.dp  "
            ],
            "text/html": [
              "\n",
              "  <div id=\"df-0885ddf4-e2d6-4868-b3fb-8132e0133dc2\">\n",
              "    <div class=\"colab-df-container\">\n",
              "      <div>\n",
              "<style scoped>\n",
              "    .dataframe tbody tr th:only-of-type {\n",
              "        vertical-align: middle;\n",
              "    }\n",
              "\n",
              "    .dataframe tbody tr th {\n",
              "        vertical-align: top;\n",
              "    }\n",
              "\n",
              "    .dataframe thead th {\n",
              "        text-align: right;\n",
              "    }\n",
              "</style>\n",
              "<table border=\"1\" class=\"dataframe\">\n",
              "  <thead>\n",
              "    <tr style=\"text-align: right;\">\n",
              "      <th></th>\n",
              "      <th>sentences</th>\n",
              "      <th>tags</th>\n",
              "      <th>docs</th>\n",
              "    </tr>\n",
              "  </thead>\n",
              "  <tbody>\n",
              "    <tr>\n",
              "      <th>0</th>\n",
              "      <td>[Pierre, Vinken, ,, 61, years, old, ,, will, j...</td>\n",
              "      <td>[NNP, NNP, ,, CD, NNS, JJ, ,, MD, VB, DT, NN, ...</td>\n",
              "      <td>wsj_0001.dp</td>\n",
              "    </tr>\n",
              "    <tr>\n",
              "      <th>1</th>\n",
              "      <td>[Mr., Vinken, is, chairman, of, Elsevier, N.V....</td>\n",
              "      <td>[NNP, NNP, VBZ, NN, IN, NNP, NNP, ,, DT, NNP, ...</td>\n",
              "      <td>wsj_0001.dp</td>\n",
              "    </tr>\n",
              "    <tr>\n",
              "      <th>2</th>\n",
              "      <td>[Rudolph, Agnew, ,, 55, years, old, and, forme...</td>\n",
              "      <td>[NNP, NNP, ,, CD, NNS, JJ, CC, JJ, NN, IN, NNP...</td>\n",
              "      <td>wsj_0002.dp</td>\n",
              "    </tr>\n",
              "    <tr>\n",
              "      <th>3</th>\n",
              "      <td>[A, form, of, asbestos, once, used, to, make, ...</td>\n",
              "      <td>[DT, NN, IN, NN, RB, VBN, TO, VB, NNP, NN, NNS...</td>\n",
              "      <td>wsj_0003.dp</td>\n",
              "    </tr>\n",
              "    <tr>\n",
              "      <th>4</th>\n",
              "      <td>[The, asbestos, fiber, ,, crocidolite, ,, is, ...</td>\n",
              "      <td>[DT, NN, NN, ,, NN, ,, VBZ, RB, JJ, IN, PRP, V...</td>\n",
              "      <td>wsj_0003.dp</td>\n",
              "    </tr>\n",
              "    <tr>\n",
              "      <th>5</th>\n",
              "      <td>[Lorillard, Inc., ,, the, unit, of, New, York-...</td>\n",
              "      <td>[NNP, NNP, ,, DT, NN, IN, JJ, JJ, NNP, NNP, WD...</td>\n",
              "      <td>wsj_0003.dp</td>\n",
              "    </tr>\n",
              "    <tr>\n",
              "      <th>6</th>\n",
              "      <td>[Although, preliminary, findings, were, report...</td>\n",
              "      <td>[IN, JJ, NNS, VBD, VBN, RBR, IN, DT, NN, IN, ,...</td>\n",
              "      <td>wsj_0003.dp</td>\n",
              "    </tr>\n",
              "    <tr>\n",
              "      <th>7</th>\n",
              "      <td>[A, Lorillard, spokewoman, said, ,, ``, This, ...</td>\n",
              "      <td>[DT, NNP, NN, VBD, ,, ``, DT, VBZ, DT, JJ, NN, .]</td>\n",
              "      <td>wsj_0003.dp</td>\n",
              "    </tr>\n",
              "    <tr>\n",
              "      <th>8</th>\n",
              "      <td>[We, 're, talking, about, years, ago, before, ...</td>\n",
              "      <td>[PRP, VBP, VBG, IN, NNS, IN, IN, NN, VBD, IN, ...</td>\n",
              "      <td>wsj_0003.dp</td>\n",
              "    </tr>\n",
              "    <tr>\n",
              "      <th>9</th>\n",
              "      <td>[There, is, no, asbestos, in, our, products, n...</td>\n",
              "      <td>[EX, VBZ, DT, NN, IN, PRP$, NNS, RB, .]</td>\n",
              "      <td>wsj_0003.dp</td>\n",
              "    </tr>\n",
              "  </tbody>\n",
              "</table>\n",
              "</div>\n",
              "      <button class=\"colab-df-convert\" onclick=\"convertToInteractive('df-0885ddf4-e2d6-4868-b3fb-8132e0133dc2')\"\n",
              "              title=\"Convert this dataframe to an interactive table.\"\n",
              "              style=\"display:none;\">\n",
              "        \n",
              "  <svg xmlns=\"http://www.w3.org/2000/svg\" height=\"24px\"viewBox=\"0 0 24 24\"\n",
              "       width=\"24px\">\n",
              "    <path d=\"M0 0h24v24H0V0z\" fill=\"none\"/>\n",
              "    <path d=\"M18.56 5.44l.94 2.06.94-2.06 2.06-.94-2.06-.94-.94-2.06-.94 2.06-2.06.94zm-11 1L8.5 8.5l.94-2.06 2.06-.94-2.06-.94L8.5 2.5l-.94 2.06-2.06.94zm10 10l.94 2.06.94-2.06 2.06-.94-2.06-.94-.94-2.06-.94 2.06-2.06.94z\"/><path d=\"M17.41 7.96l-1.37-1.37c-.4-.4-.92-.59-1.43-.59-.52 0-1.04.2-1.43.59L10.3 9.45l-7.72 7.72c-.78.78-.78 2.05 0 2.83L4 21.41c.39.39.9.59 1.41.59.51 0 1.02-.2 1.41-.59l7.78-7.78 2.81-2.81c.8-.78.8-2.07 0-2.86zM5.41 20L4 18.59l7.72-7.72 1.47 1.35L5.41 20z\"/>\n",
              "  </svg>\n",
              "      </button>\n",
              "      \n",
              "  <style>\n",
              "    .colab-df-container {\n",
              "      display:flex;\n",
              "      flex-wrap:wrap;\n",
              "      gap: 12px;\n",
              "    }\n",
              "\n",
              "    .colab-df-convert {\n",
              "      background-color: #E8F0FE;\n",
              "      border: none;\n",
              "      border-radius: 50%;\n",
              "      cursor: pointer;\n",
              "      display: none;\n",
              "      fill: #1967D2;\n",
              "      height: 32px;\n",
              "      padding: 0 0 0 0;\n",
              "      width: 32px;\n",
              "    }\n",
              "\n",
              "    .colab-df-convert:hover {\n",
              "      background-color: #E2EBFA;\n",
              "      box-shadow: 0px 1px 2px rgba(60, 64, 67, 0.3), 0px 1px 3px 1px rgba(60, 64, 67, 0.15);\n",
              "      fill: #174EA6;\n",
              "    }\n",
              "\n",
              "    [theme=dark] .colab-df-convert {\n",
              "      background-color: #3B4455;\n",
              "      fill: #D2E3FC;\n",
              "    }\n",
              "\n",
              "    [theme=dark] .colab-df-convert:hover {\n",
              "      background-color: #434B5C;\n",
              "      box-shadow: 0px 1px 3px 1px rgba(0, 0, 0, 0.15);\n",
              "      filter: drop-shadow(0px 1px 2px rgba(0, 0, 0, 0.3));\n",
              "      fill: #FFFFFF;\n",
              "    }\n",
              "  </style>\n",
              "\n",
              "      <script>\n",
              "        const buttonEl =\n",
              "          document.querySelector('#df-0885ddf4-e2d6-4868-b3fb-8132e0133dc2 button.colab-df-convert');\n",
              "        buttonEl.style.display =\n",
              "          google.colab.kernel.accessAllowed ? 'block' : 'none';\n",
              "\n",
              "        async function convertToInteractive(key) {\n",
              "          const element = document.querySelector('#df-0885ddf4-e2d6-4868-b3fb-8132e0133dc2');\n",
              "          const dataTable =\n",
              "            await google.colab.kernel.invokeFunction('convertToInteractive',\n",
              "                                                     [key], {});\n",
              "          if (!dataTable) return;\n",
              "\n",
              "          const docLinkHtml = 'Like what you see? Visit the ' +\n",
              "            '<a target=\"_blank\" href=https://colab.research.google.com/notebooks/data_table.ipynb>data table notebook</a>'\n",
              "            + ' to learn more about interactive tables.';\n",
              "          element.innerHTML = '';\n",
              "          dataTable['output_type'] = 'display_data';\n",
              "          await google.colab.output.renderOutput(dataTable, element);\n",
              "          const docLink = document.createElement('div');\n",
              "          docLink.innerHTML = docLinkHtml;\n",
              "          element.appendChild(docLink);\n",
              "        }\n",
              "      </script>\n",
              "    </div>\n",
              "  </div>\n",
              "  "
            ]
          },
          "metadata": {},
          "execution_count": 15
        }
      ]
    },
    {
      "cell_type": "code",
      "source": [
        "print('Dataset Info:')\n",
        "print(df.info(),'\\n')\n",
        "\n",
        "print('Dataset Head:')\n",
        "display(df.head())\n",
        "\n",
        "print('\\nDataset Description:')\n",
        "display(df.describe())\n"
      ],
      "metadata": {
        "id": "b3sM9PDn1kDu",
        "colab": {
          "base_uri": "https://localhost:8080/",
          "height": 692
        },
        "outputId": "53b0ae00-57da-4857-d23e-c13a1b4b9d6d"
      },
      "execution_count": 16,
      "outputs": [
        {
          "output_type": "stream",
          "name": "stdout",
          "text": [
            "Dataset Info:\n",
            "<class 'pandas.core.frame.DataFrame'>\n",
            "RangeIndex: 3828 entries, 0 to 3827\n",
            "Data columns (total 3 columns):\n",
            " #   Column     Non-Null Count  Dtype \n",
            "---  ------     --------------  ----- \n",
            " 0   sentences  3828 non-null   object\n",
            " 1   tags       3828 non-null   object\n",
            " 2   docs       3828 non-null   object\n",
            "dtypes: object(3)\n",
            "memory usage: 89.8+ KB\n",
            "None \n",
            "\n",
            "Dataset Head:\n"
          ]
        },
        {
          "output_type": "display_data",
          "data": {
            "text/plain": [
              "                                           sentences  \\\n",
              "0  [Pierre, Vinken, ,, 61, years, old, ,, will, j...   \n",
              "1  [Mr., Vinken, is, chairman, of, Elsevier, N.V....   \n",
              "2  [Rudolph, Agnew, ,, 55, years, old, and, forme...   \n",
              "3  [A, form, of, asbestos, once, used, to, make, ...   \n",
              "4  [The, asbestos, fiber, ,, crocidolite, ,, is, ...   \n",
              "\n",
              "                                                tags         docs  \n",
              "0  [NNP, NNP, ,, CD, NNS, JJ, ,, MD, VB, DT, NN, ...  wsj_0001.dp  \n",
              "1  [NNP, NNP, VBZ, NN, IN, NNP, NNP, ,, DT, NNP, ...  wsj_0001.dp  \n",
              "2  [NNP, NNP, ,, CD, NNS, JJ, CC, JJ, NN, IN, NNP...  wsj_0002.dp  \n",
              "3  [DT, NN, IN, NN, RB, VBN, TO, VB, NNP, NN, NNS...  wsj_0003.dp  \n",
              "4  [DT, NN, NN, ,, NN, ,, VBZ, RB, JJ, IN, PRP, V...  wsj_0003.dp  "
            ],
            "text/html": [
              "\n",
              "  <div id=\"df-6465271f-bd83-4c03-acc9-70843110641e\">\n",
              "    <div class=\"colab-df-container\">\n",
              "      <div>\n",
              "<style scoped>\n",
              "    .dataframe tbody tr th:only-of-type {\n",
              "        vertical-align: middle;\n",
              "    }\n",
              "\n",
              "    .dataframe tbody tr th {\n",
              "        vertical-align: top;\n",
              "    }\n",
              "\n",
              "    .dataframe thead th {\n",
              "        text-align: right;\n",
              "    }\n",
              "</style>\n",
              "<table border=\"1\" class=\"dataframe\">\n",
              "  <thead>\n",
              "    <tr style=\"text-align: right;\">\n",
              "      <th></th>\n",
              "      <th>sentences</th>\n",
              "      <th>tags</th>\n",
              "      <th>docs</th>\n",
              "    </tr>\n",
              "  </thead>\n",
              "  <tbody>\n",
              "    <tr>\n",
              "      <th>0</th>\n",
              "      <td>[Pierre, Vinken, ,, 61, years, old, ,, will, j...</td>\n",
              "      <td>[NNP, NNP, ,, CD, NNS, JJ, ,, MD, VB, DT, NN, ...</td>\n",
              "      <td>wsj_0001.dp</td>\n",
              "    </tr>\n",
              "    <tr>\n",
              "      <th>1</th>\n",
              "      <td>[Mr., Vinken, is, chairman, of, Elsevier, N.V....</td>\n",
              "      <td>[NNP, NNP, VBZ, NN, IN, NNP, NNP, ,, DT, NNP, ...</td>\n",
              "      <td>wsj_0001.dp</td>\n",
              "    </tr>\n",
              "    <tr>\n",
              "      <th>2</th>\n",
              "      <td>[Rudolph, Agnew, ,, 55, years, old, and, forme...</td>\n",
              "      <td>[NNP, NNP, ,, CD, NNS, JJ, CC, JJ, NN, IN, NNP...</td>\n",
              "      <td>wsj_0002.dp</td>\n",
              "    </tr>\n",
              "    <tr>\n",
              "      <th>3</th>\n",
              "      <td>[A, form, of, asbestos, once, used, to, make, ...</td>\n",
              "      <td>[DT, NN, IN, NN, RB, VBN, TO, VB, NNP, NN, NNS...</td>\n",
              "      <td>wsj_0003.dp</td>\n",
              "    </tr>\n",
              "    <tr>\n",
              "      <th>4</th>\n",
              "      <td>[The, asbestos, fiber, ,, crocidolite, ,, is, ...</td>\n",
              "      <td>[DT, NN, NN, ,, NN, ,, VBZ, RB, JJ, IN, PRP, V...</td>\n",
              "      <td>wsj_0003.dp</td>\n",
              "    </tr>\n",
              "  </tbody>\n",
              "</table>\n",
              "</div>\n",
              "      <button class=\"colab-df-convert\" onclick=\"convertToInteractive('df-6465271f-bd83-4c03-acc9-70843110641e')\"\n",
              "              title=\"Convert this dataframe to an interactive table.\"\n",
              "              style=\"display:none;\">\n",
              "        \n",
              "  <svg xmlns=\"http://www.w3.org/2000/svg\" height=\"24px\"viewBox=\"0 0 24 24\"\n",
              "       width=\"24px\">\n",
              "    <path d=\"M0 0h24v24H0V0z\" fill=\"none\"/>\n",
              "    <path d=\"M18.56 5.44l.94 2.06.94-2.06 2.06-.94-2.06-.94-.94-2.06-.94 2.06-2.06.94zm-11 1L8.5 8.5l.94-2.06 2.06-.94-2.06-.94L8.5 2.5l-.94 2.06-2.06.94zm10 10l.94 2.06.94-2.06 2.06-.94-2.06-.94-.94-2.06-.94 2.06-2.06.94z\"/><path d=\"M17.41 7.96l-1.37-1.37c-.4-.4-.92-.59-1.43-.59-.52 0-1.04.2-1.43.59L10.3 9.45l-7.72 7.72c-.78.78-.78 2.05 0 2.83L4 21.41c.39.39.9.59 1.41.59.51 0 1.02-.2 1.41-.59l7.78-7.78 2.81-2.81c.8-.78.8-2.07 0-2.86zM5.41 20L4 18.59l7.72-7.72 1.47 1.35L5.41 20z\"/>\n",
              "  </svg>\n",
              "      </button>\n",
              "      \n",
              "  <style>\n",
              "    .colab-df-container {\n",
              "      display:flex;\n",
              "      flex-wrap:wrap;\n",
              "      gap: 12px;\n",
              "    }\n",
              "\n",
              "    .colab-df-convert {\n",
              "      background-color: #E8F0FE;\n",
              "      border: none;\n",
              "      border-radius: 50%;\n",
              "      cursor: pointer;\n",
              "      display: none;\n",
              "      fill: #1967D2;\n",
              "      height: 32px;\n",
              "      padding: 0 0 0 0;\n",
              "      width: 32px;\n",
              "    }\n",
              "\n",
              "    .colab-df-convert:hover {\n",
              "      background-color: #E2EBFA;\n",
              "      box-shadow: 0px 1px 2px rgba(60, 64, 67, 0.3), 0px 1px 3px 1px rgba(60, 64, 67, 0.15);\n",
              "      fill: #174EA6;\n",
              "    }\n",
              "\n",
              "    [theme=dark] .colab-df-convert {\n",
              "      background-color: #3B4455;\n",
              "      fill: #D2E3FC;\n",
              "    }\n",
              "\n",
              "    [theme=dark] .colab-df-convert:hover {\n",
              "      background-color: #434B5C;\n",
              "      box-shadow: 0px 1px 3px 1px rgba(0, 0, 0, 0.15);\n",
              "      filter: drop-shadow(0px 1px 2px rgba(0, 0, 0, 0.3));\n",
              "      fill: #FFFFFF;\n",
              "    }\n",
              "  </style>\n",
              "\n",
              "      <script>\n",
              "        const buttonEl =\n",
              "          document.querySelector('#df-6465271f-bd83-4c03-acc9-70843110641e button.colab-df-convert');\n",
              "        buttonEl.style.display =\n",
              "          google.colab.kernel.accessAllowed ? 'block' : 'none';\n",
              "\n",
              "        async function convertToInteractive(key) {\n",
              "          const element = document.querySelector('#df-6465271f-bd83-4c03-acc9-70843110641e');\n",
              "          const dataTable =\n",
              "            await google.colab.kernel.invokeFunction('convertToInteractive',\n",
              "                                                     [key], {});\n",
              "          if (!dataTable) return;\n",
              "\n",
              "          const docLinkHtml = 'Like what you see? Visit the ' +\n",
              "            '<a target=\"_blank\" href=https://colab.research.google.com/notebooks/data_table.ipynb>data table notebook</a>'\n",
              "            + ' to learn more about interactive tables.';\n",
              "          element.innerHTML = '';\n",
              "          dataTable['output_type'] = 'display_data';\n",
              "          await google.colab.output.renderOutput(dataTable, element);\n",
              "          const docLink = document.createElement('div');\n",
              "          docLink.innerHTML = docLinkHtml;\n",
              "          element.appendChild(docLink);\n",
              "        }\n",
              "      </script>\n",
              "    </div>\n",
              "  </div>\n",
              "  "
            ]
          },
          "metadata": {}
        },
        {
          "output_type": "stream",
          "name": "stdout",
          "text": [
            "\n",
            "Dataset Description:\n"
          ]
        },
        {
          "output_type": "display_data",
          "data": {
            "text/plain": [
              "                               sentences                    tags         docs\n",
              "count                               3828                    3828         3828\n",
              "unique                              3819                    3795          199\n",
              "top     [Terms, were, n't, disclosed, .]  [NNS, VBD, RB, VBN, .]  wsj_0118.dp\n",
              "freq                                   8                       8          172"
            ],
            "text/html": [
              "\n",
              "  <div id=\"df-7e38ae88-cd26-4c7a-85dd-3cf905ee7a38\">\n",
              "    <div class=\"colab-df-container\">\n",
              "      <div>\n",
              "<style scoped>\n",
              "    .dataframe tbody tr th:only-of-type {\n",
              "        vertical-align: middle;\n",
              "    }\n",
              "\n",
              "    .dataframe tbody tr th {\n",
              "        vertical-align: top;\n",
              "    }\n",
              "\n",
              "    .dataframe thead th {\n",
              "        text-align: right;\n",
              "    }\n",
              "</style>\n",
              "<table border=\"1\" class=\"dataframe\">\n",
              "  <thead>\n",
              "    <tr style=\"text-align: right;\">\n",
              "      <th></th>\n",
              "      <th>sentences</th>\n",
              "      <th>tags</th>\n",
              "      <th>docs</th>\n",
              "    </tr>\n",
              "  </thead>\n",
              "  <tbody>\n",
              "    <tr>\n",
              "      <th>count</th>\n",
              "      <td>3828</td>\n",
              "      <td>3828</td>\n",
              "      <td>3828</td>\n",
              "    </tr>\n",
              "    <tr>\n",
              "      <th>unique</th>\n",
              "      <td>3819</td>\n",
              "      <td>3795</td>\n",
              "      <td>199</td>\n",
              "    </tr>\n",
              "    <tr>\n",
              "      <th>top</th>\n",
              "      <td>[Terms, were, n't, disclosed, .]</td>\n",
              "      <td>[NNS, VBD, RB, VBN, .]</td>\n",
              "      <td>wsj_0118.dp</td>\n",
              "    </tr>\n",
              "    <tr>\n",
              "      <th>freq</th>\n",
              "      <td>8</td>\n",
              "      <td>8</td>\n",
              "      <td>172</td>\n",
              "    </tr>\n",
              "  </tbody>\n",
              "</table>\n",
              "</div>\n",
              "      <button class=\"colab-df-convert\" onclick=\"convertToInteractive('df-7e38ae88-cd26-4c7a-85dd-3cf905ee7a38')\"\n",
              "              title=\"Convert this dataframe to an interactive table.\"\n",
              "              style=\"display:none;\">\n",
              "        \n",
              "  <svg xmlns=\"http://www.w3.org/2000/svg\" height=\"24px\"viewBox=\"0 0 24 24\"\n",
              "       width=\"24px\">\n",
              "    <path d=\"M0 0h24v24H0V0z\" fill=\"none\"/>\n",
              "    <path d=\"M18.56 5.44l.94 2.06.94-2.06 2.06-.94-2.06-.94-.94-2.06-.94 2.06-2.06.94zm-11 1L8.5 8.5l.94-2.06 2.06-.94-2.06-.94L8.5 2.5l-.94 2.06-2.06.94zm10 10l.94 2.06.94-2.06 2.06-.94-2.06-.94-.94-2.06-.94 2.06-2.06.94z\"/><path d=\"M17.41 7.96l-1.37-1.37c-.4-.4-.92-.59-1.43-.59-.52 0-1.04.2-1.43.59L10.3 9.45l-7.72 7.72c-.78.78-.78 2.05 0 2.83L4 21.41c.39.39.9.59 1.41.59.51 0 1.02-.2 1.41-.59l7.78-7.78 2.81-2.81c.8-.78.8-2.07 0-2.86zM5.41 20L4 18.59l7.72-7.72 1.47 1.35L5.41 20z\"/>\n",
              "  </svg>\n",
              "      </button>\n",
              "      \n",
              "  <style>\n",
              "    .colab-df-container {\n",
              "      display:flex;\n",
              "      flex-wrap:wrap;\n",
              "      gap: 12px;\n",
              "    }\n",
              "\n",
              "    .colab-df-convert {\n",
              "      background-color: #E8F0FE;\n",
              "      border: none;\n",
              "      border-radius: 50%;\n",
              "      cursor: pointer;\n",
              "      display: none;\n",
              "      fill: #1967D2;\n",
              "      height: 32px;\n",
              "      padding: 0 0 0 0;\n",
              "      width: 32px;\n",
              "    }\n",
              "\n",
              "    .colab-df-convert:hover {\n",
              "      background-color: #E2EBFA;\n",
              "      box-shadow: 0px 1px 2px rgba(60, 64, 67, 0.3), 0px 1px 3px 1px rgba(60, 64, 67, 0.15);\n",
              "      fill: #174EA6;\n",
              "    }\n",
              "\n",
              "    [theme=dark] .colab-df-convert {\n",
              "      background-color: #3B4455;\n",
              "      fill: #D2E3FC;\n",
              "    }\n",
              "\n",
              "    [theme=dark] .colab-df-convert:hover {\n",
              "      background-color: #434B5C;\n",
              "      box-shadow: 0px 1px 3px 1px rgba(0, 0, 0, 0.15);\n",
              "      filter: drop-shadow(0px 1px 2px rgba(0, 0, 0, 0.3));\n",
              "      fill: #FFFFFF;\n",
              "    }\n",
              "  </style>\n",
              "\n",
              "      <script>\n",
              "        const buttonEl =\n",
              "          document.querySelector('#df-7e38ae88-cd26-4c7a-85dd-3cf905ee7a38 button.colab-df-convert');\n",
              "        buttonEl.style.display =\n",
              "          google.colab.kernel.accessAllowed ? 'block' : 'none';\n",
              "\n",
              "        async function convertToInteractive(key) {\n",
              "          const element = document.querySelector('#df-7e38ae88-cd26-4c7a-85dd-3cf905ee7a38');\n",
              "          const dataTable =\n",
              "            await google.colab.kernel.invokeFunction('convertToInteractive',\n",
              "                                                     [key], {});\n",
              "          if (!dataTable) return;\n",
              "\n",
              "          const docLinkHtml = 'Like what you see? Visit the ' +\n",
              "            '<a target=\"_blank\" href=https://colab.research.google.com/notebooks/data_table.ipynb>data table notebook</a>'\n",
              "            + ' to learn more about interactive tables.';\n",
              "          element.innerHTML = '';\n",
              "          dataTable['output_type'] = 'display_data';\n",
              "          await google.colab.output.renderOutput(dataTable, element);\n",
              "          const docLink = document.createElement('div');\n",
              "          docLink.innerHTML = docLinkHtml;\n",
              "          element.appendChild(docLink);\n",
              "        }\n",
              "      </script>\n",
              "    </div>\n",
              "  </div>\n",
              "  "
            ]
          },
          "metadata": {}
        }
      ]
    },
    {
      "cell_type": "code",
      "source": [
        "# SB - START NEW CODE SECTION\n",
        "\n",
        "import torchtext\n",
        "\n",
        "# Dowload GloVe Vocabulary 6B (It includes sources as Gigaword ( newswire ) consistent with the domain of the Input data (WSJ articles))\n",
        "V1 = torchtext.vocab.GloVe(name='6B', dim=50)"
      ],
      "metadata": {
        "id": "fCsMFJUDXsGg"
      },
      "execution_count": 17,
      "outputs": []
    },
    {
      "cell_type": "code",
      "source": [
        "# SB - CONTINUE NEW CODE SECTION\n",
        "# One hot encoding: the task to the performed by the model is a multi-class classification. \n",
        "# Labels are not encoded assigning integer values to differnt classes, but rather by one hot encoding.\n",
        "\n",
        "# arrays dimensions initialization \n",
        "embedding_dim = 50 # set accordingly to the embedding chosen (GloVe 6B 50d)\n",
        "missing_pos_tag = 1 # assuming to add a single one hot encoding for any POS tag not present in training\n",
        "np.random.seed(42) # setting seed to obtain repeatable random embeddings\n",
        "\n",
        "# dimensions initialization \n",
        "tot_sentence_num = len(df['sentences']) # Total number of sentences\n",
        "tot_sentence_train = cnt_words_train # Total number of training sentences\n",
        "tot_sentence_val = cnt_words_val # Total number of validation sentences\n",
        "tot_sentence_test = cnt_words_test # Total number of test sentences\n",
        "\n",
        "tot_token_num = max(file_len_tags) # Total number of tokens\n",
        "max_sentence_len = max(file_len_sent) # Max sentence length (number of tokens)\n",
        "\n",
        "# One Hot Encoding of POS Tags\n",
        "ohe_df = pd.get_dummies(unique_tags_train) # Get one hot encoding for POS tags in the training dataset\n",
        "ohe_df['UKN'] = [0] * len(unique_tags_train) # Add a column for 'UKN' POS tags\n",
        "\n",
        "ohe = np.zeros((len(unique_tags_train)+1,len(unique_tags_train)+1)) # Create array of same size as encoding from training plus 1 row and 1 column for UKN\n",
        "for i in range(0,len(ohe_df)):\n",
        "  ohe[i] = ohe_df.iloc[i] # copy one hot encoding\n",
        "ohe[(len(unique_tags_train),len(unique_tags_train))] = 1 # Add the encoding for UKN POS tag\n",
        "\n",
        "# Numpy arrays X (token embddings) and Y (One Hot Encoding of POS tag classes) initialization:\n",
        "# X shape: dim 0 (total sentences per dataset), dim 1 (max tokens), dim 2 (features (embedding vectors)) \n",
        "X_train = np.zeros((cnt_sents_train,max_sentence_len,embedding_dim))\n",
        "X_val = np.zeros((cnt_sents_val,max_sentence_len,embedding_dim))\n",
        "X_test = np.zeros((cnt_sents_test,max_sentence_len,embedding_dim))\n",
        "\n",
        "# Y shape: dim 0 (total sentences per dataset), dim 1 (max tokens), dim 2 (One Hot Encoding vectors)) \n",
        "Y_train = np.zeros((cnt_sents_train,max_sentence_len,ohe.shape[1]))\n",
        "Y_val = np.zeros((cnt_sents_val,max_sentence_len,ohe.shape[1]))\n",
        "Y_test = np.zeros((cnt_sents_test,max_sentence_len,ohe.shape[1]))\n",
        "\n",
        "# Out of Vocabulary initialization\n",
        "OOV1 = {}\n",
        "OOV2 = {}\n",
        "OOV3 = {}\n",
        "\n",
        "# X and Y arrays update retriving token/tag pairs from df dataframe and retriving embedding and one hot encoding vectors\n",
        "for index,row in df.iterrows(): # Iterate over the sentences in df dataframe and update X with the token embedding vector and Y with the class one hot encoding\n",
        "\n",
        "    # Training\n",
        "    # The model will be trained on X_train and Y_train containing V1 and OOV1 embeddings (V2) and one hot encodings found in training\n",
        "    if ((row['docs'].startswith(\"wsj_00\")) or (row['docs'] == \"wsj_0100.dp\")):\n",
        "      for i in range(0,len(row['sentences'])): # Iterate over the words of the fetched sentence \n",
        "\n",
        "        # Embedding from V1 (GloVe Voc. 6B), if not found generate a new random embedding and add it to OOV1. V1+OOV1 = V2\n",
        "        embedding_vector = V1.get_vecs_by_tokens(row['sentences'][i]) # Fetch pretrained embedding vector from GloVe\n",
        "        a = np.count_nonzero(embedding_vector)\n",
        "        if a != 0: # Embedding found \n",
        "          X_train[index,i,:] = embedding_vector\n",
        "        elif row['sentences'][i] in OOV1.keys(): # No embedding found in Vocabulary but embedding already generated as OOV token\n",
        "          X_train[index,i,:] = OOV1[row['sentences'][i]]\n",
        "        else: # No embedding found neither in Vocabulary nor in OOV1: generate a new embedding and update OOV\n",
        "          X_train[index,i,:] = np.random.rand((embedding_dim)) # Embedding with random vector\n",
        "          #X_train[index,i,:] = np.ones((embedding_dim)) # Embedding for fixed UKN placeholder\n",
        "          OOV1[row['sentences'][i]] = X_train[index,i,:]\n",
        "        # One Hot Encoding vector fetch and Y_train update\n",
        "        if (row['tags'][i]) in unique_tags_train:\n",
        "          ohe_idx = unique_tags_train.index(row['tags'][i]) \n",
        "          Y_train[index,i,:] = ohe[ohe_idx]\n",
        "        else: # No One Hot Encoding vector found\n",
        "          Y_train[index,i,:] = np.zeros((ohe.shape[1])) # One Hot Encoding for fixed UKN placeholder.\n",
        "    \n",
        "    # Validation\n",
        "    # The model will be validated on X_val and Y_val containing V1+OOV1+OOV2 embeddings (V3) and POS tag one hot encodings found in training (plus placeholder if not found)\n",
        "    elif ((row['docs'] != \"wsj_0100.dp\") and (row['docs'].startswith(\"wsj_010\") or row['docs'].startswith(\"wsj_011\") or row['docs'].startswith(\"wsj_012\") or row['docs'].startswith(\"wsj_013\") or row['docs'].startswith(\"wsj_014\") or row['docs'].startswith(\"wsj_0150\"))): \n",
        "\n",
        "      if (row['docs'] == \"wsj_0101.dp\"): # First sentence of validation set \n",
        "        OOV2 = OOV1 # initialize OVV2 with embeddings already generate in OOV1\n",
        "        idx_t = index # offset to start array index from 0\n",
        "      idx = index - idx_t\n",
        "\n",
        "      for i in range(0,len(row['sentences'])): # Iterate over the words of the fetched sentence \n",
        "\n",
        "        # Embedding from V1+OVV1 (V2), if not found generate a new random embedding and add it to OOV2. V1+OOV1+OOV2 = V3\n",
        "        embedding_vector = V1.get_vecs_by_tokens(row['sentences'][i]) # Fetch pretrained embedding vector from GloVe\n",
        "        a = np.count_nonzero(embedding_vector)\n",
        "        if a != 0: # Embedding found \n",
        "          X_val[idx,i,:] = embedding_vector\n",
        "        elif row['sentences'][i] in OOV2.keys(): # No embedding found in Vocabulary but embedding already generated as OOV2 token\n",
        "          X_val[idx,i,:] = OOV2[row['sentences'][i]]\n",
        "        else: # No embedding found neither in Vocabulary nor in OOV1: generate a new embedding and update OOV\n",
        "          X_val[idx,i,:] = np.random.rand((embedding_dim)) # Embedding with random vector\n",
        "          OOV2[row['sentences'][i]] = X_val[idx,i,:]\n",
        "          #X_val[idx,i,:] = np.ones((embedding_dim)) # Embedding for fixed UKN placeholder, it can be changed to random array\n",
        "\n",
        "        # One Hot Encoding vector fetch and Y_train update\n",
        "        if (row['tags'][i]) in unique_tags_train:\n",
        "          ohe_idx = unique_tags_train.index(row['tags'][i]) # always considered vs. training ohe hot encodings\n",
        "          Y_val[idx,i,:] = ohe[ohe_idx]\n",
        "        else: # No One Hot Encoding vector found\n",
        "          Y_val[idx,i,:] = np.zeros((ohe.shape[1])) # One Hot Encoding for fixed UKN placeholder.\n",
        "\n",
        "    # Test \n",
        "    # The model will be tested on X_test and Y_test containing V1+OOV1+OOV2+OOV3 embeddings (V4) and POS tag one hot encodings found in training (plus placeholder if not found)\n",
        "    elif ((row['docs'] != \"wsj_0150.dp\") and (row['docs'].startswith(\"wsj_015\") or row['docs'].startswith(\"wsj_016\") or row['docs'].startswith(\"wsj_017\") or row['docs'].startswith(\"wsj_018\") or row['docs'].startswith(\"wsj_019\"))): \n",
        "\n",
        "      if (row['docs'] == \"wsj_0151.dp\"): # First sentence of test set \n",
        "        OOV3 = OOV2 # initialize OVV3 with embeddings already generated in OOV2\n",
        "        idx_v = index # offset to start array index from 0\n",
        "      idx = index - idx_v\n",
        "\n",
        "      for i in range(0,len(row['sentences'])): # Iterate over the words of the fetched sentence \n",
        "\n",
        "        # Embedding from V1+OVV1+OOV2 (V3), if not found generate a new random embedding and add it to OOV3. V1+OOV1+OOV2+OOV3 = V4\n",
        "        embedding_vector = V1.get_vecs_by_tokens(row['sentences'][i]) # Fetch pretrained embedding vector from GloVe\n",
        "        a = np.count_nonzero(embedding_vector)\n",
        "        if a != 0: # Embedding found \n",
        "          X_test[idx,i,:] = embedding_vector\n",
        "        elif row['sentences'][i] in OOV3.keys(): # No embedding found in Vocabulary but embedding already generated as OOV2 token\n",
        "          X_test[idx,i,:] = OOV3[row['sentences'][i]]\n",
        "        else: # No embedding found neither in Vocabulary nor in OOV1: generate a new embedding and update OOV\n",
        "          X_test[idx,i,:] = np.random.rand((embedding_dim)) # Embedding with random vector\n",
        "          OOV3[row['sentences'][i]] = X_test[idx,i,:]\n",
        "          #X_val[idx,i,:] = np.ones((embedding_dim)) # Embedding for fixed UKN placeholder, it can be changed to random array\n",
        "\n",
        "        # One Hot Encoding vector fetch and Y_train update\n",
        "        if (row['tags'][i]) in unique_tags_train:\n",
        "          ohe_idx = unique_tags_train.index(row['tags'][i]) \n",
        "          Y_test[idx,i,:] = ohe[ohe_idx]\n",
        "        else: # No One Hot Encoding vector found\n",
        "          Y_test[idx,i,:] = np.zeros((ohe.shape[1])) # One Hot Encoding for fixed UKN placeholder.\n",
        "         \n"
      ],
      "metadata": {
        "id": "RmNSeW-GKkHJ"
      },
      "execution_count": 18,
      "outputs": []
    },
    {
      "cell_type": "code",
      "source": [
        "# SB - SOME UNIT CHECKS\n",
        "# 'Pierre' is an OOV1 word. Its emebedding should be added in training with a Random vector\n",
        "print(OOV1['Pierre'])\n",
        "\n",
        "# 'Pierre' is the first word of the first sentence.\n",
        "print(X_train[0,0])\n",
        "\n",
        "# Execute notebook more than once and check embedding repeatability."
      ],
      "metadata": {
        "colab": {
          "base_uri": "https://localhost:8080/"
        },
        "id": "RmUbbE5HNC9V",
        "outputId": "ac21ed06-320e-4e11-c887-67e533aae3e3"
      },
      "execution_count": 19,
      "outputs": [
        {
          "output_type": "stream",
          "name": "stdout",
          "text": [
            "[0.37454012 0.95071431 0.73199394 0.59865848 0.15601864 0.15599452\n",
            " 0.05808361 0.86617615 0.60111501 0.70807258 0.02058449 0.96990985\n",
            " 0.83244264 0.21233911 0.18182497 0.18340451 0.30424224 0.52475643\n",
            " 0.43194502 0.29122914 0.61185289 0.13949386 0.29214465 0.36636184\n",
            " 0.45606998 0.78517596 0.19967378 0.51423444 0.59241457 0.04645041\n",
            " 0.60754485 0.17052412 0.06505159 0.94888554 0.96563203 0.80839735\n",
            " 0.30461377 0.09767211 0.68423303 0.44015249 0.12203823 0.49517691\n",
            " 0.03438852 0.9093204  0.25877998 0.66252228 0.31171108 0.52006802\n",
            " 0.54671028 0.18485446]\n",
            "[0.37454012 0.95071431 0.73199394 0.59865848 0.15601864 0.15599452\n",
            " 0.05808361 0.86617615 0.60111501 0.70807258 0.02058449 0.96990985\n",
            " 0.83244264 0.21233911 0.18182497 0.18340451 0.30424224 0.52475643\n",
            " 0.43194502 0.29122914 0.61185289 0.13949386 0.29214465 0.36636184\n",
            " 0.45606998 0.78517596 0.19967378 0.51423444 0.59241457 0.04645041\n",
            " 0.60754485 0.17052412 0.06505159 0.94888554 0.96563203 0.80839735\n",
            " 0.30461377 0.09767211 0.68423303 0.44015249 0.12203823 0.49517691\n",
            " 0.03438852 0.9093204  0.25877998 0.66252228 0.31171108 0.52006802\n",
            " 0.54671028 0.18485446]\n"
          ]
        }
      ]
    },
    {
      "cell_type": "code",
      "source": [
        "# Vinken is an OOV1 word. File wsj_0001.dp, second word of the first sentence and second word of the second sentence \n",
        "print(OOV1['Vinken'])\n",
        "print(X_train[0,1])\n",
        "print(X_train[1,1])"
      ],
      "metadata": {
        "colab": {
          "base_uri": "https://localhost:8080/"
        },
        "id": "d6qCptKOPYoP",
        "outputId": "317cd305-862a-4749-ac40-1d38a8d8eda8"
      },
      "execution_count": 23,
      "outputs": [
        {
          "output_type": "stream",
          "name": "stdout",
          "text": [
            "[0.96958463 0.77513282 0.93949894 0.89482735 0.59789998 0.92187424\n",
            " 0.0884925  0.19598286 0.04522729 0.32533033 0.38867729 0.27134903\n",
            " 0.82873751 0.35675333 0.28093451 0.54269608 0.14092422 0.80219698\n",
            " 0.07455064 0.98688694 0.77224477 0.19871568 0.00552212 0.81546143\n",
            " 0.70685734 0.72900717 0.77127035 0.07404465 0.35846573 0.11586906\n",
            " 0.86310343 0.62329813 0.33089802 0.06355835 0.31098232 0.32518332\n",
            " 0.72960618 0.63755747 0.88721274 0.47221493 0.11959425 0.71324479\n",
            " 0.76078505 0.5612772  0.77096718 0.4937956  0.52273283 0.42754102\n",
            " 0.02541913 0.10789143]\n",
            "[0.96958463 0.77513282 0.93949894 0.89482735 0.59789998 0.92187424\n",
            " 0.0884925  0.19598286 0.04522729 0.32533033 0.38867729 0.27134903\n",
            " 0.82873751 0.35675333 0.28093451 0.54269608 0.14092422 0.80219698\n",
            " 0.07455064 0.98688694 0.77224477 0.19871568 0.00552212 0.81546143\n",
            " 0.70685734 0.72900717 0.77127035 0.07404465 0.35846573 0.11586906\n",
            " 0.86310343 0.62329813 0.33089802 0.06355835 0.31098232 0.32518332\n",
            " 0.72960618 0.63755747 0.88721274 0.47221493 0.11959425 0.71324479\n",
            " 0.76078505 0.5612772  0.77096718 0.4937956  0.52273283 0.42754102\n",
            " 0.02541913 0.10789143]\n",
            "[0.96958463 0.77513282 0.93949894 0.89482735 0.59789998 0.92187424\n",
            " 0.0884925  0.19598286 0.04522729 0.32533033 0.38867729 0.27134903\n",
            " 0.82873751 0.35675333 0.28093451 0.54269608 0.14092422 0.80219698\n",
            " 0.07455064 0.98688694 0.77224477 0.19871568 0.00552212 0.81546143\n",
            " 0.70685734 0.72900717 0.77127035 0.07404465 0.35846573 0.11586906\n",
            " 0.86310343 0.62329813 0.33089802 0.06355835 0.31098232 0.32518332\n",
            " 0.72960618 0.63755747 0.88721274 0.47221493 0.11959425 0.71324479\n",
            " 0.76078505 0.5612772  0.77096718 0.4937956  0.52273283 0.42754102\n",
            " 0.02541913 0.10789143]\n"
          ]
        }
      ]
    },
    {
      "cell_type": "code",
      "source": [
        "# SB More samples. Please note more testing is required.\n",
        "print(X_val[100,2])\n",
        "print(Y_val[100,2])\n",
        "print(X_test[20,10])\n",
        "print(Y_test[20,10])"
      ],
      "metadata": {
        "colab": {
          "base_uri": "https://localhost:8080/"
        },
        "id": "GPfNbeD4Od0C",
        "outputId": "fdd9d221-d030-4efc-e4ad-ff8591e63137"
      },
      "execution_count": 21,
      "outputs": [
        {
          "output_type": "stream",
          "name": "stdout",
          "text": [
            "[ 0.68046999 -0.039263    0.30186    -0.17792     0.42962     0.032246\n",
            " -0.41376001  0.13228001 -0.29846999 -0.085253    0.17117999  0.22419\n",
            " -0.10046    -0.43652999  0.33418     0.67846     0.057204   -0.34448001\n",
            " -0.42785001 -0.43274999  0.55962998  0.10032     0.18677001 -0.26853999\n",
            "  0.037334   -2.09319997  0.22171    -0.39868     0.20912001 -0.55725002\n",
            "  3.88260007  0.47466001 -0.95657998 -0.37788001  0.20869    -0.32752001\n",
            "  0.12751     0.088359    0.16350999 -0.21634001 -0.094375    0.018324\n",
            "  0.21048    -0.03088    -0.19722     0.082279   -0.09434    -0.073297\n",
            " -0.064699   -0.26043999]\n",
            "[0. 0. 0. 0. 0. 0. 0. 0. 0. 0. 0. 0. 0. 0. 0. 0. 0. 0. 0. 0. 0. 0. 0. 0.\n",
            " 0. 0. 0. 0. 0. 0. 0. 0. 1. 0. 0. 0. 0. 0. 0. 0. 0. 0. 0. 0. 0. 0.]\n",
            "[ 4.18000013e-01  2.49679998e-01 -4.12420005e-01  1.21699996e-01\n",
            "  3.45270008e-01 -4.44569997e-02 -4.96879995e-01 -1.78619996e-01\n",
            " -6.60229998e-04 -6.56599998e-01  2.78430015e-01 -1.47670001e-01\n",
            " -5.56770027e-01  1.46579996e-01 -9.50950012e-03  1.16579998e-02\n",
            "  1.02040000e-01 -1.27920002e-01 -8.44299972e-01 -1.21809997e-01\n",
            " -1.68009996e-02 -3.32789987e-01 -1.55200005e-01 -2.31309995e-01\n",
            " -1.91809997e-01 -1.88230002e+00 -7.67459989e-01  9.90509987e-02\n",
            " -4.21249986e-01 -1.95260003e-01  4.00710011e+00 -1.85939997e-01\n",
            " -5.22870004e-01 -3.16810012e-01  5.92130003e-04  7.44489999e-03\n",
            "  1.77780002e-01 -1.58969998e-01  1.20409997e-02 -5.42230010e-02\n",
            " -2.98709989e-01 -1.57490000e-01 -3.47579986e-01 -4.56370004e-02\n",
            " -4.42510009e-01  1.87849998e-01  2.78489990e-03 -1.84110001e-01\n",
            " -1.15139998e-01 -7.85809994e-01]\n",
            "[0. 0. 0. 0. 0. 0. 0. 0. 0. 0. 1. 0. 0. 0. 0. 0. 0. 0. 0. 0. 0. 0. 0. 0.\n",
            " 0. 0. 0. 0. 0. 0. 0. 0. 0. 0. 0. 0. 0. 0. 0. 0. 0. 0. 0. 0. 0. 0.]\n"
          ]
        }
      ]
    }
  ]
}