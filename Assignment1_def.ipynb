{
  "cells": [
    {
      "cell_type": "markdown",
      "metadata": {
        "id": "view-in-github",
        "colab_type": "text"
      },
      "source": [
        "<a href=\"https://colab.research.google.com/github/MScaramuzzi/A1-RNNs-for-Sequence-Labeling/blob/main/Assignment1_def.ipynb\" target=\"_parent\"><img src=\"https://colab.research.google.com/assets/colab-badge.svg\" alt=\"Open In Colab\"/></a>"
      ]
    },
    {
      "cell_type": "markdown",
      "metadata": {
        "id": "05M2wh8VfEZb"
      },
      "source": [
        "# Assignment 1\n",
        "\n",
        "**Due to**: 11/01/2022 (dd/mm/yyyy)\n",
        "\n",
        "**Credits**: Andrea Galassi, Federico Ruggeri, Paolo Torroni\n",
        "\n",
        "**Summary**: Part-of Speech (POS) tagging as Sequence Labelling using Recurrent Neural Architectures"
      ]
    },
    {
      "cell_type": "markdown",
      "metadata": {
        "id": "XGZkN2WkX4Cn"
      },
      "source": [
        "**Authors**:\n",
        "\n",
        "* Sergio Barezzani: sergio.barezzani@studio.unibo.it\n",
        "* Giuseppe Morgese: giuseppe.morgese2@studio.unibo.it\n",
        "* Marco Scaramuzzi: marco.scaramuzzi@studio.unibo.it"
      ]
    },
    {
      "cell_type": "markdown",
      "metadata": {
        "id": "dyQDqTvLeE4-"
      },
      "source": [
        "**Task**: given a corpus of documents, predict the POS tag for each word\n",
        "\n",
        "**Corpus**: Ignore the numeric value in the third column, use only the words/symbols and its label. The corpus is available at: https://raw.githubusercontent.com/nltk/nltk_data/gh-pages/packages/corpora/dependency_treebank.zip"
      ]
    },
    {
      "cell_type": "markdown",
      "metadata": {
        "id": "KOl_9vkgdNpD"
      },
      "source": [
        "## Primari\n",
        "\n",
        "3. Evaluation\n",
        "* History veloce\n",
        "* Exclude padding from accuracy \n",
        "* F1 score confusion matrix\n",
        "\n",
        "## Secondari\n",
        "* Better embedding \n",
        "* Plot migliori\n",
        "\n",
        "\n",
        "\n"
      ]
    },
    {
      "cell_type": "markdown",
      "metadata": {
        "id": "R6nuwKkoJyrC"
      },
      "source": [
        "Importing and installing useful libraries"
      ]
    },
    {
      "cell_type": "code",
      "execution_count": 1,
      "metadata": {
        "colab": {
          "base_uri": "https://localhost:8080/"
        },
        "id": "YzUyHkgSJ-B4",
        "outputId": "76b0327e-7972-4fe7-8d95-7c732264dcec"
      },
      "outputs": [
        {
          "output_type": "stream",
          "name": "stdout",
          "text": [
            "Looking in indexes: https://pypi.org/simple, https://us-python.pkg.dev/colab-wheels/public/simple/\n",
            "Collecting keras_tuner\n",
            "  Downloading keras_tuner-1.1.3-py3-none-any.whl (135 kB)\n",
            "\u001b[K     |████████████████████████████████| 135 kB 20.9 MB/s \n",
            "\u001b[?25hRequirement already satisfied: numpy in /usr/local/lib/python3.8/dist-packages (from keras_tuner) (1.21.6)\n",
            "Requirement already satisfied: tensorboard in /usr/local/lib/python3.8/dist-packages (from keras_tuner) (2.9.1)\n",
            "Requirement already satisfied: requests in /usr/local/lib/python3.8/dist-packages (from keras_tuner) (2.23.0)\n",
            "Requirement already satisfied: packaging in /usr/local/lib/python3.8/dist-packages (from keras_tuner) (21.3)\n",
            "Collecting kt-legacy\n",
            "  Downloading kt_legacy-1.0.4-py3-none-any.whl (9.6 kB)\n",
            "Requirement already satisfied: ipython in /usr/local/lib/python3.8/dist-packages (from keras_tuner) (7.9.0)\n",
            "Requirement already satisfied: pickleshare in /usr/local/lib/python3.8/dist-packages (from ipython->keras_tuner) (0.7.5)\n",
            "Requirement already satisfied: prompt-toolkit<2.1.0,>=2.0.0 in /usr/local/lib/python3.8/dist-packages (from ipython->keras_tuner) (2.0.10)\n",
            "Requirement already satisfied: traitlets>=4.2 in /usr/local/lib/python3.8/dist-packages (from ipython->keras_tuner) (5.7.1)\n",
            "Requirement already satisfied: setuptools>=18.5 in /usr/local/lib/python3.8/dist-packages (from ipython->keras_tuner) (57.4.0)\n",
            "Requirement already satisfied: pygments in /usr/local/lib/python3.8/dist-packages (from ipython->keras_tuner) (2.6.1)\n",
            "Collecting jedi>=0.10\n",
            "  Downloading jedi-0.18.2-py2.py3-none-any.whl (1.6 MB)\n",
            "\u001b[K     |████████████████████████████████| 1.6 MB 62.1 MB/s \n",
            "\u001b[?25hRequirement already satisfied: decorator in /usr/local/lib/python3.8/dist-packages (from ipython->keras_tuner) (4.4.2)\n",
            "Requirement already satisfied: backcall in /usr/local/lib/python3.8/dist-packages (from ipython->keras_tuner) (0.2.0)\n",
            "Requirement already satisfied: pexpect in /usr/local/lib/python3.8/dist-packages (from ipython->keras_tuner) (4.8.0)\n",
            "Requirement already satisfied: parso<0.9.0,>=0.8.0 in /usr/local/lib/python3.8/dist-packages (from jedi>=0.10->ipython->keras_tuner) (0.8.3)\n",
            "Requirement already satisfied: six>=1.9.0 in /usr/local/lib/python3.8/dist-packages (from prompt-toolkit<2.1.0,>=2.0.0->ipython->keras_tuner) (1.15.0)\n",
            "Requirement already satisfied: wcwidth in /usr/local/lib/python3.8/dist-packages (from prompt-toolkit<2.1.0,>=2.0.0->ipython->keras_tuner) (0.2.5)\n",
            "Requirement already satisfied: pyparsing!=3.0.5,>=2.0.2 in /usr/local/lib/python3.8/dist-packages (from packaging->keras_tuner) (3.0.9)\n",
            "Requirement already satisfied: ptyprocess>=0.5 in /usr/local/lib/python3.8/dist-packages (from pexpect->ipython->keras_tuner) (0.7.0)\n",
            "Requirement already satisfied: certifi>=2017.4.17 in /usr/local/lib/python3.8/dist-packages (from requests->keras_tuner) (2022.12.7)\n",
            "Requirement already satisfied: urllib3!=1.25.0,!=1.25.1,<1.26,>=1.21.1 in /usr/local/lib/python3.8/dist-packages (from requests->keras_tuner) (1.24.3)\n",
            "Requirement already satisfied: chardet<4,>=3.0.2 in /usr/local/lib/python3.8/dist-packages (from requests->keras_tuner) (3.0.4)\n",
            "Requirement already satisfied: idna<3,>=2.5 in /usr/local/lib/python3.8/dist-packages (from requests->keras_tuner) (2.10)\n",
            "Requirement already satisfied: protobuf<3.20,>=3.9.2 in /usr/local/lib/python3.8/dist-packages (from tensorboard->keras_tuner) (3.19.6)\n",
            "Requirement already satisfied: tensorboard-plugin-wit>=1.6.0 in /usr/local/lib/python3.8/dist-packages (from tensorboard->keras_tuner) (1.8.1)\n",
            "Requirement already satisfied: markdown>=2.6.8 in /usr/local/lib/python3.8/dist-packages (from tensorboard->keras_tuner) (3.4.1)\n",
            "Requirement already satisfied: google-auth<3,>=1.6.3 in /usr/local/lib/python3.8/dist-packages (from tensorboard->keras_tuner) (2.15.0)\n",
            "Requirement already satisfied: google-auth-oauthlib<0.5,>=0.4.1 in /usr/local/lib/python3.8/dist-packages (from tensorboard->keras_tuner) (0.4.6)\n",
            "Requirement already satisfied: werkzeug>=1.0.1 in /usr/local/lib/python3.8/dist-packages (from tensorboard->keras_tuner) (1.0.1)\n",
            "Requirement already satisfied: grpcio>=1.24.3 in /usr/local/lib/python3.8/dist-packages (from tensorboard->keras_tuner) (1.51.1)\n",
            "Requirement already satisfied: wheel>=0.26 in /usr/local/lib/python3.8/dist-packages (from tensorboard->keras_tuner) (0.38.4)\n",
            "Requirement already satisfied: tensorboard-data-server<0.7.0,>=0.6.0 in /usr/local/lib/python3.8/dist-packages (from tensorboard->keras_tuner) (0.6.1)\n",
            "Requirement already satisfied: absl-py>=0.4 in /usr/local/lib/python3.8/dist-packages (from tensorboard->keras_tuner) (1.3.0)\n",
            "Requirement already satisfied: cachetools<6.0,>=2.0.0 in /usr/local/lib/python3.8/dist-packages (from google-auth<3,>=1.6.3->tensorboard->keras_tuner) (5.2.0)\n",
            "Requirement already satisfied: pyasn1-modules>=0.2.1 in /usr/local/lib/python3.8/dist-packages (from google-auth<3,>=1.6.3->tensorboard->keras_tuner) (0.2.8)\n",
            "Requirement already satisfied: rsa<5,>=3.1.4 in /usr/local/lib/python3.8/dist-packages (from google-auth<3,>=1.6.3->tensorboard->keras_tuner) (4.9)\n",
            "Requirement already satisfied: requests-oauthlib>=0.7.0 in /usr/local/lib/python3.8/dist-packages (from google-auth-oauthlib<0.5,>=0.4.1->tensorboard->keras_tuner) (1.3.1)\n",
            "Requirement already satisfied: importlib-metadata>=4.4 in /usr/local/lib/python3.8/dist-packages (from markdown>=2.6.8->tensorboard->keras_tuner) (5.1.0)\n",
            "Requirement already satisfied: zipp>=0.5 in /usr/local/lib/python3.8/dist-packages (from importlib-metadata>=4.4->markdown>=2.6.8->tensorboard->keras_tuner) (3.11.0)\n",
            "Requirement already satisfied: pyasn1<0.5.0,>=0.4.6 in /usr/local/lib/python3.8/dist-packages (from pyasn1-modules>=0.2.1->google-auth<3,>=1.6.3->tensorboard->keras_tuner) (0.4.8)\n",
            "Requirement already satisfied: oauthlib>=3.0.0 in /usr/local/lib/python3.8/dist-packages (from requests-oauthlib>=0.7.0->google-auth-oauthlib<0.5,>=0.4.1->tensorboard->keras_tuner) (3.2.2)\n",
            "Installing collected packages: jedi, kt-legacy, keras-tuner\n",
            "Successfully installed jedi-0.18.2 keras-tuner-1.1.3 kt-legacy-1.0.4\n",
            "Looking in indexes: https://pypi.org/simple, https://us-python.pkg.dev/colab-wheels/public/simple/\n",
            "Requirement already satisfied: keras-tuner in /usr/local/lib/python3.8/dist-packages (1.1.3)\n",
            "Collecting tensorflow-addons\n",
            "  Downloading tensorflow_addons-0.19.0-cp38-cp38-manylinux_2_17_x86_64.manylinux2014_x86_64.whl (1.1 MB)\n",
            "\u001b[K     |████████████████████████████████| 1.1 MB 34.1 MB/s \n",
            "\u001b[?25hRequirement already satisfied: packaging in /usr/local/lib/python3.8/dist-packages (from keras-tuner) (21.3)\n",
            "Requirement already satisfied: numpy in /usr/local/lib/python3.8/dist-packages (from keras-tuner) (1.21.6)\n",
            "Requirement already satisfied: tensorboard in /usr/local/lib/python3.8/dist-packages (from keras-tuner) (2.9.1)\n",
            "Requirement already satisfied: requests in /usr/local/lib/python3.8/dist-packages (from keras-tuner) (2.23.0)\n",
            "Requirement already satisfied: kt-legacy in /usr/local/lib/python3.8/dist-packages (from keras-tuner) (1.0.4)\n",
            "Requirement already satisfied: ipython in /usr/local/lib/python3.8/dist-packages (from keras-tuner) (7.9.0)\n",
            "Requirement already satisfied: typeguard>=2.7 in /usr/local/lib/python3.8/dist-packages (from tensorflow-addons) (2.7.1)\n",
            "Requirement already satisfied: prompt-toolkit<2.1.0,>=2.0.0 in /usr/local/lib/python3.8/dist-packages (from ipython->keras-tuner) (2.0.10)\n",
            "Requirement already satisfied: backcall in /usr/local/lib/python3.8/dist-packages (from ipython->keras-tuner) (0.2.0)\n",
            "Requirement already satisfied: traitlets>=4.2 in /usr/local/lib/python3.8/dist-packages (from ipython->keras-tuner) (5.7.1)\n",
            "Requirement already satisfied: pygments in /usr/local/lib/python3.8/dist-packages (from ipython->keras-tuner) (2.6.1)\n",
            "Requirement already satisfied: pickleshare in /usr/local/lib/python3.8/dist-packages (from ipython->keras-tuner) (0.7.5)\n",
            "Requirement already satisfied: setuptools>=18.5 in /usr/local/lib/python3.8/dist-packages (from ipython->keras-tuner) (57.4.0)\n",
            "Requirement already satisfied: pexpect in /usr/local/lib/python3.8/dist-packages (from ipython->keras-tuner) (4.8.0)\n",
            "Requirement already satisfied: jedi>=0.10 in /usr/local/lib/python3.8/dist-packages (from ipython->keras-tuner) (0.18.2)\n",
            "Requirement already satisfied: decorator in /usr/local/lib/python3.8/dist-packages (from ipython->keras-tuner) (4.4.2)\n",
            "Requirement already satisfied: parso<0.9.0,>=0.8.0 in /usr/local/lib/python3.8/dist-packages (from jedi>=0.10->ipython->keras-tuner) (0.8.3)\n",
            "Requirement already satisfied: six>=1.9.0 in /usr/local/lib/python3.8/dist-packages (from prompt-toolkit<2.1.0,>=2.0.0->ipython->keras-tuner) (1.15.0)\n",
            "Requirement already satisfied: wcwidth in /usr/local/lib/python3.8/dist-packages (from prompt-toolkit<2.1.0,>=2.0.0->ipython->keras-tuner) (0.2.5)\n",
            "Requirement already satisfied: pyparsing!=3.0.5,>=2.0.2 in /usr/local/lib/python3.8/dist-packages (from packaging->keras-tuner) (3.0.9)\n",
            "Requirement already satisfied: ptyprocess>=0.5 in /usr/local/lib/python3.8/dist-packages (from pexpect->ipython->keras-tuner) (0.7.0)\n",
            "Requirement already satisfied: certifi>=2017.4.17 in /usr/local/lib/python3.8/dist-packages (from requests->keras-tuner) (2022.12.7)\n",
            "Requirement already satisfied: chardet<4,>=3.0.2 in /usr/local/lib/python3.8/dist-packages (from requests->keras-tuner) (3.0.4)\n",
            "Requirement already satisfied: urllib3!=1.25.0,!=1.25.1,<1.26,>=1.21.1 in /usr/local/lib/python3.8/dist-packages (from requests->keras-tuner) (1.24.3)\n",
            "Requirement already satisfied: idna<3,>=2.5 in /usr/local/lib/python3.8/dist-packages (from requests->keras-tuner) (2.10)\n",
            "Requirement already satisfied: google-auth-oauthlib<0.5,>=0.4.1 in /usr/local/lib/python3.8/dist-packages (from tensorboard->keras-tuner) (0.4.6)\n",
            "Requirement already satisfied: tensorboard-data-server<0.7.0,>=0.6.0 in /usr/local/lib/python3.8/dist-packages (from tensorboard->keras-tuner) (0.6.1)\n",
            "Requirement already satisfied: werkzeug>=1.0.1 in /usr/local/lib/python3.8/dist-packages (from tensorboard->keras-tuner) (1.0.1)\n",
            "Requirement already satisfied: protobuf<3.20,>=3.9.2 in /usr/local/lib/python3.8/dist-packages (from tensorboard->keras-tuner) (3.19.6)\n",
            "Requirement already satisfied: wheel>=0.26 in /usr/local/lib/python3.8/dist-packages (from tensorboard->keras-tuner) (0.38.4)\n",
            "Requirement already satisfied: tensorboard-plugin-wit>=1.6.0 in /usr/local/lib/python3.8/dist-packages (from tensorboard->keras-tuner) (1.8.1)\n",
            "Requirement already satisfied: absl-py>=0.4 in /usr/local/lib/python3.8/dist-packages (from tensorboard->keras-tuner) (1.3.0)\n",
            "Requirement already satisfied: grpcio>=1.24.3 in /usr/local/lib/python3.8/dist-packages (from tensorboard->keras-tuner) (1.51.1)\n",
            "Requirement already satisfied: markdown>=2.6.8 in /usr/local/lib/python3.8/dist-packages (from tensorboard->keras-tuner) (3.4.1)\n",
            "Requirement already satisfied: google-auth<3,>=1.6.3 in /usr/local/lib/python3.8/dist-packages (from tensorboard->keras-tuner) (2.15.0)\n",
            "Requirement already satisfied: cachetools<6.0,>=2.0.0 in /usr/local/lib/python3.8/dist-packages (from google-auth<3,>=1.6.3->tensorboard->keras-tuner) (5.2.0)\n",
            "Requirement already satisfied: pyasn1-modules>=0.2.1 in /usr/local/lib/python3.8/dist-packages (from google-auth<3,>=1.6.3->tensorboard->keras-tuner) (0.2.8)\n",
            "Requirement already satisfied: rsa<5,>=3.1.4 in /usr/local/lib/python3.8/dist-packages (from google-auth<3,>=1.6.3->tensorboard->keras-tuner) (4.9)\n",
            "Requirement already satisfied: requests-oauthlib>=0.7.0 in /usr/local/lib/python3.8/dist-packages (from google-auth-oauthlib<0.5,>=0.4.1->tensorboard->keras-tuner) (1.3.1)\n",
            "Requirement already satisfied: importlib-metadata>=4.4 in /usr/local/lib/python3.8/dist-packages (from markdown>=2.6.8->tensorboard->keras-tuner) (5.1.0)\n",
            "Requirement already satisfied: zipp>=0.5 in /usr/local/lib/python3.8/dist-packages (from importlib-metadata>=4.4->markdown>=2.6.8->tensorboard->keras-tuner) (3.11.0)\n",
            "Requirement already satisfied: pyasn1<0.5.0,>=0.4.6 in /usr/local/lib/python3.8/dist-packages (from pyasn1-modules>=0.2.1->google-auth<3,>=1.6.3->tensorboard->keras-tuner) (0.4.8)\n",
            "Requirement already satisfied: oauthlib>=3.0.0 in /usr/local/lib/python3.8/dist-packages (from requests-oauthlib>=0.7.0->google-auth-oauthlib<0.5,>=0.4.1->tensorboard->keras-tuner) (3.2.2)\n",
            "Installing collected packages: tensorflow-addons\n",
            "Successfully installed tensorflow-addons-0.19.0\n"
          ]
        }
      ],
      "source": [
        "!pip3 install keras_tuner\n",
        "!pip install keras-tuner tensorflow-addons"
      ]
    },
    {
      "cell_type": "code",
      "execution_count": 2,
      "metadata": {
        "id": "0Ku46OvKmbIU"
      },
      "outputs": [],
      "source": [
        "import urllib.request  #  download files\n",
        "import tarfile  #  unzip files\n",
        "import shutil\n",
        "import os\n",
        "import urllib.request  #  download files\n",
        "import zipfile  #  unzip files\n",
        "import matplotlib.pyplot as plt\n",
        "import numpy as np\n",
        "import pandas as pd\n",
        "import tensorflow as tf\n",
        "import random\n",
        "\n",
        "from tensorflow import keras\n",
        "import tensorflow as tf\n",
        "import keras_tuner as kt\n",
        "from keras.optimizers import Adam\n",
        "import tensorflow_addons as tfa\n",
        "import tensorflow.keras.backend as K\n",
        "from tensorflow.keras.regularizers import L2\n",
        "\n",
        "from tensorflow.keras.models import Sequential\n",
        "from tensorflow.keras.layers import InputLayer,Dropout, LSTM, Bidirectional, GRU, Dense, TimeDistributed, Activation,Masking\n",
        "from keras_tuner import RandomSearch, Objective\n",
        "from keras.utils.vis_utils import plot_model\n",
        "from keras.models import load_model\n",
        "from sklearn.metrics import confusion_matrix, ConfusionMatrixDisplay, f1_score,classification_report\n"
      ]
    },
    {
      "cell_type": "markdown",
      "metadata": {
        "id": "5TgJjk6leDK3"
      },
      "source": [
        "#### Ensuring reproducibility"
      ]
    },
    {
      "cell_type": "code",
      "execution_count": 3,
      "metadata": {
        "id": "Km7P166Zd3AN"
      },
      "outputs": [],
      "source": [
        "def set_reproducibility(seed):\n",
        "    random.seed(seed)\n",
        "    np.random.seed(seed)\n",
        "    tf.random.set_seed(seed)\n",
        "    os.environ['TF_DETERMINISTIC_OPS'] = '1'"
      ]
    },
    {
      "cell_type": "code",
      "execution_count": 4,
      "metadata": {
        "id": "zE5yNEmKmiQh"
      },
      "outputs": [],
      "source": [
        "set_reproducibility(42)"
      ]
    },
    {
      "cell_type": "markdown",
      "metadata": {
        "id": "GcJOWF-YKNkc"
      },
      "source": [
        "## 1. Download the corpora and split it in training and test sets, structuring a dataframe.\n",
        "\n",
        "\n"
      ]
    },
    {
      "cell_type": "markdown",
      "metadata": {
        "id": "_FBWQ10jr0h8"
      },
      "source": [
        "**Splits**: documents 1-100 are the train set, 101-150 validation set, 151-199 test set."
      ]
    },
    {
      "cell_type": "markdown",
      "metadata": {
        "id": "hZmBv4xvsagY"
      },
      "source": [
        "**Splitting**: you can decide to split documents into sentences or not, the choice is yours.\n"
      ]
    },
    {
      "cell_type": "markdown",
      "metadata": {
        "id": "kJQZWXoksvfu"
      },
      "source": [
        "**I/O structure**: The input data will have three dimensions: 1-documents/sentences, 2-token, 3-features; for the output there are 2 possibilities: if you use one-hot encoding it will be 1-documents/sentences, 2-token labels, 3-classes, if you use a single integer that indicates the number of the class it will be 1-documents/sentences, 2-token labels."
      ]
    },
    {
      "cell_type": "markdown",
      "metadata": {
        "id": "jjKmTTeWKRjO"
      },
      "source": [
        "#### Dataset downloading"
      ]
    },
    {
      "cell_type": "code",
      "execution_count": 5,
      "metadata": {
        "colab": {
          "base_uri": "https://localhost:8080/"
        },
        "id": "lh42hngDaT_c",
        "outputId": "d8b2dbb9-da24-4b49-efd3-4e1a3938dcee"
      },
      "outputs": [
        {
          "output_type": "stream",
          "name": "stdout",
          "text": [
            "Successful download\n",
            "Successful extraction\n"
          ]
        }
      ],
      "source": [
        "data_folder = os.path.join(os.getcwd(), \"Documents\")\n",
        "\n",
        "if not os.path.exists(data_folder):\n",
        "    os.makedirs(data_folder)\n",
        "\n",
        "url = \"https://raw.githubusercontent.com/nltk/nltk_data/gh-pages/packages/corpora/dependency_treebank.zip\"\n",
        "\n",
        "dataset_path = os.path.join(data_folder, \"dependency_treebank.zip\")\n",
        "\n",
        "if not os.path.exists(dataset_path):\n",
        "    urllib.request.urlretrieve(url, dataset_path)\n",
        "    print(\"Successful download\")\n",
        "\n",
        "with zipfile.ZipFile(dataset_path,\"r\") as zip_ref:\n",
        "    zip_ref.extractall(\"Documents\")\n",
        "\n",
        "docs_folder = os.path.join(data_folder, \"dependency_treebank\")\n",
        "\n",
        "print(\"Successful extraction\")"
      ]
    },
    {
      "cell_type": "markdown",
      "metadata": {
        "id": "Ozw67jZpc3dG"
      },
      "source": [
        "Changing the directory the the one of the data "
      ]
    },
    {
      "cell_type": "code",
      "execution_count": 6,
      "metadata": {
        "id": "BHwuOnuAcxqd"
      },
      "outputs": [],
      "source": [
        "os.chdir(docs_folder)"
      ]
    },
    {
      "cell_type": "code",
      "execution_count": 7,
      "metadata": {
        "id": "rEJhY-CLOvmy"
      },
      "outputs": [],
      "source": [
        "# Retrieving file names\n",
        "data = []\n",
        "\n",
        "for filename in sorted(os.listdir(docs_folder)):\n",
        "        data.append(filename)\n",
        "\n",
        "train_files, val_files, test_files = data[0:100],data[100:150],data[150:200]\n",
        "file_names = train_files+ val_files+ test_files"
      ]
    },
    {
      "cell_type": "code",
      "execution_count": 8,
      "metadata": {
        "id": "vEFXnENQNmTc"
      },
      "outputs": [],
      "source": [
        "def unpack_dataset(files):\n",
        "    X = []\n",
        "    y = []\n",
        "    for file in files:\n",
        "        with open(file, mode=\"r\", encoding=\"utf-8\") as file_str:\n",
        "            tokens = []\n",
        "            tags = []\n",
        "            for line in file_str.readlines():\n",
        "                if line.strip() == \"\": # end of line retrieve \n",
        "                            X.append(np.array(tokens))\n",
        "                            y.append(np.array(tags))\n",
        "                            tokens = []\n",
        "                            tags = []\n",
        "                else:\n",
        "                    # add token to sentence if the line is not empty \n",
        "                    token, tag, _ = line.split(\"\\t\")\n",
        "                    tokens.append(token.lower())\n",
        "                    tags.append(tag)\n",
        "            X.append(np.array(tokens))\n",
        "            y.append(np.array(tags))\n",
        "    return np.array(X,dtype=object), np.array(y,dtype=object)\n"
      ]
    },
    {
      "cell_type": "code",
      "execution_count": 9,
      "metadata": {
        "id": "KRUUFlnPSLSU"
      },
      "outputs": [],
      "source": [
        "X_train_sents, y_train_tags = unpack_dataset(train_files)\n",
        "X_val_sents, y_val_tags = unpack_dataset(val_files)\n",
        "X_test_sents, y_test_tags = unpack_dataset(test_files)"
      ]
    },
    {
      "cell_type": "markdown",
      "metadata": {
        "id": "OO57_VXveLxf"
      },
      "source": [
        "### Dataframe creation"
      ]
    },
    {
      "cell_type": "code",
      "execution_count": 10,
      "metadata": {
        "id": "MXQs4U_Iw4BS"
      },
      "outputs": [],
      "source": [
        "# Creating the structure of the dataframe rows\n",
        "dataframe_rows = {\n",
        "    'sentences': np.concatenate([X_train_sents, X_val_sents, X_test_sents],axis=0),\n",
        "    'tags':np.concatenate([y_train_tags, y_val_tags, y_test_tags],axis=0) \n",
        "}"
      ]
    },
    {
      "cell_type": "code",
      "execution_count": 11,
      "metadata": {
        "colab": {
          "base_uri": "https://localhost:8080/",
          "height": 363
        },
        "id": "luAqu0gHw3mz",
        "outputId": "384c5ad2-7f4f-4920-b3f0-52ba19e8fba7"
      },
      "outputs": [
        {
          "output_type": "execute_result",
          "data": {
            "text/plain": [
              "                                           sentences  \\\n",
              "0  [pierre, vinken, ,, 61, years, old, ,, will, j...   \n",
              "1  [mr., vinken, is, chairman, of, elsevier, n.v....   \n",
              "2  [rudolph, agnew, ,, 55, years, old, and, forme...   \n",
              "3  [a, form, of, asbestos, once, used, to, make, ...   \n",
              "4  [the, asbestos, fiber, ,, crocidolite, ,, is, ...   \n",
              "5  [lorillard, inc., ,, the, unit, of, new, york-...   \n",
              "6  [although, preliminary, findings, were, report...   \n",
              "7  [a, lorillard, spokewoman, said, ,, ``, this, ...   \n",
              "8  [we, 're, talking, about, years, ago, before, ...   \n",
              "9  [there, is, no, asbestos, in, our, products, n...   \n",
              "\n",
              "                                                tags  \n",
              "0  [NNP, NNP, ,, CD, NNS, JJ, ,, MD, VB, DT, NN, ...  \n",
              "1  [NNP, NNP, VBZ, NN, IN, NNP, NNP, ,, DT, NNP, ...  \n",
              "2  [NNP, NNP, ,, CD, NNS, JJ, CC, JJ, NN, IN, NNP...  \n",
              "3  [DT, NN, IN, NN, RB, VBN, TO, VB, NNP, NN, NNS...  \n",
              "4  [DT, NN, NN, ,, NN, ,, VBZ, RB, JJ, IN, PRP, V...  \n",
              "5  [NNP, NNP, ,, DT, NN, IN, JJ, JJ, NNP, NNP, WD...  \n",
              "6  [IN, JJ, NNS, VBD, VBN, RBR, IN, DT, NN, IN, ,...  \n",
              "7  [DT, NNP, NN, VBD, ,, ``, DT, VBZ, DT, JJ, NN, .]  \n",
              "8  [PRP, VBP, VBG, IN, NNS, IN, IN, NN, VBD, IN, ...  \n",
              "9        [EX, VBZ, DT, NN, IN, PRP$, NNS, RB, ., '']  "
            ],
            "text/html": [
              "\n",
              "  <div id=\"df-dee9c635-de5e-443e-badf-cc196654d75a\">\n",
              "    <div class=\"colab-df-container\">\n",
              "      <div>\n",
              "<style scoped>\n",
              "    .dataframe tbody tr th:only-of-type {\n",
              "        vertical-align: middle;\n",
              "    }\n",
              "\n",
              "    .dataframe tbody tr th {\n",
              "        vertical-align: top;\n",
              "    }\n",
              "\n",
              "    .dataframe thead th {\n",
              "        text-align: right;\n",
              "    }\n",
              "</style>\n",
              "<table border=\"1\" class=\"dataframe\">\n",
              "  <thead>\n",
              "    <tr style=\"text-align: right;\">\n",
              "      <th></th>\n",
              "      <th>sentences</th>\n",
              "      <th>tags</th>\n",
              "    </tr>\n",
              "  </thead>\n",
              "  <tbody>\n",
              "    <tr>\n",
              "      <th>0</th>\n",
              "      <td>[pierre, vinken, ,, 61, years, old, ,, will, j...</td>\n",
              "      <td>[NNP, NNP, ,, CD, NNS, JJ, ,, MD, VB, DT, NN, ...</td>\n",
              "    </tr>\n",
              "    <tr>\n",
              "      <th>1</th>\n",
              "      <td>[mr., vinken, is, chairman, of, elsevier, n.v....</td>\n",
              "      <td>[NNP, NNP, VBZ, NN, IN, NNP, NNP, ,, DT, NNP, ...</td>\n",
              "    </tr>\n",
              "    <tr>\n",
              "      <th>2</th>\n",
              "      <td>[rudolph, agnew, ,, 55, years, old, and, forme...</td>\n",
              "      <td>[NNP, NNP, ,, CD, NNS, JJ, CC, JJ, NN, IN, NNP...</td>\n",
              "    </tr>\n",
              "    <tr>\n",
              "      <th>3</th>\n",
              "      <td>[a, form, of, asbestos, once, used, to, make, ...</td>\n",
              "      <td>[DT, NN, IN, NN, RB, VBN, TO, VB, NNP, NN, NNS...</td>\n",
              "    </tr>\n",
              "    <tr>\n",
              "      <th>4</th>\n",
              "      <td>[the, asbestos, fiber, ,, crocidolite, ,, is, ...</td>\n",
              "      <td>[DT, NN, NN, ,, NN, ,, VBZ, RB, JJ, IN, PRP, V...</td>\n",
              "    </tr>\n",
              "    <tr>\n",
              "      <th>5</th>\n",
              "      <td>[lorillard, inc., ,, the, unit, of, new, york-...</td>\n",
              "      <td>[NNP, NNP, ,, DT, NN, IN, JJ, JJ, NNP, NNP, WD...</td>\n",
              "    </tr>\n",
              "    <tr>\n",
              "      <th>6</th>\n",
              "      <td>[although, preliminary, findings, were, report...</td>\n",
              "      <td>[IN, JJ, NNS, VBD, VBN, RBR, IN, DT, NN, IN, ,...</td>\n",
              "    </tr>\n",
              "    <tr>\n",
              "      <th>7</th>\n",
              "      <td>[a, lorillard, spokewoman, said, ,, ``, this, ...</td>\n",
              "      <td>[DT, NNP, NN, VBD, ,, ``, DT, VBZ, DT, JJ, NN, .]</td>\n",
              "    </tr>\n",
              "    <tr>\n",
              "      <th>8</th>\n",
              "      <td>[we, 're, talking, about, years, ago, before, ...</td>\n",
              "      <td>[PRP, VBP, VBG, IN, NNS, IN, IN, NN, VBD, IN, ...</td>\n",
              "    </tr>\n",
              "    <tr>\n",
              "      <th>9</th>\n",
              "      <td>[there, is, no, asbestos, in, our, products, n...</td>\n",
              "      <td>[EX, VBZ, DT, NN, IN, PRP$, NNS, RB, ., '']</td>\n",
              "    </tr>\n",
              "  </tbody>\n",
              "</table>\n",
              "</div>\n",
              "      <button class=\"colab-df-convert\" onclick=\"convertToInteractive('df-dee9c635-de5e-443e-badf-cc196654d75a')\"\n",
              "              title=\"Convert this dataframe to an interactive table.\"\n",
              "              style=\"display:none;\">\n",
              "        \n",
              "  <svg xmlns=\"http://www.w3.org/2000/svg\" height=\"24px\"viewBox=\"0 0 24 24\"\n",
              "       width=\"24px\">\n",
              "    <path d=\"M0 0h24v24H0V0z\" fill=\"none\"/>\n",
              "    <path d=\"M18.56 5.44l.94 2.06.94-2.06 2.06-.94-2.06-.94-.94-2.06-.94 2.06-2.06.94zm-11 1L8.5 8.5l.94-2.06 2.06-.94-2.06-.94L8.5 2.5l-.94 2.06-2.06.94zm10 10l.94 2.06.94-2.06 2.06-.94-2.06-.94-.94-2.06-.94 2.06-2.06.94z\"/><path d=\"M17.41 7.96l-1.37-1.37c-.4-.4-.92-.59-1.43-.59-.52 0-1.04.2-1.43.59L10.3 9.45l-7.72 7.72c-.78.78-.78 2.05 0 2.83L4 21.41c.39.39.9.59 1.41.59.51 0 1.02-.2 1.41-.59l7.78-7.78 2.81-2.81c.8-.78.8-2.07 0-2.86zM5.41 20L4 18.59l7.72-7.72 1.47 1.35L5.41 20z\"/>\n",
              "  </svg>\n",
              "      </button>\n",
              "      \n",
              "  <style>\n",
              "    .colab-df-container {\n",
              "      display:flex;\n",
              "      flex-wrap:wrap;\n",
              "      gap: 12px;\n",
              "    }\n",
              "\n",
              "    .colab-df-convert {\n",
              "      background-color: #E8F0FE;\n",
              "      border: none;\n",
              "      border-radius: 50%;\n",
              "      cursor: pointer;\n",
              "      display: none;\n",
              "      fill: #1967D2;\n",
              "      height: 32px;\n",
              "      padding: 0 0 0 0;\n",
              "      width: 32px;\n",
              "    }\n",
              "\n",
              "    .colab-df-convert:hover {\n",
              "      background-color: #E2EBFA;\n",
              "      box-shadow: 0px 1px 2px rgba(60, 64, 67, 0.3), 0px 1px 3px 1px rgba(60, 64, 67, 0.15);\n",
              "      fill: #174EA6;\n",
              "    }\n",
              "\n",
              "    [theme=dark] .colab-df-convert {\n",
              "      background-color: #3B4455;\n",
              "      fill: #D2E3FC;\n",
              "    }\n",
              "\n",
              "    [theme=dark] .colab-df-convert:hover {\n",
              "      background-color: #434B5C;\n",
              "      box-shadow: 0px 1px 3px 1px rgba(0, 0, 0, 0.15);\n",
              "      filter: drop-shadow(0px 1px 2px rgba(0, 0, 0, 0.3));\n",
              "      fill: #FFFFFF;\n",
              "    }\n",
              "  </style>\n",
              "\n",
              "      <script>\n",
              "        const buttonEl =\n",
              "          document.querySelector('#df-dee9c635-de5e-443e-badf-cc196654d75a button.colab-df-convert');\n",
              "        buttonEl.style.display =\n",
              "          google.colab.kernel.accessAllowed ? 'block' : 'none';\n",
              "\n",
              "        async function convertToInteractive(key) {\n",
              "          const element = document.querySelector('#df-dee9c635-de5e-443e-badf-cc196654d75a');\n",
              "          const dataTable =\n",
              "            await google.colab.kernel.invokeFunction('convertToInteractive',\n",
              "                                                     [key], {});\n",
              "          if (!dataTable) return;\n",
              "\n",
              "          const docLinkHtml = 'Like what you see? Visit the ' +\n",
              "            '<a target=\"_blank\" href=https://colab.research.google.com/notebooks/data_table.ipynb>data table notebook</a>'\n",
              "            + ' to learn more about interactive tables.';\n",
              "          element.innerHTML = '';\n",
              "          dataTable['output_type'] = 'display_data';\n",
              "          await google.colab.output.renderOutput(dataTable, element);\n",
              "          const docLink = document.createElement('div');\n",
              "          docLink.innerHTML = docLinkHtml;\n",
              "          element.appendChild(docLink);\n",
              "        }\n",
              "      </script>\n",
              "    </div>\n",
              "  </div>\n",
              "  "
            ]
          },
          "metadata": {},
          "execution_count": 11
        }
      ],
      "source": [
        "df = pd.DataFrame(dataframe_rows)\n",
        "df.head(10)"
      ]
    },
    {
      "cell_type": "markdown",
      "metadata": {
        "id": "IIVOt12Jk37c"
      },
      "source": [
        "Dataframe inspection"
      ]
    },
    {
      "cell_type": "code",
      "execution_count": 12,
      "metadata": {
        "colab": {
          "base_uri": "https://localhost:8080/",
          "height": 850
        },
        "id": "b3sM9PDn1kDu",
        "outputId": "3ebeae7b-e5b7-473d-99ee-d5d9c42af822"
      },
      "outputs": [
        {
          "output_type": "stream",
          "name": "stdout",
          "text": [
            "Dataset shape: (3914, 2) \n",
            "\n",
            "Dataset columns: ['sentences' 'tags'] \n",
            "\n",
            "Dataset Info: \n",
            " <bound method DataFrame.info of                                               sentences  \\\n",
            "0     [pierre, vinken, ,, 61, years, old, ,, will, j...   \n",
            "1     [mr., vinken, is, chairman, of, elsevier, n.v....   \n",
            "2     [rudolph, agnew, ,, 55, years, old, and, forme...   \n",
            "3     [a, form, of, asbestos, once, used, to, make, ...   \n",
            "4     [the, asbestos, fiber, ,, crocidolite, ,, is, ...   \n",
            "...                                                 ...   \n",
            "3909  [they, also, said, that, more, than, a, dozen,...   \n",
            "3910  [sen., kennedy, said, in, a, separate, stateme...   \n",
            "3911  [trinity, industries, inc., said, it, reached,...   \n",
            "3912                   [terms, were, n't, disclosed, .]   \n",
            "3913  [trinity, said, it, plans, to, begin, delivery...   \n",
            "\n",
            "                                                   tags  \n",
            "0     [NNP, NNP, ,, CD, NNS, JJ, ,, MD, VB, DT, NN, ...  \n",
            "1     [NNP, NNP, VBZ, NN, IN, NNP, NNP, ,, DT, NNP, ...  \n",
            "2     [NNP, NNP, ,, CD, NNS, JJ, CC, JJ, NN, IN, NNP...  \n",
            "3     [DT, NN, IN, NN, RB, VBN, TO, VB, NNP, NN, NNS...  \n",
            "4     [DT, NN, NN, ,, NN, ,, VBZ, RB, JJ, IN, PRP, V...  \n",
            "...                                                 ...  \n",
            "3909  [PRP, RB, VBD, IN, JJR, IN, DT, NN, NNS, VBP, ...  \n",
            "3910  [NNP, NNP, VBD, IN, DT, JJ, NN, IN, PRP, VBZ, ...  \n",
            "3911  [NNP, NNPS, NNP, VBD, PRP, VBD, DT, JJ, NN, TO...  \n",
            "3912                             [NNS, VBD, RB, VBN, .]  \n",
            "3913  [NNP, VBD, PRP, VBZ, TO, VB, NN, IN, DT, JJ, N...  \n",
            "\n",
            "[3914 rows x 2 columns]> \n",
            "\n",
            "Dataset Head: \n",
            "\n",
            "--------------------------------------------------\n"
          ]
        },
        {
          "output_type": "display_data",
          "data": {
            "text/plain": [
              "                                           sentences  \\\n",
              "0  [pierre, vinken, ,, 61, years, old, ,, will, j...   \n",
              "1  [mr., vinken, is, chairman, of, elsevier, n.v....   \n",
              "2  [rudolph, agnew, ,, 55, years, old, and, forme...   \n",
              "3  [a, form, of, asbestos, once, used, to, make, ...   \n",
              "4  [the, asbestos, fiber, ,, crocidolite, ,, is, ...   \n",
              "\n",
              "                                                tags  \n",
              "0  [NNP, NNP, ,, CD, NNS, JJ, ,, MD, VB, DT, NN, ...  \n",
              "1  [NNP, NNP, VBZ, NN, IN, NNP, NNP, ,, DT, NNP, ...  \n",
              "2  [NNP, NNP, ,, CD, NNS, JJ, CC, JJ, NN, IN, NNP...  \n",
              "3  [DT, NN, IN, NN, RB, VBN, TO, VB, NNP, NN, NNS...  \n",
              "4  [DT, NN, NN, ,, NN, ,, VBZ, RB, JJ, IN, PRP, V...  "
            ],
            "text/html": [
              "\n",
              "  <div id=\"df-c3e09e84-753d-406f-9579-60670a5d14b0\">\n",
              "    <div class=\"colab-df-container\">\n",
              "      <div>\n",
              "<style scoped>\n",
              "    .dataframe tbody tr th:only-of-type {\n",
              "        vertical-align: middle;\n",
              "    }\n",
              "\n",
              "    .dataframe tbody tr th {\n",
              "        vertical-align: top;\n",
              "    }\n",
              "\n",
              "    .dataframe thead th {\n",
              "        text-align: right;\n",
              "    }\n",
              "</style>\n",
              "<table border=\"1\" class=\"dataframe\">\n",
              "  <thead>\n",
              "    <tr style=\"text-align: right;\">\n",
              "      <th></th>\n",
              "      <th>sentences</th>\n",
              "      <th>tags</th>\n",
              "    </tr>\n",
              "  </thead>\n",
              "  <tbody>\n",
              "    <tr>\n",
              "      <th>0</th>\n",
              "      <td>[pierre, vinken, ,, 61, years, old, ,, will, j...</td>\n",
              "      <td>[NNP, NNP, ,, CD, NNS, JJ, ,, MD, VB, DT, NN, ...</td>\n",
              "    </tr>\n",
              "    <tr>\n",
              "      <th>1</th>\n",
              "      <td>[mr., vinken, is, chairman, of, elsevier, n.v....</td>\n",
              "      <td>[NNP, NNP, VBZ, NN, IN, NNP, NNP, ,, DT, NNP, ...</td>\n",
              "    </tr>\n",
              "    <tr>\n",
              "      <th>2</th>\n",
              "      <td>[rudolph, agnew, ,, 55, years, old, and, forme...</td>\n",
              "      <td>[NNP, NNP, ,, CD, NNS, JJ, CC, JJ, NN, IN, NNP...</td>\n",
              "    </tr>\n",
              "    <tr>\n",
              "      <th>3</th>\n",
              "      <td>[a, form, of, asbestos, once, used, to, make, ...</td>\n",
              "      <td>[DT, NN, IN, NN, RB, VBN, TO, VB, NNP, NN, NNS...</td>\n",
              "    </tr>\n",
              "    <tr>\n",
              "      <th>4</th>\n",
              "      <td>[the, asbestos, fiber, ,, crocidolite, ,, is, ...</td>\n",
              "      <td>[DT, NN, NN, ,, NN, ,, VBZ, RB, JJ, IN, PRP, V...</td>\n",
              "    </tr>\n",
              "  </tbody>\n",
              "</table>\n",
              "</div>\n",
              "      <button class=\"colab-df-convert\" onclick=\"convertToInteractive('df-c3e09e84-753d-406f-9579-60670a5d14b0')\"\n",
              "              title=\"Convert this dataframe to an interactive table.\"\n",
              "              style=\"display:none;\">\n",
              "        \n",
              "  <svg xmlns=\"http://www.w3.org/2000/svg\" height=\"24px\"viewBox=\"0 0 24 24\"\n",
              "       width=\"24px\">\n",
              "    <path d=\"M0 0h24v24H0V0z\" fill=\"none\"/>\n",
              "    <path d=\"M18.56 5.44l.94 2.06.94-2.06 2.06-.94-2.06-.94-.94-2.06-.94 2.06-2.06.94zm-11 1L8.5 8.5l.94-2.06 2.06-.94-2.06-.94L8.5 2.5l-.94 2.06-2.06.94zm10 10l.94 2.06.94-2.06 2.06-.94-2.06-.94-.94-2.06-.94 2.06-2.06.94z\"/><path d=\"M17.41 7.96l-1.37-1.37c-.4-.4-.92-.59-1.43-.59-.52 0-1.04.2-1.43.59L10.3 9.45l-7.72 7.72c-.78.78-.78 2.05 0 2.83L4 21.41c.39.39.9.59 1.41.59.51 0 1.02-.2 1.41-.59l7.78-7.78 2.81-2.81c.8-.78.8-2.07 0-2.86zM5.41 20L4 18.59l7.72-7.72 1.47 1.35L5.41 20z\"/>\n",
              "  </svg>\n",
              "      </button>\n",
              "      \n",
              "  <style>\n",
              "    .colab-df-container {\n",
              "      display:flex;\n",
              "      flex-wrap:wrap;\n",
              "      gap: 12px;\n",
              "    }\n",
              "\n",
              "    .colab-df-convert {\n",
              "      background-color: #E8F0FE;\n",
              "      border: none;\n",
              "      border-radius: 50%;\n",
              "      cursor: pointer;\n",
              "      display: none;\n",
              "      fill: #1967D2;\n",
              "      height: 32px;\n",
              "      padding: 0 0 0 0;\n",
              "      width: 32px;\n",
              "    }\n",
              "\n",
              "    .colab-df-convert:hover {\n",
              "      background-color: #E2EBFA;\n",
              "      box-shadow: 0px 1px 2px rgba(60, 64, 67, 0.3), 0px 1px 3px 1px rgba(60, 64, 67, 0.15);\n",
              "      fill: #174EA6;\n",
              "    }\n",
              "\n",
              "    [theme=dark] .colab-df-convert {\n",
              "      background-color: #3B4455;\n",
              "      fill: #D2E3FC;\n",
              "    }\n",
              "\n",
              "    [theme=dark] .colab-df-convert:hover {\n",
              "      background-color: #434B5C;\n",
              "      box-shadow: 0px 1px 3px 1px rgba(0, 0, 0, 0.15);\n",
              "      filter: drop-shadow(0px 1px 2px rgba(0, 0, 0, 0.3));\n",
              "      fill: #FFFFFF;\n",
              "    }\n",
              "  </style>\n",
              "\n",
              "      <script>\n",
              "        const buttonEl =\n",
              "          document.querySelector('#df-c3e09e84-753d-406f-9579-60670a5d14b0 button.colab-df-convert');\n",
              "        buttonEl.style.display =\n",
              "          google.colab.kernel.accessAllowed ? 'block' : 'none';\n",
              "\n",
              "        async function convertToInteractive(key) {\n",
              "          const element = document.querySelector('#df-c3e09e84-753d-406f-9579-60670a5d14b0');\n",
              "          const dataTable =\n",
              "            await google.colab.kernel.invokeFunction('convertToInteractive',\n",
              "                                                     [key], {});\n",
              "          if (!dataTable) return;\n",
              "\n",
              "          const docLinkHtml = 'Like what you see? Visit the ' +\n",
              "            '<a target=\"_blank\" href=https://colab.research.google.com/notebooks/data_table.ipynb>data table notebook</a>'\n",
              "            + ' to learn more about interactive tables.';\n",
              "          element.innerHTML = '';\n",
              "          dataTable['output_type'] = 'display_data';\n",
              "          await google.colab.output.renderOutput(dataTable, element);\n",
              "          const docLink = document.createElement('div');\n",
              "          docLink.innerHTML = docLinkHtml;\n",
              "          element.appendChild(docLink);\n",
              "        }\n",
              "      </script>\n",
              "    </div>\n",
              "  </div>\n",
              "  "
            ]
          },
          "metadata": {}
        }
      ],
      "source": [
        "print(f'Dataset shape: {df.shape} \\n')\n",
        "\n",
        "print(f'Dataset columns: {df.columns.values} \\n')\n",
        "\n",
        "print(f'Dataset Info: \\n {df.info} \\n')\n",
        "\n",
        "print('Dataset Head: \\n')\n",
        "print(\"-\"*50)\n",
        "display(df.head())"
      ]
    },
    {
      "cell_type": "markdown",
      "metadata": {
        "id": "aLPFRgywmarC"
      },
      "source": [
        "### Data exploration\n",
        "We now wish to understand the structure of the data before encoding it with the GloVe embedding and one-hot encoding the labels. \n",
        "\n",
        "We are going to perform some visualization of the distribution of the **tags** in order to make the error analysis, which will be done in the latter part of the notebook, more robust."
      ]
    },
    {
      "cell_type": "code",
      "execution_count": 13,
      "metadata": {
        "colab": {
          "base_uri": "https://localhost:8080/"
        },
        "id": "F0I4YLu-HRvr",
        "outputId": "9fee6ae5-340b-418d-baa9-0397abfce1ff"
      },
      "outputs": [
        {
          "output_type": "stream",
          "name": "stdout",
          "text": [
            "- Sentences in the train set: 1963 sentences\n",
            "- Sentences in the validation set: 1299 sentences\n",
            "- Sentences in the test set: 652 sentences\n"
          ]
        }
      ],
      "source": [
        "# Counting the sentences of each sets\n",
        "print(f\"- Sentences in the train set: {X_train_sents.shape[0]} sentences\")\n",
        "print(f\"- Sentences in the validation set: {X_val_sents.shape[0]} sentences\")\n",
        "print(f\"- Sentences in the test set: {X_test_sents.shape[0]} sentences\")"
      ]
    },
    {
      "cell_type": "code",
      "execution_count": 14,
      "metadata": {
        "colab": {
          "base_uri": "https://localhost:8080/"
        },
        "id": "3qBucLRIEEaU",
        "outputId": "b7395a27-9d05-441a-c1f2-22749506a556"
      },
      "outputs": [
        {
          "output_type": "stream",
          "name": "stdout",
          "text": [
            "Example structure of the arrays: \n",
            " [array(['pierre', 'vinken', ',', '61', 'years', 'old', ',', 'will', 'join',\n",
            "        'the', 'board', 'as', 'a', 'nonexecutive', 'director', 'nov.',\n",
            "        '29', '.'], dtype='<U12')\n",
            " array(['mr.', 'vinken', 'is', 'chairman', 'of', 'elsevier', 'n.v.', ',',\n",
            "        'the', 'dutch', 'publishing', 'group', '.'], dtype='<U10')\n",
            " array(['rudolph', 'agnew', ',', '55', 'years', 'old', 'and', 'former',\n",
            "        'chairman', 'of', 'consolidated', 'gold', 'fields', 'plc', ',',\n",
            "        'was', 'named', 'a', 'nonexecutive', 'director', 'of', 'this',\n",
            "        'british', 'industrial', 'conglomerate', '.'], dtype='<U12')\n",
            " array(['a', 'form', 'of', 'asbestos', 'once', 'used', 'to', 'make',\n",
            "        'kent', 'cigarette', 'filters', 'has', 'caused', 'a', 'high',\n",
            "        'percentage', 'of', 'cancer', 'deaths', 'among', 'a', 'group',\n",
            "        'of', 'workers', 'exposed', 'to', 'it', 'more', 'than', '30',\n",
            "        'years', 'ago', ',', 'researchers', 'reported', '.'], dtype='<U11')\n",
            " array(['the', 'asbestos', 'fiber', ',', 'crocidolite', ',', 'is',\n",
            "        'unusually', 'resilient', 'once', 'it', 'enters', 'the', 'lungs',\n",
            "        ',', 'with', 'even', 'brief', 'exposures', 'to', 'it', 'causing',\n",
            "        'symptoms', 'that', 'show', 'up', 'decades', 'later', ',',\n",
            "        'researchers', 'said', '.'], dtype='<U11')                       ] \n"
          ]
        }
      ],
      "source": [
        "print(f\"Example structure of the arrays: \\n {X_train_sents[0:5]} \")"
      ]
    },
    {
      "cell_type": "markdown",
      "metadata": {
        "id": "0HQtla_TEXe2"
      },
      "source": [
        "The structure is an array (`X_train_sents`) of arrays. The elements of each subarray are the words in each sentence). "
      ]
    },
    {
      "cell_type": "code",
      "execution_count": 15,
      "metadata": {
        "colab": {
          "base_uri": "https://localhost:8080/"
        },
        "id": "89m3prjHZv-E",
        "outputId": "03d5f6e6-0bb9-43af-8a8f-c3104c270466"
      },
      "outputs": [
        {
          "output_type": "stream",
          "name": "stdout",
          "text": [
            "Example of a document:  the potential sales are nearly $ 9.3 million , and house majority whip william gray -lrb- d. , pa . -rrb- began the bidding this year by proposing language that the quota be allocated to english-speaking countries of the caribbean , such as jamaica and barbados .\n",
            "Example tags:  ['DT' 'JJ' 'NNS' 'VBP' 'RB' '$' 'CD' 'CD' ',' 'CC' 'NNP' 'NNP' 'NNP' 'NNP'\n",
            " 'NNP' '-LRB-' 'NNP' ',' 'NNP' '.' '-RRB-' 'VBD' 'DT' 'NN' 'DT' 'NN' 'IN'\n",
            " 'VBG' 'NN' 'IN' 'DT' 'NN' 'VB' 'VBN' 'TO' 'JJ' 'NNS' 'IN' 'DT' 'NNP' ','\n",
            " 'JJ' 'IN' 'NNP' 'CC' 'NNP' '.']\n"
          ]
        }
      ],
      "source": [
        "print(\"Example of a document: \", ' '.join(X_val_sents[13]))\n",
        "print(\"Example tags: \", (y_val_tags[13]))"
      ]
    },
    {
      "cell_type": "markdown",
      "metadata": {
        "id": "otgnNlkOA5U3"
      },
      "source": [
        "From the above example we can see that in order to reduce the number of tokens in the OOV dictionaries we have lowercased every word. \n",
        "\n",
        "Later we will need to deal with removing ALL the tags that are non explicitly a word (so symbols and punctuation)."
      ]
    },
    {
      "cell_type": "code",
      "execution_count": 16,
      "metadata": {
        "colab": {
          "base_uri": "https://localhost:8080/"
        },
        "id": "Mzwbe1GDN5-t",
        "outputId": "c3c81772-3047-4749-8b73-fa831de2e48b"
      },
      "outputs": [
        {
          "output_type": "stream",
          "name": "stdout",
          "text": [
            "The ten most frequent tags in the whole dataset are: \n",
            "[('NN', 13166), ('IN', 9857), ('NNP', 9410), ('DT', 8165), ('NNS', 6047), ('JJ', 5834), (',', 4886), ('.', 3874), ('CD', 3546), ('VBD', 3043)]\n"
          ]
        }
      ],
      "source": [
        "all_tags = np.concatenate(np.concatenate([y_train_tags,y_val_tags,y_test_tags])) # flatten tag subarrays\n",
        "tags, counts = list(np.unique(all_tags, return_counts=True)) # count instances of each tag with return counts\n",
        "tag_count= dict(zip(tags,counts)) # merge tags and counts in to a dictionary\n",
        "\n",
        "print(\"The ten most frequent tags in the whole dataset are: \")\n",
        "top_ten = dict(sorted(tag_count.items(), key=lambda item: item[1],reverse=True))\n",
        "print(list(top_ten.items())[0:10])"
      ]
    },
    {
      "cell_type": "markdown",
      "metadata": {
        "id": "tvkDEojtMOPH"
      },
      "source": [
        "### Understanding content of tag arrays"
      ]
    },
    {
      "cell_type": "markdown",
      "metadata": {
        "id": "Ob7OJYr4D8N1"
      },
      "source": [
        "We need to flatten each arrays with concatenate and then calculate the number of unique tags."
      ]
    },
    {
      "cell_type": "code",
      "execution_count": 17,
      "metadata": {
        "id": "gu_rKZPbbdIR"
      },
      "outputs": [],
      "source": [
        "unique_tags_train= np.unique(np.concatenate(y_train_tags))\n",
        "unique_tags_val = np.unique(np.concatenate(y_val_tags))\n",
        "unique_tags_test = np.unique(np.concatenate(y_test_tags))"
      ]
    },
    {
      "cell_type": "code",
      "execution_count": 18,
      "metadata": {
        "colab": {
          "base_uri": "https://localhost:8080/"
        },
        "id": "oy_3WN4I1FpA",
        "outputId": "4c9027c2-829f-4cac-f7a6-e3cc37dfad37"
      },
      "outputs": [
        {
          "output_type": "stream",
          "name": "stdout",
          "text": [
            "- Unique tags in train set: 45 tags \n",
            "\n",
            "- Unique tags in validation set: 44 tags \n",
            "\n",
            "- Unique tags in test set: 40 tags\n"
          ]
        }
      ],
      "source": [
        "print(f\"- Unique tags in train set: {len(unique_tags_train)} tags \\n\")\n",
        "print(f\"- Unique tags in validation set: {len(unique_tags_val)} tags \\n\")\n",
        "print(f\"- Unique tags in test set: {len(unique_tags_test)} tags\")"
      ]
    },
    {
      "cell_type": "code",
      "execution_count": 19,
      "metadata": {
        "colab": {
          "base_uri": "https://localhost:8080/"
        },
        "id": "u7bfLTx41G9p",
        "outputId": "348e5797-90fe-4bb6-b3ee-043c85a0df1f"
      },
      "outputs": [
        {
          "output_type": "stream",
          "name": "stdout",
          "text": [
            "- Tags that are present in the train set and are not present in the validation set: ['SYM']\n",
            "\n",
            "- Tags that are present in the train set and are not present in the test set: ['SYM', 'FW', 'UH', 'LS', '#']\n",
            "\n",
            "- Tags that are present in the validation set and are not present in the test set: ['LS', '#', 'FW', 'UH']\n"
          ]
        }
      ],
      "source": [
        "print(\"- Tags that are present in the train set and are not present in the validation set:\",list(set(unique_tags_train).difference(set(unique_tags_val))))\n",
        "print()\n",
        "print(\"- Tags that are present in the train set and are not present in the test set:\",list(set(unique_tags_train).difference(set(unique_tags_test))))\n",
        "print()\n",
        "print(\"- Tags that are present in the validation set and are not present in the test set:\",list(set(unique_tags_val).difference(set(unique_tags_test))))"
      ]
    },
    {
      "cell_type": "markdown",
      "metadata": {
        "id": "AdRnh-QDnaQF"
      },
      "source": [
        "### Getting max sentence length\n",
        "\n",
        "We need to retrieve the maximum sentence lenght in order to perform the correct encoding of the data with the necessary padding. \n",
        "\n",
        "Each sentence has different lenght therefore we need to encode each sentence with the maximum size possible."
      ]
    },
    {
      "cell_type": "code",
      "execution_count": 20,
      "metadata": {
        "colab": {
          "base_uri": "https://localhost:8080/"
        },
        "id": "yduCpP3ropc_",
        "outputId": "9c83d0cd-4b95-4664-b6cc-10958ac38b0f"
      },
      "outputs": [
        {
          "output_type": "stream",
          "name": "stdout",
          "text": [
            "Max sentence length is: 249\n"
          ]
        }
      ],
      "source": [
        "print(f\"Max sentence length is: {df.sentences.str.len().max()}\")"
      ]
    },
    {
      "cell_type": "code",
      "execution_count": 21,
      "metadata": {
        "id": "4DNZSHlXp4Ph"
      },
      "outputs": [],
      "source": [
        "max_size = 250"
      ]
    },
    {
      "cell_type": "markdown",
      "metadata": {
        "id": "61BgctX8OQLM"
      },
      "source": [
        "### Retrieving punctuation indices \n",
        "\n",
        "This will be useful later for error analysis"
      ]
    },
    {
      "cell_type": "code",
      "execution_count": 22,
      "metadata": {
        "id": "JEV-EtmhUVXU"
      },
      "outputs": [],
      "source": [
        "sort_tags = np.array(sorted(unique_tags_train))"
      ]
    },
    {
      "cell_type": "code",
      "source": [
        "sort_tags = np.append(sort_tags,'UNK')"
      ],
      "metadata": {
        "id": "Tv3bItPaFt0-"
      },
      "execution_count": 23,
      "outputs": []
    },
    {
      "cell_type": "code",
      "execution_count": 24,
      "metadata": {
        "colab": {
          "base_uri": "https://localhost:8080/"
        },
        "id": "BBhq0isgQjn8",
        "outputId": "28ddf141-a7e0-40a1-bbb7-c581de268f32"
      },
      "outputs": [
        {
          "output_type": "stream",
          "name": "stdout",
          "text": [
            "['#' '$' \"''\" ',' '-LRB-' '-RRB-' '.' ':' 'CC' 'CD' 'DT' 'EX' 'FW' 'IN'\n",
            " 'JJ' 'JJR' 'JJS' 'LS' 'MD' 'NN' 'NNP' 'NNPS' 'NNS' 'PDT' 'POS' 'PRP'\n",
            " 'PRP$' 'RB' 'RBR' 'RBS' 'RP' 'SYM' 'TO' 'UH' 'VB' 'VBD' 'VBG' 'VBN' 'VBP'\n",
            " 'VBZ' 'WDT' 'WP' 'WP$' 'WRB' '``' 'UNK']\n"
          ]
        }
      ],
      "source": [
        "print(sort_tags)"
      ]
    },
    {
      "cell_type": "markdown",
      "source": [
        "UNK is last for generalization purposes of the encoding approach."
      ],
      "metadata": {
        "id": "QIk69LZ6Ip2F"
      }
    },
    {
      "cell_type": "markdown",
      "metadata": {
        "id": "2n0L_fQTQmoT"
      },
      "source": [
        "We need to the remove the indices associated with the following symbols:\n",
        "\n",
        "* Punctuation:\n",
        "  - -LRB- &rarr; \"Left Round Bracket\" &rarr; \"({\"\n",
        "  - -RRB- &rarr; \"Right Round Bracket\" &rarr; \"){\"\n",
        "  - # \n",
        "  - $\n",
        "  - ' ' \n",
        "  - , \n",
        "  - . \n",
        "  - : \n",
        "\n",
        "\n",
        "* Symbols:\n",
        "\n",
        "  - LS &rarr; List item marker\n",
        "  - SYM &rarr; Symbol\n",
        "  - ``"
      ]
    },
    {
      "cell_type": "code",
      "execution_count": 25,
      "metadata": {
        "colab": {
          "base_uri": "https://localhost:8080/"
        },
        "id": "ynOrXkb9xlu2",
        "outputId": "e64509f8-b103-4aea-8d5c-3e652ac3196e"
      },
      "outputs": [
        {
          "output_type": "stream",
          "name": "stdout",
          "text": [
            "Displaying the tags to remove and their associated index: \n",
            "\n",
            "{'#': 0, '$': 1, \"''\": 2, ',': 3, '-LRB-': 4, '-RRB-': 5, '.': 6, ':': 7, 'LS': 17, 'SYM': 31, '``': 44}\n"
          ]
        }
      ],
      "source": [
        "indices = [0, 1, 2, 3, 4, 5, 6,7, 17, 31, 44] # symbols and punctuation\n",
        "print(\"Displaying the tags to remove and their associated index: \\n\")\n",
        "print(dict(zip(sort_tags[indices],indices)))"
      ]
    },
    {
      "cell_type": "markdown",
      "metadata": {
        "id": "U-ETLFeDtWhz"
      },
      "source": [
        "## Encoding the dataset\n"
      ]
    },
    {
      "cell_type": "markdown",
      "metadata": {
        "id": "oavb6HuOzB1i"
      },
      "source": [
        "Generating embedding dictionary for GloVe "
      ]
    },
    {
      "cell_type": "code",
      "execution_count": 26,
      "metadata": {
        "colab": {
          "base_uri": "https://localhost:8080/"
        },
        "id": "1dC8IuIGxbqU",
        "outputId": "abe6e892-d9fb-48ba-abc6-1ce8eebdfce2"
      },
      "outputs": [
        {
          "output_type": "stream",
          "name": "stdout",
          "text": [
            "Downloading...\n",
            "From: https://nlp.stanford.edu/data/glove.6B.zip\n",
            "To: /content/Documents/dependency_treebank/glove.6B.zip\n",
            "100% 862M/862M [02:39<00:00, 5.42MB/s]\n"
          ]
        }
      ],
      "source": [
        "# Download the GloVe embeddings\n",
        "!gdown https://nlp.stanford.edu/data/glove.6B.zip\n",
        "\n",
        "# Unzip the GloVe embeddings file\n",
        "!unzip -q -o glove.6B.zip -d embeddings"
      ]
    },
    {
      "cell_type": "markdown",
      "metadata": {
        "id": "r1pImaUSxfXY"
      },
      "source": [
        "We choose an embedding dimension of size 100d in order to have a good tradeoff between performance and time spent training.\n",
        "\n",
        "It is also possible to experiment with other sizes such as 50,200 or 300. Through experimenting we have found that 100 is enough for our purposes."
      ]
    },
    {
      "cell_type": "code",
      "execution_count": 27,
      "metadata": {
        "id": "KTA4O_GQxh0I"
      },
      "outputs": [],
      "source": [
        "\"\"\" \n",
        "Retrieving GloVe embedding from file and then generating a dictionary\n",
        "where each vord is a key and the value is the embedding vector. \n",
        "\"\"\"\n",
        "V1 = {}\n",
        "with open(docs_folder+\"/embeddings/glove.6B.100d.txt\", 'r') as f:\n",
        "    for i,line in enumerate(f):\n",
        "        values = line.split()\n",
        "        word = values[0]\n",
        "        # if word = regex numbers then get embedding for first number\n",
        "        vector = np.asarray(values[1:], \"float32\")\n",
        "        V1[word] = vector"
      ]
    },
    {
      "cell_type": "markdown",
      "metadata": {
        "id": "PCVPt6alvqKY"
      },
      "source": [
        "### OOV handling"
      ]
    },
    {
      "cell_type": "markdown",
      "metadata": {
        "id": "LHdsjNzOlpII"
      },
      "source": [
        "The OOV words will be assigned a random embedding sampled from uniform distribution, in the range `[-0.5,+0.5]` in order to match it with the numerical range of GloVe embeddings. It is also possible to experiment with other types of embedding for OOV."
      ]
    },
    {
      "cell_type": "code",
      "execution_count": 28,
      "metadata": {
        "id": "QpLHybhv2PU6"
      },
      "outputs": [],
      "source": [
        "embedding_dim = 100 # chosen as compromise between time spent training and performance"
      ]
    },
    {
      "cell_type": "code",
      "execution_count": 29,
      "metadata": {
        "id": "UIwtZg-g7S7z"
      },
      "outputs": [],
      "source": [
        "def generate_oov(emb_dictionary, tokens,embedding_dim):\n",
        "    \"\"\"\n",
        "    Checks wheter a token is not present in the vocabulary containing the embeddings,\n",
        "    if it is not present, then insert it in the dictionary of the OOV words with a random value\n",
        "    sampled from an uniform distribution in the correct range (the one of glove embeddings).\n",
        "    \"\"\"\n",
        "    oov_dict = {} # create oov dict\n",
        "    for token in tokens: \n",
        "        if token not in emb_dictionary:\n",
        "            oov_dict[token]= np.random.uniform(-0.5, 0.5, size=embedding_dim)\n",
        "    return oov_dict"
      ]
    },
    {
      "cell_type": "code",
      "execution_count": 30,
      "metadata": {
        "id": "rRJJnWUjX_8x"
      },
      "outputs": [],
      "source": [
        "# Flatten the arrays of each data split to get all the tokens \n",
        "train_toks = np.concatenate(np.concatenate([X_train_sents]))\n",
        "val_toks = np.concatenate(np.concatenate([X_val_sents]))\n",
        "test_toks = np.concatenate(np.concatenate([X_test_sents]))"
      ]
    },
    {
      "cell_type": "code",
      "execution_count": 31,
      "metadata": {
        "id": "pAcgCkLFuxBn"
      },
      "outputs": [],
      "source": [
        "# From the above flattened arrays retrieve the unique tags \n",
        "unique_train_toks = np.unique(train_toks)\n",
        "unique_val_toks = np.unique(val_toks)\n",
        "unique_test_toks = np.unique(test_toks)"
      ]
    },
    {
      "cell_type": "markdown",
      "metadata": {
        "id": "IqMzNZS-_WSP"
      },
      "source": [
        "\n",
        "We now need to encode the features and the labels in numeric format in order to be able to process it with a neural network. \n",
        "\n",
        "* The features (*X_train_sents* and all others features arrays) will be encoded through a GloVe embedding if they are in the dictionary. If they are OOV they will be encoded with a random value sampled from an uniform distribution.\n",
        "    * the *X_train_sents* array has a structure of being an array of arrays with only one dimension. We wish to encode this in a 3D format with the following shape:\n",
        "\n",
        "    ```\n",
        "    (number_of_sentences,max_sentence_lenght,embedding_dimension)\n",
        "    ```"
      ]
    },
    {
      "cell_type": "markdown",
      "source": [
        "AGGIUNGI SPIEGAZIONE CO-OCCURRENCE MATRIX"
      ],
      "metadata": {
        "id": "TR4mPWrSVB7M"
      }
    },
    {
      "cell_type": "markdown",
      "source": [
        "Defining a function for padding the y_tags later"
      ],
      "metadata": {
        "id": "zp7U6kH0fKiR"
      }
    },
    {
      "cell_type": "code",
      "execution_count": 32,
      "metadata": {
        "id": "ofcnVJHIVTK0"
      },
      "outputs": [],
      "source": [
        "def pad(array, target_shape):\n",
        "    return np.pad(\n",
        "        array,\n",
        "        [(0, target_shape[i] - array.shape[i]) for i in range(len(array.shape))],\n",
        "        \"constant\",\n",
        "    )"
      ]
    },
    {
      "cell_type": "code",
      "execution_count": 33,
      "metadata": {
        "id": "Rf39KHW0Hf9W"
      },
      "outputs": [],
      "source": [
        "# encode each word of a sentence in a numpy array\n",
        "def encode_sentence(sentence,vocabulary):\n",
        "    return np.array([vocabulary[word] for word in sentence])"
      ]
    },
    {
      "cell_type": "code",
      "execution_count": 34,
      "metadata": {
        "id": "a8cYXVb4UExA"
      },
      "outputs": [],
      "source": [
        "# use the above defined function to encode each word in a sentence and then appending it to an array \n",
        "# then this array is constructed with the right shape defined above.\n",
        "def encode_features(array,vocabulary):\n",
        "  result = []\n",
        "  for sentence in array:\n",
        "    pad_size = (max_size-len(sentence), embedding_dim)\n",
        "    encoded = encode_sentence(sentence,vocabulary) \n",
        "    result.append(\n",
        "              np.row_stack((encoded, np.zeros(pad_size)))\n",
        "            )\n",
        "  return np.array(result)"
      ]
    },
    {
      "cell_type": "markdown",
      "source": [
        "1. Starting vocabulary *V1* (in this assignment, GloVe vocabulary)\n",
        "2. Compute embeddings for terms out of vocabulary *OOV1* of the training split\n",
        "3. Add embeddings to the vocabulary, so to obtain vocabulary *V2* which is the concatenation of *V1* and *OOV1*\n",
        "4. Compute embeddings for terms  of the validation split *OOV2*\n",
        "5. Add embeddings to the vocabulary, so to obtain vocabulary *V3* = *V2* + *OOV2*\n",
        "6. Compute embeddings for terms  of the test split *OOV3*\n",
        "7. Add embeddings to the vocabulary, so to obtain vocabulary *V4* = *V3* + *OOV3*"
      ],
      "metadata": {
        "id": "8MZ9-3MFhH98"
      }
    },
    {
      "cell_type": "code",
      "execution_count": 35,
      "metadata": {
        "colab": {
          "base_uri": "https://localhost:8080/"
        },
        "id": "2K15epIDU17e",
        "outputId": "ce96d66e-632f-45ca-bcee-5b408f1443ad"
      },
      "outputs": [
        {
          "output_type": "stream",
          "name": "stdout",
          "text": [
            "- Generating the OOV for train set... \n",
            "\n",
            "- Merging initial vocabulary and OOV1... \n",
            "\n",
            "- Shape of the training set: (1963, 250, 100) \n",
            "\n",
            "- Generating the OOV for validation set... \n",
            "\n",
            "- Merging V2 and OOV2: \n",
            "\n",
            "- Shape of the validation set: (1299, 250, 100) \n",
            "\n",
            "- Generating the OOV for test set... \n",
            "\n",
            "- Merging V4 and OOV4... \n",
            "\n",
            "- Shape of the test set: (652, 250, 100) \n",
            "\n"
          ]
        }
      ],
      "source": [
        "print(\"- Generating the OOV for train set... \\n\")\n",
        "OOV1 = generate_oov(V1,unique_train_toks,embedding_dim)\n",
        "\n",
        "\n",
        "print(\"- Merging initial vocabulary and OOV1... \")\n",
        "V2 = {**V1,**OOV1} # using dictionary synthax to merge dictionaries\n",
        "X_train= encode_features(X_train_sents,V2)\n",
        "print(f\"\\n- Shape of the training set: {X_train.shape} \\n\")\n",
        "\n",
        "print(\"- Generating the OOV for validation set... \\n\")\n",
        "OOV2 = generate_oov(V2,unique_val_toks,embedding_dim)\n",
        "\n",
        "print(\"- Merging V2 and OOV2: \")\n",
        "V3 = {**V2,**OOV2}\n",
        "X_val= encode_features(X_val_sents,V3)\n",
        "print(f\"\\n- Shape of the validation set: {X_val.shape} \\n\")\n",
        "\n",
        "print(\"- Generating the OOV for test set... \\n\")\n",
        "OOV3 = generate_oov(V3,unique_test_toks,embedding_dim)\n",
        "\n",
        "print(\"- Merging V4 and OOV4... \")\n",
        "V4 = {**V3,**OOV3}\n",
        "X_test= encode_features(X_test_sents,V4)\n",
        "print(f\"\\n- Shape of the test set: {X_test.shape} \\n\")"
      ]
    },
    {
      "cell_type": "markdown",
      "source": [
        "Retrieve the OOV sets and then use a set data structure for storing it."
      ],
      "metadata": {
        "id": "-kNaM2Zafo9Z"
      }
    },
    {
      "cell_type": "code",
      "execution_count": 36,
      "metadata": {
        "id": "vVAZpcqzZQzx"
      },
      "outputs": [],
      "source": [
        "train_oov_terms = set(OOV1.keys())\n",
        "val_oov_terms = set(OOV2.keys())\n",
        "test_oov_terms = set(OOV3.keys())"
      ]
    },
    {
      "cell_type": "markdown",
      "source": [
        "Get the OOV terms unique for the val set and the test set."
      ],
      "metadata": {
        "id": "cKG6UHTDfeJs"
      }
    },
    {
      "cell_type": "code",
      "execution_count": 37,
      "metadata": {
        "id": "eu47hlyPZUnf"
      },
      "outputs": [],
      "source": [
        "specific_val_oov_terms = val_oov_terms - train_oov_terms\n",
        "specific_test_oov_terms = test_oov_terms - train_oov_terms - val_oov_terms"
      ]
    },
    {
      "cell_type": "code",
      "execution_count": 38,
      "metadata": {
        "colab": {
          "base_uri": "https://localhost:8080/"
        },
        "id": "Czpv4aYuYwUG",
        "outputId": "16e6f8d2-4f3a-4cf5-a40f-6495821ffaf7"
      },
      "outputs": [
        {
          "output_type": "stream",
          "name": "stdout",
          "text": [
            "Total training OOV terms: 359 (0.05%)\n",
            "Total validation OOV terms: 189 (0.03%)\n",
            "Total testing OOV terms: 128 (0.04%)\n"
          ]
        }
      ],
      "source": [
        "print(\n",
        "    f\"Total training OOV terms: {len(train_oov_terms)} ({round(len(train_oov_terms) / len(unique_train_toks), 2)}%)\"\n",
        ")\n",
        "\n",
        "print(\n",
        "    f\"Total validation OOV terms: {len(specific_val_oov_terms)} ({round(len(specific_val_oov_terms) / len(unique_val_toks), 2)}%)\"\n",
        ")\n",
        "print(\n",
        "    f\"Total testing OOV terms: {len(specific_test_oov_terms)} ({round(len(specific_test_oov_terms) / len(unique_test_toks), 2)}%)\"\n",
        ")\n"
      ]
    },
    {
      "cell_type": "markdown",
      "source": [
        "Now that we have all the ingredients to build the embedding matrix , we provide a method that builds the matrix given the GloVe model and a defined vocabulary of wrods, that explicits a one-to-one mapping between each word and a number. We have decided to assign a uniformly generated random vector for OOV terms since they are a little percentage with respect to all the terms present in the dataset"
      ],
      "metadata": {
        "id": "lMb3HXghglmc"
      }
    },
    {
      "cell_type": "markdown",
      "metadata": {
        "id": "cXP1_vEVvIdV"
      },
      "source": [
        "The percentage of OOV for each data split is negligible, let's inspect content of OOV arrays."
      ]
    },
    {
      "cell_type": "code",
      "execution_count": 39,
      "metadata": {
        "colab": {
          "base_uri": "https://localhost:8080/"
        },
        "id": "Ss6c_zVVvSA1",
        "outputId": "62150162-8e54-4c9c-d189-7532c6bcf35c"
      },
      "outputs": [
        {
          "output_type": "stream",
          "name": "stdout",
          "text": [
            "- Train set OOV words: ['-lcb-', '-lrb-', '-rcb-', '-rrb-', '1.457', '1.5755', '1.8415', '100,980', '11,762', '12,252', '127.03', '13,056', '14,821', '142.85', '143.08', '143.80', '143.93', '16,072', '16.125', '18,444', '1\\\\/10th', '1\\\\/2', '1\\\\/4', '2,303,328', '230-215', '234.4', '236.74', '236.79', '2645.90', '271,124', '278.7', '3,288,453', '3.253', '30,841', '3057', '352.7', '361,376', '37-a-share', '374.19', '374.20', '38.375', '382-37', '3\\\\/4', '4,393,237', '4.898', '415.6', '415.8', '436.01', '446.62', '449.04', '456.64', '497.34', '5.276', '500,004', '520-lawyer', '5\\\\/8', '62%-owned', '62.625', '69-point', '70-a-share', '705.6', '737.5', '7\\\\/8', '82,389', '8300s', '84-month', '9,118', '90-cent-an-hour', '95,142', 'abortion-related', 'ac-130u', 'achievement-test', 'akerfeldt', 'alurralde', 'amphobiles', 'anti-abortionists', 'anti-china', 'anti-takeover', 'antitrust-law', 'ariail', 'aslacton', 'asset-sale', 'autions', 'auto-safety', 'automotive-lighting', 'automotive-parts', 'bald-faced', 'beer-belly', 'bell-ringer', 'bellringers', 'bermuda-based', 'besuboru', 'big-ticket', 'biondi-santi', 'boorse', 'bridgestone\\\\/firestone', 'building-products', 'built-from-kit', 'bumkins', 'buttoned-down', 'c-90', 'c.j.b.', 'capital-gains', 'car-safety', 'cash-rich', 'centerbank', 'chafic', 'change-ringing', 'chemplus', 'chilver', 'chinchon', 'chong-sik', 'church-goers', 'circuit-breaker', 'co-developers', 'coche-dury', 'collective-bargaining', 'college-bowl', 'colonsville', 'computer-driven', 'computer-system-design', 'cop-killer', 'corton-charlemagne', 'cotran', 'cray-3', \"creator's\", 'crocidolite', 'ctbs', 'custom-chip', 'dead-eyed', 'delwin', 'deposits-a', 'derel', 'detective-story', 'direct-investment', 'dollar-yen', 'drag-down', 'drobnick', 'durable-goods', 'dust-up', 'eight-count', 'electric-utility', 'energy-services', 'ensrud', 'equal-opportunity', 'erbamont', 'family-planning', 'fetal-tissue', 'flightiness', 'floating-rate', 'food-shop', 'foreign-led', 'foreign-stock', 'forest-product', 'forest-products', 'front-seat', 'ft-se', 'futures-related', 'ghkm', 'gingl', 'glenham', 'government-certified', 'greenmailer', 'hallwood', 'high-balance', 'high-rate', 'higher-salaried', 'highest-pitched', 'home-market', 'hummerstone', 'identity-management', 'incentive-bonus', 'index-arbitrage', 'index-options', 'index-related', 'industrial-production', 'ingersoll-rand', 'integra-a', 'intellectual-property', 'investor-relations', 'iran\\\\/contra', 'jalaalwalikraam', 'jerritts', 'junk-bond', 'kalipharma', 'lafite-rothschild', 'landonne', 'language-housekeeper', 'lap-shoulder', 'less-serious', 'lezovich', 'life-insurance', 'light-truck', 'limited-partnership', 'low-ability', 'low-ball', 'lower-priority', 'macheski', 'machine-gun-toting', 'macmillan\\\\/mcgraw', 'macmillan\\\\/mcgraw-hill', 'makato', 'malizia', 'market-share', 'marketing-communications', 'mehrens', 'meinders', 'merger-related', 'micronite', 'mininum-wage', 'moleculon', 'monchecourt', 'money-center', 'money-fund', 'money-market', 'morale-damaging', 'more-efficient', 'mortgage-based', 'mouth-up', 'muscolina', 'nagymaros', 'nearly-30', 'nekoosa', 'nesb', 'new-home', 'nih-appointed', 'nipponese', 'nissho-iwai', 'non-biodegradable', 'non-encapsulating', 'northy', 'norwick', 'ntg', 'odd-sounding', 'old-house', 'one-country', 'one-upsmanship', 'one-yen', 'page-one', 'pathlogy', 'pattenden', 'pennview', 'pianist-comedian', 'polyproplene', 'post-hearing', 'pramual', 'pre-1917', 'pre-1933', 'preparatives', 'prize-fighter', 'pro-forma', 'product-design', 'program-trading', 'purepac', 'purhasing', 'rapanelli', 'rate-sensitive', 'ratners', 're-thought', 'recession-inspired', 'red-blooded', 'red-flag', 'replacement-car', 'retin-a', 'revenue-desperate', 'rexinger', 'romanee-conti', 'roof-crush', 'rope-sight', 'rubinfien', 'sacramento-based', 'safe-deposit', 'samnick', 'sanderoff', 'satrum', 'savers\\\\/investors', 'savings-and-loan', 'school-board', 'school-district', 'school-improvement', 'school-research', 'search-and-seizure', 'secilia', 'securities-based', 'security-type', 'sell-offs', 'senate-house', 'sharedata', 'shirt-sleeved', 'side-crash', 'sino-u.s.', 'six-bottle', 'six-packs', 'small-company', 'social-studies', 'sogo-shosha', 'solaia', 'sometimes-exhausting', 'sometimes-tawdry', 'sport-utility', 'state-supervised', 'sticker-shock', 'stirlen', 'stock-index', 'stock-manipulation', 'student-test', 'sub-markets', 'sub-segments', 'subindustry', 'subminimum', 'subskill', 'subskills', 'summer\\\\/winter', 'superpremiums', 'synergistics', 'tarwhine', 'teacher-cadet', 'telephone-information', 'test-coaching', 'test-practice', 'test-prep', 'test-preparation', 'thin-lipped', 'three-lawyer', 'three-sevenths', 'times-stock', 'tiphook', 'tissue-transplant', 'top-yielding', 'trading-company', 'training-wage', 'trettien', 'trockenbeerenauslesen', 'twin-jet', 'twindam', 'two-sevenths', 'unenticing', 'unfair-trade', 'univest', 'uzi-model', 'veselich', 'video-viewing', 'vinken', 'vitulli', 'war-rationed', 'water-authority', 'we-japanese', 'weisfield', 'wfrr', 'wheel-loader', 'wheeland', 'when-issued', 'wine-buying', 'wtd', 'year-ago', 'year-earlier', 'yeargin', 'yen-denominated', 'yen-support']\n",
            "\n",
            "- Validation set OOV words: ['11\\\\/16', '12\\\\/32', '13.625', '13\\\\/16', '14.', '14\\\\/32', '16\\\\/32', '1738.1', '190-point', '1928-33', '1937-40', '1\\\\/8', '20-stock', '2003\\\\/2007', '2141.7', '2160.1', '2163.2', '22\\\\/32', '23,403', '238,000-circulation', '2691.19', '271-147', '29year', '2\\\\/32', '3,040,000', '3,250,000', '30,537', '300-113', '300-a-share', '352.9', '35500.64', '35564.43', '3648.82', '372.9', '3\\\\/8', '47.125', '5.435', '6\\\\/2', '7.272', '7.422', '7.458', '71,309', '7\\\\/16', '8.467', '8.575', '877,663', '95.09', '9\\\\/32', 'acid-rain', 'airline-related', 'anku', 'anti-deficiency', 'anti-miscarriage', 'anti-morning-sickness', 'anti-program', 'anti-programmers', 'arbitraging', 'arighi', 'ballantine\\\\/del', 'band-wagon', 'bank-backed', 'boogieman', 'bottom-line', 'breakey', 'buy-outs', 'c.d.s', 'capital-markets', 'car-care', 'car-development', 'card-member', 'certin', 'circuit-board', 'citizen-sparked', 'clean-air', 'cleaner-burning', 'contingency-fee', 'continuingly', 'corporate-wide', 'crane-safety', 'credit-rating', 'crystal-lattice', 'cup-tote', 'diceon', 'disaster-assistance', 'double-c', 'dydee', 'ednie', 'egnuss', 'electrical-safety', 'enzor', 'equity-purchase', 'executive-office', 'express-buick', 'fiber-end', 'financial-services', 'flim-flammery', 'foldability', 'food-industry', 'four-foot-high', 'free-enterprise', 'freshbake', 'freudtoy', 'gates-warren', 'hart-scott-rodino', 'heebie-jeebies', 'heiwado', 'herald-american', 'high-polluting', 'house-senate', 'housing-assistance', 'incentive-backed', 'index-fund', 'industry-supported', 'insider-trading', 'insurance-company', 'intecknings', 'investment-grade', 'labor-backed', 'land-idling', 'larger-than-normal', 'less-than-brilliant', 'lightning-fast', 'liquid-nitrogen', 'long-tenured', 'lookee-loos', 'lynch-mob', 'market-makers', 'mega-stadium', 'melt-textured', 'middle-ground', 'midwesco', 'million-a-year', 'minicrash', 'most-likely-successor', 'motor-home', 'much-larger', 'multi-crystal', 'mutchin', 'mutual-fund', 'n.v', 'new-car', 'news-american', 'non-callable', 'nylev', 'odd-year', 'one-house', 'one-newspaper', 'parts-engineering', 'pension-fund', 'phacoflex', 'potables', 'prevalance', 'price-depressing', 'price-support', 'pricings', 'profit-taking', 'propagandizes', 'property\\\\/casualty', 'prudential-bache', 'quantitive', 'radio-station', 'rey\\\\/fawcett', 'scypher', 'seven-million-ton', 'severable', 'shokubai', 'sidak', 'single-lot', 'stock-picking', 'stock-price', 'stock-selection', 'stock-specialist', 'substance-abusing', 'sulfur-dioxide', 'super-absorbent', 'superdot', 'takeover-stock', 'test-drive', 'then-speaker', 'tire-kickers', 'triple-a-rated', 'triple-c', 'truth-in-lending', 'two-time-losers', 'veraldi', 'walbrecher', 'wamre', 'write-downs', 'yttrium-containing']\n",
            "\n",
            "- Test set OOV words: ['0.0085', '1.1650', '1.637', '1.916', '100-megabyte', '11,390,000', '11-month-old', '120-a-share', '1206.26', '126.15', '129.91', '131.01', '142.84', '154,240,000', '158,666', '170,262', '18-a-share', '188.84', '19-month-old', '2,050-passenger', '220.45', '226,570,380', '237-seat', '26,956', '263.07', '292.32', '300-day', '319.75', '34.625', '341.20', '3436.58', '36-store', '361.8', '372.14', '377.60', '38.875', '387.8', '40-megabyte', '43.875', '434.4', '45-a-share', '494.50', '5,699', '5.2180', '50\\\\/50', '55-a-share', '566.54', '6,799', '608,413', '618.1', '630.9', '734.9', '811.9', '83,206', '87-store', '967,809', 'above-market', 'acquisition-minded', 'arbitrage-related', 'asset-valuation', 'bankruptcy-law', 'blood-cell', 'blue-chips', 'bread-and-butter', 'bronces', 'cash-and-stock', 'cents-a-unit', 'colorliner', 'computer-services', 'conn.based', 'constitutional-law', 'copper-rich', 'corn-buying', 'cost-control', 'crookery', 'derchin', 'diloreto', 'disputada', 'disputado', 'early-retirement', 'ex-dividend', 'exxon-owned', 'g.m.b', 'garden-variety', 'guber\\\\/peters', 'hadson', 'hasbrouk', 'headcount-control', 'heavy-truck', 'high-rolling', 'information-services', 'intelogic', 'inter-tel', 'interleukin-3', 'johnson-era', 'launch-vehicle', 'lentjes', 'life-of-contract', 'lobsenz', 'louisiana-pacific', 'manmade-fiber', 'mariotta', 'minimum-wage', 'more-advanced', 'near-limit', 'newspaper-printing', 'nofzinger', 'noncompetitively', 'passenger-car', 'per-share', 'prior-year', 'pro-iranian', 'protein-1', 'reupke', 'sept.30', 'seven-yen', 'several-year', 'sewing-machine', 'shareholder-rights', 'staff-reduction', 'tete-a-tete', 'txo', 'unicorp', 'waertsilae', 'waymar', 'weapons-modernization', 'yet-to-be-formed', 'yoshihashi']\n"
          ]
        }
      ],
      "source": [
        "print(\"- Train set OOV words:\",list(OOV1.keys()))\n",
        "print()\n",
        "print(\"- Validation set OOV words:\",list(OOV2.keys()))\n",
        "print()\n",
        "print(\"- Test set OOV words:\",list(OOV3.keys()))"
      ]
    },
    {
      "cell_type": "markdown",
      "metadata": {
        "id": "yvWFlH_Rr7gR"
      },
      "source": [
        "We can see that most of the OOV words are numbers and composite words. Also there is a POS wrongly represented in the sentence ( the wort 'lrb' is present in the GloVe embedding instead '-lcb-' is not). \n",
        "\n",
        "We will not pre-process these OOV words  given that they are very infrequent."
      ]
    },
    {
      "cell_type": "markdown",
      "metadata": {
        "id": "E5c5LeQ6ufm4"
      },
      "source": [
        "###  One Hot Encoding of POS Tags\n",
        "\n",
        "\n",
        "The task to the performed by the model is a multi-class classification therefore the labels are not encoded assigning integer values to each different class, but rather by one hot encoding."
      ]
    },
    {
      "cell_type": "code",
      "execution_count": 40,
      "metadata": {
        "id": "vrxVQunjgTG5"
      },
      "outputs": [],
      "source": [
        "from sklearn.preprocessing import OneHotEncoder"
      ]
    },
    {
      "cell_type": "markdown",
      "metadata": {
        "id": "AFDFMm98E9U3"
      },
      "source": [
        "* The labels (*y_train_tags* and all others labels arrays) will be one hot encoded and will need to have the following shape:\n",
        "\n",
        "    ```\n",
        "    (number_of_sentences,max_sentence_lenght,number_of_tags )\n",
        "    ```"
      ]
    },
    {
      "cell_type": "code",
      "execution_count": 41,
      "metadata": {
        "colab": {
          "base_uri": "https://localhost:8080/"
        },
        "id": "sISLzosfGdw4",
        "outputId": "8f365c23-2e2a-4e23-8cd3-5a31ce6c97e4"
      },
      "outputs": [
        {
          "output_type": "execute_result",
          "data": {
            "text/plain": [
              "OneHotEncoder(sparse=False)"
            ]
          },
          "metadata": {},
          "execution_count": 41
        }
      ],
      "source": [
        "ohe = OneHotEncoder(sparse=False) # Get one hot encoding for POS tags in the training dataset\n",
        "ohe.fit(sort_tags.reshape(-1,1))"
      ]
    },
    {
      "cell_type": "code",
      "source": [
        "max_tags = len(sort_tags) "
      ],
      "metadata": {
        "id": "uOYyrwPUqHvJ"
      },
      "execution_count": 42,
      "outputs": []
    },
    {
      "cell_type": "code",
      "execution_count": 43,
      "metadata": {
        "id": "M6Ca7FCZmkyL"
      },
      "outputs": [],
      "source": [
        "\"\"\"\n",
        "This function \n",
        "array: Input array should be the an array \n",
        "which contains the tags of each sentence that will be one hot encoded\n",
        "\n",
        "max_size is the max sentence lenght: 250\n",
        "max_tags is the maximum number of tags: 46\n",
        "\"\"\"\n",
        "\n",
        "def ohe_convert_shape(array):\n",
        "    result = []\n",
        "    for i,tags in enumerate(array):\n",
        "        encoded = ohe.transform(tags.reshape(-1,1))\n",
        "        padding = (max_size,max_tags)\n",
        "        result.append(pad(encoded,padding))\n",
        "    return np.array(result)"
      ]
    },
    {
      "cell_type": "code",
      "execution_count": 44,
      "metadata": {
        "id": "SdSkd-Iaij5T"
      },
      "outputs": [],
      "source": [
        "y_train = ohe_convert_shape(y_train_tags)\n",
        "y_val = ohe_convert_shape(y_val_tags)\n",
        "y_test = ohe_convert_shape(y_test_tags)"
      ]
    },
    {
      "cell_type": "markdown",
      "source": [
        "Displaying the OneHotEncoded arrays"
      ],
      "metadata": {
        "id": "BwpNgFdrqaxO"
      }
    },
    {
      "cell_type": "code",
      "source": [
        "print(X_train_sents[0])\n",
        "print()\n",
        "print(y_train_tags[0])\n",
        "print(\"\\nDisplaying One Hot Encoding of the first words in the first sentence of the train set:\\n\")\n",
        "\n",
        "print(f\"\\nEncoding of first tag: {y_train_tags[0][0]}\")\n",
        "print(y_train[0][0])\n",
        "print()\n",
        "print(f\"Encoding of second tag: {y_train_tags[0][1]}\")\n",
        "print(y_train[0][1])\n",
        "print()\n",
        "print(f\"Encoding of the third tag: {y_train_tags[0][2]}\")\n",
        "print(y_train[0][2])\n"
      ],
      "metadata": {
        "colab": {
          "base_uri": "https://localhost:8080/"
        },
        "id": "4GTvHZaLq-QD",
        "outputId": "e204cf90-37be-4aa9-cf9a-a9e8b9aade1c"
      },
      "execution_count": 52,
      "outputs": [
        {
          "output_type": "stream",
          "name": "stdout",
          "text": [
            "['pierre' 'vinken' ',' '61' 'years' 'old' ',' 'will' 'join' 'the' 'board'\n",
            " 'as' 'a' 'nonexecutive' 'director' 'nov.' '29' '.']\n",
            "\n",
            "['NNP' 'NNP' ',' 'CD' 'NNS' 'JJ' ',' 'MD' 'VB' 'DT' 'NN' 'IN' 'DT' 'JJ'\n",
            " 'NN' 'NNP' 'CD' '.']\n",
            "\n",
            "Displaying One Hot Encoding of the first words in the first sentence of the train set:\n",
            "\n",
            "\n",
            "Encoding of first tag: NNP\n",
            "[0. 0. 0. 0. 0. 0. 0. 0. 0. 0. 0. 0. 0. 0. 0. 0. 0. 0. 0. 0. 1. 0. 0. 0.\n",
            " 0. 0. 0. 0. 0. 0. 0. 0. 0. 0. 0. 0. 0. 0. 0. 0. 0. 0. 0. 0. 0. 0.]\n",
            "\n",
            "Encoding of second tag: NNP\n",
            "[0. 0. 0. 0. 0. 0. 0. 0. 0. 0. 0. 0. 0. 0. 0. 0. 0. 0. 0. 0. 1. 0. 0. 0.\n",
            " 0. 0. 0. 0. 0. 0. 0. 0. 0. 0. 0. 0. 0. 0. 0. 0. 0. 0. 0. 0. 0. 0.]\n",
            "\n",
            "Encoding of the third tag: ,\n",
            "[0. 0. 0. 1. 0. 0. 0. 0. 0. 0. 0. 0. 0. 0. 0. 0. 0. 0. 0. 0. 0. 0. 0. 0.\n",
            " 0. 0. 0. 0. 0. 0. 0. 0. 0. 0. 0. 0. 0. 0. 0. 0. 0. 0. 0. 0. 0. 0.]\n"
          ]
        }
      ]
    },
    {
      "cell_type": "markdown",
      "source": [
        "The first two tags have the same one hot encoding given that they are NNP. The third tag is a comma and it is represented with a different encoding."
      ],
      "metadata": {
        "id": "EJwmRrv5rof3"
      }
    },
    {
      "cell_type": "code",
      "source": [
        "print(f\"- Shape of the train set: {y_train.shape}\")\n",
        "print()\n",
        "print(f\"- Shape of the validation set: {y_val.shape}\")\n",
        "print()\n",
        "print(f\"- Shape of the test set: {y_test.shape}\")"
      ],
      "metadata": {
        "colab": {
          "base_uri": "https://localhost:8080/"
        },
        "id": "kArXPZrgqvXZ",
        "outputId": "3d9078e7-e5ab-48f5-e611-5cd1c5738c17"
      },
      "execution_count": 53,
      "outputs": [
        {
          "output_type": "stream",
          "name": "stdout",
          "text": [
            "- Shape of the train set: (1963, 250, 46)\n",
            "\n",
            "- Shape of the validation set: (1299, 250, 46)\n",
            "\n",
            "- Shape of the test set: (652, 250, 46)\n"
          ]
        }
      ]
    },
    {
      "cell_type": "markdown",
      "metadata": {
        "id": "iOX1HCUXroLD"
      },
      "source": [
        "# 3. Modeling\n",
        "\n",
        "\n"
      ]
    },
    {
      "cell_type": "markdown",
      "metadata": {
        "id": "E44-VwGBrrXc"
      },
      "source": [
        "### Architectures used:\n",
        "#### Baseline model\n",
        "* Bidirectional LSMT + Dense layer \n",
        "\n",
        "#### Variations\n",
        "* Bidirectional GRU + Dense layer\n",
        "* Two Bidirectional LSMT + Dense layer\n",
        "* Bidirectional LSMT + Two Dense layer"
      ]
    },
    {
      "cell_type": "code",
      "execution_count": 54,
      "metadata": {
        "id": "Eo4e3rgwisjS"
      },
      "outputs": [],
      "source": [
        "n_classes = y_train.shape[2] # 46"
      ]
    },
    {
      "cell_type": "code",
      "execution_count": 56,
      "metadata": {
        "id": "ECWAo80AWBn0"
      },
      "outputs": [],
      "source": [
        "tfa_f1 = tfa.metrics.F1Score(\n",
        "    num_classes= n_classes,\n",
        "    name = 'f1_score',\n",
        "    )\n",
        "\n",
        "indices = [0, 1, 2, 3, 4, 5, 6,7, 17, 31, 44] \n",
        "\n",
        "def f1_with_tfa(y_true, y_pred):\n",
        "    \"\"\"\n",
        "    Computes the F1 score using TensorFlow.\n",
        "    The punctuation is ignored.\n",
        "    \"\"\"\n",
        "    y_true = tf.reshape(y_true, (-1, n_classes))\n",
        "\n",
        "\n",
        "    punctuation = tf.gather(y_true, indices, axis=-1)\n",
        "\n",
        "    y_mask = tf.cast(tf.logical_not(tf.reduce_any( \\\n",
        "                    tf.cast(punctuation, tf.bool), axis=-1)), tf.float32)\n",
        "    \n",
        "    y_pred = tf.reshape(y_pred, (-1, n_classes))\n",
        "    \n",
        "    tfa_f1.update_state(y_true, y_pred, sample_weight=y_mask)\n",
        "    \n",
        "    result = tfa_f1.result()\n",
        "    \n",
        "    K.batch_set_value([(v, np.zeros(v.shape.as_list())) for v in tfa_f1.variables])\n",
        "    return K.sum(result)/(n_classes-len(indices))\n"
      ]
    },
    {
      "cell_type": "markdown",
      "metadata": {
        "id": "K_Apzti3xKMi"
      },
      "source": [
        "## Baseline model"
      ]
    },
    {
      "cell_type": "markdown",
      "metadata": {
        "id": "PwKhULrrpCuR"
      },
      "source": [
        "### Model 1: BILST with a Dense layer"
      ]
    },
    {
      "cell_type": "markdown",
      "metadata": {
        "id": "mAXdEvGoVogv"
      },
      "source": [
        "Below we define the model architecture with some hyperparameter specified. The Masking layers is useful for ignoring the padding of the X array."
      ]
    },
    {
      "cell_type": "code",
      "execution_count": 57,
      "metadata": {
        "id": "hlQo_NKOi3t1"
      },
      "outputs": [],
      "source": [
        "  # Define the model architecture\n",
        "def BiLSTM(hp):\n",
        "    model = Sequential()\n",
        "    model.add(Masking(name='padding_x', mask_value=0., input_shape=X_train.shape[1:]))\n",
        "    model.add(Bidirectional(LSTM(units=hp.Int('units', min_value=64, max_value=256, step=64),kernel_regularizer=keras.regularizers.l2(0.01), return_sequences=True,name=\"bilstm_1\")))\n",
        "    model.add(Dropout(rate=hp.Float('dropout',min_value=0.0,max_value=0.5,default=0.2,step=0.1)))\n",
        "    model.add(TimeDistributed(Dense(n_classes, activation=\"softmax\", name=\"dense_1\")))\n",
        "    model.compile(optimizer=Adam(hp.Choice('learning_rate', values=[1e-2, 1e-3, 1e-4])), \n",
        "                loss='categorical_crossentropy', metrics=['categorical_accuracy',f1_with_tfa])\n",
        "    return model"
      ]
    },
    {
      "cell_type": "markdown",
      "metadata": {
        "id": "F5Adc2-xu-er"
      },
      "source": [
        "## Other models"
      ]
    },
    {
      "cell_type": "markdown",
      "metadata": {
        "id": "RgyeB-CxiCoX"
      },
      "source": [
        "### Model 2: GRU"
      ]
    },
    {
      "cell_type": "code",
      "execution_count": 58,
      "metadata": {
        "id": "qwcRxvXnrHEh"
      },
      "outputs": [],
      "source": [
        "# Create BiGRU and Dense layer\n",
        "def BiGRU(hp):\n",
        "    model = Sequential()\n",
        "    model.add(Masking(name='padding', mask_value=0., input_shape=X_train.shape[1:]))\n",
        "    model.add(Bidirectional(GRU(units=hp.Int('units', min_value=64, max_value=256, step=64),kernel_regularizer=keras.regularizers.l2(0.01), return_sequences=True,name=\"gru_1\")))\n",
        "    model.add(Dropout(rate=hp.Float('dropout',min_value=0.0,max_value=0.5,default=0.2,step=0.1)))   \n",
        "    model.add(TimeDistributed(Dense(n_classes, activation=\"softmax\", name=\"dense_1\")))\n",
        "    model.compile(optimizer=Adam(hp.Choice('learning_rate', values=[1e-2, 1e-3, 1e-4])), \n",
        "                loss='categorical_crossentropy', metrics=['categorical_accuracy',f1_with_tfa])\n",
        "    return model"
      ]
    },
    {
      "cell_type": "markdown",
      "metadata": {
        "id": "gk5ksZUdiA6b"
      },
      "source": [
        "### Model 3: Two BILSTM"
      ]
    },
    {
      "cell_type": "code",
      "execution_count": 59,
      "metadata": {
        "id": "MOYO2YQWruC2"
      },
      "outputs": [],
      "source": [
        "# Create model with two BiLSTM layers and Dense layer\n",
        "def two_BiLSTM(hp):\n",
        "    model = Sequential()\n",
        "    model.add(Masking(name='padding', mask_value=0., input_shape=X_train.shape[1:]))\n",
        "    model.add(Bidirectional(LSTM(units=hp.Int('units', min_value=64, max_value=256, step=64),kernel_regularizer=keras.regularizers.l2(0.01), return_sequences=True,name=\"bilstm_1\")))\n",
        "    model.add(Bidirectional(LSTM(units=hp.Int('units2', min_value=64, max_value=256, step=64),kernel_regularizer=keras.regularizers.l2(0.01), return_sequences=True,name=\"bilstm_2\")))\n",
        "    model.add(Dropout(rate=hp.Float('dropout',min_value=0.0,max_value=0.5,default=0.2,step=0.1)))   \n",
        "    model.add(TimeDistributed(Dense(n_classes, activation=\"softmax\", name=\"dense_1\")))\n",
        "    model.compile(optimizer=Adam(hp.Choice('learning_rate', values=[1e-2, 1e-3, 1e-4])), \n",
        "                loss='categorical_crossentropy', metrics=['categorical_accuracy',f1_with_tfa])\n",
        "    return model"
      ]
    },
    {
      "cell_type": "markdown",
      "metadata": {
        "id": "jaWXFpJRpQPw"
      },
      "source": [
        "### Model 4: BILSTM + Dense Layer"
      ]
    },
    {
      "cell_type": "code",
      "execution_count": 60,
      "metadata": {
        "id": "58yaXSRVuLuQ"
      },
      "outputs": [],
      "source": [
        "# Create model with one BiLSTM layers and two Dense layers\n",
        "def bilstm_two_dense(hp):\n",
        "    model = Sequential()\n",
        "    model.add(Masking(name='padding', mask_value=0., input_shape=X_train.shape[1:]))\n",
        "    model.add(Bidirectional(LSTM(units=hp.Int('units', min_value=64, max_value=256, step=64),kernel_regularizer=keras.regularizers.l2(0.01), return_sequences=True,name=\"bilstm_1\")))\n",
        "    model.add(Dropout(rate=hp.Float('dropout_1',min_value=0.0,max_value=0.5,default=0.2,step=0.1)))      \n",
        "    model.add(TimeDistributed(Dense(units=hp.Int('units2', min_value=64, max_value=256, step=64),activation=\"relu\",name=\"dense_1\")))\n",
        "    model.add(Dropout(rate=hp.Float('dropout_2',min_value=0.0,max_value=0.5,default=0.2,step=0.1)))   \n",
        "    model.add(TimeDistributed(Dense(n_classes, activation=\"softmax\", name=\"dense_2\")))\n",
        "    model.compile(optimizer=Adam(hp.Choice('learning_rate', values=[1e-2, 1e-3, 1e-4])), \n",
        "                loss='categorical_crossentropy', metrics=['categorical_accuracy',f1_with_tfa])\n",
        "    return model"
      ]
    },
    {
      "cell_type": "markdown",
      "metadata": {
        "id": "xY5je0Whm51J"
      },
      "source": [
        "## 3.2 Hyperparameter tuning"
      ]
    },
    {
      "cell_type": "markdown",
      "metadata": {
        "id": "FY6Xhntwxry4"
      },
      "source": [
        "### Model 1: BILST with a Dense layer "
      ]
    },
    {
      "cell_type": "code",
      "execution_count": 61,
      "metadata": {
        "colab": {
          "base_uri": "https://localhost:8080/"
        },
        "id": "b7zkpNu8rrCp",
        "outputId": "73b8f8db-c0fb-4385-a00c-f8867172384e"
      },
      "outputs": [
        {
          "output_type": "stream",
          "name": "stdout",
          "text": [
            "Trial 4 Complete [00h 00m 53s]\n",
            "val_f1_with_tfa: 0.12459729611873627\n",
            "\n",
            "Best val_f1_with_tfa So Far: 0.4421629011631012\n",
            "Total elapsed time: 00h 02m 28s\n",
            "Hyper parameter tuning completed.\n",
            "=====================================\n",
            "The optimal rate for the Dropout layer is 0.0.\n",
            "The optimal number of units in the LSTM layer is 192.\n",
            "The optimal learning rate for the optimizer is 0.001.\n"
          ]
        }
      ],
      "source": [
        "# Hyperparameter optimization using random search\n",
        "tuner_bilstm = RandomSearch(BiLSTM, objective=Objective('val_f1_with_tfa', direction='max'), max_trials=4,seed=42, overwrite=True)\n",
        "tuner_bilstm.search(X_train,y_train, epochs=10, validation_data=(X_val, y_val))\n",
        "\n",
        "best_hps_bilstm = tuner_bilstm.get_best_hyperparameters()[0]\n",
        "\n",
        "print(f\"Hyper parameter tuning completed.\\n\" \n",
        "      f\"=====================================\\n\"\n",
        "      f\"The optimal rate for the Dropout layer is {best_hps_bilstm.get('dropout')}.\\n\" \n",
        "      f\"The optimal number of units in the LSTM layer is {best_hps_bilstm.get('units')}.\\n\" \n",
        "      f\"The optimal learning rate for the optimizer is {best_hps_bilstm.get('learning_rate')}.\")"
      ]
    },
    {
      "cell_type": "code",
      "source": [
        "from keras.utils.vis_utils import plot_model\n",
        "plot_model(tuner_bilstm.get_best_models()[0], show_shapes=True, show_layer_names=True)"
      ],
      "metadata": {
        "colab": {
          "base_uri": "https://localhost:8080/",
          "height": 660
        },
        "id": "dj4a8RrDwFX5",
        "outputId": "e07f782e-a60c-406f-d3ea-4d5f2bc4a5ed"
      },
      "execution_count": 62,
      "outputs": [
        {
          "output_type": "stream",
          "name": "stderr",
          "text": [
            "WARNING:tensorflow:Detecting that an object or model or tf.train.Checkpoint is being deleted with unrestored values. See the following logs for the specific values in question. To silence these warnings, use `status.expect_partial()`. See https://www.tensorflow.org/api_docs/python/tf/train/Checkpoint#restorefor details about the status object returned by the restore function.\n",
            "WARNING:tensorflow:Value in checkpoint could not be found in the restored object: (root).optimizer.iter\n",
            "WARNING:tensorflow:Value in checkpoint could not be found in the restored object: (root).optimizer.beta_1\n",
            "WARNING:tensorflow:Value in checkpoint could not be found in the restored object: (root).optimizer.beta_2\n",
            "WARNING:tensorflow:Value in checkpoint could not be found in the restored object: (root).optimizer.decay\n",
            "WARNING:tensorflow:Value in checkpoint could not be found in the restored object: (root).optimizer.learning_rate\n"
          ]
        },
        {
          "output_type": "execute_result",
          "data": {
            "image/png": "[encoded data removed]",
            "text/plain": [
              "<IPython.core.display.Image object>"
            ]
          },
          "metadata": {},
          "execution_count": 62
        }
      ]
    },
    {
      "cell_type": "markdown",
      "metadata": {
        "id": "soiCMA8ix_Uh"
      },
      "source": [
        "### Model 2: Bidirectional GRU + Dense layer "
      ]
    },
    {
      "cell_type": "code",
      "execution_count": 63,
      "metadata": {
        "colab": {
          "base_uri": "https://localhost:8080/"
        },
        "id": "TIiOnfB4WK9Y",
        "outputId": "7a577575-a77c-4a63-a478-52d12db36ae9"
      },
      "outputs": [
        {
          "output_type": "stream",
          "name": "stdout",
          "text": [
            "Trial 3 Complete [00h 00m 30s]\n",
            "val_f1_with_tfa: 0.11457956582307816\n",
            "\n",
            "Best val_f1_with_tfa So Far: 0.4702557921409607\n",
            "Total elapsed time: 00h 01m 53s\n",
            "Hyper parameter tuning completed.\n",
            "=====================================\n",
            "The optimal rate for the Dropout layer is 0.0.\n",
            "The optimal number of units in the LSTM layer is 192.\n",
            "The optimal learning rate for the optimizer is 0.001.\n"
          ]
        }
      ],
      "source": [
        "# Hyperparameter optimization using random search\n",
        "tuner_bigru = RandomSearch(BiGRU, objective=Objective('val_f1_with_tfa', direction='max'), max_trials=3, overwrite=True,seed=42)\n",
        "tuner_bigru.search(X_train,y_train, epochs=10, validation_data=(X_val, y_val))\n",
        "\n",
        "best_hps_bigru = tuner_bigru.get_best_hyperparameters()[0]\n",
        "\n",
        "print(f\"Hyper parameter tuning completed.\\n\" \n",
        "      f\"=====================================\\n\" \n",
        "      f\"The optimal rate for the Dropout layer is {best_hps_bigru.get('dropout')}.\\n\" \n",
        "      f\"The optimal number of units in the LSTM layer is {best_hps_bigru.get('units')}.\\n\" \n",
        "      f\"The optimal learning rate for the optimizer is {best_hps_bigru.get('learning_rate')}.\")"
      ]
    },
    {
      "cell_type": "code",
      "execution_count": 64,
      "metadata": {
        "id": "NmLeE8ByXf2L",
        "colab": {
          "base_uri": "https://localhost:8080/",
          "height": 660
        },
        "outputId": "f155de84-277d-433f-b9de-08175b61b5c4"
      },
      "outputs": [
        {
          "output_type": "stream",
          "name": "stderr",
          "text": [
            "WARNING:tensorflow:Detecting that an object or model or tf.train.Checkpoint is being deleted with unrestored values. See the following logs for the specific values in question. To silence these warnings, use `status.expect_partial()`. See https://www.tensorflow.org/api_docs/python/tf/train/Checkpoint#restorefor details about the status object returned by the restore function.\n",
            "WARNING:tensorflow:Value in checkpoint could not be found in the restored object: (root).optimizer.iter\n",
            "WARNING:tensorflow:Value in checkpoint could not be found in the restored object: (root).optimizer.beta_1\n",
            "WARNING:tensorflow:Value in checkpoint could not be found in the restored object: (root).optimizer.beta_2\n",
            "WARNING:tensorflow:Value in checkpoint could not be found in the restored object: (root).optimizer.decay\n",
            "WARNING:tensorflow:Value in checkpoint could not be found in the restored object: (root).optimizer.learning_rate\n"
          ]
        },
        {
          "output_type": "execute_result",
          "data": {
            "image/png": "[encoded data removed]",
            "text/plain": [
              "<IPython.core.display.Image object>"
            ]
          },
          "metadata": {},
          "execution_count": 64
        }
      ],
      "source": [
        "plot_model(tuner_bigru.get_best_models()[0], show_shapes=True, show_layer_names=True)"
      ]
    },
    {
      "cell_type": "markdown",
      "metadata": {
        "id": "AG8IVTWfyBXJ"
      },
      "source": [
        "### Model 3:  Two Bidirectional LSMT + Dense layer "
      ]
    },
    {
      "cell_type": "code",
      "execution_count": 65,
      "metadata": {
        "colab": {
          "base_uri": "https://localhost:8080/"
        },
        "id": "T_NVEWIRLoMD",
        "outputId": "52ae2973-9be7-4fbe-9425-8d96c938ff10"
      },
      "outputs": [
        {
          "output_type": "stream",
          "name": "stdout",
          "text": [
            "Trial 4 Complete [00h 01m 02s]\n",
            "val_f1_with_tfa: 0.021917643025517464\n",
            "\n",
            "Best val_f1_with_tfa So Far: 0.3000120520591736\n",
            "Total elapsed time: 00h 05m 24s\n",
            "The hyperparameter search is complete.\n",
            "The optimal number of units in the LSTM layer is 128.\n",
            "The optimal rate for the Dropout layer is 0.30000000000000004.\n",
            "The optimal number of units in the second LSTM layer is 192.\n",
            "The optimal learning rate for the optimizer is 0.001.\n"
          ]
        }
      ],
      "source": [
        "# Hyperparameter optimization using random search\n",
        "tuner_two_bilstm = RandomSearch(two_BiLSTM, objective=Objective('val_f1_with_tfa', direction='max'), max_trials=4, overwrite=True)\n",
        "tuner_two_bilstm.search(X_train,y_train, epochs=15, validation_data=(X_val, y_val))\n",
        "\n",
        "best_hps_two_bilstm = tuner_two_bilstm.get_best_hyperparameters()[0]\n",
        "\n",
        "print(f\"The hyperparameter search is complete.\\n\" \n",
        "      f\"The optimal number of units in the LSTM layer is {best_hps_two_bilstm.get('units')}.\\n\" \n",
        "        f\"The optimal rate for the Dropout layer is {best_hps_two_bilstm.get('dropout')}.\\n\" \n",
        "\n",
        "      f\"The optimal number of units in the second LSTM layer is {best_hps_two_bilstm.get('units2')}.\\n\" \n",
        "      f\"The optimal learning rate for the optimizer is {best_hps_two_bilstm.get('learning_rate')}.\")"
      ]
    },
    {
      "cell_type": "code",
      "source": [
        "plot_model(tuner_two_bilstm.get_best_models()[0], show_shapes=True, show_layer_names=True)"
      ],
      "metadata": {
        "colab": {
          "base_uri": "https://localhost:8080/",
          "height": 771
        },
        "id": "uJhHQf-4zwpt",
        "outputId": "ce74e845-abb5-4198-d3a7-e4b7fe6618c9"
      },
      "execution_count": 66,
      "outputs": [
        {
          "output_type": "stream",
          "name": "stderr",
          "text": [
            "WARNING:tensorflow:Detecting that an object or model or tf.train.Checkpoint is being deleted with unrestored values. See the following logs for the specific values in question. To silence these warnings, use `status.expect_partial()`. See https://www.tensorflow.org/api_docs/python/tf/train/Checkpoint#restorefor details about the status object returned by the restore function.\n",
            "WARNING:tensorflow:Value in checkpoint could not be found in the restored object: (root).optimizer.iter\n",
            "WARNING:tensorflow:Value in checkpoint could not be found in the restored object: (root).optimizer.beta_1\n",
            "WARNING:tensorflow:Value in checkpoint could not be found in the restored object: (root).optimizer.beta_2\n",
            "WARNING:tensorflow:Value in checkpoint could not be found in the restored object: (root).optimizer.decay\n",
            "WARNING:tensorflow:Value in checkpoint could not be found in the restored object: (root).optimizer.learning_rate\n"
          ]
        },
        {
          "output_type": "execute_result",
          "data": {
            "image/png": "[encoded data removed]",
            "text/plain": [
              "<IPython.core.display.Image object>"
            ]
          },
          "metadata": {},
          "execution_count": 66
        }
      ]
    },
    {
      "cell_type": "markdown",
      "metadata": {
        "id": "1KQdGyTtyW5g"
      },
      "source": [
        "### Model 4: Bidirectional LSMT + two Dense layer "
      ]
    },
    {
      "cell_type": "code",
      "execution_count": 67,
      "metadata": {
        "colab": {
          "base_uri": "https://localhost:8080/"
        },
        "id": "tPqLeChY1RZm",
        "outputId": "37af986e-7f39-4ea1-8340-6efefe13e569"
      },
      "outputs": [
        {
          "output_type": "stream",
          "name": "stdout",
          "text": [
            "Trial 3 Complete [00h 00m 32s]\n",
            "val_f1_with_tfa: 0.2328069508075714\n",
            "\n",
            "Best val_f1_with_tfa So Far: 0.5809867978096008\n",
            "Total elapsed time: 00h 01m 31s\n",
            "\n",
            " Hyperparameter tuning done.\n",
            "The optimal rate for the first Dropout layer is 0.0.\n",
            "The optimal rate for the secibd Dropout layer is 0.1.\n",
            "The optimal number of units in the LSTM layer is 192.\n",
            "The optimal number of units in the second LSTM layer is 128.\n",
            "The optimal learning rate for the optimizer is 0.01.\n"
          ]
        }
      ],
      "source": [
        "# Hyperparameter optimization using random search\n",
        "tuner_bilstm_two_dense = RandomSearch(bilstm_two_dense, objective=Objective('val_f1_with_tfa', direction='max'), max_trials=3,seed=42, overwrite=True)\n",
        "tuner_bilstm_two_dense.search(X_train,y_train, epochs=10, validation_data=(X_val, y_val))\n",
        "\n",
        "best_hps_bilstm_two_dense = tuner_bilstm_two_dense.get_best_hyperparameters()[0]\n",
        "\n",
        "print(f\"\\n Hyperparameter tuning done.\\n\" \n",
        "              f\"The optimal rate for the first Dropout layer is {best_hps_bilstm_two_dense.get('dropout_1')}.\\n\" \n",
        "        f\"The optimal rate for the secibd Dropout layer is {best_hps_bilstm_two_dense.get('dropout_2')}.\\n\" \n",
        "\n",
        "      f\"The optimal number of units in the LSTM layer is {best_hps_bilstm_two_dense.get('units')}.\\n\" \n",
        "      f\"The optimal number of units in the second LSTM layer is {best_hps_bilstm_two_dense.get('units2')}.\\n\" \n",
        "      f\"The optimal learning rate for the optimizer is {best_hps_bilstm_two_dense.get('learning_rate')}.\")"
      ]
    },
    {
      "cell_type": "code",
      "execution_count": 68,
      "metadata": {
        "id": "PudR0VxhYO03",
        "colab": {
          "base_uri": "https://localhost:8080/",
          "height": 881
        },
        "outputId": "bbff1d74-f615-4c75-d08d-1c3e8cb180df"
      },
      "outputs": [
        {
          "output_type": "stream",
          "name": "stderr",
          "text": [
            "WARNING:tensorflow:Detecting that an object or model or tf.train.Checkpoint is being deleted with unrestored values. See the following logs for the specific values in question. To silence these warnings, use `status.expect_partial()`. See https://www.tensorflow.org/api_docs/python/tf/train/Checkpoint#restorefor details about the status object returned by the restore function.\n",
            "WARNING:tensorflow:Value in checkpoint could not be found in the restored object: (root).optimizer.iter\n",
            "WARNING:tensorflow:Value in checkpoint could not be found in the restored object: (root).optimizer.beta_1\n",
            "WARNING:tensorflow:Value in checkpoint could not be found in the restored object: (root).optimizer.beta_2\n",
            "WARNING:tensorflow:Value in checkpoint could not be found in the restored object: (root).optimizer.decay\n",
            "WARNING:tensorflow:Value in checkpoint could not be found in the restored object: (root).optimizer.learning_rate\n"
          ]
        },
        {
          "output_type": "execute_result",
          "data": {
            "image/png": "[encoded data removed]",
            "text/plain": [
              "<IPython.core.display.Image object>"
            ]
          },
          "metadata": {},
          "execution_count": 68
        }
      ],
      "source": [
        "plot_model(tuner_bilstm_two_dense.get_best_models()[0], show_shapes=True, show_layer_names=True)"
      ]
    },
    {
      "cell_type": "markdown",
      "metadata": {
        "id": "c6do2pWDsLPK"
      },
      "source": [
        "##  3.3 Model training"
      ]
    },
    {
      "cell_type": "markdown",
      "metadata": {
        "id": "Mb-N5c6HXxPR"
      },
      "source": [
        "### Model 1: Bidirectional LSMT + Dense layer \n"
      ]
    },
    {
      "cell_type": "markdown",
      "source": [
        "Using accuracy for early stopping because it is not really possibile to gauge F1-score  on  mini-batches."
      ],
      "metadata": {
        "id": "9RAMCEKtmXuL"
      }
    },
    {
      "cell_type": "code",
      "execution_count": 69,
      "metadata": {
        "id": "4dFaNBcV65LA"
      },
      "outputs": [],
      "source": [
        "epochs_training = 100\n",
        "batch_size_training = 64\n",
        "callbacks_training = [keras.callbacks.EarlyStopping(monitor='val_categorical_accuracy', patience=10, mode=\"max\", restore_best_weights=True)]"
      ]
    },
    {
      "cell_type": "code",
      "execution_count": 70,
      "metadata": {
        "colab": {
          "base_uri": "https://localhost:8080/"
        },
        "id": "oVd2di6j4tls",
        "outputId": "1bd30836-b6e4-4d51-c428-f5f419a57bdf"
      },
      "outputs": [
        {
          "output_type": "stream",
          "name": "stdout",
          "text": [
            "Epoch 1/100\n",
            "31/31 [==============================] - 11s 128ms/step - loss: 2.3990 - categorical_accuracy: 0.1813 - f1_with_tfa: 0.0232 - val_loss: 1.2496 - val_categorical_accuracy: 0.2061 - val_f1_with_tfa: 0.0288\n",
            "Epoch 2/100\n",
            "31/31 [==============================] - 1s 33ms/step - loss: 0.7765 - categorical_accuracy: 0.2727 - f1_with_tfa: 0.0451 - val_loss: 0.4476 - val_categorical_accuracy: 0.3561 - val_f1_with_tfa: 0.0733\n",
            "Epoch 3/100\n",
            "31/31 [==============================] - 1s 34ms/step - loss: 0.3284 - categorical_accuracy: 0.4158 - f1_with_tfa: 0.0898 - val_loss: 0.2493 - val_categorical_accuracy: 0.4650 - val_f1_with_tfa: 0.1213\n",
            "Epoch 4/100\n",
            "31/31 [==============================] - 1s 33ms/step - loss: 0.2179 - categorical_accuracy: 0.5087 - f1_with_tfa: 0.1538 - val_loss: 0.1996 - val_categorical_accuracy: 0.5191 - val_f1_with_tfa: 0.1665\n",
            "Epoch 5/100\n",
            "31/31 [==============================] - 1s 33ms/step - loss: 0.1864 - categorical_accuracy: 0.5662 - f1_with_tfa: 0.1946 - val_loss: 0.1814 - val_categorical_accuracy: 0.5914 - val_f1_with_tfa: 0.2197\n",
            "Epoch 6/100\n",
            "31/31 [==============================] - 1s 33ms/step - loss: 0.1708 - categorical_accuracy: 0.6177 - f1_with_tfa: 0.2426 - val_loss: 0.1679 - val_categorical_accuracy: 0.6292 - val_f1_with_tfa: 0.2695\n",
            "Epoch 7/100\n",
            "31/31 [==============================] - 1s 34ms/step - loss: 0.1599 - categorical_accuracy: 0.6497 - f1_with_tfa: 0.2848 - val_loss: 0.1599 - val_categorical_accuracy: 0.6386 - val_f1_with_tfa: 0.2730\n",
            "Epoch 8/100\n",
            "31/31 [==============================] - 1s 34ms/step - loss: 0.1513 - categorical_accuracy: 0.6737 - f1_with_tfa: 0.3107 - val_loss: 0.1507 - val_categorical_accuracy: 0.6705 - val_f1_with_tfa: 0.3173\n",
            "Epoch 9/100\n",
            "31/31 [==============================] - 1s 34ms/step - loss: 0.1431 - categorical_accuracy: 0.6967 - f1_with_tfa: 0.3352 - val_loss: 0.1443 - val_categorical_accuracy: 0.6861 - val_f1_with_tfa: 0.3276\n",
            "Epoch 10/100\n",
            "31/31 [==============================] - 1s 34ms/step - loss: 0.1369 - categorical_accuracy: 0.7125 - f1_with_tfa: 0.3552 - val_loss: 0.1383 - val_categorical_accuracy: 0.7005 - val_f1_with_tfa: 0.3500\n",
            "Epoch 11/100\n",
            "31/31 [==============================] - 1s 34ms/step - loss: 0.1309 - categorical_accuracy: 0.7309 - f1_with_tfa: 0.3739 - val_loss: 0.1331 - val_categorical_accuracy: 0.7217 - val_f1_with_tfa: 0.3696\n",
            "Epoch 12/100\n",
            "31/31 [==============================] - 1s 33ms/step - loss: 0.1256 - categorical_accuracy: 0.7448 - f1_with_tfa: 0.3898 - val_loss: 0.1287 - val_categorical_accuracy: 0.7300 - val_f1_with_tfa: 0.3814\n",
            "Epoch 13/100\n",
            "31/31 [==============================] - 1s 33ms/step - loss: 0.1217 - categorical_accuracy: 0.7527 - f1_with_tfa: 0.4006 - val_loss: 0.1252 - val_categorical_accuracy: 0.7358 - val_f1_with_tfa: 0.3913\n",
            "Epoch 14/100\n",
            "31/31 [==============================] - 1s 33ms/step - loss: 0.1181 - categorical_accuracy: 0.7607 - f1_with_tfa: 0.4101 - val_loss: 0.1214 - val_categorical_accuracy: 0.7462 - val_f1_with_tfa: 0.4034\n",
            "Epoch 15/100\n",
            "31/31 [==============================] - 1s 34ms/step - loss: 0.1153 - categorical_accuracy: 0.7672 - f1_with_tfa: 0.4232 - val_loss: 0.1192 - val_categorical_accuracy: 0.7491 - val_f1_with_tfa: 0.4129\n",
            "Epoch 16/100\n",
            "31/31 [==============================] - 1s 35ms/step - loss: 0.1119 - categorical_accuracy: 0.7765 - f1_with_tfa: 0.4298 - val_loss: 0.1160 - val_categorical_accuracy: 0.7601 - val_f1_with_tfa: 0.4302\n",
            "Epoch 17/100\n",
            "31/31 [==============================] - 1s 34ms/step - loss: 0.1088 - categorical_accuracy: 0.7851 - f1_with_tfa: 0.4445 - val_loss: 0.1136 - val_categorical_accuracy: 0.7619 - val_f1_with_tfa: 0.4250\n",
            "Epoch 18/100\n",
            "31/31 [==============================] - 1s 35ms/step - loss: 0.1059 - categorical_accuracy: 0.7905 - f1_with_tfa: 0.4486 - val_loss: 0.1108 - val_categorical_accuracy: 0.7751 - val_f1_with_tfa: 0.4354\n",
            "Epoch 19/100\n",
            "31/31 [==============================] - 1s 33ms/step - loss: 0.1045 - categorical_accuracy: 0.7919 - f1_with_tfa: 0.4512 - val_loss: 0.1105 - val_categorical_accuracy: 0.7718 - val_f1_with_tfa: 0.4458\n",
            "Epoch 20/100\n",
            "31/31 [==============================] - 1s 34ms/step - loss: 0.1020 - categorical_accuracy: 0.7974 - f1_with_tfa: 0.4612 - val_loss: 0.1070 - val_categorical_accuracy: 0.7786 - val_f1_with_tfa: 0.4471\n",
            "Epoch 21/100\n",
            "31/31 [==============================] - 1s 34ms/step - loss: 0.1005 - categorical_accuracy: 0.8000 - f1_with_tfa: 0.4661 - val_loss: 0.1061 - val_categorical_accuracy: 0.7749 - val_f1_with_tfa: 0.4401\n",
            "Epoch 22/100\n",
            "31/31 [==============================] - 1s 34ms/step - loss: 0.0981 - categorical_accuracy: 0.8068 - f1_with_tfa: 0.4725 - val_loss: 0.1042 - val_categorical_accuracy: 0.7854 - val_f1_with_tfa: 0.4478\n",
            "Epoch 23/100\n",
            "31/31 [==============================] - 1s 33ms/step - loss: 0.0961 - categorical_accuracy: 0.8113 - f1_with_tfa: 0.4765 - val_loss: 0.1024 - val_categorical_accuracy: 0.7881 - val_f1_with_tfa: 0.4651\n",
            "Epoch 24/100\n",
            "31/31 [==============================] - 1s 33ms/step - loss: 0.0944 - categorical_accuracy: 0.8146 - f1_with_tfa: 0.4881 - val_loss: 0.1009 - val_categorical_accuracy: 0.7872 - val_f1_with_tfa: 0.4585\n",
            "Epoch 25/100\n",
            "31/31 [==============================] - 1s 33ms/step - loss: 0.0930 - categorical_accuracy: 0.8171 - f1_with_tfa: 0.4895 - val_loss: 0.0983 - val_categorical_accuracy: 0.7942 - val_f1_with_tfa: 0.4746\n",
            "Epoch 26/100\n",
            "31/31 [==============================] - 1s 34ms/step - loss: 0.0912 - categorical_accuracy: 0.8234 - f1_with_tfa: 0.4986 - val_loss: 0.0966 - val_categorical_accuracy: 0.7992 - val_f1_with_tfa: 0.4687\n",
            "Epoch 27/100\n",
            "31/31 [==============================] - 1s 33ms/step - loss: 0.0897 - categorical_accuracy: 0.8249 - f1_with_tfa: 0.5001 - val_loss: 0.0963 - val_categorical_accuracy: 0.7982 - val_f1_with_tfa: 0.4751\n",
            "Epoch 28/100\n",
            "31/31 [==============================] - 1s 34ms/step - loss: 0.0888 - categorical_accuracy: 0.8255 - f1_with_tfa: 0.5041 - val_loss: 0.0956 - val_categorical_accuracy: 0.7994 - val_f1_with_tfa: 0.4828\n",
            "Epoch 29/100\n",
            "31/31 [==============================] - 1s 33ms/step - loss: 0.0880 - categorical_accuracy: 0.8261 - f1_with_tfa: 0.5090 - val_loss: 0.0959 - val_categorical_accuracy: 0.7928 - val_f1_with_tfa: 0.4710\n",
            "Epoch 30/100\n",
            "31/31 [==============================] - 1s 33ms/step - loss: 0.0867 - categorical_accuracy: 0.8290 - f1_with_tfa: 0.5121 - val_loss: 0.0938 - val_categorical_accuracy: 0.8004 - val_f1_with_tfa: 0.4922\n",
            "Epoch 31/100\n",
            "31/31 [==============================] - 1s 33ms/step - loss: 0.0851 - categorical_accuracy: 0.8327 - f1_with_tfa: 0.5193 - val_loss: 0.0915 - val_categorical_accuracy: 0.8089 - val_f1_with_tfa: 0.4923\n",
            "Epoch 32/100\n",
            "31/31 [==============================] - 1s 34ms/step - loss: 0.0837 - categorical_accuracy: 0.8373 - f1_with_tfa: 0.5210 - val_loss: 0.0908 - val_categorical_accuracy: 0.8097 - val_f1_with_tfa: 0.4946\n",
            "Epoch 33/100\n",
            "31/31 [==============================] - 1s 34ms/step - loss: 0.0830 - categorical_accuracy: 0.8357 - f1_with_tfa: 0.5285 - val_loss: 0.0905 - val_categorical_accuracy: 0.8024 - val_f1_with_tfa: 0.4791\n",
            "Epoch 34/100\n",
            "31/31 [==============================] - 1s 34ms/step - loss: 0.0820 - categorical_accuracy: 0.8388 - f1_with_tfa: 0.5312 - val_loss: 0.0892 - val_categorical_accuracy: 0.8111 - val_f1_with_tfa: 0.4944\n",
            "Epoch 35/100\n",
            "31/31 [==============================] - 1s 34ms/step - loss: 0.0815 - categorical_accuracy: 0.8389 - f1_with_tfa: 0.5360 - val_loss: 0.0880 - val_categorical_accuracy: 0.8143 - val_f1_with_tfa: 0.5011\n",
            "Epoch 36/100\n",
            "31/31 [==============================] - 1s 33ms/step - loss: 0.0801 - categorical_accuracy: 0.8440 - f1_with_tfa: 0.5383 - val_loss: 0.0866 - val_categorical_accuracy: 0.8150 - val_f1_with_tfa: 0.4996\n",
            "Epoch 37/100\n",
            "31/31 [==============================] - 1s 33ms/step - loss: 0.0794 - categorical_accuracy: 0.8449 - f1_with_tfa: 0.5401 - val_loss: 0.0877 - val_categorical_accuracy: 0.8085 - val_f1_with_tfa: 0.4971\n",
            "Epoch 38/100\n",
            "31/31 [==============================] - 1s 35ms/step - loss: 0.0788 - categorical_accuracy: 0.8446 - f1_with_tfa: 0.5399 - val_loss: 0.0858 - val_categorical_accuracy: 0.8218 - val_f1_with_tfa: 0.5131\n",
            "Epoch 39/100\n",
            "31/31 [==============================] - 1s 33ms/step - loss: 0.0780 - categorical_accuracy: 0.8484 - f1_with_tfa: 0.5476 - val_loss: 0.0859 - val_categorical_accuracy: 0.8132 - val_f1_with_tfa: 0.4977\n",
            "Epoch 40/100\n",
            "31/31 [==============================] - 1s 33ms/step - loss: 0.0779 - categorical_accuracy: 0.8454 - f1_with_tfa: 0.5435 - val_loss: 0.0846 - val_categorical_accuracy: 0.8179 - val_f1_with_tfa: 0.5106\n",
            "Epoch 41/100\n",
            "31/31 [==============================] - 1s 35ms/step - loss: 0.0759 - categorical_accuracy: 0.8515 - f1_with_tfa: 0.5552 - val_loss: 0.0848 - val_categorical_accuracy: 0.8141 - val_f1_with_tfa: 0.5030\n",
            "Epoch 42/100\n",
            "31/31 [==============================] - 1s 34ms/step - loss: 0.0753 - categorical_accuracy: 0.8523 - f1_with_tfa: 0.5572 - val_loss: 0.0833 - val_categorical_accuracy: 0.8187 - val_f1_with_tfa: 0.5026\n",
            "Epoch 43/100\n",
            "31/31 [==============================] - 1s 34ms/step - loss: 0.0740 - categorical_accuracy: 0.8542 - f1_with_tfa: 0.5598 - val_loss: 0.0819 - val_categorical_accuracy: 0.8265 - val_f1_with_tfa: 0.5271\n",
            "Epoch 44/100\n",
            "31/31 [==============================] - 1s 34ms/step - loss: 0.0738 - categorical_accuracy: 0.8559 - f1_with_tfa: 0.5593 - val_loss: 0.0820 - val_categorical_accuracy: 0.8224 - val_f1_with_tfa: 0.5237\n",
            "Epoch 45/100\n",
            "31/31 [==============================] - 1s 34ms/step - loss: 0.0727 - categorical_accuracy: 0.8581 - f1_with_tfa: 0.5667 - val_loss: 0.0813 - val_categorical_accuracy: 0.8233 - val_f1_with_tfa: 0.5166\n",
            "Epoch 46/100\n",
            "31/31 [==============================] - 1s 34ms/step - loss: 0.0722 - categorical_accuracy: 0.8581 - f1_with_tfa: 0.5685 - val_loss: 0.0804 - val_categorical_accuracy: 0.8258 - val_f1_with_tfa: 0.5314\n",
            "Epoch 47/100\n",
            "31/31 [==============================] - 1s 35ms/step - loss: 0.0717 - categorical_accuracy: 0.8604 - f1_with_tfa: 0.5744 - val_loss: 0.0810 - val_categorical_accuracy: 0.8196 - val_f1_with_tfa: 0.5228\n",
            "Epoch 48/100\n",
            "31/31 [==============================] - 1s 34ms/step - loss: 0.0714 - categorical_accuracy: 0.8594 - f1_with_tfa: 0.5744 - val_loss: 0.0817 - val_categorical_accuracy: 0.8188 - val_f1_with_tfa: 0.5180\n",
            "Epoch 49/100\n",
            "31/31 [==============================] - 1s 34ms/step - loss: 0.0704 - categorical_accuracy: 0.8631 - f1_with_tfa: 0.5746 - val_loss: 0.0807 - val_categorical_accuracy: 0.8185 - val_f1_with_tfa: 0.5239\n",
            "Epoch 50/100\n",
            "31/31 [==============================] - 1s 34ms/step - loss: 0.0701 - categorical_accuracy: 0.8605 - f1_with_tfa: 0.5756 - val_loss: 0.0791 - val_categorical_accuracy: 0.8258 - val_f1_with_tfa: 0.5248\n",
            "Epoch 51/100\n",
            "31/31 [==============================] - 1s 34ms/step - loss: 0.0695 - categorical_accuracy: 0.8628 - f1_with_tfa: 0.5845 - val_loss: 0.0800 - val_categorical_accuracy: 0.8235 - val_f1_with_tfa: 0.5258\n",
            "Epoch 52/100\n",
            "31/31 [==============================] - 1s 33ms/step - loss: 0.0687 - categorical_accuracy: 0.8654 - f1_with_tfa: 0.5830 - val_loss: 0.0785 - val_categorical_accuracy: 0.8263 - val_f1_with_tfa: 0.5291\n",
            "Epoch 53/100\n",
            "31/31 [==============================] - 1s 34ms/step - loss: 0.0684 - categorical_accuracy: 0.8653 - f1_with_tfa: 0.5835 - val_loss: 0.0771 - val_categorical_accuracy: 0.8268 - val_f1_with_tfa: 0.5276\n",
            "Epoch 54/100\n",
            "31/31 [==============================] - 1s 34ms/step - loss: 0.0670 - categorical_accuracy: 0.8687 - f1_with_tfa: 0.5835 - val_loss: 0.0780 - val_categorical_accuracy: 0.8262 - val_f1_with_tfa: 0.5272\n",
            "Epoch 55/100\n",
            "31/31 [==============================] - 1s 33ms/step - loss: 0.0673 - categorical_accuracy: 0.8662 - f1_with_tfa: 0.6082 - val_loss: 0.0777 - val_categorical_accuracy: 0.8280 - val_f1_with_tfa: 0.5495\n",
            "Epoch 56/100\n",
            "31/31 [==============================] - 1s 34ms/step - loss: 0.0663 - categorical_accuracy: 0.8695 - f1_with_tfa: 0.6110 - val_loss: 0.0785 - val_categorical_accuracy: 0.8228 - val_f1_with_tfa: 0.5585\n",
            "Epoch 57/100\n",
            "31/31 [==============================] - 1s 34ms/step - loss: 0.0662 - categorical_accuracy: 0.8694 - f1_with_tfa: 0.6173 - val_loss: 0.0773 - val_categorical_accuracy: 0.8289 - val_f1_with_tfa: 0.5591\n",
            "Epoch 58/100\n",
            "31/31 [==============================] - 1s 33ms/step - loss: 0.0650 - categorical_accuracy: 0.8730 - f1_with_tfa: 0.6165 - val_loss: 0.0757 - val_categorical_accuracy: 0.8309 - val_f1_with_tfa: 0.5544\n",
            "Epoch 59/100\n",
            "31/31 [==============================] - 1s 34ms/step - loss: 0.0653 - categorical_accuracy: 0.8709 - f1_with_tfa: 0.6168 - val_loss: 0.0779 - val_categorical_accuracy: 0.8233 - val_f1_with_tfa: 0.5520\n",
            "Epoch 60/100\n",
            "31/31 [==============================] - 1s 34ms/step - loss: 0.0645 - categorical_accuracy: 0.8726 - f1_with_tfa: 0.6193 - val_loss: 0.0750 - val_categorical_accuracy: 0.8348 - val_f1_with_tfa: 0.5677\n",
            "Epoch 61/100\n",
            "31/31 [==============================] - 1s 34ms/step - loss: 0.0640 - categorical_accuracy: 0.8741 - f1_with_tfa: 0.6278 - val_loss: 0.0748 - val_categorical_accuracy: 0.8326 - val_f1_with_tfa: 0.5652\n",
            "Epoch 62/100\n",
            "31/31 [==============================] - 1s 33ms/step - loss: 0.0633 - categorical_accuracy: 0.8750 - f1_with_tfa: 0.6236 - val_loss: 0.0748 - val_categorical_accuracy: 0.8312 - val_f1_with_tfa: 0.5708\n",
            "Epoch 63/100\n",
            "31/31 [==============================] - 1s 33ms/step - loss: 0.0637 - categorical_accuracy: 0.8726 - f1_with_tfa: 0.6240 - val_loss: 0.0780 - val_categorical_accuracy: 0.8164 - val_f1_with_tfa: 0.5365\n",
            "Epoch 64/100\n",
            "31/31 [==============================] - 1s 34ms/step - loss: 0.0627 - categorical_accuracy: 0.8775 - f1_with_tfa: 0.6258 - val_loss: 0.0743 - val_categorical_accuracy: 0.8327 - val_f1_with_tfa: 0.5633\n",
            "Epoch 65/100\n",
            "31/31 [==============================] - 1s 33ms/step - loss: 0.0616 - categorical_accuracy: 0.8798 - f1_with_tfa: 0.6270 - val_loss: 0.0749 - val_categorical_accuracy: 0.8311 - val_f1_with_tfa: 0.5626\n",
            "Epoch 66/100\n",
            "31/31 [==============================] - 1s 34ms/step - loss: 0.0616 - categorical_accuracy: 0.8785 - f1_with_tfa: 0.6249 - val_loss: 0.0746 - val_categorical_accuracy: 0.8325 - val_f1_with_tfa: 0.5642\n",
            "Epoch 67/100\n",
            "31/31 [==============================] - 1s 34ms/step - loss: 0.0611 - categorical_accuracy: 0.8795 - f1_with_tfa: 0.6363 - val_loss: 0.0742 - val_categorical_accuracy: 0.8340 - val_f1_with_tfa: 0.5728\n",
            "Epoch 68/100\n",
            "31/31 [==============================] - 1s 33ms/step - loss: 0.0608 - categorical_accuracy: 0.8799 - f1_with_tfa: 0.6334 - val_loss: 0.0734 - val_categorical_accuracy: 0.8347 - val_f1_with_tfa: 0.5681\n",
            "Epoch 69/100\n",
            "31/31 [==============================] - 1s 33ms/step - loss: 0.0596 - categorical_accuracy: 0.8840 - f1_with_tfa: 0.6393 - val_loss: 0.0729 - val_categorical_accuracy: 0.8371 - val_f1_with_tfa: 0.5653\n",
            "Epoch 70/100\n",
            "31/31 [==============================] - 1s 34ms/step - loss: 0.0600 - categorical_accuracy: 0.8818 - f1_with_tfa: 0.6373 - val_loss: 0.0740 - val_categorical_accuracy: 0.8302 - val_f1_with_tfa: 0.5474\n",
            "Epoch 71/100\n",
            "31/31 [==============================] - 1s 33ms/step - loss: 0.0589 - categorical_accuracy: 0.8860 - f1_with_tfa: 0.6470 - val_loss: 0.0731 - val_categorical_accuracy: 0.8336 - val_f1_with_tfa: 0.5708\n",
            "Epoch 72/100\n",
            "31/31 [==============================] - 1s 34ms/step - loss: 0.0585 - categorical_accuracy: 0.8863 - f1_with_tfa: 0.6390 - val_loss: 0.0728 - val_categorical_accuracy: 0.8330 - val_f1_with_tfa: 0.5685\n",
            "Epoch 73/100\n",
            "31/31 [==============================] - 1s 33ms/step - loss: 0.0579 - categorical_accuracy: 0.8891 - f1_with_tfa: 0.6533 - val_loss: 0.0734 - val_categorical_accuracy: 0.8291 - val_f1_with_tfa: 0.5608\n",
            "Epoch 74/100\n",
            "31/31 [==============================] - 1s 36ms/step - loss: 0.0577 - categorical_accuracy: 0.8881 - f1_with_tfa: 0.6426 - val_loss: 0.0730 - val_categorical_accuracy: 0.8351 - val_f1_with_tfa: 0.5652\n",
            "Epoch 75/100\n",
            "31/31 [==============================] - 1s 34ms/step - loss: 0.0572 - categorical_accuracy: 0.8888 - f1_with_tfa: 0.6475 - val_loss: 0.0739 - val_categorical_accuracy: 0.8270 - val_f1_with_tfa: 0.5562\n",
            "Epoch 76/100\n",
            "31/31 [==============================] - 1s 35ms/step - loss: 0.0575 - categorical_accuracy: 0.8877 - f1_with_tfa: 0.6469 - val_loss: 0.0734 - val_categorical_accuracy: 0.8296 - val_f1_with_tfa: 0.5670\n",
            "Epoch 77/100\n",
            "31/31 [==============================] - 1s 35ms/step - loss: 0.0559 - categorical_accuracy: 0.8936 - f1_with_tfa: 0.6583 - val_loss: 0.0726 - val_categorical_accuracy: 0.8300 - val_f1_with_tfa: 0.5705\n",
            "Epoch 78/100\n",
            "31/31 [==============================] - 1s 33ms/step - loss: 0.0555 - categorical_accuracy: 0.8937 - f1_with_tfa: 0.6577 - val_loss: 0.0728 - val_categorical_accuracy: 0.8331 - val_f1_with_tfa: 0.5706\n",
            "Epoch 79/100\n",
            "31/31 [==============================] - 1s 34ms/step - loss: 0.0558 - categorical_accuracy: 0.8929 - f1_with_tfa: 0.6555 - val_loss: 0.0735 - val_categorical_accuracy: 0.8276 - val_f1_with_tfa: 0.5609\n"
          ]
        }
      ],
      "source": [
        "# Train the best model for 10 epochs\n",
        "best_bilstm = tuner_bilstm.hypermodel.build(best_hps_bilstm)\n",
        "best_bilstm.fit(X_train, y_train, epochs=epochs_training,batch_size=batch_size_training ,validation_data=(X_val, y_val),callbacks=callbacks_training)\n",
        "best_bilstm.save('models/bilstm.h5')"
      ]
    },
    {
      "cell_type": "markdown",
      "metadata": {
        "id": "woZw5OORk1vy"
      },
      "source": [
        "### Model 2: Bidirectional GRU + Dense layer \n",
        "\n"
      ]
    },
    {
      "cell_type": "code",
      "execution_count": 71,
      "metadata": {
        "colab": {
          "base_uri": "https://localhost:8080/"
        },
        "id": "sZSmoi6F-mjF",
        "outputId": "8d2275b1-0006-4b70-abe7-53d370abebad"
      },
      "outputs": [
        {
          "output_type": "stream",
          "name": "stdout",
          "text": [
            "Epoch 1/100\n",
            "31/31 [==============================] - 11s 123ms/step - loss: 2.4300 - categorical_accuracy: 0.2377 - f1_with_tfa: 0.0392 - val_loss: 1.3659 - val_categorical_accuracy: 0.3370 - val_f1_with_tfa: 0.0587\n",
            "Epoch 2/100\n",
            "31/31 [==============================] - 1s 32ms/step - loss: 0.8699 - categorical_accuracy: 0.4426 - f1_with_tfa: 0.0927 - val_loss: 0.5025 - val_categorical_accuracy: 0.5088 - val_f1_with_tfa: 0.1544\n",
            "Epoch 3/100\n",
            "31/31 [==============================] - 1s 32ms/step - loss: 0.3508 - categorical_accuracy: 0.5517 - f1_with_tfa: 0.1845 - val_loss: 0.2474 - val_categorical_accuracy: 0.5771 - val_f1_with_tfa: 0.2060\n",
            "Epoch 4/100\n",
            "31/31 [==============================] - 1s 32ms/step - loss: 0.2041 - categorical_accuracy: 0.6271 - f1_with_tfa: 0.2696 - val_loss: 0.1793 - val_categorical_accuracy: 0.6282 - val_f1_with_tfa: 0.2722\n",
            "Epoch 5/100\n",
            "31/31 [==============================] - 1s 32ms/step - loss: 0.1637 - categorical_accuracy: 0.6686 - f1_with_tfa: 0.3163 - val_loss: 0.1577 - val_categorical_accuracy: 0.6736 - val_f1_with_tfa: 0.3275\n",
            "Epoch 6/100\n",
            "31/31 [==============================] - 1s 32ms/step - loss: 0.1486 - categorical_accuracy: 0.6983 - f1_with_tfa: 0.3499 - val_loss: 0.1476 - val_categorical_accuracy: 0.6995 - val_f1_with_tfa: 0.3578\n",
            "Epoch 7/100\n",
            "31/31 [==============================] - 1s 33ms/step - loss: 0.1395 - categorical_accuracy: 0.7201 - f1_with_tfa: 0.3768 - val_loss: 0.1406 - val_categorical_accuracy: 0.7068 - val_f1_with_tfa: 0.3684\n",
            "Epoch 8/100\n",
            "31/31 [==============================] - 1s 32ms/step - loss: 0.1328 - categorical_accuracy: 0.7348 - f1_with_tfa: 0.3936 - val_loss: 0.1349 - val_categorical_accuracy: 0.7105 - val_f1_with_tfa: 0.3785\n",
            "Epoch 9/100\n",
            "31/31 [==============================] - 1s 32ms/step - loss: 0.1270 - categorical_accuracy: 0.7472 - f1_with_tfa: 0.4118 - val_loss: 0.1292 - val_categorical_accuracy: 0.7292 - val_f1_with_tfa: 0.3937\n",
            "Epoch 10/100\n",
            "31/31 [==============================] - 1s 33ms/step - loss: 0.1219 - categorical_accuracy: 0.7585 - f1_with_tfa: 0.4243 - val_loss: 0.1249 - val_categorical_accuracy: 0.7377 - val_f1_with_tfa: 0.4113\n",
            "Epoch 11/100\n",
            "31/31 [==============================] - 1s 32ms/step - loss: 0.1174 - categorical_accuracy: 0.7697 - f1_with_tfa: 0.4361 - val_loss: 0.1219 - val_categorical_accuracy: 0.7546 - val_f1_with_tfa: 0.4295\n",
            "Epoch 12/100\n",
            "31/31 [==============================] - 1s 33ms/step - loss: 0.1137 - categorical_accuracy: 0.7778 - f1_with_tfa: 0.4487 - val_loss: 0.1177 - val_categorical_accuracy: 0.7550 - val_f1_with_tfa: 0.4316\n",
            "Epoch 13/100\n",
            "31/31 [==============================] - 1s 33ms/step - loss: 0.1101 - categorical_accuracy: 0.7843 - f1_with_tfa: 0.4577 - val_loss: 0.1143 - val_categorical_accuracy: 0.7713 - val_f1_with_tfa: 0.4519\n",
            "Epoch 14/100\n",
            "31/31 [==============================] - 1s 32ms/step - loss: 0.1070 - categorical_accuracy: 0.7910 - f1_with_tfa: 0.4692 - val_loss: 0.1116 - val_categorical_accuracy: 0.7694 - val_f1_with_tfa: 0.4523\n",
            "Epoch 15/100\n",
            "31/31 [==============================] - 1s 32ms/step - loss: 0.1053 - categorical_accuracy: 0.7934 - f1_with_tfa: 0.4780 - val_loss: 0.1097 - val_categorical_accuracy: 0.7798 - val_f1_with_tfa: 0.4631\n",
            "Epoch 16/100\n",
            "31/31 [==============================] - 1s 33ms/step - loss: 0.1021 - categorical_accuracy: 0.8025 - f1_with_tfa: 0.4847 - val_loss: 0.1059 - val_categorical_accuracy: 0.7862 - val_f1_with_tfa: 0.4737\n",
            "Epoch 17/100\n",
            "31/31 [==============================] - 1s 32ms/step - loss: 0.0995 - categorical_accuracy: 0.8076 - f1_with_tfa: 0.4986 - val_loss: 0.1038 - val_categorical_accuracy: 0.7888 - val_f1_with_tfa: 0.4779\n",
            "Epoch 18/100\n",
            "31/31 [==============================] - 1s 33ms/step - loss: 0.0972 - categorical_accuracy: 0.8127 - f1_with_tfa: 0.5029 - val_loss: 0.1027 - val_categorical_accuracy: 0.7926 - val_f1_with_tfa: 0.4753\n",
            "Epoch 19/100\n",
            "31/31 [==============================] - 1s 32ms/step - loss: 0.0959 - categorical_accuracy: 0.8137 - f1_with_tfa: 0.5068 - val_loss: 0.1004 - val_categorical_accuracy: 0.7932 - val_f1_with_tfa: 0.4836\n",
            "Epoch 20/100\n",
            "31/31 [==============================] - 1s 32ms/step - loss: 0.0937 - categorical_accuracy: 0.8175 - f1_with_tfa: 0.5123 - val_loss: 0.0987 - val_categorical_accuracy: 0.8030 - val_f1_with_tfa: 0.4920\n",
            "Epoch 21/100\n",
            "31/31 [==============================] - 1s 43ms/step - loss: 0.0927 - categorical_accuracy: 0.8185 - f1_with_tfa: 0.5183 - val_loss: 0.0982 - val_categorical_accuracy: 0.7977 - val_f1_with_tfa: 0.4937\n",
            "Epoch 22/100\n",
            "31/31 [==============================] - 1s 33ms/step - loss: 0.0906 - categorical_accuracy: 0.8250 - f1_with_tfa: 0.5236 - val_loss: 0.0960 - val_categorical_accuracy: 0.8026 - val_f1_with_tfa: 0.4960\n",
            "Epoch 23/100\n",
            "31/31 [==============================] - 1s 33ms/step - loss: 0.0890 - categorical_accuracy: 0.8265 - f1_with_tfa: 0.5264 - val_loss: 0.0944 - val_categorical_accuracy: 0.8050 - val_f1_with_tfa: 0.5060\n",
            "Epoch 24/100\n",
            "31/31 [==============================] - 1s 33ms/step - loss: 0.0873 - categorical_accuracy: 0.8311 - f1_with_tfa: 0.5367 - val_loss: 0.0932 - val_categorical_accuracy: 0.8046 - val_f1_with_tfa: 0.5070\n",
            "Epoch 25/100\n",
            "31/31 [==============================] - 1s 33ms/step - loss: 0.0856 - categorical_accuracy: 0.8352 - f1_with_tfa: 0.5395 - val_loss: 0.0913 - val_categorical_accuracy: 0.8091 - val_f1_with_tfa: 0.5175\n",
            "Epoch 26/100\n",
            "31/31 [==============================] - 1s 32ms/step - loss: 0.0845 - categorical_accuracy: 0.8373 - f1_with_tfa: 0.5471 - val_loss: 0.0904 - val_categorical_accuracy: 0.8126 - val_f1_with_tfa: 0.5150\n",
            "Epoch 27/100\n",
            "31/31 [==============================] - 1s 32ms/step - loss: 0.0832 - categorical_accuracy: 0.8384 - f1_with_tfa: 0.5461 - val_loss: 0.0894 - val_categorical_accuracy: 0.8163 - val_f1_with_tfa: 0.5219\n",
            "Epoch 28/100\n",
            "31/31 [==============================] - 1s 32ms/step - loss: 0.0821 - categorical_accuracy: 0.8400 - f1_with_tfa: 0.5522 - val_loss: 0.0884 - val_categorical_accuracy: 0.8167 - val_f1_with_tfa: 0.5217\n",
            "Epoch 29/100\n",
            "31/31 [==============================] - 1s 32ms/step - loss: 0.0812 - categorical_accuracy: 0.8403 - f1_with_tfa: 0.5560 - val_loss: 0.0892 - val_categorical_accuracy: 0.8089 - val_f1_with_tfa: 0.5209\n",
            "Epoch 30/100\n",
            "31/31 [==============================] - 1s 33ms/step - loss: 0.0802 - categorical_accuracy: 0.8443 - f1_with_tfa: 0.5595 - val_loss: 0.0859 - val_categorical_accuracy: 0.8233 - val_f1_with_tfa: 0.5336\n",
            "Epoch 31/100\n",
            "31/31 [==============================] - 1s 33ms/step - loss: 0.0786 - categorical_accuracy: 0.8464 - f1_with_tfa: 0.5714 - val_loss: 0.0851 - val_categorical_accuracy: 0.8196 - val_f1_with_tfa: 0.5263\n",
            "Epoch 32/100\n",
            "31/31 [==============================] - 1s 32ms/step - loss: 0.0773 - categorical_accuracy: 0.8497 - f1_with_tfa: 0.5699 - val_loss: 0.0847 - val_categorical_accuracy: 0.8203 - val_f1_with_tfa: 0.5414\n",
            "Epoch 33/100\n",
            "31/31 [==============================] - 1s 32ms/step - loss: 0.0765 - categorical_accuracy: 0.8504 - f1_with_tfa: 0.5782 - val_loss: 0.0835 - val_categorical_accuracy: 0.8263 - val_f1_with_tfa: 0.5376\n",
            "Epoch 34/100\n",
            "31/31 [==============================] - 1s 33ms/step - loss: 0.0758 - categorical_accuracy: 0.8516 - f1_with_tfa: 0.5785 - val_loss: 0.0828 - val_categorical_accuracy: 0.8223 - val_f1_with_tfa: 0.5420\n",
            "Epoch 35/100\n",
            "31/31 [==============================] - 1s 32ms/step - loss: 0.0748 - categorical_accuracy: 0.8543 - f1_with_tfa: 0.5841 - val_loss: 0.0829 - val_categorical_accuracy: 0.8221 - val_f1_with_tfa: 0.5372\n",
            "Epoch 36/100\n",
            "31/31 [==============================] - 1s 32ms/step - loss: 0.0742 - categorical_accuracy: 0.8541 - f1_with_tfa: 0.5869 - val_loss: 0.0815 - val_categorical_accuracy: 0.8265 - val_f1_with_tfa: 0.5506\n",
            "Epoch 37/100\n",
            "31/31 [==============================] - 1s 33ms/step - loss: 0.0728 - categorical_accuracy: 0.8589 - f1_with_tfa: 0.5894 - val_loss: 0.0821 - val_categorical_accuracy: 0.8211 - val_f1_with_tfa: 0.5440\n",
            "Epoch 38/100\n",
            "31/31 [==============================] - 1s 33ms/step - loss: 0.0723 - categorical_accuracy: 0.8587 - f1_with_tfa: 0.5904 - val_loss: 0.0803 - val_categorical_accuracy: 0.8293 - val_f1_with_tfa: 0.5485\n",
            "Epoch 39/100\n",
            "31/31 [==============================] - 1s 33ms/step - loss: 0.0720 - categorical_accuracy: 0.8575 - f1_with_tfa: 0.5883 - val_loss: 0.0806 - val_categorical_accuracy: 0.8229 - val_f1_with_tfa: 0.5454\n",
            "Epoch 40/100\n",
            "31/31 [==============================] - 1s 33ms/step - loss: 0.0716 - categorical_accuracy: 0.8580 - f1_with_tfa: 0.5937 - val_loss: 0.0798 - val_categorical_accuracy: 0.8261 - val_f1_with_tfa: 0.5515\n",
            "Epoch 41/100\n",
            "31/31 [==============================] - 1s 32ms/step - loss: 0.0697 - categorical_accuracy: 0.8631 - f1_with_tfa: 0.6000 - val_loss: 0.0797 - val_categorical_accuracy: 0.8262 - val_f1_with_tfa: 0.5457\n",
            "Epoch 42/100\n",
            "31/31 [==============================] - 1s 33ms/step - loss: 0.0693 - categorical_accuracy: 0.8638 - f1_with_tfa: 0.6029 - val_loss: 0.0781 - val_categorical_accuracy: 0.8271 - val_f1_with_tfa: 0.5556\n",
            "Epoch 43/100\n",
            "31/31 [==============================] - 1s 32ms/step - loss: 0.0683 - categorical_accuracy: 0.8646 - f1_with_tfa: 0.6069 - val_loss: 0.0777 - val_categorical_accuracy: 0.8337 - val_f1_with_tfa: 0.5614\n",
            "Epoch 44/100\n",
            "31/31 [==============================] - 1s 33ms/step - loss: 0.0675 - categorical_accuracy: 0.8682 - f1_with_tfa: 0.6085 - val_loss: 0.0769 - val_categorical_accuracy: 0.8314 - val_f1_with_tfa: 0.5601\n",
            "Epoch 45/100\n",
            "31/31 [==============================] - 1s 33ms/step - loss: 0.0669 - categorical_accuracy: 0.8694 - f1_with_tfa: 0.6140 - val_loss: 0.0765 - val_categorical_accuracy: 0.8338 - val_f1_with_tfa: 0.5581\n",
            "Epoch 46/100\n",
            "31/31 [==============================] - 1s 33ms/step - loss: 0.0663 - categorical_accuracy: 0.8697 - f1_with_tfa: 0.6093 - val_loss: 0.0771 - val_categorical_accuracy: 0.8290 - val_f1_with_tfa: 0.5651\n",
            "Epoch 47/100\n",
            "31/31 [==============================] - 1s 33ms/step - loss: 0.0659 - categorical_accuracy: 0.8700 - f1_with_tfa: 0.6178 - val_loss: 0.0770 - val_categorical_accuracy: 0.8267 - val_f1_with_tfa: 0.5557\n",
            "Epoch 48/100\n",
            "31/31 [==============================] - 1s 33ms/step - loss: 0.0654 - categorical_accuracy: 0.8697 - f1_with_tfa: 0.6203 - val_loss: 0.0782 - val_categorical_accuracy: 0.8233 - val_f1_with_tfa: 0.5500\n",
            "Epoch 49/100\n",
            "31/31 [==============================] - 1s 33ms/step - loss: 0.0643 - categorical_accuracy: 0.8755 - f1_with_tfa: 0.6201 - val_loss: 0.0759 - val_categorical_accuracy: 0.8293 - val_f1_with_tfa: 0.5612\n",
            "Epoch 50/100\n",
            "31/31 [==============================] - 1s 33ms/step - loss: 0.0637 - categorical_accuracy: 0.8744 - f1_with_tfa: 0.6259 - val_loss: 0.0744 - val_categorical_accuracy: 0.8362 - val_f1_with_tfa: 0.5672\n",
            "Epoch 51/100\n",
            "31/31 [==============================] - 1s 33ms/step - loss: 0.0629 - categorical_accuracy: 0.8771 - f1_with_tfa: 0.6352 - val_loss: 0.0760 - val_categorical_accuracy: 0.8289 - val_f1_with_tfa: 0.5682\n",
            "Epoch 52/100\n",
            "31/31 [==============================] - 1s 35ms/step - loss: 0.0625 - categorical_accuracy: 0.8773 - f1_with_tfa: 0.6295 - val_loss: 0.0747 - val_categorical_accuracy: 0.8314 - val_f1_with_tfa: 0.5650\n",
            "Epoch 53/100\n",
            "31/31 [==============================] - 1s 32ms/step - loss: 0.0616 - categorical_accuracy: 0.8809 - f1_with_tfa: 0.6359 - val_loss: 0.0740 - val_categorical_accuracy: 0.8315 - val_f1_with_tfa: 0.5637\n",
            "Epoch 54/100\n",
            "31/31 [==============================] - 1s 33ms/step - loss: 0.0612 - categorical_accuracy: 0.8796 - f1_with_tfa: 0.6358 - val_loss: 0.0737 - val_categorical_accuracy: 0.8352 - val_f1_with_tfa: 0.5732\n",
            "Epoch 55/100\n",
            "31/31 [==============================] - 1s 32ms/step - loss: 0.0607 - categorical_accuracy: 0.8814 - f1_with_tfa: 0.6386 - val_loss: 0.0740 - val_categorical_accuracy: 0.8319 - val_f1_with_tfa: 0.5606\n",
            "Epoch 56/100\n",
            "31/31 [==============================] - 1s 33ms/step - loss: 0.0599 - categorical_accuracy: 0.8829 - f1_with_tfa: 0.6383 - val_loss: 0.0757 - val_categorical_accuracy: 0.8230 - val_f1_with_tfa: 0.5651\n",
            "Epoch 57/100\n",
            "31/31 [==============================] - 1s 33ms/step - loss: 0.0597 - categorical_accuracy: 0.8836 - f1_with_tfa: 0.6422 - val_loss: 0.0742 - val_categorical_accuracy: 0.8311 - val_f1_with_tfa: 0.5709\n",
            "Epoch 58/100\n",
            "31/31 [==============================] - 1s 33ms/step - loss: 0.0587 - categorical_accuracy: 0.8868 - f1_with_tfa: 0.6471 - val_loss: 0.0740 - val_categorical_accuracy: 0.8281 - val_f1_with_tfa: 0.5642\n",
            "Epoch 59/100\n",
            "31/31 [==============================] - 1s 32ms/step - loss: 0.0585 - categorical_accuracy: 0.8857 - f1_with_tfa: 0.6479 - val_loss: 0.0762 - val_categorical_accuracy: 0.8207 - val_f1_with_tfa: 0.5553\n",
            "Epoch 60/100\n",
            "31/31 [==============================] - 1s 33ms/step - loss: 0.0578 - categorical_accuracy: 0.8897 - f1_with_tfa: 0.6516 - val_loss: 0.0729 - val_categorical_accuracy: 0.8324 - val_f1_with_tfa: 0.5724\n"
          ]
        }
      ],
      "source": [
        "# Train the best model for 10 epochs\n",
        "best_bigru = tuner_bigru.hypermodel.build(best_hps_bigru)\n",
        "best_bigru.fit(X_train, y_train, epochs=epochs_training,batch_size=batch_size_training ,validation_data=(X_val, y_val),callbacks=callbacks_training)\n",
        "best_bigru.save('models/bigru.h5')"
      ]
    },
    {
      "cell_type": "markdown",
      "metadata": {
        "id": "192ii6o_mflM"
      },
      "source": [
        "### Model 3:  Two Bidirectional LSMT + Dense layer "
      ]
    },
    {
      "cell_type": "code",
      "execution_count": 72,
      "metadata": {
        "colab": {
          "base_uri": "https://localhost:8080/"
        },
        "id": "bW45UO6vJrG0",
        "outputId": "b5e86fb7-94d5-4ce9-eaf6-b3de5bc59045"
      },
      "outputs": [
        {
          "output_type": "stream",
          "name": "stdout",
          "text": [
            "Epoch 1/100\n",
            "31/31 [==============================] - 20s 218ms/step - loss: 6.7967 - categorical_accuracy: 0.1374 - f1_with_tfa: 0.0185 - val_loss: 3.2776 - val_categorical_accuracy: 0.1749 - val_f1_with_tfa: 0.0172\n",
            "Epoch 2/100\n",
            "31/31 [==============================] - 2s 54ms/step - loss: 1.8699 - categorical_accuracy: 0.1700 - f1_with_tfa: 0.0213 - val_loss: 0.9060 - val_categorical_accuracy: 0.1596 - val_f1_with_tfa: 0.0130\n",
            "Epoch 3/100\n",
            "31/31 [==============================] - 2s 54ms/step - loss: 0.5881 - categorical_accuracy: 0.1784 - f1_with_tfa: 0.0226 - val_loss: 0.3846 - val_categorical_accuracy: 0.1930 - val_f1_with_tfa: 0.0234\n",
            "Epoch 4/100\n",
            "31/31 [==============================] - 2s 54ms/step - loss: 0.3248 - categorical_accuracy: 0.1911 - f1_with_tfa: 0.0263 - val_loss: 0.2883 - val_categorical_accuracy: 0.1899 - val_f1_with_tfa: 0.0196\n",
            "Epoch 5/100\n",
            "31/31 [==============================] - 2s 56ms/step - loss: 0.2796 - categorical_accuracy: 0.1946 - f1_with_tfa: 0.0264 - val_loss: 0.2687 - val_categorical_accuracy: 0.2079 - val_f1_with_tfa: 0.0313\n",
            "Epoch 6/100\n",
            "31/31 [==============================] - 2s 54ms/step - loss: 0.2634 - categorical_accuracy: 0.2108 - f1_with_tfa: 0.0330 - val_loss: 0.2591 - val_categorical_accuracy: 0.2004 - val_f1_with_tfa: 0.0298\n",
            "Epoch 7/100\n",
            "31/31 [==============================] - 2s 54ms/step - loss: 0.2536 - categorical_accuracy: 0.2303 - f1_with_tfa: 0.0459 - val_loss: 0.2493 - val_categorical_accuracy: 0.2405 - val_f1_with_tfa: 0.0510\n",
            "Epoch 8/100\n",
            "31/31 [==============================] - 2s 56ms/step - loss: 0.2434 - categorical_accuracy: 0.2633 - f1_with_tfa: 0.0642 - val_loss: 0.2348 - val_categorical_accuracy: 0.3011 - val_f1_with_tfa: 0.0742\n",
            "Epoch 9/100\n",
            "31/31 [==============================] - 2s 54ms/step - loss: 0.2279 - categorical_accuracy: 0.3286 - f1_with_tfa: 0.0888 - val_loss: 0.2162 - val_categorical_accuracy: 0.3772 - val_f1_with_tfa: 0.1020\n",
            "Epoch 10/100\n",
            "31/31 [==============================] - 2s 54ms/step - loss: 0.2090 - categorical_accuracy: 0.3993 - f1_with_tfa: 0.1193 - val_loss: 0.2062 - val_categorical_accuracy: 0.4144 - val_f1_with_tfa: 0.1155\n",
            "Epoch 11/100\n",
            "31/31 [==============================] - 2s 54ms/step - loss: 0.1938 - categorical_accuracy: 0.4532 - f1_with_tfa: 0.1429 - val_loss: 0.1861 - val_categorical_accuracy: 0.4701 - val_f1_with_tfa: 0.1448\n",
            "Epoch 12/100\n",
            "31/31 [==============================] - 2s 55ms/step - loss: 0.1803 - categorical_accuracy: 0.4853 - f1_with_tfa: 0.1659 - val_loss: 0.1771 - val_categorical_accuracy: 0.4900 - val_f1_with_tfa: 0.1649\n",
            "Epoch 13/100\n",
            "31/31 [==============================] - 2s 54ms/step - loss: 0.1730 - categorical_accuracy: 0.5004 - f1_with_tfa: 0.1803 - val_loss: 0.1688 - val_categorical_accuracy: 0.5162 - val_f1_with_tfa: 0.1855\n",
            "Epoch 14/100\n",
            "31/31 [==============================] - 2s 54ms/step - loss: 0.1673 - categorical_accuracy: 0.5172 - f1_with_tfa: 0.1955 - val_loss: 0.1655 - val_categorical_accuracy: 0.5245 - val_f1_with_tfa: 0.2138\n",
            "Epoch 15/100\n",
            "31/31 [==============================] - 2s 55ms/step - loss: 0.1611 - categorical_accuracy: 0.5339 - f1_with_tfa: 0.2115 - val_loss: 0.1578 - val_categorical_accuracy: 0.5456 - val_f1_with_tfa: 0.2248\n",
            "Epoch 16/100\n",
            "31/31 [==============================] - 2s 55ms/step - loss: 0.1578 - categorical_accuracy: 0.5427 - f1_with_tfa: 0.2221 - val_loss: 0.1590 - val_categorical_accuracy: 0.5388 - val_f1_with_tfa: 0.2174\n",
            "Epoch 17/100\n",
            "31/31 [==============================] - 2s 54ms/step - loss: 0.1533 - categorical_accuracy: 0.5555 - f1_with_tfa: 0.2353 - val_loss: 0.1537 - val_categorical_accuracy: 0.5559 - val_f1_with_tfa: 0.2247\n",
            "Epoch 18/100\n",
            "31/31 [==============================] - 2s 54ms/step - loss: 0.1501 - categorical_accuracy: 0.5644 - f1_with_tfa: 0.2432 - val_loss: 0.1530 - val_categorical_accuracy: 0.5534 - val_f1_with_tfa: 0.2464\n",
            "Epoch 19/100\n",
            "31/31 [==============================] - 2s 54ms/step - loss: 0.1487 - categorical_accuracy: 0.5676 - f1_with_tfa: 0.2479 - val_loss: 0.1510 - val_categorical_accuracy: 0.5586 - val_f1_with_tfa: 0.2344\n",
            "Epoch 20/100\n",
            "31/31 [==============================] - 2s 55ms/step - loss: 0.1457 - categorical_accuracy: 0.5788 - f1_with_tfa: 0.2581 - val_loss: 0.1461 - val_categorical_accuracy: 0.5721 - val_f1_with_tfa: 0.2429\n",
            "Epoch 21/100\n",
            "31/31 [==============================] - 2s 55ms/step - loss: 0.1419 - categorical_accuracy: 0.5850 - f1_with_tfa: 0.2642 - val_loss: 0.1418 - val_categorical_accuracy: 0.5877 - val_f1_with_tfa: 0.2693\n",
            "Epoch 22/100\n",
            "31/31 [==============================] - 2s 54ms/step - loss: 0.1392 - categorical_accuracy: 0.5976 - f1_with_tfa: 0.2745 - val_loss: 0.1396 - val_categorical_accuracy: 0.5919 - val_f1_with_tfa: 0.2675\n",
            "Epoch 23/100\n",
            "31/31 [==============================] - 2s 56ms/step - loss: 0.1387 - categorical_accuracy: 0.5976 - f1_with_tfa: 0.2741 - val_loss: 0.1379 - val_categorical_accuracy: 0.6001 - val_f1_with_tfa: 0.2848\n",
            "Epoch 24/100\n",
            "31/31 [==============================] - 2s 55ms/step - loss: 0.1361 - categorical_accuracy: 0.6019 - f1_with_tfa: 0.2811 - val_loss: 0.1392 - val_categorical_accuracy: 0.5892 - val_f1_with_tfa: 0.2833\n",
            "Epoch 25/100\n",
            "31/31 [==============================] - 2s 54ms/step - loss: 0.1331 - categorical_accuracy: 0.6120 - f1_with_tfa: 0.2925 - val_loss: 0.1369 - val_categorical_accuracy: 0.5987 - val_f1_with_tfa: 0.2857\n",
            "Epoch 26/100\n",
            "31/31 [==============================] - 2s 57ms/step - loss: 0.1301 - categorical_accuracy: 0.6229 - f1_with_tfa: 0.3040 - val_loss: 0.1313 - val_categorical_accuracy: 0.6221 - val_f1_with_tfa: 0.3142\n",
            "Epoch 27/100\n",
            "31/31 [==============================] - 2s 54ms/step - loss: 0.1293 - categorical_accuracy: 0.6254 - f1_with_tfa: 0.3128 - val_loss: 0.1328 - val_categorical_accuracy: 0.6149 - val_f1_with_tfa: 0.2999\n",
            "Epoch 28/100\n",
            "31/31 [==============================] - 2s 56ms/step - loss: 0.1252 - categorical_accuracy: 0.6399 - f1_with_tfa: 0.3207 - val_loss: 0.1278 - val_categorical_accuracy: 0.6262 - val_f1_with_tfa: 0.3146\n",
            "Epoch 29/100\n",
            "31/31 [==============================] - 2s 55ms/step - loss: 0.1229 - categorical_accuracy: 0.6452 - f1_with_tfa: 0.3319 - val_loss: 0.1267 - val_categorical_accuracy: 0.6244 - val_f1_with_tfa: 0.3259\n",
            "Epoch 30/100\n",
            "31/31 [==============================] - 2s 54ms/step - loss: 0.1222 - categorical_accuracy: 0.6492 - f1_with_tfa: 0.3370 - val_loss: 0.1243 - val_categorical_accuracy: 0.6408 - val_f1_with_tfa: 0.3325\n",
            "Epoch 31/100\n",
            "31/31 [==============================] - 2s 54ms/step - loss: 0.1194 - categorical_accuracy: 0.6562 - f1_with_tfa: 0.3438 - val_loss: 0.1239 - val_categorical_accuracy: 0.6332 - val_f1_with_tfa: 0.3377\n",
            "Epoch 32/100\n",
            "31/31 [==============================] - 2s 55ms/step - loss: 0.1191 - categorical_accuracy: 0.6571 - f1_with_tfa: 0.3474 - val_loss: 0.1227 - val_categorical_accuracy: 0.6376 - val_f1_with_tfa: 0.3278\n",
            "Epoch 33/100\n",
            "31/31 [==============================] - 2s 54ms/step - loss: 0.1162 - categorical_accuracy: 0.6669 - f1_with_tfa: 0.3581 - val_loss: 0.1235 - val_categorical_accuracy: 0.6343 - val_f1_with_tfa: 0.3317\n",
            "Epoch 34/100\n",
            "31/31 [==============================] - 2s 55ms/step - loss: 0.1156 - categorical_accuracy: 0.6660 - f1_with_tfa: 0.3579 - val_loss: 0.1208 - val_categorical_accuracy: 0.6454 - val_f1_with_tfa: 0.3471\n",
            "Epoch 35/100\n",
            "31/31 [==============================] - 2s 55ms/step - loss: 0.1126 - categorical_accuracy: 0.6755 - f1_with_tfa: 0.3707 - val_loss: 0.1166 - val_categorical_accuracy: 0.6641 - val_f1_with_tfa: 0.3630\n",
            "Epoch 36/100\n",
            "31/31 [==============================] - 2s 54ms/step - loss: 0.1108 - categorical_accuracy: 0.6806 - f1_with_tfa: 0.3714 - val_loss: 0.1149 - val_categorical_accuracy: 0.6651 - val_f1_with_tfa: 0.3769\n",
            "Epoch 37/100\n",
            "31/31 [==============================] - 2s 55ms/step - loss: 0.1091 - categorical_accuracy: 0.6871 - f1_with_tfa: 0.3843 - val_loss: 0.1134 - val_categorical_accuracy: 0.6691 - val_f1_with_tfa: 0.3745\n",
            "Epoch 38/100\n",
            "31/31 [==============================] - 2s 55ms/step - loss: 0.1075 - categorical_accuracy: 0.6915 - f1_with_tfa: 0.3880 - val_loss: 0.1132 - val_categorical_accuracy: 0.6672 - val_f1_with_tfa: 0.3706\n",
            "Epoch 39/100\n",
            "31/31 [==============================] - 2s 56ms/step - loss: 0.1069 - categorical_accuracy: 0.6940 - f1_with_tfa: 0.3953 - val_loss: 0.1137 - val_categorical_accuracy: 0.6729 - val_f1_with_tfa: 0.3771\n",
            "Epoch 40/100\n",
            "31/31 [==============================] - 2s 55ms/step - loss: 0.1071 - categorical_accuracy: 0.6932 - f1_with_tfa: 0.3951 - val_loss: 0.1116 - val_categorical_accuracy: 0.6750 - val_f1_with_tfa: 0.3832\n",
            "Epoch 41/100\n",
            "31/31 [==============================] - 2s 55ms/step - loss: 0.1080 - categorical_accuracy: 0.6897 - f1_with_tfa: 0.3930 - val_loss: 0.1115 - val_categorical_accuracy: 0.6745 - val_f1_with_tfa: 0.3740\n",
            "Epoch 42/100\n",
            "31/31 [==============================] - 2s 55ms/step - loss: 0.1037 - categorical_accuracy: 0.7051 - f1_with_tfa: 0.4045 - val_loss: 0.1101 - val_categorical_accuracy: 0.6794 - val_f1_with_tfa: 0.3928\n",
            "Epoch 43/100\n",
            "31/31 [==============================] - 2s 53ms/step - loss: 0.1044 - categorical_accuracy: 0.7002 - f1_with_tfa: 0.4045 - val_loss: 0.1076 - val_categorical_accuracy: 0.6918 - val_f1_with_tfa: 0.4063\n",
            "Epoch 44/100\n",
            "31/31 [==============================] - 2s 56ms/step - loss: 0.1012 - categorical_accuracy: 0.7137 - f1_with_tfa: 0.4188 - val_loss: 0.1066 - val_categorical_accuracy: 0.6926 - val_f1_with_tfa: 0.4009\n",
            "Epoch 45/100\n",
            "31/31 [==============================] - 2s 55ms/step - loss: 0.0994 - categorical_accuracy: 0.7182 - f1_with_tfa: 0.4218 - val_loss: 0.1078 - val_categorical_accuracy: 0.6880 - val_f1_with_tfa: 0.4014\n",
            "Epoch 46/100\n",
            "31/31 [==============================] - 2s 54ms/step - loss: 0.1004 - categorical_accuracy: 0.7154 - f1_with_tfa: 0.4248 - val_loss: 0.1073 - val_categorical_accuracy: 0.6869 - val_f1_with_tfa: 0.3986\n",
            "Epoch 47/100\n",
            "31/31 [==============================] - 2s 54ms/step - loss: 0.0986 - categorical_accuracy: 0.7235 - f1_with_tfa: 0.4331 - val_loss: 0.1042 - val_categorical_accuracy: 0.6991 - val_f1_with_tfa: 0.4103\n",
            "Epoch 48/100\n",
            "31/31 [==============================] - 2s 54ms/step - loss: 0.0963 - categorical_accuracy: 0.7306 - f1_with_tfa: 0.4407 - val_loss: 0.1032 - val_categorical_accuracy: 0.7034 - val_f1_with_tfa: 0.4155\n",
            "Epoch 49/100\n",
            "31/31 [==============================] - 2s 54ms/step - loss: 0.0962 - categorical_accuracy: 0.7295 - f1_with_tfa: 0.4411 - val_loss: 0.1051 - val_categorical_accuracy: 0.6974 - val_f1_with_tfa: 0.4183\n",
            "Epoch 50/100\n",
            "31/31 [==============================] - 2s 56ms/step - loss: 0.0948 - categorical_accuracy: 0.7353 - f1_with_tfa: 0.4415 - val_loss: 0.1019 - val_categorical_accuracy: 0.7062 - val_f1_with_tfa: 0.4154\n",
            "Epoch 51/100\n",
            "31/31 [==============================] - 2s 55ms/step - loss: 0.0935 - categorical_accuracy: 0.7388 - f1_with_tfa: 0.4475 - val_loss: 0.0996 - val_categorical_accuracy: 0.7152 - val_f1_with_tfa: 0.4342\n",
            "Epoch 52/100\n",
            "31/31 [==============================] - 2s 55ms/step - loss: 0.0923 - categorical_accuracy: 0.7409 - f1_with_tfa: 0.4501 - val_loss: 0.1032 - val_categorical_accuracy: 0.7011 - val_f1_with_tfa: 0.4117\n",
            "Epoch 53/100\n",
            "31/31 [==============================] - 2s 56ms/step - loss: 0.0931 - categorical_accuracy: 0.7403 - f1_with_tfa: 0.4486 - val_loss: 0.1002 - val_categorical_accuracy: 0.7175 - val_f1_with_tfa: 0.4311\n",
            "Epoch 54/100\n",
            "31/31 [==============================] - 2s 56ms/step - loss: 0.0919 - categorical_accuracy: 0.7454 - f1_with_tfa: 0.4555 - val_loss: 0.1016 - val_categorical_accuracy: 0.7070 - val_f1_with_tfa: 0.4202\n",
            "Epoch 55/100\n",
            "31/31 [==============================] - 2s 54ms/step - loss: 0.0921 - categorical_accuracy: 0.7428 - f1_with_tfa: 0.4552 - val_loss: 0.1011 - val_categorical_accuracy: 0.7128 - val_f1_with_tfa: 0.4321\n",
            "Epoch 56/100\n",
            "31/31 [==============================] - 2s 55ms/step - loss: 0.0908 - categorical_accuracy: 0.7496 - f1_with_tfa: 0.4602 - val_loss: 0.0978 - val_categorical_accuracy: 0.7237 - val_f1_with_tfa: 0.4502\n",
            "Epoch 57/100\n",
            "31/31 [==============================] - 2s 56ms/step - loss: 0.0906 - categorical_accuracy: 0.7485 - f1_with_tfa: 0.4637 - val_loss: 0.1000 - val_categorical_accuracy: 0.7161 - val_f1_with_tfa: 0.4461\n",
            "Epoch 58/100\n",
            "31/31 [==============================] - 2s 56ms/step - loss: 0.0888 - categorical_accuracy: 0.7553 - f1_with_tfa: 0.4690 - val_loss: 0.0948 - val_categorical_accuracy: 0.7352 - val_f1_with_tfa: 0.4561\n",
            "Epoch 59/100\n",
            "31/31 [==============================] - 2s 55ms/step - loss: 0.0865 - categorical_accuracy: 0.7612 - f1_with_tfa: 0.4723 - val_loss: 0.0950 - val_categorical_accuracy: 0.7323 - val_f1_with_tfa: 0.4515\n",
            "Epoch 60/100\n",
            "31/31 [==============================] - 2s 56ms/step - loss: 0.0871 - categorical_accuracy: 0.7579 - f1_with_tfa: 0.4732 - val_loss: 0.0952 - val_categorical_accuracy: 0.7290 - val_f1_with_tfa: 0.4436\n",
            "Epoch 61/100\n",
            "31/31 [==============================] - 2s 55ms/step - loss: 0.0858 - categorical_accuracy: 0.7632 - f1_with_tfa: 0.4776 - val_loss: 0.0945 - val_categorical_accuracy: 0.7327 - val_f1_with_tfa: 0.4506\n",
            "Epoch 62/100\n",
            "31/31 [==============================] - 2s 56ms/step - loss: 0.0858 - categorical_accuracy: 0.7632 - f1_with_tfa: 0.4770 - val_loss: 0.0954 - val_categorical_accuracy: 0.7313 - val_f1_with_tfa: 0.4455\n",
            "Epoch 63/100\n",
            "31/31 [==============================] - 2s 55ms/step - loss: 0.0871 - categorical_accuracy: 0.7587 - f1_with_tfa: 0.4765 - val_loss: 0.0965 - val_categorical_accuracy: 0.7270 - val_f1_with_tfa: 0.4515\n",
            "Epoch 64/100\n",
            "31/31 [==============================] - 2s 54ms/step - loss: 0.0849 - categorical_accuracy: 0.7675 - f1_with_tfa: 0.4823 - val_loss: 0.0951 - val_categorical_accuracy: 0.7343 - val_f1_with_tfa: 0.4562\n",
            "Epoch 65/100\n",
            "31/31 [==============================] - 2s 54ms/step - loss: 0.0850 - categorical_accuracy: 0.7658 - f1_with_tfa: 0.4799 - val_loss: 0.0987 - val_categorical_accuracy: 0.7255 - val_f1_with_tfa: 0.4522\n",
            "Epoch 66/100\n",
            "31/31 [==============================] - 2s 55ms/step - loss: 0.0852 - categorical_accuracy: 0.7673 - f1_with_tfa: 0.4791 - val_loss: 0.0956 - val_categorical_accuracy: 0.7317 - val_f1_with_tfa: 0.4551\n",
            "Epoch 67/100\n",
            "31/31 [==============================] - 2s 54ms/step - loss: 0.0846 - categorical_accuracy: 0.7672 - f1_with_tfa: 0.4830 - val_loss: 0.0970 - val_categorical_accuracy: 0.7302 - val_f1_with_tfa: 0.4515\n",
            "Epoch 68/100\n",
            "31/31 [==============================] - 2s 54ms/step - loss: 0.0841 - categorical_accuracy: 0.7668 - f1_with_tfa: 0.4896 - val_loss: 0.0933 - val_categorical_accuracy: 0.7366 - val_f1_with_tfa: 0.4548\n",
            "Epoch 69/100\n",
            "31/31 [==============================] - 3s 108ms/step - loss: 0.0821 - categorical_accuracy: 0.7731 - f1_with_tfa: 0.4871 - val_loss: 0.0925 - val_categorical_accuracy: 0.7388 - val_f1_with_tfa: 0.4582\n",
            "Epoch 70/100\n",
            "31/31 [==============================] - 3s 93ms/step - loss: 0.0817 - categorical_accuracy: 0.7746 - f1_with_tfa: 0.4965 - val_loss: 0.0928 - val_categorical_accuracy: 0.7393 - val_f1_with_tfa: 0.4592\n",
            "Epoch 71/100\n",
            "31/31 [==============================] - 2s 72ms/step - loss: 0.0829 - categorical_accuracy: 0.7712 - f1_with_tfa: 0.4861 - val_loss: 0.0926 - val_categorical_accuracy: 0.7402 - val_f1_with_tfa: 0.4654\n",
            "Epoch 72/100\n",
            "31/31 [==============================] - 2s 55ms/step - loss: 0.0798 - categorical_accuracy: 0.7817 - f1_with_tfa: 0.4997 - val_loss: 0.0926 - val_categorical_accuracy: 0.7392 - val_f1_with_tfa: 0.4626\n",
            "Epoch 73/100\n",
            "31/31 [==============================] - 2s 54ms/step - loss: 0.0801 - categorical_accuracy: 0.7786 - f1_with_tfa: 0.5000 - val_loss: 0.0917 - val_categorical_accuracy: 0.7449 - val_f1_with_tfa: 0.4684\n",
            "Epoch 74/100\n",
            "31/31 [==============================] - 2s 57ms/step - loss: 0.0792 - categorical_accuracy: 0.7843 - f1_with_tfa: 0.5041 - val_loss: 0.0904 - val_categorical_accuracy: 0.7464 - val_f1_with_tfa: 0.4656\n",
            "Epoch 75/100\n",
            "31/31 [==============================] - 2s 54ms/step - loss: 0.0788 - categorical_accuracy: 0.7846 - f1_with_tfa: 0.5062 - val_loss: 0.0926 - val_categorical_accuracy: 0.7432 - val_f1_with_tfa: 0.4708\n",
            "Epoch 76/100\n",
            "31/31 [==============================] - 2s 54ms/step - loss: 0.0797 - categorical_accuracy: 0.7823 - f1_with_tfa: 0.4963 - val_loss: 0.0932 - val_categorical_accuracy: 0.7361 - val_f1_with_tfa: 0.4586\n",
            "Epoch 77/100\n",
            "31/31 [==============================] - 2s 54ms/step - loss: 0.0797 - categorical_accuracy: 0.7801 - f1_with_tfa: 0.4965 - val_loss: 0.0938 - val_categorical_accuracy: 0.7366 - val_f1_with_tfa: 0.4616\n",
            "Epoch 78/100\n",
            "31/31 [==============================] - 2s 55ms/step - loss: 0.0783 - categorical_accuracy: 0.7864 - f1_with_tfa: 0.5090 - val_loss: 0.0924 - val_categorical_accuracy: 0.7411 - val_f1_with_tfa: 0.4586\n",
            "Epoch 79/100\n",
            "31/31 [==============================] - 2s 55ms/step - loss: 0.0767 - categorical_accuracy: 0.7909 - f1_with_tfa: 0.5117 - val_loss: 0.0901 - val_categorical_accuracy: 0.7486 - val_f1_with_tfa: 0.4741\n",
            "Epoch 80/100\n",
            "31/31 [==============================] - 2s 54ms/step - loss: 0.0764 - categorical_accuracy: 0.7926 - f1_with_tfa: 0.5127 - val_loss: 0.0915 - val_categorical_accuracy: 0.7458 - val_f1_with_tfa: 0.4646\n",
            "Epoch 81/100\n",
            "31/31 [==============================] - 2s 55ms/step - loss: 0.0767 - categorical_accuracy: 0.7887 - f1_with_tfa: 0.5078 - val_loss: 0.0906 - val_categorical_accuracy: 0.7474 - val_f1_with_tfa: 0.4581\n",
            "Epoch 82/100\n",
            "31/31 [==============================] - 3s 85ms/step - loss: 0.0762 - categorical_accuracy: 0.7939 - f1_with_tfa: 0.5160 - val_loss: 0.0903 - val_categorical_accuracy: 0.7469 - val_f1_with_tfa: 0.4654\n",
            "Epoch 83/100\n",
            "31/31 [==============================] - 2s 55ms/step - loss: 0.0753 - categorical_accuracy: 0.7939 - f1_with_tfa: 0.5151 - val_loss: 0.0930 - val_categorical_accuracy: 0.7401 - val_f1_with_tfa: 0.4681\n",
            "Epoch 84/100\n",
            "31/31 [==============================] - 2s 75ms/step - loss: 0.0750 - categorical_accuracy: 0.7962 - f1_with_tfa: 0.5171 - val_loss: 0.0897 - val_categorical_accuracy: 0.7498 - val_f1_with_tfa: 0.4665\n",
            "Epoch 85/100\n",
            "31/31 [==============================] - 2s 57ms/step - loss: 0.0747 - categorical_accuracy: 0.7946 - f1_with_tfa: 0.5187 - val_loss: 0.0900 - val_categorical_accuracy: 0.7504 - val_f1_with_tfa: 0.4752\n",
            "Epoch 86/100\n",
            "31/31 [==============================] - 2s 54ms/step - loss: 0.0737 - categorical_accuracy: 0.7993 - f1_with_tfa: 0.5233 - val_loss: 0.0904 - val_categorical_accuracy: 0.7465 - val_f1_with_tfa: 0.4648\n",
            "Epoch 87/100\n",
            "31/31 [==============================] - 2s 56ms/step - loss: 0.0733 - categorical_accuracy: 0.7997 - f1_with_tfa: 0.5267 - val_loss: 0.0896 - val_categorical_accuracy: 0.7513 - val_f1_with_tfa: 0.4746\n",
            "Epoch 88/100\n",
            "31/31 [==============================] - 2s 59ms/step - loss: 0.0720 - categorical_accuracy: 0.8042 - f1_with_tfa: 0.5253 - val_loss: 0.0889 - val_categorical_accuracy: 0.7525 - val_f1_with_tfa: 0.4730\n",
            "Epoch 89/100\n",
            "31/31 [==============================] - 3s 94ms/step - loss: 0.0727 - categorical_accuracy: 0.8033 - f1_with_tfa: 0.5257 - val_loss: 0.0918 - val_categorical_accuracy: 0.7427 - val_f1_with_tfa: 0.4673\n",
            "Epoch 90/100\n",
            "31/31 [==============================] - 2s 70ms/step - loss: 0.0728 - categorical_accuracy: 0.8019 - f1_with_tfa: 0.5308 - val_loss: 0.0914 - val_categorical_accuracy: 0.7457 - val_f1_with_tfa: 0.4628\n",
            "Epoch 91/100\n",
            "31/31 [==============================] - 2s 55ms/step - loss: 0.0718 - categorical_accuracy: 0.8042 - f1_with_tfa: 0.5298 - val_loss: 0.0895 - val_categorical_accuracy: 0.7513 - val_f1_with_tfa: 0.4752\n",
            "Epoch 92/100\n",
            "31/31 [==============================] - 2s 55ms/step - loss: 0.0713 - categorical_accuracy: 0.8057 - f1_with_tfa: 0.5249 - val_loss: 0.0895 - val_categorical_accuracy: 0.7529 - val_f1_with_tfa: 0.4786\n",
            "Epoch 93/100\n",
            "31/31 [==============================] - 2s 56ms/step - loss: 0.0718 - categorical_accuracy: 0.8049 - f1_with_tfa: 0.5287 - val_loss: 0.0902 - val_categorical_accuracy: 0.7515 - val_f1_with_tfa: 0.4743\n",
            "Epoch 94/100\n",
            "31/31 [==============================] - 2s 71ms/step - loss: 0.0718 - categorical_accuracy: 0.8047 - f1_with_tfa: 0.5261 - val_loss: 0.0903 - val_categorical_accuracy: 0.7522 - val_f1_with_tfa: 0.4790\n",
            "Epoch 95/100\n",
            "31/31 [==============================] - 3s 93ms/step - loss: 0.0714 - categorical_accuracy: 0.8063 - f1_with_tfa: 0.5277 - val_loss: 0.0903 - val_categorical_accuracy: 0.7498 - val_f1_with_tfa: 0.4715\n",
            "Epoch 96/100\n",
            "31/31 [==============================] - 4s 117ms/step - loss: 0.0704 - categorical_accuracy: 0.8078 - f1_with_tfa: 0.5322 - val_loss: 0.0884 - val_categorical_accuracy: 0.7547 - val_f1_with_tfa: 0.4744\n",
            "Epoch 97/100\n",
            "31/31 [==============================] - 3s 95ms/step - loss: 0.0685 - categorical_accuracy: 0.8160 - f1_with_tfa: 0.5451 - val_loss: 0.0892 - val_categorical_accuracy: 0.7514 - val_f1_with_tfa: 0.4754\n",
            "Epoch 98/100\n",
            "31/31 [==============================] - 2s 61ms/step - loss: 0.0695 - categorical_accuracy: 0.8108 - f1_with_tfa: 0.5357 - val_loss: 0.0911 - val_categorical_accuracy: 0.7494 - val_f1_with_tfa: 0.4684\n",
            "Epoch 99/100\n",
            "31/31 [==============================] - 2s 56ms/step - loss: 0.0690 - categorical_accuracy: 0.8138 - f1_with_tfa: 0.5413 - val_loss: 0.0903 - val_categorical_accuracy: 0.7502 - val_f1_with_tfa: 0.4697\n",
            "Epoch 100/100\n",
            "31/31 [==============================] - 2s 55ms/step - loss: 0.0676 - categorical_accuracy: 0.8180 - f1_with_tfa: 0.5406 - val_loss: 0.0890 - val_categorical_accuracy: 0.7551 - val_f1_with_tfa: 0.4746\n"
          ]
        }
      ],
      "source": [
        "# Train the best model for 10 epochs\n",
        "best_two_bilstm= tuner_two_bilstm.hypermodel.build(best_hps_two_bilstm)\n",
        "best_two_bilstm.fit(X_train, y_train, epochs=epochs_training,batch_size=batch_size_training ,validation_data=(X_val, y_val),callbacks=callbacks_training)\n",
        "best_two_bilstm.save('models/two_bilstm.h5')"
      ]
    },
    {
      "cell_type": "markdown",
      "metadata": {
        "id": "bI6HISQ9mzrT"
      },
      "source": [
        "### Model 4: Bidirectional LSMT + two Dense layer "
      ]
    },
    {
      "cell_type": "code",
      "execution_count": 73,
      "metadata": {
        "colab": {
          "base_uri": "https://localhost:8080/"
        },
        "id": "o5pUsBvi_NDa",
        "outputId": "7405a91c-056b-4fe8-f013-e47416f48a1c"
      },
      "outputs": [
        {
          "output_type": "stream",
          "name": "stdout",
          "text": [
            "Epoch 1/100\n",
            "31/31 [==============================] - 11s 129ms/step - loss: 0.7194 - categorical_accuracy: 0.2195 - f1_with_tfa: 0.0223 - val_loss: 0.2790 - val_categorical_accuracy: 0.4014 - val_f1_with_tfa: 0.0613\n",
            "Epoch 2/100\n",
            "31/31 [==============================] - 1s 38ms/step - loss: 0.1933 - categorical_accuracy: 0.5248 - f1_with_tfa: 0.1603 - val_loss: 0.1397 - val_categorical_accuracy: 0.6522 - val_f1_with_tfa: 0.2952\n",
            "Epoch 3/100\n",
            "31/31 [==============================] - 1s 36ms/step - loss: 0.1215 - categorical_accuracy: 0.6973 - f1_with_tfa: 0.3633 - val_loss: 0.1117 - val_categorical_accuracy: 0.7249 - val_f1_with_tfa: 0.3978\n",
            "Epoch 4/100\n",
            "31/31 [==============================] - 1s 36ms/step - loss: 0.0989 - categorical_accuracy: 0.7656 - f1_with_tfa: 0.4379 - val_loss: 0.0886 - val_categorical_accuracy: 0.7861 - val_f1_with_tfa: 0.4820\n",
            "Epoch 5/100\n",
            "31/31 [==============================] - 1s 37ms/step - loss: 0.0867 - categorical_accuracy: 0.7911 - f1_with_tfa: 0.4793 - val_loss: 0.0806 - val_categorical_accuracy: 0.8088 - val_f1_with_tfa: 0.5274\n",
            "Epoch 6/100\n",
            "31/31 [==============================] - 1s 37ms/step - loss: 0.0779 - categorical_accuracy: 0.8148 - f1_with_tfa: 0.5034 - val_loss: 0.0774 - val_categorical_accuracy: 0.8143 - val_f1_with_tfa: 0.5369\n",
            "Epoch 7/100\n",
            "31/31 [==============================] - 1s 37ms/step - loss: 0.0738 - categorical_accuracy: 0.8256 - f1_with_tfa: 0.5107 - val_loss: 0.0744 - val_categorical_accuracy: 0.8144 - val_f1_with_tfa: 0.5454\n",
            "Epoch 8/100\n",
            "31/31 [==============================] - 1s 37ms/step - loss: 0.0697 - categorical_accuracy: 0.8316 - f1_with_tfa: 0.5306 - val_loss: 0.0677 - val_categorical_accuracy: 0.8394 - val_f1_with_tfa: 0.5758\n",
            "Epoch 9/100\n",
            "31/31 [==============================] - 1s 37ms/step - loss: 0.0690 - categorical_accuracy: 0.8369 - f1_with_tfa: 0.5311 - val_loss: 0.0653 - val_categorical_accuracy: 0.8435 - val_f1_with_tfa: 0.5761\n",
            "Epoch 10/100\n",
            "31/31 [==============================] - 1s 37ms/step - loss: 0.0653 - categorical_accuracy: 0.8438 - f1_with_tfa: 0.5343 - val_loss: 0.0641 - val_categorical_accuracy: 0.8483 - val_f1_with_tfa: 0.5889\n",
            "Epoch 11/100\n",
            "31/31 [==============================] - 1s 37ms/step - loss: 0.0631 - categorical_accuracy: 0.8514 - f1_with_tfa: 0.5528 - val_loss: 0.0626 - val_categorical_accuracy: 0.8525 - val_f1_with_tfa: 0.5852\n",
            "Epoch 12/100\n",
            "31/31 [==============================] - 1s 37ms/step - loss: 0.0619 - categorical_accuracy: 0.8537 - f1_with_tfa: 0.5586 - val_loss: 0.0608 - val_categorical_accuracy: 0.8549 - val_f1_with_tfa: 0.5891\n",
            "Epoch 13/100\n",
            "31/31 [==============================] - 1s 36ms/step - loss: 0.0633 - categorical_accuracy: 0.8513 - f1_with_tfa: 0.5579 - val_loss: 0.0644 - val_categorical_accuracy: 0.8484 - val_f1_with_tfa: 0.5794\n",
            "Epoch 14/100\n",
            "31/31 [==============================] - 1s 37ms/step - loss: 0.0622 - categorical_accuracy: 0.8549 - f1_with_tfa: 0.5507 - val_loss: 0.0600 - val_categorical_accuracy: 0.8642 - val_f1_with_tfa: 0.5971\n",
            "Epoch 15/100\n",
            "31/31 [==============================] - 1s 37ms/step - loss: 0.0582 - categorical_accuracy: 0.8646 - f1_with_tfa: 0.5750 - val_loss: 0.0581 - val_categorical_accuracy: 0.8610 - val_f1_with_tfa: 0.6148\n",
            "Epoch 16/100\n",
            "31/31 [==============================] - 1s 36ms/step - loss: 0.0560 - categorical_accuracy: 0.8697 - f1_with_tfa: 0.5868 - val_loss: 0.0588 - val_categorical_accuracy: 0.8583 - val_f1_with_tfa: 0.6072\n",
            "Epoch 17/100\n",
            "31/31 [==============================] - 1s 37ms/step - loss: 0.0564 - categorical_accuracy: 0.8691 - f1_with_tfa: 0.5833 - val_loss: 0.0589 - val_categorical_accuracy: 0.8553 - val_f1_with_tfa: 0.5963\n",
            "Epoch 18/100\n",
            "31/31 [==============================] - 1s 37ms/step - loss: 0.0551 - categorical_accuracy: 0.8721 - f1_with_tfa: 0.5809 - val_loss: 0.0554 - val_categorical_accuracy: 0.8713 - val_f1_with_tfa: 0.6311\n",
            "Epoch 19/100\n",
            "31/31 [==============================] - 1s 37ms/step - loss: 0.0541 - categorical_accuracy: 0.8753 - f1_with_tfa: 0.5960 - val_loss: 0.0562 - val_categorical_accuracy: 0.8663 - val_f1_with_tfa: 0.6204\n",
            "Epoch 20/100\n",
            "31/31 [==============================] - 1s 37ms/step - loss: 0.0536 - categorical_accuracy: 0.8766 - f1_with_tfa: 0.5963 - val_loss: 0.0553 - val_categorical_accuracy: 0.8694 - val_f1_with_tfa: 0.6325\n",
            "Epoch 21/100\n",
            "31/31 [==============================] - 1s 37ms/step - loss: 0.0528 - categorical_accuracy: 0.8789 - f1_with_tfa: 0.5991 - val_loss: 0.0571 - val_categorical_accuracy: 0.8670 - val_f1_with_tfa: 0.6339\n",
            "Epoch 22/100\n",
            "31/31 [==============================] - 1s 37ms/step - loss: 0.0527 - categorical_accuracy: 0.8798 - f1_with_tfa: 0.6106 - val_loss: 0.0555 - val_categorical_accuracy: 0.8732 - val_f1_with_tfa: 0.6293\n",
            "Epoch 23/100\n",
            "31/31 [==============================] - 1s 37ms/step - loss: 0.0512 - categorical_accuracy: 0.8846 - f1_with_tfa: 0.6173 - val_loss: 0.0527 - val_categorical_accuracy: 0.8803 - val_f1_with_tfa: 0.6475\n",
            "Epoch 24/100\n",
            "31/31 [==============================] - 1s 37ms/step - loss: 0.0517 - categorical_accuracy: 0.8821 - f1_with_tfa: 0.6159 - val_loss: 0.0547 - val_categorical_accuracy: 0.8766 - val_f1_with_tfa: 0.6273\n",
            "Epoch 25/100\n",
            "31/31 [==============================] - 1s 37ms/step - loss: 0.0501 - categorical_accuracy: 0.8878 - f1_with_tfa: 0.6269 - val_loss: 0.0525 - val_categorical_accuracy: 0.8824 - val_f1_with_tfa: 0.6467\n",
            "Epoch 26/100\n",
            "31/31 [==============================] - 1s 37ms/step - loss: 0.0490 - categorical_accuracy: 0.8897 - f1_with_tfa: 0.6308 - val_loss: 0.0528 - val_categorical_accuracy: 0.8809 - val_f1_with_tfa: 0.6464\n",
            "Epoch 27/100\n",
            "31/31 [==============================] - 1s 37ms/step - loss: 0.0495 - categorical_accuracy: 0.8897 - f1_with_tfa: 0.6311 - val_loss: 0.0538 - val_categorical_accuracy: 0.8779 - val_f1_with_tfa: 0.6436\n",
            "Epoch 28/100\n",
            "31/31 [==============================] - 1s 36ms/step - loss: 0.0492 - categorical_accuracy: 0.8900 - f1_with_tfa: 0.6373 - val_loss: 0.0543 - val_categorical_accuracy: 0.8736 - val_f1_with_tfa: 0.6286\n",
            "Epoch 29/100\n",
            "31/31 [==============================] - 1s 36ms/step - loss: 0.0476 - categorical_accuracy: 0.8938 - f1_with_tfa: 0.6370 - val_loss: 0.0530 - val_categorical_accuracy: 0.8792 - val_f1_with_tfa: 0.6346\n",
            "Epoch 30/100\n",
            "31/31 [==============================] - 1s 37ms/step - loss: 0.0475 - categorical_accuracy: 0.8943 - f1_with_tfa: 0.6363 - val_loss: 0.0521 - val_categorical_accuracy: 0.8835 - val_f1_with_tfa: 0.6476\n",
            "Epoch 31/100\n",
            "31/31 [==============================] - 1s 36ms/step - loss: 0.0473 - categorical_accuracy: 0.8969 - f1_with_tfa: 0.6420 - val_loss: 0.0548 - val_categorical_accuracy: 0.8736 - val_f1_with_tfa: 0.6262\n",
            "Epoch 32/100\n",
            "31/31 [==============================] - 1s 37ms/step - loss: 0.0473 - categorical_accuracy: 0.8961 - f1_with_tfa: 0.6477 - val_loss: 0.0548 - val_categorical_accuracy: 0.8728 - val_f1_with_tfa: 0.6371\n",
            "Epoch 33/100\n",
            "31/31 [==============================] - 1s 37ms/step - loss: 0.0477 - categorical_accuracy: 0.8976 - f1_with_tfa: 0.6451 - val_loss: 0.0521 - val_categorical_accuracy: 0.8847 - val_f1_with_tfa: 0.6575\n",
            "Epoch 34/100\n",
            "31/31 [==============================] - 1s 37ms/step - loss: 0.0457 - categorical_accuracy: 0.9023 - f1_with_tfa: 0.6463 - val_loss: 0.0552 - val_categorical_accuracy: 0.8680 - val_f1_with_tfa: 0.6374\n",
            "Epoch 35/100\n",
            "31/31 [==============================] - 1s 37ms/step - loss: 0.0467 - categorical_accuracy: 0.9012 - f1_with_tfa: 0.6588 - val_loss: 0.0538 - val_categorical_accuracy: 0.8843 - val_f1_with_tfa: 0.6444\n",
            "Epoch 36/100\n",
            "31/31 [==============================] - 1s 37ms/step - loss: 0.0462 - categorical_accuracy: 0.9010 - f1_with_tfa: 0.6550 - val_loss: 0.0518 - val_categorical_accuracy: 0.8896 - val_f1_with_tfa: 0.6734\n",
            "Epoch 37/100\n",
            "31/31 [==============================] - 1s 37ms/step - loss: 0.0447 - categorical_accuracy: 0.9083 - f1_with_tfa: 0.6668 - val_loss: 0.0501 - val_categorical_accuracy: 0.8940 - val_f1_with_tfa: 0.6754\n",
            "Epoch 38/100\n",
            "31/31 [==============================] - 1s 37ms/step - loss: 0.0441 - categorical_accuracy: 0.9069 - f1_with_tfa: 0.6609 - val_loss: 0.0525 - val_categorical_accuracy: 0.8834 - val_f1_with_tfa: 0.6501\n",
            "Epoch 39/100\n",
            "31/31 [==============================] - 1s 37ms/step - loss: 0.0436 - categorical_accuracy: 0.9094 - f1_with_tfa: 0.6682 - val_loss: 0.0508 - val_categorical_accuracy: 0.8874 - val_f1_with_tfa: 0.6502\n",
            "Epoch 40/100\n",
            "31/31 [==============================] - 1s 37ms/step - loss: 0.0439 - categorical_accuracy: 0.9094 - f1_with_tfa: 0.6737 - val_loss: 0.0535 - val_categorical_accuracy: 0.8801 - val_f1_with_tfa: 0.6466\n",
            "Epoch 41/100\n",
            "31/31 [==============================] - 1s 36ms/step - loss: 0.0434 - categorical_accuracy: 0.9127 - f1_with_tfa: 0.6733 - val_loss: 0.0537 - val_categorical_accuracy: 0.8814 - val_f1_with_tfa: 0.6461\n",
            "Epoch 42/100\n",
            "31/31 [==============================] - 1s 38ms/step - loss: 0.0429 - categorical_accuracy: 0.9145 - f1_with_tfa: 0.6745 - val_loss: 0.0550 - val_categorical_accuracy: 0.8825 - val_f1_with_tfa: 0.6610\n",
            "Epoch 43/100\n",
            "31/31 [==============================] - 1s 37ms/step - loss: 0.0442 - categorical_accuracy: 0.9142 - f1_with_tfa: 0.6729 - val_loss: 0.0541 - val_categorical_accuracy: 0.8839 - val_f1_with_tfa: 0.6459\n",
            "Epoch 44/100\n",
            "31/31 [==============================] - 1s 37ms/step - loss: 0.0413 - categorical_accuracy: 0.9192 - f1_with_tfa: 0.6828 - val_loss: 0.0544 - val_categorical_accuracy: 0.8814 - val_f1_with_tfa: 0.6480\n",
            "Epoch 45/100\n",
            "31/31 [==============================] - 1s 37ms/step - loss: 0.0407 - categorical_accuracy: 0.9207 - f1_with_tfa: 0.6873 - val_loss: 0.0549 - val_categorical_accuracy: 0.8820 - val_f1_with_tfa: 0.6487\n",
            "Epoch 46/100\n",
            "31/31 [==============================] - 1s 37ms/step - loss: 0.0450 - categorical_accuracy: 0.9134 - f1_with_tfa: 0.6780 - val_loss: 0.0582 - val_categorical_accuracy: 0.8761 - val_f1_with_tfa: 0.6468\n",
            "Epoch 47/100\n",
            "31/31 [==============================] - 1s 37ms/step - loss: 0.0413 - categorical_accuracy: 0.9229 - f1_with_tfa: 0.6919 - val_loss: 0.0550 - val_categorical_accuracy: 0.8836 - val_f1_with_tfa: 0.6585\n"
          ]
        }
      ],
      "source": [
        "# Train the best model for 10 epochs\n",
        "best_bilstm_two_dense = tuner_bilstm_two_dense.hypermodel.build(best_hps_bilstm_two_dense)\n",
        "best_bilstm_two_dense.fit(X_train, y_train, epochs=epochs_training,batch_size=batch_size_training ,validation_data=(X_val, y_val),callbacks=callbacks_training)\n",
        "best_bilstm_two_dense.save('models/bilstm_two_dense.h5')"
      ]
    },
    {
      "cell_type": "markdown",
      "source": [
        "Model performance on train and validation set."
      ],
      "metadata": {
        "id": "wHAEHuAOmSg9"
      }
    },
    {
      "cell_type": "code",
      "execution_count": 74,
      "metadata": {
        "colab": {
          "base_uri": "https://localhost:8080/"
        },
        "id": "v3szaDxGcCOA",
        "outputId": "7a98ae1e-f94c-40ff-8609-3f78b1e3156d"
      },
      "outputs": [
        {
          "output_type": "stream",
          "name": "stdout",
          "text": [
            "F1 score of BiLSTM model: 0.5727549195289612\n",
            "F1 score of BiGRU model:0.5732412338256836\n",
            "F1 score of 2 BiLSTM:0.47903314232826233\n",
            "F1 score of BiLSTM two dense model:0.6754241585731506\n"
          ]
        }
      ],
      "source": [
        "print(f\"F1 score of BiLSTM model: {max(best_bilstm.history.history['val_f1_with_tfa'])}\")\n",
        "print(f\"F1 score of BiGRU model:{max(best_bigru.history.history['val_f1_with_tfa'])}\")\n",
        "print(f\"F1 score of 2 BiLSTM:{max(best_two_bilstm.history.history['val_f1_with_tfa'])}\")\n",
        "print(f\"F1 score of BiLSTM two dense model:{max(best_bilstm_two_dense.history.history['val_f1_with_tfa'])}\")\n"
      ]
    },
    {
      "cell_type": "markdown",
      "source": [
        "History of the training"
      ],
      "metadata": {
        "id": "5PGyeScRmQzz"
      }
    },
    {
      "cell_type": "code",
      "source": [
        "def plot_accuracy_loss(hist):\n",
        "    plt.rcParams[\"figure.figsize\"] = (15,20)\n",
        "    fig, axs = plt.subplots(3,1)\n",
        "    fig.suptitle('Training trends')\n",
        "    axs[0].plot(hist.history['categorical_accuracy'])\n",
        "    axs[0].plot(hist.history['val_categorical_accuracy'])\n",
        "    axs[0].set_title(\"model accuracy\")\n",
        "    axs[0].set_ylabel('accuracy')\n",
        "    axs[0].set_xlabel('epoch')\n",
        "    axs[0].legend(['train', 'val'], loc='best')\n",
        "    \n",
        "\n",
        "    axs[1].plot(hist.history['loss'])\n",
        "    axs[1].plot(hist.history['val_loss'])\n",
        "    axs[1].set_title(\"model loss\")\n",
        "    axs[1].set_ylabel('loss')\n",
        "    axs[1].set_xlabel('epoch')\n",
        "    axs[1].legend(['train', 'val'], loc='best')\n",
        "\n",
        "    axs[2].plot(hist.history['f1_with_tfa'])\n",
        "    axs[2].plot(hist.history['val_f1_with_tfa'])\n",
        "    axs[2].set_title(\"f1 score\")\n",
        "    axs[2].set_ylabel('f1 score')\n",
        "    axs[2].set_xlabel('epoch')\n",
        "    axs[2].legend(['train', 'val'], loc='best')\n",
        "\n",
        "\n",
        "    plt.show()"
      ],
      "metadata": {
        "id": "wJPswZ9BaUFV"
      },
      "execution_count": 115,
      "outputs": []
    },
    {
      "cell_type": "code",
      "source": [
        "plot_accuracy_loss(best_bilstm_two_dense.history)"
      ],
      "metadata": {
        "colab": {
          "base_uri": "https://localhost:8080/",
          "height": 1000
        },
        "id": "NBGHHYHdadhh",
        "outputId": "84c9b5d5-85f8-4976-e73e-c35f246e386c"
      },
      "execution_count": 116,
      "outputs": [
        {
          "output_type": "display_data",
          "data": {
            "text/plain": [
              "<Figure size 1080x1440 with 3 Axes>"
            ],
            "image/png": "[encoded data removed]"
          },
          "metadata": {
            "needs_background": "light"
          }
        }
      ]
    },
    {
      "cell_type": "code",
      "source": [
        "plot_accuracy_loss(best_bigru.history)"
      ],
      "metadata": {
        "colab": {
          "base_uri": "https://localhost:8080/",
          "height": 1000
        },
        "id": "WVuxcmMhcxtW",
        "outputId": "ada214f3-6b0e-45bd-b40f-2c299ffe3342"
      },
      "execution_count": 117,
      "outputs": [
        {
          "output_type": "display_data",
          "data": {
            "text/plain": [
              "<Figure size 1080x1440 with 3 Axes>"
            ],
            "image/png": "[encoded data removed]"
          },
          "metadata": {
            "needs_background": "light"
          }
        }
      ]
    },
    {
      "cell_type": "markdown",
      "source": [
        "We can see the second best model is overfitting whereas the first one is the f1-score between train and val is more near."
      ],
      "metadata": {
        "id": "F5iAzLo6ftf1"
      }
    },
    {
      "cell_type": "markdown",
      "source": [
        "## Model Evaluation"
      ],
      "metadata": {
        "id": "cVAnSsUOnKEV"
      }
    },
    {
      "cell_type": "markdown",
      "source": [
        "Loading the two best performing models"
      ],
      "metadata": {
        "id": "P9T8bNyGnTnd"
      }
    },
    {
      "cell_type": "code",
      "execution_count": 141,
      "metadata": {
        "id": "az2RQepRvOkk"
      },
      "outputs": [],
      "source": [
        "# Select the two best models based on the f1-score on validation set\n",
        "best_first_model = load_model(os.getcwd() + '/models/bilstm_two_dense.h5',compile=False)\n",
        "\n",
        "best_second_model = load_model(os.getcwd() + '/models/bigru.h5',compile=False)\n",
        "\n",
        "# Compile the models\n",
        "best_first_model.compile(optimizer='adam', loss='categorical_crossentropy', metrics=['val_f1_with_tfa'])\n",
        "best_second_model.compile(optimizer='adam', loss='categorical_crossentropy', metrics=['val_f1_with_tfa'])"
      ]
    },
    {
      "cell_type": "code",
      "execution_count": 142,
      "metadata": {
        "colab": {
          "base_uri": "https://localhost:8080/"
        },
        "id": "o9QSHBrqEioD",
        "outputId": "94bd4f8a-9ed5-4577-bc84-4ff4236ae231"
      },
      "outputs": [
        {
          "output_type": "stream",
          "name": "stdout",
          "text": [
            "21/21 [==============================] - 2s 8ms/step\n",
            "21/21 [==============================] - 2s 7ms/step\n"
          ]
        }
      ],
      "source": [
        "first_pred_labels = best_first_model.predict(X_test) # bilstm 2 dense\n",
        "second_pred_labels = best_second_model.predict(X_test) # bigru"
      ]
    },
    {
      "cell_type": "markdown",
      "metadata": {
        "id": "xkN1AYQAtzsa"
      },
      "source": [
        "### Final Error analysis"
      ]
    },
    {
      "cell_type": "markdown",
      "metadata": {
        "id": "4fOwbyWMf49r"
      },
      "source": [
        "* Performance on: \n",
        "    * the most frequent classes  \n",
        "    * the less frequent classes \n",
        "\n",
        "* precision  \n",
        "\n",
        "* recall \n",
        "\n",
        "* confusion matrix \n",
        "\n",
        "* specific misclassified samples."
      ]
    },
    {
      "cell_type": "markdown",
      "source": [
        "\n",
        "For the evaluation we need to get rid of tags representing symbols and punctuation, so we have to extract the correct tags that has to be involved in evaluation process. The metric chosen for the evaluation is the macro f1, computed token by token. Indeed, since the output of the network is one-hot encoded we had to collapse the list into an one and only one numpy array, which contains all the tokens without considering sentences."
      ],
      "metadata": {
        "id": "3loltdQTiy75"
      }
    },
    {
      "cell_type": "markdown",
      "source": [
        "#### Analyzing some misclassified example sentence from the test set"
      ],
      "metadata": {
        "id": "nOF4gS2ZhNfY"
      }
    },
    {
      "cell_type": "markdown",
      "source": [
        "We now retrieve some sentence from the test set to show some errors."
      ],
      "metadata": {
        "id": "xHIYfIZthW3S"
      }
    },
    {
      "cell_type": "code",
      "source": [
        "def predict_and_inverse_labels(idx,model,X_sents,y_tags):\n",
        "    sample_tags = y_tags[idx]\n",
        "    sentence = X_sents[idx]\n",
        "    raw_y_pred = model.predict(np.array([X_test[idx]]))\n",
        "    whole_pred =  np.concatenate(raw_y_pred)\n",
        "    above_treshold = whole_pred[np.std(whole_pred, axis=1) > 0.05]\n",
        "    pred_tags = sort_tags[np.argmax(above_treshold,axis=1)] \n",
        "    y_true = ohe.inverse_transform(sample_tags[sample_tags.any(1)]).T\n",
        "\n",
        "    return sentence,pred_tags, np.concatenate(y_true)"
      ],
      "metadata": {
        "id": "6Zx9vaoShQ-v"
      },
      "execution_count": 166,
      "outputs": []
    },
    {
      "cell_type": "code",
      "execution_count": 167,
      "metadata": {
        "colab": {
          "base_uri": "https://localhost:8080/"
        },
        "id": "IA9yCOsa4RCM",
        "outputId": "1d60c731-a1f1-4d2c-976c-38d7bcc611cb"
      },
      "outputs": [
        {
          "output_type": "stream",
          "name": "stdout",
          "text": [
            "1/1 [==============================] - 0s 26ms/step\n"
          ]
        }
      ],
      "source": [
        "sample_sentence, y_pred, y_gold = predict_and_inverse_labels(12,best_first_model,X_test_sents,y_test)"
      ]
    },
    {
      "cell_type": "code",
      "source": [
        "sample_sentence1, y_pred1, y_gold1 = predict_and_inverse_labels(28,best_first_model,X_test_sents,y_test)"
      ],
      "metadata": {
        "colab": {
          "base_uri": "https://localhost:8080/"
        },
        "id": "2N4iY5LkrAIE",
        "outputId": "86ebddbd-bc10-4789-f04b-0d94cbc1ba0f"
      },
      "execution_count": 180,
      "outputs": [
        {
          "output_type": "stream",
          "name": "stdout",
          "text": [
            "1/1 [==============================] - 0s 36ms/step\n"
          ]
        }
      ]
    },
    {
      "cell_type": "code",
      "source": [
        "print(sample_sentence)\n",
        "print()\n",
        "print(y_gold)\n",
        "print()\n",
        "print(y_pred)"
      ],
      "metadata": {
        "colab": {
          "base_uri": "https://localhost:8080/"
        },
        "id": "sUnwVi9-SECL",
        "outputId": "fed9eb8e-bebb-4de1-f161-84b0f5011eae"
      },
      "execution_count": 168,
      "outputs": [
        {
          "output_type": "stream",
          "name": "stdout",
          "text": [
            "['in' 'composite' 'trading' 'on' 'the' 'new' 'york' 'stock' 'exchange' ','\n",
            " 'telerate' 'shares' 'closed' 'at' '$' '19.50' ',' 'up' '12.5' 'cents' '.']\n",
            "\n",
            "['IN' 'JJ' 'NN' 'IN' 'DT' 'NNP' 'NNP' 'NNP' 'NNP' ',' 'NNP' 'NNS' 'VBD'\n",
            " 'IN' '$' 'CD' ',' 'RB' 'CD' 'NNS' '.']\n",
            "\n",
            "['IN' 'NNP' 'NN' 'IN' 'DT' 'NNP' 'NNP' 'NNP' 'NNP' ',' 'NNP' 'NNS' 'VBG'\n",
            " 'IN' '$' 'CD' ',' 'RB' 'CD' 'NNS' '.']\n"
          ]
        }
      ]
    },
    {
      "cell_type": "code",
      "source": [
        "print(sample_sentence1)\n",
        "print()\n",
        "print(y_gold1)\n",
        "print()\n",
        "print(y_pred1)"
      ],
      "metadata": {
        "colab": {
          "base_uri": "https://localhost:8080/"
        },
        "id": "KdV2rItXrEmr",
        "outputId": "21cc5c14-075c-4c94-c22b-8866426ddf23"
      },
      "execution_count": 181,
      "outputs": [
        {
          "output_type": "stream",
          "name": "stdout",
          "text": [
            "['for' 'the' 'year' ',' 'bolstered' 'by' 'the' 'introduction' 'of' 'the'\n",
            " 'colorliner' 'newspaper-printing' 'press' ',' 'graphics' 'earnings'\n",
            " 'almost' 'doubled' '.']\n",
            "\n",
            "['IN' 'DT' 'NN' ',' 'VBN' 'IN' 'DT' 'NN' 'IN' 'DT' 'NNP' 'NN' 'NN' ','\n",
            " 'NNS' 'NNS' 'RB' 'VBD' '.']\n",
            "\n",
            "['IN' 'DT' 'NN' ',' 'VBP' 'IN' 'DT' 'NN' 'IN' 'DT' 'NNP' 'NNP' 'NNP' ','\n",
            " 'JJ' 'NNS' 'RBR' 'VBP' '.']\n"
          ]
        }
      ]
    },
    {
      "cell_type": "code",
      "execution_count": 178,
      "metadata": {
        "id": "-JaX30NE9oVy"
      },
      "outputs": [],
      "source": [
        "def get_misclassified(sentence,pred, truth, tags):\n",
        "    \"\"\"\n",
        "    Given a list of predicted tokens and their associated ground truths,\n",
        "    print the type of misclassifications of the model that produced the,\n",
        "    where tags names are extracted from the given vocabulary\n",
        "    \"\"\"\n",
        "    observed = pred[pred != truth]\n",
        "    actual = truth[pred != truth]\n",
        "    wrong_words = sentence[pred != truth]\n",
        "    for obs,act,word in zip(observed, actual,wrong_words):\n",
        "        print(f\"The tag {act} was marked as {obs} ==> word misclassified: {word}\")"
      ]
    },
    {
      "cell_type": "code",
      "source": [
        "get_misclassified(sample_sentence,y_pred,y_gold,sort_tags)"
      ],
      "metadata": {
        "colab": {
          "base_uri": "https://localhost:8080/"
        },
        "id": "1P_9xMaiihcB",
        "outputId": "3fc818e9-f1a2-4de3-fb19-5f3ce81df56f"
      },
      "execution_count": 179,
      "outputs": [
        {
          "output_type": "stream",
          "name": "stdout",
          "text": [
            "The tag JJ was marked as NNP ==> word misclassified: composite\n",
            "The tag VBD was marked as VBG ==> word misclassified: closed\n"
          ]
        }
      ]
    },
    {
      "cell_type": "code",
      "source": [
        "get_misclassified(sample_sentence1,y_pred1,y_gold1,sort_tags)"
      ],
      "metadata": {
        "colab": {
          "base_uri": "https://localhost:8080/"
        },
        "id": "CApR4-wgrLsy",
        "outputId": "31177acb-0d32-4d41-dc37-8ceeb75b508e"
      },
      "execution_count": 182,
      "outputs": [
        {
          "output_type": "stream",
          "name": "stdout",
          "text": [
            "The tag VBN was marked as VBP ==> word misclassified: bolstered\n",
            "The tag NN was marked as NNP ==> word misclassified: newspaper-printing\n",
            "The tag NN was marked as NNP ==> word misclassified: press\n",
            "The tag NNS was marked as JJ ==> word misclassified: graphics\n",
            "The tag RB was marked as RBR ==> word misclassified: almost\n",
            "The tag VBD was marked as VBP ==> word misclassified: doubled\n"
          ]
        }
      ]
    },
    {
      "cell_type": "markdown",
      "source": [
        "Commento errori"
      ],
      "metadata": {
        "id": "QZZlqpGzsmde"
      }
    },
    {
      "cell_type": "markdown",
      "source": [
        "## Confusion matrix"
      ],
      "metadata": {
        "id": "AAlDHi4Ihfd1"
      }
    },
    {
      "cell_type": "code",
      "execution_count": 123,
      "metadata": {
        "id": "7R7cLL_Rtbxz"
      },
      "outputs": [],
      "source": [
        "def inverse_transform(targets):\n",
        "        return np.array(\n",
        "            [\n",
        "                ohe.inverse_transform(document[document.any(1)])\n",
        "                for document in targets\n",
        "            ]\n",
        "            , dtype=object\n",
        "        )"
      ]
    },
    {
      "cell_type": "code",
      "source": [
        "def inverse_transform_probabilities(targets):\n",
        "        n_classes = targets.shape[2]\n",
        "        targets = np.array(\n",
        "            [document[np.std(document, axis=1) > 0.05] for document in targets], dtype=object\n",
        "        )\n",
        "        y_pred = np.zeros((len(targets), max([len(document) for document in targets]), n_classes))\n",
        "        for i, document in enumerate(targets):\n",
        "            for j, word in enumerate(document):\n",
        "                y_pred[i, j, np.argmax(word)] = 1\n",
        "\n",
        "        return inverse_transform(y_pred)\n"
      ],
      "metadata": {
        "id": "uGwuFR3cPc0E"
      },
      "execution_count": 124,
      "outputs": []
    },
    {
      "cell_type": "code",
      "source": [
        "def comparison(model, X_test, y_test):\n",
        "\n",
        "    raw_y_pred = model.predict(X_test)\n",
        "\n",
        "    # converting indexes to labels\n",
        "    y_true_label = inverse_transform(y_test)\n",
        "    y_pred_label = inverse_transform_probabilities(raw_y_pred)\n",
        "\n",
        "    y_true_flat = []\n",
        "    y_pred_flat = []\n",
        "    for document_predicted, document_true in zip(y_pred_label, y_true_label):\n",
        "        for word_predicted, word_true in zip (document_predicted, document_true):\n",
        "            y_pred_flat.append(word_predicted)\n",
        "            y_true_flat.append(word_true)\n",
        "    return y_true_flat, y_pred_flat"
      ],
      "metadata": {
        "id": "mvq2KuABcLF3"
      },
      "execution_count": 183,
      "outputs": []
    },
    {
      "cell_type": "code",
      "source": [
        "y_true , y_pred = comparison(best_first_model,X_test,y_test)"
      ],
      "metadata": {
        "colab": {
          "base_uri": "https://localhost:8080/"
        },
        "id": "7RzsSkbkfPN-",
        "outputId": "612c34b3-6d0d-42ae-88ee-6ef9e3b7136e"
      },
      "execution_count": 184,
      "outputs": [
        {
          "output_type": "stream",
          "name": "stdout",
          "text": [
            "21/21 [==============================] - 0s 8ms/step\n"
          ]
        }
      ]
    },
    {
      "cell_type": "code",
      "source": [
        "def get_flattened_comparison(model, X_test, y_test):\n",
        "\n",
        "    raw_y_pred = model.predict(X_test)\n",
        "\n",
        "    # converting indexes to labels\n",
        "    y_true_label = inverse_transform(y_test)\n",
        "    y_pred_label = inverse_transform_probabilities(raw_y_pred)\n",
        "\n",
        "    y_true_flat = []\n",
        "    y_pred_flat = []\n",
        "    for document_predicted, document_true in zip(y_pred_label, y_true_label):\n",
        "        for word_predicted, word_true in zip (document_predicted, document_true):\n",
        "            y_pred_flat.append(word_predicted)\n",
        "            y_true_flat.append(word_true)\n",
        "    return y_true_flat, y_pred_flat"
      ],
      "metadata": {
        "id": "bLmlAQK1Y11r"
      },
      "execution_count": 186,
      "outputs": []
    },
    {
      "cell_type": "code",
      "source": [
        "punct_symbol_tags=sort_tags[indices]\n",
        "excluded_symbols = np.array(sorted(set(sort_tags) - set(punct_symbol_tags)))\n"
      ],
      "metadata": {
        "id": "3v7NSMC9VquE"
      },
      "execution_count": 189,
      "outputs": []
    },
    {
      "cell_type": "code",
      "source": [
        "def evaluate_model(model, X_test, y_test, labels):\n",
        "    \"\"\"\n",
        "    given a trained model and a test set returns the f-score and the confusion matrix\n",
        "    taking into account only classes in labels\n",
        "    \"\"\"\n",
        "    # show confusion matrix\n",
        "    y_true_flat, y_pred_flat = comparison(model, X_test, y_test)\n",
        "    conf_matrix = confusion_matrix(y_true_flat, y_pred_flat, labels=labels)\n",
        "    disp = ConfusionMatrixDisplay(conf_matrix, display_labels=labels)\n",
        "    fig, ax = plt.subplots(figsize=(20,18))\n",
        "    disp.plot(ax=ax)\n",
        "    # f1 score\n",
        "    print(\"F1 score:\\n-------------------------------\")\n",
        "    print(f1_score(y_true_flat, y_pred_flat, labels=labels, average='macro', zero_division=0))"
      ],
      "metadata": {
        "id": "JZm6-EPERCh0"
      },
      "execution_count": 187,
      "outputs": []
    },
    {
      "cell_type": "markdown",
      "source": [
        "### Confusion matrix"
      ],
      "metadata": {
        "id": "IDOvauhqu9XV"
      }
    },
    {
      "cell_type": "code",
      "source": [
        "evaluate_model(best_first_model,X_test,y_test,excluded_symbols)"
      ],
      "metadata": {
        "colab": {
          "base_uri": "https://localhost:8080/",
          "height": 906
        },
        "id": "CWBliTV5RH0W",
        "outputId": "6eb35d58-0c4c-421a-c0ca-6c4a6546e840"
      },
      "execution_count": 190,
      "outputs": [
        {
          "output_type": "stream",
          "name": "stdout",
          "text": [
            "21/21 [==============================] - 0s 8ms/step\n",
            "F1 score:\n",
            "-------------------------------\n",
            "0.7242766120595532\n"
          ]
        },
        {
          "output_type": "display_data",
          "data": {
            "text/plain": [
              "<Figure size 1440x1296 with 2 Axes>"
            ],
            "image/png": "[encoded data removed]"
          },
          "metadata": {
            "needs_background": "light"
          }
        }
      ]
    },
    {
      "cell_type": "code",
      "source": [
        "def show_classification_report(model, X_test, y_test, sorted_by=None, ascending=True):\n",
        "  \"\"\"\n",
        "  Show classification report using only classes in names\n",
        "  \"\"\"\n",
        "  y_true, y_pred = get_flattened_comparison(model, X_test, y_test)\n",
        "  report =  classification_report(y_true, y_pred, output_dict=True, zero_division=0)\n",
        "  \n",
        "  # global performance\n",
        "  keys = ['weighted avg', 'accuracy', 'macro avg']\n",
        "  global_dict = {key: report[key] for key in keys}\n",
        "  for key in keys:\n",
        "    del report[key]\n",
        "\n",
        "  df = pd.DataFrame.from_dict(report).transpose().round(2)\n",
        "  if sorted_by:\n",
        "    df.sort_values(by=sorted_by, ascending=ascending, inplace=True)\n",
        "  print(df)\n",
        "\n",
        "  print(\"\\n\\n\")\n",
        "\n",
        "  df_glob = pd.DataFrame.from_dict(global_dict).transpose().round(2)\n",
        "  print(df_glob)"
      ],
      "metadata": {
        "id": "b7lPQGnGaeZM"
      },
      "execution_count": 191,
      "outputs": []
    },
    {
      "cell_type": "code",
      "source": [
        "from sklearn.metrics import classification_report"
      ],
      "metadata": {
        "id": "hQMF5OJPap-F"
      },
      "execution_count": 192,
      "outputs": []
    },
    {
      "cell_type": "code",
      "source": [
        "show_classification_report(best_first_model, X_test, y_test, sorted_by=['f1-score'], ascending=False)\n"
      ],
      "metadata": {
        "colab": {
          "base_uri": "https://localhost:8080/"
        },
        "id": "uPKMNJQ0alK-",
        "outputId": "6b461fb4-b645-4f2b-956e-42dfb93ca0c5"
      },
      "execution_count": 193,
      "outputs": [
        {
          "output_type": "stream",
          "name": "stdout",
          "text": [
            "21/21 [==============================] - 0s 8ms/step\n",
            "       precision  recall  f1-score  support\n",
            "$           1.00    1.00      1.00    209.0\n",
            ",           1.00    1.00      1.00    787.0\n",
            "TO          1.00    1.00      1.00    386.0\n",
            "PRP$        1.00    1.00      1.00     99.0\n",
            ":           1.00    1.00      1.00     56.0\n",
            "EX          1.00    1.00      1.00      5.0\n",
            "MD          0.97    1.00      0.99    167.0\n",
            ".           0.99    1.00      0.99    633.0\n",
            "PRP         0.98    0.98      0.98    192.0\n",
            "POS         0.98    0.99      0.98    152.0\n",
            "''          0.97    0.99      0.98     70.0\n",
            "``          0.96    1.00      0.98     73.0\n",
            "DT          0.98    0.99      0.98   1335.0\n",
            "CC          0.99    0.98      0.98    366.0\n",
            "VBZ         0.97    0.94      0.96    280.0\n",
            "-LRB-       0.90    1.00      0.95     18.0\n",
            "WDT         0.94    0.94      0.94     84.0\n",
            "IN          0.93    0.95      0.94   1630.0\n",
            "CD          0.94    0.94      0.94    858.0\n",
            "VB          0.91    0.96      0.93    403.0\n",
            "VBD         0.93    0.89      0.91    634.0\n",
            "-RRB-       0.89    0.89      0.89     18.0\n",
            "WP$         1.00    0.75      0.86      4.0\n",
            "NN          0.87    0.82      0.85   2383.0\n",
            "NNP         0.84    0.86      0.85   1504.0\n",
            "NNS         0.81    0.89      0.85    941.0\n",
            "VBP         0.79    0.85      0.82    134.0\n",
            "WP          0.65    1.00      0.78     20.0\n",
            "RB          0.74    0.79      0.77    381.0\n",
            "VBN         0.81    0.72      0.77    366.0\n",
            "WRB         0.81    0.71      0.76     24.0\n",
            "JJ          0.75    0.77      0.76    918.0\n",
            "VBG         0.73    0.78      0.75    221.0\n",
            "JJR         0.65    0.63      0.64     59.0\n",
            "RBS         0.43    1.00      0.60      3.0\n",
            "JJS         0.88    0.45      0.60     31.0\n",
            "RBR         0.43    0.40      0.41     15.0\n",
            "PDT         1.00    0.25      0.40      4.0\n",
            "RP          0.39    0.33      0.36     33.0\n",
            "NNPS        0.00    0.00      0.00     44.0\n",
            "\n",
            "\n",
            "\n",
            "              precision  recall  f1-score  support\n",
            "weighted avg       0.90    0.90      0.90  15540.0\n",
            "accuracy           0.90    0.90      0.90      0.9\n",
            "macro avg          0.85    0.84      0.83  15540.0\n"
          ]
        }
      ]
    },
    {
      "cell_type": "markdown",
      "metadata": {
        "id": "wEa54dysdb21"
      },
      "source": [
        "Result examples of BiLSTM model"
      ]
    },
    {
      "cell_type": "markdown",
      "metadata": {
        "id": "I_QOFWXGdFxQ"
      },
      "source": [
        "* verify and discuss if the results on the test sets are coherent with those on the validation set"
      ]
    },
    {
      "cell_type": "markdown",
      "metadata": {
        "id": "vPnb6HY4dG-B"
      },
      "source": [
        "* analyze the errors done by your model "
      ]
    },
    {
      "cell_type": "markdown",
      "metadata": {
        "id": "9Xn8bDiHIi4B"
      },
      "source": [
        "\n",
        "* try to understand which may be the causes and think about how to improve it."
      ]
    }
  ],
  "metadata": {
    "accelerator": "GPU",
    "colab": {
      "collapsed_sections": [
        "WjbvtURHwu0i",
        "xkN1AYQAtzsa"
      ],
      "provenance": [],
      "include_colab_link": true
    },
    "gpuClass": "standard",
    "kernelspec": {
      "display_name": "Python 3.9.7 ('base')",
      "language": "python",
      "name": "python3"
    },
    "language_info": {
      "codemirror_mode": {
        "name": "ipython",
        "version": 3
      },
      "file_extension": ".py",
      "mimetype": "text/x-python",
      "name": "python",
      "nbconvert_exporter": "python",
      "pygments_lexer": "ipython3",
      "version": "3.9.7"
    },
    "vscode": {
      "interpreter": {
        "hash": "314ecf4e4f15fe22a658b1d57c99615ad4c86847edfd5102777831eb0be2d97e"
      }
    }
  },
  "nbformat": 4,
  "nbformat_minor": 0
}