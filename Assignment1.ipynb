{
  "cells": [
    {
      "cell_type": "markdown",
      "metadata": {
        "id": "view-in-github",
        "colab_type": "text"
      },
      "source": [
        "<a href=\"https://colab.research.google.com/github/MScaramuzzi/A1-RNNs-for-Sequence-Labeling/blob/main/Assignment1.ipynb\" target=\"_parent\"><img src=\"https://colab.research.google.com/assets/colab-badge.svg\" alt=\"Open In Colab\"/></a>"
      ]
    },
    {
      "cell_type": "markdown",
      "metadata": {
        "id": "05M2wh8VfEZb"
      },
      "source": [
        "# Assignment 1\n",
        "\n",
        "**Due to**: 11/01/2022 (dd/mm/yyyy)\n",
        "\n",
        "**Credits**: Andrea Galassi, Federico Ruggeri, Paolo Torroni\n",
        "\n",
        "**Summary**: Part-of Speech (POS) tagging as Sequence Labelling using Recurrent Neural Architectures"
      ]
    },
    {
      "cell_type": "markdown",
      "metadata": {
        "id": "XGZkN2WkX4Cn"
      },
      "source": [
        "**Authors**:\n",
        "\n",
        "* Sergio Barezzani: sergio.barezzani@studio.unibo.it\n",
        "* Giuseppe Morgese: giuseppe.morgese2@studio.unibo.it\n",
        "* Marco Scaramuzzi: marco.scaramuzzi@studio.unibo.it"
      ]
    },
    {
      "cell_type": "markdown",
      "metadata": {
        "id": "dyQDqTvLeE4-"
      },
      "source": [
        "**Task**: given a corpus of documents, predict the POS tag for each word\n",
        "\n",
        "**Corpus**: Ignore the numeric value in the third column, use only the words/symbols and its label. The corpus is available at: https://raw.githubusercontent.com/nltk/nltk_data/gh-pages/packages/corpora/dependency_treebank.zip"
      ]
    },
    {
      "cell_type": "markdown",
      "metadata": {
        "id": "KOl_9vkgdNpD"
      },
      "source": [
        "## Primari\n",
        "\n",
        "1. Cambia codice getting dei files\n",
        "    * Cambia struttura cartelle\n",
        "2. One Hot Encoding + unk\n",
        "    * Count OOV \n",
        "\n",
        "3. Evaluation\n",
        "* History veloce\n",
        "* Error analysis\n",
        " * Most frequent classifier\n",
        "* Pad sequences\n",
        "* Exclude padding from accuracy (?)\n",
        "* F1 score confusion matrix\n",
        "\n",
        "## Secondari\n",
        "\n",
        "* Hyperparamter and refining\n",
        "* Pad sequences\n",
        "* Most frequent baseline\n",
        "\n",
        "\n",
        "## Terziari\n",
        "* History approfondita\n",
        "* Better embedding \n",
        "* Plot migliori\n",
        "* Tensorflow dataset\n",
        "* LR Scheduler &rarr; StepLR \n",
        "\n",
        "\n"
      ]
    },
    {
      "cell_type": "markdown",
      "metadata": {
        "id": "R6nuwKkoJyrC"
      },
      "source": [
        "Importing and installing useful libraries"
      ]
    },
    {
      "cell_type": "code",
      "execution_count": 25,
      "metadata": {
        "colab": {
          "base_uri": "https://localhost:8080/"
        },
        "id": "YzUyHkgSJ-B4",
        "outputId": "2f237d96-0806-48be-ff66-fc3795b6bf36"
      },
      "outputs": [
        {
          "output_type": "stream",
          "name": "stdout",
          "text": [
            "Looking in indexes: https://pypi.org/simple, https://us-python.pkg.dev/colab-wheels/public/simple/\n",
            "Requirement already satisfied: keras_tuner in /usr/local/lib/python3.8/dist-packages (1.1.3)\n",
            "Requirement already satisfied: ipython in /usr/local/lib/python3.8/dist-packages (from keras_tuner) (7.9.0)\n",
            "Requirement already satisfied: packaging in /usr/local/lib/python3.8/dist-packages (from keras_tuner) (21.3)\n",
            "Requirement already satisfied: tensorboard in /usr/local/lib/python3.8/dist-packages (from keras_tuner) (2.9.1)\n",
            "Requirement already satisfied: numpy in /usr/local/lib/python3.8/dist-packages (from keras_tuner) (1.21.6)\n",
            "Requirement already satisfied: requests in /usr/local/lib/python3.8/dist-packages (from keras_tuner) (2.23.0)\n",
            "Requirement already satisfied: kt-legacy in /usr/local/lib/python3.8/dist-packages (from keras_tuner) (1.0.4)\n",
            "Requirement already satisfied: pickleshare in /usr/local/lib/python3.8/dist-packages (from ipython->keras_tuner) (0.7.5)\n",
            "Requirement already satisfied: prompt-toolkit<2.1.0,>=2.0.0 in /usr/local/lib/python3.8/dist-packages (from ipython->keras_tuner) (2.0.10)\n",
            "Requirement already satisfied: jedi>=0.10 in /usr/local/lib/python3.8/dist-packages (from ipython->keras_tuner) (0.18.2)\n",
            "Requirement already satisfied: setuptools>=18.5 in /usr/local/lib/python3.8/dist-packages (from ipython->keras_tuner) (57.4.0)\n",
            "Requirement already satisfied: decorator in /usr/local/lib/python3.8/dist-packages (from ipython->keras_tuner) (4.4.2)\n",
            "Requirement already satisfied: traitlets>=4.2 in /usr/local/lib/python3.8/dist-packages (from ipython->keras_tuner) (5.7.1)\n",
            "Requirement already satisfied: pexpect in /usr/local/lib/python3.8/dist-packages (from ipython->keras_tuner) (4.8.0)\n",
            "Requirement already satisfied: pygments in /usr/local/lib/python3.8/dist-packages (from ipython->keras_tuner) (2.6.1)\n",
            "Requirement already satisfied: backcall in /usr/local/lib/python3.8/dist-packages (from ipython->keras_tuner) (0.2.0)\n",
            "Requirement already satisfied: parso<0.9.0,>=0.8.0 in /usr/local/lib/python3.8/dist-packages (from jedi>=0.10->ipython->keras_tuner) (0.8.3)\n",
            "Requirement already satisfied: wcwidth in /usr/local/lib/python3.8/dist-packages (from prompt-toolkit<2.1.0,>=2.0.0->ipython->keras_tuner) (0.2.5)\n",
            "Requirement already satisfied: six>=1.9.0 in /usr/local/lib/python3.8/dist-packages (from prompt-toolkit<2.1.0,>=2.0.0->ipython->keras_tuner) (1.15.0)\n",
            "Requirement already satisfied: pyparsing!=3.0.5,>=2.0.2 in /usr/local/lib/python3.8/dist-packages (from packaging->keras_tuner) (3.0.9)\n",
            "Requirement already satisfied: ptyprocess>=0.5 in /usr/local/lib/python3.8/dist-packages (from pexpect->ipython->keras_tuner) (0.7.0)\n",
            "Requirement already satisfied: urllib3!=1.25.0,!=1.25.1,<1.26,>=1.21.1 in /usr/local/lib/python3.8/dist-packages (from requests->keras_tuner) (1.24.3)\n",
            "Requirement already satisfied: certifi>=2017.4.17 in /usr/local/lib/python3.8/dist-packages (from requests->keras_tuner) (2022.12.7)\n",
            "Requirement already satisfied: idna<3,>=2.5 in /usr/local/lib/python3.8/dist-packages (from requests->keras_tuner) (2.10)\n",
            "Requirement already satisfied: chardet<4,>=3.0.2 in /usr/local/lib/python3.8/dist-packages (from requests->keras_tuner) (3.0.4)\n",
            "Requirement already satisfied: tensorboard-data-server<0.7.0,>=0.6.0 in /usr/local/lib/python3.8/dist-packages (from tensorboard->keras_tuner) (0.6.1)\n",
            "Requirement already satisfied: werkzeug>=1.0.1 in /usr/local/lib/python3.8/dist-packages (from tensorboard->keras_tuner) (1.0.1)\n",
            "Requirement already satisfied: tensorboard-plugin-wit>=1.6.0 in /usr/local/lib/python3.8/dist-packages (from tensorboard->keras_tuner) (1.8.1)\n",
            "Requirement already satisfied: google-auth<3,>=1.6.3 in /usr/local/lib/python3.8/dist-packages (from tensorboard->keras_tuner) (2.15.0)\n",
            "Requirement already satisfied: absl-py>=0.4 in /usr/local/lib/python3.8/dist-packages (from tensorboard->keras_tuner) (1.3.0)\n",
            "Requirement already satisfied: grpcio>=1.24.3 in /usr/local/lib/python3.8/dist-packages (from tensorboard->keras_tuner) (1.51.1)\n",
            "Requirement already satisfied: protobuf<3.20,>=3.9.2 in /usr/local/lib/python3.8/dist-packages (from tensorboard->keras_tuner) (3.19.6)\n",
            "Requirement already satisfied: markdown>=2.6.8 in /usr/local/lib/python3.8/dist-packages (from tensorboard->keras_tuner) (3.4.1)\n",
            "Requirement already satisfied: google-auth-oauthlib<0.5,>=0.4.1 in /usr/local/lib/python3.8/dist-packages (from tensorboard->keras_tuner) (0.4.6)\n",
            "Requirement already satisfied: wheel>=0.26 in /usr/local/lib/python3.8/dist-packages (from tensorboard->keras_tuner) (0.38.4)\n",
            "Requirement already satisfied: rsa<5,>=3.1.4 in /usr/local/lib/python3.8/dist-packages (from google-auth<3,>=1.6.3->tensorboard->keras_tuner) (4.9)\n",
            "Requirement already satisfied: pyasn1-modules>=0.2.1 in /usr/local/lib/python3.8/dist-packages (from google-auth<3,>=1.6.3->tensorboard->keras_tuner) (0.2.8)\n",
            "Requirement already satisfied: cachetools<6.0,>=2.0.0 in /usr/local/lib/python3.8/dist-packages (from google-auth<3,>=1.6.3->tensorboard->keras_tuner) (5.2.0)\n",
            "Requirement already satisfied: requests-oauthlib>=0.7.0 in /usr/local/lib/python3.8/dist-packages (from google-auth-oauthlib<0.5,>=0.4.1->tensorboard->keras_tuner) (1.3.1)\n",
            "Requirement already satisfied: importlib-metadata>=4.4 in /usr/local/lib/python3.8/dist-packages (from markdown>=2.6.8->tensorboard->keras_tuner) (5.1.0)\n",
            "Requirement already satisfied: zipp>=0.5 in /usr/local/lib/python3.8/dist-packages (from importlib-metadata>=4.4->markdown>=2.6.8->tensorboard->keras_tuner) (3.11.0)\n",
            "Requirement already satisfied: pyasn1<0.5.0,>=0.4.6 in /usr/local/lib/python3.8/dist-packages (from pyasn1-modules>=0.2.1->google-auth<3,>=1.6.3->tensorboard->keras_tuner) (0.4.8)\n",
            "Requirement already satisfied: oauthlib>=3.0.0 in /usr/local/lib/python3.8/dist-packages (from requests-oauthlib>=0.7.0->google-auth-oauthlib<0.5,>=0.4.1->tensorboard->keras_tuner) (3.2.2)\n",
            "Looking in indexes: https://pypi.org/simple, https://us-python.pkg.dev/colab-wheels/public/simple/\n",
            "Requirement already satisfied: keras-tuner in /usr/local/lib/python3.8/dist-packages (1.1.3)\n",
            "Requirement already satisfied: tensorflow-addons in /usr/local/lib/python3.8/dist-packages (0.19.0)\n",
            "Requirement already satisfied: packaging in /usr/local/lib/python3.8/dist-packages (from keras-tuner) (21.3)\n",
            "Requirement already satisfied: ipython in /usr/local/lib/python3.8/dist-packages (from keras-tuner) (7.9.0)\n",
            "Requirement already satisfied: kt-legacy in /usr/local/lib/python3.8/dist-packages (from keras-tuner) (1.0.4)\n",
            "Requirement already satisfied: tensorboard in /usr/local/lib/python3.8/dist-packages (from keras-tuner) (2.9.1)\n",
            "Requirement already satisfied: numpy in /usr/local/lib/python3.8/dist-packages (from keras-tuner) (1.21.6)\n",
            "Requirement already satisfied: requests in /usr/local/lib/python3.8/dist-packages (from keras-tuner) (2.23.0)\n",
            "Requirement already satisfied: typeguard>=2.7 in /usr/local/lib/python3.8/dist-packages (from tensorflow-addons) (2.7.1)\n",
            "Requirement already satisfied: pygments in /usr/local/lib/python3.8/dist-packages (from ipython->keras-tuner) (2.6.1)\n",
            "Requirement already satisfied: pickleshare in /usr/local/lib/python3.8/dist-packages (from ipython->keras-tuner) (0.7.5)\n",
            "Requirement already satisfied: prompt-toolkit<2.1.0,>=2.0.0 in /usr/local/lib/python3.8/dist-packages (from ipython->keras-tuner) (2.0.10)\n",
            "Requirement already satisfied: jedi>=0.10 in /usr/local/lib/python3.8/dist-packages (from ipython->keras-tuner) (0.18.2)\n",
            "Requirement already satisfied: pexpect in /usr/local/lib/python3.8/dist-packages (from ipython->keras-tuner) (4.8.0)\n",
            "Requirement already satisfied: decorator in /usr/local/lib/python3.8/dist-packages (from ipython->keras-tuner) (4.4.2)\n",
            "Requirement already satisfied: setuptools>=18.5 in /usr/local/lib/python3.8/dist-packages (from ipython->keras-tuner) (57.4.0)\n",
            "Requirement already satisfied: traitlets>=4.2 in /usr/local/lib/python3.8/dist-packages (from ipython->keras-tuner) (5.7.1)\n",
            "Requirement already satisfied: backcall in /usr/local/lib/python3.8/dist-packages (from ipython->keras-tuner) (0.2.0)\n",
            "Requirement already satisfied: parso<0.9.0,>=0.8.0 in /usr/local/lib/python3.8/dist-packages (from jedi>=0.10->ipython->keras-tuner) (0.8.3)\n",
            "Requirement already satisfied: wcwidth in /usr/local/lib/python3.8/dist-packages (from prompt-toolkit<2.1.0,>=2.0.0->ipython->keras-tuner) (0.2.5)\n",
            "Requirement already satisfied: six>=1.9.0 in /usr/local/lib/python3.8/dist-packages (from prompt-toolkit<2.1.0,>=2.0.0->ipython->keras-tuner) (1.15.0)\n",
            "Requirement already satisfied: pyparsing!=3.0.5,>=2.0.2 in /usr/local/lib/python3.8/dist-packages (from packaging->keras-tuner) (3.0.9)\n",
            "Requirement already satisfied: ptyprocess>=0.5 in /usr/local/lib/python3.8/dist-packages (from pexpect->ipython->keras-tuner) (0.7.0)\n",
            "Requirement already satisfied: chardet<4,>=3.0.2 in /usr/local/lib/python3.8/dist-packages (from requests->keras-tuner) (3.0.4)\n",
            "Requirement already satisfied: urllib3!=1.25.0,!=1.25.1,<1.26,>=1.21.1 in /usr/local/lib/python3.8/dist-packages (from requests->keras-tuner) (1.24.3)\n",
            "Requirement already satisfied: certifi>=2017.4.17 in /usr/local/lib/python3.8/dist-packages (from requests->keras-tuner) (2022.12.7)\n",
            "Requirement already satisfied: idna<3,>=2.5 in /usr/local/lib/python3.8/dist-packages (from requests->keras-tuner) (2.10)\n",
            "Requirement already satisfied: wheel>=0.26 in /usr/local/lib/python3.8/dist-packages (from tensorboard->keras-tuner) (0.38.4)\n",
            "Requirement already satisfied: markdown>=2.6.8 in /usr/local/lib/python3.8/dist-packages (from tensorboard->keras-tuner) (3.4.1)\n",
            "Requirement already satisfied: protobuf<3.20,>=3.9.2 in /usr/local/lib/python3.8/dist-packages (from tensorboard->keras-tuner) (3.19.6)\n",
            "Requirement already satisfied: absl-py>=0.4 in /usr/local/lib/python3.8/dist-packages (from tensorboard->keras-tuner) (1.3.0)\n",
            "Requirement already satisfied: grpcio>=1.24.3 in /usr/local/lib/python3.8/dist-packages (from tensorboard->keras-tuner) (1.51.1)\n",
            "Requirement already satisfied: werkzeug>=1.0.1 in /usr/local/lib/python3.8/dist-packages (from tensorboard->keras-tuner) (1.0.1)\n",
            "Requirement already satisfied: google-auth<3,>=1.6.3 in /usr/local/lib/python3.8/dist-packages (from tensorboard->keras-tuner) (2.15.0)\n",
            "Requirement already satisfied: tensorboard-data-server<0.7.0,>=0.6.0 in /usr/local/lib/python3.8/dist-packages (from tensorboard->keras-tuner) (0.6.1)\n",
            "Requirement already satisfied: tensorboard-plugin-wit>=1.6.0 in /usr/local/lib/python3.8/dist-packages (from tensorboard->keras-tuner) (1.8.1)\n",
            "Requirement already satisfied: google-auth-oauthlib<0.5,>=0.4.1 in /usr/local/lib/python3.8/dist-packages (from tensorboard->keras-tuner) (0.4.6)\n",
            "Requirement already satisfied: rsa<5,>=3.1.4 in /usr/local/lib/python3.8/dist-packages (from google-auth<3,>=1.6.3->tensorboard->keras-tuner) (4.9)\n",
            "Requirement already satisfied: cachetools<6.0,>=2.0.0 in /usr/local/lib/python3.8/dist-packages (from google-auth<3,>=1.6.3->tensorboard->keras-tuner) (5.2.0)\n",
            "Requirement already satisfied: pyasn1-modules>=0.2.1 in /usr/local/lib/python3.8/dist-packages (from google-auth<3,>=1.6.3->tensorboard->keras-tuner) (0.2.8)\n",
            "Requirement already satisfied: requests-oauthlib>=0.7.0 in /usr/local/lib/python3.8/dist-packages (from google-auth-oauthlib<0.5,>=0.4.1->tensorboard->keras-tuner) (1.3.1)\n",
            "Requirement already satisfied: importlib-metadata>=4.4 in /usr/local/lib/python3.8/dist-packages (from markdown>=2.6.8->tensorboard->keras-tuner) (5.1.0)\n",
            "Requirement already satisfied: zipp>=0.5 in /usr/local/lib/python3.8/dist-packages (from importlib-metadata>=4.4->markdown>=2.6.8->tensorboard->keras-tuner) (3.11.0)\n",
            "Requirement already satisfied: pyasn1<0.5.0,>=0.4.6 in /usr/local/lib/python3.8/dist-packages (from pyasn1-modules>=0.2.1->google-auth<3,>=1.6.3->tensorboard->keras-tuner) (0.4.8)\n",
            "Requirement already satisfied: oauthlib>=3.0.0 in /usr/local/lib/python3.8/dist-packages (from requests-oauthlib>=0.7.0->google-auth-oauthlib<0.5,>=0.4.1->tensorboard->keras-tuner) (3.2.2)\n"
          ]
        }
      ],
      "source": [
        "!pip3 install keras_tuner\n",
        "!pip install keras-tuner tensorflow-addons"
      ]
    },
    {
      "cell_type": "code",
      "execution_count": 26,
      "metadata": {
        "id": "0Ku46OvKmbIU"
      },
      "outputs": [],
      "source": [
        "import urllib.request  #  download files\n",
        "import tarfile  #  unzip files\n",
        "import shutil\n",
        "import os\n",
        "import urllib.request  #  download files\n",
        "import zipfile  #  unzip files\n",
        "import matplotlib.pyplot as plt\n",
        "import numpy as np\n",
        "import pandas as pd\n",
        "import tensorflow as tf\n",
        "import random\n",
        "\n",
        "from tensorflow import keras\n",
        "import tensorflow as tf\n",
        "import keras_tuner as kt\n",
        "from keras.optimizers import Adam\n",
        "import tensorflow_addons as tfa\n",
        "import tensorflow.keras.backend as K\n",
        "from tensorflow.keras.regularizers import L2\n",
        "\n",
        "from tensorflow.keras.models import Sequential\n",
        "from tensorflow.keras.layers import InputLayer,Dropout, LSTM, Bidirectional, GRU, Dense, TimeDistributed, Activation,Masking\n",
        "from keras_tuner import RandomSearch, Objective\n",
        "from keras.utils.vis_utils import plot_model\n",
        "from keras.models import load_model\n",
        "from sklearn.metrics import confusion_matrix, ConfusionMatrixDisplay, f1_score\n"
      ]
    },
    {
      "cell_type": "markdown",
      "metadata": {
        "id": "5TgJjk6leDK3"
      },
      "source": [
        "### Ensuring reproducibility"
      ]
    },
    {
      "cell_type": "code",
      "execution_count": 27,
      "metadata": {
        "id": "Km7P166Zd3AN"
      },
      "outputs": [],
      "source": [
        "def set_reproducibility(seed):\n",
        "    random.seed(seed)\n",
        "    np.random.seed(seed)\n",
        "    tf.random.set_seed(seed)\n",
        "    os.environ['TF_DETERMINISTIC_OPS'] = '1'"
      ]
    },
    {
      "cell_type": "code",
      "execution_count": 28,
      "metadata": {
        "id": "zE5yNEmKmiQh"
      },
      "outputs": [],
      "source": [
        "set_reproducibility(42)"
      ]
    },
    {
      "cell_type": "markdown",
      "metadata": {
        "id": "GcJOWF-YKNkc"
      },
      "source": [
        "## 1. Download the corpora and split it in training and test sets, structuring a dataframe.\n",
        "\n",
        "\n"
      ]
    },
    {
      "cell_type": "markdown",
      "metadata": {
        "id": "_FBWQ10jr0h8"
      },
      "source": [
        "**Splits**: documents 1-100 are the train set, 101-150 validation set, 151-199 test set."
      ]
    },
    {
      "cell_type": "markdown",
      "metadata": {
        "id": "hZmBv4xvsagY"
      },
      "source": [
        "**Splitting**: you can decide to split documents into sentences or not, the choice is yours.\n"
      ]
    },
    {
      "cell_type": "markdown",
      "metadata": {
        "id": "kJQZWXoksvfu"
      },
      "source": [
        "**I/O structure**: The input data will have three dimensions: 1-documents/sentences, 2-token, 3-features; for the output there are 2 possibilities: if you use one-hot encoding it will be 1-documents/sentences, 2-token labels, 3-classes, if you use a single integer that indicates the number of the class it will be 1-documents/sentences, 2-token labels."
      ]
    },
    {
      "cell_type": "markdown",
      "metadata": {
        "id": "Vg_dJtlrY2fG"
      },
      "source": [
        "Dataset encoding explanation"
      ]
    },
    {
      "cell_type": "markdown",
      "metadata": {
        "id": "jjKmTTeWKRjO"
      },
      "source": [
        "#### Dataset downloading"
      ]
    },
    {
      "cell_type": "code",
      "execution_count": 29,
      "metadata": {
        "colab": {
          "base_uri": "https://localhost:8080/"
        },
        "id": "lh42hngDaT_c",
        "outputId": "379014a1-e41e-437d-9732-5bc50900578a"
      },
      "outputs": [
        {
          "output_type": "stream",
          "name": "stdout",
          "text": [
            "Successful download\n",
            "Successful extraction\n"
          ]
        }
      ],
      "source": [
        "data_folder = os.path.join(os.getcwd(), \"Documents\")\n",
        "\n",
        "if not os.path.exists(data_folder):\n",
        "    os.makedirs(data_folder)\n",
        "\n",
        "url = \"https://raw.githubusercontent.com/nltk/nltk_data/gh-pages/packages/corpora/dependency_treebank.zip\"\n",
        "\n",
        "dataset_path = os.path.join(data_folder, \"dependency_treebank.zip\")\n",
        "\n",
        "if not os.path.exists(dataset_path):\n",
        "    urllib.request.urlretrieve(url, dataset_path)\n",
        "    print(\"Successful download\")\n",
        "\n",
        "with zipfile.ZipFile(dataset_path,\"r\") as zip_ref:\n",
        "    zip_ref.extractall(\"Documents\")\n",
        "\n",
        "docs_folder = os.path.join(data_folder, \"dependency_treebank\")\n",
        "\n",
        "print(\"Successful extraction\")"
      ]
    },
    {
      "cell_type": "markdown",
      "source": [
        "Changing the directory the the one of the data "
      ],
      "metadata": {
        "id": "Ozw67jZpc3dG"
      }
    },
    {
      "cell_type": "code",
      "source": [
        "os.chdir(docs_folder)"
      ],
      "metadata": {
        "id": "BHwuOnuAcxqd"
      },
      "execution_count": 30,
      "outputs": []
    },
    {
      "cell_type": "code",
      "execution_count": 31,
      "metadata": {
        "id": "rEJhY-CLOvmy"
      },
      "outputs": [],
      "source": [
        "# Retrieving file names\n",
        "data = []\n",
        "\n",
        "for filename in sorted(os.listdir(docs_folder)):\n",
        "        data.append(filename)\n",
        "\n",
        "train_files, val_files, test_files = data[0:100],data[100:150],data[150:200]\n",
        "file_names = train_files+ val_files+ test_files"
      ]
    },
    {
      "cell_type": "code",
      "source": [
        "def unpack_dataset(files):\n",
        "    X = []\n",
        "    y = []\n",
        "    for file in files:\n",
        "        with open(file, mode=\"r\", encoding=\"utf-8\") as file_str:\n",
        "            tokens = []\n",
        "            tags = []\n",
        "            for line in file_str.readlines():\n",
        "                if line.strip() == \"\": # end of line retrieve \n",
        "                            X.append(np.array(tokens))\n",
        "                            y.append(np.array(tags))\n",
        "                            tokens = []\n",
        "                            tags = []\n",
        "                else:\n",
        "                    # if the line is not empty, then we add the token to the sentence\n",
        "                    token, tag, _ = line.split(\"\\t\")\n",
        "                    tokens.append(token.lower())\n",
        "                    tags.append(tag)\n",
        "            X.append(np.array(tokens))\n",
        "            y.append(np.array(tags))\n",
        "    return np.array(X, dtype=object), np.array(y, dtype=object)\n"
      ],
      "metadata": {
        "id": "vEFXnENQNmTc"
      },
      "execution_count": 32,
      "outputs": []
    },
    {
      "cell_type": "code",
      "source": [
        "X_train_sents, y_train_tags = unpack_dataset(train_files)\n",
        "X_val_sents, y_val_tags = unpack_dataset(val_files)\n",
        "X_test_sents, y_test_tags = unpack_dataset(test_files)"
      ],
      "metadata": {
        "id": "KRUUFlnPSLSU"
      },
      "execution_count": 33,
      "outputs": []
    },
    {
      "cell_type": "markdown",
      "metadata": {
        "id": "OO57_VXveLxf"
      },
      "source": [
        "### Dataframe creation"
      ]
    },
    {
      "cell_type": "code",
      "execution_count": 34,
      "metadata": {
        "id": "MXQs4U_Iw4BS"
      },
      "outputs": [],
      "source": [
        "# Creating the structure of the dataframe rows\n",
        "dataframe_rows = {\n",
        "    'sentences': np.concatenate([X_train_sents, X_val_sents, X_test_sents],axis=0),\n",
        "    'tags':np.concatenate([y_train_tags, y_val_tags, y_test_tags],axis=0) \n",
        "}"
      ]
    },
    {
      "cell_type": "code",
      "execution_count": 35,
      "metadata": {
        "colab": {
          "base_uri": "https://localhost:8080/",
          "height": 363
        },
        "id": "luAqu0gHw3mz",
        "outputId": "fc5f8902-f0af-41fd-8048-4d69f7dee3e7"
      },
      "outputs": [
        {
          "output_type": "execute_result",
          "data": {
            "text/plain": [
              "                                           sentences  \\\n",
              "0  [pierre, vinken, ,, 61, years, old, ,, will, j...   \n",
              "1  [mr., vinken, is, chairman, of, elsevier, n.v....   \n",
              "2  [rudolph, agnew, ,, 55, years, old, and, forme...   \n",
              "3  [a, form, of, asbestos, once, used, to, make, ...   \n",
              "4  [the, asbestos, fiber, ,, crocidolite, ,, is, ...   \n",
              "5  [lorillard, inc., ,, the, unit, of, new, york-...   \n",
              "6  [although, preliminary, findings, were, report...   \n",
              "7  [a, lorillard, spokewoman, said, ,, ``, this, ...   \n",
              "8  [we, 're, talking, about, years, ago, before, ...   \n",
              "9  [there, is, no, asbestos, in, our, products, n...   \n",
              "\n",
              "                                                tags  \n",
              "0  [NNP, NNP, ,, CD, NNS, JJ, ,, MD, VB, DT, NN, ...  \n",
              "1  [NNP, NNP, VBZ, NN, IN, NNP, NNP, ,, DT, NNP, ...  \n",
              "2  [NNP, NNP, ,, CD, NNS, JJ, CC, JJ, NN, IN, NNP...  \n",
              "3  [DT, NN, IN, NN, RB, VBN, TO, VB, NNP, NN, NNS...  \n",
              "4  [DT, NN, NN, ,, NN, ,, VBZ, RB, JJ, IN, PRP, V...  \n",
              "5  [NNP, NNP, ,, DT, NN, IN, JJ, JJ, NNP, NNP, WD...  \n",
              "6  [IN, JJ, NNS, VBD, VBN, RBR, IN, DT, NN, IN, ,...  \n",
              "7  [DT, NNP, NN, VBD, ,, ``, DT, VBZ, DT, JJ, NN, .]  \n",
              "8  [PRP, VBP, VBG, IN, NNS, IN, IN, NN, VBD, IN, ...  \n",
              "9        [EX, VBZ, DT, NN, IN, PRP$, NNS, RB, ., '']  "
            ],
            "text/html": [
              "\n",
              "  <div id=\"df-ee6b84c2-8049-4a37-be5a-7bedc183169b\">\n",
              "    <div class=\"colab-df-container\">\n",
              "      <div>\n",
              "<style scoped>\n",
              "    .dataframe tbody tr th:only-of-type {\n",
              "        vertical-align: middle;\n",
              "    }\n",
              "\n",
              "    .dataframe tbody tr th {\n",
              "        vertical-align: top;\n",
              "    }\n",
              "\n",
              "    .dataframe thead th {\n",
              "        text-align: right;\n",
              "    }\n",
              "</style>\n",
              "<table border=\"1\" class=\"dataframe\">\n",
              "  <thead>\n",
              "    <tr style=\"text-align: right;\">\n",
              "      <th></th>\n",
              "      <th>sentences</th>\n",
              "      <th>tags</th>\n",
              "    </tr>\n",
              "  </thead>\n",
              "  <tbody>\n",
              "    <tr>\n",
              "      <th>0</th>\n",
              "      <td>[pierre, vinken, ,, 61, years, old, ,, will, j...</td>\n",
              "      <td>[NNP, NNP, ,, CD, NNS, JJ, ,, MD, VB, DT, NN, ...</td>\n",
              "    </tr>\n",
              "    <tr>\n",
              "      <th>1</th>\n",
              "      <td>[mr., vinken, is, chairman, of, elsevier, n.v....</td>\n",
              "      <td>[NNP, NNP, VBZ, NN, IN, NNP, NNP, ,, DT, NNP, ...</td>\n",
              "    </tr>\n",
              "    <tr>\n",
              "      <th>2</th>\n",
              "      <td>[rudolph, agnew, ,, 55, years, old, and, forme...</td>\n",
              "      <td>[NNP, NNP, ,, CD, NNS, JJ, CC, JJ, NN, IN, NNP...</td>\n",
              "    </tr>\n",
              "    <tr>\n",
              "      <th>3</th>\n",
              "      <td>[a, form, of, asbestos, once, used, to, make, ...</td>\n",
              "      <td>[DT, NN, IN, NN, RB, VBN, TO, VB, NNP, NN, NNS...</td>\n",
              "    </tr>\n",
              "    <tr>\n",
              "      <th>4</th>\n",
              "      <td>[the, asbestos, fiber, ,, crocidolite, ,, is, ...</td>\n",
              "      <td>[DT, NN, NN, ,, NN, ,, VBZ, RB, JJ, IN, PRP, V...</td>\n",
              "    </tr>\n",
              "    <tr>\n",
              "      <th>5</th>\n",
              "      <td>[lorillard, inc., ,, the, unit, of, new, york-...</td>\n",
              "      <td>[NNP, NNP, ,, DT, NN, IN, JJ, JJ, NNP, NNP, WD...</td>\n",
              "    </tr>\n",
              "    <tr>\n",
              "      <th>6</th>\n",
              "      <td>[although, preliminary, findings, were, report...</td>\n",
              "      <td>[IN, JJ, NNS, VBD, VBN, RBR, IN, DT, NN, IN, ,...</td>\n",
              "    </tr>\n",
              "    <tr>\n",
              "      <th>7</th>\n",
              "      <td>[a, lorillard, spokewoman, said, ,, ``, this, ...</td>\n",
              "      <td>[DT, NNP, NN, VBD, ,, ``, DT, VBZ, DT, JJ, NN, .]</td>\n",
              "    </tr>\n",
              "    <tr>\n",
              "      <th>8</th>\n",
              "      <td>[we, 're, talking, about, years, ago, before, ...</td>\n",
              "      <td>[PRP, VBP, VBG, IN, NNS, IN, IN, NN, VBD, IN, ...</td>\n",
              "    </tr>\n",
              "    <tr>\n",
              "      <th>9</th>\n",
              "      <td>[there, is, no, asbestos, in, our, products, n...</td>\n",
              "      <td>[EX, VBZ, DT, NN, IN, PRP$, NNS, RB, ., '']</td>\n",
              "    </tr>\n",
              "  </tbody>\n",
              "</table>\n",
              "</div>\n",
              "      <button class=\"colab-df-convert\" onclick=\"convertToInteractive('df-ee6b84c2-8049-4a37-be5a-7bedc183169b')\"\n",
              "              title=\"Convert this dataframe to an interactive table.\"\n",
              "              style=\"display:none;\">\n",
              "        \n",
              "  <svg xmlns=\"http://www.w3.org/2000/svg\" height=\"24px\"viewBox=\"0 0 24 24\"\n",
              "       width=\"24px\">\n",
              "    <path d=\"M0 0h24v24H0V0z\" fill=\"none\"/>\n",
              "    <path d=\"M18.56 5.44l.94 2.06.94-2.06 2.06-.94-2.06-.94-.94-2.06-.94 2.06-2.06.94zm-11 1L8.5 8.5l.94-2.06 2.06-.94-2.06-.94L8.5 2.5l-.94 2.06-2.06.94zm10 10l.94 2.06.94-2.06 2.06-.94-2.06-.94-.94-2.06-.94 2.06-2.06.94z\"/><path d=\"M17.41 7.96l-1.37-1.37c-.4-.4-.92-.59-1.43-.59-.52 0-1.04.2-1.43.59L10.3 9.45l-7.72 7.72c-.78.78-.78 2.05 0 2.83L4 21.41c.39.39.9.59 1.41.59.51 0 1.02-.2 1.41-.59l7.78-7.78 2.81-2.81c.8-.78.8-2.07 0-2.86zM5.41 20L4 18.59l7.72-7.72 1.47 1.35L5.41 20z\"/>\n",
              "  </svg>\n",
              "      </button>\n",
              "      \n",
              "  <style>\n",
              "    .colab-df-container {\n",
              "      display:flex;\n",
              "      flex-wrap:wrap;\n",
              "      gap: 12px;\n",
              "    }\n",
              "\n",
              "    .colab-df-convert {\n",
              "      background-color: #E8F0FE;\n",
              "      border: none;\n",
              "      border-radius: 50%;\n",
              "      cursor: pointer;\n",
              "      display: none;\n",
              "      fill: #1967D2;\n",
              "      height: 32px;\n",
              "      padding: 0 0 0 0;\n",
              "      width: 32px;\n",
              "    }\n",
              "\n",
              "    .colab-df-convert:hover {\n",
              "      background-color: #E2EBFA;\n",
              "      box-shadow: 0px 1px 2px rgba(60, 64, 67, 0.3), 0px 1px 3px 1px rgba(60, 64, 67, 0.15);\n",
              "      fill: #174EA6;\n",
              "    }\n",
              "\n",
              "    [theme=dark] .colab-df-convert {\n",
              "      background-color: #3B4455;\n",
              "      fill: #D2E3FC;\n",
              "    }\n",
              "\n",
              "    [theme=dark] .colab-df-convert:hover {\n",
              "      background-color: #434B5C;\n",
              "      box-shadow: 0px 1px 3px 1px rgba(0, 0, 0, 0.15);\n",
              "      filter: drop-shadow(0px 1px 2px rgba(0, 0, 0, 0.3));\n",
              "      fill: #FFFFFF;\n",
              "    }\n",
              "  </style>\n",
              "\n",
              "      <script>\n",
              "        const buttonEl =\n",
              "          document.querySelector('#df-ee6b84c2-8049-4a37-be5a-7bedc183169b button.colab-df-convert');\n",
              "        buttonEl.style.display =\n",
              "          google.colab.kernel.accessAllowed ? 'block' : 'none';\n",
              "\n",
              "        async function convertToInteractive(key) {\n",
              "          const element = document.querySelector('#df-ee6b84c2-8049-4a37-be5a-7bedc183169b');\n",
              "          const dataTable =\n",
              "            await google.colab.kernel.invokeFunction('convertToInteractive',\n",
              "                                                     [key], {});\n",
              "          if (!dataTable) return;\n",
              "\n",
              "          const docLinkHtml = 'Like what you see? Visit the ' +\n",
              "            '<a target=\"_blank\" href=https://colab.research.google.com/notebooks/data_table.ipynb>data table notebook</a>'\n",
              "            + ' to learn more about interactive tables.';\n",
              "          element.innerHTML = '';\n",
              "          dataTable['output_type'] = 'display_data';\n",
              "          await google.colab.output.renderOutput(dataTable, element);\n",
              "          const docLink = document.createElement('div');\n",
              "          docLink.innerHTML = docLinkHtml;\n",
              "          element.appendChild(docLink);\n",
              "        }\n",
              "      </script>\n",
              "    </div>\n",
              "  </div>\n",
              "  "
            ]
          },
          "metadata": {},
          "execution_count": 35
        }
      ],
      "source": [
        "df = pd.DataFrame(dataframe_rows)\n",
        "df.head(10)"
      ]
    },
    {
      "cell_type": "markdown",
      "source": [
        "Dataframe inspection"
      ],
      "metadata": {
        "id": "IIVOt12Jk37c"
      }
    },
    {
      "cell_type": "code",
      "execution_count": 36,
      "metadata": {
        "colab": {
          "base_uri": "https://localhost:8080/",
          "height": 831
        },
        "id": "b3sM9PDn1kDu",
        "outputId": "622f2399-88fd-4ed1-e3a8-44cc879eec03"
      },
      "outputs": [
        {
          "output_type": "stream",
          "name": "stdout",
          "text": [
            "Dataset shape: (3914, 2) \n",
            "\n",
            "Dataset columns: ['sentences' 'tags'] \n",
            "\n",
            "Dataset Info: \n",
            " <bound method DataFrame.info of                                               sentences  \\\n",
            "0     [pierre, vinken, ,, 61, years, old, ,, will, j...   \n",
            "1     [mr., vinken, is, chairman, of, elsevier, n.v....   \n",
            "2     [rudolph, agnew, ,, 55, years, old, and, forme...   \n",
            "3     [a, form, of, asbestos, once, used, to, make, ...   \n",
            "4     [the, asbestos, fiber, ,, crocidolite, ,, is, ...   \n",
            "...                                                 ...   \n",
            "3909  [they, also, said, that, more, than, a, dozen,...   \n",
            "3910  [sen., kennedy, said, in, a, separate, stateme...   \n",
            "3911  [trinity, industries, inc., said, it, reached,...   \n",
            "3912                   [terms, were, n't, disclosed, .]   \n",
            "3913  [trinity, said, it, plans, to, begin, delivery...   \n",
            "\n",
            "                                                   tags  \n",
            "0     [NNP, NNP, ,, CD, NNS, JJ, ,, MD, VB, DT, NN, ...  \n",
            "1     [NNP, NNP, VBZ, NN, IN, NNP, NNP, ,, DT, NNP, ...  \n",
            "2     [NNP, NNP, ,, CD, NNS, JJ, CC, JJ, NN, IN, NNP...  \n",
            "3     [DT, NN, IN, NN, RB, VBN, TO, VB, NNP, NN, NNS...  \n",
            "4     [DT, NN, NN, ,, NN, ,, VBZ, RB, JJ, IN, PRP, V...  \n",
            "...                                                 ...  \n",
            "3909  [PRP, RB, VBD, IN, JJR, IN, DT, NN, NNS, VBP, ...  \n",
            "3910  [NNP, NNP, VBD, IN, DT, JJ, NN, IN, PRP, VBZ, ...  \n",
            "3911  [NNP, NNPS, NNP, VBD, PRP, VBD, DT, JJ, NN, TO...  \n",
            "3912                             [NNS, VBD, RB, VBN, .]  \n",
            "3913  [NNP, VBD, PRP, VBZ, TO, VB, NN, IN, DT, JJ, N...  \n",
            "\n",
            "[3914 rows x 2 columns]> \n",
            "\n",
            "Dataset Head: \n",
            "\n",
            "--------------------------------------------------\n"
          ]
        },
        {
          "output_type": "display_data",
          "data": {
            "text/plain": [
              "                                           sentences  \\\n",
              "0  [pierre, vinken, ,, 61, years, old, ,, will, j...   \n",
              "1  [mr., vinken, is, chairman, of, elsevier, n.v....   \n",
              "2  [rudolph, agnew, ,, 55, years, old, and, forme...   \n",
              "3  [a, form, of, asbestos, once, used, to, make, ...   \n",
              "4  [the, asbestos, fiber, ,, crocidolite, ,, is, ...   \n",
              "\n",
              "                                                tags  \n",
              "0  [NNP, NNP, ,, CD, NNS, JJ, ,, MD, VB, DT, NN, ...  \n",
              "1  [NNP, NNP, VBZ, NN, IN, NNP, NNP, ,, DT, NNP, ...  \n",
              "2  [NNP, NNP, ,, CD, NNS, JJ, CC, JJ, NN, IN, NNP...  \n",
              "3  [DT, NN, IN, NN, RB, VBN, TO, VB, NNP, NN, NNS...  \n",
              "4  [DT, NN, NN, ,, NN, ,, VBZ, RB, JJ, IN, PRP, V...  "
            ],
            "text/html": [
              "\n",
              "  <div id=\"df-895744ce-3d0c-4e96-acca-2570834e0e3f\">\n",
              "    <div class=\"colab-df-container\">\n",
              "      <div>\n",
              "<style scoped>\n",
              "    .dataframe tbody tr th:only-of-type {\n",
              "        vertical-align: middle;\n",
              "    }\n",
              "\n",
              "    .dataframe tbody tr th {\n",
              "        vertical-align: top;\n",
              "    }\n",
              "\n",
              "    .dataframe thead th {\n",
              "        text-align: right;\n",
              "    }\n",
              "</style>\n",
              "<table border=\"1\" class=\"dataframe\">\n",
              "  <thead>\n",
              "    <tr style=\"text-align: right;\">\n",
              "      <th></th>\n",
              "      <th>sentences</th>\n",
              "      <th>tags</th>\n",
              "    </tr>\n",
              "  </thead>\n",
              "  <tbody>\n",
              "    <tr>\n",
              "      <th>0</th>\n",
              "      <td>[pierre, vinken, ,, 61, years, old, ,, will, j...</td>\n",
              "      <td>[NNP, NNP, ,, CD, NNS, JJ, ,, MD, VB, DT, NN, ...</td>\n",
              "    </tr>\n",
              "    <tr>\n",
              "      <th>1</th>\n",
              "      <td>[mr., vinken, is, chairman, of, elsevier, n.v....</td>\n",
              "      <td>[NNP, NNP, VBZ, NN, IN, NNP, NNP, ,, DT, NNP, ...</td>\n",
              "    </tr>\n",
              "    <tr>\n",
              "      <th>2</th>\n",
              "      <td>[rudolph, agnew, ,, 55, years, old, and, forme...</td>\n",
              "      <td>[NNP, NNP, ,, CD, NNS, JJ, CC, JJ, NN, IN, NNP...</td>\n",
              "    </tr>\n",
              "    <tr>\n",
              "      <th>3</th>\n",
              "      <td>[a, form, of, asbestos, once, used, to, make, ...</td>\n",
              "      <td>[DT, NN, IN, NN, RB, VBN, TO, VB, NNP, NN, NNS...</td>\n",
              "    </tr>\n",
              "    <tr>\n",
              "      <th>4</th>\n",
              "      <td>[the, asbestos, fiber, ,, crocidolite, ,, is, ...</td>\n",
              "      <td>[DT, NN, NN, ,, NN, ,, VBZ, RB, JJ, IN, PRP, V...</td>\n",
              "    </tr>\n",
              "  </tbody>\n",
              "</table>\n",
              "</div>\n",
              "      <button class=\"colab-df-convert\" onclick=\"convertToInteractive('df-895744ce-3d0c-4e96-acca-2570834e0e3f')\"\n",
              "              title=\"Convert this dataframe to an interactive table.\"\n",
              "              style=\"display:none;\">\n",
              "        \n",
              "  <svg xmlns=\"http://www.w3.org/2000/svg\" height=\"24px\"viewBox=\"0 0 24 24\"\n",
              "       width=\"24px\">\n",
              "    <path d=\"M0 0h24v24H0V0z\" fill=\"none\"/>\n",
              "    <path d=\"M18.56 5.44l.94 2.06.94-2.06 2.06-.94-2.06-.94-.94-2.06-.94 2.06-2.06.94zm-11 1L8.5 8.5l.94-2.06 2.06-.94-2.06-.94L8.5 2.5l-.94 2.06-2.06.94zm10 10l.94 2.06.94-2.06 2.06-.94-2.06-.94-.94-2.06-.94 2.06-2.06.94z\"/><path d=\"M17.41 7.96l-1.37-1.37c-.4-.4-.92-.59-1.43-.59-.52 0-1.04.2-1.43.59L10.3 9.45l-7.72 7.72c-.78.78-.78 2.05 0 2.83L4 21.41c.39.39.9.59 1.41.59.51 0 1.02-.2 1.41-.59l7.78-7.78 2.81-2.81c.8-.78.8-2.07 0-2.86zM5.41 20L4 18.59l7.72-7.72 1.47 1.35L5.41 20z\"/>\n",
              "  </svg>\n",
              "      </button>\n",
              "      \n",
              "  <style>\n",
              "    .colab-df-container {\n",
              "      display:flex;\n",
              "      flex-wrap:wrap;\n",
              "      gap: 12px;\n",
              "    }\n",
              "\n",
              "    .colab-df-convert {\n",
              "      background-color: #E8F0FE;\n",
              "      border: none;\n",
              "      border-radius: 50%;\n",
              "      cursor: pointer;\n",
              "      display: none;\n",
              "      fill: #1967D2;\n",
              "      height: 32px;\n",
              "      padding: 0 0 0 0;\n",
              "      width: 32px;\n",
              "    }\n",
              "\n",
              "    .colab-df-convert:hover {\n",
              "      background-color: #E2EBFA;\n",
              "      box-shadow: 0px 1px 2px rgba(60, 64, 67, 0.3), 0px 1px 3px 1px rgba(60, 64, 67, 0.15);\n",
              "      fill: #174EA6;\n",
              "    }\n",
              "\n",
              "    [theme=dark] .colab-df-convert {\n",
              "      background-color: #3B4455;\n",
              "      fill: #D2E3FC;\n",
              "    }\n",
              "\n",
              "    [theme=dark] .colab-df-convert:hover {\n",
              "      background-color: #434B5C;\n",
              "      box-shadow: 0px 1px 3px 1px rgba(0, 0, 0, 0.15);\n",
              "      filter: drop-shadow(0px 1px 2px rgba(0, 0, 0, 0.3));\n",
              "      fill: #FFFFFF;\n",
              "    }\n",
              "  </style>\n",
              "\n",
              "      <script>\n",
              "        const buttonEl =\n",
              "          document.querySelector('#df-895744ce-3d0c-4e96-acca-2570834e0e3f button.colab-df-convert');\n",
              "        buttonEl.style.display =\n",
              "          google.colab.kernel.accessAllowed ? 'block' : 'none';\n",
              "\n",
              "        async function convertToInteractive(key) {\n",
              "          const element = document.querySelector('#df-895744ce-3d0c-4e96-acca-2570834e0e3f');\n",
              "          const dataTable =\n",
              "            await google.colab.kernel.invokeFunction('convertToInteractive',\n",
              "                                                     [key], {});\n",
              "          if (!dataTable) return;\n",
              "\n",
              "          const docLinkHtml = 'Like what you see? Visit the ' +\n",
              "            '<a target=\"_blank\" href=https://colab.research.google.com/notebooks/data_table.ipynb>data table notebook</a>'\n",
              "            + ' to learn more about interactive tables.';\n",
              "          element.innerHTML = '';\n",
              "          dataTable['output_type'] = 'display_data';\n",
              "          await google.colab.output.renderOutput(dataTable, element);\n",
              "          const docLink = document.createElement('div');\n",
              "          docLink.innerHTML = docLinkHtml;\n",
              "          element.appendChild(docLink);\n",
              "        }\n",
              "      </script>\n",
              "    </div>\n",
              "  </div>\n",
              "  "
            ]
          },
          "metadata": {}
        }
      ],
      "source": [
        "print(f'Dataset shape: {df.shape} \\n')\n",
        "\n",
        "print(f'Dataset columns: {df.columns.values} \\n')\n",
        "\n",
        "print(f'Dataset Info: \\n {df.info} \\n')\n",
        "\n",
        "print('Dataset Head: \\n')\n",
        "print(\"-\"*50)\n",
        "display(df.head())"
      ]
    },
    {
      "cell_type": "markdown",
      "metadata": {
        "id": "aLPFRgywmarC"
      },
      "source": [
        "### Data exploration\n",
        "We now wish to understand the structure of the data before encoding it with the GloVe embedding and one-hot encoding the labels. \n",
        "\n",
        "We are going to perform some visualization of the distribution of the **tags** in order to make the error analysis, which will be done in the latter part of the notebook, more robust."
      ]
    },
    {
      "cell_type": "code",
      "execution_count": 37,
      "metadata": {
        "colab": {
          "base_uri": "https://localhost:8080/"
        },
        "id": "F0I4YLu-HRvr",
        "outputId": "d2e328c2-2949-4c6b-da33-7e2dcc773c4d"
      },
      "outputs": [
        {
          "output_type": "stream",
          "name": "stdout",
          "text": [
            "- Sentences in the train set: 1963 sentences\n",
            "- Sentences in the validation set: 1299 sentences\n",
            "- Sentences in the test set: 652 sentences\n"
          ]
        }
      ],
      "source": [
        "# Counting the sentences of each sets\n",
        "print(f\"- Sentences in the train set: {X_train_sents.shape[0]} sentences\")\n",
        "print(f\"- Sentences in the validation set: {X_val_sents.shape[0]} sentences\")\n",
        "print(f\"- Sentences in the test set: {X_test_sents.shape[0]} sentences\")"
      ]
    },
    {
      "cell_type": "code",
      "source": [
        "print(f\"Example structure of the arrays: \\n {X_train_sents[0:5]} \")"
      ],
      "metadata": {
        "colab": {
          "base_uri": "https://localhost:8080/"
        },
        "id": "3qBucLRIEEaU",
        "outputId": "f83b79e9-dcce-4429-d3e8-309ce20ba079"
      },
      "execution_count": 38,
      "outputs": [
        {
          "output_type": "stream",
          "name": "stdout",
          "text": [
            "Example structure of the arrays: \n",
            " [array(['pierre', 'vinken', ',', '61', 'years', 'old', ',', 'will', 'join',\n",
            "        'the', 'board', 'as', 'a', 'nonexecutive', 'director', 'nov.',\n",
            "        '29', '.'], dtype='<U12')\n",
            " array(['mr.', 'vinken', 'is', 'chairman', 'of', 'elsevier', 'n.v.', ',',\n",
            "        'the', 'dutch', 'publishing', 'group', '.'], dtype='<U10')\n",
            " array(['rudolph', 'agnew', ',', '55', 'years', 'old', 'and', 'former',\n",
            "        'chairman', 'of', 'consolidated', 'gold', 'fields', 'plc', ',',\n",
            "        'was', 'named', 'a', 'nonexecutive', 'director', 'of', 'this',\n",
            "        'british', 'industrial', 'conglomerate', '.'], dtype='<U12')\n",
            " array(['a', 'form', 'of', 'asbestos', 'once', 'used', 'to', 'make',\n",
            "        'kent', 'cigarette', 'filters', 'has', 'caused', 'a', 'high',\n",
            "        'percentage', 'of', 'cancer', 'deaths', 'among', 'a', 'group',\n",
            "        'of', 'workers', 'exposed', 'to', 'it', 'more', 'than', '30',\n",
            "        'years', 'ago', ',', 'researchers', 'reported', '.'], dtype='<U11')\n",
            " array(['the', 'asbestos', 'fiber', ',', 'crocidolite', ',', 'is',\n",
            "        'unusually', 'resilient', 'once', 'it', 'enters', 'the', 'lungs',\n",
            "        ',', 'with', 'even', 'brief', 'exposures', 'to', 'it', 'causing',\n",
            "        'symptoms', 'that', 'show', 'up', 'decades', 'later', ',',\n",
            "        'researchers', 'said', '.'], dtype='<U11')                       ] \n"
          ]
        }
      ]
    },
    {
      "cell_type": "markdown",
      "source": [
        "The structure is an array (`X_train_sents`) of arrays. The elements of each subarray are the words in each sentence). "
      ],
      "metadata": {
        "id": "0HQtla_TEXe2"
      }
    },
    {
      "cell_type": "code",
      "source": [
        "print(\"Example of a document: \", ' '.join(X_val_sents[13]))\n",
        "print(\"Example tags: \", (y_val_tags[13]))"
      ],
      "metadata": {
        "colab": {
          "base_uri": "https://localhost:8080/"
        },
        "id": "89m3prjHZv-E",
        "outputId": "ea119aaa-0cea-4755-d4fe-f477e4173fe5"
      },
      "execution_count": 39,
      "outputs": [
        {
          "output_type": "stream",
          "name": "stdout",
          "text": [
            "Example of a document:  the potential sales are nearly $ 9.3 million , and house majority whip william gray -lrb- d. , pa . -rrb- began the bidding this year by proposing language that the quota be allocated to english-speaking countries of the caribbean , such as jamaica and barbados .\n",
            "Example tags:  ['DT' 'JJ' 'NNS' 'VBP' 'RB' '$' 'CD' 'CD' ',' 'CC' 'NNP' 'NNP' 'NNP' 'NNP'\n",
            " 'NNP' '-LRB-' 'NNP' ',' 'NNP' '.' '-RRB-' 'VBD' 'DT' 'NN' 'DT' 'NN' 'IN'\n",
            " 'VBG' 'NN' 'IN' 'DT' 'NN' 'VB' 'VBN' 'TO' 'JJ' 'NNS' 'IN' 'DT' 'NNP' ','\n",
            " 'JJ' 'IN' 'NNP' 'CC' 'NNP' '.']\n"
          ]
        }
      ]
    },
    {
      "cell_type": "markdown",
      "source": [
        "From the above example we can see that in order to reduce the number of tokens in the OOV dictionaries we have lowercased every word. \n",
        "\n",
        "Later we will need to deal with removing ALL the tags that are non explicitly a word (so symbols, punctuation and **numbers**)."
      ],
      "metadata": {
        "id": "otgnNlkOA5U3"
      }
    },
    {
      "cell_type": "code",
      "source": [
        "all_tags = np.concatenate(np.concatenate([y_train_tags,y_val_tags,y_test_tags])) # flatten tag subarrays\n",
        "tags, counts = list(np.unique(all_tags, return_counts=True)) # count instances of each tag with return counts\n",
        "tag_count= dict(zip(tags,counts)) # merge tags and counts in to a dictionary\n",
        "\n",
        "print(\"The ten most frequent tags in the whole dataset are: \")\n",
        "top_ten = dict(sorted(tag_count.items(), key=lambda item: item[1],reverse=True))\n",
        "print(list(top_ten.items())[0:10])"
      ],
      "metadata": {
        "colab": {
          "base_uri": "https://localhost:8080/"
        },
        "id": "Mzwbe1GDN5-t",
        "outputId": "ce069ef1-fc69-416e-a148-763108768c8d"
      },
      "execution_count": 40,
      "outputs": [
        {
          "output_type": "stream",
          "name": "stdout",
          "text": [
            "The ten most frequent tags in the whole dataset are: \n",
            "[('NN', 13166), ('IN', 9857), ('NNP', 9410), ('DT', 8165), ('NNS', 6047), ('JJ', 5834), (',', 4886), ('.', 3874), ('CD', 3546), ('VBD', 3043)]\n"
          ]
        }
      ]
    },
    {
      "cell_type": "markdown",
      "metadata": {
        "id": "tvkDEojtMOPH"
      },
      "source": [
        "### Understanding content of tag arrays"
      ]
    },
    {
      "cell_type": "markdown",
      "source": [
        "We need to flatten each arrays with concatenate and then calculate the number of unique tags."
      ],
      "metadata": {
        "id": "Ob7OJYr4D8N1"
      }
    },
    {
      "cell_type": "code",
      "source": [
        "unique_tags_train= np.unique(np.concatenate(y_train_tags))\n",
        "unique_tags_val = np.unique(np.concatenate(y_val_tags))\n",
        "unique_tags_test = np.unique(np.concatenate(y_test_tags))"
      ],
      "metadata": {
        "id": "gu_rKZPbbdIR"
      },
      "execution_count": 41,
      "outputs": []
    },
    {
      "cell_type": "code",
      "execution_count": 42,
      "metadata": {
        "colab": {
          "base_uri": "https://localhost:8080/"
        },
        "id": "oy_3WN4I1FpA",
        "outputId": "b0d65d1c-b498-4398-801b-80dc95c77b9d"
      },
      "outputs": [
        {
          "output_type": "stream",
          "name": "stdout",
          "text": [
            "- Unique tags in train set: 45 tags \n",
            "\n",
            "- Unique tags in validation set: 44 tags \n",
            "\n",
            "- Unique tags in test set: 40 tags\n"
          ]
        }
      ],
      "source": [
        "print(f\"- Unique tags in train set: {len(unique_tags_train)} tags \\n\")\n",
        "print(f\"- Unique tags in validation set: {len(unique_tags_val)} tags \\n\")\n",
        "print(f\"- Unique tags in test set: {len(unique_tags_test)} tags\")"
      ]
    },
    {
      "cell_type": "code",
      "execution_count": 43,
      "metadata": {
        "colab": {
          "base_uri": "https://localhost:8080/"
        },
        "id": "u7bfLTx41G9p",
        "outputId": "d6cd8d49-4077-4606-c2c0-28257f32e1a6"
      },
      "outputs": [
        {
          "output_type": "stream",
          "name": "stdout",
          "text": [
            "- Tags that are present in the train set and are not present in the validation set: ['SYM']\n",
            "\n",
            "- Tags that are present in the train set and are not present in the test set: ['UH', 'FW', '#', 'SYM', 'LS']\n",
            "\n",
            "- Tags that are present in the validation set and are not present in the test set: ['LS', 'FW', '#', 'UH']\n"
          ]
        }
      ],
      "source": [
        "print(\"- Tags that are present in the train set and are not present in the validation set:\",list(set(unique_tags_train).difference(set(unique_tags_val))))\n",
        "print()\n",
        "print(\"- Tags that are present in the train set and are not present in the test set:\",list(set(unique_tags_train).difference(set(unique_tags_test))))\n",
        "print()\n",
        "print(\"- Tags that are present in the validation set and are not present in the test set:\",list(set(unique_tags_val).difference(set(unique_tags_test))))"
      ]
    },
    {
      "cell_type": "markdown",
      "metadata": {
        "id": "61BgctX8OQLM"
      },
      "source": [
        "### Retrieving punctuation indices \n",
        "\n",
        "This will be useful later for error analysis"
      ]
    },
    {
      "cell_type": "markdown",
      "source": [
        "Check cardinal numbers"
      ],
      "metadata": {
        "id": "O12g03D2QMv7"
      }
    },
    {
      "cell_type": "code",
      "execution_count": 44,
      "metadata": {
        "id": "JEV-EtmhUVXU"
      },
      "outputs": [],
      "source": [
        "sort_tags = np.array(sorted(unique_tags_train))"
      ]
    },
    {
      "cell_type": "code",
      "execution_count": 45,
      "metadata": {
        "colab": {
          "base_uri": "https://localhost:8080/"
        },
        "id": "BBhq0isgQjn8",
        "outputId": "36d22b99-bbaa-4fc8-eb7d-87ae48fdd573"
      },
      "outputs": [
        {
          "output_type": "stream",
          "name": "stdout",
          "text": [
            "['#' '$' \"''\" ',' '-LRB-' '-RRB-' '.' ':' 'CC' 'CD' 'DT' 'EX' 'FW' 'IN'\n",
            " 'JJ' 'JJR' 'JJS' 'LS' 'MD' 'NN' 'NNP' 'NNPS' 'NNS' 'PDT' 'POS' 'PRP'\n",
            " 'PRP$' 'RB' 'RBR' 'RBS' 'RP' 'SYM' 'TO' 'UH' 'VB' 'VBD' 'VBG' 'VBN' 'VBP'\n",
            " 'VBZ' 'WDT' 'WP' 'WP$' 'WRB' '``']\n"
          ]
        }
      ],
      "source": [
        "print(sort_tags)"
      ]
    },
    {
      "cell_type": "markdown",
      "metadata": {
        "id": "2n0L_fQTQmoT"
      },
      "source": [
        "We need to the remove the indices associated with the following symbols:\n",
        "\n",
        "* Punctuation:\n",
        "  - -LRB- &rarr; \"Left Round Bracket\" &rarr; \"({\"\n",
        "  - -RRB- &rarr; \"Right Round Bracket\" &rarr; \"){\"\n",
        "  - # \n",
        "  - $\n",
        "  - ' ' \n",
        "  - , \n",
        "  - . \n",
        "  - : \n",
        "\n",
        "\n",
        "* Symbols:\n",
        "\n",
        "  - LS &rarr; List item marker\n",
        "  - SYM &rarr; Symbol\n",
        "  - ``"
      ]
    },
    {
      "cell_type": "code",
      "execution_count": 46,
      "metadata": {
        "colab": {
          "base_uri": "https://localhost:8080/"
        },
        "id": "ynOrXkb9xlu2",
        "outputId": "443f6e87-15d2-47b0-998e-d3b779c05c08"
      },
      "outputs": [
        {
          "output_type": "stream",
          "name": "stdout",
          "text": [
            "Displaying the tags and their associated index: \n",
            "\n",
            "{'#': 0, '$': 1, \"''\": 2, ',': 3, '-LRB-': 4, '-RRB-': 5, '.': 6, ':': 7, 'LS': 17, 'SYM': 31, '``': 44}\n"
          ]
        }
      ],
      "source": [
        "indices = [0, 1, 2, 3, 4, 5, 6,7, 17, 31, 44] # symbols and punctuation\n",
        "print(\"Displaying the tags and their associated index: \\n\")\n",
        "print(dict(zip(sort_tags[indices],indices)))"
      ]
    },
    {
      "cell_type": "markdown",
      "source": [
        "## Encoding the dataset\n"
      ],
      "metadata": {
        "id": "U-ETLFeDtWhz"
      }
    },
    {
      "cell_type": "markdown",
      "source": [
        "Generating embedding dictionary for GloVe "
      ],
      "metadata": {
        "id": "oavb6HuOzB1i"
      }
    },
    {
      "cell_type": "code",
      "source": [
        "# Download the GloVe embeddings\n",
        "!gdown https://nlp.stanford.edu/data/glove.6B.zip\n",
        "\n",
        "# Unzip the GloVe embeddings file\n",
        "!unzip -q -o glove.6B.zip -d embeddings"
      ],
      "metadata": {
        "colab": {
          "base_uri": "https://localhost:8080/"
        },
        "id": "1dC8IuIGxbqU",
        "outputId": "fc8d02be-19a4-4af4-a896-1ed52de2f76b"
      },
      "execution_count": 47,
      "outputs": [
        {
          "output_type": "stream",
          "name": "stdout",
          "text": [
            "Downloading...\n",
            "From: https://nlp.stanford.edu/data/glove.6B.zip\n",
            "To: /content/Documents/dependency_treebank/Documents/dependency_treebank/glove.6B.zip\n",
            "100% 862M/862M [02:39<00:00, 5.39MB/s]\n"
          ]
        }
      ]
    },
    {
      "cell_type": "markdown",
      "source": [
        "We choose an embedding dimension of size 100d in order to have a good tradeoff between performance and time spent training.\n",
        "\n",
        "It is also possible to experiment with other sizes such as 50,200 or 300. Through experimenting we have found that 100 is enough for our purposes."
      ],
      "metadata": {
        "id": "r1pImaUSxfXY"
      }
    },
    {
      "cell_type": "code",
      "source": [
        "\"\"\" \n",
        "Generating a dictionary of embeddings\n",
        "where a word is a key and the value is the vector associated with an embedding\n",
        "\"\"\"\n",
        "V1 = {}\n",
        "with open(docs_folder+\"/embeddings/glove.6B.100d.txt\", 'r') as f:\n",
        "    for line in f:\n",
        "        values = line.split()\n",
        "        word = values[0]\n",
        "        vector = np.asarray(values[1:], \"float32\")\n",
        "        V1[word] = vector"
      ],
      "metadata": {
        "id": "KTA4O_GQxh0I"
      },
      "execution_count": 48,
      "outputs": []
    },
    {
      "cell_type": "markdown",
      "source": [
        "### OOV handling"
      ],
      "metadata": {
        "id": "PCVPt6alvqKY"
      }
    },
    {
      "cell_type": "markdown",
      "source": [
        "The OOV words will be assigned a random embedding sampled from uniform distribution, in the range `[-0.5,+0.5]` in order to match it with the numerical range of GloVe embeddings. It is also possible to experiment with other types of embedding for OOV."
      ],
      "metadata": {
        "id": "LHdsjNzOlpII"
      }
    },
    {
      "cell_type": "code",
      "source": [
        "embedding_dim = 100"
      ],
      "metadata": {
        "id": "QpLHybhv2PU6"
      },
      "execution_count": 49,
      "outputs": []
    },
    {
      "cell_type": "code",
      "source": [
        "def generate_oov(emb_dictionary, tokens,embedding_dim):\n",
        "    \"\"\"\n",
        "    Checks differences between pre-trained embedding model vocabulary\n",
        "    and dataset specific vocabulary in order to highlight out-of-vocabulary terms\n",
        "    \"\"\"\n",
        "    oov_dict = {} # create oov dict\n",
        "    for token in tokens: \n",
        "        if token not in emb_dictionary:\n",
        "            oov_dict[token]= np.random.uniform(-0.5, 0.5, size=embedding_dim)\n",
        "    return oov_dict"
      ],
      "metadata": {
        "id": "UIwtZg-g7S7z"
      },
      "execution_count": 50,
      "outputs": []
    },
    {
      "cell_type": "code",
      "source": [
        "# Flatten the arrays of each data split to get all tokens contained\n",
        "train_toks = np.concatenate(np.concatenate([X_train_sents]))\n",
        "val_toks = np.concatenate(np.concatenate([X_val_sents]))\n",
        "test_toks = np.concatenate(np.concatenate([X_test_sents]))"
      ],
      "metadata": {
        "id": "rRJJnWUjX_8x"
      },
      "execution_count": 51,
      "outputs": []
    },
    {
      "cell_type": "code",
      "source": [
        "# From the above flattened arrays retrieve the unique tags \n",
        "unique_train_toks = np.unique(train_toks)\n",
        "unique_val_toks = np.unique(val_toks)\n",
        "unique_test_toks = np.unique(test_toks)"
      ],
      "metadata": {
        "id": "pAcgCkLFuxBn"
      },
      "execution_count": 52,
      "outputs": []
    },
    {
      "cell_type": "code",
      "source": [
        "max_size = 249"
      ],
      "metadata": {
        "id": "rLa2fj9Wcy_X"
      },
      "execution_count": 53,
      "outputs": []
    },
    {
      "cell_type": "code",
      "source": [
        "def encode_sentence(sentence,vocabulary):\n",
        "    return np.array([vocabulary[word] for word in sentence])"
      ],
      "metadata": {
        "id": "Rf39KHW0Hf9W"
      },
      "execution_count": 54,
      "outputs": []
    },
    {
      "cell_type": "code",
      "source": [
        "def encode_features(array,vocabulary):\n",
        "  result = []\n",
        "  for sentence in array:\n",
        "    pad_size = (250-len(sentence), embedding_dim)\n",
        "    encoded = encode_sentence(sentence,vocabulary)\n",
        "    result.append(\n",
        "              np.row_stack((encoded, np.zeros(pad_size)))\n",
        "            )\n",
        "  return np.array(result,dtype=object)"
      ],
      "metadata": {
        "id": "a8cYXVb4UExA"
      },
      "execution_count": 67,
      "outputs": []
    },
    {
      "cell_type": "code",
      "source": [
        "print(\"Generating the OOV for train set... \\n\")\n",
        "OOV1 = generate_oov(V1,unique_train_toks,embedding_dim)\n",
        "\n",
        "print(\"Merging initial vocabulary and OOV1... \\n\")\n",
        "V2 = {**V1,**OOV1}\n",
        "X_train=encode_features(X_train_sents,V2)\n",
        "\n",
        "print(\"Generating the OOV for validation set... \\n\")\n",
        "\n",
        "OOV2 = generate_oov(V2,unique_val_toks,embedding_dim)\n",
        "print(\"Merging V2 and OOV2: \\n\")\n",
        "V3 = {**V2,**OOV2}\n",
        "X_val=encode_features(X_val_sents,V3)\n",
        "\n",
        "print(\"Generating the OOV for test set... \\n\")\n",
        "\n",
        "OOV3 = generate_oov(V3,unique_test_toks,embedding_dim)\n",
        "\n",
        "print(\"Merging V4 and OOV4... \\n\")\n",
        "\n",
        "V4 = {**V3,**OOV3}\n",
        "X_test=encode_features(X_test_sents,V4)\n"
      ],
      "metadata": {
        "colab": {
          "base_uri": "https://localhost:8080/"
        },
        "id": "2K15epIDU17e",
        "outputId": "ca4a70c9-c2f3-43f6-9ed2-9c1c06bce28d"
      },
      "execution_count": 68,
      "outputs": [
        {
          "output_type": "stream",
          "name": "stdout",
          "text": [
            "Generating the OOV for train set... \n",
            "\n",
            "Merging initial vocabulary and OOV1... \n",
            "\n",
            "Generating the OOV for validation set... \n",
            "\n",
            "Merging V2 and OOV2: \n",
            "\n",
            "Generating the OOV for test set... \n",
            "\n",
            "Merging V4 and OOV4... \n",
            "\n"
          ]
        }
      ]
    },
    {
      "cell_type": "code",
      "source": [
        "train_oov_terms = set(OOV1.keys())\n",
        "val_oov_terms = set(OOV2.keys())\n",
        "test_oov_terms = set(OOV3.keys())"
      ],
      "metadata": {
        "id": "vVAZpcqzZQzx"
      },
      "execution_count": 62,
      "outputs": []
    },
    {
      "cell_type": "code",
      "source": [
        "seq_val_oov_terms = val_oov_terms - train_oov_terms\n",
        "seq_test_oov_terms = test_oov_terms - train_oov_terms - val_oov_terms"
      ],
      "metadata": {
        "id": "eu47hlyPZUnf"
      },
      "execution_count": 63,
      "outputs": []
    },
    {
      "cell_type": "code",
      "source": [
        "\n",
        "print(\n",
        "    f\"Total training OOV terms: {len(train_oov_terms)} ({round(len(train_oov_terms) / len(unique_train_toks), 2)}%)\"\n",
        ")\n",
        "\n",
        "print(\n",
        "    f\"Total validation OOV terms: {len(seq_val_oov_terms)} ({round(len(seq_val_oov_terms) / len(unique_val_toks), 2)}%)\"\n",
        ")\n",
        "print(\n",
        "    f\"Total testing OOV terms: {len(seq_test_oov_terms)} ({round(len(seq_test_oov_terms) / len(unique_test_toks), 2)}%)\"\n",
        ")\n"
      ],
      "metadata": {
        "colab": {
          "base_uri": "https://localhost:8080/"
        },
        "id": "Czpv4aYuYwUG",
        "outputId": "95af2382-a5bc-4c97-c614-91d70acef878"
      },
      "execution_count": 64,
      "outputs": [
        {
          "output_type": "stream",
          "name": "stdout",
          "text": [
            "Total training OOV terms: 359 (0.05%)\n",
            "Total validation OOV terms: 189 (0.03%)\n",
            "Total testing OOV terms: 128 (0.04%)\n"
          ]
        }
      ]
    },
    {
      "cell_type": "markdown",
      "source": [
        "The percentage of OOV for each data split is negligible, still we can do better on composite and numbers."
      ],
      "metadata": {
        "id": "cXP1_vEVvIdV"
      }
    },
    {
      "cell_type": "code",
      "source": [
        "print(\"- Train set OOV words:\",list(OOV1.keys()))\n",
        "print()\n",
        "print(\"- Validation set OOV words:\",list(OOV2.keys()))\n",
        "print()\n",
        "print(\"- Test set OOV words:\",list(OOV3.keys()))"
      ],
      "metadata": {
        "colab": {
          "base_uri": "https://localhost:8080/"
        },
        "id": "Ss6c_zVVvSA1",
        "outputId": "01565f87-df31-4fc3-fe20-d2db7a6a3557"
      },
      "execution_count": 65,
      "outputs": [
        {
          "output_type": "stream",
          "name": "stdout",
          "text": [
            "- Train set OOV words: ['-lcb-', '-lrb-', '-rcb-', '-rrb-', '1.457', '1.5755', '1.8415', '100,980', '11,762', '12,252', '127.03', '13,056', '14,821', '142.85', '143.08', '143.80', '143.93', '16,072', '16.125', '18,444', '1\\\\/10th', '1\\\\/2', '1\\\\/4', '2,303,328', '230-215', '234.4', '236.74', '236.79', '2645.90', '271,124', '278.7', '3,288,453', '3.253', '30,841', '3057', '352.7', '361,376', '37-a-share', '374.19', '374.20', '38.375', '382-37', '3\\\\/4', '4,393,237', '4.898', '415.6', '415.8', '436.01', '446.62', '449.04', '456.64', '497.34', '5.276', '500,004', '520-lawyer', '5\\\\/8', '62%-owned', '62.625', '69-point', '70-a-share', '705.6', '737.5', '7\\\\/8', '82,389', '8300s', '84-month', '9,118', '90-cent-an-hour', '95,142', 'abortion-related', 'ac-130u', 'achievement-test', 'akerfeldt', 'alurralde', 'amphobiles', 'anti-abortionists', 'anti-china', 'anti-takeover', 'antitrust-law', 'ariail', 'aslacton', 'asset-sale', 'autions', 'auto-safety', 'automotive-lighting', 'automotive-parts', 'bald-faced', 'beer-belly', 'bell-ringer', 'bellringers', 'bermuda-based', 'besuboru', 'big-ticket', 'biondi-santi', 'boorse', 'bridgestone\\\\/firestone', 'building-products', 'built-from-kit', 'bumkins', 'buttoned-down', 'c-90', 'c.j.b.', 'capital-gains', 'car-safety', 'cash-rich', 'centerbank', 'chafic', 'change-ringing', 'chemplus', 'chilver', 'chinchon', 'chong-sik', 'church-goers', 'circuit-breaker', 'co-developers', 'coche-dury', 'collective-bargaining', 'college-bowl', 'colonsville', 'computer-driven', 'computer-system-design', 'cop-killer', 'corton-charlemagne', 'cotran', 'cray-3', \"creator's\", 'crocidolite', 'ctbs', 'custom-chip', 'dead-eyed', 'delwin', 'deposits-a', 'derel', 'detective-story', 'direct-investment', 'dollar-yen', 'drag-down', 'drobnick', 'durable-goods', 'dust-up', 'eight-count', 'electric-utility', 'energy-services', 'ensrud', 'equal-opportunity', 'erbamont', 'family-planning', 'fetal-tissue', 'flightiness', 'floating-rate', 'food-shop', 'foreign-led', 'foreign-stock', 'forest-product', 'forest-products', 'front-seat', 'ft-se', 'futures-related', 'ghkm', 'gingl', 'glenham', 'government-certified', 'greenmailer', 'hallwood', 'high-balance', 'high-rate', 'higher-salaried', 'highest-pitched', 'home-market', 'hummerstone', 'identity-management', 'incentive-bonus', 'index-arbitrage', 'index-options', 'index-related', 'industrial-production', 'ingersoll-rand', 'integra-a', 'intellectual-property', 'investor-relations', 'iran\\\\/contra', 'jalaalwalikraam', 'jerritts', 'junk-bond', 'kalipharma', 'lafite-rothschild', 'landonne', 'language-housekeeper', 'lap-shoulder', 'less-serious', 'lezovich', 'life-insurance', 'light-truck', 'limited-partnership', 'low-ability', 'low-ball', 'lower-priority', 'macheski', 'machine-gun-toting', 'macmillan\\\\/mcgraw', 'macmillan\\\\/mcgraw-hill', 'makato', 'malizia', 'market-share', 'marketing-communications', 'mehrens', 'meinders', 'merger-related', 'micronite', 'mininum-wage', 'moleculon', 'monchecourt', 'money-center', 'money-fund', 'money-market', 'morale-damaging', 'more-efficient', 'mortgage-based', 'mouth-up', 'muscolina', 'nagymaros', 'nearly-30', 'nekoosa', 'nesb', 'new-home', 'nih-appointed', 'nipponese', 'nissho-iwai', 'non-biodegradable', 'non-encapsulating', 'northy', 'norwick', 'ntg', 'odd-sounding', 'old-house', 'one-country', 'one-upsmanship', 'one-yen', 'page-one', 'pathlogy', 'pattenden', 'pennview', 'pianist-comedian', 'polyproplene', 'post-hearing', 'pramual', 'pre-1917', 'pre-1933', 'preparatives', 'prize-fighter', 'pro-forma', 'product-design', 'program-trading', 'purepac', 'purhasing', 'rapanelli', 'rate-sensitive', 'ratners', 're-thought', 'recession-inspired', 'red-blooded', 'red-flag', 'replacement-car', 'retin-a', 'revenue-desperate', 'rexinger', 'romanee-conti', 'roof-crush', 'rope-sight', 'rubinfien', 'sacramento-based', 'safe-deposit', 'samnick', 'sanderoff', 'satrum', 'savers\\\\/investors', 'savings-and-loan', 'school-board', 'school-district', 'school-improvement', 'school-research', 'search-and-seizure', 'secilia', 'securities-based', 'security-type', 'sell-offs', 'senate-house', 'sharedata', 'shirt-sleeved', 'side-crash', 'sino-u.s.', 'six-bottle', 'six-packs', 'small-company', 'social-studies', 'sogo-shosha', 'solaia', 'sometimes-exhausting', 'sometimes-tawdry', 'sport-utility', 'state-supervised', 'sticker-shock', 'stirlen', 'stock-index', 'stock-manipulation', 'student-test', 'sub-markets', 'sub-segments', 'subindustry', 'subminimum', 'subskill', 'subskills', 'summer\\\\/winter', 'superpremiums', 'synergistics', 'tarwhine', 'teacher-cadet', 'telephone-information', 'test-coaching', 'test-practice', 'test-prep', 'test-preparation', 'thin-lipped', 'three-lawyer', 'three-sevenths', 'times-stock', 'tiphook', 'tissue-transplant', 'top-yielding', 'trading-company', 'training-wage', 'trettien', 'trockenbeerenauslesen', 'twin-jet', 'twindam', 'two-sevenths', 'unenticing', 'unfair-trade', 'univest', 'uzi-model', 'veselich', 'video-viewing', 'vinken', 'vitulli', 'war-rationed', 'water-authority', 'we-japanese', 'weisfield', 'wfrr', 'wheel-loader', 'wheeland', 'when-issued', 'wine-buying', 'wtd', 'year-ago', 'year-earlier', 'yeargin', 'yen-denominated', 'yen-support']\n",
            "\n",
            "- Validation set OOV words: ['11\\\\/16', '12\\\\/32', '13.625', '13\\\\/16', '14.', '14\\\\/32', '16\\\\/32', '1738.1', '190-point', '1928-33', '1937-40', '1\\\\/8', '20-stock', '2003\\\\/2007', '2141.7', '2160.1', '2163.2', '22\\\\/32', '23,403', '238,000-circulation', '2691.19', '271-147', '29year', '2\\\\/32', '3,040,000', '3,250,000', '30,537', '300-113', '300-a-share', '352.9', '35500.64', '35564.43', '3648.82', '372.9', '3\\\\/8', '47.125', '5.435', '6\\\\/2', '7.272', '7.422', '7.458', '71,309', '7\\\\/16', '8.467', '8.575', '877,663', '95.09', '9\\\\/32', 'acid-rain', 'airline-related', 'anku', 'anti-deficiency', 'anti-miscarriage', 'anti-morning-sickness', 'anti-program', 'anti-programmers', 'arbitraging', 'arighi', 'ballantine\\\\/del', 'band-wagon', 'bank-backed', 'boogieman', 'bottom-line', 'breakey', 'buy-outs', 'c.d.s', 'capital-markets', 'car-care', 'car-development', 'card-member', 'certin', 'circuit-board', 'citizen-sparked', 'clean-air', 'cleaner-burning', 'contingency-fee', 'continuingly', 'corporate-wide', 'crane-safety', 'credit-rating', 'crystal-lattice', 'cup-tote', 'diceon', 'disaster-assistance', 'double-c', 'dydee', 'ednie', 'egnuss', 'electrical-safety', 'enzor', 'equity-purchase', 'executive-office', 'express-buick', 'fiber-end', 'financial-services', 'flim-flammery', 'foldability', 'food-industry', 'four-foot-high', 'free-enterprise', 'freshbake', 'freudtoy', 'gates-warren', 'hart-scott-rodino', 'heebie-jeebies', 'heiwado', 'herald-american', 'high-polluting', 'house-senate', 'housing-assistance', 'incentive-backed', 'index-fund', 'industry-supported', 'insider-trading', 'insurance-company', 'intecknings', 'investment-grade', 'labor-backed', 'land-idling', 'larger-than-normal', 'less-than-brilliant', 'lightning-fast', 'liquid-nitrogen', 'long-tenured', 'lookee-loos', 'lynch-mob', 'market-makers', 'mega-stadium', 'melt-textured', 'middle-ground', 'midwesco', 'million-a-year', 'minicrash', 'most-likely-successor', 'motor-home', 'much-larger', 'multi-crystal', 'mutchin', 'mutual-fund', 'n.v', 'new-car', 'news-american', 'non-callable', 'nylev', 'odd-year', 'one-house', 'one-newspaper', 'parts-engineering', 'pension-fund', 'phacoflex', 'potables', 'prevalance', 'price-depressing', 'price-support', 'pricings', 'profit-taking', 'propagandizes', 'property\\\\/casualty', 'prudential-bache', 'quantitive', 'radio-station', 'rey\\\\/fawcett', 'scypher', 'seven-million-ton', 'severable', 'shokubai', 'sidak', 'single-lot', 'stock-picking', 'stock-price', 'stock-selection', 'stock-specialist', 'substance-abusing', 'sulfur-dioxide', 'super-absorbent', 'superdot', 'takeover-stock', 'test-drive', 'then-speaker', 'tire-kickers', 'triple-a-rated', 'triple-c', 'truth-in-lending', 'two-time-losers', 'veraldi', 'walbrecher', 'wamre', 'write-downs', 'yttrium-containing']\n",
            "\n",
            "- Test set OOV words: ['0.0085', '1.1650', '1.637', '1.916', '100-megabyte', '11,390,000', '11-month-old', '120-a-share', '1206.26', '126.15', '129.91', '131.01', '142.84', '154,240,000', '158,666', '170,262', '18-a-share', '188.84', '19-month-old', '2,050-passenger', '220.45', '226,570,380', '237-seat', '26,956', '263.07', '292.32', '300-day', '319.75', '34.625', '341.20', '3436.58', '36-store', '361.8', '372.14', '377.60', '38.875', '387.8', '40-megabyte', '43.875', '434.4', '45-a-share', '494.50', '5,699', '5.2180', '50\\\\/50', '55-a-share', '566.54', '6,799', '608,413', '618.1', '630.9', '734.9', '811.9', '83,206', '87-store', '967,809', 'above-market', 'acquisition-minded', 'arbitrage-related', 'asset-valuation', 'bankruptcy-law', 'blood-cell', 'blue-chips', 'bread-and-butter', 'bronces', 'cash-and-stock', 'cents-a-unit', 'colorliner', 'computer-services', 'conn.based', 'constitutional-law', 'copper-rich', 'corn-buying', 'cost-control', 'crookery', 'derchin', 'diloreto', 'disputada', 'disputado', 'early-retirement', 'ex-dividend', 'exxon-owned', 'g.m.b', 'garden-variety', 'guber\\\\/peters', 'hadson', 'hasbrouk', 'headcount-control', 'heavy-truck', 'high-rolling', 'information-services', 'intelogic', 'inter-tel', 'interleukin-3', 'johnson-era', 'launch-vehicle', 'lentjes', 'life-of-contract', 'lobsenz', 'louisiana-pacific', 'manmade-fiber', 'mariotta', 'minimum-wage', 'more-advanced', 'near-limit', 'newspaper-printing', 'nofzinger', 'noncompetitively', 'passenger-car', 'per-share', 'prior-year', 'pro-iranian', 'protein-1', 'reupke', 'sept.30', 'seven-yen', 'several-year', 'sewing-machine', 'shareholder-rights', 'staff-reduction', 'tete-a-tete', 'txo', 'unicorp', 'waertsilae', 'waymar', 'weapons-modernization', 'yet-to-be-formed', 'yoshihashi']\n"
          ]
        }
      ]
    },
    {
      "cell_type": "markdown",
      "metadata": {
        "id": "E5c5LeQ6ufm4"
      },
      "source": [
        "###  One Hot Encoding of POS Tags\n",
        "\n",
        "\n",
        "The task to the performed by the model is a multi-class classification therefore the labels are not encoded assigning integer values to each different class, but rather by one hot encoding."
      ]
    },
    {
      "cell_type": "code",
      "execution_count": 66,
      "metadata": {
        "id": "vrxVQunjgTG5"
      },
      "outputs": [],
      "source": [
        "from sklearn.preprocessing import OneHotEncoder"
      ]
    },
    {
      "cell_type": "code",
      "source": [
        "def encode_sentence(sentence,vocabulary):\n",
        "    return np.array([vocabulary[word] for word in sentence])"
      ],
      "metadata": {
        "id": "nBM5Ia52s7cW"
      },
      "execution_count": null,
      "outputs": []
    },
    {
      "cell_type": "code",
      "source": [
        "def encode_labels(array,vocabulary):\n",
        "  result = []\n",
        "  for sentence in array:\n",
        "    pad_size = (250-len(sentence), embedding_dim)\n",
        "    encoded = encode_sentence(sentence,vocabulary)\n",
        "    result.append(\n",
        "              np.row_stack((encoded, np.zeros(pad_size)))\n",
        "            )\n",
        "  return np.array(result,dtype=object)"
      ],
      "metadata": {
        "id": "98IUzY3or8RS"
      },
      "execution_count": null,
      "outputs": []
    },
    {
      "cell_type": "code",
      "execution_count": 136,
      "metadata": {
        "id": "UTRc7r5UgdyY"
      },
      "outputs": [],
      "source": [
        "ohe_arr = OneHotEncoder() # Get one hot encoding for POS tags in the training dataset"
      ]
    },
    {
      "cell_type": "code",
      "execution_count": 140,
      "metadata": {
        "id": "9PIwLBjoke5l",
        "colab": {
          "base_uri": "https://localhost:8080/"
        },
        "outputId": "56dd7027-7197-443f-851a-cd72e9b4b655"
      },
      "outputs": [
        {
          "output_type": "execute_result",
          "data": {
            "text/plain": [
              "<45x45 sparse matrix of type '<class 'numpy.float64'>'\n",
              "\twith 45 stored elements in Compressed Sparse Row format>"
            ]
          },
          "metadata": {},
          "execution_count": 140
        }
      ],
      "source": [
        "ohe_arr.fit_transform(np.array(unique_tags_train).reshape(-1, 1))"
      ]
    },
    {
      "cell_type": "markdown",
      "source": [
        "One Hot encoding"
      ],
      "metadata": {
        "id": "gXdWYjG9NXMT"
      }
    },
    {
      "cell_type": "markdown",
      "metadata": {
        "id": "SOfupKY12jD1"
      },
      "source": [
        "Vocabularies for managing OOV words"
      ]
    },
    {
      "cell_type": "markdown",
      "metadata": {
        "id": "WjbvtURHwu0i"
      },
      "source": [
        "### OOV Handling\n",
        "\n",
        "In order to have a lower number of OOV words w.r.t. the embeddings that we will use next, we are going to perform a gentle preprocessing of each token.\n",
        "\n",
        "1. to lower\n",
        "2. encode numbers as \"\"\n",
        " * Number with \",\" or \".\"\n",
        " * Exclude CD from F1 score"
      ]
    },
    {
      "cell_type": "markdown",
      "metadata": {
        "id": "iOX1HCUXroLD"
      },
      "source": [
        "# 3. Modeling\n",
        "\n",
        "\n"
      ]
    },
    {
      "cell_type": "markdown",
      "metadata": {
        "id": "E44-VwGBrrXc"
      },
      "source": [
        "### Architectures used:\n",
        "#### Baseline model\n",
        "* Bidirectional LSMT + Dense layer \n",
        "\n",
        "#### Variations\n",
        "* Bidirectional GRU + Dense layer\n",
        "* Two Bidirectional LSMT + Dense layer\n",
        "* Bidirectional LSMT + Two Dense layer"
      ]
    },
    {
      "cell_type": "code",
      "execution_count": null,
      "metadata": {
        "id": "Eo4e3rgwisjS"
      },
      "outputs": [],
      "source": [
        "n_classes = Y_train.shape[2]"
      ]
    },
    {
      "cell_type": "code",
      "execution_count": null,
      "metadata": {
        "id": "ECWAo80AWBn0"
      },
      "outputs": [],
      "source": [
        "tfa_f1 = tfa.metrics.F1Score(\n",
        "    num_classes= n_classes,\n",
        "    name = 'f1_score',\n",
        "    )\n",
        "\n",
        "indices = [0, 1, 2, 3, 4, 5, 6,7, 17, 31, 44] \n",
        "\n",
        "def f1_with_tfa(y_true, y_pred):\n",
        "    \"\"\"\n",
        "    Computes the F1 score using TensorFlow.\n",
        "    The punctuation is ignored.\n",
        "    \"\"\"\n",
        "    y_true = tf.reshape(y_true, (-1, n_classes))\n",
        "\n",
        "\n",
        "    punctuation = tf.gather(y_true, indices, axis=-1)\n",
        "\n",
        "    y_mask = tf.cast(tf.logical_not(tf.reduce_any( \\\n",
        "                    tf.cast(punctuation, tf.bool), axis=-1)), tf.float32)\n",
        "    \n",
        "    y_pred = tf.reshape(y_pred, (-1, n_classes))\n",
        "    \n",
        "    tfa_f1.update_state(y_true, y_pred, sample_weight=y_mask)\n",
        "    \n",
        "    result = tfa_f1.result()\n",
        "    \n",
        "    K.batch_set_value([(v, np.zeros(v.shape.as_list())) for v in tfa_f1.variables])\n",
        "    return K.sum(result)/(n_classes-len(indices))\n"
      ]
    },
    {
      "cell_type": "code",
      "execution_count": null,
      "metadata": {
        "id": "NwB41V3rwyoB"
      },
      "outputs": [],
      "source": []
    },
    {
      "cell_type": "markdown",
      "metadata": {
        "id": "K_Apzti3xKMi"
      },
      "source": [
        "## Baseline model"
      ]
    },
    {
      "cell_type": "markdown",
      "metadata": {
        "id": "PwKhULrrpCuR"
      },
      "source": [
        "### Model 1: BILST with a Dense layer"
      ]
    },
    {
      "cell_type": "code",
      "execution_count": null,
      "metadata": {
        "id": "86KoG_gYoLpn"
      },
      "outputs": [],
      "source": [
        "#epochs_tuning = 100\n",
        "#batch_size_tuning = 64"
      ]
    },
    {
      "cell_type": "code",
      "execution_count": null,
      "metadata": {
        "id": "hlQo_NKOi3t1"
      },
      "outputs": [],
      "source": [
        "  # Define the model architecture\n",
        "def BiLSTM(hp):\n",
        "    model = Sequential()\n",
        "    model.add(Masking(name='padding', mask_value=0., input_shape=X_train.shape[1:]))\n",
        "    model.add(Bidirectional(LSTM(units=hp.Int('units', min_value=64, max_value=256, step=64),kernel_regularizer=keras.regularizers.l2(0.01), return_sequences=True,name=\"bilstm_1\")))\n",
        "    model.add(TimeDistributed(Dense(n_classes, activation=\"softmax\", name=\"dense_1\")))\n",
        "    model.compile(optimizer=Adam(hp.Choice('learning_rate', values=[1e-2, 1e-3, 1e-4])), \n",
        "                loss='categorical_crossentropy', metrics=['categorical_accuracy',f1_with_tfa])\n",
        "    return model"
      ]
    },
    {
      "cell_type": "markdown",
      "metadata": {
        "id": "RgyeB-CxiCoX"
      },
      "source": [
        "### Model 2: GRU"
      ]
    },
    {
      "cell_type": "code",
      "execution_count": null,
      "metadata": {
        "id": "qwcRxvXnrHEh"
      },
      "outputs": [],
      "source": [
        "# Create BiGRU and Dense layer\n",
        "def BiGRU(hp):\n",
        "    model = Sequential()\n",
        "    model.add(Masking(name='padding', mask_value=0., input_shape=X_train.shape[1:]))\n",
        "    model.add(Bidirectional(GRU(units=hp.Int('units', min_value=64, max_value=256, step=64),kernel_regularizer=keras.regularizers.l2(0.01), return_sequences=True,name=\"gru_1\")))\n",
        "    model.add(TimeDistributed(Dense(n_classes, activation=\"softmax\", name=\"dense_1\")))\n",
        "    model.compile(optimizer=Adam(hp.Choice('learning_rate', values=[1e-2, 1e-3, 1e-4])), \n",
        "                loss='categorical_crossentropy', metrics=['categorical_accuracy',f1_with_tfa])\n",
        "    return model"
      ]
    },
    {
      "cell_type": "markdown",
      "metadata": {
        "id": "gk5ksZUdiA6b"
      },
      "source": [
        "### Model 3: Two BILSTM"
      ]
    },
    {
      "cell_type": "code",
      "execution_count": null,
      "metadata": {
        "id": "MOYO2YQWruC2"
      },
      "outputs": [],
      "source": [
        "# Create model with two BiLSTM layers and Dense layer\n",
        "def two_BiLSTM(hp):\n",
        "    model = Sequential()\n",
        "    model.add(Masking(name='padding', mask_value=0., input_shape=X_train.shape[1:]))\n",
        "    model.add(Bidirectional(LSTM(units=hp.Int('units', min_value=64, max_value=256, step=64),kernel_regularizer=keras.regularizers.l2(0.01), return_sequences=True,name=\"bilstm_1\")))\n",
        "    model.add(Bidirectional(LSTM(units=hp.Int('units2', min_value=64, max_value=256, step=64),kernel_regularizer=keras.regularizers.l2(0.01), return_sequences=True,name=\"bilstm_2\")))\n",
        "    model.add(TimeDistributed(Dense(n_classes, activation=\"softmax\", name=\"dense_1\")))\n",
        "    model.compile(optimizer=Adam(hp.Choice('learning_rate', values=[1e-2, 1e-3, 1e-4])), \n",
        "                loss='categorical_crossentropy', metrics=['categorical_accuracy',f1_with_tfa])\n",
        "    return model"
      ]
    },
    {
      "cell_type": "markdown",
      "metadata": {
        "id": "jaWXFpJRpQPw"
      },
      "source": [
        "### Model 4: BILSTM + Dense Layer"
      ]
    },
    {
      "cell_type": "code",
      "execution_count": null,
      "metadata": {
        "id": "58yaXSRVuLuQ"
      },
      "outputs": [],
      "source": [
        "# Create model with one BiLSTM layers and two Dense layers\n",
        "def bilstm_two_dense(hp):\n",
        "    model = Sequential()\n",
        "    model.add(Masking(name='padding', mask_value=0., input_shape=X_train.shape[1:]))\n",
        "    model.add(Bidirectional(LSTM(units=hp.Int('units', min_value=64, max_value=256, step=64),kernel_regularizer=keras.regularizers.l2(0.01), return_sequences=True,name=\"bilstm_1\")))\n",
        "    model.add(TimeDistributed(Dense(units=hp.Int('units2', min_value=64, max_value=256, step=64),activation=\"relu\",name=\"dense_1\")))\n",
        "    model.add(TimeDistributed(Dense(n_classes, activation=\"softmax\", name=\"dense_2\")))\n",
        "    model.compile(optimizer=Adam(hp.Choice('learning_rate', values=[1e-2, 1e-3, 1e-4])), \n",
        "                loss='categorical_crossentropy', metrics=['categorical_accuracy',f1_with_tfa])\n",
        "    return model"
      ]
    },
    {
      "cell_type": "markdown",
      "metadata": {
        "id": "xY5je0Whm51J"
      },
      "source": [
        "## 3.2 Hyperparameter tuning"
      ]
    },
    {
      "cell_type": "markdown",
      "metadata": {
        "id": "FY6Xhntwxry4"
      },
      "source": [
        "### Model 1: BILST with a Dense layer "
      ]
    },
    {
      "cell_type": "code",
      "execution_count": null,
      "metadata": {
        "colab": {
          "base_uri": "https://localhost:8080/"
        },
        "id": "b7zkpNu8rrCp",
        "outputId": "77f1e334-2ebf-44c0-b625-bf798c468992"
      },
      "outputs": [
        {
          "name": "stdout",
          "output_type": "stream",
          "text": [
            "Trial 3 Complete [00h 00m 51s]\n",
            "val_f1_with_tfa: 0.0890439972281456\n",
            "\n",
            "Best val_f1_with_tfa So Far: 0.4139796197414398\n",
            "Total elapsed time: 00h 03m 13s\n",
            "\n",
            "Hyper parameter tuning completed.\n",
            "=====================================\n",
            "The optimal number of units in the LSTM layer is 256.\n",
            "The optimal rate for Dropout layer is 0.5.\n",
            "The optimal learning rate for the optimizer is 0.001.\n"
          ]
        }
      ],
      "source": [
        "# Hyperparameter optimization using random search\n",
        "tuner_bilstm = RandomSearch(BiLSTM, objective=Objective('val_f1_with_tfa', direction='max'), max_trials=3, overwrite=True)\n",
        "tuner_bilstm.search(X_train,Y_train, epochs=10, validation_data=(X_val, Y_val))\n",
        "\n",
        "best_hps_bilstm = tuner_bilstm.get_best_hyperparameters()[0]\n",
        "\n",
        "print(f\"\\nHyper parameter tuning completed.\\n\" \n",
        "      f\"=====================================\\n\"\n",
        "      f\"The optimal number of units in the LSTM layer is {best_hps_bilstm.get('units')}.\\n\" \n",
        "      f\"The optimal learning rate for the optimizer is {best_hps_bilstm.get('learning_rate')}.\")"
      ]
    },
    {
      "cell_type": "code",
      "execution_count": null,
      "metadata": {
        "colab": {
          "base_uri": "https://localhost:8080/",
          "height": 373
        },
        "id": "6Ef48UVzp07l",
        "outputId": "ec60ca51-fbec-4c00-dcda-5926d3d3d846"
      },
      "outputs": [
        {
          "ename": "ValueError",
          "evalue": "ignored",
          "output_type": "error",
          "traceback": [
            "\u001b[0;31m---------------------------------------------------------------------------\u001b[0m",
            "\u001b[0;31mValueError\u001b[0m                                Traceback (most recent call last)",
            "\u001b[0;32m<ipython-input-52-9cd5263f43f0>\u001b[0m in \u001b[0;36m<module>\u001b[0;34m\u001b[0m\n\u001b[1;32m      1\u001b[0m \u001b[0;32mfrom\u001b[0m \u001b[0mkeras\u001b[0m\u001b[0;34m.\u001b[0m\u001b[0mutils\u001b[0m\u001b[0;34m.\u001b[0m\u001b[0mvis_utils\u001b[0m \u001b[0;32mimport\u001b[0m \u001b[0mplot_model\u001b[0m\u001b[0;34m\u001b[0m\u001b[0;34m\u001b[0m\u001b[0m\n\u001b[0;32m----> 2\u001b[0;31m \u001b[0mplot_model\u001b[0m\u001b[0;34m(\u001b[0m\u001b[0mtuner_bilstm\u001b[0m\u001b[0;34m.\u001b[0m\u001b[0mget_best_models\u001b[0m\u001b[0;34m(\u001b[0m\u001b[0;34m)\u001b[0m\u001b[0;34m[\u001b[0m\u001b[0;36m0\u001b[0m\u001b[0;34m]\u001b[0m\u001b[0;34m,\u001b[0m \u001b[0mshow_shapes\u001b[0m\u001b[0;34m=\u001b[0m\u001b[0;32mTrue\u001b[0m\u001b[0;34m,\u001b[0m \u001b[0mshow_layer_names\u001b[0m\u001b[0;34m=\u001b[0m\u001b[0;32mTrue\u001b[0m\u001b[0;34m)\u001b[0m\u001b[0;34m\u001b[0m\u001b[0;34m\u001b[0m\u001b[0m\n\u001b[0m",
            "\u001b[0;32m/usr/local/lib/python3.8/dist-packages/keras_tuner/engine/tuner.py\u001b[0m in \u001b[0;36mget_best_models\u001b[0;34m(self, num_models)\u001b[0m\n\u001b[1;32m    372\u001b[0m         \"\"\"\n\u001b[1;32m    373\u001b[0m         \u001b[0;31m# Method only exists in this class for the docstring override.\u001b[0m\u001b[0;34m\u001b[0m\u001b[0;34m\u001b[0m\u001b[0;34m\u001b[0m\u001b[0m\n\u001b[0;32m--> 374\u001b[0;31m         \u001b[0;32mreturn\u001b[0m \u001b[0msuper\u001b[0m\u001b[0;34m(\u001b[0m\u001b[0mTuner\u001b[0m\u001b[0;34m,\u001b[0m \u001b[0mself\u001b[0m\u001b[0;34m)\u001b[0m\u001b[0;34m.\u001b[0m\u001b[0mget_best_models\u001b[0m\u001b[0;34m(\u001b[0m\u001b[0mnum_models\u001b[0m\u001b[0;34m)\u001b[0m\u001b[0;34m\u001b[0m\u001b[0;34m\u001b[0m\u001b[0m\n\u001b[0m\u001b[1;32m    375\u001b[0m \u001b[0;34m\u001b[0m\u001b[0m\n\u001b[1;32m    376\u001b[0m     \u001b[0;32mdef\u001b[0m \u001b[0m_deepcopy_callbacks\u001b[0m\u001b[0;34m(\u001b[0m\u001b[0mself\u001b[0m\u001b[0;34m,\u001b[0m \u001b[0mcallbacks\u001b[0m\u001b[0;34m)\u001b[0m\u001b[0;34m:\u001b[0m\u001b[0;34m\u001b[0m\u001b[0;34m\u001b[0m\u001b[0m\n",
            "\u001b[0;32m/usr/local/lib/python3.8/dist-packages/keras_tuner/engine/base_tuner.py\u001b[0m in \u001b[0;36mget_best_models\u001b[0;34m(self, num_models)\u001b[0m\n\u001b[1;32m    294\u001b[0m         \"\"\"\n\u001b[1;32m    295\u001b[0m         \u001b[0mbest_trials\u001b[0m \u001b[0;34m=\u001b[0m \u001b[0mself\u001b[0m\u001b[0;34m.\u001b[0m\u001b[0moracle\u001b[0m\u001b[0;34m.\u001b[0m\u001b[0mget_best_trials\u001b[0m\u001b[0;34m(\u001b[0m\u001b[0mnum_models\u001b[0m\u001b[0;34m)\u001b[0m\u001b[0;34m\u001b[0m\u001b[0;34m\u001b[0m\u001b[0m\n\u001b[0;32m--> 296\u001b[0;31m         \u001b[0mmodels\u001b[0m \u001b[0;34m=\u001b[0m \u001b[0;34m[\u001b[0m\u001b[0mself\u001b[0m\u001b[0;34m.\u001b[0m\u001b[0mload_model\u001b[0m\u001b[0;34m(\u001b[0m\u001b[0mtrial\u001b[0m\u001b[0;34m)\u001b[0m \u001b[0;32mfor\u001b[0m \u001b[0mtrial\u001b[0m \u001b[0;32min\u001b[0m \u001b[0mbest_trials\u001b[0m\u001b[0;34m]\u001b[0m\u001b[0;34m\u001b[0m\u001b[0;34m\u001b[0m\u001b[0m\n\u001b[0m\u001b[1;32m    297\u001b[0m         \u001b[0;32mreturn\u001b[0m \u001b[0mmodels\u001b[0m\u001b[0;34m\u001b[0m\u001b[0;34m\u001b[0m\u001b[0m\n\u001b[1;32m    298\u001b[0m \u001b[0;34m\u001b[0m\u001b[0m\n",
            "\u001b[0;32m/usr/local/lib/python3.8/dist-packages/keras_tuner/engine/base_tuner.py\u001b[0m in \u001b[0;36m<listcomp>\u001b[0;34m(.0)\u001b[0m\n\u001b[1;32m    294\u001b[0m         \"\"\"\n\u001b[1;32m    295\u001b[0m         \u001b[0mbest_trials\u001b[0m \u001b[0;34m=\u001b[0m \u001b[0mself\u001b[0m\u001b[0;34m.\u001b[0m\u001b[0moracle\u001b[0m\u001b[0;34m.\u001b[0m\u001b[0mget_best_trials\u001b[0m\u001b[0;34m(\u001b[0m\u001b[0mnum_models\u001b[0m\u001b[0;34m)\u001b[0m\u001b[0;34m\u001b[0m\u001b[0;34m\u001b[0m\u001b[0m\n\u001b[0;32m--> 296\u001b[0;31m         \u001b[0mmodels\u001b[0m \u001b[0;34m=\u001b[0m \u001b[0;34m[\u001b[0m\u001b[0mself\u001b[0m\u001b[0;34m.\u001b[0m\u001b[0mload_model\u001b[0m\u001b[0;34m(\u001b[0m\u001b[0mtrial\u001b[0m\u001b[0;34m)\u001b[0m \u001b[0;32mfor\u001b[0m \u001b[0mtrial\u001b[0m \u001b[0;32min\u001b[0m \u001b[0mbest_trials\u001b[0m\u001b[0;34m]\u001b[0m\u001b[0;34m\u001b[0m\u001b[0;34m\u001b[0m\u001b[0m\n\u001b[0m\u001b[1;32m    297\u001b[0m         \u001b[0;32mreturn\u001b[0m \u001b[0mmodels\u001b[0m\u001b[0;34m\u001b[0m\u001b[0;34m\u001b[0m\u001b[0m\n\u001b[1;32m    298\u001b[0m \u001b[0;34m\u001b[0m\u001b[0m\n",
            "\u001b[0;32m/usr/local/lib/python3.8/dist-packages/keras_tuner/engine/tuner.py\u001b[0m in \u001b[0;36mload_model\u001b[0;34m(self, trial)\u001b[0m\n\u001b[1;32m    303\u001b[0m         \u001b[0;31m# Only load weights to avoid loading `custom_objects`.\u001b[0m\u001b[0;34m\u001b[0m\u001b[0;34m\u001b[0m\u001b[0;34m\u001b[0m\u001b[0m\n\u001b[1;32m    304\u001b[0m         \u001b[0;32mwith\u001b[0m \u001b[0mmaybe_distribute\u001b[0m\u001b[0;34m(\u001b[0m\u001b[0mself\u001b[0m\u001b[0;34m.\u001b[0m\u001b[0mdistribution_strategy\u001b[0m\u001b[0;34m)\u001b[0m\u001b[0;34m:\u001b[0m\u001b[0;34m\u001b[0m\u001b[0;34m\u001b[0m\u001b[0m\n\u001b[0;32m--> 305\u001b[0;31m             \u001b[0mmodel\u001b[0m\u001b[0;34m.\u001b[0m\u001b[0mload_weights\u001b[0m\u001b[0;34m(\u001b[0m\u001b[0mself\u001b[0m\u001b[0;34m.\u001b[0m\u001b[0m_get_checkpoint_fname\u001b[0m\u001b[0;34m(\u001b[0m\u001b[0mtrial\u001b[0m\u001b[0;34m.\u001b[0m\u001b[0mtrial_id\u001b[0m\u001b[0;34m)\u001b[0m\u001b[0;34m)\u001b[0m\u001b[0;34m\u001b[0m\u001b[0;34m\u001b[0m\u001b[0m\n\u001b[0m\u001b[1;32m    306\u001b[0m         \u001b[0;32mreturn\u001b[0m \u001b[0mmodel\u001b[0m\u001b[0;34m\u001b[0m\u001b[0;34m\u001b[0m\u001b[0m\n\u001b[1;32m    307\u001b[0m \u001b[0;34m\u001b[0m\u001b[0m\n",
            "\u001b[0;32m/usr/local/lib/python3.8/dist-packages/keras/utils/traceback_utils.py\u001b[0m in \u001b[0;36merror_handler\u001b[0;34m(*args, **kwargs)\u001b[0m\n\u001b[1;32m     65\u001b[0m     \u001b[0;32mexcept\u001b[0m \u001b[0mException\u001b[0m \u001b[0;32mas\u001b[0m \u001b[0me\u001b[0m\u001b[0;34m:\u001b[0m  \u001b[0;31m# pylint: disable=broad-except\u001b[0m\u001b[0;34m\u001b[0m\u001b[0;34m\u001b[0m\u001b[0m\n\u001b[1;32m     66\u001b[0m       \u001b[0mfiltered_tb\u001b[0m \u001b[0;34m=\u001b[0m \u001b[0m_process_traceback_frames\u001b[0m\u001b[0;34m(\u001b[0m\u001b[0me\u001b[0m\u001b[0;34m.\u001b[0m\u001b[0m__traceback__\u001b[0m\u001b[0;34m)\u001b[0m\u001b[0;34m\u001b[0m\u001b[0;34m\u001b[0m\u001b[0m\n\u001b[0;32m---> 67\u001b[0;31m       \u001b[0;32mraise\u001b[0m \u001b[0me\u001b[0m\u001b[0;34m.\u001b[0m\u001b[0mwith_traceback\u001b[0m\u001b[0;34m(\u001b[0m\u001b[0mfiltered_tb\u001b[0m\u001b[0;34m)\u001b[0m \u001b[0;32mfrom\u001b[0m \u001b[0;32mNone\u001b[0m\u001b[0;34m\u001b[0m\u001b[0;34m\u001b[0m\u001b[0m\n\u001b[0m\u001b[1;32m     68\u001b[0m     \u001b[0;32mfinally\u001b[0m\u001b[0;34m:\u001b[0m\u001b[0;34m\u001b[0m\u001b[0;34m\u001b[0m\u001b[0m\n\u001b[1;32m     69\u001b[0m       \u001b[0;32mdel\u001b[0m \u001b[0mfiltered_tb\u001b[0m\u001b[0;34m\u001b[0m\u001b[0;34m\u001b[0m\u001b[0m\n",
            "\u001b[0;32m/usr/local/lib/python3.8/dist-packages/tensorflow/python/training/saving/saveable_object_util.py\u001b[0m in \u001b[0;36mrestore\u001b[0;34m(self, restored_tensors, restored_shapes)\u001b[0m\n\u001b[1;32m    131\u001b[0m             self.handle_op, self._var_shape, restored_tensor)\n\u001b[1;32m    132\u001b[0m       \u001b[0;32mexcept\u001b[0m \u001b[0mValueError\u001b[0m \u001b[0;32mas\u001b[0m \u001b[0me\u001b[0m\u001b[0;34m:\u001b[0m\u001b[0;34m\u001b[0m\u001b[0;34m\u001b[0m\u001b[0m\n\u001b[0;32m--> 133\u001b[0;31m         raise ValueError(\n\u001b[0m\u001b[1;32m    134\u001b[0m             \u001b[0;34mf\"Received incompatible tensor with shape {restored_tensor.shape} \"\u001b[0m\u001b[0;34m\u001b[0m\u001b[0;34m\u001b[0m\u001b[0m\n\u001b[1;32m    135\u001b[0m             \u001b[0;34mf\"when attempting to restore variable with shape {self._var_shape} \"\u001b[0m\u001b[0;34m\u001b[0m\u001b[0;34m\u001b[0m\u001b[0m\n",
            "\u001b[0;31mValueError\u001b[0m: Received incompatible tensor with shape (768,) when attempting to restore variable with shape (1024,) and name layer_with_weights-0/backward_layer/cell/bias/.ATTRIBUTES/VARIABLE_VALUE."
          ]
        }
      ],
      "source": [
        "from keras.utils.vis_utils import plot_model\n",
        "plot_model(tuner_bilstm.get_best_models()[0], show_shapes=True, show_layer_names=True)"
      ]
    },
    {
      "cell_type": "markdown",
      "metadata": {
        "id": "soiCMA8ix_Uh"
      },
      "source": [
        "### Model 2: Bidirectional GRU + Dense layer "
      ]
    },
    {
      "cell_type": "code",
      "execution_count": null,
      "metadata": {
        "colab": {
          "base_uri": "https://localhost:8080/"
        },
        "id": "THrFv_GhzAAn",
        "outputId": "a8239c70-f9e8-41c2-fe1a-f89b23a4e007"
      },
      "outputs": [
        {
          "name": "stdout",
          "output_type": "stream",
          "text": [
            "Trial 3 Complete [00h 00m 50s]\n",
            "val_f1_with_tfa: 0.4137117862701416\n",
            "\n",
            "Best val_f1_with_tfa So Far: 0.4458908140659332\n",
            "Total elapsed time: 00h 03m 10s\n",
            "The hyperparameter search is complete.\n",
            "The optimal number of units in the LSTM layer is 192.\n",
            "The optimal rate for Dropout layer is 0.3.\n",
            "The optimal learning rate for the optimizer is 0.001.\n"
          ]
        }
      ],
      "source": [
        "# Hyperparameter optimization using random search\n",
        "tuner_bigru = RandomSearch(BiGRU, objective=Objective('val_f1_with_tfa', direction='max'), max_trials=3, overwrite=True)\n",
        "tuner_bigru.search(X_train,Y_train, epochs=10, validation_data=(X_val, Y_val))\n",
        "\n",
        "best_hps_bigru = tuner_bigru.get_best_hyperparameters()[0]\n",
        "\n",
        "print(f\"The hyperparameter search is complete.\\n\" \n",
        "      f\"The optimal number of units in the LSTM layer is {best_hps_bigru.get('units')}.\\n\" \n",
        "      f\"The optimal learning rate for the optimizer is {best_hps_bigru.get('learning_rate')}.\")"
      ]
    },
    {
      "cell_type": "markdown",
      "metadata": {
        "id": "AG8IVTWfyBXJ"
      },
      "source": [
        "### Model 3:  Two Bidirectional LSMT + Dense layer "
      ]
    },
    {
      "cell_type": "code",
      "execution_count": null,
      "metadata": {
        "colab": {
          "base_uri": "https://localhost:8080/"
        },
        "id": "T_NVEWIRLoMD",
        "outputId": "c0be154e-a82d-47c8-c7a0-19f6afba5772"
      },
      "outputs": [
        {
          "name": "stdout",
          "output_type": "stream",
          "text": [
            "Trial 5 Complete [00h 03m 10s]\n",
            "val_f1_with_tfa: 0.024915505200624466\n",
            "\n",
            "Best val_f1_with_tfa So Far: 0.1657380908727646\n",
            "Total elapsed time: 00h 17m 19s\n",
            "The hyperparameter search is complete.\n",
            "The optimal number of units in the LSTM layer is 256.\n",
            "The optimal number of units in the second LSTM layer is 256.\n",
            "The optimal rate for the  Dropout layer is 0.2.\n",
            "The optimal learning rate for the optimizer is 0.001.\n"
          ]
        }
      ],
      "source": [
        "# Hyperparameter optimization using random search\n",
        "tuner_two_bilstm = RandomSearch(two_BiLSTM, objective=Objective('val_f1_with_tfa', direction='max'), max_trials=5, overwrite=True)\n",
        "tuner_two_bilstm.search(X_train,Y_train, epochs=25, validation_data=(X_val, Y_val))\n",
        "\n",
        "best_hps_two_bilstm = tuner_two_bilstm.get_best_hyperparameters()[0]\n",
        "\n",
        "print(f\"The hyperparameter search is complete.\\n\" \n",
        "      f\"The optimal number of units in the LSTM layer is {best_hps_two_bilstm.get('units')}.\\n\" \n",
        "      f\"The optimal number of units in the second LSTM layer is {best_hps_two_bilstm.get('units2')}.\\n\" \n",
        "      f\"The optimal learning rate for the optimizer is {best_hps_two_bilstm.get('learning_rate')}.\")"
      ]
    },
    {
      "cell_type": "markdown",
      "metadata": {
        "id": "1KQdGyTtyW5g"
      },
      "source": [
        "### Model 4: Bidirectional LSMT + two Dense layer "
      ]
    },
    {
      "cell_type": "code",
      "execution_count": null,
      "metadata": {
        "colab": {
          "base_uri": "https://localhost:8080/"
        },
        "id": "tPqLeChY1RZm",
        "outputId": "eea12f98-61e6-4202-a998-17e726e437e7"
      },
      "outputs": [
        {
          "name": "stdout",
          "output_type": "stream",
          "text": [
            "Trial 3 Complete [00h 00m 48s]\n",
            "val_f1_with_tfa: 0.5273855328559875\n",
            "\n",
            "Best val_f1_with_tfa So Far: 0.5273855328559875\n",
            "Total elapsed time: 00h 03m 08s\n",
            "\n",
            " Hyperparameter tuning done.\n",
            "The optimal number of units in the LSTM layer is 128.\n",
            "The optimal number of units in the second LSTM layer is 64.\n",
            "The optimal rate for Dropout layer is 0.2.\n",
            "The optimal rate for the second Dropout layer is 0.0.\n",
            "The optimal learning rate for the optimizer is 0.01.\n"
          ]
        }
      ],
      "source": [
        "# Hyperparameter optimization using random search\n",
        "tuner_bilstm_two_dense = RandomSearch(bilstm_two_dense, objective=Objective('val_f1_with_tfa', direction='max'), max_trials=3, overwrite=True)\n",
        "tuner_bilstm_two_dense.search(X_train,Y_train, epochs=10, validation_data=(X_val, Y_val))\n",
        "\n",
        "best_hps_bilstm_two_dense = tuner_bilstm_two_dense.get_best_hyperparameters()[0]\n",
        "\n",
        "print(f\"\\n Hyperparameter tuning done.\\n\" \n",
        "      f\"The optimal number of units in the LSTM layer is {best_hps_bilstm_two_dense.get('units')}.\\n\" \n",
        "      f\"The optimal number of units in the second LSTM layer is {best_hps_bilstm_two_dense.get('units2')}.\\n\" \n",
        "      f\"The optimal learning rate for the optimizer is {best_hps_bilstm_two_dense.get('learning_rate')}.\")"
      ]
    },
    {
      "cell_type": "markdown",
      "metadata": {
        "id": "c6do2pWDsLPK"
      },
      "source": [
        "##  3.3 Model training"
      ]
    },
    {
      "cell_type": "markdown",
      "metadata": {
        "id": "Mb-N5c6HXxPR"
      },
      "source": [
        "### Model 1: Bidirectional LSMT + Dense layer \n"
      ]
    },
    {
      "cell_type": "code",
      "execution_count": null,
      "metadata": {
        "id": "4dFaNBcV65LA"
      },
      "outputs": [],
      "source": [
        "epochs_training = 100\n",
        "batch_size_training = 64\n",
        "callbacks_training = [keras.callbacks.EarlyStopping(monitor='val_categorical_accuracy', patience=10, mode=\"max\", restore_best_weights=True)]"
      ]
    },
    {
      "cell_type": "code",
      "execution_count": null,
      "metadata": {
        "colab": {
          "base_uri": "https://localhost:8080/"
        },
        "id": "oVd2di6j4tls",
        "outputId": "9b769f20-1814-451d-fcc0-44fe09b20558"
      },
      "outputs": [
        {
          "name": "stdout",
          "output_type": "stream",
          "text": [
            "Epoch 1/100\n",
            "31/31 [==============================] - 12s 165ms/step - loss: 0.7341 - categorical_accuracy: 0.2312 - f1_with_tfa: 0.0341 - val_loss: 0.2730 - val_categorical_accuracy: 0.4074 - val_f1_with_tfa: 0.0670\n",
            "Epoch 2/100\n",
            "31/31 [==============================] - 2s 73ms/step - loss: 0.2139 - categorical_accuracy: 0.5008 - f1_with_tfa: 0.1479 - val_loss: 0.1673 - val_categorical_accuracy: 0.6185 - val_f1_with_tfa: 0.2732\n",
            "Epoch 3/100\n",
            "31/31 [==============================] - 2s 73ms/step - loss: 0.1503 - categorical_accuracy: 0.6606 - f1_with_tfa: 0.3078 - val_loss: 0.1385 - val_categorical_accuracy: 0.6872 - val_f1_with_tfa: 0.3481\n",
            "Epoch 4/100\n",
            "31/31 [==============================] - 2s 74ms/step - loss: 0.1276 - categorical_accuracy: 0.7264 - f1_with_tfa: 0.3770 - val_loss: 0.1223 - val_categorical_accuracy: 0.7441 - val_f1_with_tfa: 0.4175\n",
            "Epoch 5/100\n",
            "31/31 [==============================] - 2s 73ms/step - loss: 0.1164 - categorical_accuracy: 0.7564 - f1_with_tfa: 0.4125 - val_loss: 0.1154 - val_categorical_accuracy: 0.7475 - val_f1_with_tfa: 0.4178\n",
            "Epoch 6/100\n",
            "31/31 [==============================] - 2s 75ms/step - loss: 0.1072 - categorical_accuracy: 0.7765 - f1_with_tfa: 0.4412 - val_loss: 0.1042 - val_categorical_accuracy: 0.7847 - val_f1_with_tfa: 0.4553\n",
            "Epoch 7/100\n",
            "31/31 [==============================] - 2s 74ms/step - loss: 0.1003 - categorical_accuracy: 0.7918 - f1_with_tfa: 0.4682 - val_loss: 0.0994 - val_categorical_accuracy: 0.7968 - val_f1_with_tfa: 0.4746\n",
            "Epoch 8/100\n",
            "31/31 [==============================] - 2s 73ms/step - loss: 0.0973 - categorical_accuracy: 0.7963 - f1_with_tfa: 0.4742 - val_loss: 0.1007 - val_categorical_accuracy: 0.7856 - val_f1_with_tfa: 0.4787\n",
            "Epoch 9/100\n",
            "31/31 [==============================] - 2s 74ms/step - loss: 0.0952 - categorical_accuracy: 0.8009 - f1_with_tfa: 0.4855 - val_loss: 0.0930 - val_categorical_accuracy: 0.8045 - val_f1_with_tfa: 0.4929\n",
            "Epoch 10/100\n",
            "31/31 [==============================] - 2s 74ms/step - loss: 0.0906 - categorical_accuracy: 0.8103 - f1_with_tfa: 0.5065 - val_loss: 0.0913 - val_categorical_accuracy: 0.8005 - val_f1_with_tfa: 0.4969\n",
            "Epoch 11/100\n",
            "31/31 [==============================] - 2s 75ms/step - loss: 0.0873 - categorical_accuracy: 0.8180 - f1_with_tfa: 0.5139 - val_loss: 0.0952 - val_categorical_accuracy: 0.7855 - val_f1_with_tfa: 0.5040\n",
            "Epoch 12/100\n",
            "31/31 [==============================] - 2s 73ms/step - loss: 0.0859 - categorical_accuracy: 0.8210 - f1_with_tfa: 0.5262 - val_loss: 0.0880 - val_categorical_accuracy: 0.8149 - val_f1_with_tfa: 0.5315\n",
            "Epoch 13/100\n",
            "31/31 [==============================] - 2s 75ms/step - loss: 0.0849 - categorical_accuracy: 0.8215 - f1_with_tfa: 0.5356 - val_loss: 0.0855 - val_categorical_accuracy: 0.8235 - val_f1_with_tfa: 0.5313\n",
            "Epoch 14/100\n",
            "31/31 [==============================] - 2s 74ms/step - loss: 0.0825 - categorical_accuracy: 0.8265 - f1_with_tfa: 0.5407 - val_loss: 0.0836 - val_categorical_accuracy: 0.8277 - val_f1_with_tfa: 0.5224\n",
            "Epoch 15/100\n",
            "31/31 [==============================] - 2s 73ms/step - loss: 0.0813 - categorical_accuracy: 0.8279 - f1_with_tfa: 0.5429 - val_loss: 0.0839 - val_categorical_accuracy: 0.8301 - val_f1_with_tfa: 0.5461\n",
            "Epoch 16/100\n",
            "31/31 [==============================] - 2s 74ms/step - loss: 0.0803 - categorical_accuracy: 0.8314 - f1_with_tfa: 0.5536 - val_loss: 0.0843 - val_categorical_accuracy: 0.8161 - val_f1_with_tfa: 0.5324\n",
            "Epoch 17/100\n",
            "31/31 [==============================] - 2s 76ms/step - loss: 0.0780 - categorical_accuracy: 0.8345 - f1_with_tfa: 0.5600 - val_loss: 0.0813 - val_categorical_accuracy: 0.8276 - val_f1_with_tfa: 0.5518\n",
            "Epoch 18/100\n",
            "31/31 [==============================] - 2s 77ms/step - loss: 0.0771 - categorical_accuracy: 0.8367 - f1_with_tfa: 0.5576 - val_loss: 0.0820 - val_categorical_accuracy: 0.8210 - val_f1_with_tfa: 0.5383\n",
            "Epoch 19/100\n",
            "31/31 [==============================] - 2s 74ms/step - loss: 0.0762 - categorical_accuracy: 0.8396 - f1_with_tfa: 0.5724 - val_loss: 0.0840 - val_categorical_accuracy: 0.8131 - val_f1_with_tfa: 0.5509\n",
            "Epoch 20/100\n",
            "31/31 [==============================] - 2s 74ms/step - loss: 0.0768 - categorical_accuracy: 0.8381 - f1_with_tfa: 0.5687 - val_loss: 0.0822 - val_categorical_accuracy: 0.8256 - val_f1_with_tfa: 0.5670\n",
            "Epoch 21/100\n",
            "31/31 [==============================] - 2s 72ms/step - loss: 0.0755 - categorical_accuracy: 0.8403 - f1_with_tfa: 0.5765 - val_loss: 0.0816 - val_categorical_accuracy: 0.8287 - val_f1_with_tfa: 0.5701\n",
            "Epoch 22/100\n",
            "31/31 [==============================] - 2s 73ms/step - loss: 0.0736 - categorical_accuracy: 0.8440 - f1_with_tfa: 0.5845 - val_loss: 0.0808 - val_categorical_accuracy: 0.8226 - val_f1_with_tfa: 0.5531\n",
            "Epoch 23/100\n",
            "31/31 [==============================] - 2s 74ms/step - loss: 0.0737 - categorical_accuracy: 0.8425 - f1_with_tfa: 0.5811 - val_loss: 0.0813 - val_categorical_accuracy: 0.8203 - val_f1_with_tfa: 0.5609\n",
            "Epoch 24/100\n",
            "31/31 [==============================] - 2s 72ms/step - loss: 0.0729 - categorical_accuracy: 0.8470 - f1_with_tfa: 0.5940 - val_loss: 0.0849 - val_categorical_accuracy: 0.8072 - val_f1_with_tfa: 0.5285\n",
            "Epoch 25/100\n",
            "31/31 [==============================] - 2s 73ms/step - loss: 0.0738 - categorical_accuracy: 0.8452 - f1_with_tfa: 0.5922 - val_loss: 0.0781 - val_categorical_accuracy: 0.8298 - val_f1_with_tfa: 0.5786\n"
          ]
        }
      ],
      "source": [
        "# Train the best model for 10 epochs\n",
        "best_bilstm = tuner_bilstm.hypermodel.build(best_hps_bilstm)\n",
        "best_bilstm.fit(X_train, Y_train, epochs=epochs_training,batch_size=batch_size_training ,validation_data=(X_val, Y_val),callbacks=callbacks_training)\n",
        "best_bilstm.save('models/bilstm.h5')"
      ]
    },
    {
      "cell_type": "markdown",
      "metadata": {
        "id": "woZw5OORk1vy"
      },
      "source": [
        "### Model 2: Bidirectional GRU + Dense layer \n",
        "\n"
      ]
    },
    {
      "cell_type": "code",
      "execution_count": null,
      "metadata": {
        "colab": {
          "base_uri": "https://localhost:8080/"
        },
        "id": "sZSmoi6F-mjF",
        "outputId": "3bf53c92-1f7b-4df0-a6d3-c82ab8711a34"
      },
      "outputs": [
        {
          "name": "stdout",
          "output_type": "stream",
          "text": [
            "Epoch 1/100\n",
            "31/31 [==============================] - 12s 168ms/step - loss: 0.6786 - categorical_accuracy: 0.4600 - f1_with_tfa: 0.1554 - val_loss: 0.1853 - val_categorical_accuracy: 0.6369 - val_f1_with_tfa: 0.2891\n",
            "Epoch 2/100\n",
            "31/31 [==============================] - 2s 76ms/step - loss: 0.1489 - categorical_accuracy: 0.7204 - f1_with_tfa: 0.3671 - val_loss: 0.1276 - val_categorical_accuracy: 0.7474 - val_f1_with_tfa: 0.4107\n",
            "Epoch 3/100\n",
            "31/31 [==============================] - 2s 79ms/step - loss: 0.1144 - categorical_accuracy: 0.7729 - f1_with_tfa: 0.4355 - val_loss: 0.1170 - val_categorical_accuracy: 0.7462 - val_f1_with_tfa: 0.4257\n",
            "Epoch 4/100\n",
            "31/31 [==============================] - 2s 78ms/step - loss: 0.1038 - categorical_accuracy: 0.7929 - f1_with_tfa: 0.4647 - val_loss: 0.1090 - val_categorical_accuracy: 0.7704 - val_f1_with_tfa: 0.4743\n",
            "Epoch 5/100\n",
            "31/31 [==============================] - 2s 78ms/step - loss: 0.0972 - categorical_accuracy: 0.8065 - f1_with_tfa: 0.4875 - val_loss: 0.1028 - val_categorical_accuracy: 0.7824 - val_f1_with_tfa: 0.4892\n",
            "Epoch 6/100\n",
            "31/31 [==============================] - 2s 75ms/step - loss: 0.0907 - categorical_accuracy: 0.8188 - f1_with_tfa: 0.5169 - val_loss: 0.0956 - val_categorical_accuracy: 0.7941 - val_f1_with_tfa: 0.4894\n",
            "Epoch 7/100\n",
            "31/31 [==============================] - 2s 75ms/step - loss: 0.0861 - categorical_accuracy: 0.8278 - f1_with_tfa: 0.5348 - val_loss: 0.0942 - val_categorical_accuracy: 0.8079 - val_f1_with_tfa: 0.5176\n",
            "Epoch 8/100\n",
            "31/31 [==============================] - 2s 75ms/step - loss: 0.0855 - categorical_accuracy: 0.8271 - f1_with_tfa: 0.5391 - val_loss: 0.0952 - val_categorical_accuracy: 0.7977 - val_f1_with_tfa: 0.5289\n",
            "Epoch 9/100\n",
            "31/31 [==============================] - 2s 78ms/step - loss: 0.0832 - categorical_accuracy: 0.8313 - f1_with_tfa: 0.5471 - val_loss: 0.0853 - val_categorical_accuracy: 0.8234 - val_f1_with_tfa: 0.5477\n",
            "Epoch 10/100\n",
            "31/31 [==============================] - 2s 77ms/step - loss: 0.0796 - categorical_accuracy: 0.8370 - f1_with_tfa: 0.5695 - val_loss: 0.0840 - val_categorical_accuracy: 0.8283 - val_f1_with_tfa: 0.5494\n",
            "Epoch 11/100\n",
            "31/31 [==============================] - 2s 75ms/step - loss: 0.0794 - categorical_accuracy: 0.8360 - f1_with_tfa: 0.5700 - val_loss: 0.0876 - val_categorical_accuracy: 0.8136 - val_f1_with_tfa: 0.5636\n",
            "Epoch 12/100\n",
            "31/31 [==============================] - 2s 75ms/step - loss: 0.0765 - categorical_accuracy: 0.8426 - f1_with_tfa: 0.5826 - val_loss: 0.0851 - val_categorical_accuracy: 0.8193 - val_f1_with_tfa: 0.5492\n",
            "Epoch 13/100\n",
            "31/31 [==============================] - 2s 76ms/step - loss: 0.0769 - categorical_accuracy: 0.8431 - f1_with_tfa: 0.5875 - val_loss: 0.0874 - val_categorical_accuracy: 0.8113 - val_f1_with_tfa: 0.5306\n",
            "Epoch 14/100\n",
            "31/31 [==============================] - 2s 79ms/step - loss: 0.0755 - categorical_accuracy: 0.8468 - f1_with_tfa: 0.5961 - val_loss: 0.0800 - val_categorical_accuracy: 0.8345 - val_f1_with_tfa: 0.5868\n",
            "Epoch 15/100\n",
            "31/31 [==============================] - 2s 76ms/step - loss: 0.0736 - categorical_accuracy: 0.8495 - f1_with_tfa: 0.5975 - val_loss: 0.0808 - val_categorical_accuracy: 0.8399 - val_f1_with_tfa: 0.5864\n",
            "Epoch 16/100\n",
            "31/31 [==============================] - 2s 76ms/step - loss: 0.0760 - categorical_accuracy: 0.8445 - f1_with_tfa: 0.5896 - val_loss: 0.0855 - val_categorical_accuracy: 0.8135 - val_f1_with_tfa: 0.5555\n",
            "Epoch 17/100\n",
            "31/31 [==============================] - 2s 76ms/step - loss: 0.0753 - categorical_accuracy: 0.8498 - f1_with_tfa: 0.6084 - val_loss: 0.0828 - val_categorical_accuracy: 0.8243 - val_f1_with_tfa: 0.5586\n",
            "Epoch 18/100\n",
            "31/31 [==============================] - 2s 79ms/step - loss: 0.0713 - categorical_accuracy: 0.8565 - f1_with_tfa: 0.6141 - val_loss: 0.0821 - val_categorical_accuracy: 0.8262 - val_f1_with_tfa: 0.5931\n",
            "Epoch 19/100\n",
            "31/31 [==============================] - 2s 79ms/step - loss: 0.0716 - categorical_accuracy: 0.8526 - f1_with_tfa: 0.6170 - val_loss: 0.0852 - val_categorical_accuracy: 0.8152 - val_f1_with_tfa: 0.5853\n",
            "Epoch 20/100\n",
            "31/31 [==============================] - 2s 76ms/step - loss: 0.0696 - categorical_accuracy: 0.8582 - f1_with_tfa: 0.6326 - val_loss: 0.0812 - val_categorical_accuracy: 0.8276 - val_f1_with_tfa: 0.6013\n",
            "Epoch 21/100\n",
            "31/31 [==============================] - 2s 75ms/step - loss: 0.0709 - categorical_accuracy: 0.8530 - f1_with_tfa: 0.6307 - val_loss: 0.0840 - val_categorical_accuracy: 0.8209 - val_f1_with_tfa: 0.6006\n",
            "Epoch 22/100\n",
            "31/31 [==============================] - 2s 76ms/step - loss: 0.0680 - categorical_accuracy: 0.8619 - f1_with_tfa: 0.6360 - val_loss: 0.0813 - val_categorical_accuracy: 0.8265 - val_f1_with_tfa: 0.6003\n",
            "Epoch 23/100\n",
            "31/31 [==============================] - 2s 76ms/step - loss: 0.0678 - categorical_accuracy: 0.8613 - f1_with_tfa: 0.6397 - val_loss: 0.0839 - val_categorical_accuracy: 0.8188 - val_f1_with_tfa: 0.5956\n",
            "Epoch 24/100\n",
            "31/31 [==============================] - 2s 76ms/step - loss: 0.0689 - categorical_accuracy: 0.8608 - f1_with_tfa: 0.6392 - val_loss: 0.0803 - val_categorical_accuracy: 0.8280 - val_f1_with_tfa: 0.5738\n",
            "Epoch 25/100\n",
            "31/31 [==============================] - 2s 76ms/step - loss: 0.0663 - categorical_accuracy: 0.8668 - f1_with_tfa: 0.6495 - val_loss: 0.0769 - val_categorical_accuracy: 0.8313 - val_f1_with_tfa: 0.5827\n"
          ]
        }
      ],
      "source": [
        "# Train the best model for 10 epochs\n",
        "best_bigru = tuner_bigru.hypermodel.build(best_hps_bigru)\n",
        "best_bigru.fit(X_train, Y_train, epochs=epochs_training,batch_size=batch_size_training ,validation_data=(X_val, Y_val),callbacks=callbacks_training)\n",
        "best_bigru.save('models/bigru.h5')"
      ]
    },
    {
      "cell_type": "markdown",
      "metadata": {
        "id": "192ii6o_mflM"
      },
      "source": [
        "### Model 3:  Two Bidirectional LSMT + Dense layer "
      ]
    },
    {
      "cell_type": "code",
      "execution_count": null,
      "metadata": {
        "id": "bW45UO6vJrG0"
      },
      "outputs": [],
      "source": [
        "# Train the best model for 10 epochs\n",
        "best_two_bilstm= tuner_two_bilstm.hypermodel.build(best_hps_two_bilstm)\n",
        "best_two_bilstm.fit(X_train, Y_train, epochs=epochs_training,batch_size=batch_size_training ,validation_data=(X_val, Y_val),callbacks=callbacks_training)\n",
        "best_two_bilstm.save('models/two_bilstm.h5')"
      ]
    },
    {
      "cell_type": "markdown",
      "metadata": {
        "id": "bI6HISQ9mzrT"
      },
      "source": [
        "### Model 4: Bidirectional LSMT + two Dense layer "
      ]
    },
    {
      "cell_type": "code",
      "execution_count": null,
      "metadata": {
        "colab": {
          "base_uri": "https://localhost:8080/"
        },
        "id": "o5pUsBvi_NDa",
        "outputId": "4b538e53-f931-44fe-e484-52ec704798ed"
      },
      "outputs": [
        {
          "name": "stdout",
          "output_type": "stream",
          "text": [
            "Epoch 1/100\n",
            "31/31 [==============================] - 13s 192ms/step - loss: 0.7400 - categorical_accuracy: 0.1971 - f1_with_tfa: 0.0237 - val_loss: 0.3047 - val_categorical_accuracy: 0.3074 - val_f1_with_tfa: 0.0426\n",
            "Epoch 2/100\n",
            "31/31 [==============================] - 2s 77ms/step - loss: 0.2187 - categorical_accuracy: 0.4400 - f1_with_tfa: 0.0977 - val_loss: 0.1668 - val_categorical_accuracy: 0.5810 - val_f1_with_tfa: 0.2200\n",
            "Epoch 3/100\n",
            "31/31 [==============================] - 2s 76ms/step - loss: 0.1424 - categorical_accuracy: 0.6302 - f1_with_tfa: 0.2660 - val_loss: 0.1229 - val_categorical_accuracy: 0.6955 - val_f1_with_tfa: 0.3437\n",
            "Epoch 4/100\n",
            "31/31 [==============================] - 2s 80ms/step - loss: 0.1096 - categorical_accuracy: 0.7339 - f1_with_tfa: 0.3763 - val_loss: 0.1008 - val_categorical_accuracy: 0.7597 - val_f1_with_tfa: 0.4091\n",
            "Epoch 5/100\n",
            "31/31 [==============================] - 2s 76ms/step - loss: 0.0947 - categorical_accuracy: 0.7703 - f1_with_tfa: 0.4204 - val_loss: 0.1014 - val_categorical_accuracy: 0.7526 - val_f1_with_tfa: 0.4311\n",
            "Epoch 6/100\n",
            "31/31 [==============================] - 2s 80ms/step - loss: 0.0882 - categorical_accuracy: 0.7908 - f1_with_tfa: 0.4506 - val_loss: 0.0887 - val_categorical_accuracy: 0.7899 - val_f1_with_tfa: 0.4790\n",
            "Epoch 7/100\n",
            "31/31 [==============================] - 2s 77ms/step - loss: 0.0801 - categorical_accuracy: 0.8100 - f1_with_tfa: 0.4851 - val_loss: 0.0831 - val_categorical_accuracy: 0.8091 - val_f1_with_tfa: 0.4972\n",
            "Epoch 8/100\n",
            "31/31 [==============================] - 2s 79ms/step - loss: 0.0779 - categorical_accuracy: 0.8138 - f1_with_tfa: 0.4965 - val_loss: 0.0830 - val_categorical_accuracy: 0.8045 - val_f1_with_tfa: 0.5142\n",
            "Epoch 9/100\n",
            "31/31 [==============================] - 2s 78ms/step - loss: 0.0742 - categorical_accuracy: 0.8234 - f1_with_tfa: 0.5135 - val_loss: 0.0756 - val_categorical_accuracy: 0.8262 - val_f1_with_tfa: 0.5334\n",
            "Epoch 10/100\n",
            "31/31 [==============================] - 2s 78ms/step - loss: 0.0692 - categorical_accuracy: 0.8353 - f1_with_tfa: 0.5354 - val_loss: 0.0741 - val_categorical_accuracy: 0.8188 - val_f1_with_tfa: 0.5261\n",
            "Epoch 11/100\n",
            "31/31 [==============================] - 2s 78ms/step - loss: 0.0692 - categorical_accuracy: 0.8367 - f1_with_tfa: 0.5401 - val_loss: 0.0757 - val_categorical_accuracy: 0.8242 - val_f1_with_tfa: 0.5559\n",
            "Epoch 12/100\n",
            "31/31 [==============================] - 2s 79ms/step - loss: 0.0664 - categorical_accuracy: 0.8442 - f1_with_tfa: 0.5396 - val_loss: 0.0736 - val_categorical_accuracy: 0.8260 - val_f1_with_tfa: 0.5717\n",
            "Epoch 13/100\n",
            "31/31 [==============================] - 2s 80ms/step - loss: 0.0660 - categorical_accuracy: 0.8443 - f1_with_tfa: 0.5461 - val_loss: 0.0732 - val_categorical_accuracy: 0.8285 - val_f1_with_tfa: 0.5928\n",
            "Epoch 14/100\n",
            "31/31 [==============================] - 2s 77ms/step - loss: 0.0640 - categorical_accuracy: 0.8495 - f1_with_tfa: 0.5590 - val_loss: 0.0699 - val_categorical_accuracy: 0.8370 - val_f1_with_tfa: 0.5583\n",
            "Epoch 15/100\n",
            "31/31 [==============================] - 2s 78ms/step - loss: 0.0627 - categorical_accuracy: 0.8512 - f1_with_tfa: 0.5578 - val_loss: 0.0661 - val_categorical_accuracy: 0.8462 - val_f1_with_tfa: 0.6026\n",
            "Epoch 16/100\n",
            "31/31 [==============================] - 2s 77ms/step - loss: 0.0611 - categorical_accuracy: 0.8556 - f1_with_tfa: 0.5573 - val_loss: 0.0667 - val_categorical_accuracy: 0.8462 - val_f1_with_tfa: 0.5914\n",
            "Epoch 17/100\n",
            "31/31 [==============================] - 2s 79ms/step - loss: 0.0595 - categorical_accuracy: 0.8599 - f1_with_tfa: 0.5627 - val_loss: 0.0678 - val_categorical_accuracy: 0.8438 - val_f1_with_tfa: 0.5626\n",
            "Epoch 18/100\n",
            "31/31 [==============================] - 2s 78ms/step - loss: 0.0593 - categorical_accuracy: 0.8632 - f1_with_tfa: 0.5757 - val_loss: 0.0642 - val_categorical_accuracy: 0.8550 - val_f1_with_tfa: 0.5833\n",
            "Epoch 19/100\n",
            "31/31 [==============================] - 2s 78ms/step - loss: 0.0567 - categorical_accuracy: 0.8686 - f1_with_tfa: 0.5833 - val_loss: 0.0655 - val_categorical_accuracy: 0.8503 - val_f1_with_tfa: 0.6003\n",
            "Epoch 20/100\n",
            "31/31 [==============================] - 3s 93ms/step - loss: 0.0587 - categorical_accuracy: 0.8622 - f1_with_tfa: 0.5734 - val_loss: 0.0721 - val_categorical_accuracy: 0.8333 - val_f1_with_tfa: 0.5841\n",
            "Epoch 21/100\n",
            "31/31 [==============================] - 2s 77ms/step - loss: 0.0606 - categorical_accuracy: 0.8599 - f1_with_tfa: 0.5789 - val_loss: 0.0720 - val_categorical_accuracy: 0.8419 - val_f1_with_tfa: 0.5767\n",
            "Epoch 22/100\n",
            "31/31 [==============================] - 2s 79ms/step - loss: 0.0570 - categorical_accuracy: 0.8686 - f1_with_tfa: 0.6001 - val_loss: 0.0661 - val_categorical_accuracy: 0.8437 - val_f1_with_tfa: 0.5576\n",
            "Epoch 23/100\n",
            "31/31 [==============================] - 2s 77ms/step - loss: 0.0572 - categorical_accuracy: 0.8692 - f1_with_tfa: 0.5944 - val_loss: 0.0632 - val_categorical_accuracy: 0.8624 - val_f1_with_tfa: 0.6232\n",
            "Epoch 24/100\n",
            "31/31 [==============================] - 2s 77ms/step - loss: 0.0536 - categorical_accuracy: 0.8780 - f1_with_tfa: 0.6108 - val_loss: 0.0665 - val_categorical_accuracy: 0.8401 - val_f1_with_tfa: 0.5924\n",
            "Epoch 25/100\n",
            "31/31 [==============================] - 2s 79ms/step - loss: 0.0537 - categorical_accuracy: 0.8761 - f1_with_tfa: 0.5931 - val_loss: 0.0618 - val_categorical_accuracy: 0.8573 - val_f1_with_tfa: 0.6252\n",
            "Epoch 26/100\n",
            "31/31 [==============================] - 2s 78ms/step - loss: 0.0542 - categorical_accuracy: 0.8743 - f1_with_tfa: 0.6049 - val_loss: 0.0602 - val_categorical_accuracy: 0.8619 - val_f1_with_tfa: 0.5993\n",
            "Epoch 27/100\n",
            "31/31 [==============================] - 2s 79ms/step - loss: 0.0535 - categorical_accuracy: 0.8795 - f1_with_tfa: 0.6048 - val_loss: 0.0622 - val_categorical_accuracy: 0.8550 - val_f1_with_tfa: 0.5946\n",
            "Epoch 28/100\n",
            "31/31 [==============================] - 2s 79ms/step - loss: 0.0539 - categorical_accuracy: 0.8792 - f1_with_tfa: 0.6035 - val_loss: 0.0628 - val_categorical_accuracy: 0.8662 - val_f1_with_tfa: 0.6366\n",
            "Epoch 29/100\n",
            "31/31 [==============================] - 2s 80ms/step - loss: 0.0519 - categorical_accuracy: 0.8827 - f1_with_tfa: 0.6158 - val_loss: 0.0611 - val_categorical_accuracy: 0.8628 - val_f1_with_tfa: 0.6141\n",
            "Epoch 30/100\n",
            "31/31 [==============================] - 2s 77ms/step - loss: 0.0503 - categorical_accuracy: 0.8857 - f1_with_tfa: 0.6148 - val_loss: 0.0623 - val_categorical_accuracy: 0.8537 - val_f1_with_tfa: 0.6164\n",
            "Epoch 31/100\n",
            "31/31 [==============================] - 2s 78ms/step - loss: 0.0528 - categorical_accuracy: 0.8814 - f1_with_tfa: 0.6051 - val_loss: 0.0612 - val_categorical_accuracy: 0.8626 - val_f1_with_tfa: 0.6253\n",
            "Epoch 32/100\n",
            "31/31 [==============================] - 2s 77ms/step - loss: 0.0497 - categorical_accuracy: 0.8878 - f1_with_tfa: 0.6239 - val_loss: 0.0577 - val_categorical_accuracy: 0.8702 - val_f1_with_tfa: 0.6424\n",
            "Epoch 33/100\n",
            "31/31 [==============================] - 2s 78ms/step - loss: 0.0521 - categorical_accuracy: 0.8841 - f1_with_tfa: 0.6276 - val_loss: 0.0609 - val_categorical_accuracy: 0.8668 - val_f1_with_tfa: 0.6077\n",
            "Epoch 34/100\n",
            "31/31 [==============================] - 2s 78ms/step - loss: 0.0496 - categorical_accuracy: 0.8899 - f1_with_tfa: 0.6244 - val_loss: 0.0621 - val_categorical_accuracy: 0.8550 - val_f1_with_tfa: 0.6162\n",
            "Epoch 35/100\n",
            "31/31 [==============================] - 2s 78ms/step - loss: 0.0503 - categorical_accuracy: 0.8883 - f1_with_tfa: 0.6367 - val_loss: 0.0642 - val_categorical_accuracy: 0.8633 - val_f1_with_tfa: 0.6367\n",
            "Epoch 36/100\n",
            "31/31 [==============================] - 2s 78ms/step - loss: 0.0475 - categorical_accuracy: 0.8957 - f1_with_tfa: 0.6426 - val_loss: 0.0569 - val_categorical_accuracy: 0.8729 - val_f1_with_tfa: 0.6534\n",
            "Epoch 37/100\n",
            "31/31 [==============================] - 2s 79ms/step - loss: 0.0477 - categorical_accuracy: 0.8951 - f1_with_tfa: 0.6419 - val_loss: 0.0695 - val_categorical_accuracy: 0.8491 - val_f1_with_tfa: 0.5981\n",
            "Epoch 38/100\n",
            "31/31 [==============================] - 2s 79ms/step - loss: 0.0494 - categorical_accuracy: 0.8933 - f1_with_tfa: 0.6546 - val_loss: 0.0636 - val_categorical_accuracy: 0.8587 - val_f1_with_tfa: 0.6244\n",
            "Epoch 39/100\n",
            "31/31 [==============================] - 2s 79ms/step - loss: 0.0509 - categorical_accuracy: 0.8910 - f1_with_tfa: 0.6408 - val_loss: 0.0627 - val_categorical_accuracy: 0.8679 - val_f1_with_tfa: 0.6293\n",
            "Epoch 40/100\n",
            "31/31 [==============================] - 2s 77ms/step - loss: 0.0462 - categorical_accuracy: 0.9003 - f1_with_tfa: 0.6594 - val_loss: 0.0596 - val_categorical_accuracy: 0.8708 - val_f1_with_tfa: 0.6360\n",
            "Epoch 41/100\n",
            "31/31 [==============================] - 2s 77ms/step - loss: 0.0471 - categorical_accuracy: 0.8996 - f1_with_tfa: 0.6622 - val_loss: 0.0623 - val_categorical_accuracy: 0.8587 - val_f1_with_tfa: 0.6145\n",
            "Epoch 42/100\n",
            "31/31 [==============================] - 2s 78ms/step - loss: 0.0463 - categorical_accuracy: 0.9012 - f1_with_tfa: 0.6595 - val_loss: 0.0616 - val_categorical_accuracy: 0.8671 - val_f1_with_tfa: 0.6410\n",
            "Epoch 43/100\n",
            "31/31 [==============================] - 2s 77ms/step - loss: 0.0451 - categorical_accuracy: 0.9061 - f1_with_tfa: 0.6670 - val_loss: 0.0649 - val_categorical_accuracy: 0.8563 - val_f1_with_tfa: 0.6034\n",
            "Epoch 44/100\n",
            "31/31 [==============================] - 2s 79ms/step - loss: 0.0462 - categorical_accuracy: 0.9020 - f1_with_tfa: 0.6713 - val_loss: 0.0660 - val_categorical_accuracy: 0.8633 - val_f1_with_tfa: 0.6349\n",
            "Epoch 45/100\n",
            "31/31 [==============================] - 2s 78ms/step - loss: 0.0465 - categorical_accuracy: 0.9041 - f1_with_tfa: 0.6688 - val_loss: 0.0616 - val_categorical_accuracy: 0.8726 - val_f1_with_tfa: 0.6469\n",
            "Epoch 46/100\n",
            "31/31 [==============================] - 2s 78ms/step - loss: 0.0454 - categorical_accuracy: 0.9071 - f1_with_tfa: 0.6746 - val_loss: 0.0580 - val_categorical_accuracy: 0.8782 - val_f1_with_tfa: 0.6459\n",
            "Epoch 47/100\n",
            "31/31 [==============================] - 2s 78ms/step - loss: 0.0437 - categorical_accuracy: 0.9106 - f1_with_tfa: 0.6732 - val_loss: 0.0647 - val_categorical_accuracy: 0.8657 - val_f1_with_tfa: 0.6258\n",
            "Epoch 48/100\n",
            "31/31 [==============================] - 2s 77ms/step - loss: 0.0451 - categorical_accuracy: 0.9089 - f1_with_tfa: 0.6841 - val_loss: 0.0655 - val_categorical_accuracy: 0.8679 - val_f1_with_tfa: 0.6177\n",
            "Epoch 49/100\n",
            "31/31 [==============================] - 2s 77ms/step - loss: 0.0459 - categorical_accuracy: 0.9085 - f1_with_tfa: 0.6807 - val_loss: 0.0704 - val_categorical_accuracy: 0.8643 - val_f1_with_tfa: 0.6242\n",
            "Epoch 50/100\n",
            "31/31 [==============================] - 2s 77ms/step - loss: 0.0440 - categorical_accuracy: 0.9139 - f1_with_tfa: 0.6846 - val_loss: 0.0660 - val_categorical_accuracy: 0.8643 - val_f1_with_tfa: 0.6359\n",
            "Epoch 51/100\n",
            "31/31 [==============================] - 2s 80ms/step - loss: 0.0439 - categorical_accuracy: 0.9150 - f1_with_tfa: 0.6857 - val_loss: 0.0667 - val_categorical_accuracy: 0.8620 - val_f1_with_tfa: 0.6340\n",
            "Epoch 52/100\n",
            "31/31 [==============================] - 2s 77ms/step - loss: 0.0440 - categorical_accuracy: 0.9152 - f1_with_tfa: 0.6878 - val_loss: 0.0664 - val_categorical_accuracy: 0.8685 - val_f1_with_tfa: 0.6298\n",
            "Epoch 53/100\n",
            "31/31 [==============================] - 2s 78ms/step - loss: 0.0430 - categorical_accuracy: 0.9175 - f1_with_tfa: 0.6929 - val_loss: 0.0729 - val_categorical_accuracy: 0.8423 - val_f1_with_tfa: 0.6254\n",
            "Epoch 54/100\n",
            "31/31 [==============================] - 2s 78ms/step - loss: 0.0469 - categorical_accuracy: 0.9143 - f1_with_tfa: 0.6908 - val_loss: 0.0687 - val_categorical_accuracy: 0.8556 - val_f1_with_tfa: 0.6128\n",
            "Epoch 55/100\n",
            "31/31 [==============================] - 2s 80ms/step - loss: 0.0448 - categorical_accuracy: 0.9174 - f1_with_tfa: 0.6901 - val_loss: 0.0728 - val_categorical_accuracy: 0.8561 - val_f1_with_tfa: 0.6360\n",
            "Epoch 56/100\n",
            "31/31 [==============================] - 2s 78ms/step - loss: 0.0409 - categorical_accuracy: 0.9262 - f1_with_tfa: 0.7069 - val_loss: 0.0638 - val_categorical_accuracy: 0.8709 - val_f1_with_tfa: 0.6161\n"
          ]
        }
      ],
      "source": [
        "# Train the best model for 10 epochs\n",
        "best_bilstm_two_dense = tuner_bilstm_two_dense.hypermodel.build(best_hps_bilstm_two_dense)\n",
        "best_bilstm_two_dense.fit(X_train, Y_train, epochs=epochs_training,batch_size=batch_size_training ,validation_data=(X_val, Y_val),callbacks=callbacks_training)\n",
        "best_bilstm_two_dense.save('models/bilstm_two_dense.h5')"
      ]
    },
    {
      "cell_type": "code",
      "execution_count": null,
      "metadata": {
        "colab": {
          "base_uri": "https://localhost:8080/"
        },
        "id": "wU7rP0PgTqvS",
        "outputId": "a62b8782-0923-4d93-8c0e-e6df3de061ab"
      },
      "outputs": [
        {
          "name": "stdout",
          "output_type": "stream",
          "text": [
            "F1 score of BiLSTM model: 0.5786025524139404\n",
            "F1 score of BiGRU model:0.6013060808181763\n",
            "F1 score of BiLSTM two dense model:0.6533931493759155\n"
          ]
        }
      ],
      "source": [
        "print(f\"F1 score of BiLSTM model: {max(best_bilstm.history.history['val_f1_with_tfa'])}\")\n",
        "print(f\"F1 score of BiGRU model:{max(best_bigru.history.history['val_f1_with_tfa'])}\")\n",
        "print(f\"F1 score of BiLSTM two dense model:{max(best_bilstm_two_dense.history.history['val_f1_with_tfa'])}\")\n"
      ]
    },
    {
      "cell_type": "code",
      "execution_count": null,
      "metadata": {
        "colab": {
          "base_uri": "https://localhost:8080/",
          "height": 37
        },
        "id": "OMsnvOM-LSdQ",
        "outputId": "0913a76d-7441-4fe2-c9db-d759f2bad427"
      },
      "outputs": [
        {
          "data": {
            "application/vnd.google.colaboratory.intrinsic+json": {
              "type": "string"
            },
            "text/plain": [
              "'/content/models/weights'"
            ]
          },
          "execution_count": 113,
          "metadata": {},
          "output_type": "execute_result"
        }
      ],
      "source": [
        "path_model_weights = os.path.join(os.getcwd(), 'models', 'weights')\n",
        "path_model_weights"
      ]
    },
    {
      "cell_type": "code",
      "execution_count": null,
      "metadata": {
        "colab": {
          "base_uri": "https://localhost:8080/",
          "height": 499
        },
        "id": "BWcd2Aai-CVB",
        "outputId": "c2b330a7-eb00-4ed4-89bb-89c3599548db"
      },
      "outputs": [
        {
          "ename": "OSError",
          "evalue": "ignored",
          "output_type": "error",
          "traceback": [
            "\u001b[0;31m---------------------------------------------------------------------------\u001b[0m",
            "\u001b[0;31mOSError\u001b[0m                                   Traceback (most recent call last)",
            "\u001b[0;32m<ipython-input-112-838f5527c530>\u001b[0m in \u001b[0;36m<module>\u001b[0;34m\u001b[0m\n\u001b[1;32m      1\u001b[0m \u001b[0;31m# store models weights\u001b[0m\u001b[0;34m\u001b[0m\u001b[0;34m\u001b[0m\u001b[0;34m\u001b[0m\u001b[0m\n\u001b[1;32m      2\u001b[0m \u001b[0;31m#best_bilstm.save_weights(os.path.join(path_model_weights, 'weights_bilstm.h5'))\u001b[0m\u001b[0;34m\u001b[0m\u001b[0;34m\u001b[0m\u001b[0;34m\u001b[0m\u001b[0m\n\u001b[0;32m----> 3\u001b[0;31m \u001b[0mbest_bigru\u001b[0m\u001b[0;34m.\u001b[0m\u001b[0msave_weights\u001b[0m\u001b[0;34m(\u001b[0m\u001b[0mos\u001b[0m\u001b[0;34m.\u001b[0m\u001b[0mpath\u001b[0m\u001b[0;34m.\u001b[0m\u001b[0mjoin\u001b[0m\u001b[0;34m(\u001b[0m\u001b[0mpath_model_weights\u001b[0m\u001b[0;34m,\u001b[0m \u001b[0;34m'weights_bigru.h5'\u001b[0m\u001b[0;34m)\u001b[0m\u001b[0;34m)\u001b[0m\u001b[0;34m\u001b[0m\u001b[0;34m\u001b[0m\u001b[0m\n\u001b[0m\u001b[1;32m      4\u001b[0m \u001b[0mbest_bilstm_two_dense\u001b[0m\u001b[0;34m.\u001b[0m\u001b[0msave_weights\u001b[0m\u001b[0;34m(\u001b[0m\u001b[0mos\u001b[0m\u001b[0;34m.\u001b[0m\u001b[0mpath\u001b[0m\u001b[0;34m.\u001b[0m\u001b[0mjoin\u001b[0m\u001b[0;34m(\u001b[0m\u001b[0mpath_model_weights\u001b[0m\u001b[0;34m,\u001b[0m \u001b[0;34m'weights_bilstm_two_dense.h5'\u001b[0m\u001b[0;34m)\u001b[0m\u001b[0;34m)\u001b[0m\u001b[0;34m\u001b[0m\u001b[0;34m\u001b[0m\u001b[0m\n",
            "\u001b[0;32m/usr/local/lib/python3.8/dist-packages/keras/utils/traceback_utils.py\u001b[0m in \u001b[0;36merror_handler\u001b[0;34m(*args, **kwargs)\u001b[0m\n\u001b[1;32m     65\u001b[0m     \u001b[0;32mexcept\u001b[0m \u001b[0mException\u001b[0m \u001b[0;32mas\u001b[0m \u001b[0me\u001b[0m\u001b[0;34m:\u001b[0m  \u001b[0;31m# pylint: disable=broad-except\u001b[0m\u001b[0;34m\u001b[0m\u001b[0;34m\u001b[0m\u001b[0m\n\u001b[1;32m     66\u001b[0m       \u001b[0mfiltered_tb\u001b[0m \u001b[0;34m=\u001b[0m \u001b[0m_process_traceback_frames\u001b[0m\u001b[0;34m(\u001b[0m\u001b[0me\u001b[0m\u001b[0;34m.\u001b[0m\u001b[0m__traceback__\u001b[0m\u001b[0;34m)\u001b[0m\u001b[0;34m\u001b[0m\u001b[0;34m\u001b[0m\u001b[0m\n\u001b[0;32m---> 67\u001b[0;31m       \u001b[0;32mraise\u001b[0m \u001b[0me\u001b[0m\u001b[0;34m.\u001b[0m\u001b[0mwith_traceback\u001b[0m\u001b[0;34m(\u001b[0m\u001b[0mfiltered_tb\u001b[0m\u001b[0;34m)\u001b[0m \u001b[0;32mfrom\u001b[0m \u001b[0;32mNone\u001b[0m\u001b[0;34m\u001b[0m\u001b[0;34m\u001b[0m\u001b[0m\n\u001b[0m\u001b[1;32m     68\u001b[0m     \u001b[0;32mfinally\u001b[0m\u001b[0;34m:\u001b[0m\u001b[0;34m\u001b[0m\u001b[0;34m\u001b[0m\u001b[0m\n\u001b[1;32m     69\u001b[0m       \u001b[0;32mdel\u001b[0m \u001b[0mfiltered_tb\u001b[0m\u001b[0;34m\u001b[0m\u001b[0;34m\u001b[0m\u001b[0m\n",
            "\u001b[0;32m/usr/local/lib/python3.8/dist-packages/h5py/_hl/files.py\u001b[0m in \u001b[0;36m__init__\u001b[0;34m(self, name, mode, driver, libver, userblock_size, swmr, rdcc_nslots, rdcc_nbytes, rdcc_w0, track_order, fs_strategy, fs_persist, fs_threshold, **kwds)\u001b[0m\n\u001b[1;32m    422\u001b[0m             \u001b[0;32mwith\u001b[0m \u001b[0mphil\u001b[0m\u001b[0;34m:\u001b[0m\u001b[0;34m\u001b[0m\u001b[0;34m\u001b[0m\u001b[0m\n\u001b[1;32m    423\u001b[0m                 \u001b[0mfapl\u001b[0m \u001b[0;34m=\u001b[0m \u001b[0mmake_fapl\u001b[0m\u001b[0;34m(\u001b[0m\u001b[0mdriver\u001b[0m\u001b[0;34m,\u001b[0m \u001b[0mlibver\u001b[0m\u001b[0;34m,\u001b[0m \u001b[0mrdcc_nslots\u001b[0m\u001b[0;34m,\u001b[0m \u001b[0mrdcc_nbytes\u001b[0m\u001b[0;34m,\u001b[0m \u001b[0mrdcc_w0\u001b[0m\u001b[0;34m,\u001b[0m \u001b[0;34m**\u001b[0m\u001b[0mkwds\u001b[0m\u001b[0;34m)\u001b[0m\u001b[0;34m\u001b[0m\u001b[0;34m\u001b[0m\u001b[0m\n\u001b[0;32m--> 424\u001b[0;31m                 fid = make_fid(name, mode, userblock_size,\n\u001b[0m\u001b[1;32m    425\u001b[0m                                fapl, fcpl=make_fcpl(track_order=track_order, fs_strategy=fs_strategy,\n\u001b[1;32m    426\u001b[0m                                fs_persist=fs_persist, fs_threshold=fs_threshold),\n",
            "\u001b[0;32m/usr/local/lib/python3.8/dist-packages/h5py/_hl/files.py\u001b[0m in \u001b[0;36mmake_fid\u001b[0;34m(name, mode, userblock_size, fapl, fcpl, swmr)\u001b[0m\n\u001b[1;32m    194\u001b[0m         \u001b[0mfid\u001b[0m \u001b[0;34m=\u001b[0m \u001b[0mh5f\u001b[0m\u001b[0;34m.\u001b[0m\u001b[0mcreate\u001b[0m\u001b[0;34m(\u001b[0m\u001b[0mname\u001b[0m\u001b[0;34m,\u001b[0m \u001b[0mh5f\u001b[0m\u001b[0;34m.\u001b[0m\u001b[0mACC_EXCL\u001b[0m\u001b[0;34m,\u001b[0m \u001b[0mfapl\u001b[0m\u001b[0;34m=\u001b[0m\u001b[0mfapl\u001b[0m\u001b[0;34m,\u001b[0m \u001b[0mfcpl\u001b[0m\u001b[0;34m=\u001b[0m\u001b[0mfcpl\u001b[0m\u001b[0;34m)\u001b[0m\u001b[0;34m\u001b[0m\u001b[0;34m\u001b[0m\u001b[0m\n\u001b[1;32m    195\u001b[0m     \u001b[0;32melif\u001b[0m \u001b[0mmode\u001b[0m \u001b[0;34m==\u001b[0m \u001b[0;34m'w'\u001b[0m\u001b[0;34m:\u001b[0m\u001b[0;34m\u001b[0m\u001b[0;34m\u001b[0m\u001b[0m\n\u001b[0;32m--> 196\u001b[0;31m         \u001b[0mfid\u001b[0m \u001b[0;34m=\u001b[0m \u001b[0mh5f\u001b[0m\u001b[0;34m.\u001b[0m\u001b[0mcreate\u001b[0m\u001b[0;34m(\u001b[0m\u001b[0mname\u001b[0m\u001b[0;34m,\u001b[0m \u001b[0mh5f\u001b[0m\u001b[0;34m.\u001b[0m\u001b[0mACC_TRUNC\u001b[0m\u001b[0;34m,\u001b[0m \u001b[0mfapl\u001b[0m\u001b[0;34m=\u001b[0m\u001b[0mfapl\u001b[0m\u001b[0;34m,\u001b[0m \u001b[0mfcpl\u001b[0m\u001b[0;34m=\u001b[0m\u001b[0mfcpl\u001b[0m\u001b[0;34m)\u001b[0m\u001b[0;34m\u001b[0m\u001b[0;34m\u001b[0m\u001b[0m\n\u001b[0m\u001b[1;32m    197\u001b[0m     \u001b[0;32melif\u001b[0m \u001b[0mmode\u001b[0m \u001b[0;34m==\u001b[0m \u001b[0;34m'a'\u001b[0m\u001b[0;34m:\u001b[0m\u001b[0;34m\u001b[0m\u001b[0;34m\u001b[0m\u001b[0m\n\u001b[1;32m    198\u001b[0m         \u001b[0;31m# Open in append mode (read/write).\u001b[0m\u001b[0;34m\u001b[0m\u001b[0;34m\u001b[0m\u001b[0;34m\u001b[0m\u001b[0m\n",
            "\u001b[0;32mh5py/_objects.pyx\u001b[0m in \u001b[0;36mh5py._objects.with_phil.wrapper\u001b[0;34m()\u001b[0m\n",
            "\u001b[0;32mh5py/_objects.pyx\u001b[0m in \u001b[0;36mh5py._objects.with_phil.wrapper\u001b[0;34m()\u001b[0m\n",
            "\u001b[0;32mh5py/h5f.pyx\u001b[0m in \u001b[0;36mh5py.h5f.create\u001b[0;34m()\u001b[0m\n",
            "\u001b[0;31mOSError\u001b[0m: Unable to create file (unable to open file: name = '/content/models/weights/weights_bigru.h5', errno = 2, error message = 'No such file or directory', flags = 13, o_flags = 242)"
          ]
        }
      ],
      "source": [
        "# store models weights\n",
        "#best_bilstm.save_weights(os.path.join(path_model_weights, 'weights_bilstm.h5'))\n",
        "best_bigru.save_weights(os.path.join(path_model_weights, 'weights_bigru.h5'))\n",
        "best_bilstm_two_dense.save_weights(os.path.join(path_model_weights, 'weights_bilstm_two_dense.h5'))\n"
      ]
    },
    {
      "cell_type": "code",
      "execution_count": null,
      "metadata": {
        "id": "K9EbRiqVDBfA"
      },
      "outputs": [],
      "source": [
        "path_model_structure = os.path.join(os.getcwd(), 'models', 'structure')\n",
        "os.mkdir(path_model_structure)"
      ]
    },
    {
      "cell_type": "markdown",
      "metadata": {
        "id": "VPIx4Jen-KFo"
      },
      "source": [
        "2.3.2 Load all the pre-trained models"
      ]
    },
    {
      "cell_type": "markdown",
      "metadata": {
        "id": "Nfy1sYST-bIK"
      },
      "source": [
        "## History"
      ]
    },
    {
      "cell_type": "code",
      "execution_count": null,
      "metadata": {
        "id": "nEBJLzJZ-fPc"
      },
      "outputs": [],
      "source": [
        "import matplotlib.pyplot as plt \n",
        "\n"
      ]
    },
    {
      "cell_type": "code",
      "execution_count": null,
      "metadata": {
        "id": "TetwUETm-cub"
      },
      "outputs": [],
      "source": [
        "def plot_history(models_history, keys, model_names=[], labels=(\"epochs\", \"metrics\"), y_scale=\"linear\", figsize=(10,5), cmap='rainbow'):\n",
        "    \"\"\"\n",
        "    Plot the history of the metrics in the history dictionary for each model.\n",
        "        :param models_history: array of dictionary of the metric history for each model\n",
        "        :param keys: list of keys of the metrics to plot\n",
        "        :param model_names: list of names of the models\n",
        "        :param labels: list of labels of the axes\n",
        "        :param figsize: size of the figure\n",
        "        :param cmap: color map used for the plot\n",
        "    \"\"\"\n",
        "\n",
        "    # maps each model to a distinct RGB color\n",
        "    cmap = plt.cm.get_cmap(cmap, len(models_history))\n",
        "\n",
        "    \n",
        "    fig = plt.figure(figsize=figsize)\n",
        "\n",
        "    # for each model trained\n",
        "    for i, history in enumerate(models_history):\n",
        "        # take all pairs of training and val metrics\n",
        "        for j in range(0, len(keys), 2):\n",
        "            metric, val_metric = keys[j], keys[j+1]\n",
        "            \n",
        "            plt.plot(history[metric], label=f\"{model_names[i]} {metric}\", linestyle=\"solid\", color=cmap(i))\n",
        "            plt.plot(history[val_metric],  label=f\"{model_names[i]} {val_metric}\", linestyle=\"--\",  color=cmap(i))\n",
        "        \n",
        "    plt.xlabel(labels[0])\n",
        "    plt.ylabel(labels[1])\n",
        "    plt.yscale(y_scale)\n",
        "\n",
        "    # Adding legend\n",
        "    plt.legend(\n",
        "          title =\"Legend\",\n",
        "          loc =\"best\",\n",
        "          bbox_to_anchor=(1.0,0.6))\n",
        "    plt.title(\"Training history\")\n",
        "    plt.grid(linestyle='--', linewidth=1)\n",
        "    plt.show()"
      ]
    },
    {
      "cell_type": "code",
      "execution_count": null,
      "metadata": {
        "colab": {
          "base_uri": "https://localhost:8080/",
          "height": 899
        },
        "id": "bNZ10Hhv-hAF",
        "outputId": "5f2686db-edff-44a9-ab75-202d417708a9"
      },
      "outputs": [
        {
          "data": {
            "image/png": "[encoded data removed]",
            "text/plain": [
              "<Figure size 1080x504 with 1 Axes>"
            ]
          },
          "metadata": {},
          "output_type": "display_data"
        },
        {
          "data": {
            "image/png": "[encoded data removed]",
            "text/plain": [
              "<Figure size 1080x504 with 1 Axes>"
            ]
          },
          "metadata": {},
          "output_type": "display_data"
        }
      ],
      "source": [
        "models_history = [history_bilstm, history_bigru, history_two_bilstm, history_bilstm_two_dense]\n",
        "model_names = [\"BiLSTM\", \"BiGRU\", \"2 BiLSTM\", \"BiLSTM + 2 Dense\"]\n",
        "plot_history(models_history, keys=['loss', 'val_loss'], model_names=model_names, labels=(\"epochs\", \"loss\"), y_scale=\"log\", figsize=(15,7),  cmap='bwr')\n",
        "plot_history(models_history, keys=['categorical_accuracy', 'val_categorical_accuracy'], model_names=model_names, labels=(\"epochs\", \"accuracy\"), figsize=(15,7),  cmap='bwr')\n"
      ]
    },
    {
      "cell_type": "markdown",
      "metadata": {
        "id": "sqv3LGX9vS16"
      },
      "source": [
        "### Training\n",
        "\n",
        "History of the training: leonidas"
      ]
    },
    {
      "cell_type": "markdown",
      "metadata": {
        "id": "9WVSm-NNuJEz"
      },
      "source": [
        "## Model Evaluation\n"
      ]
    },
    {
      "cell_type": "code",
      "execution_count": null,
      "metadata": {
        "id": "az2RQepRvOkk"
      },
      "outputs": [],
      "source": [
        "  # Select the two best models based on the validation ignore accuracy\n",
        "  best_first_model = load_model('/content/models/bilstm_two_dense.h5',compile=False)\n",
        "\n",
        "  best_second_model = load_model('/content/models/bigru.h5',compile=False)\n",
        "\n",
        "  # Compile the models\n",
        "  best_first_model.compile(optimizer='adam', loss='categorical_crossentropy', metrics=['accuracy'])\n",
        "  best_second_model.compile(optimizer='adam', loss='categorical_crossentropy', metrics=['accuracy'])"
      ]
    },
    {
      "cell_type": "code",
      "execution_count": null,
      "metadata": {
        "colab": {
          "base_uri": "https://localhost:8080/",
          "height": 356
        },
        "id": "dngFcwVjFVs-",
        "outputId": "5338f703-f62a-4002-8572-d7f500ca7c66"
      },
      "outputs": [
        {
          "ename": "ValueError",
          "evalue": "ignored",
          "output_type": "error",
          "traceback": [
            "\u001b[0;31m---------------------------------------------------------------------------\u001b[0m",
            "\u001b[0;31mValueError\u001b[0m                                Traceback (most recent call last)",
            "\u001b[0;32m<ipython-input-115-b1e075866c8e>\u001b[0m in \u001b[0;36m<module>\u001b[0;34m\u001b[0m\n\u001b[0;32m----> 1\u001b[0;31m \u001b[0mplot_model\u001b[0m\u001b[0;34m(\u001b[0m\u001b[0mtuner_bilstm\u001b[0m\u001b[0;34m.\u001b[0m\u001b[0mget_best_models\u001b[0m\u001b[0;34m(\u001b[0m\u001b[0;34m)\u001b[0m\u001b[0;34m[\u001b[0m\u001b[0;36m0\u001b[0m\u001b[0;34m]\u001b[0m\u001b[0;34m,\u001b[0m \u001b[0mshow_shapes\u001b[0m\u001b[0;34m=\u001b[0m\u001b[0;32mTrue\u001b[0m\u001b[0;34m,\u001b[0m \u001b[0mshow_layer_names\u001b[0m\u001b[0;34m=\u001b[0m\u001b[0;32mTrue\u001b[0m\u001b[0;34m)\u001b[0m\u001b[0;34m\u001b[0m\u001b[0;34m\u001b[0m\u001b[0m\n\u001b[0m",
            "\u001b[0;32m/usr/local/lib/python3.8/dist-packages/keras_tuner/engine/tuner.py\u001b[0m in \u001b[0;36mget_best_models\u001b[0;34m(self, num_models)\u001b[0m\n\u001b[1;32m    372\u001b[0m         \"\"\"\n\u001b[1;32m    373\u001b[0m         \u001b[0;31m# Method only exists in this class for the docstring override.\u001b[0m\u001b[0;34m\u001b[0m\u001b[0;34m\u001b[0m\u001b[0;34m\u001b[0m\u001b[0m\n\u001b[0;32m--> 374\u001b[0;31m         \u001b[0;32mreturn\u001b[0m \u001b[0msuper\u001b[0m\u001b[0;34m(\u001b[0m\u001b[0mTuner\u001b[0m\u001b[0;34m,\u001b[0m \u001b[0mself\u001b[0m\u001b[0;34m)\u001b[0m\u001b[0;34m.\u001b[0m\u001b[0mget_best_models\u001b[0m\u001b[0;34m(\u001b[0m\u001b[0mnum_models\u001b[0m\u001b[0;34m)\u001b[0m\u001b[0;34m\u001b[0m\u001b[0;34m\u001b[0m\u001b[0m\n\u001b[0m\u001b[1;32m    375\u001b[0m \u001b[0;34m\u001b[0m\u001b[0m\n\u001b[1;32m    376\u001b[0m     \u001b[0;32mdef\u001b[0m \u001b[0m_deepcopy_callbacks\u001b[0m\u001b[0;34m(\u001b[0m\u001b[0mself\u001b[0m\u001b[0;34m,\u001b[0m \u001b[0mcallbacks\u001b[0m\u001b[0;34m)\u001b[0m\u001b[0;34m:\u001b[0m\u001b[0;34m\u001b[0m\u001b[0;34m\u001b[0m\u001b[0m\n",
            "\u001b[0;32m/usr/local/lib/python3.8/dist-packages/keras_tuner/engine/base_tuner.py\u001b[0m in \u001b[0;36mget_best_models\u001b[0;34m(self, num_models)\u001b[0m\n\u001b[1;32m    294\u001b[0m         \"\"\"\n\u001b[1;32m    295\u001b[0m         \u001b[0mbest_trials\u001b[0m \u001b[0;34m=\u001b[0m \u001b[0mself\u001b[0m\u001b[0;34m.\u001b[0m\u001b[0moracle\u001b[0m\u001b[0;34m.\u001b[0m\u001b[0mget_best_trials\u001b[0m\u001b[0;34m(\u001b[0m\u001b[0mnum_models\u001b[0m\u001b[0;34m)\u001b[0m\u001b[0;34m\u001b[0m\u001b[0;34m\u001b[0m\u001b[0m\n\u001b[0;32m--> 296\u001b[0;31m         \u001b[0mmodels\u001b[0m \u001b[0;34m=\u001b[0m \u001b[0;34m[\u001b[0m\u001b[0mself\u001b[0m\u001b[0;34m.\u001b[0m\u001b[0mload_model\u001b[0m\u001b[0;34m(\u001b[0m\u001b[0mtrial\u001b[0m\u001b[0;34m)\u001b[0m \u001b[0;32mfor\u001b[0m \u001b[0mtrial\u001b[0m \u001b[0;32min\u001b[0m \u001b[0mbest_trials\u001b[0m\u001b[0;34m]\u001b[0m\u001b[0;34m\u001b[0m\u001b[0;34m\u001b[0m\u001b[0m\n\u001b[0m\u001b[1;32m    297\u001b[0m         \u001b[0;32mreturn\u001b[0m \u001b[0mmodels\u001b[0m\u001b[0;34m\u001b[0m\u001b[0;34m\u001b[0m\u001b[0m\n\u001b[1;32m    298\u001b[0m \u001b[0;34m\u001b[0m\u001b[0m\n",
            "\u001b[0;32m/usr/local/lib/python3.8/dist-packages/keras_tuner/engine/base_tuner.py\u001b[0m in \u001b[0;36m<listcomp>\u001b[0;34m(.0)\u001b[0m\n\u001b[1;32m    294\u001b[0m         \"\"\"\n\u001b[1;32m    295\u001b[0m         \u001b[0mbest_trials\u001b[0m \u001b[0;34m=\u001b[0m \u001b[0mself\u001b[0m\u001b[0;34m.\u001b[0m\u001b[0moracle\u001b[0m\u001b[0;34m.\u001b[0m\u001b[0mget_best_trials\u001b[0m\u001b[0;34m(\u001b[0m\u001b[0mnum_models\u001b[0m\u001b[0;34m)\u001b[0m\u001b[0;34m\u001b[0m\u001b[0;34m\u001b[0m\u001b[0m\n\u001b[0;32m--> 296\u001b[0;31m         \u001b[0mmodels\u001b[0m \u001b[0;34m=\u001b[0m \u001b[0;34m[\u001b[0m\u001b[0mself\u001b[0m\u001b[0;34m.\u001b[0m\u001b[0mload_model\u001b[0m\u001b[0;34m(\u001b[0m\u001b[0mtrial\u001b[0m\u001b[0;34m)\u001b[0m \u001b[0;32mfor\u001b[0m \u001b[0mtrial\u001b[0m \u001b[0;32min\u001b[0m \u001b[0mbest_trials\u001b[0m\u001b[0;34m]\u001b[0m\u001b[0;34m\u001b[0m\u001b[0;34m\u001b[0m\u001b[0m\n\u001b[0m\u001b[1;32m    297\u001b[0m         \u001b[0;32mreturn\u001b[0m \u001b[0mmodels\u001b[0m\u001b[0;34m\u001b[0m\u001b[0;34m\u001b[0m\u001b[0m\n\u001b[1;32m    298\u001b[0m \u001b[0;34m\u001b[0m\u001b[0m\n",
            "\u001b[0;32m/usr/local/lib/python3.8/dist-packages/keras_tuner/engine/tuner.py\u001b[0m in \u001b[0;36mload_model\u001b[0;34m(self, trial)\u001b[0m\n\u001b[1;32m    303\u001b[0m         \u001b[0;31m# Only load weights to avoid loading `custom_objects`.\u001b[0m\u001b[0;34m\u001b[0m\u001b[0;34m\u001b[0m\u001b[0;34m\u001b[0m\u001b[0m\n\u001b[1;32m    304\u001b[0m         \u001b[0;32mwith\u001b[0m \u001b[0mmaybe_distribute\u001b[0m\u001b[0;34m(\u001b[0m\u001b[0mself\u001b[0m\u001b[0;34m.\u001b[0m\u001b[0mdistribution_strategy\u001b[0m\u001b[0;34m)\u001b[0m\u001b[0;34m:\u001b[0m\u001b[0;34m\u001b[0m\u001b[0;34m\u001b[0m\u001b[0m\n\u001b[0;32m--> 305\u001b[0;31m             \u001b[0mmodel\u001b[0m\u001b[0;34m.\u001b[0m\u001b[0mload_weights\u001b[0m\u001b[0;34m(\u001b[0m\u001b[0mself\u001b[0m\u001b[0;34m.\u001b[0m\u001b[0m_get_checkpoint_fname\u001b[0m\u001b[0;34m(\u001b[0m\u001b[0mtrial\u001b[0m\u001b[0;34m.\u001b[0m\u001b[0mtrial_id\u001b[0m\u001b[0;34m)\u001b[0m\u001b[0;34m)\u001b[0m\u001b[0;34m\u001b[0m\u001b[0;34m\u001b[0m\u001b[0m\n\u001b[0m\u001b[1;32m    306\u001b[0m         \u001b[0;32mreturn\u001b[0m \u001b[0mmodel\u001b[0m\u001b[0;34m\u001b[0m\u001b[0;34m\u001b[0m\u001b[0m\n\u001b[1;32m    307\u001b[0m \u001b[0;34m\u001b[0m\u001b[0m\n",
            "\u001b[0;32m/usr/local/lib/python3.8/dist-packages/keras/utils/traceback_utils.py\u001b[0m in \u001b[0;36merror_handler\u001b[0;34m(*args, **kwargs)\u001b[0m\n\u001b[1;32m     65\u001b[0m     \u001b[0;32mexcept\u001b[0m \u001b[0mException\u001b[0m \u001b[0;32mas\u001b[0m \u001b[0me\u001b[0m\u001b[0;34m:\u001b[0m  \u001b[0;31m# pylint: disable=broad-except\u001b[0m\u001b[0;34m\u001b[0m\u001b[0;34m\u001b[0m\u001b[0m\n\u001b[1;32m     66\u001b[0m       \u001b[0mfiltered_tb\u001b[0m \u001b[0;34m=\u001b[0m \u001b[0m_process_traceback_frames\u001b[0m\u001b[0;34m(\u001b[0m\u001b[0me\u001b[0m\u001b[0;34m.\u001b[0m\u001b[0m__traceback__\u001b[0m\u001b[0;34m)\u001b[0m\u001b[0;34m\u001b[0m\u001b[0;34m\u001b[0m\u001b[0m\n\u001b[0;32m---> 67\u001b[0;31m       \u001b[0;32mraise\u001b[0m \u001b[0me\u001b[0m\u001b[0;34m.\u001b[0m\u001b[0mwith_traceback\u001b[0m\u001b[0;34m(\u001b[0m\u001b[0mfiltered_tb\u001b[0m\u001b[0;34m)\u001b[0m \u001b[0;32mfrom\u001b[0m \u001b[0;32mNone\u001b[0m\u001b[0;34m\u001b[0m\u001b[0;34m\u001b[0m\u001b[0m\n\u001b[0m\u001b[1;32m     68\u001b[0m     \u001b[0;32mfinally\u001b[0m\u001b[0;34m:\u001b[0m\u001b[0;34m\u001b[0m\u001b[0;34m\u001b[0m\u001b[0m\n\u001b[1;32m     69\u001b[0m       \u001b[0;32mdel\u001b[0m \u001b[0mfiltered_tb\u001b[0m\u001b[0;34m\u001b[0m\u001b[0;34m\u001b[0m\u001b[0m\n",
            "\u001b[0;32m/usr/local/lib/python3.8/dist-packages/tensorflow/python/training/saving/saveable_object_util.py\u001b[0m in \u001b[0;36mrestore\u001b[0;34m(self, restored_tensors, restored_shapes)\u001b[0m\n\u001b[1;32m    131\u001b[0m             self.handle_op, self._var_shape, restored_tensor)\n\u001b[1;32m    132\u001b[0m       \u001b[0;32mexcept\u001b[0m \u001b[0mValueError\u001b[0m \u001b[0;32mas\u001b[0m \u001b[0me\u001b[0m\u001b[0;34m:\u001b[0m\u001b[0;34m\u001b[0m\u001b[0;34m\u001b[0m\u001b[0m\n\u001b[0;32m--> 133\u001b[0;31m         raise ValueError(\n\u001b[0m\u001b[1;32m    134\u001b[0m             \u001b[0;34mf\"Received incompatible tensor with shape {restored_tensor.shape} \"\u001b[0m\u001b[0;34m\u001b[0m\u001b[0;34m\u001b[0m\u001b[0m\n\u001b[1;32m    135\u001b[0m             \u001b[0;34mf\"when attempting to restore variable with shape {self._var_shape} \"\u001b[0m\u001b[0;34m\u001b[0m\u001b[0;34m\u001b[0m\u001b[0m\n",
            "\u001b[0;31mValueError\u001b[0m: Received incompatible tensor with shape (768,) when attempting to restore variable with shape (512,) and name layer_with_weights-0/backward_layer/cell/bias/.ATTRIBUTES/VARIABLE_VALUE."
          ]
        }
      ],
      "source": [
        "plot_model(tuner_bilstm.get_best_models()[0], show_shapes=True, show_layer_names=True)\n"
      ]
    },
    {
      "cell_type": "code",
      "execution_count": null,
      "metadata": {
        "colab": {
          "base_uri": "https://localhost:8080/"
        },
        "id": "o9QSHBrqEioD",
        "outputId": "0a7ad02d-5ddd-432c-f772-68d51e35e249"
      },
      "outputs": [
        {
          "name": "stdout",
          "output_type": "stream",
          "text": [
            "20/20 [==============================] - 3s 16ms/step\n",
            "20/20 [==============================] - 3s 14ms/step\n"
          ]
        }
      ],
      "source": [
        "first_pred_labels = best_first_model.predict(X_test)\n",
        "second_pred_labels = best_second_model.predict(X_test)"
      ]
    },
    {
      "cell_type": "code",
      "execution_count": null,
      "metadata": {
        "id": "apkQh_K8XHZ3"
      },
      "outputs": [],
      "source": [
        "  # Utilised functions\n",
        "def modify_var(true, pred, indices):\n",
        "    true = true.argmax(2)\n",
        "    pred = pred.argmax(2)\n",
        "\n",
        "    true_nopad = []\n",
        "    pred_nopad = []\n",
        "\n",
        "    for t, p in zip(true, pred):\n",
        "        for i, el in enumerate(t):\n",
        "            if el !=0 and el not in indices:\n",
        "                true_nopad.append(el)\n",
        "                pred_nopad.append(p[i])\n",
        "    return true_nopad, pred_nopad"
      ]
    },
    {
      "cell_type": "code",
      "execution_count": null,
      "metadata": {
        "colab": {
          "base_uri": "https://localhost:8080/"
        },
        "id": "sVbmkvtDfD3e",
        "outputId": "95492598-bf38-4f74-b303-1de8d8ae4fa2"
      },
      "outputs": [
        {
          "data": {
            "text/plain": [
              "['CC',\n",
              " 'CD',\n",
              " 'DT',\n",
              " 'EX',\n",
              " 'FW',\n",
              " 'IN',\n",
              " 'JJ',\n",
              " 'JJR',\n",
              " 'JJS',\n",
              " 'MD',\n",
              " 'NN',\n",
              " 'NNP',\n",
              " 'NNPS',\n",
              " 'NNS',\n",
              " 'PDT',\n",
              " 'POS',\n",
              " 'PRP',\n",
              " 'PRP$',\n",
              " 'RB',\n",
              " 'RBR',\n",
              " 'RBS',\n",
              " 'RP',\n",
              " 'TO',\n",
              " 'UH',\n",
              " 'VB',\n",
              " 'VBD',\n",
              " 'VBG',\n",
              " 'VBN',\n",
              " 'VBP',\n",
              " 'VBZ',\n",
              " 'WDT',\n",
              " 'WP',\n",
              " 'WP$',\n",
              " 'WRB']"
            ]
          },
          "execution_count": 118,
          "metadata": {},
          "output_type": "execute_result"
        }
      ],
      "source": [
        "no_punct = [sorted(unique_tags_train)[i] for i in range(len(unique_tags_train)) if not i in  indices]\n",
        "no_punct"
      ]
    },
    {
      "cell_type": "code",
      "execution_count": null,
      "metadata": {
        "id": "wVMNqJVEXFiH"
      },
      "outputs": [],
      "source": [
        "def get_flattened_comparison(model, X_test, y_test):\n",
        "\n",
        "    raw_y_pred = model.predict(X_test)\n",
        "\n",
        "    # converting indexes to labels\n",
        "    y_true_label = target_vectorizer.inverse_transform(y_test)\n",
        "    y_pred_label = target_vectorizer.inverse_transform_probabilities(raw_y_pred)\n",
        "\n",
        "    y_true_flat = []\n",
        "    y_pred_flat = []\n",
        "    for document_predicted, document_true in zip(y_pred_label, y_true_label):\n",
        "        for word_predicted, word_true in zip (document_predicted, document_true):\n",
        "            y_pred_flat.append(word_predicted)\n",
        "            y_true_flat.append(word_true)\n",
        "    return y_true_flat, y_pred_flat"
      ]
    },
    {
      "cell_type": "code",
      "execution_count": null,
      "metadata": {
        "id": "EZTk6fu_XL5a"
      },
      "outputs": [],
      "source": [
        "def show_classification_report(model, X_test, y_test, sorted_by=None, ascending=True):\n",
        "  \"\"\"\n",
        "  Show classification report using only classes in names\n",
        "  \"\"\"\n",
        "  y_true, y_pred = get_flattened_comparison(model, X_test, y_test)\n",
        "  report =  classification_report(y_true, y_pred, output_dict=True, zero_division=0)\n",
        "  \n",
        "  # global performance\n",
        "  keys = ['weighted avg', 'accuracy', 'macro avg']\n",
        "  global_dict = {key: report[key] for key in keys}\n",
        "  for key in keys:\n",
        "    del report[key]\n",
        "\n",
        "  df = pd.DataFrame.from_dict(report).transpose().round(2)\n",
        "  if sorted_by:\n",
        "    df.sort_values(by=sorted_by, ascending=ascending, inplace=True)\n",
        "  print(df)\n",
        "\n",
        "  print(\"\\n\\n\")\n",
        "\n",
        "  df_glob = pd.DataFrame.from_dict(global_dict).transpose().round(2)\n",
        "  print(df_glob)"
      ]
    },
    {
      "cell_type": "code",
      "execution_count": null,
      "metadata": {
        "id": "aUSrMC0qXQgP"
      },
      "outputs": [],
      "source": [
        "def evaluate_model(model, X_test, y_test, labels):\n",
        "    \"\"\"\n",
        "    given a trained model and a test set returns the f-score and the confusion matrix\n",
        "    taking into account only classes in labels\n",
        "    \"\"\"\n",
        "    # show confusion matrix\n",
        "    y_true_flat, y_pred_flat = get_flattened_comparison(model, X_test, y_test)\n",
        "    conf_matrix = confusion_matrix(y_true_flat, y_pred_flat, labels=labels)\n",
        "    disp = ConfusionMatrixDisplay(conf_matrix, display_labels=labels)\n",
        "    fig, ax = plt.subplots(figsize=(12,14))\n",
        "    disp.plot(ax=ax)\n",
        "    # f1 score\n",
        "    print(\"F1 score:\\n-------------------------------\")\n",
        "    print(sklearn.metrics.f1_score(y_true_flat, y_pred_flat, labels=labels, average='macro', zero_division=0))"
      ]
    },
    {
      "cell_type": "code",
      "execution_count": null,
      "metadata": {
        "colab": {
          "base_uri": "https://localhost:8080/",
          "height": 877
        },
        "id": "huRSUsQAXRV7",
        "outputId": "3f4aff44-3544-45bb-d6c3-8910da7b8398"
      },
      "outputs": [
        {
          "data": {
            "image/png": "[encoded data removed]",
            "text/plain": [
              "<Figure size 1440x1080 with 2 Axes>"
            ]
          },
          "metadata": {},
          "output_type": "display_data"
        }
      ],
      "source": [
        "true_var, pred_var = modify_var(Y_test, first_pred_labels, indices)\n",
        "cm_one = confusion_matrix(true_var, pred_var)\n",
        "display = ConfusionMatrixDisplay(confusion_matrix=cm_one, display_labels=no_punct)\n",
        "#display_labels=[t for t, i in lab_dict.items() if i in list(set(Y_test.argmax(2).flatten()) - set(indices))]\n",
        "fig, ax = plt.subplots(figsize=(20, 15))\n",
        "display.plot(include_values=True, ax=ax)\n",
        "plt.show()"
      ]
    },
    {
      "cell_type": "code",
      "execution_count": null,
      "metadata": {
        "colab": {
          "base_uri": "https://localhost:8080/",
          "height": 877
        },
        "id": "L2uy7gRhYgXV",
        "outputId": "dbc7474f-a3bd-4d47-819d-4d9605ea5ca3"
      },
      "outputs": [
        {
          "data": {
            "image/png": "[encoded data removed]",
            "text/plain": [
              "<Figure size 1440x1080 with 2 Axes>"
            ]
          },
          "metadata": {},
          "output_type": "display_data"
        }
      ],
      "source": [
        "true_var, pred_var = modify_var(Y_test, second_pred_labels, indices)\n",
        "cm_one = confusion_matrix(true_var, pred_var)\n",
        "display = ConfusionMatrixDisplay(confusion_matrix=cm_one, display_labels=no_punct)\n",
        "#display_labels=[t for t, i in lab_dict.items() if i in list(set(Y_test.argmax(2).flatten()) - set(indices))]\n",
        "fig, ax = plt.subplots(figsize=(20, 15))\n",
        "display.plot(include_values=True, ax=ax)\n",
        "plt.show()"
      ]
    },
    {
      "cell_type": "markdown",
      "metadata": {
        "id": "4R7ZR1G6usoV"
      },
      "source": [
        "1.   show_classification_report\n",
        "2.   Voce elenco\n",
        "\n"
      ]
    },
    {
      "cell_type": "code",
      "execution_count": null,
      "metadata": {
        "colab": {
          "base_uri": "https://localhost:8080/"
        },
        "id": "ForcxZYUde1X",
        "outputId": "6ad050a9-389b-4d19-f43b-b29a2f239eb6"
      },
      "outputs": [
        {
          "name": "stdout",
          "output_type": "stream",
          "text": [
            "Best Models Performance\n",
            "\n",
            "First F1 Macro: 0.667\n",
            "\n",
            "Second F1 Macro: 0.554\n"
          ]
        }
      ],
      "source": [
        "# Calculate the F1 macro score\n",
        "true_nopad, first_pred_nopad = modify_var(Y_test, first_pred_labels, indices)\n",
        "true_nopad, second_pred_nopad = modify_var(Y_test, second_pred_labels, indices)\n",
        "first_f1_macro = f1_score(true_nopad, first_pred_nopad, average='macro', zero_division=1)\n",
        "second_f1_macro = f1_score(true_nopad, second_pred_nopad, average='macro', zero_division=1)\n",
        "\n",
        "# Print the performance of the models\n",
        "print('Best Models Performance')\n",
        "print(f'\\nFirst F1 Macro: {round(first_f1_macro, 3)}')\n",
        "print(f'\\nSecond F1 Macro: {round(second_f1_macro, 3)}')\n",
        "     "
      ]
    },
    {
      "cell_type": "markdown",
      "metadata": {
        "id": "xkN1AYQAtzsa"
      },
      "source": [
        "## Final Error analysis"
      ]
    },
    {
      "cell_type": "markdown",
      "metadata": {
        "id": "4fOwbyWMf49r"
      },
      "source": [
        " the performances on the most frequent classes and the less frequent classes, precision and recall, the confusion tables, specific misclassified samples."
      ]
    },
    {
      "cell_type": "markdown",
      "metadata": {
        "id": "wEa54dysdb21"
      },
      "source": [
        "Result examples of BiLSTM model"
      ]
    },
    {
      "cell_type": "code",
      "execution_count": null,
      "metadata": {
        "id": "HERz9DqKdbAh"
      },
      "outputs": [],
      "source": [
        "\n",
        "i_test = 10  # change this to see the prediction for a different sentence\n",
        "print(\"Original sentence: \", X_test_sentences[i_test])\n",
        "print(\"Original POS tagging: \",target_vectorizer.inverse_transform([y_test[i_test]])[0])\n",
        "\n",
        "raw_y_pred = model_bilstm.predict(np.array([X_test[i_test]]))\n",
        "\n",
        "print(\"Predicted POS tagging: \",target_vectorizer.inverse_transform_probabilities(raw_y_pred)[0])"
      ]
    },
    {
      "cell_type": "markdown",
      "metadata": {
        "id": "I_QOFWXGdFxQ"
      },
      "source": [
        "* verify and discuss if the results on the test sets are coherent with those on the validation set"
      ]
    },
    {
      "cell_type": "markdown",
      "metadata": {
        "id": "vPnb6HY4dG-B"
      },
      "source": [
        "* analyze the errors done by your model "
      ]
    },
    {
      "cell_type": "markdown",
      "metadata": {
        "id": "9Xn8bDiHIi4B"
      },
      "source": [
        "\n",
        "* try to understand which may be the causes and think about how to improve it."
      ]
    }
  ],
  "metadata": {
    "colab": {
      "collapsed_sections": [
        "pmnHb20l6J5q",
        "bkTAn8WwsvwQ",
        "Nfy1sYST-bIK",
        "sqv3LGX9vS16"
      ],
      "provenance": [],
      "include_colab_link": true
    },
    "gpuClass": "standard",
    "kernelspec": {
      "display_name": "Python 3.9.7 ('base')",
      "language": "python",
      "name": "python3"
    },
    "language_info": {
      "codemirror_mode": {
        "name": "ipython",
        "version": 3
      },
      "file_extension": ".py",
      "mimetype": "text/x-python",
      "name": "python",
      "nbconvert_exporter": "python",
      "pygments_lexer": "ipython3",
      "version": "3.9.7"
    },
    "vscode": {
      "interpreter": {
        "hash": "314ecf4e4f15fe22a658b1d57c99615ad4c86847edfd5102777831eb0be2d97e"
      }
    },
    "accelerator": "GPU"
  },
  "nbformat": 4,
  "nbformat_minor": 0
}