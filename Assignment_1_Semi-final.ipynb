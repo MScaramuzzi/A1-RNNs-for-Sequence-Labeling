{
  "cells": [
    {
      "cell_type": "markdown",
      "metadata": {
        "id": "view-in-github",
        "colab_type": "text"
      },
      "source": [
        "<a href=\"https://colab.research.google.com/github/MScaramuzzi/A1-RNNs-for-Sequence-Labeling/blob/main/Assignment_1_Semi-final.ipynb\" target=\"_parent\"><img src=\"https://colab.research.google.com/assets/colab-badge.svg\" alt=\"Open In Colab\"/></a>"
      ]
    },
    {
      "cell_type": "markdown",
      "source": [
        "# Assignment 1\n",
        "\n",
        "**Due to**: 11/01/2022 (dd/mm/yyyy)\n",
        "\n",
        "**Credits**: Andrea Galassi, Federico Ruggeri, Paolo Torroni\n",
        "\n",
        "**Summary**: Part-of Speech (POS) tagging as Sequence Labelling using Recurrent Neural Architectures"
      ],
      "metadata": {
        "id": "05M2wh8VfEZb"
      }
    },
    {
      "cell_type": "markdown",
      "source": [
        "1. Commenta codice getting dei files\n",
        "    1. Cambia struttura cartelle\n"
      ],
      "metadata": {
        "id": "KOl_9vkgdNpD"
      }
    },
    {
      "cell_type": "markdown",
      "source": [
        "Importing and installing useful libraries"
      ],
      "metadata": {
        "id": "R6nuwKkoJyrC"
      }
    },
    {
      "cell_type": "code",
      "source": [
        "!pip3 install keras_tuner\n",
        "!pip install keras-tuner tensorflow-addons"
      ],
      "metadata": {
        "colab": {
          "base_uri": "https://localhost:8080/"
        },
        "id": "YzUyHkgSJ-B4",
        "outputId": "5734ca80-b52d-4cca-d953-556bb33e3f4c"
      },
      "execution_count": 4,
      "outputs": [
        {
          "output_type": "stream",
          "name": "stdout",
          "text": [
            "Looking in indexes: https://pypi.org/simple, https://us-python.pkg.dev/colab-wheels/public/simple/\n",
            "Requirement already satisfied: keras_tuner in /usr/local/lib/python3.8/dist-packages (1.1.3)\n",
            "Requirement already satisfied: numpy in /usr/local/lib/python3.8/dist-packages (from keras_tuner) (1.21.6)\n",
            "Requirement already satisfied: ipython in /usr/local/lib/python3.8/dist-packages (from keras_tuner) (7.9.0)\n",
            "Requirement already satisfied: tensorboard in /usr/local/lib/python3.8/dist-packages (from keras_tuner) (2.9.1)\n",
            "Requirement already satisfied: packaging in /usr/local/lib/python3.8/dist-packages (from keras_tuner) (21.3)\n",
            "Requirement already satisfied: requests in /usr/local/lib/python3.8/dist-packages (from keras_tuner) (2.23.0)\n",
            "Requirement already satisfied: kt-legacy in /usr/local/lib/python3.8/dist-packages (from keras_tuner) (1.0.4)\n",
            "Requirement already satisfied: setuptools>=18.5 in /usr/local/lib/python3.8/dist-packages (from ipython->keras_tuner) (57.4.0)\n",
            "Requirement already satisfied: decorator in /usr/local/lib/python3.8/dist-packages (from ipython->keras_tuner) (4.4.2)\n",
            "Requirement already satisfied: prompt-toolkit<2.1.0,>=2.0.0 in /usr/local/lib/python3.8/dist-packages (from ipython->keras_tuner) (2.0.10)\n",
            "Requirement already satisfied: traitlets>=4.2 in /usr/local/lib/python3.8/dist-packages (from ipython->keras_tuner) (5.6.0)\n",
            "Requirement already satisfied: pygments in /usr/local/lib/python3.8/dist-packages (from ipython->keras_tuner) (2.6.1)\n",
            "Requirement already satisfied: jedi>=0.10 in /usr/local/lib/python3.8/dist-packages (from ipython->keras_tuner) (0.18.2)\n",
            "Requirement already satisfied: pexpect in /usr/local/lib/python3.8/dist-packages (from ipython->keras_tuner) (4.8.0)\n",
            "Requirement already satisfied: pickleshare in /usr/local/lib/python3.8/dist-packages (from ipython->keras_tuner) (0.7.5)\n",
            "Requirement already satisfied: backcall in /usr/local/lib/python3.8/dist-packages (from ipython->keras_tuner) (0.2.0)\n",
            "Requirement already satisfied: parso<0.9.0,>=0.8.0 in /usr/local/lib/python3.8/dist-packages (from jedi>=0.10->ipython->keras_tuner) (0.8.3)\n",
            "Requirement already satisfied: wcwidth in /usr/local/lib/python3.8/dist-packages (from prompt-toolkit<2.1.0,>=2.0.0->ipython->keras_tuner) (0.2.5)\n",
            "Requirement already satisfied: six>=1.9.0 in /usr/local/lib/python3.8/dist-packages (from prompt-toolkit<2.1.0,>=2.0.0->ipython->keras_tuner) (1.15.0)\n",
            "Requirement already satisfied: pyparsing!=3.0.5,>=2.0.2 in /usr/local/lib/python3.8/dist-packages (from packaging->keras_tuner) (3.0.9)\n",
            "Requirement already satisfied: ptyprocess>=0.5 in /usr/local/lib/python3.8/dist-packages (from pexpect->ipython->keras_tuner) (0.7.0)\n",
            "Requirement already satisfied: urllib3!=1.25.0,!=1.25.1,<1.26,>=1.21.1 in /usr/local/lib/python3.8/dist-packages (from requests->keras_tuner) (1.24.3)\n",
            "Requirement already satisfied: idna<3,>=2.5 in /usr/local/lib/python3.8/dist-packages (from requests->keras_tuner) (2.10)\n",
            "Requirement already satisfied: chardet<4,>=3.0.2 in /usr/local/lib/python3.8/dist-packages (from requests->keras_tuner) (3.0.4)\n",
            "Requirement already satisfied: certifi>=2017.4.17 in /usr/local/lib/python3.8/dist-packages (from requests->keras_tuner) (2022.9.24)\n",
            "Requirement already satisfied: absl-py>=0.4 in /usr/local/lib/python3.8/dist-packages (from tensorboard->keras_tuner) (1.3.0)\n",
            "Requirement already satisfied: wheel>=0.26 in /usr/local/lib/python3.8/dist-packages (from tensorboard->keras_tuner) (0.38.4)\n",
            "Requirement already satisfied: grpcio>=1.24.3 in /usr/local/lib/python3.8/dist-packages (from tensorboard->keras_tuner) (1.51.1)\n",
            "Requirement already satisfied: protobuf<3.20,>=3.9.2 in /usr/local/lib/python3.8/dist-packages (from tensorboard->keras_tuner) (3.19.6)\n",
            "Requirement already satisfied: google-auth-oauthlib<0.5,>=0.4.1 in /usr/local/lib/python3.8/dist-packages (from tensorboard->keras_tuner) (0.4.6)\n",
            "Requirement already satisfied: tensorboard-plugin-wit>=1.6.0 in /usr/local/lib/python3.8/dist-packages (from tensorboard->keras_tuner) (1.8.1)\n",
            "Requirement already satisfied: tensorboard-data-server<0.7.0,>=0.6.0 in /usr/local/lib/python3.8/dist-packages (from tensorboard->keras_tuner) (0.6.1)\n",
            "Requirement already satisfied: werkzeug>=1.0.1 in /usr/local/lib/python3.8/dist-packages (from tensorboard->keras_tuner) (1.0.1)\n",
            "Requirement already satisfied: markdown>=2.6.8 in /usr/local/lib/python3.8/dist-packages (from tensorboard->keras_tuner) (3.4.1)\n",
            "Requirement already satisfied: google-auth<3,>=1.6.3 in /usr/local/lib/python3.8/dist-packages (from tensorboard->keras_tuner) (2.15.0)\n",
            "Requirement already satisfied: rsa<5,>=3.1.4 in /usr/local/lib/python3.8/dist-packages (from google-auth<3,>=1.6.3->tensorboard->keras_tuner) (4.9)\n",
            "Requirement already satisfied: pyasn1-modules>=0.2.1 in /usr/local/lib/python3.8/dist-packages (from google-auth<3,>=1.6.3->tensorboard->keras_tuner) (0.2.8)\n",
            "Requirement already satisfied: cachetools<6.0,>=2.0.0 in /usr/local/lib/python3.8/dist-packages (from google-auth<3,>=1.6.3->tensorboard->keras_tuner) (5.2.0)\n",
            "Requirement already satisfied: requests-oauthlib>=0.7.0 in /usr/local/lib/python3.8/dist-packages (from google-auth-oauthlib<0.5,>=0.4.1->tensorboard->keras_tuner) (1.3.1)\n",
            "Requirement already satisfied: importlib-metadata>=4.4 in /usr/local/lib/python3.8/dist-packages (from markdown>=2.6.8->tensorboard->keras_tuner) (4.13.0)\n",
            "Requirement already satisfied: zipp>=0.5 in /usr/local/lib/python3.8/dist-packages (from importlib-metadata>=4.4->markdown>=2.6.8->tensorboard->keras_tuner) (3.11.0)\n",
            "Requirement already satisfied: pyasn1<0.5.0,>=0.4.6 in /usr/local/lib/python3.8/dist-packages (from pyasn1-modules>=0.2.1->google-auth<3,>=1.6.3->tensorboard->keras_tuner) (0.4.8)\n",
            "Requirement already satisfied: oauthlib>=3.0.0 in /usr/local/lib/python3.8/dist-packages (from requests-oauthlib>=0.7.0->google-auth-oauthlib<0.5,>=0.4.1->tensorboard->keras_tuner) (3.2.2)\n",
            "Looking in indexes: https://pypi.org/simple, https://us-python.pkg.dev/colab-wheels/public/simple/\n",
            "Requirement already satisfied: keras-tuner in /usr/local/lib/python3.8/dist-packages (1.1.3)\n",
            "Collecting tensorflow-addons\n",
            "  Downloading tensorflow_addons-0.19.0-cp38-cp38-manylinux_2_17_x86_64.manylinux2014_x86_64.whl (1.1 MB)\n",
            "\u001b[K     |████████████████████████████████| 1.1 MB 4.7 MB/s \n",
            "\u001b[?25hRequirement already satisfied: ipython in /usr/local/lib/python3.8/dist-packages (from keras-tuner) (7.9.0)\n",
            "Requirement already satisfied: requests in /usr/local/lib/python3.8/dist-packages (from keras-tuner) (2.23.0)\n",
            "Requirement already satisfied: kt-legacy in /usr/local/lib/python3.8/dist-packages (from keras-tuner) (1.0.4)\n",
            "Requirement already satisfied: packaging in /usr/local/lib/python3.8/dist-packages (from keras-tuner) (21.3)\n",
            "Requirement already satisfied: tensorboard in /usr/local/lib/python3.8/dist-packages (from keras-tuner) (2.9.1)\n",
            "Requirement already satisfied: numpy in /usr/local/lib/python3.8/dist-packages (from keras-tuner) (1.21.6)\n",
            "Requirement already satisfied: typeguard>=2.7 in /usr/local/lib/python3.8/dist-packages (from tensorflow-addons) (2.7.1)\n",
            "Requirement already satisfied: backcall in /usr/local/lib/python3.8/dist-packages (from ipython->keras-tuner) (0.2.0)\n",
            "Requirement already satisfied: pickleshare in /usr/local/lib/python3.8/dist-packages (from ipython->keras-tuner) (0.7.5)\n",
            "Requirement already satisfied: pygments in /usr/local/lib/python3.8/dist-packages (from ipython->keras-tuner) (2.6.1)\n",
            "Requirement already satisfied: decorator in /usr/local/lib/python3.8/dist-packages (from ipython->keras-tuner) (4.4.2)\n",
            "Requirement already satisfied: pexpect in /usr/local/lib/python3.8/dist-packages (from ipython->keras-tuner) (4.8.0)\n",
            "Requirement already satisfied: traitlets>=4.2 in /usr/local/lib/python3.8/dist-packages (from ipython->keras-tuner) (5.6.0)\n",
            "Requirement already satisfied: prompt-toolkit<2.1.0,>=2.0.0 in /usr/local/lib/python3.8/dist-packages (from ipython->keras-tuner) (2.0.10)\n",
            "Requirement already satisfied: setuptools>=18.5 in /usr/local/lib/python3.8/dist-packages (from ipython->keras-tuner) (57.4.0)\n",
            "Requirement already satisfied: jedi>=0.10 in /usr/local/lib/python3.8/dist-packages (from ipython->keras-tuner) (0.18.2)\n",
            "Requirement already satisfied: parso<0.9.0,>=0.8.0 in /usr/local/lib/python3.8/dist-packages (from jedi>=0.10->ipython->keras-tuner) (0.8.3)\n",
            "Requirement already satisfied: six>=1.9.0 in /usr/local/lib/python3.8/dist-packages (from prompt-toolkit<2.1.0,>=2.0.0->ipython->keras-tuner) (1.15.0)\n",
            "Requirement already satisfied: wcwidth in /usr/local/lib/python3.8/dist-packages (from prompt-toolkit<2.1.0,>=2.0.0->ipython->keras-tuner) (0.2.5)\n",
            "Requirement already satisfied: pyparsing!=3.0.5,>=2.0.2 in /usr/local/lib/python3.8/dist-packages (from packaging->keras-tuner) (3.0.9)\n",
            "Requirement already satisfied: ptyprocess>=0.5 in /usr/local/lib/python3.8/dist-packages (from pexpect->ipython->keras-tuner) (0.7.0)\n",
            "Requirement already satisfied: idna<3,>=2.5 in /usr/local/lib/python3.8/dist-packages (from requests->keras-tuner) (2.10)\n",
            "Requirement already satisfied: urllib3!=1.25.0,!=1.25.1,<1.26,>=1.21.1 in /usr/local/lib/python3.8/dist-packages (from requests->keras-tuner) (1.24.3)\n",
            "Requirement already satisfied: certifi>=2017.4.17 in /usr/local/lib/python3.8/dist-packages (from requests->keras-tuner) (2022.9.24)\n",
            "Requirement already satisfied: chardet<4,>=3.0.2 in /usr/local/lib/python3.8/dist-packages (from requests->keras-tuner) (3.0.4)\n",
            "Requirement already satisfied: werkzeug>=1.0.1 in /usr/local/lib/python3.8/dist-packages (from tensorboard->keras-tuner) (1.0.1)\n",
            "Requirement already satisfied: tensorboard-data-server<0.7.0,>=0.6.0 in /usr/local/lib/python3.8/dist-packages (from tensorboard->keras-tuner) (0.6.1)\n",
            "Requirement already satisfied: wheel>=0.26 in /usr/local/lib/python3.8/dist-packages (from tensorboard->keras-tuner) (0.38.4)\n",
            "Requirement already satisfied: protobuf<3.20,>=3.9.2 in /usr/local/lib/python3.8/dist-packages (from tensorboard->keras-tuner) (3.19.6)\n",
            "Requirement already satisfied: google-auth-oauthlib<0.5,>=0.4.1 in /usr/local/lib/python3.8/dist-packages (from tensorboard->keras-tuner) (0.4.6)\n",
            "Requirement already satisfied: grpcio>=1.24.3 in /usr/local/lib/python3.8/dist-packages (from tensorboard->keras-tuner) (1.51.1)\n",
            "Requirement already satisfied: absl-py>=0.4 in /usr/local/lib/python3.8/dist-packages (from tensorboard->keras-tuner) (1.3.0)\n",
            "Requirement already satisfied: google-auth<3,>=1.6.3 in /usr/local/lib/python3.8/dist-packages (from tensorboard->keras-tuner) (2.15.0)\n",
            "Requirement already satisfied: markdown>=2.6.8 in /usr/local/lib/python3.8/dist-packages (from tensorboard->keras-tuner) (3.4.1)\n",
            "Requirement already satisfied: tensorboard-plugin-wit>=1.6.0 in /usr/local/lib/python3.8/dist-packages (from tensorboard->keras-tuner) (1.8.1)\n",
            "Requirement already satisfied: rsa<5,>=3.1.4 in /usr/local/lib/python3.8/dist-packages (from google-auth<3,>=1.6.3->tensorboard->keras-tuner) (4.9)\n",
            "Requirement already satisfied: pyasn1-modules>=0.2.1 in /usr/local/lib/python3.8/dist-packages (from google-auth<3,>=1.6.3->tensorboard->keras-tuner) (0.2.8)\n",
            "Requirement already satisfied: cachetools<6.0,>=2.0.0 in /usr/local/lib/python3.8/dist-packages (from google-auth<3,>=1.6.3->tensorboard->keras-tuner) (5.2.0)\n",
            "Requirement already satisfied: requests-oauthlib>=0.7.0 in /usr/local/lib/python3.8/dist-packages (from google-auth-oauthlib<0.5,>=0.4.1->tensorboard->keras-tuner) (1.3.1)\n",
            "Requirement already satisfied: importlib-metadata>=4.4 in /usr/local/lib/python3.8/dist-packages (from markdown>=2.6.8->tensorboard->keras-tuner) (4.13.0)\n",
            "Requirement already satisfied: zipp>=0.5 in /usr/local/lib/python3.8/dist-packages (from importlib-metadata>=4.4->markdown>=2.6.8->tensorboard->keras-tuner) (3.11.0)\n",
            "Requirement already satisfied: pyasn1<0.5.0,>=0.4.6 in /usr/local/lib/python3.8/dist-packages (from pyasn1-modules>=0.2.1->google-auth<3,>=1.6.3->tensorboard->keras-tuner) (0.4.8)\n",
            "Requirement already satisfied: oauthlib>=3.0.0 in /usr/local/lib/python3.8/dist-packages (from requests-oauthlib>=0.7.0->google-auth-oauthlib<0.5,>=0.4.1->tensorboard->keras-tuner) (3.2.2)\n",
            "Installing collected packages: tensorflow-addons\n",
            "Successfully installed tensorflow-addons-0.19.0\n"
          ]
        }
      ]
    },
    {
      "cell_type": "code",
      "execution_count": 5,
      "metadata": {
        "id": "0Ku46OvKmbIU"
      },
      "outputs": [],
      "source": [
        "import urllib.request  #  download files\n",
        "import tarfile  #  unzip files\n",
        "import shutil\n",
        "import os\n",
        "import urllib.request  #  download files\n",
        "import zipfile  #  unzip files\n",
        "import matplotlib.pyplot as plt\n",
        "import numpy as np\n",
        "import pandas as pd\n",
        "import tensorflow as tf\n",
        "import random\n",
        "\n",
        "from tensorflow import keras\n",
        "import tensorflow as tf\n",
        "#from tensorflow.keras import layers\n",
        "import keras_tuner as kt\n",
        "from keras.optimizers import Adam\n",
        "import tensorflow_addons as tfa\n",
        "import tensorflow.keras.backend as K\n",
        "from tensorflow.keras.regularizers import L2\n",
        "\n",
        "from tensorflow.keras.models import Sequential\n",
        "from tensorflow.keras.layers import InputLayer,Dropout, LSTM, Bidirectional, GRU, Dense, TimeDistributed, Activation,Masking\n",
        "from keras_tuner import RandomSearch, Objective\n",
        "from keras.utils.vis_utils import plot_model\n",
        "from keras.models import load_model\n",
        "from sklearn.metrics import confusion_matrix, ConfusionMatrixDisplay, f1_score\n"
      ]
    },
    {
      "cell_type": "markdown",
      "source": [
        "### Ensuring reproducibility"
      ],
      "metadata": {
        "id": "5TgJjk6leDK3"
      }
    },
    {
      "cell_type": "code",
      "source": [
        "def set_reproducibility(seed):\n",
        "    random.seed(seed)\n",
        "    np.random.seed(seed)\n",
        "    tf.random.set_seed(seed)\n",
        "    os.environ['TF_DETERMINISTIC_OPS'] = '1'"
      ],
      "metadata": {
        "id": "Km7P166Zd3AN"
      },
      "execution_count": 6,
      "outputs": []
    },
    {
      "cell_type": "code",
      "source": [
        "set_reproducibility(42)"
      ],
      "metadata": {
        "id": "zE5yNEmKmiQh"
      },
      "execution_count": 7,
      "outputs": []
    },
    {
      "cell_type": "markdown",
      "source": [
        "## 1. Download the corpora and split it in training and test sets, structuring a dataframe.\n",
        "\n",
        "\n"
      ],
      "metadata": {
        "id": "GcJOWF-YKNkc"
      }
    },
    {
      "cell_type": "markdown",
      "metadata": {
        "id": "_FBWQ10jr0h8"
      },
      "source": [
        "**Splits**: documents 1-100 are the train set, 101-150 validation set, 151-199 test set."
      ]
    },
    {
      "cell_type": "markdown",
      "metadata": {
        "id": "hZmBv4xvsagY"
      },
      "source": [
        "**Splitting**: you can decide to split documents into sentences or not, the choice is yours.\n"
      ]
    },
    {
      "cell_type": "markdown",
      "metadata": {
        "id": "kJQZWXoksvfu"
      },
      "source": [
        "**I/O structure**: The input data will have three dimensions: 1-documents/sentences, 2-token, 3-features; for the output there are 2 possibilities: if you use one-hot encoding it will be 1-documents/sentences, 2-token labels, 3-classes, if you use a single integer that indicates the number of the class it will be 1-documents/sentences, 2-token labels."
      ]
    },
    {
      "cell_type": "markdown",
      "source": [
        "#### Dataset downloading"
      ],
      "metadata": {
        "id": "jjKmTTeWKRjO"
      }
    },
    {
      "cell_type": "code",
      "execution_count": 8,
      "metadata": {
        "colab": {
          "base_uri": "https://localhost:8080/"
        },
        "id": "lh42hngDaT_c",
        "outputId": "8dc1ee53-2dfe-4b2d-daa4-7661eed07b1e"
      },
      "outputs": [
        {
          "output_type": "stream",
          "name": "stdout",
          "text": [
            "Successful download\n",
            "Successful extraction\n"
          ]
        }
      ],
      "source": [
        "dataset_folder = os.path.join(os.getcwd(), \"Dataset\")\n",
        "\n",
        "if not os.path.exists(dataset_folder):\n",
        "    os.makedirs(dataset_folder)\n",
        "\n",
        "url = \"https://raw.githubusercontent.com/nltk/nltk_data/gh-pages/packages/corpora/dependency_treebank.zip\"\n",
        "\n",
        "dataset_path = os.path.join(dataset_folder, \"dependency_treebank.zip\")\n",
        "\n",
        "if not os.path.exists(dataset_path):\n",
        "    urllib.request.urlretrieve(url, dataset_path)\n",
        "    print(\"Successful download\")\n",
        "\n",
        "with zipfile.ZipFile(dataset_path,\"r\") as zip_ref:\n",
        "    zip_ref.extractall(\"Dataset\")\n",
        "\n",
        "print(\"Successful extraction\")"
      ]
    },
    {
      "cell_type": "code",
      "execution_count": 9,
      "metadata": {
        "id": "8YL3dhA2OzMw"
      },
      "outputs": [],
      "source": [
        "data_folder=os.getcwd()+\"/Dataset/dependency_treebank/\""
      ]
    },
    {
      "cell_type": "code",
      "execution_count": 10,
      "metadata": {
        "id": "rEJhY-CLOvmy"
      },
      "outputs": [],
      "source": [
        "# Just needed in case you'd like to append it to an array\n",
        "data = []\n",
        "\n",
        "for filename in os.listdir(data_folder):\n",
        "    if filename.endswith(\"dp\"): \n",
        "        data.append(filename)"
      ]
    },
    {
      "cell_type": "code",
      "execution_count": 11,
      "metadata": {
        "id": "5TO1quAufBxq"
      },
      "outputs": [],
      "source": [
        "# SB MODIFIED CODE - START\n",
        "\n",
        "\"\"\"\n",
        "In this code block we define variables for extracting the tags for each sentence\n",
        "In the for loop below we also exploit the fact we are already looping to count \n",
        "tags and words, this will be needed for the encoding of the vocabulary later.\n",
        "\"\"\"\n",
        "\n",
        "sentences = []\n",
        "words = []\n",
        "unique_tags_train = []\n",
        "unique_tags_test = []\n",
        "unique_tags_val = []\n",
        "tags = []\n",
        "tag2 = []\n",
        "file_len = []\n",
        "file_len_sent = []\n",
        "file_len_tags = []\n",
        "\n",
        "cnt_words_train = 0\n",
        "cnt_words_val = 0\n",
        "cnt_words_test = 0\n",
        "cnt_words_sent = 0\n",
        "cnt_tags_sent = 0\n",
        "cnt_sents = 0\n",
        "cnt_sents_train = 0\n",
        "cnt_sents_val = 0\n",
        "cnt_sents_test = 0\n",
        "\n",
        "docs = sorted(os.listdir(data_folder))\n",
        "\n",
        "for filename in docs:\n",
        "    if filename.endswith(\".dp\"): \n",
        "        with open(os.path.join(data_folder, filename), mode='r', encoding='utf-8') as text:\n",
        "                for i,line in enumerate(text):\n",
        "                    if len(line.split())>0:\n",
        "                        word, tag, _ = line.split(\"\\t\")  # structure of line in file word, tag, number to ignore\n",
        "                        words.append(word)\n",
        "                        tags.append(tag)\n",
        "                        cnt_words_sent += 1                        \n",
        "                        cnt_tags_sent += 1\n",
        "\n",
        "                        # Get train sentences/tags\n",
        "                        if (filename.startswith(\"wsj_00\") or filename == \"wsj_0100.dp\"):\n",
        "                            cnt_words_train +=1\n",
        "                            if (tag not in unique_tags_train): \n",
        "                                unique_tags_train.append(tag)\n",
        "                            if word == \".\": # end of sentence condition\n",
        "                                sentences.append(words[:i])\n",
        "                                cnt_sents += 1\n",
        "                                cnt_sents_train+=1\n",
        "                                tag2.append(tags[:i])\n",
        "                                words = []\n",
        "                                tags =[]\n",
        "                                file_len_tags.append(cnt_tags_sent)\n",
        "                                file_len_sent.append(cnt_words_sent)\n",
        "                                cnt_words_sent = 0\n",
        "                                cnt_tags_sent = 0\n",
        "\n",
        "                        # Get val sentences/tags\n",
        "                        elif (not filename == \"wsj_0100.dp\") and (filename.startswith(\"wsj_010\") or filename.startswith(\"wsj_011\") or filename.startswith(\"wsj_012\") or filename.startswith(\"wsj_013\") or filename.startswith(\"wsj_014\") or filename.startswith(\"wsj_0150\")):\n",
        "                            cnt_words_val +=1\n",
        "                            if (tag not in unique_tags_val):\n",
        "                                unique_tags_val.append(tag)\n",
        "                            if word == \".\": \n",
        "                                sentences.append(words[:i])\n",
        "                                cnt_sents += 1\n",
        "                                cnt_sents_val+=1\n",
        "                                tag2.append(tags[:i])\n",
        "                                words = []\n",
        "                                tags =[]\n",
        "                                file_len_tags.append(cnt_tags_sent)\n",
        "                                file_len_sent.append(cnt_words_sent)\n",
        "                                cnt_words_sent = 0\n",
        "                                cnt_tags_sent = 0\n",
        "                                \n",
        "                        # Get test sentences/tags\n",
        "                        elif (not filename == \"wsj_0150.dp\") and (filename.startswith(\"wsj_015\") or filename.startswith(\"wsj_016\") or filename.startswith(\"wsj_017\") or filename.startswith(\"wsj_018\") or filename.startswith(\"wsj_019\")):\n",
        "                            cnt_words_test +=1\n",
        "                            if (tag not in unique_tags_test):\n",
        "                                unique_tags_test.append(tag)\n",
        "                            if word == \".\": # condizione fine frase\n",
        "                                sentences.append(words[:i])\n",
        "                                cnt_sents += 1\n",
        "                                cnt_sents_test+=1\n",
        "                                tag2.append(tags[:i])\n",
        "                                words = []\n",
        "                                tags =[]\n",
        "                                file_len_tags.append(cnt_tags_sent)\n",
        "                                file_len_sent.append(cnt_words_sent)\n",
        "                                cnt_words_sent = 0\n",
        "                                cnt_tags_sent = 0\n",
        "\n",
        "                file_len.append(cnt_sents)\n",
        "        cnt_sents = 0\n"
      ]
    },
    {
      "cell_type": "code",
      "source": [
        "print(f\"train: {sorted(unique_tags_train)} \\n\")\n",
        "print(f\"validation: {sorted(unique_tags_val)} \\n\")\n",
        "print(f\"test: {sorted(unique_tags_test)}\")"
      ],
      "metadata": {
        "id": "2GpeAiJL1EKR",
        "colab": {
          "base_uri": "https://localhost:8080/"
        },
        "outputId": "d5edfe5e-fa01-44e1-947e-1138421c30ce"
      },
      "execution_count": 12,
      "outputs": [
        {
          "output_type": "stream",
          "name": "stdout",
          "text": [
            "train: ['#', '$', \"''\", ',', '-LRB-', '-RRB-', '.', ':', 'CC', 'CD', 'DT', 'EX', 'FW', 'IN', 'JJ', 'JJR', 'JJS', 'LS', 'MD', 'NN', 'NNP', 'NNPS', 'NNS', 'PDT', 'POS', 'PRP', 'PRP$', 'RB', 'RBR', 'RBS', 'RP', 'SYM', 'TO', 'UH', 'VB', 'VBD', 'VBG', 'VBN', 'VBP', 'VBZ', 'WDT', 'WP', 'WP$', 'WRB', '``'] \n",
            "\n",
            "validation: ['#', '$', \"''\", ',', '-LRB-', '-RRB-', '.', ':', 'CC', 'CD', 'DT', 'EX', 'FW', 'IN', 'JJ', 'JJR', 'JJS', 'LS', 'MD', 'NN', 'NNP', 'NNPS', 'NNS', 'PDT', 'POS', 'PRP', 'PRP$', 'RB', 'RBR', 'RBS', 'RP', 'TO', 'UH', 'VB', 'VBD', 'VBG', 'VBN', 'VBP', 'VBZ', 'WDT', 'WP', 'WP$', 'WRB', '``'] \n",
            "\n",
            "test: ['$', \"''\", ',', '-LRB-', '-RRB-', '.', ':', 'CC', 'CD', 'DT', 'EX', 'IN', 'JJ', 'JJR', 'JJS', 'MD', 'NN', 'NNP', 'NNPS', 'NNS', 'PDT', 'POS', 'PRP', 'PRP$', 'RB', 'RBR', 'RBS', 'RP', 'TO', 'VB', 'VBD', 'VBG', 'VBN', 'VBP', 'VBZ', 'WDT', 'WP', 'WP$', 'WRB', '``']\n"
          ]
        }
      ]
    },
    {
      "cell_type": "markdown",
      "source": [
        "#### Understanding content of tag arrays"
      ],
      "metadata": {
        "id": "tvkDEojtMOPH"
      }
    },
    {
      "cell_type": "code",
      "source": [
        "print(f\"Unique tags in train set: {len(unique_tags_train)} tags \\n\")\n",
        "print(f\"Unique tags in validation set: {len(unique_tags_val)} tags \\n\")\n",
        "print(f\"Unique tags in test set: {len(unique_tags_test)} tags\")"
      ],
      "metadata": {
        "id": "oy_3WN4I1FpA",
        "colab": {
          "base_uri": "https://localhost:8080/"
        },
        "outputId": "e2cec4a1-ca06-4370-81a0-d195db700c18"
      },
      "execution_count": 13,
      "outputs": [
        {
          "output_type": "stream",
          "name": "stdout",
          "text": [
            "Unique tags in train set: 45 tags \n",
            "\n",
            "Unique tags in validation set: 44 tags \n",
            "\n",
            "Unique tags in test set: 40 tags\n"
          ]
        }
      ]
    },
    {
      "cell_type": "code",
      "source": [
        "print(\"- Tags that are present in the train set and are not present in the validation set:\",list(set(unique_tags_train).difference(set(unique_tags_val))))\n",
        "print()\n",
        "print(\"- Tags that are present in the train set and are not present in the test set:\",list(set(unique_tags_train).difference(set(unique_tags_test))))\n",
        "print()\n",
        "print(\"- Tags that are present in the validation set and are not present in the test set:\",list(set(unique_tags_val).difference(set(unique_tags_test))))"
      ],
      "metadata": {
        "colab": {
          "base_uri": "https://localhost:8080/"
        },
        "id": "u7bfLTx41G9p",
        "outputId": "2075d717-37f0-45e8-f887-4ea118a06269"
      },
      "execution_count": 14,
      "outputs": [
        {
          "output_type": "stream",
          "name": "stdout",
          "text": [
            "- Tags that are present in the train set and are not present in the validation set: ['SYM']\n",
            "\n",
            "- Tags that are present in the train set and are not present in the test set: ['SYM', 'FW', 'UH', 'LS', '#']\n",
            "\n",
            "- Tags that are present in the validation set and are not present in the test set: ['UH', '#', 'LS', 'FW']\n"
          ]
        }
      ]
    },
    {
      "cell_type": "markdown",
      "source": [
        "### Retrieving punctuation indices \n",
        "\n",
        "This will be useful later for error analysis"
      ],
      "metadata": {
        "id": "61BgctX8OQLM"
      }
    },
    {
      "cell_type": "code",
      "source": [
        "sort_tags = np.array(sorted(unique_tags_train))"
      ],
      "metadata": {
        "id": "JEV-EtmhUVXU"
      },
      "execution_count": 15,
      "outputs": []
    },
    {
      "cell_type": "code",
      "source": [
        "print(sort_tags)"
      ],
      "metadata": {
        "colab": {
          "base_uri": "https://localhost:8080/"
        },
        "id": "BBhq0isgQjn8",
        "outputId": "0654e9fe-5cd5-4f1b-c35f-2d0d589c9295"
      },
      "execution_count": 16,
      "outputs": [
        {
          "output_type": "stream",
          "name": "stdout",
          "text": [
            "['#' '$' \"''\" ',' '-LRB-' '-RRB-' '.' ':' 'CC' 'CD' 'DT' 'EX' 'FW' 'IN'\n",
            " 'JJ' 'JJR' 'JJS' 'LS' 'MD' 'NN' 'NNP' 'NNPS' 'NNS' 'PDT' 'POS' 'PRP'\n",
            " 'PRP$' 'RB' 'RBR' 'RBS' 'RP' 'SYM' 'TO' 'UH' 'VB' 'VBD' 'VBG' 'VBN' 'VBP'\n",
            " 'VBZ' 'WDT' 'WP' 'WP$' 'WRB' '``']\n"
          ]
        }
      ]
    },
    {
      "cell_type": "markdown",
      "source": [
        "We need to the remove the indices associated with the following symbols:\n",
        "\n",
        "* Punctuation:\n",
        "  - -LRB- &rarr; \"Left Round Bracket\" &rarr; \"(\"\n",
        "  - -RRB- &rarr; \"Right Round Bracket\" &rarr; \"(\"\n",
        "  - # \n",
        "  - $\n",
        "  - ' ' \n",
        "  - , \n",
        "  - . \n",
        "  - : \n",
        "\n",
        "\n",
        "* Symbols:\n",
        "\n",
        "  - LS &rarr; List item marker\n",
        "  - SYM &rarr; Symbol\n",
        "  - ``"
      ],
      "metadata": {
        "id": "2n0L_fQTQmoT"
      }
    },
    {
      "cell_type": "code",
      "source": [
        "indices = [0, 1, 2, 3, 4, 5, 6,7, 17, 31, 44] # symbols and punctuation\n",
        "print(\"Displaying the tags and their associated index: \\n\")\n",
        "print(dict(zip(sort_tags[indices],indices)))"
      ],
      "metadata": {
        "colab": {
          "base_uri": "https://localhost:8080/"
        },
        "id": "ynOrXkb9xlu2",
        "outputId": "86c4ffb9-6a0c-43c3-a041-e4e93495db60"
      },
      "execution_count": 17,
      "outputs": [
        {
          "output_type": "stream",
          "name": "stdout",
          "text": [
            "Displaying the tags and their associated index: \n",
            "\n",
            "{'#': 0, '$': 1, \"''\": 2, ',': 3, '-LRB-': 4, '-RRB-': 5, '.': 6, ':': 7, 'LS': 17, 'SYM': 31, '``': 44}\n"
          ]
        }
      ]
    },
    {
      "cell_type": "code",
      "execution_count": 18,
      "metadata": {
        "colab": {
          "base_uri": "https://localhost:8080/"
        },
        "id": "Bu7pCWpzu61o",
        "outputId": "f3f8c484-708b-44e9-e527-f2712d4388e2"
      },
      "outputs": [
        {
          "output_type": "stream",
          "name": "stdout",
          "text": [
            "- Sentences in the train set: 1936 sentences\n",
            "- Sentences in the validation set: 1256 sentences\n",
            "- Sentences in the test set: 636 sentences\n"
          ]
        }
      ],
      "source": [
        "# Counting the sentences of the sets\n",
        "print(f\"- Sentences in the train set: {cnt_sents_train} sentences\")\n",
        "print(f\"- Sentences in the validation set: {cnt_sents_val} sentences\")\n",
        "print(f\"- Sentences in the test set: {cnt_sents_test} sentences\")"
      ]
    },
    {
      "cell_type": "markdown",
      "source": [
        "### Dataframe creation"
      ],
      "metadata": {
        "id": "OO57_VXveLxf"
      }
    },
    {
      "cell_type": "code",
      "execution_count": 19,
      "metadata": {
        "id": "MXQs4U_Iw4BS"
      },
      "outputs": [],
      "source": [
        "# Creating the structure of the dataframe rows\n",
        "dataframe_rows = {\n",
        "    'sentences': sentences,\n",
        "    'tags': tag2,\n",
        "    #repeat the document name for each sentence in the document \n",
        "    \"docs\": np.repeat(docs, file_len),  \n",
        "}"
      ]
    },
    {
      "cell_type": "code",
      "execution_count": 20,
      "metadata": {
        "colab": {
          "base_uri": "https://localhost:8080/",
          "height": 363
        },
        "id": "luAqu0gHw3mz",
        "outputId": "1bec76b9-5c48-4443-bb97-5d14e6937250"
      },
      "outputs": [
        {
          "output_type": "execute_result",
          "data": {
            "text/plain": [
              "                                           sentences  \\\n",
              "0  [Pierre, Vinken, ,, 61, years, old, ,, will, j...   \n",
              "1  [Mr., Vinken, is, chairman, of, Elsevier, N.V....   \n",
              "2  [Rudolph, Agnew, ,, 55, years, old, and, forme...   \n",
              "3  [A, form, of, asbestos, once, used, to, make, ...   \n",
              "4  [The, asbestos, fiber, ,, crocidolite, ,, is, ...   \n",
              "5  [Lorillard, Inc., ,, the, unit, of, New, York-...   \n",
              "6  [Although, preliminary, findings, were, report...   \n",
              "7  [A, Lorillard, spokewoman, said, ,, ``, This, ...   \n",
              "8  [We, 're, talking, about, years, ago, before, ...   \n",
              "9  [There, is, no, asbestos, in, our, products, n...   \n",
              "\n",
              "                                                tags         docs  \n",
              "0  [NNP, NNP, ,, CD, NNS, JJ, ,, MD, VB, DT, NN, ...  wsj_0001.dp  \n",
              "1  [NNP, NNP, VBZ, NN, IN, NNP, NNP, ,, DT, NNP, ...  wsj_0001.dp  \n",
              "2  [NNP, NNP, ,, CD, NNS, JJ, CC, JJ, NN, IN, NNP...  wsj_0002.dp  \n",
              "3  [DT, NN, IN, NN, RB, VBN, TO, VB, NNP, NN, NNS...  wsj_0003.dp  \n",
              "4  [DT, NN, NN, ,, NN, ,, VBZ, RB, JJ, IN, PRP, V...  wsj_0003.dp  \n",
              "5  [NNP, NNP, ,, DT, NN, IN, JJ, JJ, NNP, NNP, WD...  wsj_0003.dp  \n",
              "6  [IN, JJ, NNS, VBD, VBN, RBR, IN, DT, NN, IN, ,...  wsj_0003.dp  \n",
              "7  [DT, NNP, NN, VBD, ,, ``, DT, VBZ, DT, JJ, NN, .]  wsj_0003.dp  \n",
              "8  [PRP, VBP, VBG, IN, NNS, IN, IN, NN, VBD, IN, ...  wsj_0003.dp  \n",
              "9            [EX, VBZ, DT, NN, IN, PRP$, NNS, RB, .]  wsj_0003.dp  "
            ],
            "text/html": [
              "\n",
              "  <div id=\"df-0f12c32c-0db4-4b3a-bed7-6a3c0d62ee5b\">\n",
              "    <div class=\"colab-df-container\">\n",
              "      <div>\n",
              "<style scoped>\n",
              "    .dataframe tbody tr th:only-of-type {\n",
              "        vertical-align: middle;\n",
              "    }\n",
              "\n",
              "    .dataframe tbody tr th {\n",
              "        vertical-align: top;\n",
              "    }\n",
              "\n",
              "    .dataframe thead th {\n",
              "        text-align: right;\n",
              "    }\n",
              "</style>\n",
              "<table border=\"1\" class=\"dataframe\">\n",
              "  <thead>\n",
              "    <tr style=\"text-align: right;\">\n",
              "      <th></th>\n",
              "      <th>sentences</th>\n",
              "      <th>tags</th>\n",
              "      <th>docs</th>\n",
              "    </tr>\n",
              "  </thead>\n",
              "  <tbody>\n",
              "    <tr>\n",
              "      <th>0</th>\n",
              "      <td>[Pierre, Vinken, ,, 61, years, old, ,, will, j...</td>\n",
              "      <td>[NNP, NNP, ,, CD, NNS, JJ, ,, MD, VB, DT, NN, ...</td>\n",
              "      <td>wsj_0001.dp</td>\n",
              "    </tr>\n",
              "    <tr>\n",
              "      <th>1</th>\n",
              "      <td>[Mr., Vinken, is, chairman, of, Elsevier, N.V....</td>\n",
              "      <td>[NNP, NNP, VBZ, NN, IN, NNP, NNP, ,, DT, NNP, ...</td>\n",
              "      <td>wsj_0001.dp</td>\n",
              "    </tr>\n",
              "    <tr>\n",
              "      <th>2</th>\n",
              "      <td>[Rudolph, Agnew, ,, 55, years, old, and, forme...</td>\n",
              "      <td>[NNP, NNP, ,, CD, NNS, JJ, CC, JJ, NN, IN, NNP...</td>\n",
              "      <td>wsj_0002.dp</td>\n",
              "    </tr>\n",
              "    <tr>\n",
              "      <th>3</th>\n",
              "      <td>[A, form, of, asbestos, once, used, to, make, ...</td>\n",
              "      <td>[DT, NN, IN, NN, RB, VBN, TO, VB, NNP, NN, NNS...</td>\n",
              "      <td>wsj_0003.dp</td>\n",
              "    </tr>\n",
              "    <tr>\n",
              "      <th>4</th>\n",
              "      <td>[The, asbestos, fiber, ,, crocidolite, ,, is, ...</td>\n",
              "      <td>[DT, NN, NN, ,, NN, ,, VBZ, RB, JJ, IN, PRP, V...</td>\n",
              "      <td>wsj_0003.dp</td>\n",
              "    </tr>\n",
              "    <tr>\n",
              "      <th>5</th>\n",
              "      <td>[Lorillard, Inc., ,, the, unit, of, New, York-...</td>\n",
              "      <td>[NNP, NNP, ,, DT, NN, IN, JJ, JJ, NNP, NNP, WD...</td>\n",
              "      <td>wsj_0003.dp</td>\n",
              "    </tr>\n",
              "    <tr>\n",
              "      <th>6</th>\n",
              "      <td>[Although, preliminary, findings, were, report...</td>\n",
              "      <td>[IN, JJ, NNS, VBD, VBN, RBR, IN, DT, NN, IN, ,...</td>\n",
              "      <td>wsj_0003.dp</td>\n",
              "    </tr>\n",
              "    <tr>\n",
              "      <th>7</th>\n",
              "      <td>[A, Lorillard, spokewoman, said, ,, ``, This, ...</td>\n",
              "      <td>[DT, NNP, NN, VBD, ,, ``, DT, VBZ, DT, JJ, NN, .]</td>\n",
              "      <td>wsj_0003.dp</td>\n",
              "    </tr>\n",
              "    <tr>\n",
              "      <th>8</th>\n",
              "      <td>[We, 're, talking, about, years, ago, before, ...</td>\n",
              "      <td>[PRP, VBP, VBG, IN, NNS, IN, IN, NN, VBD, IN, ...</td>\n",
              "      <td>wsj_0003.dp</td>\n",
              "    </tr>\n",
              "    <tr>\n",
              "      <th>9</th>\n",
              "      <td>[There, is, no, asbestos, in, our, products, n...</td>\n",
              "      <td>[EX, VBZ, DT, NN, IN, PRP$, NNS, RB, .]</td>\n",
              "      <td>wsj_0003.dp</td>\n",
              "    </tr>\n",
              "  </tbody>\n",
              "</table>\n",
              "</div>\n",
              "      <button class=\"colab-df-convert\" onclick=\"convertToInteractive('df-0f12c32c-0db4-4b3a-bed7-6a3c0d62ee5b')\"\n",
              "              title=\"Convert this dataframe to an interactive table.\"\n",
              "              style=\"display:none;\">\n",
              "        \n",
              "  <svg xmlns=\"http://www.w3.org/2000/svg\" height=\"24px\"viewBox=\"0 0 24 24\"\n",
              "       width=\"24px\">\n",
              "    <path d=\"M0 0h24v24H0V0z\" fill=\"none\"/>\n",
              "    <path d=\"M18.56 5.44l.94 2.06.94-2.06 2.06-.94-2.06-.94-.94-2.06-.94 2.06-2.06.94zm-11 1L8.5 8.5l.94-2.06 2.06-.94-2.06-.94L8.5 2.5l-.94 2.06-2.06.94zm10 10l.94 2.06.94-2.06 2.06-.94-2.06-.94-.94-2.06-.94 2.06-2.06.94z\"/><path d=\"M17.41 7.96l-1.37-1.37c-.4-.4-.92-.59-1.43-.59-.52 0-1.04.2-1.43.59L10.3 9.45l-7.72 7.72c-.78.78-.78 2.05 0 2.83L4 21.41c.39.39.9.59 1.41.59.51 0 1.02-.2 1.41-.59l7.78-7.78 2.81-2.81c.8-.78.8-2.07 0-2.86zM5.41 20L4 18.59l7.72-7.72 1.47 1.35L5.41 20z\"/>\n",
              "  </svg>\n",
              "      </button>\n",
              "      \n",
              "  <style>\n",
              "    .colab-df-container {\n",
              "      display:flex;\n",
              "      flex-wrap:wrap;\n",
              "      gap: 12px;\n",
              "    }\n",
              "\n",
              "    .colab-df-convert {\n",
              "      background-color: #E8F0FE;\n",
              "      border: none;\n",
              "      border-radius: 50%;\n",
              "      cursor: pointer;\n",
              "      display: none;\n",
              "      fill: #1967D2;\n",
              "      height: 32px;\n",
              "      padding: 0 0 0 0;\n",
              "      width: 32px;\n",
              "    }\n",
              "\n",
              "    .colab-df-convert:hover {\n",
              "      background-color: #E2EBFA;\n",
              "      box-shadow: 0px 1px 2px rgba(60, 64, 67, 0.3), 0px 1px 3px 1px rgba(60, 64, 67, 0.15);\n",
              "      fill: #174EA6;\n",
              "    }\n",
              "\n",
              "    [theme=dark] .colab-df-convert {\n",
              "      background-color: #3B4455;\n",
              "      fill: #D2E3FC;\n",
              "    }\n",
              "\n",
              "    [theme=dark] .colab-df-convert:hover {\n",
              "      background-color: #434B5C;\n",
              "      box-shadow: 0px 1px 3px 1px rgba(0, 0, 0, 0.15);\n",
              "      filter: drop-shadow(0px 1px 2px rgba(0, 0, 0, 0.3));\n",
              "      fill: #FFFFFF;\n",
              "    }\n",
              "  </style>\n",
              "\n",
              "      <script>\n",
              "        const buttonEl =\n",
              "          document.querySelector('#df-0f12c32c-0db4-4b3a-bed7-6a3c0d62ee5b button.colab-df-convert');\n",
              "        buttonEl.style.display =\n",
              "          google.colab.kernel.accessAllowed ? 'block' : 'none';\n",
              "\n",
              "        async function convertToInteractive(key) {\n",
              "          const element = document.querySelector('#df-0f12c32c-0db4-4b3a-bed7-6a3c0d62ee5b');\n",
              "          const dataTable =\n",
              "            await google.colab.kernel.invokeFunction('convertToInteractive',\n",
              "                                                     [key], {});\n",
              "          if (!dataTable) return;\n",
              "\n",
              "          const docLinkHtml = 'Like what you see? Visit the ' +\n",
              "            '<a target=\"_blank\" href=https://colab.research.google.com/notebooks/data_table.ipynb>data table notebook</a>'\n",
              "            + ' to learn more about interactive tables.';\n",
              "          element.innerHTML = '';\n",
              "          dataTable['output_type'] = 'display_data';\n",
              "          await google.colab.output.renderOutput(dataTable, element);\n",
              "          const docLink = document.createElement('div');\n",
              "          docLink.innerHTML = docLinkHtml;\n",
              "          element.appendChild(docLink);\n",
              "        }\n",
              "      </script>\n",
              "    </div>\n",
              "  </div>\n",
              "  "
            ]
          },
          "metadata": {},
          "execution_count": 20
        }
      ],
      "source": [
        "df = pd.DataFrame(dataframe_rows)\n",
        "df.head(10)"
      ]
    },
    {
      "cell_type": "code",
      "source": [
        "print(\"Displaying the number of sentences of first five documents: \")\n",
        "file_len[:5] "
      ],
      "metadata": {
        "colab": {
          "base_uri": "https://localhost:8080/"
        },
        "id": "QmJlsOnDd1Fb",
        "outputId": "38a23c7b-3e87-4bef-9dd4-98432a3f9fdf"
      },
      "execution_count": 21,
      "outputs": [
        {
          "output_type": "stream",
          "name": "stdout",
          "text": [
            "Displaying the number of sentences of first five documents: \n"
          ]
        },
        {
          "output_type": "execute_result",
          "data": {
            "text/plain": [
              "[2, 1, 30, 17, 3]"
            ]
          },
          "metadata": {},
          "execution_count": 21
        }
      ]
    },
    {
      "cell_type": "markdown",
      "source": [
        "Splits: documents 1-100 are the train set, 101-150 validation set, 151-199 test set."
      ],
      "metadata": {
        "id": "QCOcLrhTeuOS"
      }
    },
    {
      "cell_type": "markdown",
      "source": [
        "In order to achieve the above mentioned split we are retrieving the index for the last document in each the set:\n",
        "\n",
        "- The train sets ends where we find last sentence of the document ```\"wsj_100.dp\"```\n",
        "- The validation sets ends where we find last sentence of the document ```\"wsj_150.dp\"```. From this we subtract the already counted rows of the train set\n",
        "- The test sets spans from the lenght whole lenght of the document minus the already counted rows. "
      ],
      "metadata": {
        "id": "BQqeKqv6fqGT"
      }
    },
    {
      "cell_type": "code",
      "source": [
        "train_idx=df.query(\"docs == 'wsj_0101.dp'\").index[0] - 1\n",
        "val_idx=df.query(\"docs == 'wsj_0151.dp'\").index[0] - train_idx - 1\n",
        "test_idx= len(df) - val_idx - train_idx"
      ],
      "metadata": {
        "id": "K6tNvxw2nP_r"
      },
      "execution_count": 22,
      "outputs": []
    },
    {
      "cell_type": "markdown",
      "source": [
        "Create 3 arrays for assigning the correct value to each row, concatenating them with ```hstack``` then ```raveling``` in order to have an unique array to assing as a column. "
      ],
      "metadata": {
        "id": "YbOPwjcriIJ9"
      }
    },
    {
      "cell_type": "code",
      "source": [
        "split_tr = np.repeat(\"train\",train_idx)\n",
        "split_val = np.repeat(\"val\",val_idx)\n",
        "split_test = np.repeat(\"test\",test_idx)\n",
        "splits = np.hstack((split_tr,split_val,split_test)).ravel() "
      ],
      "metadata": {
        "id": "Udw5kZktoVc8"
      },
      "execution_count": 23,
      "outputs": []
    },
    {
      "cell_type": "code",
      "source": [
        "df = df.assign(split=splits) # create the split column"
      ],
      "metadata": {
        "id": "LRAKY-RCqiwl"
      },
      "execution_count": 24,
      "outputs": []
    },
    {
      "cell_type": "markdown",
      "source": [
        "### Dataframe visualization"
      ],
      "metadata": {
        "id": "ZzmjajJ2ejdT"
      }
    },
    {
      "cell_type": "code",
      "execution_count": 25,
      "metadata": {
        "colab": {
          "base_uri": "https://localhost:8080/",
          "height": 1000
        },
        "id": "b3sM9PDn1kDu",
        "outputId": "3255370b-890f-43c0-85b4-7aa5ed6f63cd"
      },
      "outputs": [
        {
          "output_type": "stream",
          "name": "stdout",
          "text": [
            "Dataset shape: (3828, 4) \n",
            "\n",
            "Dataset columns: ['sentences' 'tags' 'docs' 'split'] \n",
            "\n",
            "Dataset Info: \n",
            " <bound method DataFrame.info of                                               sentences  \\\n",
            "0     [Pierre, Vinken, ,, 61, years, old, ,, will, j...   \n",
            "1     [Mr., Vinken, is, chairman, of, Elsevier, N.V....   \n",
            "2     [Rudolph, Agnew, ,, 55, years, old, and, forme...   \n",
            "3     [A, form, of, asbestos, once, used, to, make, ...   \n",
            "4     [The, asbestos, fiber, ,, crocidolite, ,, is, ...   \n",
            "...                                                 ...   \n",
            "3823  [They, also, said, that, more, than, a, dozen,...   \n",
            "3824  [Sen., Kennedy, said, in, a, separate, stateme...   \n",
            "3825  [Trinity, Industries, Inc., said, it, reached,...   \n",
            "3826                   [Terms, were, n't, disclosed, .]   \n",
            "3827  [Trinity, said, it, plans, to, begin, delivery...   \n",
            "\n",
            "                                                   tags         docs  split  \n",
            "0     [NNP, NNP, ,, CD, NNS, JJ, ,, MD, VB, DT, NN, ...  wsj_0001.dp  train  \n",
            "1     [NNP, NNP, VBZ, NN, IN, NNP, NNP, ,, DT, NNP, ...  wsj_0001.dp  train  \n",
            "2     [NNP, NNP, ,, CD, NNS, JJ, CC, JJ, NN, IN, NNP...  wsj_0002.dp  train  \n",
            "3     [DT, NN, IN, NN, RB, VBN, TO, VB, NNP, NN, NNS...  wsj_0003.dp  train  \n",
            "4     [DT, NN, NN, ,, NN, ,, VBZ, RB, JJ, IN, PRP, V...  wsj_0003.dp  train  \n",
            "...                                                 ...          ...    ...  \n",
            "3823  [PRP, RB, VBD, IN, JJR, IN, DT, NN, NNS, VBP, ...  wsj_0198.dp   test  \n",
            "3824  [NNP, NNP, VBD, IN, DT, JJ, NN, IN, PRP, VBZ, ...  wsj_0198.dp   test  \n",
            "3825  [NNP, NNPS, NNP, VBD, PRP, VBD, DT, JJ, NN, TO...  wsj_0199.dp   test  \n",
            "3826                             [NNS, VBD, RB, VBN, .]  wsj_0199.dp   test  \n",
            "3827  [NNP, VBD, PRP, VBZ, TO, VB, NN, IN, DT, JJ, N...  wsj_0199.dp   test  \n",
            "\n",
            "[3828 rows x 4 columns]> \n",
            "\n",
            "Dataset Head: \n"
          ]
        },
        {
          "output_type": "display_data",
          "data": {
            "text/plain": [
              "                                           sentences  \\\n",
              "0  [Pierre, Vinken, ,, 61, years, old, ,, will, j...   \n",
              "1  [Mr., Vinken, is, chairman, of, Elsevier, N.V....   \n",
              "2  [Rudolph, Agnew, ,, 55, years, old, and, forme...   \n",
              "3  [A, form, of, asbestos, once, used, to, make, ...   \n",
              "4  [The, asbestos, fiber, ,, crocidolite, ,, is, ...   \n",
              "\n",
              "                                                tags         docs  split  \n",
              "0  [NNP, NNP, ,, CD, NNS, JJ, ,, MD, VB, DT, NN, ...  wsj_0001.dp  train  \n",
              "1  [NNP, NNP, VBZ, NN, IN, NNP, NNP, ,, DT, NNP, ...  wsj_0001.dp  train  \n",
              "2  [NNP, NNP, ,, CD, NNS, JJ, CC, JJ, NN, IN, NNP...  wsj_0002.dp  train  \n",
              "3  [DT, NN, IN, NN, RB, VBN, TO, VB, NNP, NN, NNS...  wsj_0003.dp  train  \n",
              "4  [DT, NN, NN, ,, NN, ,, VBZ, RB, JJ, IN, PRP, V...  wsj_0003.dp  train  "
            ],
            "text/html": [
              "\n",
              "  <div id=\"df-8da53b54-e16f-4881-87e0-288104836db8\">\n",
              "    <div class=\"colab-df-container\">\n",
              "      <div>\n",
              "<style scoped>\n",
              "    .dataframe tbody tr th:only-of-type {\n",
              "        vertical-align: middle;\n",
              "    }\n",
              "\n",
              "    .dataframe tbody tr th {\n",
              "        vertical-align: top;\n",
              "    }\n",
              "\n",
              "    .dataframe thead th {\n",
              "        text-align: right;\n",
              "    }\n",
              "</style>\n",
              "<table border=\"1\" class=\"dataframe\">\n",
              "  <thead>\n",
              "    <tr style=\"text-align: right;\">\n",
              "      <th></th>\n",
              "      <th>sentences</th>\n",
              "      <th>tags</th>\n",
              "      <th>docs</th>\n",
              "      <th>split</th>\n",
              "    </tr>\n",
              "  </thead>\n",
              "  <tbody>\n",
              "    <tr>\n",
              "      <th>0</th>\n",
              "      <td>[Pierre, Vinken, ,, 61, years, old, ,, will, j...</td>\n",
              "      <td>[NNP, NNP, ,, CD, NNS, JJ, ,, MD, VB, DT, NN, ...</td>\n",
              "      <td>wsj_0001.dp</td>\n",
              "      <td>train</td>\n",
              "    </tr>\n",
              "    <tr>\n",
              "      <th>1</th>\n",
              "      <td>[Mr., Vinken, is, chairman, of, Elsevier, N.V....</td>\n",
              "      <td>[NNP, NNP, VBZ, NN, IN, NNP, NNP, ,, DT, NNP, ...</td>\n",
              "      <td>wsj_0001.dp</td>\n",
              "      <td>train</td>\n",
              "    </tr>\n",
              "    <tr>\n",
              "      <th>2</th>\n",
              "      <td>[Rudolph, Agnew, ,, 55, years, old, and, forme...</td>\n",
              "      <td>[NNP, NNP, ,, CD, NNS, JJ, CC, JJ, NN, IN, NNP...</td>\n",
              "      <td>wsj_0002.dp</td>\n",
              "      <td>train</td>\n",
              "    </tr>\n",
              "    <tr>\n",
              "      <th>3</th>\n",
              "      <td>[A, form, of, asbestos, once, used, to, make, ...</td>\n",
              "      <td>[DT, NN, IN, NN, RB, VBN, TO, VB, NNP, NN, NNS...</td>\n",
              "      <td>wsj_0003.dp</td>\n",
              "      <td>train</td>\n",
              "    </tr>\n",
              "    <tr>\n",
              "      <th>4</th>\n",
              "      <td>[The, asbestos, fiber, ,, crocidolite, ,, is, ...</td>\n",
              "      <td>[DT, NN, NN, ,, NN, ,, VBZ, RB, JJ, IN, PRP, V...</td>\n",
              "      <td>wsj_0003.dp</td>\n",
              "      <td>train</td>\n",
              "    </tr>\n",
              "  </tbody>\n",
              "</table>\n",
              "</div>\n",
              "      <button class=\"colab-df-convert\" onclick=\"convertToInteractive('df-8da53b54-e16f-4881-87e0-288104836db8')\"\n",
              "              title=\"Convert this dataframe to an interactive table.\"\n",
              "              style=\"display:none;\">\n",
              "        \n",
              "  <svg xmlns=\"http://www.w3.org/2000/svg\" height=\"24px\"viewBox=\"0 0 24 24\"\n",
              "       width=\"24px\">\n",
              "    <path d=\"M0 0h24v24H0V0z\" fill=\"none\"/>\n",
              "    <path d=\"M18.56 5.44l.94 2.06.94-2.06 2.06-.94-2.06-.94-.94-2.06-.94 2.06-2.06.94zm-11 1L8.5 8.5l.94-2.06 2.06-.94-2.06-.94L8.5 2.5l-.94 2.06-2.06.94zm10 10l.94 2.06.94-2.06 2.06-.94-2.06-.94-.94-2.06-.94 2.06-2.06.94z\"/><path d=\"M17.41 7.96l-1.37-1.37c-.4-.4-.92-.59-1.43-.59-.52 0-1.04.2-1.43.59L10.3 9.45l-7.72 7.72c-.78.78-.78 2.05 0 2.83L4 21.41c.39.39.9.59 1.41.59.51 0 1.02-.2 1.41-.59l7.78-7.78 2.81-2.81c.8-.78.8-2.07 0-2.86zM5.41 20L4 18.59l7.72-7.72 1.47 1.35L5.41 20z\"/>\n",
              "  </svg>\n",
              "      </button>\n",
              "      \n",
              "  <style>\n",
              "    .colab-df-container {\n",
              "      display:flex;\n",
              "      flex-wrap:wrap;\n",
              "      gap: 12px;\n",
              "    }\n",
              "\n",
              "    .colab-df-convert {\n",
              "      background-color: #E8F0FE;\n",
              "      border: none;\n",
              "      border-radius: 50%;\n",
              "      cursor: pointer;\n",
              "      display: none;\n",
              "      fill: #1967D2;\n",
              "      height: 32px;\n",
              "      padding: 0 0 0 0;\n",
              "      width: 32px;\n",
              "    }\n",
              "\n",
              "    .colab-df-convert:hover {\n",
              "      background-color: #E2EBFA;\n",
              "      box-shadow: 0px 1px 2px rgba(60, 64, 67, 0.3), 0px 1px 3px 1px rgba(60, 64, 67, 0.15);\n",
              "      fill: #174EA6;\n",
              "    }\n",
              "\n",
              "    [theme=dark] .colab-df-convert {\n",
              "      background-color: #3B4455;\n",
              "      fill: #D2E3FC;\n",
              "    }\n",
              "\n",
              "    [theme=dark] .colab-df-convert:hover {\n",
              "      background-color: #434B5C;\n",
              "      box-shadow: 0px 1px 3px 1px rgba(0, 0, 0, 0.15);\n",
              "      filter: drop-shadow(0px 1px 2px rgba(0, 0, 0, 0.3));\n",
              "      fill: #FFFFFF;\n",
              "    }\n",
              "  </style>\n",
              "\n",
              "      <script>\n",
              "        const buttonEl =\n",
              "          document.querySelector('#df-8da53b54-e16f-4881-87e0-288104836db8 button.colab-df-convert');\n",
              "        buttonEl.style.display =\n",
              "          google.colab.kernel.accessAllowed ? 'block' : 'none';\n",
              "\n",
              "        async function convertToInteractive(key) {\n",
              "          const element = document.querySelector('#df-8da53b54-e16f-4881-87e0-288104836db8');\n",
              "          const dataTable =\n",
              "            await google.colab.kernel.invokeFunction('convertToInteractive',\n",
              "                                                     [key], {});\n",
              "          if (!dataTable) return;\n",
              "\n",
              "          const docLinkHtml = 'Like what you see? Visit the ' +\n",
              "            '<a target=\"_blank\" href=https://colab.research.google.com/notebooks/data_table.ipynb>data table notebook</a>'\n",
              "            + ' to learn more about interactive tables.';\n",
              "          element.innerHTML = '';\n",
              "          dataTable['output_type'] = 'display_data';\n",
              "          await google.colab.output.renderOutput(dataTable, element);\n",
              "          const docLink = document.createElement('div');\n",
              "          docLink.innerHTML = docLinkHtml;\n",
              "          element.appendChild(docLink);\n",
              "        }\n",
              "      </script>\n",
              "    </div>\n",
              "  </div>\n",
              "  "
            ]
          },
          "metadata": {}
        },
        {
          "output_type": "stream",
          "name": "stdout",
          "text": [
            "\n",
            " Dataset Description: \n",
            " \n"
          ]
        },
        {
          "output_type": "display_data",
          "data": {
            "text/plain": [
              "                               sentences                    tags         docs  \\\n",
              "count                               3828                    3828         3828   \n",
              "unique                              3819                    3795          199   \n",
              "top     [Terms, were, n't, disclosed, .]  [NNS, VBD, RB, VBN, .]  wsj_0118.dp   \n",
              "freq                                   8                       8          172   \n",
              "\n",
              "        split  \n",
              "count    3828  \n",
              "unique      3  \n",
              "top     train  \n",
              "freq     1935  "
            ],
            "text/html": [
              "\n",
              "  <div id=\"df-ce88ab3f-d002-4e2e-8a73-7e99765835b5\">\n",
              "    <div class=\"colab-df-container\">\n",
              "      <div>\n",
              "<style scoped>\n",
              "    .dataframe tbody tr th:only-of-type {\n",
              "        vertical-align: middle;\n",
              "    }\n",
              "\n",
              "    .dataframe tbody tr th {\n",
              "        vertical-align: top;\n",
              "    }\n",
              "\n",
              "    .dataframe thead th {\n",
              "        text-align: right;\n",
              "    }\n",
              "</style>\n",
              "<table border=\"1\" class=\"dataframe\">\n",
              "  <thead>\n",
              "    <tr style=\"text-align: right;\">\n",
              "      <th></th>\n",
              "      <th>sentences</th>\n",
              "      <th>tags</th>\n",
              "      <th>docs</th>\n",
              "      <th>split</th>\n",
              "    </tr>\n",
              "  </thead>\n",
              "  <tbody>\n",
              "    <tr>\n",
              "      <th>count</th>\n",
              "      <td>3828</td>\n",
              "      <td>3828</td>\n",
              "      <td>3828</td>\n",
              "      <td>3828</td>\n",
              "    </tr>\n",
              "    <tr>\n",
              "      <th>unique</th>\n",
              "      <td>3819</td>\n",
              "      <td>3795</td>\n",
              "      <td>199</td>\n",
              "      <td>3</td>\n",
              "    </tr>\n",
              "    <tr>\n",
              "      <th>top</th>\n",
              "      <td>[Terms, were, n't, disclosed, .]</td>\n",
              "      <td>[NNS, VBD, RB, VBN, .]</td>\n",
              "      <td>wsj_0118.dp</td>\n",
              "      <td>train</td>\n",
              "    </tr>\n",
              "    <tr>\n",
              "      <th>freq</th>\n",
              "      <td>8</td>\n",
              "      <td>8</td>\n",
              "      <td>172</td>\n",
              "      <td>1935</td>\n",
              "    </tr>\n",
              "  </tbody>\n",
              "</table>\n",
              "</div>\n",
              "      <button class=\"colab-df-convert\" onclick=\"convertToInteractive('df-ce88ab3f-d002-4e2e-8a73-7e99765835b5')\"\n",
              "              title=\"Convert this dataframe to an interactive table.\"\n",
              "              style=\"display:none;\">\n",
              "        \n",
              "  <svg xmlns=\"http://www.w3.org/2000/svg\" height=\"24px\"viewBox=\"0 0 24 24\"\n",
              "       width=\"24px\">\n",
              "    <path d=\"M0 0h24v24H0V0z\" fill=\"none\"/>\n",
              "    <path d=\"M18.56 5.44l.94 2.06.94-2.06 2.06-.94-2.06-.94-.94-2.06-.94 2.06-2.06.94zm-11 1L8.5 8.5l.94-2.06 2.06-.94-2.06-.94L8.5 2.5l-.94 2.06-2.06.94zm10 10l.94 2.06.94-2.06 2.06-.94-2.06-.94-.94-2.06-.94 2.06-2.06.94z\"/><path d=\"M17.41 7.96l-1.37-1.37c-.4-.4-.92-.59-1.43-.59-.52 0-1.04.2-1.43.59L10.3 9.45l-7.72 7.72c-.78.78-.78 2.05 0 2.83L4 21.41c.39.39.9.59 1.41.59.51 0 1.02-.2 1.41-.59l7.78-7.78 2.81-2.81c.8-.78.8-2.07 0-2.86zM5.41 20L4 18.59l7.72-7.72 1.47 1.35L5.41 20z\"/>\n",
              "  </svg>\n",
              "      </button>\n",
              "      \n",
              "  <style>\n",
              "    .colab-df-container {\n",
              "      display:flex;\n",
              "      flex-wrap:wrap;\n",
              "      gap: 12px;\n",
              "    }\n",
              "\n",
              "    .colab-df-convert {\n",
              "      background-color: #E8F0FE;\n",
              "      border: none;\n",
              "      border-radius: 50%;\n",
              "      cursor: pointer;\n",
              "      display: none;\n",
              "      fill: #1967D2;\n",
              "      height: 32px;\n",
              "      padding: 0 0 0 0;\n",
              "      width: 32px;\n",
              "    }\n",
              "\n",
              "    .colab-df-convert:hover {\n",
              "      background-color: #E2EBFA;\n",
              "      box-shadow: 0px 1px 2px rgba(60, 64, 67, 0.3), 0px 1px 3px 1px rgba(60, 64, 67, 0.15);\n",
              "      fill: #174EA6;\n",
              "    }\n",
              "\n",
              "    [theme=dark] .colab-df-convert {\n",
              "      background-color: #3B4455;\n",
              "      fill: #D2E3FC;\n",
              "    }\n",
              "\n",
              "    [theme=dark] .colab-df-convert:hover {\n",
              "      background-color: #434B5C;\n",
              "      box-shadow: 0px 1px 3px 1px rgba(0, 0, 0, 0.15);\n",
              "      filter: drop-shadow(0px 1px 2px rgba(0, 0, 0, 0.3));\n",
              "      fill: #FFFFFF;\n",
              "    }\n",
              "  </style>\n",
              "\n",
              "      <script>\n",
              "        const buttonEl =\n",
              "          document.querySelector('#df-ce88ab3f-d002-4e2e-8a73-7e99765835b5 button.colab-df-convert');\n",
              "        buttonEl.style.display =\n",
              "          google.colab.kernel.accessAllowed ? 'block' : 'none';\n",
              "\n",
              "        async function convertToInteractive(key) {\n",
              "          const element = document.querySelector('#df-ce88ab3f-d002-4e2e-8a73-7e99765835b5');\n",
              "          const dataTable =\n",
              "            await google.colab.kernel.invokeFunction('convertToInteractive',\n",
              "                                                     [key], {});\n",
              "          if (!dataTable) return;\n",
              "\n",
              "          const docLinkHtml = 'Like what you see? Visit the ' +\n",
              "            '<a target=\"_blank\" href=https://colab.research.google.com/notebooks/data_table.ipynb>data table notebook</a>'\n",
              "            + ' to learn more about interactive tables.';\n",
              "          element.innerHTML = '';\n",
              "          dataTable['output_type'] = 'display_data';\n",
              "          await google.colab.output.renderOutput(dataTable, element);\n",
              "          const docLink = document.createElement('div');\n",
              "          docLink.innerHTML = docLinkHtml;\n",
              "          element.appendChild(docLink);\n",
              "        }\n",
              "      </script>\n",
              "    </div>\n",
              "  </div>\n",
              "  "
            ]
          },
          "metadata": {}
        }
      ],
      "source": [
        "print(f'Dataset shape: {df.shape} \\n')\n",
        "\n",
        "print(f'Dataset columns: {df.columns.values} \\n')\n",
        "\n",
        "print(f'Dataset Info: \\n {df.info} \\n')\n",
        "\n",
        "print('Dataset Head: ')\n",
        "\n",
        "display(df.head())\n",
        "\n",
        "print('\\n Dataset Description: \\n ')\n",
        "\n",
        "display(df.describe())"
      ]
    },
    {
      "cell_type": "code",
      "source": [
        "print('\\nDistribution of tags in the splits:')\n",
        "\n",
        "tags_labels_idx = {tag:idx for idx,tag in enumerate(set([elem for seq in df['tags'] for elem in seq]))}\n",
        "\n",
        "tags_bars_train = np.zeros(len(tags_labels_idx))\n",
        "tags_bars_val = np.zeros(len(tags_labels_idx))\n",
        "tags_bars_test = np.zeros(len(tags_labels_idx))\n",
        "\n",
        "\n",
        "for idx, row in df.loc[df['split'] == 'train'].iterrows():\n",
        "    for tag in row['tags']:\n",
        "        tags_bars_train[tags_labels_idx[tag]] += 1\n",
        "for idx, row in df.loc[df['split'] == 'val'].iterrows():\n",
        "    for tag in row['tags']:\n",
        "        tags_bars_val[tags_labels_idx[tag]] += 1\n",
        "for idx, row in df.loc[df['split'] == 'test'].iterrows():\n",
        "    for tag in row['tags']:\n",
        "        tags_bars_test[tags_labels_idx[tag]] += 1\n",
        "\n",
        "tags_labels = list(tags_labels_idx.keys())\n",
        "\n",
        "x = np.arange(len(tags_labels))  # the label locations\n",
        "width = 0.30  # the width of the bars\n",
        "\n",
        "fig, ax = plt.subplots(figsize=(20,10))\n",
        "train_rects = ax.bar(x - width, tags_bars_train, width, label='Train')\n",
        "valid_rects = ax.bar(x, tags_bars_val, width, label='Validation')\n",
        "test_rects = ax.bar(x + width, tags_bars_test, width, label='Test')\n",
        "\n",
        "# Add some text for labels, title and custom x-axis tick labels, etc.\n",
        "ax.set_ylabel('Number of tags')\n",
        "ax.set_title('Tags distribution in the splits')\n",
        "ax.set_xticks(x)\n",
        "ax.set_xticklabels(tags_labels)\n",
        "ax.legend()\n",
        "\n",
        "\n",
        "def autolabel(rects):\n",
        "    \"\"\"Attach a text label above each bar in *rects*, displaying its height.\"\"\"\n",
        "    for rect in rects:\n",
        "        height = rect.get_height()\n",
        "        ax.annotate('{}'.format(height),\n",
        "                    xy=(rect.get_x() + rect.get_width() / 2, height),\n",
        "                    xytext=(0, 3),  # 3 points vertical offset\n",
        "                    textcoords=\"offset points\",\n",
        "                    ha='center', va='bottom')\n",
        "\n",
        "\n",
        "autolabel(train_rects)\n",
        "autolabel(valid_rects)\n",
        "autolabel(test_rects)\n",
        "\n",
        "fig.tight_layout()\n",
        "\n",
        "plt.show()"
      ],
      "metadata": {
        "colab": {
          "base_uri": "https://localhost:8080/",
          "height": 567
        },
        "id": "ycLuOmpRq9n6",
        "outputId": "1e95c20b-4978-4815-d535-b39d5f6d908c"
      },
      "execution_count": 26,
      "outputs": [
        {
          "output_type": "stream",
          "name": "stdout",
          "text": [
            "\n",
            "Distribution of tags in the splits:\n"
          ]
        },
        {
          "output_type": "display_data",
          "data": {
            "text/plain": [
              "<Figure size 1440x720 with 1 Axes>"
            ],
            "image/png": "[encoded data removed]"
          },
          "metadata": {
            "needs_background": "light"
          }
        }
      ]
    },
    {
      "cell_type": "markdown",
      "source": [
        "## Togli torchtex"
      ],
      "metadata": {
        "id": "CBr3PJiffaFy"
      }
    },
    {
      "cell_type": "code",
      "execution_count": 27,
      "metadata": {
        "id": "fCsMFJUDXsGg",
        "colab": {
          "base_uri": "https://localhost:8080/"
        },
        "outputId": "502ec517-383b-4038-fb13-6c45ec9631a4"
      },
      "outputs": [
        {
          "output_type": "stream",
          "name": "stderr",
          "text": [
            ".vector_cache/glove.6B.zip: 862MB [02:43, 5.29MB/s]                           \n",
            "100%|█████████▉| 399999/400000 [00:14<00:00, 28476.96it/s]\n"
          ]
        }
      ],
      "source": [
        "# SB - START NEW CODE SECTION\n",
        "\n",
        "import torchtext\n",
        "\n",
        "# Dowload GloVe Vocabulary 6B (It includes sources as Gigaword ( newswire ) consistent with the domain of the Input data (WSJ articles))\n",
        "V1 = torchtext.vocab.GloVe(name='6B', dim=100)"
      ]
    },
    {
      "cell_type": "markdown",
      "source": [
        "## Aggiungi ignore punctiation"
      ],
      "metadata": {
        "id": "bkTAn8WwsvwQ"
      }
    },
    {
      "cell_type": "code",
      "source": [
        "seeds = [42,104,666,1337,2022]\n",
        "avg_metric_info = {}\n",
        "\n",
        "for seed in seeds:\n",
        "    print(f'Running with seed: {seed}')\n",
        "    set_reproducibility(seed)"
      ],
      "metadata": {
        "id": "qmH9Sud2t-L3"
      },
      "execution_count": null,
      "outputs": []
    },
    {
      "cell_type": "markdown",
      "source": [
        "## Dataset encoding"
      ],
      "metadata": {
        "id": "5ZCSR1Wfoi00"
      }
    },
    {
      "cell_type": "code",
      "source": [
        "# arrays dimensions initialization \n",
        "embedding_dim = 100 # set accordingly to the embedding chosen (GloVe 6B 100d)\n",
        "missing_pos_tag = 1 # assuming to add a single one hot encoding for any POS tag not present in training\n",
        "\n",
        "# dimensions initialization \n",
        "tot_sentence_num = len(df['sentences']) # Total number of sentences\n",
        "tot_sentence_train = cnt_words_train # Total number of training sentences\n",
        "tot_sentence_val = cnt_words_val # Total number of validation sentences\n",
        "tot_sentence_test = cnt_words_test # Total number of test sentences\n",
        "\n",
        "tot_token_num = max(file_len_tags) # Total number of tokens\n",
        "max_sentence_len = max(file_len_sent) # Max sentence length (number of tokens)"
      ],
      "metadata": {
        "id": "_KYWSVZSpELe"
      },
      "execution_count": 28,
      "outputs": []
    },
    {
      "cell_type": "markdown",
      "source": [
        "###  One Hot Encoding of POS Tags\n",
        "\n",
        "\n",
        "The task to the performed by the model is a multi-class classification therefore the labels are not encoded assigning integer values to each different class, but rather by one hot encoding."
      ],
      "metadata": {
        "id": "E5c5LeQ6ufm4"
      }
    },
    {
      "cell_type": "code",
      "source": [
        "ohe_df = pd.get_dummies(unique_tags_train) # Get one hot encoding for POS tags in the training dataset\n",
        "ohe_df['UNK'] = 0  # Add a column for 'UNK' POS tags\n",
        "ohe = ohe_df.to_numpy(dtype=float) \n",
        "unk_axis=np.ones((1,len(unique_tags_train)+1)) # Add the encoding for UNK POS tag\n",
        "ohe = np.concatenate((ohe,unk_axis)) \n",
        "\n",
        "# Numpy arrays X (token embddings) and Y (One Hot Encoding of POS tag classes) initialization:\n",
        "# X shape: dim 0 (total sentences per dataset), dim 1 (max tokens), dim 2 (features (embedding vectors))\n",
        "X_train = np.zeros((cnt_sents_train,max_sentence_len,embedding_dim))\n",
        "X_val = np.zeros((cnt_sents_val,max_sentence_len,embedding_dim))\n",
        "X_test = np.zeros((cnt_sents_test,max_sentence_len,embedding_dim))\n",
        "\n",
        "# Y shape: dim 0 (total sentences per dataset), dim 1 (max tokens), dim 2 (One Hot Encoding vectors)) \n",
        "Y_train = np.zeros((cnt_sents_train,max_sentence_len,ohe.shape[1]))\n",
        "Y_val = np.zeros((cnt_sents_val,max_sentence_len,ohe.shape[1]))\n",
        "Y_test = np.zeros((cnt_sents_test,max_sentence_len,ohe.shape[1]))"
      ],
      "metadata": {
        "id": "-NXJl1Gh1XGp"
      },
      "execution_count": 29,
      "outputs": []
    },
    {
      "cell_type": "markdown",
      "source": [
        "Vocabularies for managing OOV words"
      ],
      "metadata": {
        "id": "SOfupKY12jD1"
      }
    },
    {
      "cell_type": "code",
      "source": [
        "# Out of Vocabulary initialization\n",
        "OOV1 = {}\n",
        "OOV2 = {}\n",
        "OOV3 = {}"
      ],
      "metadata": {
        "id": "Z3lYCxOY2id3"
      },
      "execution_count": 30,
      "outputs": []
    },
    {
      "cell_type": "code",
      "source": [
        "# X and Y arrays update retriving token/tag pairs from df dataframe and retriving embedding and one hot encoding vectors\n",
        "for index,row in df.iterrows(): # Iterate over the sentences in df dataframe and update X with the token embedding vector and Y with the class one hot encoding\n",
        "\n",
        "    # Training\n",
        "    # The model will be trained on X_train and Y_train containing V1 and OOV1 embeddings (V2) and one hot encodings found in training\n",
        "    if ((row['docs'].startswith(\"wsj_00\")) or (row['docs'] == \"wsj_0100.dp\")):\n",
        "      for i in range(0,len(row['sentences'])): # Iterate over the words of the fetched sentence \n",
        "\n",
        "        # Embedding from V1 (GloVe Voc.6B), if not found generate a new random embedding and add it to OOV1. V1+OOV1 = V2\n",
        "        embedding_vector = V1.get_vecs_by_tokens(row['sentences'][i]) # Fetch pretrained embedding vector from GloVe\n",
        "        a = np.count_nonzero(embedding_vector)\n",
        "        if a != 0: # Embedding found \n",
        "          X_train[index,i,:] = embedding_vector\n",
        "        elif row['sentences'][i] in OOV1.keys(): # No embedding found in Vocabulary but embedding already generated as OOV token\n",
        "          X_train[index,i,:] = OOV1[row['sentences'][i]]\n",
        "        else: # No embedding found neither in Vocabulary nor in OOV1: generate a new embedding and update OOV\n",
        "          X_train[index,i,:] = np.random.rand((embedding_dim)) # Embedding with random vector\n",
        "          #X_train[index,i,:] = np.ones((embedding_dim)) # Embedding for fixed UNK placeholder\n",
        "          OOV1[row['sentences'][i]] = X_train[index,i,:]\n",
        "        # One Hot Encoding vector fetch and Y_train update\n",
        "        if (row['tags'][i]) in unique_tags_train:\n",
        "          ohe_idx = unique_tags_train.index(row['tags'][i]) \n",
        "          Y_train[index,i,:] = ohe[ohe_idx]\n",
        "        else: # No One Hot Encoding vector found\n",
        "          Y_train[index,i,:] = np.zeros((ohe.shape[1])) # One Hot Encoding for fixed UNK placeholder.\n",
        "    \n",
        "    # Validation\n",
        "    # The model will be validated on X_val and Y_val containing V1+OOV1+OOV2 embeddings (V3) and POS tag one hot encodings found in training (plus placeholder if not found)\n",
        "    elif ((row['docs'] != \"wsj_0100.dp\") and (row['docs'].startswith(\"wsj_010\") or row['docs'].startswith(\"wsj_011\") or row['docs'].startswith(\"wsj_012\") or row['docs'].startswith(\"wsj_013\") or row['docs'].startswith(\"wsj_014\") or row['docs'].startswith(\"wsj_0150\"))): \n",
        "\n",
        "      if (row['docs'] == \"wsj_0101.dp\"): # First sentence of validation set \n",
        "        OOV2 = OOV1 # initialize OVV2 with embeddings already generate in OOV1\n",
        "        idx_t = index # offset to start array index from 0\n",
        "      idx = index - idx_t\n",
        "\n",
        "      for i in range(0,len(row['sentences'])): # Iterate over the words of the fetched sentence \n",
        "\n",
        "        # Embedding from V1+OVV1 (V2), if not found generate a new random embedding and add it to OOV2. V1+OOV1+OOV2 = V3\n",
        "        embedding_vector = V1.get_vecs_by_tokens(row['sentences'][i]) # Fetch pretrained embedding vector from GloVe\n",
        "        a = np.count_nonzero(embedding_vector)\n",
        "        if a != 0: # Embedding found \n",
        "          X_val[idx,i,:] = embedding_vector\n",
        "        elif row['sentences'][i] in OOV2.keys(): # No embedding found in Vocabulary but embedding already generated as OOV2 token\n",
        "          X_val[idx,i,:] = OOV2[row['sentences'][i]]\n",
        "        else: # No embedding found neither in Vocabulary nor in OOV1: generate a new embedding and update OOV\n",
        "          X_val[idx,i,:] = np.random.rand((embedding_dim)) # Embedding with random vector\n",
        "          OOV2[row['sentences'][i]] = X_val[idx,i,:]\n",
        "          X_val[idx,i,:] = np.ones((embedding_dim)) # Embedding for fixed UNK placeholder, it can be changed to random array\n",
        "\n",
        "        # One Hot Encoding vector fetch and Y_train update\n",
        "        if (row['tags'][i]) in unique_tags_train:\n",
        "          ohe_idx = unique_tags_train.index(row['tags'][i]) # always considered vs. training ohe hot encodings\n",
        "          Y_val[idx,i,:] = ohe[ohe_idx]\n",
        "        else: # No One Hot Encoding vector found\n",
        "          Y_val[idx,i,:] = np.zeros((ohe.shape[1])) # One Hot Encoding for fixed UNK placeholder.\n",
        "\n",
        "    # Test \n",
        "    # The model will be tested on X_test and Y_test containing V1+OOV1+OOV2+OOV3 embeddings (V4) and POS tag one hot encodings found in training (plus placeholder if not found)\n",
        "    elif ((row['docs'] != \"wsj_0150.dp\") and (row['docs'].startswith(\"wsj_015\") or row['docs'].startswith(\"wsj_016\") or row['docs'].startswith(\"wsj_017\") or row['docs'].startswith(\"wsj_018\") or row['docs'].startswith(\"wsj_019\"))): \n",
        "\n",
        "      if (row['docs'] == \"wsj_0151.dp\"): # First sentence of test set \n",
        "        OOV3 = OOV2 # initialize OVV3 with embeddings already generated in OOV2\n",
        "        idx_v = index # offset to start array index from 0\n",
        "      idx = index - idx_v\n",
        "\n",
        "      for i in range(0,len(row['sentences'])): # Iterate over the words of the fetched sentence \n",
        "\n",
        "        # Embedding from V1+OVV1+OOV2 (V3), if not found generate a new random embedding and add it to OOV3. V1+OOV1+OOV2+OOV3 = V4\n",
        "        embedding_vector = V1.get_vecs_by_tokens(row['sentences'][i]) # Fetch pretrained embedding vector from GloVe\n",
        "        a = np.count_nonzero(embedding_vector)\n",
        "        if a != 0: # Embedding found \n",
        "          X_test[idx,i,:] = embedding_vector\n",
        "        elif row['sentences'][i] in OOV3.keys(): # No embedding found in Vocabulary but embedding already generated as OOV2 token\n",
        "          X_test[idx,i,:] = OOV3[row['sentences'][i]]\n",
        "        else: # No embedding found neither in Vocabulary nor in OOV1: generate a new embedding and update OOV\n",
        "          X_test[idx,i,:] = np.random.rand((embedding_dim)) # Embedding with random vector\n",
        "          OOV3[row['sentences'][i]] = X_test[idx,i,:]\n",
        "          X_val[idx,i,:] = np.ones((embedding_dim)) # Embedding for fixed UNK placeholder, it can be changed to random array\n",
        "\n",
        "        # One Hot Encoding vector fetch and Y_train update\n",
        "        if (row['tags'][i]) in unique_tags_train:\n",
        "          ohe_idx = unique_tags_train.index(row['tags'][i]) \n",
        "          Y_test[idx,i,:] = ohe[ohe_idx]\n",
        "        else: # No One Hot Encoding vector found\n",
        "          Y_test[idx,i,:] = np.zeros((ohe.shape[1])) # One Hot Encoding for fixed UNK placeholder.\n",
        "         \n"
      ],
      "metadata": {
        "id": "Sp-EHHHhk_9R"
      },
      "execution_count": 34,
      "outputs": []
    },
    {
      "cell_type": "code",
      "execution_count": 32,
      "metadata": {
        "id": "RmNSeW-GKkHJ"
      },
      "outputs": [],
      "source": [
        "ohe_df = pd.get_dummies(unique_tags_train) # Get one hot encoding for POS tags in the training dataset\n",
        "ohe_df['UNK'] = 0  # Add a column for 'UNK' POS tags\n",
        "ohe = np.zeros((len(unique_tags_train)+1,len(unique_tags_train)+1)) # Create array of same size as encoding from training plus 1 row and 1 column for UNK\n",
        "\n",
        "for i in range(0,len(ohe_df)):\n",
        "  ohe[i] = ohe_df.iloc[i] # copy one hot encoding\n",
        "ohe[(len(unique_tags_train),len(unique_tags_train))] = 1 # Add the encoding for UNK POS tag\n",
        "\n",
        "# Numpy arrays X (token embddings) and Y (One Hot Encoding of POS tag classes) initialization:\n",
        "# X shape: dim 0 (total sentences per dataset), dim 1 (max tokens), dim 2 (features (embedding vectors)) \n",
        "X_train = np.zeros((cnt_sents_train,max_sentence_len,embedding_dim))\n",
        "X_val = np.zeros((cnt_sents_val,max_sentence_len,embedding_dim))\n",
        "X_test = np.zeros((cnt_sents_test,max_sentence_len,embedding_dim))\n",
        "\n",
        "# Y shape: dim 0 (total sentences per dataset), dim 1 (max tokens), dim 2 (One Hot Encoding vectors)) \n",
        "Y_train = np.zeros((cnt_sents_train,max_sentence_len,ohe.shape[1]))\n",
        "Y_val = np.zeros((cnt_sents_val,max_sentence_len,ohe.shape[1]))\n",
        "Y_test = np.zeros((cnt_sents_test,max_sentence_len,ohe.shape[1]))\n",
        "\n",
        "# Out of Vocabulary initialization\n",
        "OOV1 = {}\n",
        "OOV2 = {}\n",
        "OOV3 = {}\n",
        "\n",
        "# X and Y arrays update retriving token/tag pairs from df dataframe and retriving embedding and one hot encoding vectors\n",
        "for index,row in df.iterrows(): # Iterate over the sentences in df dataframe and update X with the token embedding vector and Y with the class one hot encoding\n",
        "\n",
        "    # Training\n",
        "    # The model will be trained on X_train and Y_train containing V1 and OOV1 embeddings (V2) and one hot encodings found in training\n",
        "    if ((row['docs'].startswith(\"wsj_00\")) or (row['docs'] == \"wsj_0100.dp\")):\n",
        "      for i in range(0,len(row['sentences'])): # Iterate over the words of the fetched sentence \n",
        "\n",
        "        # Embedding from V1 (GloVe Voc.6B), if not found generate a new random embedding and add it to OOV1. V1+OOV1 = V2\n",
        "        embedding_vector = V1.get_vecs_by_tokens(row['sentences'][i]) # Fetch pretrained embedding vector from GloVe\n",
        "        a = np.count_nonzero(embedding_vector)\n",
        "        if a != 0: # Embedding found \n",
        "          X_train[index,i,:] = embedding_vector\n",
        "        elif row['sentences'][i] in OOV1.keys(): # No embedding found in Vocabulary but embedding already generated as OOV token\n",
        "          X_train[index,i,:] = OOV1[row['sentences'][i]]\n",
        "        else: # No embedding found neither in Vocabulary nor in OOV1: generate a new embedding and update OOV\n",
        "          X_train[index,i,:] = np.random.rand((embedding_dim)) # Embedding with random vector\n",
        "          #X_train[index,i,:] = np.ones((embedding_dim)) # Embedding for fixed UNK placeholder\n",
        "          OOV1[row['sentences'][i]] = X_train[index,i,:]\n",
        "        # One Hot Encoding vector fetch and Y_train update\n",
        "        if (row['tags'][i]) in unique_tags_train:\n",
        "          ohe_idx = unique_tags_train.index(row['tags'][i]) \n",
        "          Y_train[index,i,:] = ohe[ohe_idx]\n",
        "        else: # No One Hot Encoding vector found\n",
        "          Y_train[index,i,:] = np.zeros((ohe.shape[1])) # One Hot Encoding for fixed UNK placeholder.\n",
        "    \n",
        "    # Validation\n",
        "    # The model will be validated on X_val and Y_val containing V1+OOV1+OOV2 embeddings (V3) and POS tag one hot encodings found in training (plus placeholder if not found)\n",
        "    elif ((row['docs'] != \"wsj_0100.dp\") and (row['docs'].startswith(\"wsj_010\") or row['docs'].startswith(\"wsj_011\") or row['docs'].startswith(\"wsj_012\") or row['docs'].startswith(\"wsj_013\") or row['docs'].startswith(\"wsj_014\") or row['docs'].startswith(\"wsj_0150\"))): \n",
        "\n",
        "      if (row['docs'] == \"wsj_0101.dp\"): # First sentence of validation set \n",
        "        OOV2 = OOV1 # initialize OVV2 with embeddings already generate in OOV1\n",
        "        idx_t = index # offset to start array index from 0\n",
        "      idx = index - idx_t\n",
        "\n",
        "      for i in range(0,len(row['sentences'])): # Iterate over the words of the fetched sentence \n",
        "\n",
        "        # Embedding from V1+OVV1 (V2), if not found generate a new random embedding and add it to OOV2. V1+OOV1+OOV2 = V3\n",
        "        embedding_vector = V1.get_vecs_by_tokens(row['sentences'][i]) # Fetch pretrained embedding vector from GloVe\n",
        "        a = np.count_nonzero(embedding_vector)\n",
        "        if a != 0: # Embedding found \n",
        "          X_val[idx,i,:] = embedding_vector\n",
        "        elif row['sentences'][i] in OOV2.keys(): # No embedding found in Vocabulary but embedding already generated as OOV2 token\n",
        "          X_val[idx,i,:] = OOV2[row['sentences'][i]]\n",
        "        else: # No embedding found neither in Vocabulary nor in OOV1: generate a new embedding and update OOV\n",
        "          X_val[idx,i,:] = np.random.rand((embedding_dim)) # Embedding with random vector\n",
        "          OOV2[row['sentences'][i]] = X_val[idx,i,:]\n",
        "          X_val[idx,i,:] = np.ones((embedding_dim)) # Embedding for fixed UNK placeholder, it can be changed to random array\n",
        "\n",
        "        # One Hot Encoding vector fetch and Y_train update\n",
        "        if (row['tags'][i]) in unique_tags_train:\n",
        "          ohe_idx = unique_tags_train.index(row['tags'][i]) # always considered vs. training ohe hot encodings\n",
        "          Y_val[idx,i,:] = ohe[ohe_idx]\n",
        "        else: # No One Hot Encoding vector found\n",
        "          Y_val[idx,i,:] = np.zeros((ohe.shape[1])) # One Hot Encoding for fixed UNK placeholder.\n",
        "\n",
        "    # Test \n",
        "    # The model will be tested on X_test and Y_test containing V1+OOV1+OOV2+OOV3 embeddings (V4) and POS tag one hot encodings found in training (plus placeholder if not found)\n",
        "    elif ((row['docs'] != \"wsj_0150.dp\") and (row['docs'].startswith(\"wsj_015\") or row['docs'].startswith(\"wsj_016\") or row['docs'].startswith(\"wsj_017\") or row['docs'].startswith(\"wsj_018\") or row['docs'].startswith(\"wsj_019\"))): \n",
        "\n",
        "      if (row['docs'] == \"wsj_0151.dp\"): # First sentence of test set \n",
        "        OOV3 = OOV2 # initialize OVV3 with embeddings already generated in OOV2\n",
        "        idx_v = index # offset to start array index from 0\n",
        "      idx = index - idx_v\n",
        "\n",
        "      for i in range(0,len(row['sentences'])): # Iterate over the words of the fetched sentence \n",
        "\n",
        "        # Embedding from V1+OVV1+OOV2 (V3), if not found generate a new random embedding and add it to OOV3. V1+OOV1+OOV2+OOV3 = V4\n",
        "        embedding_vector = V1.get_vecs_by_tokens(row['sentences'][i]) # Fetch pretrained embedding vector from GloVe\n",
        "        a = np.count_nonzero(embedding_vector)\n",
        "        if a != 0: # Embedding found \n",
        "          X_test[idx,i,:] = embedding_vector\n",
        "        elif row['sentences'][i] in OOV3.keys(): # No embedding found in Vocabulary but embedding already generated as OOV2 token\n",
        "          X_test[idx,i,:] = OOV3[row['sentences'][i]]\n",
        "        else: # No embedding found neither in Vocabulary nor in OOV1: generate a new embedding and update OOV\n",
        "          X_test[idx,i,:] = np.random.rand((embedding_dim)) # Embedding with random vector\n",
        "          OOV3[row['sentences'][i]] = X_test[idx,i,:]\n",
        "          X_val[idx,i,:] = np.ones((embedding_dim)) # Embedding for fixed UNK placeholder, it can be changed to random array\n",
        "\n",
        "        # One Hot Encoding vector fetch and Y_train update\n",
        "        if (row['tags'][i]) in unique_tags_train:\n",
        "          ohe_idx = unique_tags_train.index(row['tags'][i]) \n",
        "          Y_test[idx,i,:] = ohe[ohe_idx]\n",
        "        else: # No One Hot Encoding vector found\n",
        "          Y_test[idx,i,:] = np.zeros((ohe.shape[1])) # One Hot Encoding for fixed UNK placeholder.\n",
        "         \n"
      ]
    },
    {
      "cell_type": "markdown",
      "source": [
        "Checking shape of OOV and train, val, test arrays"
      ],
      "metadata": {
        "id": "lrzXBthOv7Rv"
      }
    },
    {
      "cell_type": "code",
      "execution_count": 35,
      "metadata": {
        "colab": {
          "base_uri": "https://localhost:8080/"
        },
        "id": "RmUbbE5HNC9V",
        "outputId": "1fa973d7-79be-49d1-c3b7-fc9d46dcb75c"
      },
      "outputs": [
        {
          "output_type": "stream",
          "name": "stdout",
          "text": [
            "[0.61234669 0.31368999 0.30080174 0.26837079 0.84684493 0.00168116\n",
            " 0.09987225 0.64725106 0.60018178 0.24727288 0.48665649 0.62707636\n",
            " 0.51614604 0.67430878 0.23488737 0.09199684 0.47993191 0.08948365\n",
            " 0.76874474 0.40691404 0.76716477 0.99015511 0.3159997  0.72079285\n",
            " 0.23294594 0.60137975 0.13511863 0.29222131 0.07455272 0.53877572\n",
            " 0.21097804 0.9289898  0.71654062 0.72251939 0.32490438 0.53698368\n",
            " 0.8374288  0.55687974 0.49304445 0.72071793 0.21049394 0.37146989\n",
            " 0.04672401 0.15545679 0.67387061 0.76049628 0.46778238 0.91921875\n",
            " 0.04364325 0.32211213 0.49519744 0.80700303 0.2870428  0.04653651\n",
            " 0.44753953 0.11471949 0.02307993 0.27153959 0.26660394 0.84296713\n",
            " 0.27215171 0.36253701 0.6367861  0.60259109 0.56981723 0.77168354\n",
            " 0.69130759 0.01540202 0.04795303 0.09773602 0.02466817 0.33859858\n",
            " 0.75666239 0.86665949 0.49058762 0.59350629 0.84171053 0.8481617\n",
            " 0.30370931 0.59578661 0.93085752 0.32737923 0.76646914 0.75734832\n",
            " 0.90679683 0.3545295  0.59049617 0.16044363 0.49825552 0.46143309\n",
            " 0.54296134 0.33530971 0.0852371  0.96824098 0.04129304 0.74500667\n",
            " 0.01321382 0.12773234 0.54555034 0.51787465]\n",
            "[0.61234669 0.31368999 0.30080174 0.26837079 0.84684493 0.00168116\n",
            " 0.09987225 0.64725106 0.60018178 0.24727288 0.48665649 0.62707636\n",
            " 0.51614604 0.67430878 0.23488737 0.09199684 0.47993191 0.08948365\n",
            " 0.76874474 0.40691404 0.76716477 0.99015511 0.3159997  0.72079285\n",
            " 0.23294594 0.60137975 0.13511863 0.29222131 0.07455272 0.53877572\n",
            " 0.21097804 0.9289898  0.71654062 0.72251939 0.32490438 0.53698368\n",
            " 0.8374288  0.55687974 0.49304445 0.72071793 0.21049394 0.37146989\n",
            " 0.04672401 0.15545679 0.67387061 0.76049628 0.46778238 0.91921875\n",
            " 0.04364325 0.32211213 0.49519744 0.80700303 0.2870428  0.04653651\n",
            " 0.44753953 0.11471949 0.02307993 0.27153959 0.26660394 0.84296713\n",
            " 0.27215171 0.36253701 0.6367861  0.60259109 0.56981723 0.77168354\n",
            " 0.69130759 0.01540202 0.04795303 0.09773602 0.02466817 0.33859858\n",
            " 0.75666239 0.86665949 0.49058762 0.59350629 0.84171053 0.8481617\n",
            " 0.30370931 0.59578661 0.93085752 0.32737923 0.76646914 0.75734832\n",
            " 0.90679683 0.3545295  0.59049617 0.16044363 0.49825552 0.46143309\n",
            " 0.54296134 0.33530971 0.0852371  0.96824098 0.04129304 0.74500667\n",
            " 0.01321382 0.12773234 0.54555034 0.51787465]\n"
          ]
        }
      ],
      "source": [
        "# SB - SOME UNIT CHECKS\n",
        "# 'Pierre' is an OOV1 word. Its emebedding should be added in training with a Random vector\n",
        "print(OOV1['Pierre'])\n",
        "\n",
        "# 'Pierre' is the first word of the first sentence.\n",
        "print(X_train[0,0])\n"
      ]
    },
    {
      "cell_type": "code",
      "execution_count": 36,
      "metadata": {
        "colab": {
          "base_uri": "https://localhost:8080/"
        },
        "id": "d6qCptKOPYoP",
        "outputId": "c2c343f6-7855-46fe-b9f8-53939d6799be"
      },
      "outputs": [
        {
          "output_type": "stream",
          "name": "stdout",
          "text": [
            "[0.65891504 0.37036026 0.01053732 0.34701062 0.59790624 0.50959683\n",
            " 0.08487946 0.84803685 0.86330571 0.67896294 0.95749137 0.14444614\n",
            " 0.1813887  0.64691482 0.23123716 0.33447851 0.40586434 0.29479263\n",
            " 0.10548941 0.50847348 0.43803256 0.78688436 0.03884616 0.51599969\n",
            " 0.8023765  0.79583773 0.72858324 0.28201357 0.11335476 0.52387282\n",
            " 0.00536469 0.74262494 0.65492776 0.61195678 0.0287873  0.62360986\n",
            " 0.41902268 0.12607721 0.10336651 0.68553559 0.85130023 0.88733448\n",
            " 0.59577355 0.67046059 0.21393219 0.60811661 0.66779726 0.47347198\n",
            " 0.88006698 0.80588721 0.09639369 0.11607034 0.47142298 0.21057891\n",
            " 0.81236424 0.50436617 0.13033821 0.01432481 0.70232424 0.33763467\n",
            " 0.07454722 0.87290649 0.67762081 0.13679786 0.56255135 0.26861458\n",
            " 0.36983464 0.87385724 0.07154339 0.54450422 0.77519015 0.95317024\n",
            " 0.5052325  0.42580523 0.63207704 0.71956077 0.84113014 0.16841752\n",
            " 0.35776751 0.99338035 0.79069313 0.30298258 0.78130798 0.95522693\n",
            " 0.98456861 0.16169841 0.79363898 0.04973121 0.51206629 0.8763607\n",
            " 0.0301517  0.03260903 0.8180963  0.7305208  0.01265287 0.77736256\n",
            " 0.56795837 0.5318308  0.81284089 0.31306181]\n",
            "[0.65891504 0.37036026 0.01053732 0.34701062 0.59790624 0.50959683\n",
            " 0.08487946 0.84803685 0.86330571 0.67896294 0.95749137 0.14444614\n",
            " 0.1813887  0.64691482 0.23123716 0.33447851 0.40586434 0.29479263\n",
            " 0.10548941 0.50847348 0.43803256 0.78688436 0.03884616 0.51599969\n",
            " 0.8023765  0.79583773 0.72858324 0.28201357 0.11335476 0.52387282\n",
            " 0.00536469 0.74262494 0.65492776 0.61195678 0.0287873  0.62360986\n",
            " 0.41902268 0.12607721 0.10336651 0.68553559 0.85130023 0.88733448\n",
            " 0.59577355 0.67046059 0.21393219 0.60811661 0.66779726 0.47347198\n",
            " 0.88006698 0.80588721 0.09639369 0.11607034 0.47142298 0.21057891\n",
            " 0.81236424 0.50436617 0.13033821 0.01432481 0.70232424 0.33763467\n",
            " 0.07454722 0.87290649 0.67762081 0.13679786 0.56255135 0.26861458\n",
            " 0.36983464 0.87385724 0.07154339 0.54450422 0.77519015 0.95317024\n",
            " 0.5052325  0.42580523 0.63207704 0.71956077 0.84113014 0.16841752\n",
            " 0.35776751 0.99338035 0.79069313 0.30298258 0.78130798 0.95522693\n",
            " 0.98456861 0.16169841 0.79363898 0.04973121 0.51206629 0.8763607\n",
            " 0.0301517  0.03260903 0.8180963  0.7305208  0.01265287 0.77736256\n",
            " 0.56795837 0.5318308  0.81284089 0.31306181]\n",
            "[0.65891504 0.37036026 0.01053732 0.34701062 0.59790624 0.50959683\n",
            " 0.08487946 0.84803685 0.86330571 0.67896294 0.95749137 0.14444614\n",
            " 0.1813887  0.64691482 0.23123716 0.33447851 0.40586434 0.29479263\n",
            " 0.10548941 0.50847348 0.43803256 0.78688436 0.03884616 0.51599969\n",
            " 0.8023765  0.79583773 0.72858324 0.28201357 0.11335476 0.52387282\n",
            " 0.00536469 0.74262494 0.65492776 0.61195678 0.0287873  0.62360986\n",
            " 0.41902268 0.12607721 0.10336651 0.68553559 0.85130023 0.88733448\n",
            " 0.59577355 0.67046059 0.21393219 0.60811661 0.66779726 0.47347198\n",
            " 0.88006698 0.80588721 0.09639369 0.11607034 0.47142298 0.21057891\n",
            " 0.81236424 0.50436617 0.13033821 0.01432481 0.70232424 0.33763467\n",
            " 0.07454722 0.87290649 0.67762081 0.13679786 0.56255135 0.26861458\n",
            " 0.36983464 0.87385724 0.07154339 0.54450422 0.77519015 0.95317024\n",
            " 0.5052325  0.42580523 0.63207704 0.71956077 0.84113014 0.16841752\n",
            " 0.35776751 0.99338035 0.79069313 0.30298258 0.78130798 0.95522693\n",
            " 0.98456861 0.16169841 0.79363898 0.04973121 0.51206629 0.8763607\n",
            " 0.0301517  0.03260903 0.8180963  0.7305208  0.01265287 0.77736256\n",
            " 0.56795837 0.5318308  0.81284089 0.31306181]\n"
          ]
        }
      ],
      "source": [
        "# Vinken is an OOV1 word. File wsj_0001.dp, second word of the first sentence and second word of the second sentence \n",
        "print(OOV1['Vinken'])\n",
        "print(X_train[0,1])\n",
        "print(X_train[1,1])"
      ]
    },
    {
      "cell_type": "code",
      "execution_count": 37,
      "metadata": {
        "colab": {
          "base_uri": "https://localhost:8080/"
        },
        "id": "GPfNbeD4Od0C",
        "outputId": "5626f2dc-a7f2-43ae-98cd-78296d17c344"
      },
      "outputs": [
        {
          "output_type": "stream",
          "name": "stdout",
          "text": [
            "[-1.89700007e-01  5.00239991e-02  1.90840006e-01 -4.91839983e-02\n",
            " -8.97369981e-02  2.10060000e-01 -5.49520016e-01  9.83769968e-02\n",
            " -2.01350003e-01  3.42409998e-01 -9.26769972e-02  1.60999998e-01\n",
            " -1.32679999e-01 -2.81599998e-01  1.87370002e-01 -4.29589987e-01\n",
            "  9.60389972e-01  1.39719993e-01 -1.07809997e+00  4.05180007e-01\n",
            "  5.05389988e-01 -5.50639987e-01  4.84400004e-01  3.80439997e-01\n",
            " -2.90549989e-03 -3.49420011e-01 -9.96960029e-02 -7.83680022e-01\n",
            "  1.03629994e+00 -2.31399998e-01 -4.71210003e-01  5.71259975e-01\n",
            " -2.14540005e-01  3.59580010e-01 -4.83190000e-01  1.08749998e+00\n",
            "  2.85239995e-01  1.24470003e-01 -3.92480008e-02 -7.67320022e-02\n",
            " -7.63429999e-01 -3.24090004e-01 -5.74899971e-01 -1.08930004e+00\n",
            " -4.18110013e-01  4.51200008e-01  1.21119998e-01 -5.13670027e-01\n",
            " -1.33489996e-01 -1.13779998e+00 -2.87680000e-01  1.67740002e-01\n",
            "  5.58040023e-01  1.53869998e+00  1.88590009e-02 -2.97210002e+00\n",
            " -2.42160007e-01 -9.24950004e-01  2.19919991e+00  2.82339990e-01\n",
            " -3.47799987e-01  5.16210020e-01 -4.33869988e-01  3.68519992e-01\n",
            "  7.45729983e-01  7.21020028e-02  2.79309988e-01  9.25689995e-01\n",
            " -5.03359996e-02 -8.58560026e-01 -1.35800004e-01 -9.25509989e-01\n",
            " -3.39910001e-01 -1.03939998e+00 -6.72030002e-02 -2.13789999e-01\n",
            " -4.76900011e-01  2.13770002e-01 -8.40080023e-01  5.25359996e-02\n",
            "  5.92980027e-01  2.96039999e-01 -6.76440001e-01  1.39160007e-01\n",
            " -1.55040002e+00 -2.07650006e-01  7.22199976e-01  5.20560026e-01\n",
            " -7.62209967e-02 -1.51940003e-01 -1.31339997e-01  5.86169995e-02\n",
            " -3.18690002e-01 -6.14189982e-01 -6.23929977e-01 -4.15479988e-01\n",
            " -3.81750017e-02 -3.98039997e-01  4.76469994e-01 -1.59830004e-01]\n",
            "\n",
            " label OHE: \n",
            "\n",
            "[0. 0. 0. 0. 0. 0. 0. 0. 0. 0. 0. 0. 0. 0. 0. 0. 0. 0. 0. 0. 0. 0. 0. 0.\n",
            " 0. 0. 0. 0. 0. 0. 0. 0. 1. 0. 0. 0. 0. 0. 0. 0. 0. 0. 0. 0. 0. 0.] \n",
            "\n",
            "[-0.038194   -0.24487001  0.72812003 -0.39961001  0.083172    0.043953\n",
            " -0.39140999  0.3344     -0.57545     0.087459    0.28786999 -0.06731\n",
            "  0.30906001 -0.26383999 -0.13231    -0.20757     0.33395001 -0.33848\n",
            " -0.31742999 -0.48335999  0.1464     -0.37303999  0.34577     0.052041\n",
            "  0.44946    -0.46970999  0.02628    -0.54154998 -0.15518001 -0.14106999\n",
            " -0.039722    0.28277001  0.14393     0.23464    -0.31020999  0.086173\n",
            "  0.20397     0.52623999  0.17163999 -0.082378   -0.71787    -0.41531\n",
            "  0.20334999 -0.12763     0.41367     0.55186999  0.57907999 -0.33476999\n",
            " -0.36559001 -0.54856998 -0.062892    0.26583999  0.30204999  0.99774998\n",
            " -0.80480999 -3.0243001   0.01254    -0.36941999  2.21670008  0.72201002\n",
            " -0.24978     0.92136002  0.034514    0.46744999  1.10790002 -0.19358\n",
            " -0.074575    0.23353    -0.052062   -0.22044     0.057162   -0.15806\n",
            " -0.30798    -0.41624999  0.37972     0.15006    -0.53211999 -0.20550001\n",
            " -1.25259995  0.071624    0.70564997  0.49744001 -0.42063001  0.26148\n",
            " -1.53799999 -0.30223    -0.073438   -0.28312001  0.37103999 -0.25217\n",
            "  0.016215   -0.017099   -0.38984001  0.87423998 -0.72569001 -0.51058\n",
            " -0.52028    -0.1459      0.82779998  0.27061999]\n",
            "\n",
            " label OHE: \n",
            "\n",
            " [0. 0. 0. 0. 0. 0. 0. 0. 0. 0. 1. 0. 0. 0. 0. 0. 0. 0. 0. 0. 0. 0. 0. 0.\n",
            " 0. 0. 0. 0. 0. 0. 0. 0. 0. 0. 0. 0. 0. 0. 0. 0. 0. 0. 0. 0. 0. 0.]\n"
          ]
        }
      ],
      "source": [
        "# Some More samples\n",
        "print(X_val[100,2])\n",
        "print(\"\\n label OHE: \\n\")\n",
        "print(Y_val[100,2],\"\\n\")\n",
        "print(X_test[20,10])\n",
        "print(\"\\n label OHE: \")\n",
        "print(\"\\n\",Y_test[20,10])"
      ]
    },
    {
      "cell_type": "markdown",
      "metadata": {
        "id": "iOX1HCUXroLD"
      },
      "source": [
        "# Modeling\n",
        "\n",
        "\n"
      ]
    },
    {
      "cell_type": "markdown",
      "metadata": {
        "id": "E44-VwGBrrXc"
      },
      "source": [
        "### Architectures used:\n",
        "#### Baseline model\n",
        "* Bidirectional LSMT + Dense layer \n",
        "\n",
        "#### Variations\n",
        "* Bidirectional GRU + Dense layer\n",
        "* Two Bidirectional LSMT + Dense layer\n",
        "* Bidirectional LSMT + Two Dense layer"
      ]
    },
    {
      "cell_type": "code",
      "execution_count": 39,
      "metadata": {
        "id": "Eo4e3rgwisjS"
      },
      "outputs": [],
      "source": [
        "n_classes = Y_train.shape[2]"
      ]
    },
    {
      "cell_type": "code",
      "source": [
        "tfa_f1 = tfa.metrics.F1Score(\n",
        "    num_classes= n_classes,\n",
        "    name = 'f1_score',\n",
        "    )\n",
        "\n",
        "indices = [0, 1, 2, 3, 4, 5, 6,7, 17, 31, 44] \n",
        "\n",
        "def f1_with_tfa(y_true, y_pred):\n",
        "    \"\"\"\n",
        "    Computes the F1 score using TensorFlow.\n",
        "    The punctuation is ignored.\n",
        "    \"\"\"\n",
        "    y_true = tf.reshape(y_true, (-1, n_classes))\n",
        "\n",
        "\n",
        "    punctuation = tf.gather(y_true, indices, axis=-1)\n",
        "\n",
        "    y_mask = tf.cast(tf.logical_not(tf.reduce_any( \\\n",
        "                    tf.cast(punctuation, tf.bool), axis=-1)), tf.float32)\n",
        "    \n",
        "    y_pred = tf.reshape(y_pred, (-1, n_classes))\n",
        "    \n",
        "    tfa_f1.update_state(y_true, y_pred, sample_weight=y_mask)\n",
        "    \n",
        "    result = tfa_f1.result()\n",
        "    \n",
        "    K.batch_set_value([(v, np.zeros(v.shape.as_list())) for v in tfa_f1.variables])\n",
        "    return K.sum(result)/(n_classes-len(indices))\n"
      ],
      "metadata": {
        "id": "ECWAo80AWBn0"
      },
      "execution_count": 41,
      "outputs": []
    },
    {
      "cell_type": "markdown",
      "source": [
        "## Baseline model"
      ],
      "metadata": {
        "id": "K_Apzti3xKMi"
      }
    },
    {
      "cell_type": "markdown",
      "metadata": {
        "id": "PwKhULrrpCuR"
      },
      "source": [
        "### Model 1: BILST with a Dense layer"
      ]
    },
    {
      "cell_type": "code",
      "source": [
        "#epochs_tuning = 100\n",
        "#batch_size_tuning = 64"
      ],
      "metadata": {
        "id": "86KoG_gYoLpn"
      },
      "execution_count": null,
      "outputs": []
    },
    {
      "cell_type": "code",
      "source": [
        "  # Define the model architecture\n",
        "def BiLSTM(hp):\n",
        "    model = Sequential()\n",
        "    model.add(Masking(name='padding', mask_value=0., input_shape=X_train.shape[1:]))\n",
        "    model.add(Bidirectional(LSTM(units=hp.Int('units', min_value=64, max_value=256, step=64),kernel_regularizer=keras.regularizers.l2(0.01), return_sequences=True,name=\"bilstm_1\")))\n",
        "    model.add(Dropout(hp.Choice('dropout', [0.0, 0.1, 0.2, 0.3, 0.4, 0.5]),name=\"dropout_1\"))\n",
        "    model.add(TimeDistributed(Dense(n_classes, activation=\"softmax\", name=\"dense_1\")))\n",
        "    model.compile(optimizer=Adam(hp.Choice('learning_rate', values=[1e-2, 1e-3, 1e-4])), \n",
        "                loss='categorical_crossentropy', metrics=['val_accuracy'])\n",
        "    return model"
      ],
      "metadata": {
        "id": "hlQo_NKOi3t1"
      },
      "execution_count": 44,
      "outputs": []
    },
    {
      "cell_type": "markdown",
      "metadata": {
        "id": "RgyeB-CxiCoX"
      },
      "source": [
        "### Model 2: GRU"
      ]
    },
    {
      "cell_type": "code",
      "source": [
        "# Create BiGRU and Dense layer\n",
        "def BiGRU(hp):\n",
        "    model = Sequential()\n",
        "    model.add(Masking(name='padding', mask_value=0., input_shape=X_train.shape[1:]))\n",
        "    model.add(Bidirectional(GRU(units=hp.Int('units', min_value=64, max_value=256, step=64),kernel_regularizer=keras.regularizers.l2(0.01), return_sequences=True,name=\"gru_1\")))\n",
        "    model.add(Dropout(hp.Choice('dropout', [0.0, 0.1, 0.2, 0.3, 0.4, 0.5]),name=\"dropout_1\"))\n",
        "    model.add(TimeDistributed(Dense(n_classes, activation=\"softmax\", name=\"dense_1\")))\n",
        "    model.compile(optimizer=Adam(hp.Choice('learning_rate', values=[1e-2, 1e-3, 1e-4])), \n",
        "                loss='categorical_crossentropy', metrics=['accuracy'])\n",
        "    return model"
      ],
      "metadata": {
        "id": "qwcRxvXnrHEh"
      },
      "execution_count": 63,
      "outputs": []
    },
    {
      "cell_type": "markdown",
      "metadata": {
        "id": "gk5ksZUdiA6b"
      },
      "source": [
        "### Model 3: Two BILSTM"
      ]
    },
    {
      "cell_type": "code",
      "source": [
        "# Create model with two BiLSTM layers and Dense layer\n",
        "def two_BiLSTM(hp):\n",
        "    model = Sequential()\n",
        "    model.add(Masking(name='padding', mask_value=0., input_shape=X_train.shape[1:]))\n",
        "    model.add(Bidirectional(LSTM(units=hp.Int('units', min_value=64, max_value=256, step=64),kernel_regularizer=keras.regularizers.l2(0.01), return_sequences=True,name=\"bilstm_1\")))\n",
        "    model.add(Bidirectional(LSTM(units=hp.Int('units', min_value=64, max_value=256, step=64),kernel_regularizer=keras.regularizers.l2(0.01), return_sequences=True,name=\"bilstm_2\")))\n",
        "    model.add(Dropout(hp.Choice('dropout', [0.0, 0.1, 0.2, 0.3, 0.4, 0.5]),name=\"dropout_1\"))\n",
        "    model.add(TimeDistributed(Dense(n_classes, activation=\"softmax\", name=\"dense_1\")))\n",
        "    model.compile(optimizer=Adam(hp.Choice('learning_rate', values=[1e-2, 1e-3, 1e-4])), \n",
        "                loss='categorical_crossentropy', metrics=['accuracy'])\n",
        "    return model"
      ],
      "metadata": {
        "id": "MOYO2YQWruC2"
      },
      "execution_count": 64,
      "outputs": []
    },
    {
      "cell_type": "markdown",
      "metadata": {
        "id": "jaWXFpJRpQPw"
      },
      "source": [
        "### Model 4: BILSTM + Dense Layer"
      ]
    },
    {
      "cell_type": "code",
      "source": [
        "# Create model with one BiLSTM layers and two Dense layers\n",
        "def bilstm_two_dense(hp):\n",
        "    model = Sequential()\n",
        "    model.add(Masking(name='padding', mask_value=0., input_shape=X_train.shape[1:]))\n",
        "    model.add(Bidirectional(LSTM(units=hp.Int('units', min_value=64, max_value=256, step=64),kernel_regularizer=keras.regularizers.l2(0.01), return_sequences=True,name=\"bilstm_1\")))\n",
        "    model.add(Dropout(hp.Choice('dropout1', [0.0, 0.1, 0.2, 0.3, 0.4, 0.5]),name=\"dropout_1\"))\n",
        "    model.add(TimeDistributed(Dense(units=hp.Int('units2', min_value=64, max_value=256, step=64),activation=\"relu\",name=\"dense_1\")))\n",
        "    model.add(Dropout(hp.Choice('dropout2', [0.0, 0.1, 0.2, 0.3, 0.4, 0.5]),name=\"dropout_2\"))\n",
        "    model.add(TimeDistributed(Dense(n_classes, activation=\"softmax\", name=\"dense_2\")))\n",
        "    model.compile(optimizer=Adam(hp.Choice('learning_rate', values=[1e-2, 1e-3, 1e-4])), \n",
        "                loss='categorical_crossentropy', metrics=['accuracy'])\n",
        "    return model"
      ],
      "metadata": {
        "id": "58yaXSRVuLuQ"
      },
      "execution_count": 65,
      "outputs": []
    },
    {
      "cell_type": "code",
      "execution_count": null,
      "metadata": {
        "id": "h0KVDeYTiGBQ"
      },
      "outputs": [],
      "source": [
        "def build_bilstm_two_dense_model(hp):\n",
        "    model = keras.Sequential()\n",
        "    model.add(layers.Masking(name='padding_masking', mask_value=0., input_shape=X_train.shape[1:]))\n",
        "    model.add(layers.Bidirectional(layers.LSTM(hp.Choice('units1', [64, 128, 256]), return_sequences=True, kernel_regularizer=keras.regularizers.l2(0.01)), name=\"bilstm_1\"))\n",
        "    model.add(layers.Dropout(hp.Choice('dropout1', [0.0, 0.1, 0.2, 0.3, 0.4, 0.5])))\n",
        "    model.add(layers.Dense(hp.Choice('units2', [64, 128, 256]), activation=\"relu\", name=\"dense_1\", kernel_regularizer=keras.regularizers.l2(0.01)))\n",
        "    model.add(layers.Dropout(hp.Choice('dropout2', [0.0, 0.1, 0.2, 0.3, 0.4, 0.5])))\n",
        "    model.add(layers.TimeDistributed(layers.Dense(n_classes, activation=\"softmax\", name=\"dense_2\")))\n",
        "    model.compile(loss=\"categorical_crossentropy\", \n",
        "                  optimizer=keras.optimizers.Adam(hp.Choice('learning_rate', values=[1e-2, 1e-3, 1e-4])),\n",
        "                  metrics=[f1_with_tfa])\n",
        "    return model"
      ]
    },
    {
      "cell_type": "markdown",
      "metadata": {
        "id": "xY5je0Whm51J"
      },
      "source": [
        "## Hyperparameter tuning"
      ]
    },
    {
      "cell_type": "markdown",
      "source": [
        "### Model 1: BILST with a Dense layer "
      ],
      "metadata": {
        "id": "FY6Xhntwxry4"
      }
    },
    {
      "cell_type": "code",
      "source": [
        "# Hyperparameter optimization using random search\n",
        "tuner = RandomSearch(BiLSTM, objective=Objective('val_accuracy', direction='max'), max_trials=3, overwrite=True)\n",
        "tuner.search(X_train,Y_train, epochs=10, validation_data=(X_val, Y_val))\n",
        "\n",
        "best_hps_bilstm = tuner.get_best_hyperparameters()[0]\n",
        "\n",
        "print(f\"The hyperparameter search is complete.\\n\" \n",
        "      f\"The optimal number of units in the LSTM layer is {best_hps_bilstm.get('units')}.\\n\" \n",
        "      f\"The optimal rate for Dropout layer is {best_hps_bilstm.get('dropout')}.\\n\" \n",
        "      f\"The optimal learning rate for the optimizer is {best_hps_bilstm.get('learning_rate')}.\")"
      ],
      "metadata": {
        "colab": {
          "base_uri": "https://localhost:8080/"
        },
        "id": "b7zkpNu8rrCp",
        "outputId": "621baed5-3804-4133-9de4-ca5748f5305c"
      },
      "execution_count": 51,
      "outputs": [
        {
          "output_type": "stream",
          "name": "stdout",
          "text": [
            "Trial 3 Complete [00h 01m 03s]\n",
            "val_accuracy: 0.8275431990623474\n",
            "\n",
            "Best val_accuracy So Far: 0.8275431990623474\n",
            "Total elapsed time: 00h 03m 28s\n",
            "The hyperparameter search is complete.\n",
            "The optimal number of units in the LSTM layer is 192.\n",
            "The optimal rate for Dropout layer is 0.5.\n",
            "The optimal learning rate for the optimizer is 0.01.\n"
          ]
        }
      ]
    },
    {
      "cell_type": "code",
      "source": [
        "from keras.utils.vis_utils import plot_model\n",
        "plot_model(tuner.get_best_models()[0], show_shapes=True, show_layer_names=True)\n"
      ],
      "metadata": {
        "id": "6Ef48UVzp07l"
      },
      "execution_count": null,
      "outputs": []
    },
    {
      "cell_type": "markdown",
      "source": [
        "### Model 2: Bidirectional GRU + Dense layer "
      ],
      "metadata": {
        "id": "soiCMA8ix_Uh"
      }
    },
    {
      "cell_type": "code",
      "source": [
        "# Hyperparameter optimization using random search\n",
        "tuner_bigru = RandomSearch(BiGRU, objective=Objective('val_accuracy', direction='max'), max_trials=3, overwrite=True)\n",
        "tuner_bigru.search(X_train,Y_train, epochs=10, validation_data=(X_val, Y_val))\n",
        "\n",
        "best_hps_bigru = tuner_bigru.get_best_hyperparameters()[0]\n",
        "\n",
        "print(f\"The hyperparameter search is complete.\\n\" \n",
        "      f\"The optimal number of units in the LSTM layer is {best_hps_bigru.get('units')}.\\n\" \n",
        "      f\"The optimal rate for Dropout layer is {best_hps_bigru.get('dropout')}.\\n\" \n",
        "      f\"The optimal learning rate for the optimizer is {best_hps_bigru.get('learning_rate')}.\")"
      ],
      "metadata": {
        "colab": {
          "base_uri": "https://localhost:8080/"
        },
        "id": "THrFv_GhzAAn",
        "outputId": "a61685a4-aba0-4589-e516-a8f15794d824"
      },
      "execution_count": 66,
      "outputs": [
        {
          "output_type": "stream",
          "name": "stdout",
          "text": [
            "Trial 3 Complete [00h 00m 52s]\n",
            "val_accuracy: 0.4822026789188385\n",
            "\n",
            "Best val_accuracy So Far: 0.7762855291366577\n",
            "Total elapsed time: 00h 03m 57s\n",
            "The hyperparameter search is complete.\n",
            "The optimal number of units in the LSTM layer is 128.\n",
            "The optimal rate for Dropout layer is 0.2.\n",
            "The optimal learning rate for the optimizer is 0.001.\n"
          ]
        }
      ]
    },
    {
      "cell_type": "markdown",
      "source": [
        "### Model 3:  Two Bidirectional LSMT + Dense layer "
      ],
      "metadata": {
        "id": "AG8IVTWfyBXJ"
      }
    },
    {
      "cell_type": "code",
      "source": [
        "# Hyperparameter optimization using random search\n",
        "tuner_two_bilstm = RandomSearch(two_BiLSTM, objective=Objective('val_accuracy', direction='max'), max_trials=3, overwrite=True)\n",
        "tuner_two_bilstm.search(X_train,Y_train, epochs=10, validation_data=(X_val, Y_val))\n",
        "\n",
        "best_hps_two_bilstm = tuner_two_bilstm.get_best_hyperparameters()[0]\n",
        "\n",
        "print(f\"The hyperparameter search is complete.\\n\" \n",
        "      f\"The optimal number of units in the LSTM layer is {best_hps_two_bilstm.get('units')}.\\n\" \n",
        "      f\"The optimal rate for Dropout layer is {best_hps_two_bilstm.get('dropout')}.\\n\" \n",
        "      f\"The optimal learning rate for the optimizer is {best_hps_two_bilstm.get('learning_rate')}.\")"
      ],
      "metadata": {
        "colab": {
          "base_uri": "https://localhost:8080/"
        },
        "id": "O2nZkad2zoPN",
        "outputId": "95c9a325-14b5-4e88-f3b0-84e9d7234929"
      },
      "execution_count": 67,
      "outputs": [
        {
          "output_type": "stream",
          "name": "stdout",
          "text": [
            "Trial 3 Complete [00h 02m 47s]\n",
            "val_accuracy: 0.5726341605186462\n",
            "\n",
            "Best val_accuracy So Far: 0.5893478393554688\n",
            "Total elapsed time: 00h 06m 02s\n",
            "The hyperparameter search is complete.\n",
            "The optimal number of units in the LSTM layer is 192.\n",
            "The optimal rate for Dropout layer is 0.3.\n",
            "The optimal learning rate for the optimizer is 0.001.\n"
          ]
        }
      ]
    },
    {
      "cell_type": "markdown",
      "source": [
        "### Model 4: Bidirectional LSMT + two Dense layer "
      ],
      "metadata": {
        "id": "1KQdGyTtyW5g"
      }
    },
    {
      "cell_type": "code",
      "source": [
        "# Hyperparameter optimization using random search\n",
        "tuner_bilstm_two_dense = RandomSearch(bilstm_two_dense, objective=Objective('val_accuracy', direction='max'), max_trials=3, overwrite=True)\n",
        "tuner_bilstm_two_dense.search(X_train,Y_train, epochs=10, validation_data=(X_val, Y_val))\n",
        "\n",
        "best_hps_bilstm_two_dense = tuner_bilstm_two_dense.get_best_hyperparameters()[0]\n",
        "\n",
        "print(f\"The hyperparameter search is complete.\\n\" \n",
        "      f\"The optimal number of units in the LSTM layer is {best_hps_two_bilstm.get('units')}.\\n\" \n",
        "      f\"The optimal number of units in the second LSTM layer is {best_hps_two_bilstm.get('units2')}.\\n\" \n",
        "      f\"The optimal rate for Dropout layer is {best_hps_two_bilstm.get('dropout1')}.\\n\" \n",
        "      f\"The optimal rate for the second Dropout layer is {best_hps_two_bilstm.get('dropout2')}.\\n\" \n",
        "      f\"The optimal learning rate for the optimizer is {best_hps_two_bilstm.get('learning_rate')}.\")"
      ],
      "metadata": {
        "colab": {
          "base_uri": "https://localhost:8080/"
        },
        "id": "tPqLeChY1RZm",
        "outputId": "685e3802-d95f-4897-e552-205afeee4c9c"
      },
      "execution_count": null,
      "outputs": [
        {
          "output_type": "stream",
          "name": "stdout",
          "text": [
            "Trial 1 Complete [00h 00m 54s]\n",
            "val_accuracy: 0.8680961728096008\n",
            "\n",
            "Best val_accuracy So Far: 0.8680961728096008\n",
            "Total elapsed time: 00h 00m 54s\n",
            "\n",
            "Search: Running Trial #2\n",
            "\n",
            "Value             |Best Value So Far |Hyperparameter\n",
            "256               |128               |units\n",
            "0.4               |0                 |dropout1\n",
            "128               |192               |units2\n",
            "0.5               |0.4               |dropout2\n",
            "0.01              |0.01              |learning_rate\n",
            "\n",
            "Epoch 1/10\n",
            "61/61 [==============================] - 19s 141ms/step - loss: 0.4666 - accuracy: 0.3995 - val_loss: 0.1784 - val_accuracy: 0.6162\n",
            "Epoch 2/10\n",
            "61/61 [==============================] - 4s 67ms/step - loss: 0.1475 - accuracy: 0.6631 - val_loss: 0.1157 - val_accuracy: 0.7607\n",
            "Epoch 3/10\n",
            "61/61 [==============================] - 4s 71ms/step - loss: 0.1219 - accuracy: 0.7287 - val_loss: 0.1043 - val_accuracy: 0.7937\n",
            "Epoch 4/10\n",
            "61/61 [==============================] - 4s 63ms/step - loss: 0.1141 - accuracy: 0.7488 - val_loss: 0.0989 - val_accuracy: 0.8069\n",
            "Epoch 5/10\n",
            "61/61 [==============================] - 4s 65ms/step - loss: 0.1074 - accuracy: 0.7656 - val_loss: 0.0999 - val_accuracy: 0.8173\n",
            "Epoch 6/10\n",
            "61/61 [==============================] - 4s 64ms/step - loss: 0.1048 - accuracy: 0.7721 - val_loss: 0.0960 - val_accuracy: 0.8165\n",
            "Epoch 7/10\n",
            "61/61 [==============================] - 4s 65ms/step - loss: 0.1026 - accuracy: 0.7802 - val_loss: 0.0897 - val_accuracy: 0.8255\n",
            "Epoch 8/10\n",
            "61/61 [==============================] - 4s 63ms/step - loss: 0.1001 - accuracy: 0.7835 - val_loss: 0.0885 - val_accuracy: 0.8246\n",
            "Epoch 9/10\n",
            "61/61 [==============================] - 4s 63ms/step - loss: 0.0953 - accuracy: 0.7964 - val_loss: 0.0872 - val_accuracy: 0.8280\n",
            "Epoch 10/10\n",
            "61/61 [==============================] - 4s 64ms/step - loss: 0.0965 - accuracy: 0.7949 - val_loss: 0.0813 - val_accuracy: 0.8402\n"
          ]
        }
      ]
    },
    {
      "cell_type": "markdown",
      "metadata": {
        "id": "c6do2pWDsLPK"
      },
      "source": [
        "##  Model training"
      ]
    },
    {
      "cell_type": "markdown",
      "metadata": {
        "id": "Mb-N5c6HXxPR"
      },
      "source": [
        "### Model 1: Bidirectional LSMT + Dense layer variant training"
      ]
    },
    {
      "cell_type": "code",
      "source": [
        "# tune the hyperparameters of the first model\n",
        "tuner_bilstm = kt.Hyperband(build_bilstm_model,\n",
        "                     objective=kt.Objective(\"val_f1_with_tfa\", direction=\"max\"),\n",
        "                     max_epochs=epochs_tuning,\n",
        "                     #overwrite=True,\n",
        "                     directory=\"tuner\",\n",
        "                     project_name=\"tuner_bilstm\")\n",
        "\n",
        "tuner_bilstm.search(X_train, Y_train, epochs=epochs_tuning, batch_size=batch_size_tuning, validation_data=(X_val, Y_val))\n",
        "best_hps_bilstm = tuner_bilstm.get_best_hyperparameters()[0]\n",
        "\n",
        "print(f\"The hyperparameter search is complete.\\n\")\n",
        "print(f\"The optimal number of units in the LSTM layer is {best_hps_bilstm.get('units')}.\\n\")\n",
        "print(f\"The optimal rate for Dropout layer is {best_hps_bilstm.get('dropout')}.\\n\") \n",
        "print(f\"The optimal learning rate for the optimizer is {best_hps_bilstm.get('learning_rate')}.\")"
      ],
      "metadata": {
        "colab": {
          "base_uri": "https://localhost:8080/"
        },
        "id": "TOzoHZFy7weH",
        "outputId": "d645000c-f6e5-4bbd-809e-aa26d173b861"
      },
      "execution_count": null,
      "outputs": [
        {
          "output_type": "stream",
          "name": "stdout",
          "text": [
            "Trial 53 Complete [00h 00m 17s]\n",
            "val_f1_with_tfa: 0.3307819068431854\n",
            "\n",
            "Best val_f1_with_tfa So Far: 0.35411137342453003\n",
            "Total elapsed time: 00h 15m 52s\n",
            "The hyperparameter search is complete.\n",
            "\n",
            "The optimal number of units in the LSTM layer is 128.\n",
            "\n",
            "The optimal rate for Dropout layer is 0.3.\n",
            "\n",
            "The optimal learning rate for the optimizer is 0.01.\n"
          ]
        }
      ]
    },
    {
      "cell_type": "markdown",
      "metadata": {
        "id": "woZw5OORk1vy"
      },
      "source": [
        "### Model 2: Bidirectional GRU + Dense layer variant training\n",
        "\n"
      ]
    },
    {
      "cell_type": "code",
      "source": [
        "# tune the hyperparameters of the second model\n",
        "tuner_bigru = kt.Hyperband(build_bigru_model,\n",
        "                     objective=kt.Objective(\"val_f1_with_tfa\", direction=\"max\"),\n",
        "                     max_epochs=epochs_tuning,\n",
        "                     #overwrite=True,\n",
        "                     directory=\"tuner\",\n",
        "                     project_name=\"tuner_bigru\")\n",
        "tuner_bigru.search(X_train, Y_train, epochs=epochs_tuning, batch_size=batch_size_tuning, validation_data=(X_val, Y_val))\n",
        "best_hps_bigru = tuner_bigru.get_best_hyperparameters()[0]\n",
        "\n",
        "print(f\"The hyperparameter search is complete.\\n\" \n",
        "      f\"The optimal number of units in the GRU layer is {best_hps_bigru.get('units')}.\\n\" \n",
        "      f\"The optimal rate for Dropout layer is {best_hps_bigru.get('dropout')}.\\n\" \n",
        "      f\"The optimal learning rate for the optimizer is {best_hps_bigru.get('learning_rate')}.\")"
      ],
      "metadata": {
        "colab": {
          "base_uri": "https://localhost:8080/"
        },
        "id": "1xtFz9avfZBh",
        "outputId": "84d9ebc5-cdeb-401f-9954-8e6e14e96a4e"
      },
      "execution_count": null,
      "outputs": [
        {
          "output_type": "stream",
          "name": "stdout",
          "text": [
            "Trial 46 Complete [00h 00m 17s]\n",
            "val_f1_with_tfa: 0.02272868901491165\n",
            "\n",
            "Best val_f1_with_tfa So Far: 0.4363808333873749\n",
            "Total elapsed time: 00h 14m 00s\n",
            "The hyperparameter search is complete.\n",
            "The optimal number of units in the GRU layer is 256.\n",
            "The optimal rate for Dropout layer is 0.5.\n",
            "The optimal learning rate for the optimizer is 0.01.\n"
          ]
        }
      ]
    },
    {
      "cell_type": "markdown",
      "metadata": {
        "id": "192ii6o_mflM"
      },
      "source": [
        "### Model 3:  Two Bidirectional LSMT + Dense layer "
      ]
    },
    {
      "cell_type": "code",
      "source": [
        "# tune the hyperparameters of the third model\n",
        "tuner_two_bilstm = kt.Hyperband(build_two_bilstm_model,\n",
        "                     objective=kt.Objective(\"val_f1_with_tfa\", direction=\"max\"),\n",
        "                     max_epochs=epochs_tuning,\n",
        "                     #overwrite=True,\n",
        "                     directory=\"tuner\",\n",
        "                     project_name=\"tuner_two_bilstm\")\n",
        "tuner_two_bilstm.search(X_train, Y_train, epochs=epochs_tuning, batch_size=batch_size_tuning, validation_data=(X_val, Y_val))\n",
        "best_hps_two_bilstm = tuner_two_bilstm.get_best_hyperparameters()[0]\n",
        "\n",
        "print(f\"The hyperparameter search is complete.\\n\" \n",
        "      f\"The optimal number of units in the first LSTM layer is {best_hps_two_bilstm.get('units1')}.\\n\" \n",
        "      f\"The optimal number of units in the second LSTM layer is {best_hps_two_bilstm.get('units2')}.\\n\" \n",
        "      f\"The optimal rate for Dropout layer is {best_hps_two_bilstm.get('dropout')}.\\n\" \n",
        "      f\"The optimal learning rate for the optimizer is {best_hps_two_bilstm.get('learning_rate')}.\")"
      ],
      "metadata": {
        "colab": {
          "base_uri": "https://localhost:8080/",
          "height": 710
        },
        "id": "eeDYXbu6fpCI",
        "outputId": "353e1a7e-b279-4246-9609-1d33f51cd107"
      },
      "execution_count": null,
      "outputs": [
        {
          "output_type": "stream",
          "name": "stdout",
          "text": [
            "Trial 4 Complete [00h 00m 38s]\n",
            "val_f1_with_tfa: 0.02644297666847706\n",
            "\n",
            "Best val_f1_with_tfa So Far: 0.02644297666847706\n",
            "Total elapsed time: 00h 02m 23s\n",
            "\n",
            "Search: Running Trial #5\n",
            "\n",
            "Value             |Best Value So Far |Hyperparameter\n",
            "128               |64                |units1\n",
            "128               |128               |units2\n",
            "0.1               |0.5               |dropout\n",
            "0.001             |0.001             |learning_rate\n",
            "2                 |2                 |tuner/epochs\n",
            "0                 |0                 |tuner/initial_epoch\n",
            "4                 |4                 |tuner/bracket\n",
            "0                 |0                 |tuner/round\n",
            "\n",
            "Epoch 1/2\n"
          ]
        },
        {
          "output_type": "error",
          "ename": "KeyboardInterrupt",
          "evalue": "ignored",
          "traceback": [
            "\u001b[0;31m---------------------------------------------------------------------------\u001b[0m",
            "\u001b[0;31mKeyboardInterrupt\u001b[0m                         Traceback (most recent call last)",
            "\u001b[0;32m<ipython-input-36-7fece05b0b76>\u001b[0m in \u001b[0;36m<module>\u001b[0;34m\u001b[0m\n\u001b[1;32m      6\u001b[0m                      \u001b[0mdirectory\u001b[0m\u001b[0;34m=\u001b[0m\u001b[0;34m\"tuner\"\u001b[0m\u001b[0;34m,\u001b[0m\u001b[0;34m\u001b[0m\u001b[0;34m\u001b[0m\u001b[0m\n\u001b[1;32m      7\u001b[0m                      project_name=\"tuner_two_bilstm\")\n\u001b[0;32m----> 8\u001b[0;31m \u001b[0mtuner_two_bilstm\u001b[0m\u001b[0;34m.\u001b[0m\u001b[0msearch\u001b[0m\u001b[0;34m(\u001b[0m\u001b[0mX_train\u001b[0m\u001b[0;34m,\u001b[0m \u001b[0mY_train\u001b[0m\u001b[0;34m,\u001b[0m \u001b[0mepochs\u001b[0m\u001b[0;34m=\u001b[0m\u001b[0mepochs_tuning\u001b[0m\u001b[0;34m,\u001b[0m \u001b[0mbatch_size\u001b[0m\u001b[0;34m=\u001b[0m\u001b[0mbatch_size_tuning\u001b[0m\u001b[0;34m,\u001b[0m \u001b[0mvalidation_data\u001b[0m\u001b[0;34m=\u001b[0m\u001b[0;34m(\u001b[0m\u001b[0mX_val\u001b[0m\u001b[0;34m,\u001b[0m \u001b[0mY_val\u001b[0m\u001b[0;34m)\u001b[0m\u001b[0;34m)\u001b[0m\u001b[0;34m\u001b[0m\u001b[0;34m\u001b[0m\u001b[0m\n\u001b[0m\u001b[1;32m      9\u001b[0m \u001b[0mbest_hps_two_bilstm\u001b[0m \u001b[0;34m=\u001b[0m \u001b[0mtuner_two_bilstm\u001b[0m\u001b[0;34m.\u001b[0m\u001b[0mget_best_hyperparameters\u001b[0m\u001b[0;34m(\u001b[0m\u001b[0;34m)\u001b[0m\u001b[0;34m[\u001b[0m\u001b[0;36m0\u001b[0m\u001b[0;34m]\u001b[0m\u001b[0;34m\u001b[0m\u001b[0;34m\u001b[0m\u001b[0m\n\u001b[1;32m     10\u001b[0m \u001b[0;34m\u001b[0m\u001b[0m\n",
            "\u001b[0;32m/usr/local/lib/python3.8/dist-packages/keras_tuner/engine/base_tuner.py\u001b[0m in \u001b[0;36msearch\u001b[0;34m(self, *fit_args, **fit_kwargs)\u001b[0m\n\u001b[1;32m    181\u001b[0m \u001b[0;34m\u001b[0m\u001b[0m\n\u001b[1;32m    182\u001b[0m             \u001b[0mself\u001b[0m\u001b[0;34m.\u001b[0m\u001b[0mon_trial_begin\u001b[0m\u001b[0;34m(\u001b[0m\u001b[0mtrial\u001b[0m\u001b[0;34m)\u001b[0m\u001b[0;34m\u001b[0m\u001b[0;34m\u001b[0m\u001b[0m\n\u001b[0;32m--> 183\u001b[0;31m             \u001b[0mresults\u001b[0m \u001b[0;34m=\u001b[0m \u001b[0mself\u001b[0m\u001b[0;34m.\u001b[0m\u001b[0mrun_trial\u001b[0m\u001b[0;34m(\u001b[0m\u001b[0mtrial\u001b[0m\u001b[0;34m,\u001b[0m \u001b[0;34m*\u001b[0m\u001b[0mfit_args\u001b[0m\u001b[0;34m,\u001b[0m \u001b[0;34m**\u001b[0m\u001b[0mfit_kwargs\u001b[0m\u001b[0;34m)\u001b[0m\u001b[0;34m\u001b[0m\u001b[0;34m\u001b[0m\u001b[0m\n\u001b[0m\u001b[1;32m    184\u001b[0m             \u001b[0;31m# `results` is None indicates user updated oracle in `run_trial()`.\u001b[0m\u001b[0;34m\u001b[0m\u001b[0;34m\u001b[0m\u001b[0;34m\u001b[0m\u001b[0m\n\u001b[1;32m    185\u001b[0m             \u001b[0;32mif\u001b[0m \u001b[0mresults\u001b[0m \u001b[0;32mis\u001b[0m \u001b[0;32mNone\u001b[0m\u001b[0;34m:\u001b[0m\u001b[0;34m\u001b[0m\u001b[0;34m\u001b[0m\u001b[0m\n",
            "\u001b[0;32m/usr/local/lib/python3.8/dist-packages/keras_tuner/tuners/hyperband.py\u001b[0m in \u001b[0;36mrun_trial\u001b[0;34m(self, trial, *fit_args, **fit_kwargs)\u001b[0m\n\u001b[1;32m    382\u001b[0m             \u001b[0mfit_kwargs\u001b[0m\u001b[0;34m[\u001b[0m\u001b[0;34m\"epochs\"\u001b[0m\u001b[0;34m]\u001b[0m \u001b[0;34m=\u001b[0m \u001b[0mhp\u001b[0m\u001b[0;34m.\u001b[0m\u001b[0mvalues\u001b[0m\u001b[0;34m[\u001b[0m\u001b[0;34m\"tuner/epochs\"\u001b[0m\u001b[0;34m]\u001b[0m\u001b[0;34m\u001b[0m\u001b[0;34m\u001b[0m\u001b[0m\n\u001b[1;32m    383\u001b[0m             \u001b[0mfit_kwargs\u001b[0m\u001b[0;34m[\u001b[0m\u001b[0;34m\"initial_epoch\"\u001b[0m\u001b[0;34m]\u001b[0m \u001b[0;34m=\u001b[0m \u001b[0mhp\u001b[0m\u001b[0;34m.\u001b[0m\u001b[0mvalues\u001b[0m\u001b[0;34m[\u001b[0m\u001b[0;34m\"tuner/initial_epoch\"\u001b[0m\u001b[0;34m]\u001b[0m\u001b[0;34m\u001b[0m\u001b[0;34m\u001b[0m\u001b[0m\n\u001b[0;32m--> 384\u001b[0;31m         \u001b[0;32mreturn\u001b[0m \u001b[0msuper\u001b[0m\u001b[0;34m(\u001b[0m\u001b[0mHyperband\u001b[0m\u001b[0;34m,\u001b[0m \u001b[0mself\u001b[0m\u001b[0;34m)\u001b[0m\u001b[0;34m.\u001b[0m\u001b[0mrun_trial\u001b[0m\u001b[0;34m(\u001b[0m\u001b[0mtrial\u001b[0m\u001b[0;34m,\u001b[0m \u001b[0;34m*\u001b[0m\u001b[0mfit_args\u001b[0m\u001b[0;34m,\u001b[0m \u001b[0;34m**\u001b[0m\u001b[0mfit_kwargs\u001b[0m\u001b[0;34m)\u001b[0m\u001b[0;34m\u001b[0m\u001b[0;34m\u001b[0m\u001b[0m\n\u001b[0m\u001b[1;32m    385\u001b[0m \u001b[0;34m\u001b[0m\u001b[0m\n\u001b[1;32m    386\u001b[0m     \u001b[0;32mdef\u001b[0m \u001b[0m_build_model\u001b[0m\u001b[0;34m(\u001b[0m\u001b[0mself\u001b[0m\u001b[0;34m,\u001b[0m \u001b[0mhp\u001b[0m\u001b[0;34m)\u001b[0m\u001b[0;34m:\u001b[0m\u001b[0;34m\u001b[0m\u001b[0;34m\u001b[0m\u001b[0m\n",
            "\u001b[0;32m/usr/local/lib/python3.8/dist-packages/keras_tuner/engine/tuner.py\u001b[0m in \u001b[0;36mrun_trial\u001b[0;34m(self, trial, *args, **kwargs)\u001b[0m\n\u001b[1;32m    293\u001b[0m             \u001b[0mcallbacks\u001b[0m\u001b[0;34m.\u001b[0m\u001b[0mappend\u001b[0m\u001b[0;34m(\u001b[0m\u001b[0mmodel_checkpoint\u001b[0m\u001b[0;34m)\u001b[0m\u001b[0;34m\u001b[0m\u001b[0;34m\u001b[0m\u001b[0m\n\u001b[1;32m    294\u001b[0m             \u001b[0mcopied_kwargs\u001b[0m\u001b[0;34m[\u001b[0m\u001b[0;34m\"callbacks\"\u001b[0m\u001b[0;34m]\u001b[0m \u001b[0;34m=\u001b[0m \u001b[0mcallbacks\u001b[0m\u001b[0;34m\u001b[0m\u001b[0;34m\u001b[0m\u001b[0m\n\u001b[0;32m--> 295\u001b[0;31m             \u001b[0mobj_value\u001b[0m \u001b[0;34m=\u001b[0m \u001b[0mself\u001b[0m\u001b[0;34m.\u001b[0m\u001b[0m_build_and_fit_model\u001b[0m\u001b[0;34m(\u001b[0m\u001b[0mtrial\u001b[0m\u001b[0;34m,\u001b[0m \u001b[0;34m*\u001b[0m\u001b[0margs\u001b[0m\u001b[0;34m,\u001b[0m \u001b[0;34m**\u001b[0m\u001b[0mcopied_kwargs\u001b[0m\u001b[0;34m)\u001b[0m\u001b[0;34m\u001b[0m\u001b[0;34m\u001b[0m\u001b[0m\n\u001b[0m\u001b[1;32m    296\u001b[0m \u001b[0;34m\u001b[0m\u001b[0m\n\u001b[1;32m    297\u001b[0m             \u001b[0mhistories\u001b[0m\u001b[0;34m.\u001b[0m\u001b[0mappend\u001b[0m\u001b[0;34m(\u001b[0m\u001b[0mobj_value\u001b[0m\u001b[0;34m)\u001b[0m\u001b[0;34m\u001b[0m\u001b[0;34m\u001b[0m\u001b[0m\n",
            "\u001b[0;32m/usr/local/lib/python3.8/dist-packages/keras_tuner/engine/tuner.py\u001b[0m in \u001b[0;36m_build_and_fit_model\u001b[0;34m(self, trial, *args, **kwargs)\u001b[0m\n\u001b[1;32m    220\u001b[0m         \u001b[0mhp\u001b[0m \u001b[0;34m=\u001b[0m \u001b[0mtrial\u001b[0m\u001b[0;34m.\u001b[0m\u001b[0mhyperparameters\u001b[0m\u001b[0;34m\u001b[0m\u001b[0;34m\u001b[0m\u001b[0m\n\u001b[1;32m    221\u001b[0m         \u001b[0mmodel\u001b[0m \u001b[0;34m=\u001b[0m \u001b[0mself\u001b[0m\u001b[0;34m.\u001b[0m\u001b[0m_try_build\u001b[0m\u001b[0;34m(\u001b[0m\u001b[0mhp\u001b[0m\u001b[0;34m)\u001b[0m\u001b[0;34m\u001b[0m\u001b[0;34m\u001b[0m\u001b[0m\n\u001b[0;32m--> 222\u001b[0;31m         \u001b[0mresults\u001b[0m \u001b[0;34m=\u001b[0m \u001b[0mself\u001b[0m\u001b[0;34m.\u001b[0m\u001b[0mhypermodel\u001b[0m\u001b[0;34m.\u001b[0m\u001b[0mfit\u001b[0m\u001b[0;34m(\u001b[0m\u001b[0mhp\u001b[0m\u001b[0;34m,\u001b[0m \u001b[0mmodel\u001b[0m\u001b[0;34m,\u001b[0m \u001b[0;34m*\u001b[0m\u001b[0margs\u001b[0m\u001b[0;34m,\u001b[0m \u001b[0;34m**\u001b[0m\u001b[0mkwargs\u001b[0m\u001b[0;34m)\u001b[0m\u001b[0;34m\u001b[0m\u001b[0;34m\u001b[0m\u001b[0m\n\u001b[0m\u001b[1;32m    223\u001b[0m         tuner_utils.validate_trial_results(\n\u001b[1;32m    224\u001b[0m             \u001b[0mresults\u001b[0m\u001b[0;34m,\u001b[0m \u001b[0mself\u001b[0m\u001b[0;34m.\u001b[0m\u001b[0moracle\u001b[0m\u001b[0;34m.\u001b[0m\u001b[0mobjective\u001b[0m\u001b[0;34m,\u001b[0m \u001b[0;34m\"HyperModel.fit()\"\u001b[0m\u001b[0;34m\u001b[0m\u001b[0;34m\u001b[0m\u001b[0m\n",
            "\u001b[0;32m/usr/local/lib/python3.8/dist-packages/keras_tuner/engine/hypermodel.py\u001b[0m in \u001b[0;36mfit\u001b[0;34m(self, hp, model, *args, **kwargs)\u001b[0m\n\u001b[1;32m    138\u001b[0m             \u001b[0mIf\u001b[0m \u001b[0;32mreturn\u001b[0m \u001b[0ma\u001b[0m \u001b[0mfloat\u001b[0m\u001b[0;34m,\u001b[0m \u001b[0mit\u001b[0m \u001b[0mshould\u001b[0m \u001b[0mbe\u001b[0m \u001b[0mthe\u001b[0m\u001b[0;31m \u001b[0m\u001b[0;31m`\u001b[0m\u001b[0mobjective\u001b[0m\u001b[0;31m`\u001b[0m \u001b[0mvalue\u001b[0m\u001b[0;34m.\u001b[0m\u001b[0;34m\u001b[0m\u001b[0;34m\u001b[0m\u001b[0m\n\u001b[1;32m    139\u001b[0m         \"\"\"\n\u001b[0;32m--> 140\u001b[0;31m         \u001b[0;32mreturn\u001b[0m \u001b[0mmodel\u001b[0m\u001b[0;34m.\u001b[0m\u001b[0mfit\u001b[0m\u001b[0;34m(\u001b[0m\u001b[0;34m*\u001b[0m\u001b[0margs\u001b[0m\u001b[0;34m,\u001b[0m \u001b[0;34m**\u001b[0m\u001b[0mkwargs\u001b[0m\u001b[0;34m)\u001b[0m\u001b[0;34m\u001b[0m\u001b[0;34m\u001b[0m\u001b[0m\n\u001b[0m\u001b[1;32m    141\u001b[0m \u001b[0;34m\u001b[0m\u001b[0m\n\u001b[1;32m    142\u001b[0m \u001b[0;34m\u001b[0m\u001b[0m\n",
            "\u001b[0;32m/usr/local/lib/python3.8/dist-packages/keras/utils/traceback_utils.py\u001b[0m in \u001b[0;36merror_handler\u001b[0;34m(*args, **kwargs)\u001b[0m\n\u001b[1;32m     62\u001b[0m     \u001b[0mfiltered_tb\u001b[0m \u001b[0;34m=\u001b[0m \u001b[0;32mNone\u001b[0m\u001b[0;34m\u001b[0m\u001b[0;34m\u001b[0m\u001b[0m\n\u001b[1;32m     63\u001b[0m     \u001b[0;32mtry\u001b[0m\u001b[0;34m:\u001b[0m\u001b[0;34m\u001b[0m\u001b[0;34m\u001b[0m\u001b[0m\n\u001b[0;32m---> 64\u001b[0;31m       \u001b[0;32mreturn\u001b[0m \u001b[0mfn\u001b[0m\u001b[0;34m(\u001b[0m\u001b[0;34m*\u001b[0m\u001b[0margs\u001b[0m\u001b[0;34m,\u001b[0m \u001b[0;34m**\u001b[0m\u001b[0mkwargs\u001b[0m\u001b[0;34m)\u001b[0m\u001b[0;34m\u001b[0m\u001b[0;34m\u001b[0m\u001b[0m\n\u001b[0m\u001b[1;32m     65\u001b[0m     \u001b[0;32mexcept\u001b[0m \u001b[0mException\u001b[0m \u001b[0;32mas\u001b[0m \u001b[0me\u001b[0m\u001b[0;34m:\u001b[0m  \u001b[0;31m# pylint: disable=broad-except\u001b[0m\u001b[0;34m\u001b[0m\u001b[0;34m\u001b[0m\u001b[0m\n\u001b[1;32m     66\u001b[0m       \u001b[0mfiltered_tb\u001b[0m \u001b[0;34m=\u001b[0m \u001b[0m_process_traceback_frames\u001b[0m\u001b[0;34m(\u001b[0m\u001b[0me\u001b[0m\u001b[0;34m.\u001b[0m\u001b[0m__traceback__\u001b[0m\u001b[0;34m)\u001b[0m\u001b[0;34m\u001b[0m\u001b[0;34m\u001b[0m\u001b[0m\n",
            "\u001b[0;32m/usr/local/lib/python3.8/dist-packages/keras/engine/training.py\u001b[0m in \u001b[0;36mfit\u001b[0;34m(self, x, y, batch_size, epochs, verbose, callbacks, validation_split, validation_data, shuffle, class_weight, sample_weight, initial_epoch, steps_per_epoch, validation_steps, validation_batch_size, validation_freq, max_queue_size, workers, use_multiprocessing)\u001b[0m\n\u001b[1;32m   1407\u001b[0m                 _r=1):\n\u001b[1;32m   1408\u001b[0m               \u001b[0mcallbacks\u001b[0m\u001b[0;34m.\u001b[0m\u001b[0mon_train_batch_begin\u001b[0m\u001b[0;34m(\u001b[0m\u001b[0mstep\u001b[0m\u001b[0;34m)\u001b[0m\u001b[0;34m\u001b[0m\u001b[0;34m\u001b[0m\u001b[0m\n\u001b[0;32m-> 1409\u001b[0;31m               \u001b[0mtmp_logs\u001b[0m \u001b[0;34m=\u001b[0m \u001b[0mself\u001b[0m\u001b[0;34m.\u001b[0m\u001b[0mtrain_function\u001b[0m\u001b[0;34m(\u001b[0m\u001b[0miterator\u001b[0m\u001b[0;34m)\u001b[0m\u001b[0;34m\u001b[0m\u001b[0;34m\u001b[0m\u001b[0m\n\u001b[0m\u001b[1;32m   1410\u001b[0m               \u001b[0;32mif\u001b[0m \u001b[0mdata_handler\u001b[0m\u001b[0;34m.\u001b[0m\u001b[0mshould_sync\u001b[0m\u001b[0;34m:\u001b[0m\u001b[0;34m\u001b[0m\u001b[0;34m\u001b[0m\u001b[0m\n\u001b[1;32m   1411\u001b[0m                 \u001b[0mcontext\u001b[0m\u001b[0;34m.\u001b[0m\u001b[0masync_wait\u001b[0m\u001b[0;34m(\u001b[0m\u001b[0;34m)\u001b[0m\u001b[0;34m\u001b[0m\u001b[0;34m\u001b[0m\u001b[0m\n",
            "\u001b[0;32m/usr/local/lib/python3.8/dist-packages/tensorflow/python/util/traceback_utils.py\u001b[0m in \u001b[0;36merror_handler\u001b[0;34m(*args, **kwargs)\u001b[0m\n\u001b[1;32m    148\u001b[0m     \u001b[0mfiltered_tb\u001b[0m \u001b[0;34m=\u001b[0m \u001b[0;32mNone\u001b[0m\u001b[0;34m\u001b[0m\u001b[0;34m\u001b[0m\u001b[0m\n\u001b[1;32m    149\u001b[0m     \u001b[0;32mtry\u001b[0m\u001b[0;34m:\u001b[0m\u001b[0;34m\u001b[0m\u001b[0;34m\u001b[0m\u001b[0m\n\u001b[0;32m--> 150\u001b[0;31m       \u001b[0;32mreturn\u001b[0m \u001b[0mfn\u001b[0m\u001b[0;34m(\u001b[0m\u001b[0;34m*\u001b[0m\u001b[0margs\u001b[0m\u001b[0;34m,\u001b[0m \u001b[0;34m**\u001b[0m\u001b[0mkwargs\u001b[0m\u001b[0;34m)\u001b[0m\u001b[0;34m\u001b[0m\u001b[0;34m\u001b[0m\u001b[0m\n\u001b[0m\u001b[1;32m    151\u001b[0m     \u001b[0;32mexcept\u001b[0m \u001b[0mException\u001b[0m \u001b[0;32mas\u001b[0m \u001b[0me\u001b[0m\u001b[0;34m:\u001b[0m\u001b[0;34m\u001b[0m\u001b[0;34m\u001b[0m\u001b[0m\n\u001b[1;32m    152\u001b[0m       \u001b[0mfiltered_tb\u001b[0m \u001b[0;34m=\u001b[0m \u001b[0m_process_traceback_frames\u001b[0m\u001b[0;34m(\u001b[0m\u001b[0me\u001b[0m\u001b[0;34m.\u001b[0m\u001b[0m__traceback__\u001b[0m\u001b[0;34m)\u001b[0m\u001b[0;34m\u001b[0m\u001b[0;34m\u001b[0m\u001b[0m\n",
            "\u001b[0;32m/usr/local/lib/python3.8/dist-packages/tensorflow/python/eager/def_function.py\u001b[0m in \u001b[0;36m__call__\u001b[0;34m(self, *args, **kwds)\u001b[0m\n\u001b[1;32m    913\u001b[0m \u001b[0;34m\u001b[0m\u001b[0m\n\u001b[1;32m    914\u001b[0m       \u001b[0;32mwith\u001b[0m \u001b[0mOptionalXlaContext\u001b[0m\u001b[0;34m(\u001b[0m\u001b[0mself\u001b[0m\u001b[0;34m.\u001b[0m\u001b[0m_jit_compile\u001b[0m\u001b[0;34m)\u001b[0m\u001b[0;34m:\u001b[0m\u001b[0;34m\u001b[0m\u001b[0;34m\u001b[0m\u001b[0m\n\u001b[0;32m--> 915\u001b[0;31m         \u001b[0mresult\u001b[0m \u001b[0;34m=\u001b[0m \u001b[0mself\u001b[0m\u001b[0;34m.\u001b[0m\u001b[0m_call\u001b[0m\u001b[0;34m(\u001b[0m\u001b[0;34m*\u001b[0m\u001b[0margs\u001b[0m\u001b[0;34m,\u001b[0m \u001b[0;34m**\u001b[0m\u001b[0mkwds\u001b[0m\u001b[0;34m)\u001b[0m\u001b[0;34m\u001b[0m\u001b[0;34m\u001b[0m\u001b[0m\n\u001b[0m\u001b[1;32m    916\u001b[0m \u001b[0;34m\u001b[0m\u001b[0m\n\u001b[1;32m    917\u001b[0m       \u001b[0mnew_tracing_count\u001b[0m \u001b[0;34m=\u001b[0m \u001b[0mself\u001b[0m\u001b[0;34m.\u001b[0m\u001b[0mexperimental_get_tracing_count\u001b[0m\u001b[0;34m(\u001b[0m\u001b[0;34m)\u001b[0m\u001b[0;34m\u001b[0m\u001b[0;34m\u001b[0m\u001b[0m\n",
            "\u001b[0;32m/usr/local/lib/python3.8/dist-packages/tensorflow/python/eager/def_function.py\u001b[0m in \u001b[0;36m_call\u001b[0;34m(self, *args, **kwds)\u001b[0m\n\u001b[1;32m    961\u001b[0m       \u001b[0;31m# This is the first call of __call__, so we have to initialize.\u001b[0m\u001b[0;34m\u001b[0m\u001b[0;34m\u001b[0m\u001b[0;34m\u001b[0m\u001b[0m\n\u001b[1;32m    962\u001b[0m       \u001b[0minitializers\u001b[0m \u001b[0;34m=\u001b[0m \u001b[0;34m[\u001b[0m\u001b[0;34m]\u001b[0m\u001b[0;34m\u001b[0m\u001b[0;34m\u001b[0m\u001b[0m\n\u001b[0;32m--> 963\u001b[0;31m       \u001b[0mself\u001b[0m\u001b[0;34m.\u001b[0m\u001b[0m_initialize\u001b[0m\u001b[0;34m(\u001b[0m\u001b[0margs\u001b[0m\u001b[0;34m,\u001b[0m \u001b[0mkwds\u001b[0m\u001b[0;34m,\u001b[0m \u001b[0madd_initializers_to\u001b[0m\u001b[0;34m=\u001b[0m\u001b[0minitializers\u001b[0m\u001b[0;34m)\u001b[0m\u001b[0;34m\u001b[0m\u001b[0;34m\u001b[0m\u001b[0m\n\u001b[0m\u001b[1;32m    964\u001b[0m     \u001b[0;32mfinally\u001b[0m\u001b[0;34m:\u001b[0m\u001b[0;34m\u001b[0m\u001b[0;34m\u001b[0m\u001b[0m\n\u001b[1;32m    965\u001b[0m       \u001b[0;31m# At this point we know that the initialization is complete (or less\u001b[0m\u001b[0;34m\u001b[0m\u001b[0;34m\u001b[0m\u001b[0;34m\u001b[0m\u001b[0m\n",
            "\u001b[0;32m/usr/local/lib/python3.8/dist-packages/tensorflow/python/eager/def_function.py\u001b[0m in \u001b[0;36m_initialize\u001b[0;34m(self, args, kwds, add_initializers_to)\u001b[0m\n\u001b[1;32m    783\u001b[0m     \u001b[0mself\u001b[0m\u001b[0;34m.\u001b[0m\u001b[0m_graph_deleter\u001b[0m \u001b[0;34m=\u001b[0m \u001b[0mFunctionDeleter\u001b[0m\u001b[0;34m(\u001b[0m\u001b[0mself\u001b[0m\u001b[0;34m.\u001b[0m\u001b[0m_lifted_initializer_graph\u001b[0m\u001b[0;34m)\u001b[0m\u001b[0;34m\u001b[0m\u001b[0;34m\u001b[0m\u001b[0m\n\u001b[1;32m    784\u001b[0m     self._concrete_stateful_fn = (\n\u001b[0;32m--> 785\u001b[0;31m         self._stateful_fn._get_concrete_function_internal_garbage_collected(  # pylint: disable=protected-access\n\u001b[0m\u001b[1;32m    786\u001b[0m             *args, **kwds))\n\u001b[1;32m    787\u001b[0m \u001b[0;34m\u001b[0m\u001b[0m\n",
            "\u001b[0;32m/usr/local/lib/python3.8/dist-packages/tensorflow/python/eager/function.py\u001b[0m in \u001b[0;36m_get_concrete_function_internal_garbage_collected\u001b[0;34m(self, *args, **kwargs)\u001b[0m\n\u001b[1;32m   2478\u001b[0m       \u001b[0margs\u001b[0m\u001b[0;34m,\u001b[0m \u001b[0mkwargs\u001b[0m \u001b[0;34m=\u001b[0m \u001b[0;32mNone\u001b[0m\u001b[0;34m,\u001b[0m \u001b[0;32mNone\u001b[0m\u001b[0;34m\u001b[0m\u001b[0;34m\u001b[0m\u001b[0m\n\u001b[1;32m   2479\u001b[0m     \u001b[0;32mwith\u001b[0m \u001b[0mself\u001b[0m\u001b[0;34m.\u001b[0m\u001b[0m_lock\u001b[0m\u001b[0;34m:\u001b[0m\u001b[0;34m\u001b[0m\u001b[0;34m\u001b[0m\u001b[0m\n\u001b[0;32m-> 2480\u001b[0;31m       \u001b[0mgraph_function\u001b[0m\u001b[0;34m,\u001b[0m \u001b[0m_\u001b[0m \u001b[0;34m=\u001b[0m \u001b[0mself\u001b[0m\u001b[0;34m.\u001b[0m\u001b[0m_maybe_define_function\u001b[0m\u001b[0;34m(\u001b[0m\u001b[0margs\u001b[0m\u001b[0;34m,\u001b[0m \u001b[0mkwargs\u001b[0m\u001b[0;34m)\u001b[0m\u001b[0;34m\u001b[0m\u001b[0;34m\u001b[0m\u001b[0m\n\u001b[0m\u001b[1;32m   2481\u001b[0m     \u001b[0;32mreturn\u001b[0m \u001b[0mgraph_function\u001b[0m\u001b[0;34m\u001b[0m\u001b[0;34m\u001b[0m\u001b[0m\n\u001b[1;32m   2482\u001b[0m \u001b[0;34m\u001b[0m\u001b[0m\n",
            "\u001b[0;32m/usr/local/lib/python3.8/dist-packages/tensorflow/python/eager/function.py\u001b[0m in \u001b[0;36m_maybe_define_function\u001b[0;34m(self, args, kwargs)\u001b[0m\n\u001b[1;32m   2709\u001b[0m             \u001b[0;34m(\u001b[0m\u001b[0margs\u001b[0m\u001b[0;34m,\u001b[0m \u001b[0mkwargs\u001b[0m\u001b[0;34m)\u001b[0m \u001b[0;34m=\u001b[0m \u001b[0mcache_key\u001b[0m\u001b[0;34m.\u001b[0m\u001b[0m_placeholder_value\u001b[0m\u001b[0;34m(\u001b[0m\u001b[0;34m)\u001b[0m  \u001b[0;31m# pylint: disable=protected-access\u001b[0m\u001b[0;34m\u001b[0m\u001b[0;34m\u001b[0m\u001b[0m\n\u001b[1;32m   2710\u001b[0m \u001b[0;34m\u001b[0m\u001b[0m\n\u001b[0;32m-> 2711\u001b[0;31m           \u001b[0mgraph_function\u001b[0m \u001b[0;34m=\u001b[0m \u001b[0mself\u001b[0m\u001b[0;34m.\u001b[0m\u001b[0m_create_graph_function\u001b[0m\u001b[0;34m(\u001b[0m\u001b[0margs\u001b[0m\u001b[0;34m,\u001b[0m \u001b[0mkwargs\u001b[0m\u001b[0;34m)\u001b[0m\u001b[0;34m\u001b[0m\u001b[0;34m\u001b[0m\u001b[0m\n\u001b[0m\u001b[1;32m   2712\u001b[0m           self._function_cache.add(cache_key, cache_key_deletion_observer,\n\u001b[1;32m   2713\u001b[0m                                    graph_function)\n",
            "\u001b[0;32m/usr/local/lib/python3.8/dist-packages/tensorflow/python/eager/function.py\u001b[0m in \u001b[0;36m_create_graph_function\u001b[0;34m(self, args, kwargs)\u001b[0m\n\u001b[1;32m   2625\u001b[0m     \u001b[0marg_names\u001b[0m \u001b[0;34m=\u001b[0m \u001b[0mbase_arg_names\u001b[0m \u001b[0;34m+\u001b[0m \u001b[0mmissing_arg_names\u001b[0m\u001b[0;34m\u001b[0m\u001b[0;34m\u001b[0m\u001b[0m\n\u001b[1;32m   2626\u001b[0m     graph_function = ConcreteFunction(\n\u001b[0;32m-> 2627\u001b[0;31m         func_graph_module.func_graph_from_py_func(\n\u001b[0m\u001b[1;32m   2628\u001b[0m             \u001b[0mself\u001b[0m\u001b[0;34m.\u001b[0m\u001b[0m_name\u001b[0m\u001b[0;34m,\u001b[0m\u001b[0;34m\u001b[0m\u001b[0;34m\u001b[0m\u001b[0m\n\u001b[1;32m   2629\u001b[0m             \u001b[0mself\u001b[0m\u001b[0;34m.\u001b[0m\u001b[0m_python_function\u001b[0m\u001b[0;34m,\u001b[0m\u001b[0;34m\u001b[0m\u001b[0;34m\u001b[0m\u001b[0m\n",
            "\u001b[0;32m/usr/local/lib/python3.8/dist-packages/tensorflow/python/framework/func_graph.py\u001b[0m in \u001b[0;36mfunc_graph_from_py_func\u001b[0;34m(name, python_func, args, kwargs, signature, func_graph, autograph, autograph_options, add_control_dependencies, arg_names, op_return_value, collections, capture_by_value, acd_record_initial_resource_uses)\u001b[0m\n\u001b[1;32m   1139\u001b[0m         \u001b[0m_\u001b[0m\u001b[0;34m,\u001b[0m \u001b[0moriginal_func\u001b[0m \u001b[0;34m=\u001b[0m \u001b[0mtf_decorator\u001b[0m\u001b[0;34m.\u001b[0m\u001b[0munwrap\u001b[0m\u001b[0;34m(\u001b[0m\u001b[0mpython_func\u001b[0m\u001b[0;34m)\u001b[0m\u001b[0;34m\u001b[0m\u001b[0;34m\u001b[0m\u001b[0m\n\u001b[1;32m   1140\u001b[0m \u001b[0;34m\u001b[0m\u001b[0m\n\u001b[0;32m-> 1141\u001b[0;31m       \u001b[0mfunc_outputs\u001b[0m \u001b[0;34m=\u001b[0m \u001b[0mpython_func\u001b[0m\u001b[0;34m(\u001b[0m\u001b[0;34m*\u001b[0m\u001b[0mfunc_args\u001b[0m\u001b[0;34m,\u001b[0m \u001b[0;34m**\u001b[0m\u001b[0mfunc_kwargs\u001b[0m\u001b[0;34m)\u001b[0m\u001b[0;34m\u001b[0m\u001b[0;34m\u001b[0m\u001b[0m\n\u001b[0m\u001b[1;32m   1142\u001b[0m \u001b[0;34m\u001b[0m\u001b[0m\n\u001b[1;32m   1143\u001b[0m       \u001b[0;31m# invariant: `func_outputs` contains only Tensors, CompositeTensors,\u001b[0m\u001b[0;34m\u001b[0m\u001b[0;34m\u001b[0m\u001b[0;34m\u001b[0m\u001b[0m\n",
            "\u001b[0;32m/usr/local/lib/python3.8/dist-packages/tensorflow/python/eager/def_function.py\u001b[0m in \u001b[0;36mwrapped_fn\u001b[0;34m(*args, **kwds)\u001b[0m\n\u001b[1;32m    675\u001b[0m         \u001b[0;31m# the function a weak reference to itself to avoid a reference cycle.\u001b[0m\u001b[0;34m\u001b[0m\u001b[0;34m\u001b[0m\u001b[0;34m\u001b[0m\u001b[0m\n\u001b[1;32m    676\u001b[0m         \u001b[0;32mwith\u001b[0m \u001b[0mOptionalXlaContext\u001b[0m\u001b[0;34m(\u001b[0m\u001b[0mcompile_with_xla\u001b[0m\u001b[0;34m)\u001b[0m\u001b[0;34m:\u001b[0m\u001b[0;34m\u001b[0m\u001b[0;34m\u001b[0m\u001b[0m\n\u001b[0;32m--> 677\u001b[0;31m           \u001b[0mout\u001b[0m \u001b[0;34m=\u001b[0m \u001b[0mweak_wrapped_fn\u001b[0m\u001b[0;34m(\u001b[0m\u001b[0;34m)\u001b[0m\u001b[0;34m.\u001b[0m\u001b[0m__wrapped__\u001b[0m\u001b[0;34m(\u001b[0m\u001b[0;34m*\u001b[0m\u001b[0margs\u001b[0m\u001b[0;34m,\u001b[0m \u001b[0;34m**\u001b[0m\u001b[0mkwds\u001b[0m\u001b[0;34m)\u001b[0m\u001b[0;34m\u001b[0m\u001b[0;34m\u001b[0m\u001b[0m\n\u001b[0m\u001b[1;32m    678\u001b[0m         \u001b[0;32mreturn\u001b[0m \u001b[0mout\u001b[0m\u001b[0;34m\u001b[0m\u001b[0;34m\u001b[0m\u001b[0m\n\u001b[1;32m    679\u001b[0m \u001b[0;34m\u001b[0m\u001b[0m\n",
            "\u001b[0;32m/usr/local/lib/python3.8/dist-packages/tensorflow/python/framework/func_graph.py\u001b[0m in \u001b[0;36mautograph_handler\u001b[0;34m(*args, **kwargs)\u001b[0m\n\u001b[1;32m   1114\u001b[0m           \u001b[0;31m# TODO(mdan): Push this block higher in tf.function's call stack.\u001b[0m\u001b[0;34m\u001b[0m\u001b[0;34m\u001b[0m\u001b[0;34m\u001b[0m\u001b[0m\n\u001b[1;32m   1115\u001b[0m           \u001b[0;32mtry\u001b[0m\u001b[0;34m:\u001b[0m\u001b[0;34m\u001b[0m\u001b[0;34m\u001b[0m\u001b[0m\n\u001b[0;32m-> 1116\u001b[0;31m             return autograph.converted_call(\n\u001b[0m\u001b[1;32m   1117\u001b[0m                 \u001b[0moriginal_func\u001b[0m\u001b[0;34m,\u001b[0m\u001b[0;34m\u001b[0m\u001b[0;34m\u001b[0m\u001b[0m\n\u001b[1;32m   1118\u001b[0m                 \u001b[0margs\u001b[0m\u001b[0;34m,\u001b[0m\u001b[0;34m\u001b[0m\u001b[0;34m\u001b[0m\u001b[0m\n",
            "\u001b[0;32m/usr/local/lib/python3.8/dist-packages/tensorflow/python/autograph/impl/api.py\u001b[0m in \u001b[0;36mconverted_call\u001b[0;34m(f, args, kwargs, caller_fn_scope, options)\u001b[0m\n\u001b[1;32m    437\u001b[0m     \u001b[0;32mtry\u001b[0m\u001b[0;34m:\u001b[0m\u001b[0;34m\u001b[0m\u001b[0;34m\u001b[0m\u001b[0m\n\u001b[1;32m    438\u001b[0m       \u001b[0;32mif\u001b[0m \u001b[0mkwargs\u001b[0m \u001b[0;32mis\u001b[0m \u001b[0;32mnot\u001b[0m \u001b[0;32mNone\u001b[0m\u001b[0;34m:\u001b[0m\u001b[0;34m\u001b[0m\u001b[0;34m\u001b[0m\u001b[0m\n\u001b[0;32m--> 439\u001b[0;31m         \u001b[0mresult\u001b[0m \u001b[0;34m=\u001b[0m \u001b[0mconverted_f\u001b[0m\u001b[0;34m(\u001b[0m\u001b[0;34m*\u001b[0m\u001b[0meffective_args\u001b[0m\u001b[0;34m,\u001b[0m \u001b[0;34m**\u001b[0m\u001b[0mkwargs\u001b[0m\u001b[0;34m)\u001b[0m\u001b[0;34m\u001b[0m\u001b[0;34m\u001b[0m\u001b[0m\n\u001b[0m\u001b[1;32m    440\u001b[0m       \u001b[0;32melse\u001b[0m\u001b[0;34m:\u001b[0m\u001b[0;34m\u001b[0m\u001b[0;34m\u001b[0m\u001b[0m\n\u001b[1;32m    441\u001b[0m         \u001b[0mresult\u001b[0m \u001b[0;34m=\u001b[0m \u001b[0mconverted_f\u001b[0m\u001b[0;34m(\u001b[0m\u001b[0;34m*\u001b[0m\u001b[0meffective_args\u001b[0m\u001b[0;34m)\u001b[0m\u001b[0;34m\u001b[0m\u001b[0;34m\u001b[0m\u001b[0m\n",
            "\u001b[0;32m/usr/local/lib/python3.8/dist-packages/keras/engine/training.py\u001b[0m in \u001b[0;36mtf__train_function\u001b[0;34m(iterator)\u001b[0m\n\u001b[1;32m     13\u001b[0m                 \u001b[0;32mtry\u001b[0m\u001b[0;34m:\u001b[0m\u001b[0;34m\u001b[0m\u001b[0;34m\u001b[0m\u001b[0m\n\u001b[1;32m     14\u001b[0m                     \u001b[0mdo_return\u001b[0m \u001b[0;34m=\u001b[0m \u001b[0;32mTrue\u001b[0m\u001b[0;34m\u001b[0m\u001b[0;34m\u001b[0m\u001b[0m\n\u001b[0;32m---> 15\u001b[0;31m                     \u001b[0mretval_\u001b[0m \u001b[0;34m=\u001b[0m \u001b[0mag__\u001b[0m\u001b[0;34m.\u001b[0m\u001b[0mconverted_call\u001b[0m\u001b[0;34m(\u001b[0m\u001b[0mag__\u001b[0m\u001b[0;34m.\u001b[0m\u001b[0mld\u001b[0m\u001b[0;34m(\u001b[0m\u001b[0mstep_function\u001b[0m\u001b[0;34m)\u001b[0m\u001b[0;34m,\u001b[0m \u001b[0;34m(\u001b[0m\u001b[0mag__\u001b[0m\u001b[0;34m.\u001b[0m\u001b[0mld\u001b[0m\u001b[0;34m(\u001b[0m\u001b[0mself\u001b[0m\u001b[0;34m)\u001b[0m\u001b[0;34m,\u001b[0m \u001b[0mag__\u001b[0m\u001b[0;34m.\u001b[0m\u001b[0mld\u001b[0m\u001b[0;34m(\u001b[0m\u001b[0miterator\u001b[0m\u001b[0;34m)\u001b[0m\u001b[0;34m)\u001b[0m\u001b[0;34m,\u001b[0m \u001b[0;32mNone\u001b[0m\u001b[0;34m,\u001b[0m \u001b[0mfscope\u001b[0m\u001b[0;34m)\u001b[0m\u001b[0;34m\u001b[0m\u001b[0;34m\u001b[0m\u001b[0m\n\u001b[0m\u001b[1;32m     16\u001b[0m                 \u001b[0;32mexcept\u001b[0m\u001b[0;34m:\u001b[0m\u001b[0;34m\u001b[0m\u001b[0;34m\u001b[0m\u001b[0m\n\u001b[1;32m     17\u001b[0m                     \u001b[0mdo_return\u001b[0m \u001b[0;34m=\u001b[0m \u001b[0;32mFalse\u001b[0m\u001b[0;34m\u001b[0m\u001b[0;34m\u001b[0m\u001b[0m\n",
            "\u001b[0;32m/usr/local/lib/python3.8/dist-packages/tensorflow/python/autograph/impl/api.py\u001b[0m in \u001b[0;36mconverted_call\u001b[0;34m(f, args, kwargs, caller_fn_scope, options)\u001b[0m\n\u001b[1;32m    375\u001b[0m \u001b[0;34m\u001b[0m\u001b[0m\n\u001b[1;32m    376\u001b[0m   \u001b[0;32mif\u001b[0m \u001b[0;32mnot\u001b[0m \u001b[0moptions\u001b[0m\u001b[0;34m.\u001b[0m\u001b[0muser_requested\u001b[0m \u001b[0;32mand\u001b[0m \u001b[0mconversion\u001b[0m\u001b[0;34m.\u001b[0m\u001b[0mis_allowlisted\u001b[0m\u001b[0;34m(\u001b[0m\u001b[0mf\u001b[0m\u001b[0;34m)\u001b[0m\u001b[0;34m:\u001b[0m\u001b[0;34m\u001b[0m\u001b[0;34m\u001b[0m\u001b[0m\n\u001b[0;32m--> 377\u001b[0;31m     \u001b[0;32mreturn\u001b[0m \u001b[0m_call_unconverted\u001b[0m\u001b[0;34m(\u001b[0m\u001b[0mf\u001b[0m\u001b[0;34m,\u001b[0m \u001b[0margs\u001b[0m\u001b[0;34m,\u001b[0m \u001b[0mkwargs\u001b[0m\u001b[0;34m,\u001b[0m \u001b[0moptions\u001b[0m\u001b[0;34m)\u001b[0m\u001b[0;34m\u001b[0m\u001b[0;34m\u001b[0m\u001b[0m\n\u001b[0m\u001b[1;32m    378\u001b[0m \u001b[0;34m\u001b[0m\u001b[0m\n\u001b[1;32m    379\u001b[0m   \u001b[0;31m# internal_convert_user_code is for example turned off when issuing a dynamic\u001b[0m\u001b[0;34m\u001b[0m\u001b[0;34m\u001b[0m\u001b[0;34m\u001b[0m\u001b[0m\n",
            "\u001b[0;32m/usr/local/lib/python3.8/dist-packages/tensorflow/python/autograph/impl/api.py\u001b[0m in \u001b[0;36m_call_unconverted\u001b[0;34m(f, args, kwargs, options, update_cache)\u001b[0m\n\u001b[1;32m    457\u001b[0m   \u001b[0;32mif\u001b[0m \u001b[0mkwargs\u001b[0m \u001b[0;32mis\u001b[0m \u001b[0;32mnot\u001b[0m \u001b[0;32mNone\u001b[0m\u001b[0;34m:\u001b[0m\u001b[0;34m\u001b[0m\u001b[0;34m\u001b[0m\u001b[0m\n\u001b[1;32m    458\u001b[0m     \u001b[0;32mreturn\u001b[0m \u001b[0mf\u001b[0m\u001b[0;34m(\u001b[0m\u001b[0;34m*\u001b[0m\u001b[0margs\u001b[0m\u001b[0;34m,\u001b[0m \u001b[0;34m**\u001b[0m\u001b[0mkwargs\u001b[0m\u001b[0;34m)\u001b[0m\u001b[0;34m\u001b[0m\u001b[0;34m\u001b[0m\u001b[0m\n\u001b[0;32m--> 459\u001b[0;31m   \u001b[0;32mreturn\u001b[0m \u001b[0mf\u001b[0m\u001b[0;34m(\u001b[0m\u001b[0;34m*\u001b[0m\u001b[0margs\u001b[0m\u001b[0;34m)\u001b[0m\u001b[0;34m\u001b[0m\u001b[0;34m\u001b[0m\u001b[0m\n\u001b[0m\u001b[1;32m    460\u001b[0m \u001b[0;34m\u001b[0m\u001b[0m\n\u001b[1;32m    461\u001b[0m \u001b[0;34m\u001b[0m\u001b[0m\n",
            "\u001b[0;32m/usr/local/lib/python3.8/dist-packages/keras/engine/training.py\u001b[0m in \u001b[0;36mstep_function\u001b[0;34m(model, iterator)\u001b[0m\n\u001b[1;32m   1038\u001b[0m             run_step, jit_compile=True, reduce_retracing=True)\n\u001b[1;32m   1039\u001b[0m       \u001b[0mdata\u001b[0m \u001b[0;34m=\u001b[0m \u001b[0mnext\u001b[0m\u001b[0;34m(\u001b[0m\u001b[0miterator\u001b[0m\u001b[0;34m)\u001b[0m\u001b[0;34m\u001b[0m\u001b[0;34m\u001b[0m\u001b[0m\n\u001b[0;32m-> 1040\u001b[0;31m       \u001b[0moutputs\u001b[0m \u001b[0;34m=\u001b[0m \u001b[0mmodel\u001b[0m\u001b[0;34m.\u001b[0m\u001b[0mdistribute_strategy\u001b[0m\u001b[0;34m.\u001b[0m\u001b[0mrun\u001b[0m\u001b[0;34m(\u001b[0m\u001b[0mrun_step\u001b[0m\u001b[0;34m,\u001b[0m \u001b[0margs\u001b[0m\u001b[0;34m=\u001b[0m\u001b[0;34m(\u001b[0m\u001b[0mdata\u001b[0m\u001b[0;34m,\u001b[0m\u001b[0;34m)\u001b[0m\u001b[0;34m)\u001b[0m\u001b[0;34m\u001b[0m\u001b[0;34m\u001b[0m\u001b[0m\n\u001b[0m\u001b[1;32m   1041\u001b[0m       outputs = reduce_per_replica(\n\u001b[1;32m   1042\u001b[0m           outputs, self.distribute_strategy, reduction='first')\n",
            "\u001b[0;32m/usr/local/lib/python3.8/dist-packages/tensorflow/python/distribute/distribute_lib.py\u001b[0m in \u001b[0;36mrun\u001b[0;34m(***failed resolving arguments***)\u001b[0m\n\u001b[1;32m   1310\u001b[0m       fn = autograph.tf_convert(\n\u001b[1;32m   1311\u001b[0m           fn, autograph_ctx.control_status_ctx(), convert_by_default=False)\n\u001b[0;32m-> 1312\u001b[0;31m       \u001b[0;32mreturn\u001b[0m \u001b[0mself\u001b[0m\u001b[0;34m.\u001b[0m\u001b[0m_extended\u001b[0m\u001b[0;34m.\u001b[0m\u001b[0mcall_for_each_replica\u001b[0m\u001b[0;34m(\u001b[0m\u001b[0mfn\u001b[0m\u001b[0;34m,\u001b[0m \u001b[0margs\u001b[0m\u001b[0;34m=\u001b[0m\u001b[0margs\u001b[0m\u001b[0;34m,\u001b[0m \u001b[0mkwargs\u001b[0m\u001b[0;34m=\u001b[0m\u001b[0mkwargs\u001b[0m\u001b[0;34m)\u001b[0m\u001b[0;34m\u001b[0m\u001b[0;34m\u001b[0m\u001b[0m\n\u001b[0m\u001b[1;32m   1313\u001b[0m \u001b[0;34m\u001b[0m\u001b[0m\n\u001b[1;32m   1314\u001b[0m   \u001b[0;32mdef\u001b[0m \u001b[0mreduce\u001b[0m\u001b[0;34m(\u001b[0m\u001b[0mself\u001b[0m\u001b[0;34m,\u001b[0m \u001b[0mreduce_op\u001b[0m\u001b[0;34m,\u001b[0m \u001b[0mvalue\u001b[0m\u001b[0;34m,\u001b[0m \u001b[0maxis\u001b[0m\u001b[0;34m)\u001b[0m\u001b[0;34m:\u001b[0m\u001b[0;34m\u001b[0m\u001b[0;34m\u001b[0m\u001b[0m\n",
            "\u001b[0;32m/usr/local/lib/python3.8/dist-packages/tensorflow/python/distribute/distribute_lib.py\u001b[0m in \u001b[0;36mcall_for_each_replica\u001b[0;34m(self, fn, args, kwargs)\u001b[0m\n\u001b[1;32m   2886\u001b[0m       \u001b[0mkwargs\u001b[0m \u001b[0;34m=\u001b[0m \u001b[0;34m{\u001b[0m\u001b[0;34m}\u001b[0m\u001b[0;34m\u001b[0m\u001b[0;34m\u001b[0m\u001b[0m\n\u001b[1;32m   2887\u001b[0m     \u001b[0;32mwith\u001b[0m \u001b[0mself\u001b[0m\u001b[0;34m.\u001b[0m\u001b[0m_container_strategy\u001b[0m\u001b[0;34m(\u001b[0m\u001b[0;34m)\u001b[0m\u001b[0;34m.\u001b[0m\u001b[0mscope\u001b[0m\u001b[0;34m(\u001b[0m\u001b[0;34m)\u001b[0m\u001b[0;34m:\u001b[0m\u001b[0;34m\u001b[0m\u001b[0;34m\u001b[0m\u001b[0m\n\u001b[0;32m-> 2888\u001b[0;31m       \u001b[0;32mreturn\u001b[0m \u001b[0mself\u001b[0m\u001b[0;34m.\u001b[0m\u001b[0m_call_for_each_replica\u001b[0m\u001b[0;34m(\u001b[0m\u001b[0mfn\u001b[0m\u001b[0;34m,\u001b[0m \u001b[0margs\u001b[0m\u001b[0;34m,\u001b[0m \u001b[0mkwargs\u001b[0m\u001b[0;34m)\u001b[0m\u001b[0;34m\u001b[0m\u001b[0;34m\u001b[0m\u001b[0m\n\u001b[0m\u001b[1;32m   2889\u001b[0m \u001b[0;34m\u001b[0m\u001b[0m\n\u001b[1;32m   2890\u001b[0m   \u001b[0;32mdef\u001b[0m \u001b[0m_call_for_each_replica\u001b[0m\u001b[0;34m(\u001b[0m\u001b[0mself\u001b[0m\u001b[0;34m,\u001b[0m \u001b[0mfn\u001b[0m\u001b[0;34m,\u001b[0m \u001b[0margs\u001b[0m\u001b[0;34m,\u001b[0m \u001b[0mkwargs\u001b[0m\u001b[0;34m)\u001b[0m\u001b[0;34m:\u001b[0m\u001b[0;34m\u001b[0m\u001b[0;34m\u001b[0m\u001b[0m\n",
            "\u001b[0;32m/usr/local/lib/python3.8/dist-packages/tensorflow/python/distribute/distribute_lib.py\u001b[0m in \u001b[0;36m_call_for_each_replica\u001b[0;34m(self, fn, args, kwargs)\u001b[0m\n\u001b[1;32m   3687\u001b[0m   \u001b[0;32mdef\u001b[0m \u001b[0m_call_for_each_replica\u001b[0m\u001b[0;34m(\u001b[0m\u001b[0mself\u001b[0m\u001b[0;34m,\u001b[0m \u001b[0mfn\u001b[0m\u001b[0;34m,\u001b[0m \u001b[0margs\u001b[0m\u001b[0;34m,\u001b[0m \u001b[0mkwargs\u001b[0m\u001b[0;34m)\u001b[0m\u001b[0;34m:\u001b[0m\u001b[0;34m\u001b[0m\u001b[0;34m\u001b[0m\u001b[0m\n\u001b[1;32m   3688\u001b[0m     \u001b[0;32mwith\u001b[0m \u001b[0mReplicaContext\u001b[0m\u001b[0;34m(\u001b[0m\u001b[0mself\u001b[0m\u001b[0;34m.\u001b[0m\u001b[0m_container_strategy\u001b[0m\u001b[0;34m(\u001b[0m\u001b[0;34m)\u001b[0m\u001b[0;34m,\u001b[0m \u001b[0mreplica_id_in_sync_group\u001b[0m\u001b[0;34m=\u001b[0m\u001b[0;36m0\u001b[0m\u001b[0;34m)\u001b[0m\u001b[0;34m:\u001b[0m\u001b[0;34m\u001b[0m\u001b[0;34m\u001b[0m\u001b[0m\n\u001b[0;32m-> 3689\u001b[0;31m       \u001b[0;32mreturn\u001b[0m \u001b[0mfn\u001b[0m\u001b[0;34m(\u001b[0m\u001b[0;34m*\u001b[0m\u001b[0margs\u001b[0m\u001b[0;34m,\u001b[0m \u001b[0;34m**\u001b[0m\u001b[0mkwargs\u001b[0m\u001b[0;34m)\u001b[0m\u001b[0;34m\u001b[0m\u001b[0;34m\u001b[0m\u001b[0m\n\u001b[0m\u001b[1;32m   3690\u001b[0m \u001b[0;34m\u001b[0m\u001b[0m\n\u001b[1;32m   3691\u001b[0m   \u001b[0;32mdef\u001b[0m \u001b[0m_reduce_to\u001b[0m\u001b[0;34m(\u001b[0m\u001b[0mself\u001b[0m\u001b[0;34m,\u001b[0m \u001b[0mreduce_op\u001b[0m\u001b[0;34m,\u001b[0m \u001b[0mvalue\u001b[0m\u001b[0;34m,\u001b[0m \u001b[0mdestinations\u001b[0m\u001b[0;34m,\u001b[0m \u001b[0moptions\u001b[0m\u001b[0;34m)\u001b[0m\u001b[0;34m:\u001b[0m\u001b[0;34m\u001b[0m\u001b[0;34m\u001b[0m\u001b[0m\n",
            "\u001b[0;32m/usr/local/lib/python3.8/dist-packages/tensorflow/python/autograph/impl/api.py\u001b[0m in \u001b[0;36mwrapper\u001b[0;34m(*args, **kwargs)\u001b[0m\n\u001b[1;32m    687\u001b[0m       \u001b[0;32mtry\u001b[0m\u001b[0;34m:\u001b[0m\u001b[0;34m\u001b[0m\u001b[0;34m\u001b[0m\u001b[0m\n\u001b[1;32m    688\u001b[0m         \u001b[0;32mwith\u001b[0m \u001b[0mconversion_ctx\u001b[0m\u001b[0;34m:\u001b[0m\u001b[0;34m\u001b[0m\u001b[0;34m\u001b[0m\u001b[0m\n\u001b[0;32m--> 689\u001b[0;31m           \u001b[0;32mreturn\u001b[0m \u001b[0mconverted_call\u001b[0m\u001b[0;34m(\u001b[0m\u001b[0mf\u001b[0m\u001b[0;34m,\u001b[0m \u001b[0margs\u001b[0m\u001b[0;34m,\u001b[0m \u001b[0mkwargs\u001b[0m\u001b[0;34m,\u001b[0m \u001b[0moptions\u001b[0m\u001b[0;34m=\u001b[0m\u001b[0moptions\u001b[0m\u001b[0;34m)\u001b[0m\u001b[0;34m\u001b[0m\u001b[0;34m\u001b[0m\u001b[0m\n\u001b[0m\u001b[1;32m    690\u001b[0m       \u001b[0;32mexcept\u001b[0m \u001b[0mException\u001b[0m \u001b[0;32mas\u001b[0m \u001b[0me\u001b[0m\u001b[0;34m:\u001b[0m  \u001b[0;31m# pylint:disable=broad-except\u001b[0m\u001b[0;34m\u001b[0m\u001b[0;34m\u001b[0m\u001b[0m\n\u001b[1;32m    691\u001b[0m         \u001b[0;32mif\u001b[0m \u001b[0mhasattr\u001b[0m\u001b[0;34m(\u001b[0m\u001b[0me\u001b[0m\u001b[0;34m,\u001b[0m \u001b[0;34m'ag_error_metadata'\u001b[0m\u001b[0;34m)\u001b[0m\u001b[0;34m:\u001b[0m\u001b[0;34m\u001b[0m\u001b[0;34m\u001b[0m\u001b[0m\n",
            "\u001b[0;32m/usr/local/lib/python3.8/dist-packages/tensorflow/python/autograph/impl/api.py\u001b[0m in \u001b[0;36mconverted_call\u001b[0;34m(f, args, kwargs, caller_fn_scope, options)\u001b[0m\n\u001b[1;32m    375\u001b[0m \u001b[0;34m\u001b[0m\u001b[0m\n\u001b[1;32m    376\u001b[0m   \u001b[0;32mif\u001b[0m \u001b[0;32mnot\u001b[0m \u001b[0moptions\u001b[0m\u001b[0;34m.\u001b[0m\u001b[0muser_requested\u001b[0m \u001b[0;32mand\u001b[0m \u001b[0mconversion\u001b[0m\u001b[0;34m.\u001b[0m\u001b[0mis_allowlisted\u001b[0m\u001b[0;34m(\u001b[0m\u001b[0mf\u001b[0m\u001b[0;34m)\u001b[0m\u001b[0;34m:\u001b[0m\u001b[0;34m\u001b[0m\u001b[0;34m\u001b[0m\u001b[0m\n\u001b[0;32m--> 377\u001b[0;31m     \u001b[0;32mreturn\u001b[0m \u001b[0m_call_unconverted\u001b[0m\u001b[0;34m(\u001b[0m\u001b[0mf\u001b[0m\u001b[0;34m,\u001b[0m \u001b[0margs\u001b[0m\u001b[0;34m,\u001b[0m \u001b[0mkwargs\u001b[0m\u001b[0;34m,\u001b[0m \u001b[0moptions\u001b[0m\u001b[0;34m)\u001b[0m\u001b[0;34m\u001b[0m\u001b[0;34m\u001b[0m\u001b[0m\n\u001b[0m\u001b[1;32m    378\u001b[0m \u001b[0;34m\u001b[0m\u001b[0m\n\u001b[1;32m    379\u001b[0m   \u001b[0;31m# internal_convert_user_code is for example turned off when issuing a dynamic\u001b[0m\u001b[0;34m\u001b[0m\u001b[0;34m\u001b[0m\u001b[0;34m\u001b[0m\u001b[0m\n",
            "\u001b[0;32m/usr/local/lib/python3.8/dist-packages/tensorflow/python/autograph/impl/api.py\u001b[0m in \u001b[0;36m_call_unconverted\u001b[0;34m(f, args, kwargs, options, update_cache)\u001b[0m\n\u001b[1;32m    456\u001b[0m \u001b[0;34m\u001b[0m\u001b[0m\n\u001b[1;32m    457\u001b[0m   \u001b[0;32mif\u001b[0m \u001b[0mkwargs\u001b[0m \u001b[0;32mis\u001b[0m \u001b[0;32mnot\u001b[0m \u001b[0;32mNone\u001b[0m\u001b[0;34m:\u001b[0m\u001b[0;34m\u001b[0m\u001b[0;34m\u001b[0m\u001b[0m\n\u001b[0;32m--> 458\u001b[0;31m     \u001b[0;32mreturn\u001b[0m \u001b[0mf\u001b[0m\u001b[0;34m(\u001b[0m\u001b[0;34m*\u001b[0m\u001b[0margs\u001b[0m\u001b[0;34m,\u001b[0m \u001b[0;34m**\u001b[0m\u001b[0mkwargs\u001b[0m\u001b[0;34m)\u001b[0m\u001b[0;34m\u001b[0m\u001b[0;34m\u001b[0m\u001b[0m\n\u001b[0m\u001b[1;32m    459\u001b[0m   \u001b[0;32mreturn\u001b[0m \u001b[0mf\u001b[0m\u001b[0;34m(\u001b[0m\u001b[0;34m*\u001b[0m\u001b[0margs\u001b[0m\u001b[0;34m)\u001b[0m\u001b[0;34m\u001b[0m\u001b[0;34m\u001b[0m\u001b[0m\n\u001b[1;32m    460\u001b[0m \u001b[0;34m\u001b[0m\u001b[0m\n",
            "\u001b[0;32m/usr/local/lib/python3.8/dist-packages/keras/engine/training.py\u001b[0m in \u001b[0;36mrun_step\u001b[0;34m(data)\u001b[0m\n\u001b[1;32m   1028\u001b[0m \u001b[0;34m\u001b[0m\u001b[0m\n\u001b[1;32m   1029\u001b[0m       \u001b[0;32mdef\u001b[0m \u001b[0mrun_step\u001b[0m\u001b[0;34m(\u001b[0m\u001b[0mdata\u001b[0m\u001b[0;34m)\u001b[0m\u001b[0;34m:\u001b[0m\u001b[0;34m\u001b[0m\u001b[0;34m\u001b[0m\u001b[0m\n\u001b[0;32m-> 1030\u001b[0;31m         \u001b[0moutputs\u001b[0m \u001b[0;34m=\u001b[0m \u001b[0mmodel\u001b[0m\u001b[0;34m.\u001b[0m\u001b[0mtrain_step\u001b[0m\u001b[0;34m(\u001b[0m\u001b[0mdata\u001b[0m\u001b[0;34m)\u001b[0m\u001b[0;34m\u001b[0m\u001b[0;34m\u001b[0m\u001b[0m\n\u001b[0m\u001b[1;32m   1031\u001b[0m         \u001b[0;31m# Ensure counter is updated only if `train_step` succeeds.\u001b[0m\u001b[0;34m\u001b[0m\u001b[0;34m\u001b[0m\u001b[0;34m\u001b[0m\u001b[0m\n\u001b[1;32m   1032\u001b[0m         \u001b[0;32mwith\u001b[0m \u001b[0mtf\u001b[0m\u001b[0;34m.\u001b[0m\u001b[0mcontrol_dependencies\u001b[0m\u001b[0;34m(\u001b[0m\u001b[0m_minimum_control_deps\u001b[0m\u001b[0;34m(\u001b[0m\u001b[0moutputs\u001b[0m\u001b[0;34m)\u001b[0m\u001b[0;34m)\u001b[0m\u001b[0;34m:\u001b[0m\u001b[0;34m\u001b[0m\u001b[0;34m\u001b[0m\u001b[0m\n",
            "\u001b[0;32m/usr/local/lib/python3.8/dist-packages/keras/engine/training.py\u001b[0m in \u001b[0;36mtrain_step\u001b[0;34m(self, data)\u001b[0m\n\u001b[1;32m    891\u001b[0m     \u001b[0mself\u001b[0m\u001b[0;34m.\u001b[0m\u001b[0m_validate_target_and_loss\u001b[0m\u001b[0;34m(\u001b[0m\u001b[0my\u001b[0m\u001b[0;34m,\u001b[0m \u001b[0mloss\u001b[0m\u001b[0;34m)\u001b[0m\u001b[0;34m\u001b[0m\u001b[0;34m\u001b[0m\u001b[0m\n\u001b[1;32m    892\u001b[0m     \u001b[0;31m# Run backwards pass.\u001b[0m\u001b[0;34m\u001b[0m\u001b[0;34m\u001b[0m\u001b[0;34m\u001b[0m\u001b[0m\n\u001b[0;32m--> 893\u001b[0;31m     \u001b[0mself\u001b[0m\u001b[0;34m.\u001b[0m\u001b[0moptimizer\u001b[0m\u001b[0;34m.\u001b[0m\u001b[0mminimize\u001b[0m\u001b[0;34m(\u001b[0m\u001b[0mloss\u001b[0m\u001b[0;34m,\u001b[0m \u001b[0mself\u001b[0m\u001b[0;34m.\u001b[0m\u001b[0mtrainable_variables\u001b[0m\u001b[0;34m,\u001b[0m \u001b[0mtape\u001b[0m\u001b[0;34m=\u001b[0m\u001b[0mtape\u001b[0m\u001b[0;34m)\u001b[0m\u001b[0;34m\u001b[0m\u001b[0;34m\u001b[0m\u001b[0m\n\u001b[0m\u001b[1;32m    894\u001b[0m     \u001b[0;32mreturn\u001b[0m \u001b[0mself\u001b[0m\u001b[0;34m.\u001b[0m\u001b[0mcompute_metrics\u001b[0m\u001b[0;34m(\u001b[0m\u001b[0mx\u001b[0m\u001b[0;34m,\u001b[0m \u001b[0my\u001b[0m\u001b[0;34m,\u001b[0m \u001b[0my_pred\u001b[0m\u001b[0;34m,\u001b[0m \u001b[0msample_weight\u001b[0m\u001b[0;34m)\u001b[0m\u001b[0;34m\u001b[0m\u001b[0;34m\u001b[0m\u001b[0m\n\u001b[1;32m    895\u001b[0m \u001b[0;34m\u001b[0m\u001b[0m\n",
            "\u001b[0;32m/usr/local/lib/python3.8/dist-packages/keras/optimizers/optimizer_v2/optimizer_v2.py\u001b[0m in \u001b[0;36mminimize\u001b[0;34m(self, loss, var_list, grad_loss, name, tape)\u001b[0m\n\u001b[1;32m    535\u001b[0m \u001b[0;34m\u001b[0m\u001b[0m\n\u001b[1;32m    536\u001b[0m     \"\"\"\n\u001b[0;32m--> 537\u001b[0;31m     grads_and_vars = self._compute_gradients(\n\u001b[0m\u001b[1;32m    538\u001b[0m         loss, var_list=var_list, grad_loss=grad_loss, tape=tape)\n\u001b[1;32m    539\u001b[0m     \u001b[0;32mreturn\u001b[0m \u001b[0mself\u001b[0m\u001b[0;34m.\u001b[0m\u001b[0mapply_gradients\u001b[0m\u001b[0;34m(\u001b[0m\u001b[0mgrads_and_vars\u001b[0m\u001b[0;34m,\u001b[0m \u001b[0mname\u001b[0m\u001b[0;34m=\u001b[0m\u001b[0mname\u001b[0m\u001b[0;34m)\u001b[0m\u001b[0;34m\u001b[0m\u001b[0;34m\u001b[0m\u001b[0m\n",
            "\u001b[0;32m/usr/local/lib/python3.8/dist-packages/keras/optimizers/optimizer_v2/optimizer_v2.py\u001b[0m in \u001b[0;36m_compute_gradients\u001b[0;34m(self, loss, var_list, grad_loss, tape)\u001b[0m\n\u001b[1;32m    588\u001b[0m     \u001b[0mvar_list\u001b[0m \u001b[0;34m=\u001b[0m \u001b[0mtf\u001b[0m\u001b[0;34m.\u001b[0m\u001b[0mnest\u001b[0m\u001b[0;34m.\u001b[0m\u001b[0mflatten\u001b[0m\u001b[0;34m(\u001b[0m\u001b[0mvar_list\u001b[0m\u001b[0;34m)\u001b[0m\u001b[0;34m\u001b[0m\u001b[0;34m\u001b[0m\u001b[0m\n\u001b[1;32m    589\u001b[0m     \u001b[0;32mwith\u001b[0m \u001b[0mtf\u001b[0m\u001b[0;34m.\u001b[0m\u001b[0mname_scope\u001b[0m\u001b[0;34m(\u001b[0m\u001b[0mself\u001b[0m\u001b[0;34m.\u001b[0m\u001b[0m_name\u001b[0m \u001b[0;34m+\u001b[0m \u001b[0;34m\"/gradients\"\u001b[0m\u001b[0;34m)\u001b[0m\u001b[0;34m:\u001b[0m\u001b[0;34m\u001b[0m\u001b[0;34m\u001b[0m\u001b[0m\n\u001b[0;32m--> 590\u001b[0;31m       \u001b[0mgrads_and_vars\u001b[0m \u001b[0;34m=\u001b[0m \u001b[0mself\u001b[0m\u001b[0;34m.\u001b[0m\u001b[0m_get_gradients\u001b[0m\u001b[0;34m(\u001b[0m\u001b[0mtape\u001b[0m\u001b[0;34m,\u001b[0m \u001b[0mloss\u001b[0m\u001b[0;34m,\u001b[0m \u001b[0mvar_list\u001b[0m\u001b[0;34m,\u001b[0m \u001b[0mgrad_loss\u001b[0m\u001b[0;34m)\u001b[0m\u001b[0;34m\u001b[0m\u001b[0;34m\u001b[0m\u001b[0m\n\u001b[0m\u001b[1;32m    591\u001b[0m \u001b[0;34m\u001b[0m\u001b[0m\n\u001b[1;32m    592\u001b[0m     self._assert_valid_dtypes([\n",
            "\u001b[0;32m/usr/local/lib/python3.8/dist-packages/keras/optimizers/optimizer_v2/optimizer_v2.py\u001b[0m in \u001b[0;36m_get_gradients\u001b[0;34m(self, tape, loss, var_list, grad_loss)\u001b[0m\n\u001b[1;32m    469\u001b[0m   \u001b[0;32mdef\u001b[0m \u001b[0m_get_gradients\u001b[0m\u001b[0;34m(\u001b[0m\u001b[0mself\u001b[0m\u001b[0;34m,\u001b[0m \u001b[0mtape\u001b[0m\u001b[0;34m,\u001b[0m \u001b[0mloss\u001b[0m\u001b[0;34m,\u001b[0m \u001b[0mvar_list\u001b[0m\u001b[0;34m,\u001b[0m \u001b[0mgrad_loss\u001b[0m\u001b[0;34m=\u001b[0m\u001b[0;32mNone\u001b[0m\u001b[0;34m)\u001b[0m\u001b[0;34m:\u001b[0m\u001b[0;34m\u001b[0m\u001b[0;34m\u001b[0m\u001b[0m\n\u001b[1;32m    470\u001b[0m     \u001b[0;34m\"\"\"Called in `minimize` to compute gradients from loss.\"\"\"\u001b[0m\u001b[0;34m\u001b[0m\u001b[0;34m\u001b[0m\u001b[0m\n\u001b[0;32m--> 471\u001b[0;31m     \u001b[0mgrads\u001b[0m \u001b[0;34m=\u001b[0m \u001b[0mtape\u001b[0m\u001b[0;34m.\u001b[0m\u001b[0mgradient\u001b[0m\u001b[0;34m(\u001b[0m\u001b[0mloss\u001b[0m\u001b[0;34m,\u001b[0m \u001b[0mvar_list\u001b[0m\u001b[0;34m,\u001b[0m \u001b[0mgrad_loss\u001b[0m\u001b[0;34m)\u001b[0m\u001b[0;34m\u001b[0m\u001b[0;34m\u001b[0m\u001b[0m\n\u001b[0m\u001b[1;32m    472\u001b[0m     \u001b[0;32mreturn\u001b[0m \u001b[0mlist\u001b[0m\u001b[0;34m(\u001b[0m\u001b[0mzip\u001b[0m\u001b[0;34m(\u001b[0m\u001b[0mgrads\u001b[0m\u001b[0;34m,\u001b[0m \u001b[0mvar_list\u001b[0m\u001b[0;34m)\u001b[0m\u001b[0;34m)\u001b[0m\u001b[0;34m\u001b[0m\u001b[0;34m\u001b[0m\u001b[0m\n\u001b[1;32m    473\u001b[0m \u001b[0;34m\u001b[0m\u001b[0m\n",
            "\u001b[0;32m/usr/local/lib/python3.8/dist-packages/tensorflow/python/eager/backprop.py\u001b[0m in \u001b[0;36mgradient\u001b[0;34m(self, target, sources, output_gradients, unconnected_gradients)\u001b[0m\n\u001b[1;32m   1098\u001b[0m                           for x in output_gradients]\n\u001b[1;32m   1099\u001b[0m \u001b[0;34m\u001b[0m\u001b[0m\n\u001b[0;32m-> 1100\u001b[0;31m     flat_grad = imperative_grad.imperative_grad(\n\u001b[0m\u001b[1;32m   1101\u001b[0m         \u001b[0mself\u001b[0m\u001b[0;34m.\u001b[0m\u001b[0m_tape\u001b[0m\u001b[0;34m,\u001b[0m\u001b[0;34m\u001b[0m\u001b[0;34m\u001b[0m\u001b[0m\n\u001b[1;32m   1102\u001b[0m         \u001b[0mflat_targets\u001b[0m\u001b[0;34m,\u001b[0m\u001b[0;34m\u001b[0m\u001b[0;34m\u001b[0m\u001b[0m\n",
            "\u001b[0;32m/usr/local/lib/python3.8/dist-packages/tensorflow/python/eager/imperative_grad.py\u001b[0m in \u001b[0;36mimperative_grad\u001b[0;34m(tape, target, sources, output_gradients, sources_raw, unconnected_gradients)\u001b[0m\n\u001b[1;32m     65\u001b[0m         \"Unknown value for unconnected_gradients: %r\" % unconnected_gradients)\n\u001b[1;32m     66\u001b[0m \u001b[0;34m\u001b[0m\u001b[0m\n\u001b[0;32m---> 67\u001b[0;31m   return pywrap_tfe.TFE_Py_TapeGradient(\n\u001b[0m\u001b[1;32m     68\u001b[0m       \u001b[0mtape\u001b[0m\u001b[0;34m.\u001b[0m\u001b[0m_tape\u001b[0m\u001b[0;34m,\u001b[0m  \u001b[0;31m# pylint: disable=protected-access\u001b[0m\u001b[0;34m\u001b[0m\u001b[0;34m\u001b[0m\u001b[0m\n\u001b[1;32m     69\u001b[0m       \u001b[0mtarget\u001b[0m\u001b[0;34m,\u001b[0m\u001b[0;34m\u001b[0m\u001b[0;34m\u001b[0m\u001b[0m\n",
            "\u001b[0;32m/usr/local/lib/python3.8/dist-packages/tensorflow/python/eager/function.py\u001b[0m in \u001b[0;36m_backward_function\u001b[0;34m(*args)\u001b[0m\n\u001b[1;32m    748\u001b[0m     \u001b[0;32mdef\u001b[0m \u001b[0m_backward_function\u001b[0m\u001b[0;34m(\u001b[0m\u001b[0;34m*\u001b[0m\u001b[0margs\u001b[0m\u001b[0;34m)\u001b[0m\u001b[0;34m:\u001b[0m\u001b[0;34m\u001b[0m\u001b[0;34m\u001b[0m\u001b[0m\n\u001b[1;32m    749\u001b[0m       \u001b[0mcall_op\u001b[0m \u001b[0;34m=\u001b[0m \u001b[0moutputs\u001b[0m\u001b[0;34m[\u001b[0m\u001b[0;36m0\u001b[0m\u001b[0;34m]\u001b[0m\u001b[0;34m.\u001b[0m\u001b[0mop\u001b[0m\u001b[0;34m\u001b[0m\u001b[0;34m\u001b[0m\u001b[0m\n\u001b[0;32m--> 750\u001b[0;31m       \u001b[0;32mreturn\u001b[0m \u001b[0mself\u001b[0m\u001b[0;34m.\u001b[0m\u001b[0m_rewrite_forward_and_call_backward\u001b[0m\u001b[0;34m(\u001b[0m\u001b[0mcall_op\u001b[0m\u001b[0;34m,\u001b[0m \u001b[0;34m*\u001b[0m\u001b[0margs\u001b[0m\u001b[0;34m)\u001b[0m\u001b[0;34m\u001b[0m\u001b[0;34m\u001b[0m\u001b[0m\n\u001b[0m\u001b[1;32m    751\u001b[0m     \u001b[0;32mreturn\u001b[0m \u001b[0m_backward_function\u001b[0m\u001b[0;34m,\u001b[0m \u001b[0moutputs\u001b[0m\u001b[0;34m\u001b[0m\u001b[0;34m\u001b[0m\u001b[0m\n\u001b[1;32m    752\u001b[0m \u001b[0;34m\u001b[0m\u001b[0m\n",
            "\u001b[0;32m/usr/local/lib/python3.8/dist-packages/tensorflow/python/eager/function.py\u001b[0m in \u001b[0;36m_rewrite_forward_and_call_backward\u001b[0;34m(self, op, *doutputs)\u001b[0m\n\u001b[1;32m    664\u001b[0m   \u001b[0;32mdef\u001b[0m \u001b[0m_rewrite_forward_and_call_backward\u001b[0m\u001b[0;34m(\u001b[0m\u001b[0mself\u001b[0m\u001b[0;34m,\u001b[0m \u001b[0mop\u001b[0m\u001b[0;34m,\u001b[0m \u001b[0;34m*\u001b[0m\u001b[0mdoutputs\u001b[0m\u001b[0;34m)\u001b[0m\u001b[0;34m:\u001b[0m\u001b[0;34m\u001b[0m\u001b[0;34m\u001b[0m\u001b[0m\n\u001b[1;32m    665\u001b[0m     \u001b[0;34m\"\"\"Add outputs to the forward call and feed them to the grad function.\"\"\"\u001b[0m\u001b[0;34m\u001b[0m\u001b[0;34m\u001b[0m\u001b[0m\n\u001b[0;32m--> 666\u001b[0;31m     \u001b[0mforward_function\u001b[0m\u001b[0;34m,\u001b[0m \u001b[0mbackwards_function\u001b[0m \u001b[0;34m=\u001b[0m \u001b[0mself\u001b[0m\u001b[0;34m.\u001b[0m\u001b[0mforward_backward\u001b[0m\u001b[0;34m(\u001b[0m\u001b[0mlen\u001b[0m\u001b[0;34m(\u001b[0m\u001b[0mdoutputs\u001b[0m\u001b[0;34m)\u001b[0m\u001b[0;34m)\u001b[0m\u001b[0;34m\u001b[0m\u001b[0;34m\u001b[0m\u001b[0m\n\u001b[0m\u001b[1;32m    667\u001b[0m     \u001b[0;32mif\u001b[0m \u001b[0;32mnot\u001b[0m \u001b[0mbackwards_function\u001b[0m\u001b[0;34m.\u001b[0m\u001b[0moutputs\u001b[0m\u001b[0;34m:\u001b[0m\u001b[0;34m\u001b[0m\u001b[0;34m\u001b[0m\u001b[0m\n\u001b[1;32m    668\u001b[0m       \u001b[0;32mreturn\u001b[0m \u001b[0mbackwards_function\u001b[0m\u001b[0;34m.\u001b[0m\u001b[0mstructured_outputs\u001b[0m\u001b[0;34m\u001b[0m\u001b[0;34m\u001b[0m\u001b[0m\n",
            "\u001b[0;32m/usr/local/lib/python3.8/dist-packages/tensorflow/python/eager/function.py\u001b[0m in \u001b[0;36mforward_backward\u001b[0;34m(self, num_doutputs)\u001b[0m\n\u001b[1;32m    597\u001b[0m     \u001b[0;32mif\u001b[0m \u001b[0mforward_backward\u001b[0m \u001b[0;32mis\u001b[0m \u001b[0;32mnot\u001b[0m \u001b[0;32mNone\u001b[0m\u001b[0;34m:\u001b[0m\u001b[0;34m\u001b[0m\u001b[0;34m\u001b[0m\u001b[0m\n\u001b[1;32m    598\u001b[0m       \u001b[0;32mreturn\u001b[0m \u001b[0mforward_backward\u001b[0m\u001b[0;34m\u001b[0m\u001b[0;34m\u001b[0m\u001b[0m\n\u001b[0;32m--> 599\u001b[0;31m     \u001b[0mforward\u001b[0m\u001b[0;34m,\u001b[0m \u001b[0mbackward\u001b[0m \u001b[0;34m=\u001b[0m \u001b[0mself\u001b[0m\u001b[0;34m.\u001b[0m\u001b[0m_construct_forward_backward\u001b[0m\u001b[0;34m(\u001b[0m\u001b[0mnum_doutputs\u001b[0m\u001b[0;34m)\u001b[0m\u001b[0;34m\u001b[0m\u001b[0;34m\u001b[0m\u001b[0m\n\u001b[0m\u001b[1;32m    600\u001b[0m     \u001b[0mself\u001b[0m\u001b[0;34m.\u001b[0m\u001b[0m_cached_function_pairs\u001b[0m\u001b[0;34m[\u001b[0m\u001b[0mnum_doutputs\u001b[0m\u001b[0;34m]\u001b[0m \u001b[0;34m=\u001b[0m \u001b[0;34m(\u001b[0m\u001b[0mforward\u001b[0m\u001b[0;34m,\u001b[0m \u001b[0mbackward\u001b[0m\u001b[0;34m)\u001b[0m\u001b[0;34m\u001b[0m\u001b[0;34m\u001b[0m\u001b[0m\n\u001b[1;32m    601\u001b[0m     \u001b[0;32mreturn\u001b[0m \u001b[0mforward\u001b[0m\u001b[0;34m,\u001b[0m \u001b[0mbackward\u001b[0m\u001b[0;34m\u001b[0m\u001b[0;34m\u001b[0m\u001b[0m\n",
            "\u001b[0;32m/usr/local/lib/python3.8/dist-packages/tensorflow/python/eager/function.py\u001b[0m in \u001b[0;36m_construct_forward_backward\u001b[0;34m(self, num_doutputs)\u001b[0m\n\u001b[1;32m    640\u001b[0m       backwards_graph = func_graph_module.FuncGraph(\n\u001b[1;32m    641\u001b[0m           _backward_name(self._func_graph.name))\n\u001b[0;32m--> 642\u001b[0;31m       func_graph_module.func_graph_from_py_func(\n\u001b[0m\u001b[1;32m    643\u001b[0m           \u001b[0mname\u001b[0m\u001b[0;34m=\u001b[0m\u001b[0mbackwards_graph\u001b[0m\u001b[0;34m.\u001b[0m\u001b[0mname\u001b[0m\u001b[0;34m,\u001b[0m\u001b[0;34m\u001b[0m\u001b[0;34m\u001b[0m\u001b[0m\n\u001b[1;32m    644\u001b[0m           \u001b[0mpython_func\u001b[0m\u001b[0;34m=\u001b[0m\u001b[0m_backprop_function\u001b[0m\u001b[0;34m,\u001b[0m\u001b[0;34m\u001b[0m\u001b[0;34m\u001b[0m\u001b[0m\n",
            "\u001b[0;32m/usr/local/lib/python3.8/dist-packages/tensorflow/python/framework/func_graph.py\u001b[0m in \u001b[0;36mfunc_graph_from_py_func\u001b[0;34m(name, python_func, args, kwargs, signature, func_graph, autograph, autograph_options, add_control_dependencies, arg_names, op_return_value, collections, capture_by_value, acd_record_initial_resource_uses)\u001b[0m\n\u001b[1;32m   1139\u001b[0m         \u001b[0m_\u001b[0m\u001b[0;34m,\u001b[0m \u001b[0moriginal_func\u001b[0m \u001b[0;34m=\u001b[0m \u001b[0mtf_decorator\u001b[0m\u001b[0;34m.\u001b[0m\u001b[0munwrap\u001b[0m\u001b[0;34m(\u001b[0m\u001b[0mpython_func\u001b[0m\u001b[0;34m)\u001b[0m\u001b[0;34m\u001b[0m\u001b[0;34m\u001b[0m\u001b[0m\n\u001b[1;32m   1140\u001b[0m \u001b[0;34m\u001b[0m\u001b[0m\n\u001b[0;32m-> 1141\u001b[0;31m       \u001b[0mfunc_outputs\u001b[0m \u001b[0;34m=\u001b[0m \u001b[0mpython_func\u001b[0m\u001b[0;34m(\u001b[0m\u001b[0;34m*\u001b[0m\u001b[0mfunc_args\u001b[0m\u001b[0;34m,\u001b[0m \u001b[0;34m**\u001b[0m\u001b[0mfunc_kwargs\u001b[0m\u001b[0;34m)\u001b[0m\u001b[0;34m\u001b[0m\u001b[0;34m\u001b[0m\u001b[0m\n\u001b[0m\u001b[1;32m   1142\u001b[0m \u001b[0;34m\u001b[0m\u001b[0m\n\u001b[1;32m   1143\u001b[0m       \u001b[0;31m# invariant: `func_outputs` contains only Tensors, CompositeTensors,\u001b[0m\u001b[0;34m\u001b[0m\u001b[0;34m\u001b[0m\u001b[0;34m\u001b[0m\u001b[0m\n",
            "\u001b[0;32m/usr/local/lib/python3.8/dist-packages/tensorflow/python/eager/function.py\u001b[0m in \u001b[0;36m_backprop_function\u001b[0;34m(*grad_ys)\u001b[0m\n\u001b[1;32m    631\u001b[0m     \u001b[0;32mdef\u001b[0m \u001b[0m_backprop_function\u001b[0m\u001b[0;34m(\u001b[0m\u001b[0;34m*\u001b[0m\u001b[0mgrad_ys\u001b[0m\u001b[0;34m)\u001b[0m\u001b[0;34m:\u001b[0m\u001b[0;34m\u001b[0m\u001b[0;34m\u001b[0m\u001b[0m\n\u001b[1;32m    632\u001b[0m       \u001b[0;32mwith\u001b[0m \u001b[0mops\u001b[0m\u001b[0;34m.\u001b[0m\u001b[0mdevice\u001b[0m\u001b[0;34m(\u001b[0m\u001b[0;32mNone\u001b[0m\u001b[0;34m)\u001b[0m\u001b[0;34m:\u001b[0m\u001b[0;34m\u001b[0m\u001b[0;34m\u001b[0m\u001b[0m\n\u001b[0;32m--> 633\u001b[0;31m         return gradients_util._GradientsHelper(  # pylint: disable=protected-access\n\u001b[0m\u001b[1;32m    634\u001b[0m             \u001b[0mtrainable_outputs\u001b[0m\u001b[0;34m,\u001b[0m\u001b[0;34m\u001b[0m\u001b[0;34m\u001b[0m\u001b[0m\n\u001b[1;32m    635\u001b[0m             \u001b[0mself\u001b[0m\u001b[0;34m.\u001b[0m\u001b[0m_func_graph\u001b[0m\u001b[0;34m.\u001b[0m\u001b[0minputs\u001b[0m\u001b[0;34m,\u001b[0m\u001b[0;34m\u001b[0m\u001b[0;34m\u001b[0m\u001b[0m\n",
            "\u001b[0;32m/usr/local/lib/python3.8/dist-packages/tensorflow/python/ops/gradients_util.py\u001b[0m in \u001b[0;36m_GradientsHelper\u001b[0;34m(ys, xs, grad_ys, name, colocate_gradients_with_ops, gate_gradients, aggregation_method, stop_gradients, unconnected_gradients, src_graph)\u001b[0m\n\u001b[1;32m    693\u001b[0m                 \u001b[0;31m# If grad_fn was found, do not use SymbolicGradient even for\u001b[0m\u001b[0;34m\u001b[0m\u001b[0;34m\u001b[0m\u001b[0;34m\u001b[0m\u001b[0m\n\u001b[1;32m    694\u001b[0m                 \u001b[0;31m# functions.\u001b[0m\u001b[0;34m\u001b[0m\u001b[0;34m\u001b[0m\u001b[0;34m\u001b[0m\u001b[0m\n\u001b[0;32m--> 695\u001b[0;31m                 in_grads = _MaybeCompile(grad_scope, op, func_call,\n\u001b[0m\u001b[1;32m    696\u001b[0m                                          lambda: grad_fn(op, *out_grads))\n\u001b[1;32m    697\u001b[0m               \u001b[0;32melse\u001b[0m\u001b[0;34m:\u001b[0m\u001b[0;34m\u001b[0m\u001b[0;34m\u001b[0m\u001b[0m\n",
            "\u001b[0;32m/usr/local/lib/python3.8/dist-packages/tensorflow/python/ops/gradients_util.py\u001b[0m in \u001b[0;36m_MaybeCompile\u001b[0;34m(scope, op, func, grad_fn)\u001b[0m\n\u001b[1;32m    326\u001b[0m \u001b[0;34m\u001b[0m\u001b[0m\n\u001b[1;32m    327\u001b[0m   \u001b[0;32mif\u001b[0m \u001b[0;32mnot\u001b[0m \u001b[0mxla_compile\u001b[0m\u001b[0;34m:\u001b[0m\u001b[0;34m\u001b[0m\u001b[0;34m\u001b[0m\u001b[0m\n\u001b[0;32m--> 328\u001b[0;31m     \u001b[0;32mreturn\u001b[0m \u001b[0mgrad_fn\u001b[0m\u001b[0;34m(\u001b[0m\u001b[0;34m)\u001b[0m  \u001b[0;31m# Exit early\u001b[0m\u001b[0;34m\u001b[0m\u001b[0;34m\u001b[0m\u001b[0m\n\u001b[0m\u001b[1;32m    329\u001b[0m \u001b[0;34m\u001b[0m\u001b[0m\n\u001b[1;32m    330\u001b[0m   \u001b[0;31m# If the gradients are supposed to be compiled separately, we give them a\u001b[0m\u001b[0;34m\u001b[0m\u001b[0;34m\u001b[0m\u001b[0;34m\u001b[0m\u001b[0m\n",
            "\u001b[0;32m/usr/local/lib/python3.8/dist-packages/tensorflow/python/ops/gradients_util.py\u001b[0m in \u001b[0;36m<lambda>\u001b[0;34m()\u001b[0m\n\u001b[1;32m    694\u001b[0m                 \u001b[0;31m# functions.\u001b[0m\u001b[0;34m\u001b[0m\u001b[0;34m\u001b[0m\u001b[0;34m\u001b[0m\u001b[0m\n\u001b[1;32m    695\u001b[0m                 in_grads = _MaybeCompile(grad_scope, op, func_call,\n\u001b[0;32m--> 696\u001b[0;31m                                          lambda: grad_fn(op, *out_grads))\n\u001b[0m\u001b[1;32m    697\u001b[0m               \u001b[0;32melse\u001b[0m\u001b[0;34m:\u001b[0m\u001b[0;34m\u001b[0m\u001b[0;34m\u001b[0m\u001b[0m\n\u001b[1;32m    698\u001b[0m                 \u001b[0;31m# For function call ops, we add a 'SymbolicGradient'\u001b[0m\u001b[0;34m\u001b[0m\u001b[0;34m\u001b[0m\u001b[0;34m\u001b[0m\u001b[0m\n",
            "\u001b[0;32m/usr/local/lib/python3.8/dist-packages/tensorflow/python/ops/while_v2.py\u001b[0m in \u001b[0;36m_WhileGrad\u001b[0;34m(op, *grads)\u001b[0m\n\u001b[1;32m    382\u001b[0m       body_graph.outputs, body_graph.inputs, grads) if grad is not None])\n\u001b[1;32m    383\u001b[0m \u001b[0;34m\u001b[0m\u001b[0m\n\u001b[0;32m--> 384\u001b[0;31m   body_grad_graph, args = _create_grad_func(\n\u001b[0m\u001b[1;32m    385\u001b[0m       \u001b[0mys\u001b[0m\u001b[0;34m,\u001b[0m \u001b[0mxs\u001b[0m\u001b[0;34m,\u001b[0m \u001b[0mnon_none_grads\u001b[0m\u001b[0;34m,\u001b[0m \u001b[0mcond_graph\u001b[0m\u001b[0;34m,\u001b[0m \u001b[0mbody_graph\u001b[0m\u001b[0;34m,\u001b[0m\u001b[0;34m\u001b[0m\u001b[0;34m\u001b[0m\u001b[0m\n\u001b[1;32m    386\u001b[0m       \u001b[0mutil\u001b[0m\u001b[0;34m.\u001b[0m\u001b[0munique_grad_fn_name\u001b[0m\u001b[0;34m(\u001b[0m\u001b[0mbody_graph\u001b[0m\u001b[0;34m.\u001b[0m\u001b[0mname\u001b[0m\u001b[0;34m)\u001b[0m\u001b[0;34m,\u001b[0m \u001b[0mop\u001b[0m\u001b[0;34m,\u001b[0m \u001b[0mmaximum_iterations\u001b[0m\u001b[0;34m,\u001b[0m\u001b[0;34m\u001b[0m\u001b[0;34m\u001b[0m\u001b[0m\n",
            "\u001b[0;32m/usr/local/lib/python3.8/dist-packages/tensorflow/python/ops/while_v2.py\u001b[0m in \u001b[0;36m_create_grad_func\u001b[0;34m(ys, xs, grads, cond_graph, body_graph, name, while_op, maximum_iterations, stateful_parallelism)\u001b[0m\n\u001b[1;32m    684\u001b[0m   \u001b[0;31m# Note: The returned function does not have `args` in the list of\u001b[0m\u001b[0;34m\u001b[0m\u001b[0;34m\u001b[0m\u001b[0;34m\u001b[0m\u001b[0m\n\u001b[1;32m    685\u001b[0m   \u001b[0;31m# `external_captures`.\u001b[0m\u001b[0;34m\u001b[0m\u001b[0;34m\u001b[0m\u001b[0;34m\u001b[0m\u001b[0m\n\u001b[0;32m--> 686\u001b[0;31m   grad_func_graph = func_graph_module.func_graph_from_py_func(\n\u001b[0m\u001b[1;32m    687\u001b[0m       \u001b[0mname\u001b[0m\u001b[0;34m,\u001b[0m\u001b[0;34m\u001b[0m\u001b[0;34m\u001b[0m\u001b[0m\n\u001b[1;32m    688\u001b[0m       \u001b[0;32mlambda\u001b[0m \u001b[0;34m*\u001b[0m\u001b[0margs\u001b[0m\u001b[0;34m:\u001b[0m \u001b[0m_grad_fn\u001b[0m\u001b[0;34m(\u001b[0m\u001b[0mys\u001b[0m\u001b[0;34m,\u001b[0m \u001b[0mxs\u001b[0m\u001b[0;34m,\u001b[0m \u001b[0margs\u001b[0m\u001b[0;34m,\u001b[0m \u001b[0mbody_graph\u001b[0m\u001b[0;34m)\u001b[0m\u001b[0;34m,\u001b[0m\u001b[0;34m\u001b[0m\u001b[0;34m\u001b[0m\u001b[0m\n",
            "\u001b[0;32m/usr/local/lib/python3.8/dist-packages/tensorflow/python/framework/func_graph.py\u001b[0m in \u001b[0;36mfunc_graph_from_py_func\u001b[0;34m(name, python_func, args, kwargs, signature, func_graph, autograph, autograph_options, add_control_dependencies, arg_names, op_return_value, collections, capture_by_value, acd_record_initial_resource_uses)\u001b[0m\n\u001b[1;32m   1139\u001b[0m         \u001b[0m_\u001b[0m\u001b[0;34m,\u001b[0m \u001b[0moriginal_func\u001b[0m \u001b[0;34m=\u001b[0m \u001b[0mtf_decorator\u001b[0m\u001b[0;34m.\u001b[0m\u001b[0munwrap\u001b[0m\u001b[0;34m(\u001b[0m\u001b[0mpython_func\u001b[0m\u001b[0;34m)\u001b[0m\u001b[0;34m\u001b[0m\u001b[0;34m\u001b[0m\u001b[0m\n\u001b[1;32m   1140\u001b[0m \u001b[0;34m\u001b[0m\u001b[0m\n\u001b[0;32m-> 1141\u001b[0;31m       \u001b[0mfunc_outputs\u001b[0m \u001b[0;34m=\u001b[0m \u001b[0mpython_func\u001b[0m\u001b[0;34m(\u001b[0m\u001b[0;34m*\u001b[0m\u001b[0mfunc_args\u001b[0m\u001b[0;34m,\u001b[0m \u001b[0;34m**\u001b[0m\u001b[0mfunc_kwargs\u001b[0m\u001b[0;34m)\u001b[0m\u001b[0;34m\u001b[0m\u001b[0;34m\u001b[0m\u001b[0m\n\u001b[0m\u001b[1;32m   1142\u001b[0m \u001b[0;34m\u001b[0m\u001b[0m\n\u001b[1;32m   1143\u001b[0m       \u001b[0;31m# invariant: `func_outputs` contains only Tensors, CompositeTensors,\u001b[0m\u001b[0;34m\u001b[0m\u001b[0;34m\u001b[0m\u001b[0;34m\u001b[0m\u001b[0m\n",
            "\u001b[0;32m/usr/local/lib/python3.8/dist-packages/tensorflow/python/ops/while_v2.py\u001b[0m in \u001b[0;36m<lambda>\u001b[0;34m(*args)\u001b[0m\n\u001b[1;32m    686\u001b[0m   grad_func_graph = func_graph_module.func_graph_from_py_func(\n\u001b[1;32m    687\u001b[0m       \u001b[0mname\u001b[0m\u001b[0;34m,\u001b[0m\u001b[0;34m\u001b[0m\u001b[0;34m\u001b[0m\u001b[0m\n\u001b[0;32m--> 688\u001b[0;31m       \u001b[0;32mlambda\u001b[0m \u001b[0;34m*\u001b[0m\u001b[0margs\u001b[0m\u001b[0;34m:\u001b[0m \u001b[0m_grad_fn\u001b[0m\u001b[0;34m(\u001b[0m\u001b[0mys\u001b[0m\u001b[0;34m,\u001b[0m \u001b[0mxs\u001b[0m\u001b[0;34m,\u001b[0m \u001b[0margs\u001b[0m\u001b[0;34m,\u001b[0m \u001b[0mbody_graph\u001b[0m\u001b[0;34m)\u001b[0m\u001b[0;34m,\u001b[0m\u001b[0;34m\u001b[0m\u001b[0;34m\u001b[0m\u001b[0m\n\u001b[0m\u001b[1;32m    689\u001b[0m       \u001b[0margs\u001b[0m\u001b[0;34m,\u001b[0m \u001b[0;34m{\u001b[0m\u001b[0;34m}\u001b[0m\u001b[0;34m,\u001b[0m\u001b[0;34m\u001b[0m\u001b[0;34m\u001b[0m\u001b[0m\n\u001b[1;32m    690\u001b[0m       func_graph=_WhileBodyGradFuncGraph(name, cond_graph, body_graph,\n",
            "\u001b[0;32m/usr/local/lib/python3.8/dist-packages/tensorflow/python/ops/while_v2.py\u001b[0m in \u001b[0;36m_grad_fn\u001b[0;34m(ys, xs, args, func_graph)\u001b[0m\n\u001b[1;32m    742\u001b[0m   \u001b[0;31m# after the forward While op has been rewritten in _resolve_grad_captures.\u001b[0m\u001b[0;34m\u001b[0m\u001b[0;34m\u001b[0m\u001b[0;34m\u001b[0m\u001b[0m\n\u001b[1;32m    743\u001b[0m   \u001b[0;31m# TODO(srbs): Mark GradientsHelper as public?\u001b[0m\u001b[0;34m\u001b[0m\u001b[0;34m\u001b[0m\u001b[0;34m\u001b[0m\u001b[0m\n\u001b[0;32m--> 744\u001b[0;31m   grad_outs = gradients_util._GradientsHelper(\n\u001b[0m\u001b[1;32m    745\u001b[0m       \u001b[0mys\u001b[0m\u001b[0;34m,\u001b[0m \u001b[0mxs\u001b[0m\u001b[0;34m,\u001b[0m \u001b[0mgrad_ys\u001b[0m\u001b[0;34m=\u001b[0m\u001b[0mgrad_ys\u001b[0m\u001b[0;34m,\u001b[0m \u001b[0msrc_graph\u001b[0m\u001b[0;34m=\u001b[0m\u001b[0mfunc_graph\u001b[0m\u001b[0;34m,\u001b[0m\u001b[0;34m\u001b[0m\u001b[0;34m\u001b[0m\u001b[0m\n\u001b[1;32m    746\u001b[0m       unconnected_gradients=\"zero\")\n",
            "\u001b[0;32m/usr/local/lib/python3.8/dist-packages/tensorflow/python/ops/gradients_util.py\u001b[0m in \u001b[0;36m_GradientsHelper\u001b[0;34m(ys, xs, grad_ys, name, colocate_gradients_with_ops, gate_gradients, aggregation_method, stop_gradients, unconnected_gradients, src_graph)\u001b[0m\n\u001b[1;32m    693\u001b[0m                 \u001b[0;31m# If grad_fn was found, do not use SymbolicGradient even for\u001b[0m\u001b[0;34m\u001b[0m\u001b[0;34m\u001b[0m\u001b[0;34m\u001b[0m\u001b[0m\n\u001b[1;32m    694\u001b[0m                 \u001b[0;31m# functions.\u001b[0m\u001b[0;34m\u001b[0m\u001b[0;34m\u001b[0m\u001b[0;34m\u001b[0m\u001b[0m\n\u001b[0;32m--> 695\u001b[0;31m                 in_grads = _MaybeCompile(grad_scope, op, func_call,\n\u001b[0m\u001b[1;32m    696\u001b[0m                                          lambda: grad_fn(op, *out_grads))\n\u001b[1;32m    697\u001b[0m               \u001b[0;32melse\u001b[0m\u001b[0;34m:\u001b[0m\u001b[0;34m\u001b[0m\u001b[0;34m\u001b[0m\u001b[0m\n",
            "\u001b[0;32m/usr/local/lib/python3.8/dist-packages/tensorflow/python/ops/gradients_util.py\u001b[0m in \u001b[0;36m_MaybeCompile\u001b[0;34m(scope, op, func, grad_fn)\u001b[0m\n\u001b[1;32m    326\u001b[0m \u001b[0;34m\u001b[0m\u001b[0m\n\u001b[1;32m    327\u001b[0m   \u001b[0;32mif\u001b[0m \u001b[0;32mnot\u001b[0m \u001b[0mxla_compile\u001b[0m\u001b[0;34m:\u001b[0m\u001b[0;34m\u001b[0m\u001b[0;34m\u001b[0m\u001b[0m\n\u001b[0;32m--> 328\u001b[0;31m     \u001b[0;32mreturn\u001b[0m \u001b[0mgrad_fn\u001b[0m\u001b[0;34m(\u001b[0m\u001b[0;34m)\u001b[0m  \u001b[0;31m# Exit early\u001b[0m\u001b[0;34m\u001b[0m\u001b[0;34m\u001b[0m\u001b[0m\n\u001b[0m\u001b[1;32m    329\u001b[0m \u001b[0;34m\u001b[0m\u001b[0m\n\u001b[1;32m    330\u001b[0m   \u001b[0;31m# If the gradients are supposed to be compiled separately, we give them a\u001b[0m\u001b[0;34m\u001b[0m\u001b[0;34m\u001b[0m\u001b[0;34m\u001b[0m\u001b[0m\n",
            "\u001b[0;32m/usr/local/lib/python3.8/dist-packages/tensorflow/python/ops/gradients_util.py\u001b[0m in \u001b[0;36m<lambda>\u001b[0;34m()\u001b[0m\n\u001b[1;32m    694\u001b[0m                 \u001b[0;31m# functions.\u001b[0m\u001b[0;34m\u001b[0m\u001b[0;34m\u001b[0m\u001b[0;34m\u001b[0m\u001b[0m\n\u001b[1;32m    695\u001b[0m                 in_grads = _MaybeCompile(grad_scope, op, func_call,\n\u001b[0;32m--> 696\u001b[0;31m                                          lambda: grad_fn(op, *out_grads))\n\u001b[0m\u001b[1;32m    697\u001b[0m               \u001b[0;32melse\u001b[0m\u001b[0;34m:\u001b[0m\u001b[0;34m\u001b[0m\u001b[0;34m\u001b[0m\u001b[0m\n\u001b[1;32m    698\u001b[0m                 \u001b[0;31m# For function call ops, we add a 'SymbolicGradient'\u001b[0m\u001b[0;34m\u001b[0m\u001b[0;34m\u001b[0m\u001b[0;34m\u001b[0m\u001b[0m\n",
            "\u001b[0;32m/usr/local/lib/python3.8/dist-packages/tensorflow/python/ops/math_grad.py\u001b[0m in \u001b[0;36m_MulGrad\u001b[0;34m(op, grad)\u001b[0m\n\u001b[1;32m   1371\u001b[0m \u001b[0;34m\u001b[0m\u001b[0m\n\u001b[1;32m   1372\u001b[0m   (sx, rx, must_reduce_x), (sy, ry, must_reduce_y) = (\n\u001b[0;32m-> 1373\u001b[0;31m       SmartBroadcastGradientArgs(x, y, grad))\n\u001b[0m\u001b[1;32m   1374\u001b[0m   \u001b[0mx\u001b[0m \u001b[0;34m=\u001b[0m \u001b[0mmath_ops\u001b[0m\u001b[0;34m.\u001b[0m\u001b[0mconj\u001b[0m\u001b[0;34m(\u001b[0m\u001b[0mx\u001b[0m\u001b[0;34m)\u001b[0m\u001b[0;34m\u001b[0m\u001b[0;34m\u001b[0m\u001b[0m\n\u001b[1;32m   1375\u001b[0m   \u001b[0my\u001b[0m \u001b[0;34m=\u001b[0m \u001b[0mmath_ops\u001b[0m\u001b[0;34m.\u001b[0m\u001b[0mconj\u001b[0m\u001b[0;34m(\u001b[0m\u001b[0my\u001b[0m\u001b[0;34m)\u001b[0m\u001b[0;34m\u001b[0m\u001b[0;34m\u001b[0m\u001b[0m\n",
            "\u001b[0;32m/usr/local/lib/python3.8/dist-packages/tensorflow/python/ops/math_grad.py\u001b[0m in \u001b[0;36mSmartBroadcastGradientArgs\u001b[0;34m(x, y, grad)\u001b[0m\n\u001b[1;32m    104\u001b[0m     \u001b[0msx\u001b[0m \u001b[0;34m=\u001b[0m \u001b[0marray_ops\u001b[0m\u001b[0;34m.\u001b[0m\u001b[0mshape_internal\u001b[0m\u001b[0;34m(\u001b[0m\u001b[0mx\u001b[0m\u001b[0;34m,\u001b[0m \u001b[0moptimize\u001b[0m\u001b[0;34m=\u001b[0m\u001b[0;32mFalse\u001b[0m\u001b[0;34m)\u001b[0m\u001b[0;34m\u001b[0m\u001b[0;34m\u001b[0m\u001b[0m\n\u001b[1;32m    105\u001b[0m     \u001b[0msy\u001b[0m \u001b[0;34m=\u001b[0m \u001b[0marray_ops\u001b[0m\u001b[0;34m.\u001b[0m\u001b[0mshape_internal\u001b[0m\u001b[0;34m(\u001b[0m\u001b[0my\u001b[0m\u001b[0;34m,\u001b[0m \u001b[0moptimize\u001b[0m\u001b[0;34m=\u001b[0m\u001b[0;32mFalse\u001b[0m\u001b[0;34m)\u001b[0m\u001b[0;34m\u001b[0m\u001b[0;34m\u001b[0m\u001b[0m\n\u001b[0;32m--> 106\u001b[0;31m     \u001b[0mrx\u001b[0m\u001b[0;34m,\u001b[0m \u001b[0mry\u001b[0m \u001b[0;34m=\u001b[0m \u001b[0mgen_array_ops\u001b[0m\u001b[0;34m.\u001b[0m\u001b[0mbroadcast_gradient_args\u001b[0m\u001b[0;34m(\u001b[0m\u001b[0msx\u001b[0m\u001b[0;34m,\u001b[0m \u001b[0msy\u001b[0m\u001b[0;34m)\u001b[0m\u001b[0;34m\u001b[0m\u001b[0;34m\u001b[0m\u001b[0m\n\u001b[0m\u001b[1;32m    107\u001b[0m     \u001b[0;32mreturn\u001b[0m \u001b[0;34m(\u001b[0m\u001b[0msx\u001b[0m\u001b[0;34m,\u001b[0m \u001b[0mrx\u001b[0m\u001b[0;34m,\u001b[0m \u001b[0;32mTrue\u001b[0m\u001b[0;34m)\u001b[0m\u001b[0;34m,\u001b[0m \u001b[0;34m(\u001b[0m\u001b[0msy\u001b[0m\u001b[0;34m,\u001b[0m \u001b[0mry\u001b[0m\u001b[0;34m,\u001b[0m \u001b[0;32mTrue\u001b[0m\u001b[0;34m)\u001b[0m\u001b[0;34m\u001b[0m\u001b[0;34m\u001b[0m\u001b[0m\n\u001b[1;32m    108\u001b[0m \u001b[0;34m\u001b[0m\u001b[0m\n",
            "\u001b[0;32m/usr/local/lib/python3.8/dist-packages/tensorflow/python/ops/gen_array_ops.py\u001b[0m in \u001b[0;36mbroadcast_gradient_args\u001b[0;34m(s0, s1, name)\u001b[0m\n\u001b[1;32m    769\u001b[0m       \u001b[0;32mpass\u001b[0m  \u001b[0;31m# Add nodes to the TensorFlow graph.\u001b[0m\u001b[0;34m\u001b[0m\u001b[0;34m\u001b[0m\u001b[0m\n\u001b[1;32m    770\u001b[0m   \u001b[0;31m# Add nodes to the TensorFlow graph.\u001b[0m\u001b[0;34m\u001b[0m\u001b[0;34m\u001b[0m\u001b[0;34m\u001b[0m\u001b[0m\n\u001b[0;32m--> 771\u001b[0;31m   _, _, _op, _outputs = _op_def_library._apply_op_helper(\n\u001b[0m\u001b[1;32m    772\u001b[0m         \"BroadcastGradientArgs\", s0=s0, s1=s1, name=name)\n\u001b[1;32m    773\u001b[0m   \u001b[0m_result\u001b[0m \u001b[0;34m=\u001b[0m \u001b[0m_outputs\u001b[0m\u001b[0;34m[\u001b[0m\u001b[0;34m:\u001b[0m\u001b[0;34m]\u001b[0m\u001b[0;34m\u001b[0m\u001b[0;34m\u001b[0m\u001b[0m\n",
            "\u001b[0;32m/usr/local/lib/python3.8/dist-packages/tensorflow/python/framework/op_def_library.py\u001b[0m in \u001b[0;36m_apply_op_helper\u001b[0;34m(op_type_name, name, **keywords)\u001b[0m\n\u001b[1;32m    795\u001b[0m       \u001b[0;31m# Add Op to graph\u001b[0m\u001b[0;34m\u001b[0m\u001b[0;34m\u001b[0m\u001b[0;34m\u001b[0m\u001b[0m\n\u001b[1;32m    796\u001b[0m       \u001b[0;31m# pylint: disable=protected-access\u001b[0m\u001b[0;34m\u001b[0m\u001b[0;34m\u001b[0m\u001b[0;34m\u001b[0m\u001b[0m\n\u001b[0;32m--> 797\u001b[0;31m       op = g._create_op_internal(op_type_name, inputs, dtypes=None,\n\u001b[0m\u001b[1;32m    798\u001b[0m                                  \u001b[0mname\u001b[0m\u001b[0;34m=\u001b[0m\u001b[0mscope\u001b[0m\u001b[0;34m,\u001b[0m \u001b[0minput_types\u001b[0m\u001b[0;34m=\u001b[0m\u001b[0minput_types\u001b[0m\u001b[0;34m,\u001b[0m\u001b[0;34m\u001b[0m\u001b[0;34m\u001b[0m\u001b[0m\n\u001b[1;32m    799\u001b[0m                                  attrs=attr_protos, op_def=op_def)\n",
            "\u001b[0;32m/usr/local/lib/python3.8/dist-packages/tensorflow/python/ops/while_v2.py\u001b[0m in \u001b[0;36m_create_op_internal\u001b[0;34m(self, op_type, inputs, dtypes, input_types, name, attrs, op_def, compute_device)\u001b[0m\n\u001b[1;32m   1033\u001b[0m           compute_device=compute_device)\n\u001b[1;32m   1034\u001b[0m \u001b[0;34m\u001b[0m\u001b[0m\n\u001b[0;32m-> 1035\u001b[0;31m     return super(_WhileBodyGradFuncGraph, self)._create_op_internal(\n\u001b[0m\u001b[1;32m   1036\u001b[0m         \u001b[0mop_type\u001b[0m\u001b[0;34m,\u001b[0m\u001b[0;34m\u001b[0m\u001b[0;34m\u001b[0m\u001b[0m\n\u001b[1;32m   1037\u001b[0m         \u001b[0minputs\u001b[0m\u001b[0;34m,\u001b[0m\u001b[0;34m\u001b[0m\u001b[0;34m\u001b[0m\u001b[0m\n",
            "\u001b[0;32m/usr/local/lib/python3.8/dist-packages/tensorflow/python/framework/func_graph.py\u001b[0m in \u001b[0;36m_create_op_internal\u001b[0;34m(self, op_type, inputs, dtypes, input_types, name, attrs, op_def, compute_device)\u001b[0m\n\u001b[1;32m    690\u001b[0m       \u001b[0;32mif\u001b[0m \u001b[0mctxt\u001b[0m \u001b[0;32mis\u001b[0m \u001b[0;32mnot\u001b[0m \u001b[0;32mNone\u001b[0m \u001b[0;32mand\u001b[0m \u001b[0mhasattr\u001b[0m\u001b[0;34m(\u001b[0m\u001b[0mctxt\u001b[0m\u001b[0;34m,\u001b[0m \u001b[0;34m\"AddValue\"\u001b[0m\u001b[0;34m)\u001b[0m\u001b[0;34m:\u001b[0m\u001b[0;34m\u001b[0m\u001b[0;34m\u001b[0m\u001b[0m\n\u001b[1;32m    691\u001b[0m         \u001b[0minp\u001b[0m \u001b[0;34m=\u001b[0m \u001b[0mctxt\u001b[0m\u001b[0;34m.\u001b[0m\u001b[0mAddValue\u001b[0m\u001b[0;34m(\u001b[0m\u001b[0minp\u001b[0m\u001b[0;34m)\u001b[0m\u001b[0;34m\u001b[0m\u001b[0;34m\u001b[0m\u001b[0m\n\u001b[0;32m--> 692\u001b[0;31m       \u001b[0minp\u001b[0m \u001b[0;34m=\u001b[0m \u001b[0mself\u001b[0m\u001b[0;34m.\u001b[0m\u001b[0mcapture\u001b[0m\u001b[0;34m(\u001b[0m\u001b[0minp\u001b[0m\u001b[0;34m)\u001b[0m\u001b[0;34m\u001b[0m\u001b[0;34m\u001b[0m\u001b[0m\n\u001b[0m\u001b[1;32m    693\u001b[0m       \u001b[0mcaptured_inputs\u001b[0m\u001b[0;34m.\u001b[0m\u001b[0mappend\u001b[0m\u001b[0;34m(\u001b[0m\u001b[0minp\u001b[0m\u001b[0;34m)\u001b[0m\u001b[0;34m\u001b[0m\u001b[0;34m\u001b[0m\u001b[0m\n\u001b[1;32m    694\u001b[0m     return super(FuncGraph, self)._create_op_internal(  # pylint: disable=protected-access\n",
            "\u001b[0;32m/usr/local/lib/python3.8/dist-packages/tensorflow/python/framework/func_graph.py\u001b[0m in \u001b[0;36mcapture\u001b[0;34m(self, tensor, name, shape)\u001b[0m\n\u001b[1;32m    757\u001b[0m               f\"it was defined in {tensor.graph}, which is out of scope.\")\n\u001b[1;32m    758\u001b[0m         \u001b[0minner_graph\u001b[0m \u001b[0;34m=\u001b[0m \u001b[0minner_graph\u001b[0m\u001b[0;34m.\u001b[0m\u001b[0mouter_graph\u001b[0m\u001b[0;34m\u001b[0m\u001b[0;34m\u001b[0m\u001b[0m\n\u001b[0;32m--> 759\u001b[0;31m       \u001b[0;32mreturn\u001b[0m \u001b[0mself\u001b[0m\u001b[0;34m.\u001b[0m\u001b[0m_capture_helper\u001b[0m\u001b[0;34m(\u001b[0m\u001b[0mtensor\u001b[0m\u001b[0;34m,\u001b[0m \u001b[0mname\u001b[0m\u001b[0;34m)\u001b[0m\u001b[0;34m\u001b[0m\u001b[0;34m\u001b[0m\u001b[0m\n\u001b[0m\u001b[1;32m    760\u001b[0m     \u001b[0;32mreturn\u001b[0m \u001b[0mtensor\u001b[0m\u001b[0;34m\u001b[0m\u001b[0;34m\u001b[0m\u001b[0m\n\u001b[1;32m    761\u001b[0m \u001b[0;34m\u001b[0m\u001b[0m\n",
            "\u001b[0;32m/usr/local/lib/python3.8/dist-packages/tensorflow/python/ops/while_v2.py\u001b[0m in \u001b[0;36m_capture_helper\u001b[0;34m(self, tensor, name)\u001b[0m\n\u001b[1;32m   1223\u001b[0m \u001b[0;34m\u001b[0m\u001b[0m\n\u001b[1;32m   1224\u001b[0m     \u001b[0;31m# Pop the intermediate value from the tensor list in the gradient graph.\u001b[0m\u001b[0;34m\u001b[0m\u001b[0;34m\u001b[0m\u001b[0;34m\u001b[0m\u001b[0m\n\u001b[0;32m-> 1225\u001b[0;31m     new_tensor_list, captured_tensor = list_ops.tensor_list_pop_back(\n\u001b[0m\u001b[1;32m   1226\u001b[0m         captured_accumulator, element_dtype=tensor.dtype)\n\u001b[1;32m   1227\u001b[0m \u001b[0;34m\u001b[0m\u001b[0m\n",
            "\u001b[0;32m/usr/local/lib/python3.8/dist-packages/tensorflow/python/ops/list_ops.py\u001b[0m in \u001b[0;36mtensor_list_pop_back\u001b[0;34m(input_handle, element_dtype, name)\u001b[0m\n\u001b[1;32m    112\u001b[0m \u001b[0;34m\u001b[0m\u001b[0m\n\u001b[1;32m    113\u001b[0m \u001b[0;32mdef\u001b[0m \u001b[0mtensor_list_pop_back\u001b[0m\u001b[0;34m(\u001b[0m\u001b[0minput_handle\u001b[0m\u001b[0;34m,\u001b[0m \u001b[0melement_dtype\u001b[0m\u001b[0;34m,\u001b[0m \u001b[0mname\u001b[0m\u001b[0;34m=\u001b[0m\u001b[0;32mNone\u001b[0m\u001b[0;34m)\u001b[0m\u001b[0;34m:\u001b[0m\u001b[0;34m\u001b[0m\u001b[0;34m\u001b[0m\u001b[0m\n\u001b[0;32m--> 114\u001b[0;31m   return gen_list_ops.tensor_list_pop_back(\n\u001b[0m\u001b[1;32m    115\u001b[0m       \u001b[0minput_handle\u001b[0m\u001b[0;34m=\u001b[0m\u001b[0minput_handle\u001b[0m\u001b[0;34m,\u001b[0m\u001b[0;34m\u001b[0m\u001b[0;34m\u001b[0m\u001b[0m\n\u001b[1;32m    116\u001b[0m       \u001b[0melement_shape\u001b[0m\u001b[0;34m=\u001b[0m\u001b[0;34m-\u001b[0m\u001b[0;36m1\u001b[0m\u001b[0;34m,\u001b[0m\u001b[0;34m\u001b[0m\u001b[0;34m\u001b[0m\u001b[0m\n",
            "\u001b[0;32m/usr/local/lib/python3.8/dist-packages/tensorflow/python/ops/gen_list_ops.py\u001b[0m in \u001b[0;36mtensor_list_pop_back\u001b[0;34m(input_handle, element_shape, element_dtype, name)\u001b[0m\n\u001b[1;32m    696\u001b[0m   \u001b[0;31m# Add nodes to the TensorFlow graph.\u001b[0m\u001b[0;34m\u001b[0m\u001b[0;34m\u001b[0m\u001b[0;34m\u001b[0m\u001b[0m\n\u001b[1;32m    697\u001b[0m   \u001b[0melement_dtype\u001b[0m \u001b[0;34m=\u001b[0m \u001b[0m_execute\u001b[0m\u001b[0;34m.\u001b[0m\u001b[0mmake_type\u001b[0m\u001b[0;34m(\u001b[0m\u001b[0melement_dtype\u001b[0m\u001b[0;34m,\u001b[0m \u001b[0;34m\"element_dtype\"\u001b[0m\u001b[0;34m)\u001b[0m\u001b[0;34m\u001b[0m\u001b[0;34m\u001b[0m\u001b[0m\n\u001b[0;32m--> 698\u001b[0;31m   _, _, _op, _outputs = _op_def_library._apply_op_helper(\n\u001b[0m\u001b[1;32m    699\u001b[0m         \u001b[0;34m\"TensorListPopBack\"\u001b[0m\u001b[0;34m,\u001b[0m \u001b[0minput_handle\u001b[0m\u001b[0;34m=\u001b[0m\u001b[0minput_handle\u001b[0m\u001b[0;34m,\u001b[0m\u001b[0;34m\u001b[0m\u001b[0;34m\u001b[0m\u001b[0m\n\u001b[1;32m    700\u001b[0m                              \u001b[0melement_shape\u001b[0m\u001b[0;34m=\u001b[0m\u001b[0melement_shape\u001b[0m\u001b[0;34m,\u001b[0m\u001b[0;34m\u001b[0m\u001b[0;34m\u001b[0m\u001b[0m\n",
            "\u001b[0;32m/usr/local/lib/python3.8/dist-packages/tensorflow/python/framework/op_def_library.py\u001b[0m in \u001b[0;36m_apply_op_helper\u001b[0;34m(op_type_name, name, **keywords)\u001b[0m\n\u001b[1;32m    777\u001b[0m   \u001b[0;32mwith\u001b[0m \u001b[0mg\u001b[0m\u001b[0;34m.\u001b[0m\u001b[0mas_default\u001b[0m\u001b[0;34m(\u001b[0m\u001b[0;34m)\u001b[0m\u001b[0;34m,\u001b[0m \u001b[0mops\u001b[0m\u001b[0;34m.\u001b[0m\u001b[0mname_scope\u001b[0m\u001b[0;34m(\u001b[0m\u001b[0mname\u001b[0m\u001b[0;34m)\u001b[0m \u001b[0;32mas\u001b[0m \u001b[0mscope\u001b[0m\u001b[0;34m:\u001b[0m\u001b[0;34m\u001b[0m\u001b[0;34m\u001b[0m\u001b[0m\n\u001b[1;32m    778\u001b[0m     \u001b[0;32mif\u001b[0m \u001b[0mfallback\u001b[0m\u001b[0;34m:\u001b[0m\u001b[0;34m\u001b[0m\u001b[0;34m\u001b[0m\u001b[0m\n\u001b[0;32m--> 779\u001b[0;31m       _ExtractInputsAndAttrs(op_type_name, op_def, allowed_list_attr_map,\n\u001b[0m\u001b[1;32m    780\u001b[0m                              \u001b[0mkeywords\u001b[0m\u001b[0;34m,\u001b[0m \u001b[0mdefault_type_attr_map\u001b[0m\u001b[0;34m,\u001b[0m \u001b[0mattrs\u001b[0m\u001b[0;34m,\u001b[0m \u001b[0minputs\u001b[0m\u001b[0;34m,\u001b[0m\u001b[0;34m\u001b[0m\u001b[0;34m\u001b[0m\u001b[0m\n\u001b[1;32m    781\u001b[0m                              input_types)\n",
            "\u001b[0;32m/usr/local/lib/python3.8/dist-packages/tensorflow/python/framework/op_def_library.py\u001b[0m in \u001b[0;36m_ExtractInputsAndAttrs\u001b[0;34m(op_type_name, op_def, allowed_list_attr_map, keywords, default_type_attr_map, attrs, inputs, input_types)\u001b[0m\n\u001b[1;32m    550\u001b[0m                 preferred_dtype=default_dtype)\n\u001b[1;32m    551\u001b[0m         \u001b[0;32melse\u001b[0m\u001b[0;34m:\u001b[0m\u001b[0;34m\u001b[0m\u001b[0;34m\u001b[0m\u001b[0m\n\u001b[0;32m--> 552\u001b[0;31m           values = ops.convert_to_tensor(\n\u001b[0m\u001b[1;32m    553\u001b[0m               \u001b[0mvalues\u001b[0m\u001b[0;34m,\u001b[0m\u001b[0;34m\u001b[0m\u001b[0;34m\u001b[0m\u001b[0m\n\u001b[1;32m    554\u001b[0m               \u001b[0mname\u001b[0m\u001b[0;34m=\u001b[0m\u001b[0minput_arg\u001b[0m\u001b[0;34m.\u001b[0m\u001b[0mname\u001b[0m\u001b[0;34m,\u001b[0m\u001b[0;34m\u001b[0m\u001b[0;34m\u001b[0m\u001b[0m\n",
            "\u001b[0;32m/usr/local/lib/python3.8/dist-packages/tensorflow/python/profiler/trace.py\u001b[0m in \u001b[0;36mwrapped\u001b[0;34m(*args, **kwargs)\u001b[0m\n\u001b[1;32m    181\u001b[0m         \u001b[0;32mwith\u001b[0m \u001b[0mTrace\u001b[0m\u001b[0;34m(\u001b[0m\u001b[0mtrace_name\u001b[0m\u001b[0;34m,\u001b[0m \u001b[0;34m**\u001b[0m\u001b[0mtrace_kwargs\u001b[0m\u001b[0;34m)\u001b[0m\u001b[0;34m:\u001b[0m\u001b[0;34m\u001b[0m\u001b[0;34m\u001b[0m\u001b[0m\n\u001b[1;32m    182\u001b[0m           \u001b[0;32mreturn\u001b[0m \u001b[0mfunc\u001b[0m\u001b[0;34m(\u001b[0m\u001b[0;34m*\u001b[0m\u001b[0margs\u001b[0m\u001b[0;34m,\u001b[0m \u001b[0;34m**\u001b[0m\u001b[0mkwargs\u001b[0m\u001b[0;34m)\u001b[0m\u001b[0;34m\u001b[0m\u001b[0;34m\u001b[0m\u001b[0m\n\u001b[0;32m--> 183\u001b[0;31m       \u001b[0;32mreturn\u001b[0m \u001b[0mfunc\u001b[0m\u001b[0;34m(\u001b[0m\u001b[0;34m*\u001b[0m\u001b[0margs\u001b[0m\u001b[0;34m,\u001b[0m \u001b[0;34m**\u001b[0m\u001b[0mkwargs\u001b[0m\u001b[0;34m)\u001b[0m\u001b[0;34m\u001b[0m\u001b[0;34m\u001b[0m\u001b[0m\n\u001b[0m\u001b[1;32m    184\u001b[0m \u001b[0;34m\u001b[0m\u001b[0m\n\u001b[1;32m    185\u001b[0m     \u001b[0;32mreturn\u001b[0m \u001b[0mwrapped\u001b[0m\u001b[0;34m\u001b[0m\u001b[0;34m\u001b[0m\u001b[0m\n",
            "\u001b[0;32m/usr/local/lib/python3.8/dist-packages/tensorflow/python/framework/ops.py\u001b[0m in \u001b[0;36mconvert_to_tensor\u001b[0;34m(value, dtype, name, as_ref, preferred_dtype, dtype_hint, ctx, accepted_result_types)\u001b[0m\n\u001b[1;32m   1638\u001b[0m \u001b[0;34m\u001b[0m\u001b[0m\n\u001b[1;32m   1639\u001b[0m     \u001b[0;32mif\u001b[0m \u001b[0mret\u001b[0m \u001b[0;32mis\u001b[0m \u001b[0;32mNone\u001b[0m\u001b[0;34m:\u001b[0m\u001b[0;34m\u001b[0m\u001b[0;34m\u001b[0m\u001b[0m\n\u001b[0;32m-> 1640\u001b[0;31m       \u001b[0mret\u001b[0m \u001b[0;34m=\u001b[0m \u001b[0mconversion_func\u001b[0m\u001b[0;34m(\u001b[0m\u001b[0mvalue\u001b[0m\u001b[0;34m,\u001b[0m \u001b[0mdtype\u001b[0m\u001b[0;34m=\u001b[0m\u001b[0mdtype\u001b[0m\u001b[0;34m,\u001b[0m \u001b[0mname\u001b[0m\u001b[0;34m=\u001b[0m\u001b[0mname\u001b[0m\u001b[0;34m,\u001b[0m \u001b[0mas_ref\u001b[0m\u001b[0;34m=\u001b[0m\u001b[0mas_ref\u001b[0m\u001b[0;34m)\u001b[0m\u001b[0;34m\u001b[0m\u001b[0;34m\u001b[0m\u001b[0m\n\u001b[0m\u001b[1;32m   1641\u001b[0m \u001b[0;34m\u001b[0m\u001b[0m\n\u001b[1;32m   1642\u001b[0m     \u001b[0;32mif\u001b[0m \u001b[0mret\u001b[0m \u001b[0;32mis\u001b[0m \u001b[0mNotImplemented\u001b[0m\u001b[0;34m:\u001b[0m\u001b[0;34m\u001b[0m\u001b[0;34m\u001b[0m\u001b[0m\n",
            "\u001b[0;32m/usr/local/lib/python3.8/dist-packages/tensorflow/python/framework/tensor_conversion_registry.py\u001b[0m in \u001b[0;36m_default_conversion_function\u001b[0;34m(***failed resolving arguments***)\u001b[0m\n\u001b[1;32m     46\u001b[0m \u001b[0;32mdef\u001b[0m \u001b[0m_default_conversion_function\u001b[0m\u001b[0;34m(\u001b[0m\u001b[0mvalue\u001b[0m\u001b[0;34m,\u001b[0m \u001b[0mdtype\u001b[0m\u001b[0;34m,\u001b[0m \u001b[0mname\u001b[0m\u001b[0;34m,\u001b[0m \u001b[0mas_ref\u001b[0m\u001b[0;34m)\u001b[0m\u001b[0;34m:\u001b[0m\u001b[0;34m\u001b[0m\u001b[0;34m\u001b[0m\u001b[0m\n\u001b[1;32m     47\u001b[0m   \u001b[0;32mdel\u001b[0m \u001b[0mas_ref\u001b[0m  \u001b[0;31m# Unused.\u001b[0m\u001b[0;34m\u001b[0m\u001b[0;34m\u001b[0m\u001b[0m\n\u001b[0;32m---> 48\u001b[0;31m   \u001b[0;32mreturn\u001b[0m \u001b[0mconstant_op\u001b[0m\u001b[0;34m.\u001b[0m\u001b[0mconstant\u001b[0m\u001b[0;34m(\u001b[0m\u001b[0mvalue\u001b[0m\u001b[0;34m,\u001b[0m \u001b[0mdtype\u001b[0m\u001b[0;34m,\u001b[0m \u001b[0mname\u001b[0m\u001b[0;34m=\u001b[0m\u001b[0mname\u001b[0m\u001b[0;34m)\u001b[0m\u001b[0;34m\u001b[0m\u001b[0;34m\u001b[0m\u001b[0m\n\u001b[0m\u001b[1;32m     49\u001b[0m \u001b[0;34m\u001b[0m\u001b[0m\n\u001b[1;32m     50\u001b[0m \u001b[0;34m\u001b[0m\u001b[0m\n",
            "\u001b[0;32m/usr/local/lib/python3.8/dist-packages/tensorflow/python/framework/constant_op.py\u001b[0m in \u001b[0;36mconstant\u001b[0;34m(value, dtype, shape, name)\u001b[0m\n\u001b[1;32m    265\u001b[0m     \u001b[0mValueError\u001b[0m\u001b[0;34m:\u001b[0m \u001b[0;32mif\u001b[0m \u001b[0mcalled\u001b[0m \u001b[0mon\u001b[0m \u001b[0ma\u001b[0m \u001b[0msymbolic\u001b[0m \u001b[0mtensor\u001b[0m\u001b[0;34m.\u001b[0m\u001b[0;34m\u001b[0m\u001b[0;34m\u001b[0m\u001b[0m\n\u001b[1;32m    266\u001b[0m   \"\"\"\n\u001b[0;32m--> 267\u001b[0;31m   return _constant_impl(value, dtype, shape, name, verify_shape=False,\n\u001b[0m\u001b[1;32m    268\u001b[0m                         allow_broadcast=True)\n\u001b[1;32m    269\u001b[0m \u001b[0;34m\u001b[0m\u001b[0m\n",
            "\u001b[0;32m/usr/local/lib/python3.8/dist-packages/tensorflow/python/framework/constant_op.py\u001b[0m in \u001b[0;36m_constant_impl\u001b[0;34m(value, dtype, shape, name, verify_shape, allow_broadcast)\u001b[0m\n\u001b[1;32m    287\u001b[0m   \u001b[0mdtype_value\u001b[0m \u001b[0;34m=\u001b[0m \u001b[0mattr_value_pb2\u001b[0m\u001b[0;34m.\u001b[0m\u001b[0mAttrValue\u001b[0m\u001b[0;34m(\u001b[0m\u001b[0mtype\u001b[0m\u001b[0;34m=\u001b[0m\u001b[0mtensor_value\u001b[0m\u001b[0;34m.\u001b[0m\u001b[0mtensor\u001b[0m\u001b[0;34m.\u001b[0m\u001b[0mdtype\u001b[0m\u001b[0;34m)\u001b[0m\u001b[0;34m\u001b[0m\u001b[0;34m\u001b[0m\u001b[0m\n\u001b[1;32m    288\u001b[0m   \u001b[0mattrs\u001b[0m \u001b[0;34m=\u001b[0m \u001b[0;34m{\u001b[0m\u001b[0;34m\"value\"\u001b[0m\u001b[0;34m:\u001b[0m \u001b[0mtensor_value\u001b[0m\u001b[0;34m,\u001b[0m \u001b[0;34m\"dtype\"\u001b[0m\u001b[0;34m:\u001b[0m \u001b[0mdtype_value\u001b[0m\u001b[0;34m}\u001b[0m\u001b[0;34m\u001b[0m\u001b[0;34m\u001b[0m\u001b[0m\n\u001b[0;32m--> 289\u001b[0;31m   const_tensor = g._create_op_internal(  # pylint: disable=protected-access\n\u001b[0m\u001b[1;32m    290\u001b[0m       \"Const\", [], [dtype_value.type], attrs=attrs, name=name).outputs[0]\n\u001b[1;32m    291\u001b[0m \u001b[0;34m\u001b[0m\u001b[0m\n",
            "\u001b[0;32m/usr/local/lib/python3.8/dist-packages/tensorflow/python/ops/while_v2.py\u001b[0m in \u001b[0;36m_create_op_internal\u001b[0;34m(self, op_type, inputs, dtypes, input_types, name, attrs, op_def, compute_device)\u001b[0m\n\u001b[1;32m   1033\u001b[0m           compute_device=compute_device)\n\u001b[1;32m   1034\u001b[0m \u001b[0;34m\u001b[0m\u001b[0m\n\u001b[0;32m-> 1035\u001b[0;31m     return super(_WhileBodyGradFuncGraph, self)._create_op_internal(\n\u001b[0m\u001b[1;32m   1036\u001b[0m         \u001b[0mop_type\u001b[0m\u001b[0;34m,\u001b[0m\u001b[0;34m\u001b[0m\u001b[0;34m\u001b[0m\u001b[0m\n\u001b[1;32m   1037\u001b[0m         \u001b[0minputs\u001b[0m\u001b[0;34m,\u001b[0m\u001b[0;34m\u001b[0m\u001b[0;34m\u001b[0m\u001b[0m\n",
            "\u001b[0;32m/usr/local/lib/python3.8/dist-packages/tensorflow/python/framework/func_graph.py\u001b[0m in \u001b[0;36m_create_op_internal\u001b[0;34m(self, op_type, inputs, dtypes, input_types, name, attrs, op_def, compute_device)\u001b[0m\n\u001b[1;32m    692\u001b[0m       \u001b[0minp\u001b[0m \u001b[0;34m=\u001b[0m \u001b[0mself\u001b[0m\u001b[0;34m.\u001b[0m\u001b[0mcapture\u001b[0m\u001b[0;34m(\u001b[0m\u001b[0minp\u001b[0m\u001b[0;34m)\u001b[0m\u001b[0;34m\u001b[0m\u001b[0;34m\u001b[0m\u001b[0m\n\u001b[1;32m    693\u001b[0m       \u001b[0mcaptured_inputs\u001b[0m\u001b[0;34m.\u001b[0m\u001b[0mappend\u001b[0m\u001b[0;34m(\u001b[0m\u001b[0minp\u001b[0m\u001b[0;34m)\u001b[0m\u001b[0;34m\u001b[0m\u001b[0;34m\u001b[0m\u001b[0m\n\u001b[0;32m--> 694\u001b[0;31m     return super(FuncGraph, self)._create_op_internal(  # pylint: disable=protected-access\n\u001b[0m\u001b[1;32m    695\u001b[0m         \u001b[0mop_type\u001b[0m\u001b[0;34m,\u001b[0m \u001b[0mcaptured_inputs\u001b[0m\u001b[0;34m,\u001b[0m \u001b[0mdtypes\u001b[0m\u001b[0;34m,\u001b[0m \u001b[0minput_types\u001b[0m\u001b[0;34m,\u001b[0m \u001b[0mname\u001b[0m\u001b[0;34m,\u001b[0m \u001b[0mattrs\u001b[0m\u001b[0;34m,\u001b[0m \u001b[0mop_def\u001b[0m\u001b[0;34m,\u001b[0m\u001b[0;34m\u001b[0m\u001b[0;34m\u001b[0m\u001b[0m\n\u001b[1;32m    696\u001b[0m         compute_device)\n",
            "\u001b[0;32m/usr/local/lib/python3.8/dist-packages/tensorflow/python/framework/ops.py\u001b[0m in \u001b[0;36m_create_op_internal\u001b[0;34m(self, op_type, inputs, dtypes, input_types, name, attrs, op_def, compute_device)\u001b[0m\n\u001b[1;32m   3761\u001b[0m           \u001b[0moriginal_op\u001b[0m\u001b[0;34m=\u001b[0m\u001b[0mself\u001b[0m\u001b[0;34m.\u001b[0m\u001b[0m_default_original_op\u001b[0m\u001b[0;34m,\u001b[0m\u001b[0;34m\u001b[0m\u001b[0;34m\u001b[0m\u001b[0m\n\u001b[1;32m   3762\u001b[0m           op_def=op_def)\n\u001b[0;32m-> 3763\u001b[0;31m       \u001b[0mself\u001b[0m\u001b[0;34m.\u001b[0m\u001b[0m_create_op_helper\u001b[0m\u001b[0;34m(\u001b[0m\u001b[0mret\u001b[0m\u001b[0;34m,\u001b[0m \u001b[0mcompute_device\u001b[0m\u001b[0;34m=\u001b[0m\u001b[0mcompute_device\u001b[0m\u001b[0;34m)\u001b[0m\u001b[0;34m\u001b[0m\u001b[0;34m\u001b[0m\u001b[0m\n\u001b[0m\u001b[1;32m   3764\u001b[0m     \u001b[0;32mreturn\u001b[0m \u001b[0mret\u001b[0m\u001b[0;34m\u001b[0m\u001b[0;34m\u001b[0m\u001b[0m\n\u001b[1;32m   3765\u001b[0m \u001b[0;34m\u001b[0m\u001b[0m\n",
            "\u001b[0;32m/usr/local/lib/python3.8/dist-packages/tensorflow/python/framework/ops.py\u001b[0m in \u001b[0;36m_create_op_helper\u001b[0;34m(self, op, compute_device)\u001b[0m\n\u001b[1;32m   3836\u001b[0m \u001b[0;34m\u001b[0m\u001b[0m\n\u001b[1;32m   3837\u001b[0m     \u001b[0;32mif\u001b[0m \u001b[0mcompute_device\u001b[0m\u001b[0;34m:\u001b[0m\u001b[0;34m\u001b[0m\u001b[0;34m\u001b[0m\u001b[0m\n\u001b[0;32m-> 3838\u001b[0;31m       \u001b[0mself\u001b[0m\u001b[0;34m.\u001b[0m\u001b[0m_apply_device_functions\u001b[0m\u001b[0;34m(\u001b[0m\u001b[0mop\u001b[0m\u001b[0;34m)\u001b[0m\u001b[0;34m\u001b[0m\u001b[0;34m\u001b[0m\u001b[0m\n\u001b[0m\u001b[1;32m   3839\u001b[0m \u001b[0;34m\u001b[0m\u001b[0m\n\u001b[1;32m   3840\u001b[0m     \u001b[0;31m# Snapshot the colocation stack metadata before we might generate error\u001b[0m\u001b[0;34m\u001b[0m\u001b[0;34m\u001b[0m\u001b[0;34m\u001b[0m\u001b[0m\n",
            "\u001b[0;32m/usr/local/lib/python3.8/dist-packages/tensorflow/python/framework/ops.py\u001b[0m in \u001b[0;36m_apply_device_functions\u001b[0;34m(self, op)\u001b[0m\n\u001b[1;32m   4744\u001b[0m     \u001b[0;31m# pylint: disable=protected-access\u001b[0m\u001b[0;34m\u001b[0m\u001b[0;34m\u001b[0m\u001b[0;34m\u001b[0m\u001b[0m\n\u001b[1;32m   4745\u001b[0m     \u001b[0mprior_device_string\u001b[0m \u001b[0;34m=\u001b[0m \u001b[0;32mNone\u001b[0m\u001b[0;34m\u001b[0m\u001b[0;34m\u001b[0m\u001b[0m\n\u001b[0;32m-> 4746\u001b[0;31m     \u001b[0;32mfor\u001b[0m \u001b[0mdevice_spec\u001b[0m \u001b[0;32min\u001b[0m \u001b[0mself\u001b[0m\u001b[0;34m.\u001b[0m\u001b[0m_device_function_stack\u001b[0m\u001b[0;34m.\u001b[0m\u001b[0mpeek_objs\u001b[0m\u001b[0;34m(\u001b[0m\u001b[0;34m)\u001b[0m\u001b[0;34m:\u001b[0m\u001b[0;34m\u001b[0m\u001b[0;34m\u001b[0m\u001b[0m\n\u001b[0m\u001b[1;32m   4747\u001b[0m       \u001b[0;32mif\u001b[0m \u001b[0mdevice_spec\u001b[0m\u001b[0;34m.\u001b[0m\u001b[0mis_null_merge\u001b[0m\u001b[0;34m:\u001b[0m\u001b[0;34m\u001b[0m\u001b[0;34m\u001b[0m\u001b[0m\n\u001b[1;32m   4748\u001b[0m         \u001b[0;32mcontinue\u001b[0m\u001b[0;34m\u001b[0m\u001b[0;34m\u001b[0m\u001b[0m\n",
            "\u001b[0;32m/usr/local/lib/python3.8/dist-packages/tensorflow/python/framework/ops.py\u001b[0m in \u001b[0;36m_device_function_stack\u001b[0;34m(self)\u001b[0m\n\u001b[1;32m   5298\u001b[0m       \u001b[0mself\u001b[0m\u001b[0;34m.\u001b[0m\u001b[0m_stack_state_is_thread_local\u001b[0m \u001b[0;34m=\u001b[0m \u001b[0;32mTrue\u001b[0m\u001b[0;34m\u001b[0m\u001b[0;34m\u001b[0m\u001b[0m\n\u001b[1;32m   5299\u001b[0m \u001b[0;34m\u001b[0m\u001b[0m\n\u001b[0;32m-> 5300\u001b[0;31m   \u001b[0;34m@\u001b[0m\u001b[0mproperty\u001b[0m\u001b[0;34m\u001b[0m\u001b[0;34m\u001b[0m\u001b[0m\n\u001b[0m\u001b[1;32m   5301\u001b[0m   \u001b[0;32mdef\u001b[0m \u001b[0m_device_function_stack\u001b[0m\u001b[0;34m(\u001b[0m\u001b[0mself\u001b[0m\u001b[0;34m)\u001b[0m\u001b[0;34m:\u001b[0m\u001b[0;34m\u001b[0m\u001b[0;34m\u001b[0m\u001b[0m\n\u001b[1;32m   5302\u001b[0m     \u001b[0;32mif\u001b[0m \u001b[0mself\u001b[0m\u001b[0;34m.\u001b[0m\u001b[0m_stack_state_is_thread_local\u001b[0m\u001b[0;34m:\u001b[0m\u001b[0;34m\u001b[0m\u001b[0;34m\u001b[0m\u001b[0m\n",
            "\u001b[0;31mKeyboardInterrupt\u001b[0m: "
          ]
        }
      ]
    },
    {
      "cell_type": "markdown",
      "metadata": {
        "id": "bI6HISQ9mzrT"
      },
      "source": [
        "### Model 4: Bidirectional LSMT + two Dense layer variant tuning"
      ]
    },
    {
      "cell_type": "code",
      "source": [
        "# tune the hyperparameters of the fourth model\n",
        "tuner_bilstm_two_dense = kt.Hyperband(build_bilstm_two_dense_model,\n",
        "                     objective=kt.Objective(\"val_f1_with_tfa\", direction=\"max\"),\n",
        "                     max_epochs=epochs_tuning,\n",
        "                     #overwrite=True,\n",
        "                     directory=\"tuner\",\n",
        "                     project_name=\"tuner_bilstm_two_dense\")\n",
        "tuner_bilstm_two_dense.search(X_train, Y_train, epochs=epochs_tuning, batch_size=batch_size_tuning, validation_data=(X_val, Y_val))\n",
        "best_hps_bilstm_two_dense = tuner_bilstm_two_dense.get_best_hyperparameters()[0]\n",
        "\n",
        "print(f\"The hyperparameter search is complete.\\n\" \n",
        "      f\"The optimal number of units in the LSTM layer is {best_hps_bilstm_two_dense.get('units1')}.\\n\" \n",
        "      f\"The optimal rate for the first Dropout layer is {best_hps_bilstm_two_dense.get('dropout1')}.\\n\" \n",
        "      f\"The optimal number of units in first densely-connected layer is {best_hps_bilstm_two_dense.get('units2')}.\\n\" \n",
        "      f\"The optimal rate for the second Dropout layer is {best_hps_bilstm_two_dense.get('dropout2')}.\\n\"\n",
        "      f\"The optimal learning rate for the optimizer is {best_hps_bilstm_two_dense.get('learning_rate')}.\")"
      ],
      "metadata": {
        "id": "-BjmEYYtfrv5"
      },
      "execution_count": null,
      "outputs": []
    },
    {
      "cell_type": "code",
      "source": [
        "\"\"\"\n",
        "tuner_bilstm = kt.Hyperband(BiLSTM,\n",
        "                     objective=kt.Objective(\"val_accuracy\", direction=\"max\"),\n",
        "                     max_epochs=epochs_tuning,\n",
        "                     #overwrite=True,\n",
        "                     directory=\"tuner\",\n",
        "                     project_name=\"tuner_bilstm\")\n",
        "tuner_bilstm1.search(X_train, Y_train, epochs=epochs_tuning, batch_size=batch_size_tuning, validation_data=(X_val, Y_val))\n",
        "best_hps_bilstm = tuner_bilstm1.get_best_hyperparameters()[0]\n",
        "\n",
        "print(f\"The hyperparameter search is complete.\\n\" \n",
        "      f\"The optimal number of units in the LSTM layer is {best_hps_bilstm.get('units')}.\\n\" \n",
        "      f\"The optimal rate for Dropout layer is {best_hps_bilstm.get('dropout')}.\\n\" \n",
        "      f\"The optimal learning rate for the optimizer is {best_hps_bilstm.get('learning_rate')}.\")\n",
        "\"\"\""
      ],
      "metadata": {
        "id": "f5N3rsVcqk7U"
      },
      "execution_count": null,
      "outputs": []
    },
    {
      "cell_type": "code",
      "execution_count": null,
      "metadata": {
        "id": "3PNC4eyQXhvQ"
      },
      "outputs": [],
      "source": [
        "epochs_training = 100\n",
        "batch_size_training = 64\n",
        "callbacks_training = [keras.callbacks.EarlyStopping(monitor='val_f1_with_tfa', patience=10, mode=\"max\", restore_best_weights=True)]"
      ]
    },
    {
      "cell_type": "code",
      "execution_count": null,
      "metadata": {
        "id": "aLfaNyopXt3j"
      },
      "outputs": [],
      "source": [
        "def create_model(layers_info, compile_info):\n",
        "    \"\"\"\n",
        "    Create a Keras model given a list of layer information\n",
        "\n",
        "    Parameters\n",
        "    ----------\n",
        "    layers_info : a list of dictionaries, one for each layer\n",
        "    compile_info : dictionary containing compile information\n",
        "\n",
        "    Returns\n",
        "    -------\n",
        "    model: the built keras sequential model\n",
        "    \"\"\"\n",
        "\n",
        "    model = keras.Sequential()\n",
        "    for info in layers_info:\n",
        "        layer = info['layer_name'](**{key: value for key, value in info.items() if key != 'layer_name'})\n",
        "        model.add(layer)\n",
        "\n",
        "    # Compile\n",
        "    model.compile(**compile_info)\n",
        "\n",
        "    return model"
      ]
    },
    {
      "cell_type": "code",
      "execution_count": null,
      "metadata": {
        "id": "60FMp38-vvyf"
      },
      "outputs": [],
      "source": [
        "# first model    \n",
        "layers_info_bilstm = [\n",
        "    {\n",
        "        \"layer_name\": layers.Masking,\n",
        "        \"name\": \"padding_masking\",\n",
        "        \"mask_value\": 0.,\n",
        "        \"input_shape\": X_train.shape[1:]\n",
        "    },\n",
        "    {\n",
        "        'layer_name': layers.Bidirectional,\n",
        "        \"layer\": layers.LSTM(best_hps_bilstm.get('units'), return_sequences=True, kernel_regularizer=keras.regularizers.l2(0.01)), # units = 256\n",
        "        \"name\": \"bilstm_1\",\n",
        "    },\n",
        "    {\n",
        "        \"layer_name\": layers.Dropout,\n",
        "        \"rate\": best_hps_bilstm.get('dropout'), # dropout = 0.1\n",
        "        \"name\": \"dropout\"\n",
        "    },\n",
        "    {\n",
        "        \"layer_name\": layers.Dense,\n",
        "        \"units\": n_classes,\n",
        "        \"activation\": \"softmax\",\n",
        "        \"name\": \"dense_1\"\n",
        "    }\n",
        "]\n",
        "\n",
        "compile_info_bilstm = {\n",
        "    'optimizer': keras.optimizers.Adam(learning_rate=best_hps_bilstm.get('learning_rate')), # learning_rate = 0.01\n",
        "    'loss': 'categorical_crossentropy',\n",
        "    'metrics' : ['categorical_accuracy', f1_with_tfa]   \n",
        "}\n",
        "\n",
        "model_bilstm = create_model(layers_info_bilstm, compile_info_bilstm)\n",
        "model_bilstm.summary()\n",
        "\n",
        "# start training\n",
        "history_bilstm = model_bilstm.fit(X_train, Y_train, epochs=epochs_training, batch_size=batch_size_training, validation_data=(X_val, Y_val), callbacks=callbacks_training)"
      ]
    },
    {
      "cell_type": "code",
      "source": [
        "# second model    \n",
        "layers_info_bigru = [\n",
        "    {\n",
        "        \"layer_name\": layers.Masking,\n",
        "        \"name\": \"padding_masking\",\n",
        "        \"mask_value\": 0.,\n",
        "        \"input_shape\": X_train.shape[1:]\n",
        "    },\n",
        "    {\n",
        "        'layer_name': layers.Bidirectional,\n",
        "        \"layer\": layers.GRU(best_hps_bigru.get('units'), return_sequences=True, kernel_regularizer=keras.regularizers.l2(0.01)),  # units = 256\n",
        "        \"name\": \"bigru_1\",\n",
        "    },\n",
        "    {\n",
        "        \"layer_name\": layers.Dropout,\n",
        "        \"rate\": best_hps_bigru.get('dropout'), # dropout = 0.4\n",
        "        \"name\": \"dropout_1\"\n",
        "    },\n",
        "    {\n",
        "        \"layer_name\": layers.Dense,\n",
        "        \"units\": n_classes,\n",
        "        \"activation\": \"softmax\",\n",
        "        \"name\": \"dense_1\"\n",
        "    }\n",
        "]\n",
        "\n",
        "compile_info_bigru = {\n",
        "    'optimizer': keras.optimizers.Adam(learning_rate=best_hps_bigru.get('learning_rate')), # learning_rate = 0.01\n",
        "    'loss': 'categorical_crossentropy',\n",
        "    'metrics' : ['categorical_accuracy', f1_with_tfa]\n",
        "}\n",
        "\n",
        "model_bigru = create_model(layers_info_bigru, compile_info_bigru)\n",
        "model_bigru.summary()\n",
        "\n",
        "# start training\n",
        "history_bigru = model_bigru.fit(X_train, Y_train, epochs=epochs_training, batch_size=batch_size_training, validation_data=(X_val, Y_val),callbacks=callbacks_training)  "
      ],
      "metadata": {
        "id": "GV7DZ5QqgSnO",
        "colab": {
          "base_uri": "https://localhost:8080/",
          "height": 356
        },
        "outputId": "d13c9191-b6a3-4253-997e-8fb9a306d0f5"
      },
      "execution_count": null,
      "outputs": [
        {
          "output_type": "error",
          "ename": "ValueError",
          "evalue": "ignored",
          "traceback": [
            "\u001b[0;31m---------------------------------------------------------------------------\u001b[0m",
            "\u001b[0;31mValueError\u001b[0m                                Traceback (most recent call last)",
            "\u001b[0;32m<ipython-input-37-1bf723bd2ed2>\u001b[0m in \u001b[0;36m<module>\u001b[0;34m\u001b[0m\n\u001b[1;32m     18\u001b[0m     },\n\u001b[1;32m     19\u001b[0m     {\n\u001b[0;32m---> 20\u001b[0;31m         \u001b[0;34m\"layer_name\"\u001b[0m\u001b[0;34m:\u001b[0m \u001b[0mlayers\u001b[0m\u001b[0;34m.\u001b[0m\u001b[0mTimeDistributed\u001b[0m\u001b[0;34m(\u001b[0m\u001b[0mlayers\u001b[0m\u001b[0;34m.\u001b[0m\u001b[0mDense\u001b[0m\u001b[0;34m)\u001b[0m\u001b[0;34m,\u001b[0m\u001b[0;34m\u001b[0m\u001b[0;34m\u001b[0m\u001b[0m\n\u001b[0m\u001b[1;32m     21\u001b[0m         \u001b[0;34m\"units\"\u001b[0m\u001b[0;34m:\u001b[0m \u001b[0mn_classes\u001b[0m\u001b[0;34m,\u001b[0m\u001b[0;34m\u001b[0m\u001b[0;34m\u001b[0m\u001b[0m\n\u001b[1;32m     22\u001b[0m         \u001b[0;34m\"activation\"\u001b[0m\u001b[0;34m:\u001b[0m \u001b[0;34m\"softmax\"\u001b[0m\u001b[0;34m,\u001b[0m\u001b[0;34m\u001b[0m\u001b[0;34m\u001b[0m\u001b[0m\n",
            "\u001b[0;32m/usr/local/lib/python3.8/dist-packages/keras/layers/rnn/time_distributed.py\u001b[0m in \u001b[0;36m__init__\u001b[0;34m(self, layer, **kwargs)\u001b[0m\n\u001b[1;32m     70\u001b[0m   \u001b[0;32mdef\u001b[0m \u001b[0m__init__\u001b[0m\u001b[0;34m(\u001b[0m\u001b[0mself\u001b[0m\u001b[0;34m,\u001b[0m \u001b[0mlayer\u001b[0m\u001b[0;34m,\u001b[0m \u001b[0;34m**\u001b[0m\u001b[0mkwargs\u001b[0m\u001b[0;34m)\u001b[0m\u001b[0;34m:\u001b[0m\u001b[0;34m\u001b[0m\u001b[0;34m\u001b[0m\u001b[0m\n\u001b[1;32m     71\u001b[0m     \u001b[0;32mif\u001b[0m \u001b[0;32mnot\u001b[0m \u001b[0misinstance\u001b[0m\u001b[0;34m(\u001b[0m\u001b[0mlayer\u001b[0m\u001b[0;34m,\u001b[0m \u001b[0mLayer\u001b[0m\u001b[0;34m)\u001b[0m\u001b[0;34m:\u001b[0m\u001b[0;34m\u001b[0m\u001b[0;34m\u001b[0m\u001b[0m\n\u001b[0;32m---> 72\u001b[0;31m       raise ValueError(\n\u001b[0m\u001b[1;32m     73\u001b[0m           \u001b[0;34m'Please initialize `TimeDistributed` layer with a '\u001b[0m\u001b[0;34m\u001b[0m\u001b[0;34m\u001b[0m\u001b[0m\n\u001b[1;32m     74\u001b[0m           f'`tf.keras.layers.Layer` instance. Received: {layer}')\n",
            "\u001b[0;31mValueError\u001b[0m: Please initialize `TimeDistributed` layer with a `tf.keras.layers.Layer` instance. Received: <class 'keras.layers.core.dense.Dense'>"
          ]
        }
      ]
    },
    {
      "cell_type": "code",
      "source": [
        "# third model    \n",
        "layers_info_two_bilstm = [\n",
        "    {\n",
        "        \"layer_name\": layers.Masking,\n",
        "        \"name\": \"padding_masking\",\n",
        "        \"mask_value\": 0.,\n",
        "        \"input_shape\": X_train.shape[1:]\n",
        "    },\n",
        "    {\n",
        "        'layer_name': layers.Bidirectional,\n",
        "        \"layer\": layers.LSTM(best_hps_two_bilstm.get('units1'), return_sequences=True, kernel_regularizer=keras.regularizers.l2(0.01)), # units = 128\n",
        "        \"name\": \"bilstm_1\",\n",
        "    },\n",
        "    {\n",
        "        'layer_name': layers.Bidirectional,\n",
        "        \"layer\": layers.LSTM(best_hps_two_bilstm.get('units2'), return_sequences=True, kernel_regularizer=keras.regularizers.l2(0.01)), # units = 256\n",
        "        \"name\": \"bilstm_2\",\n",
        "    },\n",
        "    {\n",
        "        \"layer_name\": layers.Dropout,\n",
        "        \"rate\": best_hps_two_bilstm.get('dropout'), # dropout = 0.5\n",
        "        \"name\": \"dropout_1\"\n",
        "    },\n",
        "    {\n",
        "        \"layer_name\": layers.Dense,\n",
        "        \"units\": n_classes,\n",
        "        \"activation\": \"softmax\",\n",
        "        \"name\": \"dense_1\"\n",
        "    }\n",
        "]\n",
        "\n",
        "compile_info_two_bilstm = {\n",
        "    'optimizer': keras.optimizers.Adam(learning_rate=best_hps_two_bilstm.get('learning_rate')), # learning rate = 0.001\n",
        "    'loss': 'categorical_crossentropy',\n",
        "    'metrics' : ['categorical_accuracy', f1_with_tfa]\n",
        "}\n",
        "\n",
        "model_two_bilstm = create_model(layers_info_two_bilstm, compile_info_two_bilstm)\n",
        "model_two_bilstm.summary()\n",
        "\n",
        "# start training\n",
        "history_two_bilstm = model_two_bilstm.fit(X_train, Y_train, epochs=epochs_training, batch_size=batch_size_training, validation_data=(X_val, Y_val),callbacks=callbacks_training)  "
      ],
      "metadata": {
        "id": "D3robeDZvq6T"
      },
      "execution_count": null,
      "outputs": []
    },
    {
      "cell_type": "code",
      "source": [
        "# fourth model    \n",
        "layers_info_bilstm_two_dense = [\n",
        "    {\n",
        "        \"layer_name\": layers.Masking,\n",
        "        \"name\": \"padding_masking\",\n",
        "        \"mask_value\": 0.,\n",
        "        \"input_shape\": X_train.shape[1:]\n",
        "    },\n",
        "    {\n",
        "        'layer_name': layers.Bidirectional,\n",
        "        \"layer\": layers.LSTM(64, return_sequences=True, kernel_regularizer=keras.regularizers.l2(0.01)), # units = 64\n",
        "        \"name\": \"bilstm_1\",\n",
        "    },\n",
        "    {\n",
        "        \"layer_name\": layers.Dropout,\n",
        "        \"rate\": 0.1, # dropout = 0.1\n",
        "        \"name\": \"dropout_1\"\n",
        "    },\n",
        "    {\n",
        "        \"layer_name\": layers.Dense,\n",
        "        \"units\": 256,  # units = 256\n",
        "        \"activation\": \"relu\",\n",
        "        \"kernel_regularizer\": keras.regularizers.l2(0.01),\n",
        "        \"name\": \"dense_1\"\n",
        "    },\n",
        "    {\n",
        "        \"layer_name\": layers.Dropout,\n",
        "        \"rate\": 0.1,  # dropout = 0.1\n",
        "        \"name\": \"dropout_2\"\n",
        "    },\n",
        "    {\n",
        "        \"layer_name\": layers.Dense,\n",
        "        \"units\": n_classes,\n",
        "        \"activation\": \"softmax\",\n",
        "        \"name\": \"dense_2\"\n",
        "    }\n",
        "]\n",
        "\n",
        "compile_info_bilstm_two_dense = {\n",
        "    'optimizer': keras.optimizers.Adam(learning_rate=0.01),   # learning_rate = 0.01\n",
        "    'loss': 'categorical_crossentropy',\n",
        "    'metrics' : ['categorical_accuracy', f1_with_tfa]\n",
        "}\n",
        "\n",
        "model_bilstm_two_dense = create_model(layers_info_bilstm_two_dense, compile_info_bilstm_two_dense)\n",
        "model_bilstm_two_dense.summary()\n",
        "history_bilstm_two_dense = model_bilstm_two_dense.fit(X_train, Y_train, epochs=epochs_training, batch_size=batch_size_training, validation_data=(X_val, Y_val), callbacks=callbacks_training)"
      ],
      "metadata": {
        "id": "Jr4RAF6Q0--W"
      },
      "execution_count": null,
      "outputs": []
    },
    {
      "cell_type": "code",
      "source": [
        "path_model_weights = os.path.join(os.getcwd(), 'models', 'weights')"
      ],
      "metadata": {
        "id": "OuqtG9UGAzzd"
      },
      "execution_count": null,
      "outputs": []
    },
    {
      "cell_type": "code",
      "source": [
        "# store models weights\n",
        "\n",
        "model_bilstm.save_weights(os.path.join(path_model_weights, 'weights_bilstm.h5'))\n",
        "model_bigru.save_weights(os.path.join(path_model_weights, 'weights_bigru.h5'))\n",
        "model_two_bilstm.save_weights(os.path.join(path_model_weights, 'weights_two_bilstm.h5'))\n",
        "model_bilstm_two_dense.save_weights(os.path.join(path_model_weights, 'weights_bilstm_two_dense.h5'))\n"
      ],
      "metadata": {
        "id": "BWcd2Aai-CVB"
      },
      "execution_count": null,
      "outputs": []
    },
    {
      "cell_type": "code",
      "source": [
        "path_model_weights = os.path.join(os.getcwd(), 'models', 'history')\n",
        "os.mkdir(path_model_weights)"
      ],
      "metadata": {
        "colab": {
          "base_uri": "https://localhost:8080/",
          "height": 182
        },
        "id": "ONAtd7WJCthx",
        "outputId": "e08c3989-52ae-4ccb-c63a-e945512e5605"
      },
      "execution_count": null,
      "outputs": [
        {
          "output_type": "error",
          "ename": "FileExistsError",
          "evalue": "ignored",
          "traceback": [
            "\u001b[0;31m---------------------------------------------------------------------------\u001b[0m",
            "\u001b[0;31mFileExistsError\u001b[0m                           Traceback (most recent call last)",
            "\u001b[0;32m<ipython-input-54-7d20e52a8800>\u001b[0m in \u001b[0;36m<module>\u001b[0;34m\u001b[0m\n\u001b[1;32m      1\u001b[0m \u001b[0mpath_model_weights\u001b[0m \u001b[0;34m=\u001b[0m \u001b[0mos\u001b[0m\u001b[0;34m.\u001b[0m\u001b[0mpath\u001b[0m\u001b[0;34m.\u001b[0m\u001b[0mjoin\u001b[0m\u001b[0;34m(\u001b[0m\u001b[0mos\u001b[0m\u001b[0;34m.\u001b[0m\u001b[0mgetcwd\u001b[0m\u001b[0;34m(\u001b[0m\u001b[0;34m)\u001b[0m\u001b[0;34m,\u001b[0m \u001b[0;34m'models'\u001b[0m\u001b[0;34m,\u001b[0m \u001b[0;34m'history'\u001b[0m\u001b[0;34m)\u001b[0m\u001b[0;34m\u001b[0m\u001b[0;34m\u001b[0m\u001b[0m\n\u001b[0;32m----> 2\u001b[0;31m \u001b[0mos\u001b[0m\u001b[0;34m.\u001b[0m\u001b[0mmkdir\u001b[0m\u001b[0;34m(\u001b[0m\u001b[0mpath_model_weights\u001b[0m\u001b[0;34m)\u001b[0m\u001b[0;34m\u001b[0m\u001b[0;34m\u001b[0m\u001b[0m\n\u001b[0m",
            "\u001b[0;31mFileExistsError\u001b[0m: [Errno 17] File exists: '/content/models/history'"
          ]
        }
      ]
    },
    {
      "cell_type": "code",
      "source": [
        "\n",
        "    \n",
        "df_history_bilstm = pd.DataFrame(history_bilstm.history) \n",
        "with open(os.path.join(path_model_weights, \"history_bilstm.csv\"), mode=\"w\") as file:\n",
        "    df_history_bilstm.to_csv(file)\n",
        "\n",
        "df_history_bigru = pd.DataFrame(history_bigru.history)\n",
        "with open(os.path.join(path_model_weights, \"history_bigru.csv\"), mode=\"w\") as file:\n",
        "    df_history_bigru.to_csv(file)\n",
        "\n",
        "df_history_two_bilstm = pd.DataFrame(history_two_bilstm.history)\n",
        "with open(os.path.join(path_model_weights, \"history_two_bilstm.csv\"), mode=\"w\") as file:\n",
        "    df_history_two_bilstm.to_csv(file)\n",
        "\n",
        "df_history_bilstm_two_dense = pd.DataFrame(history_bilstm_two_dense.history)\n",
        "with open(os.path.join(path_model_weights, \"history_bilstm_two_dense.csv\"), mode=\"w\") as file:\n",
        "    df_history_bilstm_two_dense.to_csv(file)\n"
      ],
      "metadata": {
        "id": "a4Q-LrTJ-F9e"
      },
      "execution_count": null,
      "outputs": []
    },
    {
      "cell_type": "code",
      "source": [
        "path_model_structure = os.path.join(os.getcwd(), 'models', 'structure')\n",
        "os.mkdir(path_model_structure)"
      ],
      "metadata": {
        "id": "K9EbRiqVDBfA"
      },
      "execution_count": null,
      "outputs": []
    },
    {
      "cell_type": "code",
      "source": [
        "\n",
        "with open(os.path.join(path_model_structure, \"model_bilstm.json\"), mode=\"w\") as file:\n",
        "    file.write(model_bilstm.to_json())\n",
        "\n",
        "with open(os.path.join(path_model_structure, \"model_bigru.json\"), mode=\"w\") as file:\n",
        "    file.write(model_bigru.to_json())\n",
        "\n",
        "with open(os.path.join(path_model_structure, \"model_two_bilstm.json\"), mode=\"w\") as file:\n",
        "    file.write(model_two_bilstm.to_json())\n",
        "\n",
        "with open(os.path.join(path_model_structure, \"model_bilstm_two_dense.json\"), mode=\"w\") as file:\n",
        "    file.write(model_bilstm_two_dense.to_json())\n"
      ],
      "metadata": {
        "id": "1DIyJfha-IW1"
      },
      "execution_count": null,
      "outputs": []
    },
    {
      "cell_type": "markdown",
      "source": [
        "2.3.2 Load all the pre-trained models"
      ],
      "metadata": {
        "id": "VPIx4Jen-KFo"
      }
    },
    {
      "cell_type": "code",
      "source": [
        "from tensorflow.keras.models import model_from_json\n"
      ],
      "metadata": {
        "id": "ZjulUW9o-TGQ"
      },
      "execution_count": null,
      "outputs": []
    },
    {
      "cell_type": "code",
      "source": [
        "# load models structure\n",
        "path_model_structure = os.path.join(os.getcwd(), 'models', 'structure')\n",
        "with open(os.path.join(path_model_structure, 'model_bilstm.json'), 'r') as json_file:\n",
        "    model_bilstm_json = json_file.read()    \n",
        "    model_bilstm = model_from_json(model_bilstm_json)\n",
        "\n",
        "with open(os.path.join(path_model_structure, 'model_bigru.json'), 'r') as json_file:\n",
        "    model_bigru_json = json_file.read()    \n",
        "    model_bigru = model_from_json(model_bigru_json)\n",
        "\n",
        "with open(os.path.join(path_model_structure, 'model_two_bilstm.json'), 'r') as json_file:\n",
        "    model_two_bilstm_json = json_file.read()    \n",
        "    model_two_bilstm = model_from_json(model_two_bilstm_json)\n",
        "\n",
        "with open(os.path.join(path_model_structure, 'model_bilstm_two_dense.json'), 'r') as json_file:\n",
        "    model_bilstm_two_dense_json = json_file.read()    \n",
        "    model_bilstm_two_dense = model_from_json(model_bilstm_two_dense_json)\n"
      ],
      "metadata": {
        "id": "lN2eN9MA-KeH"
      },
      "execution_count": null,
      "outputs": []
    },
    {
      "cell_type": "code",
      "source": [
        "# load the weights\n",
        "path_model_weights = os.path.join(os.getcwd(), 'models', 'weights')\n",
        "model_bilstm.load_weights(os.path.join(path_model_weights, 'weights_bilstm.h5'))\n",
        "model_bigru.load_weights(os.path.join(path_model_weights, 'weights_bigru.h5'))\n",
        "model_two_bilstm.load_weights(os.path.join(path_model_weights, 'weights_two_bilstm.h5'))\n",
        "model_bilstm_two_dense.load_weights(os.path.join(path_model_weights, 'weights_bilstm_two_dense.h5'))\n"
      ],
      "metadata": {
        "id": "Z1cX99Be-O-3"
      },
      "execution_count": null,
      "outputs": []
    },
    {
      "cell_type": "code",
      "source": [
        "# Restore history\n",
        "cols = ['loss','categorical_accuracy','f1_with_tfa','val_loss','val_categorical_accuracy','val_f1_with_tfa']\n",
        "path_model_history = os.path.join(os.getcwd(), 'models', 'history')\n",
        "history_bilstm = pd.read_csv(os.path.join(path_model_history, \"history_bilstm.csv\"), usecols=cols)\n",
        "history_bigru = pd.read_csv(os.path.join(path_model_history, \"history_bigru.csv\"), usecols=cols)\n",
        "history_two_bilstm = pd.read_csv(os.path.join(path_model_history, \"history_two_bilstm.csv\"), usecols=cols)\n",
        "history_bilstm_two_dense = pd.read_csv(os.path.join(path_model_history, \"history_bilstm_two_dense.csv\"), usecols=cols)\n"
      ],
      "metadata": {
        "id": "ddr-CSky-ZFj"
      },
      "execution_count": null,
      "outputs": []
    },
    {
      "cell_type": "code",
      "source": [
        "epochs_training = 100\n",
        "batch_size_training = 64\n",
        "callbacks_training = [keras.callbacks.EarlyStopping(monitor='val_accuracy', patience=10, mode=\"max\", restore_best_weights=True)]"
      ],
      "metadata": {
        "id": "CXQ5wpCDI7HO"
      },
      "execution_count": 52,
      "outputs": []
    },
    {
      "cell_type": "code",
      "source": [
        "best_baseline_model = tuner.hypermodel.build(tuner.get_best_hyperparameters()[0])\n",
        "history_bilstm = best_baseline_model.fit(X_train, Y_train, epochs=epochs_training, batch_size=batch_size_training, validation_data=(X_val, Y_val), callbacks=callbacks_training)\n"
      ],
      "metadata": {
        "colab": {
          "base_uri": "https://localhost:8080/"
        },
        "id": "Q8RIV5SojjC5",
        "outputId": "6e3d2614-4207-46af-a601-fdac008f6121"
      },
      "execution_count": 56,
      "outputs": [
        {
          "output_type": "stream",
          "name": "stdout",
          "text": [
            "Epoch 1/100\n",
            "31/31 [==============================] - 14s 193ms/step - loss: 0.6629 - accuracy: 0.5147 - val_loss: 0.1919 - val_accuracy: 0.6880\n",
            "Epoch 2/100\n",
            "31/31 [==============================] - 2s 79ms/step - loss: 0.1456 - accuracy: 0.7380 - val_loss: 0.1258 - val_accuracy: 0.7502\n",
            "Epoch 3/100\n",
            "31/31 [==============================] - 2s 80ms/step - loss: 0.1151 - accuracy: 0.7770 - val_loss: 0.1190 - val_accuracy: 0.7826\n",
            "Epoch 4/100\n",
            "31/31 [==============================] - 2s 81ms/step - loss: 0.1078 - accuracy: 0.7902 - val_loss: 0.1109 - val_accuracy: 0.8018\n",
            "Epoch 5/100\n",
            "31/31 [==============================] - 2s 80ms/step - loss: 0.1022 - accuracy: 0.8028 - val_loss: 0.1112 - val_accuracy: 0.7988\n",
            "Epoch 6/100\n",
            "31/31 [==============================] - 2s 82ms/step - loss: 0.0991 - accuracy: 0.8072 - val_loss: 0.1109 - val_accuracy: 0.7932\n",
            "Epoch 7/100\n",
            "31/31 [==============================] - 2s 81ms/step - loss: 0.0941 - accuracy: 0.8179 - val_loss: 0.1045 - val_accuracy: 0.8066\n",
            "Epoch 8/100\n",
            "31/31 [==============================] - 2s 81ms/step - loss: 0.0918 - accuracy: 0.8224 - val_loss: 0.1059 - val_accuracy: 0.8033\n",
            "Epoch 9/100\n",
            "31/31 [==============================] - 2s 82ms/step - loss: 0.0936 - accuracy: 0.8177 - val_loss: 0.0962 - val_accuracy: 0.8147\n",
            "Epoch 10/100\n",
            "31/31 [==============================] - 2s 81ms/step - loss: 0.0961 - accuracy: 0.8182 - val_loss: 0.1020 - val_accuracy: 0.8013\n",
            "Epoch 11/100\n",
            "31/31 [==============================] - 2s 80ms/step - loss: 0.0929 - accuracy: 0.8202 - val_loss: 0.0963 - val_accuracy: 0.8152\n",
            "Epoch 12/100\n",
            "31/31 [==============================] - 2s 79ms/step - loss: 0.0885 - accuracy: 0.8292 - val_loss: 0.0961 - val_accuracy: 0.8251\n",
            "Epoch 13/100\n",
            "31/31 [==============================] - 2s 80ms/step - loss: 0.0859 - accuracy: 0.8354 - val_loss: 0.0941 - val_accuracy: 0.8269\n",
            "Epoch 14/100\n",
            "31/31 [==============================] - 2s 81ms/step - loss: 0.0877 - accuracy: 0.8294 - val_loss: 0.1046 - val_accuracy: 0.8071\n",
            "Epoch 15/100\n",
            "31/31 [==============================] - 3s 101ms/step - loss: 0.0891 - accuracy: 0.8284 - val_loss: 0.0898 - val_accuracy: 0.8271\n",
            "Epoch 16/100\n",
            "31/31 [==============================] - 5s 150ms/step - loss: 0.0879 - accuracy: 0.8341 - val_loss: 0.0936 - val_accuracy: 0.8214\n",
            "Epoch 17/100\n",
            "31/31 [==============================] - 3s 104ms/step - loss: 0.0834 - accuracy: 0.8383 - val_loss: 0.0935 - val_accuracy: 0.8301\n",
            "Epoch 18/100\n",
            "31/31 [==============================] - 4s 128ms/step - loss: 0.0829 - accuracy: 0.8407 - val_loss: 0.0856 - val_accuracy: 0.8418\n",
            "Epoch 19/100\n",
            "31/31 [==============================] - 4s 122ms/step - loss: 0.0811 - accuracy: 0.8448 - val_loss: 0.0911 - val_accuracy: 0.8270\n",
            "Epoch 20/100\n",
            "31/31 [==============================] - 4s 120ms/step - loss: 0.0822 - accuracy: 0.8409 - val_loss: 0.0929 - val_accuracy: 0.8259\n",
            "Epoch 21/100\n",
            "31/31 [==============================] - 3s 100ms/step - loss: 0.0848 - accuracy: 0.8383 - val_loss: 0.1009 - val_accuracy: 0.7948\n",
            "Epoch 22/100\n",
            "31/31 [==============================] - 3s 98ms/step - loss: 0.0866 - accuracy: 0.8382 - val_loss: 0.0932 - val_accuracy: 0.8204\n",
            "Epoch 23/100\n",
            "31/31 [==============================] - 2s 81ms/step - loss: 0.0815 - accuracy: 0.8446 - val_loss: 0.0922 - val_accuracy: 0.8327\n",
            "Epoch 24/100\n",
            "31/31 [==============================] - 2s 79ms/step - loss: 0.0811 - accuracy: 0.8441 - val_loss: 0.0966 - val_accuracy: 0.8188\n",
            "Epoch 25/100\n",
            "31/31 [==============================] - 2s 78ms/step - loss: 0.0813 - accuracy: 0.8442 - val_loss: 0.0940 - val_accuracy: 0.8108\n",
            "Epoch 26/100\n",
            "31/31 [==============================] - 2s 80ms/step - loss: 0.0804 - accuracy: 0.8473 - val_loss: 0.0877 - val_accuracy: 0.8444\n",
            "Epoch 27/100\n",
            "31/31 [==============================] - 2s 78ms/step - loss: 0.0810 - accuracy: 0.8463 - val_loss: 0.0954 - val_accuracy: 0.8185\n",
            "Epoch 28/100\n",
            "31/31 [==============================] - 3s 90ms/step - loss: 0.0842 - accuracy: 0.8441 - val_loss: 0.0917 - val_accuracy: 0.8353\n",
            "Epoch 29/100\n",
            "31/31 [==============================] - 3s 100ms/step - loss: 0.0783 - accuracy: 0.8530 - val_loss: 0.0924 - val_accuracy: 0.8042\n",
            "Epoch 30/100\n",
            "31/31 [==============================] - 2s 78ms/step - loss: 0.0856 - accuracy: 0.8428 - val_loss: 0.0886 - val_accuracy: 0.8284\n",
            "Epoch 31/100\n",
            "31/31 [==============================] - 2s 79ms/step - loss: 0.0786 - accuracy: 0.8523 - val_loss: 0.0900 - val_accuracy: 0.8355\n",
            "Epoch 32/100\n",
            "31/31 [==============================] - 2s 77ms/step - loss: 0.0754 - accuracy: 0.8593 - val_loss: 0.0890 - val_accuracy: 0.8446\n",
            "Epoch 33/100\n",
            "31/31 [==============================] - 2s 79ms/step - loss: 0.0761 - accuracy: 0.8581 - val_loss: 0.0875 - val_accuracy: 0.8403\n",
            "Epoch 34/100\n",
            "31/31 [==============================] - 2s 77ms/step - loss: 0.0769 - accuracy: 0.8577 - val_loss: 0.0904 - val_accuracy: 0.8362\n",
            "Epoch 35/100\n",
            "31/31 [==============================] - 2s 77ms/step - loss: 0.0775 - accuracy: 0.8560 - val_loss: 0.0946 - val_accuracy: 0.8235\n",
            "Epoch 36/100\n",
            "31/31 [==============================] - 2s 78ms/step - loss: 0.0771 - accuracy: 0.8583 - val_loss: 0.0900 - val_accuracy: 0.8419\n",
            "Epoch 37/100\n",
            "31/31 [==============================] - 2s 77ms/step - loss: 0.0764 - accuracy: 0.8603 - val_loss: 0.0893 - val_accuracy: 0.8358\n",
            "Epoch 38/100\n",
            "31/31 [==============================] - 2s 78ms/step - loss: 0.0764 - accuracy: 0.8612 - val_loss: 0.0948 - val_accuracy: 0.8180\n",
            "Epoch 39/100\n",
            "31/31 [==============================] - 2s 76ms/step - loss: 0.0791 - accuracy: 0.8550 - val_loss: 0.0964 - val_accuracy: 0.8300\n",
            "Epoch 40/100\n",
            "31/31 [==============================] - 2s 78ms/step - loss: 0.0810 - accuracy: 0.8513 - val_loss: 0.0975 - val_accuracy: 0.8293\n",
            "Epoch 41/100\n",
            "31/31 [==============================] - 2s 79ms/step - loss: 0.0790 - accuracy: 0.8584 - val_loss: 0.0903 - val_accuracy: 0.8309\n",
            "Epoch 42/100\n",
            "31/31 [==============================] - 2s 79ms/step - loss: 0.0767 - accuracy: 0.8613 - val_loss: 0.0955 - val_accuracy: 0.8385\n"
          ]
        }
      ]
    },
    {
      "cell_type": "markdown",
      "source": [
        "## History"
      ],
      "metadata": {
        "id": "Nfy1sYST-bIK"
      }
    },
    {
      "cell_type": "code",
      "source": [
        "import matplotlib.pyplot as plt \n",
        "\n"
      ],
      "metadata": {
        "id": "nEBJLzJZ-fPc"
      },
      "execution_count": null,
      "outputs": []
    },
    {
      "cell_type": "code",
      "source": [
        "def plot_history(models_history, keys, model_names=[], labels=(\"epochs\", \"metrics\"), y_scale=\"linear\", figsize=(10,5), cmap='rainbow'):\n",
        "    \"\"\"\n",
        "    Plot the history of the metrics in the history dictionary for each model.\n",
        "        :param models_history: array of dictionary of the metric history for each model\n",
        "        :param keys: list of keys of the metrics to plot\n",
        "        :param model_names: list of names of the models\n",
        "        :param labels: list of labels of the axes\n",
        "        :param figsize: size of the figure\n",
        "        :param cmap: color map used for the plot\n",
        "    \"\"\"\n",
        "\n",
        "    # maps each model to a distinct RGB color\n",
        "    cmap = plt.cm.get_cmap(cmap, len(models_history))\n",
        "\n",
        "    \n",
        "    fig = plt.figure(figsize=figsize)\n",
        "\n",
        "    # for each model trained\n",
        "    for i, history in enumerate(models_history):\n",
        "        # take all pairs of training and val metrics\n",
        "        for j in range(0, len(keys), 2):\n",
        "            metric, val_metric = keys[j], keys[j+1]\n",
        "            \n",
        "            plt.plot(history[metric], label=f\"{model_names[i]} {metric}\", linestyle=\"solid\", color=cmap(i))\n",
        "            plt.plot(history[val_metric],  label=f\"{model_names[i]} {val_metric}\", linestyle=\"--\",  color=cmap(i))\n",
        "        \n",
        "    plt.xlabel(labels[0])\n",
        "    plt.ylabel(labels[1])\n",
        "    plt.yscale(y_scale)\n",
        "\n",
        "    # Adding legend\n",
        "    plt.legend(\n",
        "          title =\"Legend\",\n",
        "          loc =\"best\",\n",
        "          bbox_to_anchor=(1.0,0.6))\n",
        "    plt.title(\"Training history\")\n",
        "    plt.grid(linestyle='--', linewidth=1)\n",
        "    plt.show()"
      ],
      "metadata": {
        "id": "TetwUETm-cub"
      },
      "execution_count": null,
      "outputs": []
    },
    {
      "cell_type": "code",
      "source": [
        "models_history = [history_bilstm, history_bigru, history_two_bilstm, history_bilstm_two_dense]\n",
        "model_names = [\"BiLSTM\", \"BiGRU\", \"2 BiLSTM\", \"BiLSTM + 2 Dense\"]\n",
        "plot_history(models_history, keys=['loss', 'val_loss'], model_names=model_names, labels=(\"epochs\", \"loss\"), y_scale=\"log\", figsize=(15,7),  cmap='bwr')\n",
        "plot_history(models_history, keys=['categorical_accuracy', 'val_categorical_accuracy'], model_names=model_names, labels=(\"epochs\", \"accuracy\"), figsize=(15,7),  cmap='bwr')\n"
      ],
      "metadata": {
        "colab": {
          "base_uri": "https://localhost:8080/",
          "height": 899
        },
        "id": "bNZ10Hhv-hAF",
        "outputId": "5f2686db-edff-44a9-ab75-202d417708a9"
      },
      "execution_count": null,
      "outputs": [
        {
          "output_type": "display_data",
          "data": {
            "text/plain": [
              "<Figure size 1080x504 with 1 Axes>"
            ],
            "image/png": "[encoded data removed]"
          },
          "metadata": {
            "needs_background": "light"
          }
        },
        {
          "output_type": "display_data",
          "data": {
            "text/plain": [
              "<Figure size 1080x504 with 1 Axes>"
            ],
            "image/png": "[encoded data removed]"
          },
          "metadata": {
            "needs_background": "light"
          }
        }
      ]
    },
    {
      "cell_type": "markdown",
      "source": [
        "### Training\n",
        "\n",
        "History of the training: leonidas"
      ],
      "metadata": {
        "id": "sqv3LGX9vS16"
      }
    },
    {
      "cell_type": "markdown",
      "source": [
        "## [Model Evaluation](https://github.com/LeonidasY/unibo-nlp-assignments/blob/main/Assignment%201/main.ipynb)\n"
      ],
      "metadata": {
        "id": "9WVSm-NNuJEz"
      }
    },
    {
      "cell_type": "code",
      "source": [
        "def get_flattened_comparison(model, X_test, y_test):\n",
        "\n",
        "    raw_y_pred = model.predict(X_test)\n",
        "\n",
        "    # converting indexes to labels\n",
        "    y_true_label = target_vectorizer.inverse_transform(y_test)\n",
        "    y_pred_label = target_vectorizer.inverse_transform_probabilities(raw_y_pred)\n",
        "\n",
        "    y_true_flat = []\n",
        "    y_pred_flat = []\n",
        "    for document_predicted, document_true in zip(y_pred_label, y_true_label):\n",
        "        for word_predicted, word_true in zip (document_predicted, document_true):\n",
        "            y_pred_flat.append(word_predicted)\n",
        "            y_true_flat.append(word_true)\n",
        "    return y_true_flat, y_pred_flat"
      ],
      "metadata": {
        "id": "az2RQepRvOkk"
      },
      "execution_count": null,
      "outputs": []
    },
    {
      "cell_type": "markdown",
      "source": [
        "1.   show_classification_report\n",
        "2.   Voce elenco\n",
        "\n"
      ],
      "metadata": {
        "id": "4R7ZR1G6usoV"
      }
    },
    {
      "cell_type": "markdown",
      "source": [
        "## [Final Error analysis](https://github.com/BeleRicks11/Part-of-speech_Tagging/blob/main/Assignment_1_FINAL.ipynb)"
      ],
      "metadata": {
        "id": "xkN1AYQAtzsa"
      }
    }
  ],
  "metadata": {
    "accelerator": "GPU",
    "colab": {
      "provenance": [],
      "collapsed_sections": [
        "PMr_2cpFm1C8",
        "bkTAn8WwsvwQ",
        "NhexfxfjhVkg",
        "RgyeB-CxiCoX",
        "gk5ksZUdiA6b",
        "jaWXFpJRpQPw",
        "xY5je0Whm51J",
        "Mb-N5c6HXxPR",
        "woZw5OORk1vy",
        "192ii6o_mflM",
        "bI6HISQ9mzrT",
        "c6do2pWDsLPK",
        "Nfy1sYST-bIK",
        "aB_BA0f0m64-",
        "PHuTpYqAfM6e",
        "46iJ5q40fM6e",
        "F9bZxYTsfM6f",
        "sqv3LGX9vS16",
        "9WVSm-NNuJEz",
        "xkN1AYQAtzsa"
      ],
      "include_colab_link": true
    },
    "gpuClass": "standard",
    "kernelspec": {
      "display_name": "Python 3.9.7 ('base')",
      "language": "python",
      "name": "python3"
    },
    "language_info": {
      "codemirror_mode": {
        "name": "ipython",
        "version": 3
      },
      "file_extension": ".py",
      "mimetype": "text/x-python",
      "name": "python",
      "nbconvert_exporter": "python",
      "pygments_lexer": "ipython3",
      "version": "3.9.7"
    },
    "vscode": {
      "interpreter": {
        "hash": "314ecf4e4f15fe22a658b1d57c99615ad4c86847edfd5102777831eb0be2d97e"
      }
    }
  },
  "nbformat": 4,
  "nbformat_minor": 0
}